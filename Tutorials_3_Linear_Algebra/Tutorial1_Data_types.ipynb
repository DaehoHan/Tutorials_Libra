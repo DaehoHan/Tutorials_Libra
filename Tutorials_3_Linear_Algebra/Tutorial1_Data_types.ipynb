{
 "cells": [
  {
   "cell_type": "markdown",
   "metadata": {},
   "source": [
    "# Tutorial 1. Basic data types of the mmath_linalg library and operations with them\n",
    "\n",
    "In this tutorial, we will learn:\n",
    "\n",
    "* what data types are available in the mmath_linalg library\n",
    "* what operations can be done with these data\n"
   ]
  },
  {
   "cell_type": "code",
   "execution_count": 1,
   "metadata": {},
   "outputs": [
    {
     "name": "stderr",
     "output_type": "stream",
     "text": [
      "/home/alexey/miniconda2/envs/py37/lib/python3.7/importlib/_bootstrap.py:219: RuntimeWarning: to-Python converter for std::vector<std::vector<int, std::allocator<int> >, std::allocator<std::vector<int, std::allocator<int> > > > already registered; second conversion method ignored.\n",
      "  return f(*args, **kwds)\n",
      "/home/alexey/miniconda2/envs/py37/lib/python3.7/importlib/_bootstrap.py:219: RuntimeWarning: to-Python converter for boost::python::detail::container_element<std::vector<std::vector<int, std::allocator<int> >, std::allocator<std::vector<int, std::allocator<int> > > >, unsigned long, boost::python::detail::final_vector_derived_policies<std::vector<std::vector<int, std::allocator<int> >, std::allocator<std::vector<int, std::allocator<int> > > >, false> > already registered; second conversion method ignored.\n",
      "  return f(*args, **kwds)\n",
      "/home/alexey/miniconda2/envs/py37/lib/python3.7/importlib/_bootstrap.py:219: RuntimeWarning: to-Python converter for std::vector<std::vector<float, std::allocator<float> >, std::allocator<std::vector<float, std::allocator<float> > > > already registered; second conversion method ignored.\n",
      "  return f(*args, **kwds)\n",
      "/home/alexey/miniconda2/envs/py37/lib/python3.7/importlib/_bootstrap.py:219: RuntimeWarning: to-Python converter for boost::python::detail::container_element<std::vector<std::vector<float, std::allocator<float> >, std::allocator<std::vector<float, std::allocator<float> > > >, unsigned long, boost::python::detail::final_vector_derived_policies<std::vector<std::vector<float, std::allocator<float> >, std::allocator<std::vector<float, std::allocator<float> > > >, false> > already registered; second conversion method ignored.\n",
      "  return f(*args, **kwds)\n",
      "/home/alexey/miniconda2/envs/py37/lib/python3.7/importlib/_bootstrap.py:219: RuntimeWarning: to-Python converter for std::vector<std::vector<double, std::allocator<double> >, std::allocator<std::vector<double, std::allocator<double> > > > already registered; second conversion method ignored.\n",
      "  return f(*args, **kwds)\n",
      "/home/alexey/miniconda2/envs/py37/lib/python3.7/importlib/_bootstrap.py:219: RuntimeWarning: to-Python converter for boost::python::detail::container_element<std::vector<std::vector<double, std::allocator<double> >, std::allocator<std::vector<double, std::allocator<double> > > >, unsigned long, boost::python::detail::final_vector_derived_policies<std::vector<std::vector<double, std::allocator<double> >, std::allocator<std::vector<double, std::allocator<double> > > >, false> > already registered; second conversion method ignored.\n",
      "  return f(*args, **kwds)\n",
      "/home/alexey/miniconda2/envs/py37/lib/python3.7/importlib/_bootstrap.py:219: RuntimeWarning: to-Python converter for std::vector<std::vector<std::complex<double>, std::allocator<std::complex<double> > >, std::allocator<std::vector<std::complex<double>, std::allocator<std::complex<double> > > > > already registered; second conversion method ignored.\n",
      "  return f(*args, **kwds)\n",
      "/home/alexey/miniconda2/envs/py37/lib/python3.7/importlib/_bootstrap.py:219: RuntimeWarning: to-Python converter for boost::python::detail::container_element<std::vector<std::vector<std::complex<double>, std::allocator<std::complex<double> > >, std::allocator<std::vector<std::complex<double>, std::allocator<std::complex<double> > > > >, unsigned long, boost::python::detail::final_vector_derived_policies<std::vector<std::vector<std::complex<double>, std::allocator<std::complex<double> > >, std::allocator<std::vector<std::complex<double>, std::allocator<std::complex<double> > > > >, false> > already registered; second conversion method ignored.\n",
      "  return f(*args, **kwds)\n"
     ]
    }
   ],
   "source": [
    "import sys\n",
    "import cmath\n",
    "import math\n",
    "import os\n",
    "\n",
    "if sys.platform==\"cygwin\":\n",
    "    from cyglibra_core import *\n",
    "elif sys.platform==\"linux\" or sys.platform==\"linux2\":\n",
    "    from liblibra_core import *\n",
    "import util.libutil as comn\n",
    "\n",
    "from libra_py import units\n",
    "import matplotlib.pyplot as plt   # plots\n",
    "#matplotlib.use('Agg')\n",
    "#%matplotlib inline \n",
    "\n",
    "import numpy as np\n",
    "#from matplotlib.mlab import griddata\n",
    "\n",
    "plt.rc('axes', titlesize=24)      # fontsize of the axes title\n",
    "plt.rc('axes', labelsize=20)      # fontsize of the x and y labels\n",
    "plt.rc('legend', fontsize=20)     # legend fontsize\n",
    "plt.rc('xtick', labelsize=16)    # fontsize of the tick labels\n",
    "plt.rc('ytick', labelsize=16)    # fontsize of the tick labels\n",
    "\n",
    "plt.rc('figure.subplot', left=0.2)\n",
    "plt.rc('figure.subplot', right=0.95)\n",
    "plt.rc('figure.subplot', bottom=0.13)\n",
    "plt.rc('figure.subplot', top=0.88)\n",
    "\n",
    "colors = {}\n",
    "\n",
    "colors.update({\"11\": \"#8b1a0e\"})  # red       \n",
    "colors.update({\"12\": \"#FF4500\"})  # orangered \n",
    "colors.update({\"13\": \"#B22222\"})  # firebrick \n",
    "colors.update({\"14\": \"#DC143C\"})  # crimson   \n",
    "\n",
    "colors.update({\"21\": \"#5e9c36\"})  # green\n",
    "colors.update({\"22\": \"#006400\"})  # darkgreen  \n",
    "colors.update({\"23\": \"#228B22\"})  # forestgreen\n",
    "colors.update({\"24\": \"#808000\"})  # olive      \n",
    "\n",
    "colors.update({\"31\": \"#8A2BE2\"})  # blueviolet\n",
    "colors.update({\"32\": \"#00008B\"})  # darkblue  \n",
    "\n",
    "colors.update({\"41\": \"#2F4F4F\"})  # darkslategray\n",
    "\n",
    "clrs_index = [\"11\", \"21\", \"31\", \"41\", \"12\", \"22\", \"32\", \"13\",\"23\", \"14\", \"24\"]"
   ]
  },
  {
   "cell_type": "markdown",
   "metadata": {},
   "source": [
    "## 1. VECTOR\n",
    "\n",
    "Objects of the `VECTOR` data type represent 3D points in Cartesian coordiantes. This is a natural data type for story coordinates, velocities, forces, and other similar properties of the physical point. \n",
    "\n",
    "Naturally, each obejct of this type has 3 components, x, y, z\n",
    "\n",
    "\n",
    "\\\\[ v = (x , y, z)^T = \n",
    "\\begin{pmatrix}\n",
    "    x \\\\\n",
    "    y \\\\\n",
    "    z \\\\\n",
    "\\end{pmatrix}  \n",
    "\\\\]      \n",
    "\n",
    "\n",
    "### 1.1. Creation and initialization\n",
    "\n",
    "The objects of this type can be created in a number of ways. The values of the components of the vector can be initialized at the moment of construction or later:"
   ]
  },
  {
   "cell_type": "code",
   "execution_count": 2,
   "metadata": {},
   "outputs": [
    {
     "name": "stdout",
     "output_type": "stream",
     "text": [
      "x = 0.0 y = 0.0 z = 0.0\n",
      "x = 1.0 y = -2.0 z = 3.0\n"
     ]
    }
   ],
   "source": [
    "# Creating and empty vector\n",
    "v1 = VECTOR()  \n",
    "print(F\"x = {v1.x} y = {v1.y} z = {v1.z}\")\n",
    "\n",
    "# Creating a vector with initialized components\n",
    "v2 = VECTOR(1.0, -2.0, 3.0)\n",
    "print(F\"x = {v2.x} y = {v2.y} z = {v2.z}\")"
   ]
  },
  {
   "cell_type": "markdown",
   "metadata": {},
   "source": [
    "Note how `VECTOR()` is equivalent to `VECTOR(0.0, 0.0, 0.0)`"
   ]
  },
  {
   "cell_type": "markdown",
   "metadata": {},
   "source": [
    "### 1.2. Copying\n",
    "\n",
    "The best way to copy a vector object is via creating a new object taking the original object (that is being copied) as an argument. This is called a copy construction"
   ]
  },
  {
   "cell_type": "code",
   "execution_count": 3,
   "metadata": {},
   "outputs": [
    {
     "name": "stdout",
     "output_type": "stream",
     "text": [
      "x = 1.0 y = -2.0 z = 3.0\n"
     ]
    }
   ],
   "source": [
    "v1 = VECTOR(1.0, -2.0, 3.0)\n",
    "v2 = VECTOR(v1)\n",
    "\n",
    "print(F\"x = {v2.x} y = {v2.y} z = {v2.z}\")"
   ]
  },
  {
   "cell_type": "markdown",
   "metadata": {},
   "source": [
    "Beware of the shallow copying (by reference).\n",
    "\n",
    "Read more about it [here](https://github.com/compchem-cybertraining/Tutorials_Python/blob/master/Tutorial1-copying.ipynb)\n",
    "\n",
    "Here is an example"
   ]
  },
  {
   "cell_type": "code",
   "execution_count": 4,
   "metadata": {},
   "outputs": [
    {
     "name": "stdout",
     "output_type": "stream",
     "text": [
      "v1 =  <liblibra_core.VECTOR object at 0x7f2b8c829630> 10.0 10.0 10.0\n",
      "v2 =  <liblibra_core.VECTOR object at 0x7f2b8c829630> 10.0 10.0 10.0\n"
     ]
    }
   ],
   "source": [
    "v1 = VECTOR()\n",
    "v2 = VECTOR()  \n",
    "\n",
    "v2 = v1  # Copying by reference!\n",
    "\n",
    "\n",
    "\n",
    "# Change v2 & print all vectors again\n",
    "v2.x, v2.y, v2.z = 10.0, 10.0, 10.0\n",
    "print(\"v1 = \", v1, v1.x, v1.y, v1.z)\n",
    "print(\"v2 = \", v2, v2.x, v2.y, v2.z)\n"
   ]
  },
  {
   "cell_type": "markdown",
   "metadata": {},
   "source": [
    "Print the initial variables"
   ]
  },
  {
   "cell_type": "code",
   "execution_count": 5,
   "metadata": {},
   "outputs": [
    {
     "name": "stdout",
     "output_type": "stream",
     "text": [
      "v1 =  <liblibra_core.VECTOR object at 0x7f2b8c829630> 10.0 10.0 10.0\n",
      "v2 =  <liblibra_core.VECTOR object at 0x7f2b8c829630> 10.0 10.0 10.0\n"
     ]
    }
   ],
   "source": [
    "print(\"v1 = \", v1, v1.x, v1.y, v1.z)\n",
    "print(\"v2 = \", v2, v2.x, v2.y, v2.z)"
   ]
  },
  {
   "cell_type": "markdown",
   "metadata": {},
   "source": [
    "Note that when we \"print\" the objects, `v1` and `v2`, we actually print their addresses - the unique identitifiers that point to the memory location that stores these objects. Note how the addresses of the two distinctly-called variables are the same.\n",
    "\n",
    "Now, lets change `v1` and print the two vectors again:"
   ]
  },
  {
   "cell_type": "code",
   "execution_count": 6,
   "metadata": {},
   "outputs": [
    {
     "name": "stdout",
     "output_type": "stream",
     "text": [
      "v1 =  <liblibra_core.VECTOR object at 0x7f2b8c829630> 0.0 -1.0 2.0\n",
      "v2 =  <liblibra_core.VECTOR object at 0x7f2b8c829630> 0.0 -1.0 2.0\n"
     ]
    }
   ],
   "source": [
    "# Change v1 & print all vectors again\n",
    "v1.x, v1.y, v1.z = 0.0, -1.0, 2.0\n",
    "print(\"v1 = \", v1, v1.x, v1.y, v1.z)\n",
    "print(\"v2 = \", v2, v2.x, v2.y, v2.z)"
   ]
  },
  {
   "cell_type": "markdown",
   "metadata": {},
   "source": [
    "Note, how changing one variable changes the other. We would get the same result if we'd change `v2` instead."
   ]
  },
  {
   "cell_type": "markdown",
   "metadata": {},
   "source": [
    "### 1.3. Data access and Arithmetics\n",
    "\n",
    "Lets create 3 vectors. "
   ]
  },
  {
   "cell_type": "code",
   "execution_count": 7,
   "metadata": {
    "scrolled": true
   },
   "outputs": [
    {
     "name": "stdout",
     "output_type": "stream",
     "text": [
      "v1: x = 0.0 y = 0.0 z = 0.0 \n",
      "v2: x = 0.0 y = 0.0 z = 0.0 \n",
      "v3: x = 0.0 y = 0.0 z = 0.0 \n"
     ]
    }
   ],
   "source": [
    "v1 = VECTOR()  \n",
    "v2 = VECTOR()  \n",
    "v3 = VECTOR()  \n",
    "\n",
    "print(F\"v1: x = {v1.x} y = {v1.y} z = {v1.z} \" )\n",
    "print(F\"v2: x = {v2.x} y = {v2.y} z = {v2.z} \" )\n",
    "print(F\"v3: x = {v3.x} y = {v3.y} z = {v3.z} \" )"
   ]
  },
  {
   "cell_type": "markdown",
   "metadata": {},
   "source": [
    "We can modify their data memebers, `x`, `y`, and `z` components directly:"
   ]
  },
  {
   "cell_type": "code",
   "execution_count": 8,
   "metadata": {
    "scrolled": true
   },
   "outputs": [
    {
     "name": "stdout",
     "output_type": "stream",
     "text": [
      "v1: x = 1.0 y = 2.0 z = 1.0 \n",
      "v2: x = -1.0 y = 3.0 z = 0.0 \n",
      "v3: x = 0.0 y = 0.0 z = 0.0 \n"
     ]
    }
   ],
   "source": [
    "v1.x, v1.y, v1.z =  1.0, 2.0, 1.0\n",
    "v2.x, v2.y, v2.z = -1.0, 3.0, 0.0\n",
    "v3.x, v3.y, v3.z =  0.0, 0.0, 0.0\n",
    "\n",
    "print(F\"v1: x = {v1.x} y = {v1.y} z = {v1.z} \" )\n",
    "print(F\"v2: x = {v2.x} y = {v2.y} z = {v2.z} \" )\n",
    "print(F\"v3: x = {v3.x} y = {v3.y} z = {v3.z} \" )"
   ]
  },
  {
   "cell_type": "markdown",
   "metadata": {},
   "source": [
    "Then we can compute their sum, ddifference, any linear combinations as:"
   ]
  },
  {
   "cell_type": "code",
   "execution_count": 9,
   "metadata": {
    "scrolled": true
   },
   "outputs": [
    {
     "name": "stdout",
     "output_type": "stream",
     "text": [
      "sum: x = 0.0 y = 5.0 z = 1.0 \n",
      "difference: x = 2.0 y = -1.0 z = 1.0 \n",
      "linear combination: x = 5.0 y = -5.0 z = 2.0 \n",
      "division: x = 0.5 y = 1.0 z = 0.5 \n",
      "multiplication: x = 2.0 y = 4.0 z = 2.0 \n"
     ]
    }
   ],
   "source": [
    "v3 = v1 + v2\n",
    "print(F\"sum: x = {v3.x} y = {v3.y} z = {v3.z} \" )\n",
    "\n",
    "v3 = v1 - v2\n",
    "print(F\"difference: x = {v3.x} y = {v3.y} z = {v3.z} \" )\n",
    "\n",
    "v3 = 2.0*v1 - v2*3.0\n",
    "print(F\"linear combination: x = {v3.x} y = {v3.y} z = {v3.z} \" )\n",
    "\n",
    "v3 = v1/2.0\n",
    "print(F\"division: x = {v3.x} y = {v3.y} z = {v3.z} \" )\n",
    "\n",
    "v3 = v1 * 2.0\n",
    "print(F\"multiplication: x = {v3.x} y = {v3.y} z = {v3.z} \" )"
   ]
  },
  {
   "cell_type": "markdown",
   "metadata": {},
   "source": [
    "We can also add/subtract a number from the vector, which is defined as adding/subtracting the same number from every element of the vector.\n",
    "\n",
    "Analogously, we can increment or decrement the vectors by a number"
   ]
  },
  {
   "cell_type": "code",
   "execution_count": 10,
   "metadata": {},
   "outputs": [
    {
     "name": "stdout",
     "output_type": "stream",
     "text": [
      "v1 : x = 1.0 y = 2.0 z = 1.0 \n",
      "v1 + 1 : x = 2.0 y = 3.0 z = 2.0 \n",
      "v1 -= 1 : x = 0.0 y = 1.0 z = 0.0 \n",
      "v1 += 1 : x = 2.0 y = 3.0 z = 2.0 \n",
      "(v1 +1) -= 1 : x = 1.0 y = 2.0 z = 1.0 \n"
     ]
    }
   ],
   "source": [
    "print(F\"v1 : x = {v1.x} y = {v1.y} z = {v1.z} \" )\n",
    "\n",
    "v3 = v1 + 1.0\n",
    "print(F\"v1 + 1 : x = {v3.x} y = {v3.y} z = {v3.z} \" )\n",
    "\n",
    "v3 = v1 - 1.0\n",
    "print(F\"v1 -= 1 : x = {v3.x} y = {v3.y} z = {v3.z} \" )\n",
    "\n",
    "v1 += 1.0\n",
    "print(F\"v1 += 1 : x = {v1.x} y = {v1.y} z = {v1.z} \" )\n",
    "\n",
    "v1 -= 1.0\n",
    "print(F\"(v1 +1) -= 1 : x = {v1.x} y = {v1.y} z = {v1.z} \" )"
   ]
  },
  {
   "cell_type": "markdown",
   "metadata": {},
   "source": [
    "The increments can also be by a vector:"
   ]
  },
  {
   "cell_type": "code",
   "execution_count": 11,
   "metadata": {},
   "outputs": [
    {
     "name": "stdout",
     "output_type": "stream",
     "text": [
      " v1 : x = 0.0 y = 0.0 z = 0.0 \n",
      " v1 (after 1 increment) : x = 1.0 y = 2.0 z = 3.0 \n",
      " v1 (after 2 increments) : x = 2.0 y = 4.0 z = 6.0 \n"
     ]
    }
   ],
   "source": [
    "v1 = VECTOR()\n",
    "v2 = VECTOR(1.0, 2.0, 3.0)\n",
    "print(F\" v1 : x = {v1.x} y = {v1.y} z = {v1.z} \" )\n",
    "\n",
    "v1 += v2\n",
    "print(F\" v1 (after 1 increment) : x = {v1.x} y = {v1.y} z = {v1.z} \" )\n",
    "\n",
    "v1 += v2\n",
    "print(F\" v1 (after 2 increments) : x = {v1.x} y = {v1.y} z = {v1.z} \" )"
   ]
  },
  {
   "cell_type": "markdown",
   "metadata": {},
   "source": [
    "The vectors can be scaled:"
   ]
  },
  {
   "cell_type": "code",
   "execution_count": 12,
   "metadata": {},
   "outputs": [
    {
     "name": "stdout",
     "output_type": "stream",
     "text": [
      "Original v1 : x = 2.0 y = 4.0 z = 6.0 \n",
      "Scaled by multiplication v1 : x = 4.0 y = 8.0 z = 12.0 \n",
      "Scaled by division v1 : x = 2.0 y = 4.0 z = 6.0 \n"
     ]
    }
   ],
   "source": [
    "v2 = VECTOR(v1)\n",
    "print(F\"Original v1 : x = {v2.x} y = {v2.y} z = {v2.z} \" )\n",
    "\n",
    "v2 *= 2.0\n",
    "print(F\"Scaled by multiplication v1 : x = {v2.x} y = {v2.y} z = {v2.z} \" )\n",
    "\n",
    "v2 /= 2.0\n",
    "print(F\"Scaled by division v1 : x = {v2.x} y = {v2.y} z = {v2.z} \" )"
   ]
  },
  {
   "cell_type": "markdown",
   "metadata": {},
   "source": [
    "### 1.4. Methods of the VECTOR class\n",
    "\n",
    "The is a number of functions to compute properties of the vectors, including the computation of:\n",
    "\n",
    "* the squared norm, `length2`\n",
    "\n",
    "  $$ ||v||^2 = x^2 + y^2 + z^2  $$\n",
    "\n",
    "* the norm, `length`\n",
    "\n",
    "  $$ ||v|| = \\sqrt{x^2 + y^2 + z^2}  $$\n",
    "  \n",
    "    "
   ]
  },
  {
   "cell_type": "code",
   "execution_count": 16,
   "metadata": {},
   "outputs": [
    {
     "name": "stdout",
     "output_type": "stream",
     "text": [
      "v1: x = 1.0 y = 1.0 z = 3.0 \n",
      "|v1|^2 =  11.0\n",
      "|v1| =  3.3166247903554\n"
     ]
    }
   ],
   "source": [
    "v1 = VECTOR(1.0, 1.0, 3.0)\n",
    "print(F\"v1: x = {v1.x} y = {v1.y} z = {v1.z} \" )\n",
    "\n",
    "print(F\"|v1|^2 = \", v1.length2())\n",
    "print(F\"|v1| = \", v1.length())"
   ]
  },
  {
   "cell_type": "markdown",
   "metadata": {},
   "source": [
    "We can also:\n",
    "\n",
    "* normalize the original vector, `normalize`\n",
    "\n",
    "  $$ v -> v = \\frac{v}{||v||}$$\n",
    "\n",
    "* or return the normalized (unit vector) without affecting the original one, `unit`\n",
    "\n",
    "  $$ u = \\frac{v}{||v||}$$"
   ]
  },
  {
   "cell_type": "code",
   "execution_count": 18,
   "metadata": {},
   "outputs": [
    {
     "name": "stdout",
     "output_type": "stream",
     "text": [
      "v: x = 1.0 y = 1.0 z = 4.0 \n",
      "u: x = 0.23570226039551587 y = 0.23570226039551587 z = 0.9428090415820635 \n",
      "v: x = 0.23570226039551587 y = 0.23570226039551587 z = 0.9428090415820635 \n"
     ]
    }
   ],
   "source": [
    "v = VECTOR(1.0, 1.0, 4.0)\n",
    "u = v.unit()\n",
    "print(F\"v: x = {v.x} y = {v.y} z = {v.z} \" )\n",
    "print(F\"u: x = {u.x} y = {u.y} z = {u.z} \" )\n",
    "\n",
    "v.normalize()\n",
    "print(F\"v: x = {v.x} y = {v.y} z = {v.z} \" )"
   ]
  },
  {
   "cell_type": "markdown",
   "metadata": {},
   "source": [
    "We can compute the cross product of 2 vectors:\n",
    "\n",
    "$$\n",
    "u \\times v = \n",
    "\\begin{vmatrix}\n",
    "    i & j & k \\\\\n",
    "    u_x & u_y & u_z \\\\\n",
    "    v_x & v_y & v_z \\\\    \n",
    "\\end{vmatrix} =  \\\\\n",
    "\\begin{pmatrix}\n",
    "    u_x * v_z - u_z * v_y \\\\\n",
    "    u_z * v_x - u_x * v_z \\\\\n",
    "    u_x * v_y - u_y * v_x \\\\    \n",
    "\\end{pmatrix}  \n",
    "$$\n"
   ]
  },
  {
   "cell_type": "code",
   "execution_count": 19,
   "metadata": {},
   "outputs": [
    {
     "name": "stdout",
     "output_type": "stream",
     "text": [
      "v1: x = 1.0 y = 0.0 z = 0.0 \n",
      "v2: x = 0.0 y = 1.0 z = 0.0 \n",
      "v1 x v2 = 0.0 y = 0.0 z = 1.0 \n",
      "v2 x v1 = 0.0 y = 0.0 z = -1.0 \n",
      "v1 x v1 = 0.0 y = 0.0 z = 0.0 \n"
     ]
    }
   ],
   "source": [
    "v1 = VECTOR(1.0, 0.0, 0.0)\n",
    "v2 = VECTOR(0.0, 1.0, 0.0)\n",
    "v3 = VECTOR()\n",
    "print(F\"v1: x = {v1.x} y = {v1.y} z = {v1.z} \" )\n",
    "print(F\"v2: x = {v2.x} y = {v2.y} z = {v2.z} \" )\n",
    "\n",
    "\n",
    "v3.cross(v1,v2)\n",
    "print(F\"v1 x v2 = {v3.x} y = {v3.y} z = {v3.z} \" )\n",
    "\n",
    "v3.cross(v2,v1)\n",
    "print(F\"v2 x v1 = {v3.x} y = {v3.y} z = {v3.z} \" )\n",
    "\n",
    "v3.cross(v1,v1)\n",
    "print(F\"v1 x v1 = {v3.x} y = {v3.y} z = {v3.z} \" )"
   ]
  },
  {
   "cell_type": "markdown",
   "metadata": {},
   "source": [
    "And, of course, we have the dot product:\n",
    "\n",
    "$$\n",
    " v * u = ( v, u )  = v_x * u_x + v_y * u_y + v_z * u_z\n",
    "$$"
   ]
  },
  {
   "cell_type": "code",
   "execution_count": 22,
   "metadata": {},
   "outputs": [
    {
     "name": "stdout",
     "output_type": "stream",
     "text": [
      "v1: x = 1.0 y = 3.0 z = 1.0 \n",
      "v2: x = 2.0 y = 1.0 z = 4.0 \n",
      "v1 * v2 = 9.0 \n"
     ]
    }
   ],
   "source": [
    "v1 = VECTOR(1.0, 3.0, 1.0)\n",
    "v2 = VECTOR(2.0, 1.0, 4.0)\n",
    "print(F\"v1: x = {v1.x} y = {v1.y} z = {v1.z} \" )\n",
    "print(F\"v2: x = {v2.x} y = {v2.y} z = {v2.z} \" )\n",
    "\n",
    "v12 = v1 * v2\n",
    "print(F\"v1 * v2 = {v12} \" )"
   ]
  },
  {
   "cell_type": "markdown",
   "metadata": {},
   "source": [
    "### 1.5. Arrays of vectors\n",
    "\n",
    "We have a data type, `VECTORList`, that in C++ looks like vector< VECTOR > and represents a list of objects, each of which is a VECTOR object.\n",
    "\n",
    "In Python, this can be just mimicked by a list of VECTOR objects:"
   ]
  },
  {
   "cell_type": "code",
   "execution_count": 24,
   "metadata": {},
   "outputs": [
    {
     "name": "stdout",
     "output_type": "stream",
     "text": [
      "[<liblibra_core.VECTOR object at 0x7f2b8c801430>, <liblibra_core.VECTOR object at 0x7f2b8c801570>, <liblibra_core.VECTOR object at 0x7f2b65983630>]\n",
      "0: v = <liblibra_core.VECTOR object at 0x7f2b8c801430> x = 1.0 y = 3.0 z = 1.0 \n",
      "1: v = <liblibra_core.VECTOR object at 0x7f2b8c801570> x = 2.0 y = 1.0 z = 4.0 \n",
      "2: v = <liblibra_core.VECTOR object at 0x7f2b65983630> x = 1.0 y = 0.0 z = -4.0 \n"
     ]
    }
   ],
   "source": [
    "vlst = VECTORList()\n",
    "\n",
    "v1 = VECTOR(1.0, 3.0, 1.0)\n",
    "v2 = VECTOR(2.0, 1.0, 4.0)\n",
    "v3 = VECTOR(1.0, 0.0, -4.0)\n",
    "\n",
    "vlst = [v1, v2, v3]\n",
    "print(vlst)\n",
    "\n",
    "for i in range(3):\n",
    "    print(F\"{i}: v = {vlst[i]} x = {vlst[i].x} y = {vlst[i].y} z = {vlst[i].z} \")"
   ]
  },
  {
   "cell_type": "code",
   "execution_count": null,
   "metadata": {},
   "outputs": [],
   "source": []
  }
 ],
 "metadata": {
  "kernelspec": {
   "display_name": "Python 3",
   "language": "python",
   "name": "python3"
  },
  "language_info": {
   "codemirror_mode": {
    "name": "ipython",
    "version": 3
   },
   "file_extension": ".py",
   "mimetype": "text/x-python",
   "name": "python",
   "nbconvert_exporter": "python",
   "pygments_lexer": "ipython3",
   "version": "3.7.6"
  }
 },
 "nbformat": 4,
 "nbformat_minor": 4
}
