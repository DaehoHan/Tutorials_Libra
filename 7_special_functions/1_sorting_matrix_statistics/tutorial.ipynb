{
 "cells": [
  {
   "cell_type": "markdown",
   "metadata": {},
   "source": [
    "# Some special functions\n",
    "\n",
    "In this tutorial, we will learn:\n",
    "\n",
    "* the `merge_sort` function \n",
    "\n"
   ]
  },
  {
   "cell_type": "code",
   "execution_count": 1,
   "metadata": {},
   "outputs": [
    {
     "name": "stderr",
     "output_type": "stream",
     "text": [
      "/home/alexey/miniconda2/envs/py37/lib/python3.7/importlib/_bootstrap.py:219: RuntimeWarning: to-Python converter for std::vector<std::vector<int, std::allocator<int> >, std::allocator<std::vector<int, std::allocator<int> > > > already registered; second conversion method ignored.\n",
      "  return f(*args, **kwds)\n",
      "/home/alexey/miniconda2/envs/py37/lib/python3.7/importlib/_bootstrap.py:219: RuntimeWarning: to-Python converter for boost::python::detail::container_element<std::vector<std::vector<int, std::allocator<int> >, std::allocator<std::vector<int, std::allocator<int> > > >, unsigned long, boost::python::detail::final_vector_derived_policies<std::vector<std::vector<int, std::allocator<int> >, std::allocator<std::vector<int, std::allocator<int> > > >, false> > already registered; second conversion method ignored.\n",
      "  return f(*args, **kwds)\n",
      "/home/alexey/miniconda2/envs/py37/lib/python3.7/importlib/_bootstrap.py:219: RuntimeWarning: to-Python converter for std::vector<std::vector<float, std::allocator<float> >, std::allocator<std::vector<float, std::allocator<float> > > > already registered; second conversion method ignored.\n",
      "  return f(*args, **kwds)\n",
      "/home/alexey/miniconda2/envs/py37/lib/python3.7/importlib/_bootstrap.py:219: RuntimeWarning: to-Python converter for boost::python::detail::container_element<std::vector<std::vector<float, std::allocator<float> >, std::allocator<std::vector<float, std::allocator<float> > > >, unsigned long, boost::python::detail::final_vector_derived_policies<std::vector<std::vector<float, std::allocator<float> >, std::allocator<std::vector<float, std::allocator<float> > > >, false> > already registered; second conversion method ignored.\n",
      "  return f(*args, **kwds)\n",
      "/home/alexey/miniconda2/envs/py37/lib/python3.7/importlib/_bootstrap.py:219: RuntimeWarning: to-Python converter for std::vector<std::vector<double, std::allocator<double> >, std::allocator<std::vector<double, std::allocator<double> > > > already registered; second conversion method ignored.\n",
      "  return f(*args, **kwds)\n",
      "/home/alexey/miniconda2/envs/py37/lib/python3.7/importlib/_bootstrap.py:219: RuntimeWarning: to-Python converter for boost::python::detail::container_element<std::vector<std::vector<double, std::allocator<double> >, std::allocator<std::vector<double, std::allocator<double> > > >, unsigned long, boost::python::detail::final_vector_derived_policies<std::vector<std::vector<double, std::allocator<double> >, std::allocator<std::vector<double, std::allocator<double> > > >, false> > already registered; second conversion method ignored.\n",
      "  return f(*args, **kwds)\n",
      "/home/alexey/miniconda2/envs/py37/lib/python3.7/importlib/_bootstrap.py:219: RuntimeWarning: to-Python converter for std::vector<std::vector<std::complex<double>, std::allocator<std::complex<double> > >, std::allocator<std::vector<std::complex<double>, std::allocator<std::complex<double> > > > > already registered; second conversion method ignored.\n",
      "  return f(*args, **kwds)\n",
      "/home/alexey/miniconda2/envs/py37/lib/python3.7/importlib/_bootstrap.py:219: RuntimeWarning: to-Python converter for boost::python::detail::container_element<std::vector<std::vector<std::complex<double>, std::allocator<std::complex<double> > >, std::allocator<std::vector<std::complex<double>, std::allocator<std::complex<double> > > > >, unsigned long, boost::python::detail::final_vector_derived_policies<std::vector<std::vector<std::complex<double>, std::allocator<std::complex<double> > >, std::allocator<std::vector<std::complex<double>, std::allocator<std::complex<double> > > > >, false> > already registered; second conversion method ignored.\n",
      "  return f(*args, **kwds)\n"
     ]
    }
   ],
   "source": [
    "import sys\n",
    "import cmath\n",
    "import math\n",
    "import os\n",
    "\n",
    "if sys.platform==\"cygwin\":\n",
    "    from cyglibra_core import *\n",
    "elif sys.platform==\"linux\" or sys.platform==\"linux2\":\n",
    "    from liblibra_core import *\n",
    "import util.libutil as comn\n",
    "\n",
    "from libra_py import units\n",
    "from libra_py import data_outs\n",
    "import matplotlib.pyplot as plt   # plots\n",
    "#matplotlib.use('Agg')\n",
    "#%matplotlib inline \n",
    "\n",
    "import numpy as np\n",
    "#from matplotlib.mlab import griddata\n",
    "\n",
    "plt.rc('axes', titlesize=24)      # fontsize of the axes title\n",
    "plt.rc('axes', labelsize=20)      # fontsize of the x and y labels\n",
    "plt.rc('legend', fontsize=20)     # legend fontsize\n",
    "plt.rc('xtick', labelsize=16)    # fontsize of the tick labels\n",
    "plt.rc('ytick', labelsize=16)    # fontsize of the tick labels\n",
    "\n",
    "plt.rc('figure.subplot', left=0.2)\n",
    "plt.rc('figure.subplot', right=0.95)\n",
    "plt.rc('figure.subplot', bottom=0.13)\n",
    "plt.rc('figure.subplot', top=0.88)\n",
    "\n",
    "colors = {}\n",
    "\n",
    "colors.update({\"11\": \"#8b1a0e\"})  # red       \n",
    "colors.update({\"12\": \"#FF4500\"})  # orangered \n",
    "colors.update({\"13\": \"#B22222\"})  # firebrick \n",
    "colors.update({\"14\": \"#DC143C\"})  # crimson   \n",
    "\n",
    "colors.update({\"21\": \"#5e9c36\"})  # green\n",
    "colors.update({\"22\": \"#006400\"})  # darkgreen  \n",
    "colors.update({\"23\": \"#228B22\"})  # forestgreen\n",
    "colors.update({\"24\": \"#808000\"})  # olive      \n",
    "\n",
    "colors.update({\"31\": \"#8A2BE2\"})  # blueviolet\n",
    "colors.update({\"32\": \"#00008B\"})  # darkblue  \n",
    "\n",
    "colors.update({\"41\": \"#2F4F4F\"})  # darkslategray\n",
    "\n",
    "clrs_index = [\"11\", \"21\", \"31\", \"41\", \"12\", \"22\", \"32\", \"13\",\"23\", \"14\", \"24\"]"
   ]
  },
  {
   "cell_type": "markdown",
   "metadata": {},
   "source": [
    "## 1. Some general-purpose functions\n",
    "\n",
    "### 1.1. Sorting with `merge_sort`\n",
    "\n",
    "This function sorts a list of 2-element lists according to the second element of each list.\n",
    "\n",
    "As as example, consider enumerated elevation levels (or whatever you may think of as the meaning for the second element's value).\n",
    "\n",
    "The returned list contains the entries soted according to increasing of the second value, but the first values are still associated with the second ones, so you can know what was the index of the new i-th element of the resulting list.\n"
   ]
  },
  {
   "cell_type": "code",
   "execution_count": 2,
   "metadata": {},
   "outputs": [
    {
     "name": "stdout",
     "output_type": "stream",
     "text": [
      "unsorted list = [[0, 0.0], [1, 0.3], [2, 0.2], [3, 0.4], [4, -0.1]]\n",
      "sorted list = [[4, -0.1], [0, 0.0], [2, 0.2], [1, 0.3], [3, 0.4]]\n"
     ]
    }
   ],
   "source": [
    "# Creating and empty vector\n",
    "unsorted_list = [\n",
    "     [0, 0.0],\n",
    "     [1, 0.3],\n",
    "     [2, 0.2],\n",
    "     [3, 0.4],\n",
    "     [4, -0.1]\n",
    "]\n",
    "\n",
    "sorted_list = merge_sort(unsorted_list)\n",
    "\n",
    "print(F\"unsorted list = {unsorted_list}\")\n",
    "print(F\"sorted list = {sorted_list}\")"
   ]
  },
  {
   "cell_type": "markdown",
   "metadata": {},
   "source": [
    "### 1.2. Generating random sequences of integers with `randperm`\n",
    "\n",
    "If we want to draw `n` integers out of `range(0, m)` list of integers (without repetitions) and store the resulting vector of integers in a variable `perm`, we do:\n",
    "\n",
    "\n",
    "    randperm(n, m, perm)\n",
    "    \n",
    "\n",
    "Here, the `perm` variable should be a C++ list of integers ( vector < int > ), which is known on the Python level as \n",
    "`intList` type\n",
    "\n",
    "In the example below, we generate 5 random 3-element vectors, whose elements could be any integers from 0 to 9 including:"
   ]
  },
  {
   "cell_type": "code",
   "execution_count": 3,
   "metadata": {},
   "outputs": [
    {
     "name": "stdout",
     "output_type": "stream",
     "text": [
      "Permutation 0: [2, 5, 1]\n",
      "Permutation 1: [6, 4, 0]\n",
      "Permutation 2: [9, 0, 7]\n",
      "Permutation 3: [7, 2, 6]\n",
      "Permutation 4: [0, 3, 1]\n"
     ]
    }
   ],
   "source": [
    "permutation = intList()\n",
    "\n",
    "for i in range(5):    \n",
    "    res = randperm(3, 10, permutation)    \n",
    "    print(F\"Permutation {i}: {Cpp2Py(permutation)}\")"
   ]
  },
  {
   "cell_type": "markdown",
   "metadata": {},
   "source": [
    "Before printing the result as a genuine Python list, we convert the `intList` data type to Python list, using the `Cpp2Py` function\n",
    "\n",
    "Here is another example:\n",
    "In this case we generate 3-element vectors of numbers from 0 to 2 inclusing, which could be understood as permutations of the original list \\[0, 1, 2\\]"
   ]
  },
  {
   "cell_type": "code",
   "execution_count": 4,
   "metadata": {},
   "outputs": [
    {
     "name": "stdout",
     "output_type": "stream",
     "text": [
      "Permutation 0: [2, 1, 0]\n",
      "Permutation 1: [0, 1, 2]\n",
      "Permutation 2: [0, 2, 1]\n",
      "Permutation 3: [1, 0, 2]\n",
      "Permutation 4: [1, 0, 2]\n"
     ]
    }
   ],
   "source": [
    "permutation = intList()\n",
    "\n",
    "for i in range(5):    \n",
    "    res = randperm(3, 3, permutation)    \n",
    "    print(F\"Permutation {i}: {Cpp2Py(permutation)}\")"
   ]
  },
  {
   "cell_type": "markdown",
   "metadata": {},
   "source": [
    "## 2. Some statistical functions working on `MATRIX` and `CMATRIX` data\n",
    "\n",
    "### 2.1. Computing the averages of each row of the matrices with `mean`\n",
    "\n",
    "Input is an N x M matrix, the output is an N x 1 matrix - a vector containing the averages of each row.\n",
    "\n",
    "$$\n",
    "<X_i> = \\sum_{j=0}^{N-1} { X_{ij} }    \\forall i \\in 0, ... N-1\n",
    "$$"
   ]
  },
  {
   "cell_type": "code",
   "execution_count": 5,
   "metadata": {},
   "outputs": [
    {
     "name": "stdout",
     "output_type": "stream",
     "text": [
      "Averages row-wise:\n",
      "1.0  \n",
      "2.0  \n",
      "3.0  \n"
     ]
    }
   ],
   "source": [
    "X = MATRIX(3,3)\n",
    "X.set(0, 0, 1.0);  X.set(0, 1, 1.0); X.set(0, 2, 1.0);\n",
    "X.set(1, 0, 2.0);  X.set(1, 1, 2.0); X.set(1, 2, 2.0);\n",
    "X.set(2, 0, 3.0);  X.set(2, 1, 3.0); X.set(2, 2, 3.0);\n",
    "\n",
    "print(\"Averages row-wise:\")\n",
    "data_outs.print_matrix(mean(X))\n"
   ]
  },
  {
   "cell_type": "markdown",
   "metadata": {},
   "source": [
    "If you need to compute the averaged of the columns, you can use transpositions, for instance:"
   ]
  },
  {
   "cell_type": "code",
   "execution_count": 6,
   "metadata": {},
   "outputs": [
    {
     "name": "stdout",
     "output_type": "stream",
     "text": [
      "Averages column-wise:\n",
      "2.0  2.0  2.0  \n"
     ]
    }
   ],
   "source": [
    "print(\"Averages column-wise:\")\n",
    "data_outs.print_matrix(mean(X.T()).T())"
   ]
  },
  {
   "cell_type": "markdown",
   "metadata": {},
   "source": [
    "### 2.2. Computing the deviations of each row of the matrices with `deviation`\n",
    "\n",
    "Input is an N x M matrix, the output is an N x M matrix that is equal to the original matrix minus the averages over the rows:\n",
    "\n",
    "$$\n",
    "\\tilde X_{ij} -> \\tilde X_{ij} = X_{ij} - <X_i>  \\forall i, j \\in 0, ... N-1\n",
    "$$\n",
    "\n",
    "Here is a trivial example"
   ]
  },
  {
   "cell_type": "code",
   "execution_count": 7,
   "metadata": {},
   "outputs": [
    {
     "name": "stdout",
     "output_type": "stream",
     "text": [
      "Averages row-wise:\n",
      "0.0  0.0  0.0  \n",
      "0.0  0.0  0.0  \n",
      "0.0  0.0  0.0  \n"
     ]
    }
   ],
   "source": [
    "X = MATRIX(3,3)\n",
    "X.set(0, 0, 1.0);  X.set(0, 1, 1.0); X.set(0, 2, 1.0);\n",
    "X.set(1, 0, 2.0);  X.set(1, 1, 2.0); X.set(1, 2, 2.0);\n",
    "X.set(2, 0, 3.0);  X.set(2, 1, 3.0); X.set(2, 2, 3.0);\n",
    "\n",
    "print(\"Averages row-wise:\")\n",
    "data_outs.print_matrix(deviation(X))"
   ]
  },
  {
   "cell_type": "markdown",
   "metadata": {},
   "source": [
    "Here is another, less trivial example"
   ]
  },
  {
   "cell_type": "code",
   "execution_count": 8,
   "metadata": {},
   "outputs": [
    {
     "name": "stdout",
     "output_type": "stream",
     "text": [
      "Averages row-wise:\n",
      "1.0  -1.0  0.0  \n",
      "-1.3333333333333333  0.6666666666666667  0.6666666666666667  \n",
      "0.0  0.0  0.0  \n"
     ]
    }
   ],
   "source": [
    "X = MATRIX(3,3)\n",
    "X.set(0, 0, 1.0);  X.set(0, 1, -1.0); X.set(0, 2, 0.0);\n",
    "X.set(1, 0,-1.0);  X.set(1, 1, 1.0); X.set(1, 2, 1.0);\n",
    "X.set(2, 0, 2.0);  X.set(2, 1, 2.0); X.set(2, 2, 2.0);\n",
    "\n",
    "print(\"Averages row-wise:\")\n",
    "data_outs.print_matrix(deviation(X))"
   ]
  },
  {
   "cell_type": "markdown",
   "metadata": {},
   "source": [
    "### 2.3. Computing covariance of a matrix with `covariance`\n",
    "\n",
    "Input is an N x M matrix, the output is an N x N matrix that contains the covariance of the matrix with itself\n",
    "\n",
    "$$\n",
    "cov_{ij} = < X_i * X_j > = \\frac{1}{M} \\sum_{k=0}^{M-1} {  X_{ik}  * X_{jk}  }  \\forall i \\in 0, ... N-1\n",
    "$$\n"
   ]
  },
  {
   "cell_type": "code",
   "execution_count": 9,
   "metadata": {},
   "outputs": [
    {
     "name": "stdout",
     "output_type": "stream",
     "text": [
      "Covariance:\n",
      "2.0  1.0  \n",
      "1.0  2.0  \n"
     ]
    }
   ],
   "source": [
    "X = MATRIX(2,3)\n",
    "X.set(0, 0, -2.0);  X.set(0, 1, 1.0); X.set(0, 2, 1.0);\n",
    "X.set(1, 0, -1.0);  X.set(1, 1, -1.0); X.set(1, 2, 2.0);\n",
    "\n",
    "print(\"Covariance:\")\n",
    "data_outs.print_matrix(covariance(X))"
   ]
  },
  {
   "cell_type": "markdown",
   "metadata": {},
   "source": [
    "### 2.4. Computing covariance of two matrices with an overload of the `covariance` function\n",
    "\n",
    "Input is an N x M matrix, the output is an N x N matrix that contains the covariance of the matrix with itself\n",
    "\n",
    "$$\n",
    "cov_{ij} = < X_i * Y_j > = \\frac{1}{M} \\sum_{k=0}^{M-1} {  X_{ik}  * Y_{jk}  }  \\forall i \\in 0, ... N-1\n",
    "$$\n"
   ]
  },
  {
   "cell_type": "code",
   "execution_count": 10,
   "metadata": {},
   "outputs": [
    {
     "name": "stdout",
     "output_type": "stream",
     "text": [
      "Covariance:\n",
      "1.0  0.0  \n",
      "1.0  0.0  \n"
     ]
    }
   ],
   "source": [
    "X = MATRIX(2,3)\n",
    "X.set(0, 0, -2.0);  X.set(0, 1, 1.0); X.set(0, 2, 1.0);\n",
    "X.set(1, 0, -1.0);  X.set(1, 1, -1.0); X.set(1, 2, 2.0);\n",
    "\n",
    "\n",
    "Y = MATRIX(2,3)\n",
    "Y.set(0, 0, -1.0);  Y.set(0, 1, 0.0); Y.set(0, 2, 1.0);\n",
    "\n",
    "\n",
    "print(\"Covariance:\")\n",
    "data_outs.print_matrix(covariance(X, Y))"
   ]
  }
 ],
 "metadata": {
  "kernelspec": {
   "display_name": "Python 3",
   "language": "python",
   "name": "python3"
  },
  "language_info": {
   "codemirror_mode": {
    "name": "ipython",
    "version": 3
   },
   "file_extension": ".py",
   "mimetype": "text/x-python",
   "name": "python",
   "nbconvert_exporter": "python",
   "pygments_lexer": "ipython3",
   "version": "3.7.6"
  }
 },
 "nbformat": 4,
 "nbformat_minor": 4
}
