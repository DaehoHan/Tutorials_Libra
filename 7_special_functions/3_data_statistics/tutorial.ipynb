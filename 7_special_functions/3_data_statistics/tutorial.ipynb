{
 "cells": [
  {
   "cell_type": "markdown",
   "metadata": {},
   "source": [
    "# Data statistics"
   ]
  },
  {
   "cell_type": "markdown",
   "metadata": {},
   "source": [
    "## Table of Content <a name=\"TOC\"></a>\n",
    "\n",
    "1. [General setups](#setups)\n",
    "\n",
    "2. [Descriptive statistics](#descriptive) \n",
    "\n",
    "3. [Data transformations](#transforms) \n",
    "\n",
    "4. [Computing distributions](#distribs)\n",
    "    "
   ]
  },
  {
   "cell_type": "markdown",
   "metadata": {},
   "source": [
    "### A. Learning objectives\n",
    "\n",
    "- to compute the descriptive statistics\n",
    "- to transform data by scaling and shifting\n",
    "- to compute the data distributions\n",
    "\n",
    "### B. Use cases\n",
    "\n",
    "- [Computing data probability densities](#density)\n",
    "\n",
    "\n",
    "### C. Functions\n",
    "\n",
    "None\n",
    "  \n",
    "### D. Classes and class members\n",
    "\n",
    "- `liblibra::libdata`\n",
    "  - [`DATA`](#DATA-1)\n",
    "    - [`Data`](#Data-1)\n",
    "    - [`ave`](#ave-1)\n",
    "    - [`var`](#var-1)\n",
    "    - [`sd`](#sd-1)\n",
    "    - [`se`](#se-1)\n",
    "    - [`mse`](#mse-1)\n",
    "    - [`mae`](#mae-1)\n",
    "    - [`rmse`](#rmse-1)\n",
    "    - [`min_val`](#min_val-1)\n",
    "    - [`min_indx`](#min_indx-1)\n",
    "    - [`max_val`](#max_val-1)\n",
    "    - [`max_indx`](#max_indx-1)\n",
    "    - [`scale_factor`](#scale_factor-1)\n",
    "    - [`shift_amount`](#shift_amount-1)\n",
    "    - [`LinearTransformData`](#LinearTransformData-1)\n",
    "    - [`invLinearTransformData`](#invLinearTransformData-1)\n",
    "    - [`ScaleData`](#ScaleData-1) | [also here](#ScaleData-2)\n",
    "    - [`ShiftData`](#ShiftData-1)\n",
    "    - [`NormalizeData`](#NormalizeData-1)\n",
    "    - [`Calculate_Estimators`](#Calculate_Estimators-1)\n",
    "    - [`Calculate_MiniMax`](#Calculate_MiniMax-1)\n",
    "    - [`Calculate_Distribution`](#Calculate_Distribution-1)\n",
    "- `liblibra::librandom`\n",
    "  - [`Random`](#Random-1)\n",
    "    - [`uniform`](#uniform-1)\n",
    "    - [`normal`](#normal-1)\n"
   ]
  },
  {
   "cell_type": "markdown",
   "metadata": {},
   "source": [
    "## 1. General setups\n",
    "<a name=\"setups\"></a> [Back to TOC](#TOC)"
   ]
  },
  {
   "cell_type": "code",
   "execution_count": 1,
   "metadata": {
    "scrolled": false
   },
   "outputs": [
    {
     "name": "stderr",
     "output_type": "stream",
     "text": [
      "/home/alexey/miniconda2/envs/py37/lib/python3.7/importlib/_bootstrap.py:219: RuntimeWarning: to-Python converter for std::vector<std::vector<int, std::allocator<int> >, std::allocator<std::vector<int, std::allocator<int> > > > already registered; second conversion method ignored.\n",
      "  return f(*args, **kwds)\n",
      "/home/alexey/miniconda2/envs/py37/lib/python3.7/importlib/_bootstrap.py:219: RuntimeWarning: to-Python converter for boost::python::detail::container_element<std::vector<std::vector<int, std::allocator<int> >, std::allocator<std::vector<int, std::allocator<int> > > >, unsigned long, boost::python::detail::final_vector_derived_policies<std::vector<std::vector<int, std::allocator<int> >, std::allocator<std::vector<int, std::allocator<int> > > >, false> > already registered; second conversion method ignored.\n",
      "  return f(*args, **kwds)\n",
      "/home/alexey/miniconda2/envs/py37/lib/python3.7/importlib/_bootstrap.py:219: RuntimeWarning: to-Python converter for std::vector<std::vector<float, std::allocator<float> >, std::allocator<std::vector<float, std::allocator<float> > > > already registered; second conversion method ignored.\n",
      "  return f(*args, **kwds)\n",
      "/home/alexey/miniconda2/envs/py37/lib/python3.7/importlib/_bootstrap.py:219: RuntimeWarning: to-Python converter for boost::python::detail::container_element<std::vector<std::vector<float, std::allocator<float> >, std::allocator<std::vector<float, std::allocator<float> > > >, unsigned long, boost::python::detail::final_vector_derived_policies<std::vector<std::vector<float, std::allocator<float> >, std::allocator<std::vector<float, std::allocator<float> > > >, false> > already registered; second conversion method ignored.\n",
      "  return f(*args, **kwds)\n",
      "/home/alexey/miniconda2/envs/py37/lib/python3.7/importlib/_bootstrap.py:219: RuntimeWarning: to-Python converter for std::vector<std::vector<double, std::allocator<double> >, std::allocator<std::vector<double, std::allocator<double> > > > already registered; second conversion method ignored.\n",
      "  return f(*args, **kwds)\n",
      "/home/alexey/miniconda2/envs/py37/lib/python3.7/importlib/_bootstrap.py:219: RuntimeWarning: to-Python converter for boost::python::detail::container_element<std::vector<std::vector<double, std::allocator<double> >, std::allocator<std::vector<double, std::allocator<double> > > >, unsigned long, boost::python::detail::final_vector_derived_policies<std::vector<std::vector<double, std::allocator<double> >, std::allocator<std::vector<double, std::allocator<double> > > >, false> > already registered; second conversion method ignored.\n",
      "  return f(*args, **kwds)\n",
      "/home/alexey/miniconda2/envs/py37/lib/python3.7/importlib/_bootstrap.py:219: RuntimeWarning: to-Python converter for std::vector<std::vector<std::complex<double>, std::allocator<std::complex<double> > >, std::allocator<std::vector<std::complex<double>, std::allocator<std::complex<double> > > > > already registered; second conversion method ignored.\n",
      "  return f(*args, **kwds)\n",
      "/home/alexey/miniconda2/envs/py37/lib/python3.7/importlib/_bootstrap.py:219: RuntimeWarning: to-Python converter for boost::python::detail::container_element<std::vector<std::vector<std::complex<double>, std::allocator<std::complex<double> > >, std::allocator<std::vector<std::complex<double>, std::allocator<std::complex<double> > > > >, unsigned long, boost::python::detail::final_vector_derived_policies<std::vector<std::vector<std::complex<double>, std::allocator<std::complex<double> > >, std::allocator<std::vector<std::complex<double>, std::allocator<std::complex<double> > > > >, false> > already registered; second conversion method ignored.\n",
      "  return f(*args, **kwds)\n"
     ]
    }
   ],
   "source": [
    "import math\n",
    "import sys\n",
    "import cmath\n",
    "import math\n",
    "import os\n",
    "\n",
    "if sys.platform==\"cygwin\":\n",
    "    from cyglibra_core import *\n",
    "elif sys.platform==\"linux\" or sys.platform==\"linux2\":\n",
    "    from liblibra_core import *\n",
    "import util.libutil as comn\n",
    "\n",
    "from libra_py import units\n",
    "import matplotlib.pyplot as plt   # plots\n",
    "#matplotlib.use('Agg')\n",
    "#%matplotlib inline \n",
    "\n",
    "import numpy as np\n",
    "#from matplotlib.mlab import griddata\n",
    "\n",
    "plt.rc('axes', titlesize=24)      # fontsize of the axes title\n",
    "plt.rc('axes', labelsize=20)      # fontsize of the x and y labels\n",
    "plt.rc('legend', fontsize=20)     # legend fontsize\n",
    "plt.rc('xtick', labelsize=16)    # fontsize of the tick labels\n",
    "plt.rc('ytick', labelsize=16)    # fontsize of the tick labels\n",
    "\n",
    "plt.rc('figure.subplot', left=0.2)\n",
    "plt.rc('figure.subplot', right=0.95)\n",
    "plt.rc('figure.subplot', bottom=0.13)\n",
    "plt.rc('figure.subplot', top=0.88)\n",
    "\n",
    "colors = {}\n",
    "\n",
    "colors.update({\"11\": \"#8b1a0e\"})  # red       \n",
    "colors.update({\"12\": \"#FF4500\"})  # orangered \n",
    "colors.update({\"13\": \"#B22222\"})  # firebrick \n",
    "colors.update({\"14\": \"#DC143C\"})  # crimson   \n",
    "\n",
    "colors.update({\"21\": \"#5e9c36\"})  # green\n",
    "colors.update({\"22\": \"#006400\"})  # darkgreen  \n",
    "colors.update({\"23\": \"#228B22\"})  # forestgreen\n",
    "colors.update({\"24\": \"#808000\"})  # olive      \n",
    "\n",
    "colors.update({\"31\": \"#8A2BE2\"})  # blueviolet\n",
    "colors.update({\"32\": \"#00008B\"})  # darkblue  \n",
    "\n",
    "colors.update({\"41\": \"#2F4F4F\"})  # darkslategray\n",
    "\n",
    "clrs_index = [\"11\", \"21\", \"31\", \"41\", \"12\", \"22\", \"32\", \"13\",\"23\", \"14\", \"24\"]"
   ]
  },
  {
   "cell_type": "markdown",
   "metadata": {},
   "source": [
    "## 2. Descriptive statistics\n",
    "<a name=\"descriptive\"></a>[Back to TOC](#TOC)\n",
    "\n",
    "In Libra, there is a convenience `DATA` data type defined to hold the lists of floating point numbers.\n",
    "\n",
    "Initially, it was designed to be used with the Libra's ANN functions and therefore is equipped with the descriptive statistics and data transformation functions\n",
    "<a name=\"DATA-1\"></a>"
   ]
  },
  {
   "cell_type": "code",
   "execution_count": 2,
   "metadata": {
    "scrolled": true
   },
   "outputs": [
    {
     "name": "stdout",
     "output_type": "stream",
     "text": [
      "<liblibra_core.DATA object at 0x7ff80456f9b0>\n"
     ]
    }
   ],
   "source": [
    "x = DATA([1.0, 0.5, 2.0, -0.5])\n",
    "print(x)"
   ]
  },
  {
   "cell_type": "markdown",
   "metadata": {},
   "source": [
    "Once created, the objects of such data type hold the corresponding data in the `Data` member\n",
    "<a name=\"Data-1\"></a>"
   ]
  },
  {
   "cell_type": "code",
   "execution_count": 3,
   "metadata": {},
   "outputs": [
    {
     "name": "stdout",
     "output_type": "stream",
     "text": [
      "[1.0, 0.5, 2.0, -0.5]\n"
     ]
    }
   ],
   "source": [
    "print(Cpp2Py(x.Data))"
   ]
  },
  {
   "cell_type": "markdown",
   "metadata": {},
   "source": [
    "The object `x` also holds the descriptive statistics of the data\n",
    "<a name=\"ave-1\"></a>\n",
    "- `ave`   average  \\\\[ \\bar x = \\frac{1}{N} \\sum_{i=1}^N { x_i }  \\\\]\n",
    "<a name=\"var-1\"></a>\n",
    "- `var`   variance \\\\[ Var[ x ] = \\frac{1}{N-1} \\sum_{i=1}^N { ( x_i - \\bar x )^2 } \\\\] \n",
    "<a name=\"mse-1\"></a>\n",
    "- `mse`   mean square error \\\\[ MSE [ x ]= \\frac{1}{N} \\sum_{i=1}^N { ( x_i - \\bar x )^2 } \\\\] \n",
    "<a name=\"mae-1\"></a>\n",
    "- `mae`   mean absolute error \\\\[ MAE [ x ]= \\frac{1}{N} \\sum_{i=1}^N { | x_i - \\bar x |} \\\\] \n",
    "<a name=\"sd-1\"></a>\n",
    "- `sd`    sample standard deviation (unbiased estimator for variance) \\\\[ SD[x] = \\sqrt{Var[x]} \\\\]\n",
    "<a name=\"se-1\"></a>\n",
    "- `se`    srandard deviation of the mean \\\\[  SE[x] = \\frac{1}{N} SD[x]  \\\\]\n",
    "<a name=\"rmse-1\"></a>\n",
    "- `rmse`  root mean square error \\\\[ RMSE[x] = \\sqrt{MSE[x]} \\\\]\n",
    "\n",
    "In addition, the minimal and maximal values and the indices of such values are available:\n",
    "<a name=\"min_val-1\"></a>\n",
    "- `min_val`      minimal value\n",
    "<a name=\"min_indx-1\"></a>\n",
    "- `int min_indx` index of the minimal entry\n",
    "<a name=\"max_val-1\"></a>\n",
    "- `max_val`      maximal value\n",
    "<a name=\"max_indx-1\"></a>\n",
    "- `max_indx`    index of the maximal entry\n",
    "\n",
    "Initially, these properties are not known:"
   ]
  },
  {
   "cell_type": "code",
   "execution_count": 4,
   "metadata": {},
   "outputs": [
    {
     "name": "stdout",
     "output_type": "stream",
     "text": [
      "ave =  6.9516677163375e-310\n",
      "var =  0.0\n",
      "sd =  6.951661808978e-310\n",
      "se =  0.0\n",
      "mse =  0.0\n",
      "mae =  0.0\n",
      "rmse =  0.0\n",
      "min_val = 0.0\n",
      "min_indx = 0\n",
      "max_val = 0.0\n",
      "max_indx = 0\n"
     ]
    }
   ],
   "source": [
    "print( \"ave = \",x.ave)\n",
    "print( \"var = \",x.var)\n",
    "print( \"sd = \",x.sd)\n",
    "print( \"se = \",x.se)\n",
    "print( \"mse = \",x.mse)\n",
    "print( \"mae = \",x.mae)\n",
    "print( \"rmse = \",x.rmse)\n",
    "print( \"min_val =\", x.min_val)\n",
    "print( \"min_indx =\", x.min_indx)\n",
    "print( \"max_val =\", x.max_val)\n",
    "print( \"max_indx =\", x.max_indx)"
   ]
  },
  {
   "cell_type": "markdown",
   "metadata": {},
   "source": [
    "But they can be computed using the `Calculate_Estimators` and `Calculate_MiniMax` functions\n",
    "<a name=\"Calculate_Estimators-1\"></a><a name=\"Calculate_MiniMax-1\"></a>"
   ]
  },
  {
   "cell_type": "code",
   "execution_count": 5,
   "metadata": {},
   "outputs": [],
   "source": [
    "def test_data(x):\n",
    "    x.Calculate_Estimators()\n",
    "    x.Calculate_MiniMax()\n",
    "\n",
    "    print(x)\n",
    "    print( \"ave = \",x.ave)\n",
    "    print( \"var = \",x.var)\n",
    "    print( \"sd = \",x.sd)\n",
    "    print( \"se = \",x.se)\n",
    "    print( \"mse = \",x.mse)\n",
    "    print( \"mae = \",x.mae)\n",
    "    print( \"rmse = \",x.rmse)\n",
    "    print( \"min_val =\", x.min_val)\n",
    "    print( \"min_indx =\", x.min_indx)\n",
    "    print( \"max_val =\", x.max_val)\n",
    "    print( \"max_indx =\", x.max_indx)"
   ]
  },
  {
   "cell_type": "code",
   "execution_count": 6,
   "metadata": {
    "scrolled": true
   },
   "outputs": [
    {
     "name": "stdout",
     "output_type": "stream",
     "text": [
      "<liblibra_core.DATA object at 0x7ff80456f9b0>\n",
      "ave =  0.75\n",
      "var =  1.0833333333333333\n",
      "sd =  1.0408329997330663\n",
      "se =  0.5204164998665332\n",
      "mse =  0.8125\n",
      "mae =  0.75\n",
      "rmse =  0.9013878188659973\n",
      "min_val = -0.5\n",
      "min_indx = 3\n",
      "max_val = 2.0\n",
      "max_indx = 2\n"
     ]
    }
   ],
   "source": [
    "test_data(x)"
   ]
  },
  {
   "cell_type": "markdown",
   "metadata": {},
   "source": [
    "## 3. Data Transformations\n",
    "<a name=\"transforms\"></a>[Back to TOC](#TOC)\n",
    "\n",
    "The entire data set can be rescaled uniformly \n",
    "<a name=\"ScaleData-1\"></a>"
   ]
  },
  {
   "cell_type": "code",
   "execution_count": 7,
   "metadata": {},
   "outputs": [
    {
     "name": "stdout",
     "output_type": "stream",
     "text": [
      "<liblibra_core.DATA object at 0x7ff80456f9b0>\n",
      "ave =  1.5\n",
      "var =  4.333333333333333\n",
      "sd =  2.0816659994661326\n",
      "se =  1.0408329997330663\n",
      "mse =  3.25\n",
      "mae =  1.5\n",
      "rmse =  1.8027756377319946\n",
      "min_val = -1.0\n",
      "min_indx = 3\n",
      "max_val = 4.0\n",
      "max_indx = 2\n",
      "[2.0, 1.0, 4.0, -1.0]\n"
     ]
    }
   ],
   "source": [
    "x.ScaleData(2.0)\n",
    "test_data(x)\n",
    "print(Cpp2Py(x.Data))"
   ]
  },
  {
   "cell_type": "markdown",
   "metadata": {},
   "source": [
    "We also keep track of the rescaling factors\n",
    "\n",
    "- `scale_factor`  uniform scaling factor\n",
    "- `shift_amount`  uniform shift of the data\n",
    "\n",
    "to be able to reconstruct the \"original\" data, if needed:\n",
    "<a name=\"scale_factor-1\"></a><a name=\"shift_amount-1\"></a>"
   ]
  },
  {
   "cell_type": "code",
   "execution_count": 8,
   "metadata": {},
   "outputs": [
    {
     "name": "stdout",
     "output_type": "stream",
     "text": [
      "2.0 0.0\n"
     ]
    }
   ],
   "source": [
    "print(x.scale_factor, x.shift_amount)"
   ]
  },
  {
   "cell_type": "markdown",
   "metadata": {},
   "source": [
    "For instance, if we scale the data again, we get:"
   ]
  },
  {
   "cell_type": "code",
   "execution_count": 9,
   "metadata": {},
   "outputs": [
    {
     "name": "stdout",
     "output_type": "stream",
     "text": [
      "<liblibra_core.DATA object at 0x7ff80456f9b0>\n",
      "ave =  3.0\n",
      "var =  17.333333333333332\n",
      "sd =  4.163331998932265\n",
      "se =  2.0816659994661326\n",
      "mse =  13.0\n",
      "mae =  3.0\n",
      "rmse =  3.605551275463989\n",
      "min_val = -2.0\n",
      "min_indx = 3\n",
      "max_val = 8.0\n",
      "max_indx = 2\n",
      "[4.0, 2.0, 8.0, -2.0]\n",
      "4.0 0.0\n"
     ]
    }
   ],
   "source": [
    "x.ScaleData(2.0)\n",
    "test_data(x)\n",
    "print(Cpp2Py(x.Data))\n",
    "print(x.scale_factor, x.shift_amount)"
   ]
  },
  {
   "cell_type": "markdown",
   "metadata": {},
   "source": [
    "We can simply shift the data:\n",
    "<a name=\"ShiftData-1\"></a>"
   ]
  },
  {
   "cell_type": "code",
   "execution_count": 10,
   "metadata": {},
   "outputs": [
    {
     "name": "stdout",
     "output_type": "stream",
     "text": [
      "<liblibra_core.DATA object at 0x7ff80456f9b0>\n",
      "ave =  13.0\n",
      "var =  17.333333333333332\n",
      "sd =  4.163331998932265\n",
      "se =  2.0816659994661326\n",
      "mse =  13.0\n",
      "mae =  3.0\n",
      "rmse =  3.605551275463989\n",
      "min_val = 8.0\n",
      "min_indx = 3\n",
      "max_val = 18.0\n",
      "max_indx = 2\n",
      "[14.0, 12.0, 18.0, 8.0]\n",
      "4.0 10.0\n"
     ]
    }
   ],
   "source": [
    "x.ShiftData(10.0)\n",
    "test_data(x)\n",
    "print(Cpp2Py(x.Data))\n",
    "print(x.scale_factor, x.shift_amount)"
   ]
  },
  {
   "cell_type": "markdown",
   "metadata": {},
   "source": [
    "Or we can apply the two operations on the original data sequentially:\n",
    "<a name=\"LinearTransformData-1\"></a>"
   ]
  },
  {
   "cell_type": "code",
   "execution_count": 11,
   "metadata": {
    "scrolled": true
   },
   "outputs": [
    {
     "name": "stdout",
     "output_type": "stream",
     "text": [
      "<liblibra_core.DATA object at 0x7ff7c8ca7330>\n",
      "ave =  13.0\n",
      "var =  17.333333333333332\n",
      "sd =  4.163331998932265\n",
      "se =  2.0816659994661326\n",
      "mse =  13.0\n",
      "mae =  3.0\n",
      "rmse =  3.605551275463989\n",
      "min_val = 8.0\n",
      "min_indx = 3\n",
      "max_val = 18.0\n",
      "max_indx = 2\n",
      "4.0 10.0\n"
     ]
    }
   ],
   "source": [
    "y = DATA([1.0, 0.5, 2.0, -0.5])\n",
    "\n",
    "y.LinearTransformData(4.0, 10.0)\n",
    "test_data(y)\n",
    "print(y.scale_factor, y.shift_amount)"
   ]
  },
  {
   "cell_type": "markdown",
   "metadata": {},
   "source": [
    "Note that the `LinearTransformData` applies the scaling first and the sshift next, so the inverse operation is not obtained by simply inverting/reflecting the scaling and shifting parameters, for instance:"
   ]
  },
  {
   "cell_type": "code",
   "execution_count": 12,
   "metadata": {},
   "outputs": [
    {
     "name": "stdout",
     "output_type": "stream",
     "text": [
      "<liblibra_core.DATA object at 0x7ff7c8ca7930>\n",
      "ave =  -6.75\n",
      "var =  1.0833333333333333\n",
      "sd =  1.0408329997330663\n",
      "se =  0.5204164998665332\n",
      "mse =  0.8125\n",
      "mae =  0.75\n",
      "rmse =  0.9013878188659973\n",
      "min_val = -8.0\n",
      "min_indx = 3\n",
      "max_val = -5.5\n",
      "max_indx = 2\n",
      "[-6.5, -7.0, -5.5, -8.0]\n"
     ]
    }
   ],
   "source": [
    "z = DATA(y)\n",
    "z.LinearTransformData(1.0/4.0, -10.0)\n",
    "test_data(z)\n",
    "print(Cpp2Py(z.Data))"
   ]
  },
  {
   "cell_type": "markdown",
   "metadata": {},
   "source": [
    "We can observe that the data and descriptors are different from the original reference.\n",
    "\n",
    "To recover the original data from the transformed one, we can either apply the shift and scaling transformations sequentially in the correct order:"
   ]
  },
  {
   "cell_type": "code",
   "execution_count": 13,
   "metadata": {},
   "outputs": [
    {
     "name": "stdout",
     "output_type": "stream",
     "text": [
      "4.0 0.0\n",
      "1.0 0.0\n",
      "<liblibra_core.DATA object at 0x7ff7c8cb9430>\n",
      "ave =  0.75\n",
      "var =  1.0833333333333333\n",
      "sd =  1.0408329997330663\n",
      "se =  0.5204164998665332\n",
      "mse =  0.8125\n",
      "mae =  0.75\n",
      "rmse =  0.9013878188659973\n",
      "min_val = -0.5\n",
      "min_indx = 3\n",
      "max_val = 2.0\n",
      "max_indx = 2\n",
      "[1.0, 0.5, 2.0, -0.5]\n"
     ]
    }
   ],
   "source": [
    "z = DATA(y)\n",
    "z.ShiftData(-10.0)\n",
    "print(z.scale_factor, z.shift_amount)\n",
    "z.ScaleData(1.0/4.0)\n",
    "print(z.scale_factor, z.shift_amount)\n",
    "test_data(z)\n",
    "print(Cpp2Py(z.Data))"
   ]
  },
  {
   "cell_type": "markdown",
   "metadata": {},
   "source": [
    "Or we can apply the corresponding inverse function:\n",
    "<a name=\"invLinearTransformData-1\"></a>"
   ]
  },
  {
   "cell_type": "code",
   "execution_count": 15,
   "metadata": {},
   "outputs": [
    {
     "name": "stdout",
     "output_type": "stream",
     "text": [
      "1.0 0.0\n",
      "<liblibra_core.DATA object at 0x7ff8045422b0>\n",
      "ave =  0.75\n",
      "var =  1.0833333333333333\n",
      "sd =  1.0408329997330663\n",
      "se =  0.5204164998665332\n",
      "mse =  0.8125\n",
      "mae =  0.75\n",
      "rmse =  0.9013878188659973\n",
      "min_val = -0.5\n",
      "min_indx = 3\n",
      "max_val = 2.0\n",
      "max_indx = 2\n",
      "[1.0, 0.5, 2.0, -0.5]\n"
     ]
    }
   ],
   "source": [
    "z = DATA(y)\n",
    "z.invLinearTransformData()\n",
    "print(z.scale_factor, z.shift_amount)\n",
    "test_data(z)\n",
    "print(Cpp2Py(z.Data))"
   ]
  },
  {
   "cell_type": "markdown",
   "metadata": {},
   "source": [
    "We can normalize the data such that it's variance is 1 and mean is 0.0\n",
    "<a name=\"NormalizeData-1\"></a>"
   ]
  },
  {
   "cell_type": "code",
   "execution_count": 16,
   "metadata": {},
   "outputs": [
    {
     "name": "stdout",
     "output_type": "stream",
     "text": [
      "<liblibra_core.DATA object at 0x7ff8089e4070>\n",
      "ave =  -10.0\n",
      "var =  100.0\n",
      "sd =  10.0\n",
      "se =  5.773502691896258\n",
      "mse =  66.66666666666667\n",
      "mae =  6.666666666666667\n",
      "rmse =  8.16496580927726\n",
      "min_val = -20.0\n",
      "min_indx = 0\n",
      "max_val = 0.0\n",
      "max_indx = 2\n",
      "[-20.0, -10.0, 0.0] 1.0 0.0\n",
      "<liblibra_core.DATA object at 0x7ff8089e4070>\n",
      "ave =  0.0\n",
      "var =  1.0\n",
      "sd =  1.0\n",
      "se =  0.5773502691896258\n",
      "mse =  0.6666666666666666\n",
      "mae =  0.6666666666666666\n",
      "rmse =  0.816496580927726\n",
      "min_val = -1.0\n",
      "min_indx = 0\n",
      "max_val = 1.0\n",
      "max_indx = 2\n",
      "[-1.0, 0.0, 1.0] 0.1 1.0\n"
     ]
    }
   ],
   "source": [
    "x = DATA([-20.0, -10.0, 00.0])\n",
    "test_data(x)\n",
    "print(Cpp2Py(x.Data), x.scale_factor, x.shift_amount)\n",
    "\n",
    "x.NormalizeData()\n",
    "test_data(x)\n",
    "print(Cpp2Py(x.Data), x.scale_factor, x.shift_amount)\n"
   ]
  },
  {
   "cell_type": "markdown",
   "metadata": {},
   "source": [
    "In addition, one cna choose to scale the data into a certain range (not just [-1, 1] as in the NormalizeData ). The mean is also not bound to be zero. \n",
    "\n",
    "For example:\n",
    "<a name=\"ScaleData-2\"></a>"
   ]
  },
  {
   "cell_type": "code",
   "execution_count": 18,
   "metadata": {},
   "outputs": [
    {
     "name": "stdout",
     "output_type": "stream",
     "text": [
      "<liblibra_core.DATA object at 0x7ff7c9579170>\n",
      "ave =  -10.0\n",
      "var =  100.0\n",
      "sd =  10.0\n",
      "se =  5.773502691896258\n",
      "mse =  66.66666666666667\n",
      "mae =  6.666666666666667\n",
      "rmse =  8.16496580927726\n",
      "min_val = -20.0\n",
      "min_indx = 0\n",
      "max_val = 0.0\n",
      "max_indx = 2\n",
      "[-20.0, -10.0, 0.0] 1.0 0.0\n",
      "<liblibra_core.DATA object at 0x7ff7c9579170>\n",
      "ave =  0.5\n",
      "var =  0.25\n",
      "sd =  0.5\n",
      "se =  0.2886751345948129\n",
      "mse =  0.16666666666666666\n",
      "mae =  0.3333333333333333\n",
      "rmse =  0.408248290463863\n",
      "min_val = 0.0\n",
      "min_indx = 0\n",
      "max_val = 1.0\n",
      "max_indx = 2\n",
      "[0.0, 0.5, 1.0] 0.05 1.0\n"
     ]
    }
   ],
   "source": [
    "x = DATA([-20.0, -10.0, 00.0])\n",
    "test_data(x)\n",
    "print(Cpp2Py(x.Data), x.scale_factor, x.shift_amount)\n",
    "\n",
    "x.ScaleData(0.0, 1.0)\n",
    "test_data(x)\n",
    "print(Cpp2Py(x.Data), x.scale_factor, x.shift_amount)"
   ]
  },
  {
   "cell_type": "markdown",
   "metadata": {},
   "source": [
    "## 4. Probability density and cumulative distribution function\n",
    "<a name=\"distribs\"></a>[Back to TOC](#TOC)\n",
    "\n",
    "Finally, one can use the `Calculate_Distribution` function to compute the probability density and cumulative distribution functions\n",
    "\n",
    "Here is an example - we first sample the data (100 points) from a uniform and normal distributions. We also define the base (support of the probability distribution function). Then we conduct the analysis. \n",
    "<a name=\"Calculate_Distribution-1\"></a><a name=\"density\"></a><a name=\"Random-1\"></a><a name=\"uniform-1\"></a><a name=\"normal-1\"></a>"
   ]
  },
  {
   "cell_type": "code",
   "execution_count": 23,
   "metadata": {
    "scrolled": true
   },
   "outputs": [],
   "source": [
    "x = []\n",
    "for i in range(100):\n",
    "    x.append(0.01*i)\n",
    "\n",
    "x2 = []\n",
    "for i in range(-500, 500):\n",
    "    x2.append(0.01*i)\n",
    "\n",
    "    \n",
    "rnd = Random()\n",
    "y, z = [], []\n",
    "for i in range(100000):\n",
    "    y.append(rnd.uniform(0.0, 1.0))\n",
    "    z.append(rnd.normal())\n",
    "    \n",
    "Y = DATA(y)\n",
    "Z = DATA(z)\n",
    "\n",
    "dens_y, cum_y = Y.Calculate_Distribution(x)\n",
    "dens_z, cum_z = Z.Calculate_Distribution(x2)"
   ]
  },
  {
   "cell_type": "code",
   "execution_count": 25,
   "metadata": {},
   "outputs": [
    {
     "name": "stdout",
     "output_type": "stream",
     "text": [
      "<liblibra_core.DATA object at 0x7ff8045a4430>\n",
      "ave =  -0.001686386048279643\n",
      "var =  0.985193388484811\n",
      "sd =  0.9925690849934885\n",
      "se =  0.003138779043648678\n",
      "mse =  0.985183536550926\n",
      "mae =  0.7944687634131293\n",
      "rmse =  0.9925641221356563\n",
      "min_val = -4.317131128522273\n",
      "min_indx = 62231\n",
      "max_val = 4.387076543835299\n",
      "max_indx = 68067\n"
     ]
    }
   ],
   "source": [
    "test_data(Z)"
   ]
  },
  {
   "cell_type": "code",
   "execution_count": 21,
   "metadata": {},
   "outputs": [
    {
     "data": {
      "image/png": "[encoded data removed]",
      "text/plain": [
       "<Figure size 432x288 with 1 Axes>"
      ]
     },
     "metadata": {
      "needs_background": "light"
     },
     "output_type": "display_data"
    }
   ],
   "source": [
    "plt.title('Uniform distribution function')\n",
    "plt.xlabel('x value')\n",
    "plt.ylabel('y value')\n",
    "plt.plot(x, dens_y, label='Density', linewidth=4, color = colors[\"11\"]) \n",
    "plt.plot(x, cum_y, label='CDF', linewidth=4, color = colors[\"21\"]) \n",
    "plt.legend()\n",
    "plt.show()\n",
    "plt.close()"
   ]
  },
  {
   "cell_type": "code",
   "execution_count": 24,
   "metadata": {},
   "outputs": [
    {
     "data": {
      "image/png": "[encoded data removed]",
      "text/plain": [
       "<Figure size 432x288 with 1 Axes>"
      ]
     },
     "metadata": {
      "needs_background": "light"
     },
     "output_type": "display_data"
    }
   ],
   "source": [
    "plt.title('Normal distribution function')\n",
    "plt.xlabel('x value')\n",
    "plt.ylabel('y value')\n",
    "plt.plot(x2, dens_z, label='Density', linewidth=4, color = colors[\"11\"]) \n",
    "plt.plot(x2, cum_z, label='CDF', linewidth=4, color = colors[\"21\"]) \n",
    "plt.legend()\n",
    "plt.show()\n",
    "plt.close()"
   ]
  },
  {
   "cell_type": "code",
   "execution_count": null,
   "metadata": {},
   "outputs": [],
   "source": []
  }
 ],
 "metadata": {
  "kernelspec": {
   "display_name": "Python 3",
   "language": "python",
   "name": "python3"
  },
  "language_info": {
   "codemirror_mode": {
    "name": "ipython",
    "version": 3
   },
   "file_extension": ".py",
   "mimetype": "text/x-python",
   "name": "python",
   "nbconvert_exporter": "python",
   "pygments_lexer": "ipython3",
   "version": "3.7.6"
  }
 },
 "nbformat": 4,
 "nbformat_minor": 2
}
