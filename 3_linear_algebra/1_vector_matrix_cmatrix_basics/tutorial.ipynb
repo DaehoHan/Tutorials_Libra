{
 "cells": [
  {
   "cell_type": "markdown",
   "metadata": {},
   "source": [
    "# Tutorial 1. Basic data types of the mmath_linalg and math_meigen libraries and operations with them\n",
    "\n",
    "In this tutorial, we will learn:\n",
    "\n",
    "* what data types are available in the mmath_linalg library\n",
    "* what operations can be done with these data\n"
   ]
  },
  {
   "cell_type": "code",
   "execution_count": 1,
   "metadata": {},
   "outputs": [
    {
     "name": "stderr",
     "output_type": "stream",
     "text": [
      "/home/alexey/miniconda2/envs/py37/lib/python3.7/importlib/_bootstrap.py:219: RuntimeWarning: to-Python converter for std::vector<std::vector<int, std::allocator<int> >, std::allocator<std::vector<int, std::allocator<int> > > > already registered; second conversion method ignored.\n",
      "  return f(*args, **kwds)\n",
      "/home/alexey/miniconda2/envs/py37/lib/python3.7/importlib/_bootstrap.py:219: RuntimeWarning: to-Python converter for boost::python::detail::container_element<std::vector<std::vector<int, std::allocator<int> >, std::allocator<std::vector<int, std::allocator<int> > > >, unsigned long, boost::python::detail::final_vector_derived_policies<std::vector<std::vector<int, std::allocator<int> >, std::allocator<std::vector<int, std::allocator<int> > > >, false> > already registered; second conversion method ignored.\n",
      "  return f(*args, **kwds)\n",
      "/home/alexey/miniconda2/envs/py37/lib/python3.7/importlib/_bootstrap.py:219: RuntimeWarning: to-Python converter for std::vector<std::vector<float, std::allocator<float> >, std::allocator<std::vector<float, std::allocator<float> > > > already registered; second conversion method ignored.\n",
      "  return f(*args, **kwds)\n",
      "/home/alexey/miniconda2/envs/py37/lib/python3.7/importlib/_bootstrap.py:219: RuntimeWarning: to-Python converter for boost::python::detail::container_element<std::vector<std::vector<float, std::allocator<float> >, std::allocator<std::vector<float, std::allocator<float> > > >, unsigned long, boost::python::detail::final_vector_derived_policies<std::vector<std::vector<float, std::allocator<float> >, std::allocator<std::vector<float, std::allocator<float> > > >, false> > already registered; second conversion method ignored.\n",
      "  return f(*args, **kwds)\n",
      "/home/alexey/miniconda2/envs/py37/lib/python3.7/importlib/_bootstrap.py:219: RuntimeWarning: to-Python converter for std::vector<std::vector<double, std::allocator<double> >, std::allocator<std::vector<double, std::allocator<double> > > > already registered; second conversion method ignored.\n",
      "  return f(*args, **kwds)\n",
      "/home/alexey/miniconda2/envs/py37/lib/python3.7/importlib/_bootstrap.py:219: RuntimeWarning: to-Python converter for boost::python::detail::container_element<std::vector<std::vector<double, std::allocator<double> >, std::allocator<std::vector<double, std::allocator<double> > > >, unsigned long, boost::python::detail::final_vector_derived_policies<std::vector<std::vector<double, std::allocator<double> >, std::allocator<std::vector<double, std::allocator<double> > > >, false> > already registered; second conversion method ignored.\n",
      "  return f(*args, **kwds)\n",
      "/home/alexey/miniconda2/envs/py37/lib/python3.7/importlib/_bootstrap.py:219: RuntimeWarning: to-Python converter for std::vector<std::vector<std::complex<double>, std::allocator<std::complex<double> > >, std::allocator<std::vector<std::complex<double>, std::allocator<std::complex<double> > > > > already registered; second conversion method ignored.\n",
      "  return f(*args, **kwds)\n",
      "/home/alexey/miniconda2/envs/py37/lib/python3.7/importlib/_bootstrap.py:219: RuntimeWarning: to-Python converter for boost::python::detail::container_element<std::vector<std::vector<std::complex<double>, std::allocator<std::complex<double> > >, std::allocator<std::vector<std::complex<double>, std::allocator<std::complex<double> > > > >, unsigned long, boost::python::detail::final_vector_derived_policies<std::vector<std::vector<std::complex<double>, std::allocator<std::complex<double> > >, std::allocator<std::vector<std::complex<double>, std::allocator<std::complex<double> > > > >, false> > already registered; second conversion method ignored.\n",
      "  return f(*args, **kwds)\n"
     ]
    }
   ],
   "source": [
    "import sys\n",
    "import cmath\n",
    "import math\n",
    "import os\n",
    "\n",
    "if sys.platform==\"cygwin\":\n",
    "    from cyglibra_core import *\n",
    "elif sys.platform==\"linux\" or sys.platform==\"linux2\":\n",
    "    from liblibra_core import *\n",
    "import util.libutil as comn\n",
    "\n",
    "from libra_py import units\n",
    "from libra_py import data_outs\n",
    "import matplotlib.pyplot as plt   # plots\n",
    "#matplotlib.use('Agg')\n",
    "#%matplotlib inline \n",
    "\n",
    "import numpy as np\n",
    "#from matplotlib.mlab import griddata\n",
    "\n",
    "plt.rc('axes', titlesize=24)      # fontsize of the axes title\n",
    "plt.rc('axes', labelsize=20)      # fontsize of the x and y labels\n",
    "plt.rc('legend', fontsize=20)     # legend fontsize\n",
    "plt.rc('xtick', labelsize=16)    # fontsize of the tick labels\n",
    "plt.rc('ytick', labelsize=16)    # fontsize of the tick labels\n",
    "\n",
    "plt.rc('figure.subplot', left=0.2)\n",
    "plt.rc('figure.subplot', right=0.95)\n",
    "plt.rc('figure.subplot', bottom=0.13)\n",
    "plt.rc('figure.subplot', top=0.88)\n",
    "\n",
    "colors = {}\n",
    "\n",
    "colors.update({\"11\": \"#8b1a0e\"})  # red       \n",
    "colors.update({\"12\": \"#FF4500\"})  # orangered \n",
    "colors.update({\"13\": \"#B22222\"})  # firebrick \n",
    "colors.update({\"14\": \"#DC143C\"})  # crimson   \n",
    "\n",
    "colors.update({\"21\": \"#5e9c36\"})  # green\n",
    "colors.update({\"22\": \"#006400\"})  # darkgreen  \n",
    "colors.update({\"23\": \"#228B22\"})  # forestgreen\n",
    "colors.update({\"24\": \"#808000\"})  # olive      \n",
    "\n",
    "colors.update({\"31\": \"#8A2BE2\"})  # blueviolet\n",
    "colors.update({\"32\": \"#00008B\"})  # darkblue  \n",
    "\n",
    "colors.update({\"41\": \"#2F4F4F\"})  # darkslategray\n",
    "\n",
    "clrs_index = [\"11\", \"21\", \"31\", \"41\", \"12\", \"22\", \"32\", \"13\",\"23\", \"14\", \"24\"]"
   ]
  },
  {
   "cell_type": "markdown",
   "metadata": {},
   "source": [
    "## 1. VECTOR\n",
    "\n",
    "Objects of the `VECTOR` data type represent 3D points in Cartesian coordiantes. This is a natural data type for story coordinates, velocities, forces, and other similar properties of the physical point. \n",
    "\n",
    "Naturally, each obejct of this type has 3 components, x, y, z\n",
    "\n",
    "\n",
    "\\\\[ v = (x , y, z)^T = \n",
    "\\begin{pmatrix}\n",
    "    x \\\\\n",
    "    y \\\\\n",
    "    z \\\\\n",
    "\\end{pmatrix}  \n",
    "\\\\]      \n",
    "\n",
    "\n",
    "### 1.1. Creation and initialization\n",
    "\n",
    "The objects of this type can be created in a number of ways. The values of the components of the vector can be initialized at the moment of construction or later:"
   ]
  },
  {
   "cell_type": "code",
   "execution_count": 2,
   "metadata": {},
   "outputs": [
    {
     "name": "stdout",
     "output_type": "stream",
     "text": [
      "x = 0.0 y = 0.0 z = 0.0\n",
      "x = 1.0 y = -2.0 z = 3.0\n"
     ]
    }
   ],
   "source": [
    "# Creating and empty vector\n",
    "v1 = VECTOR()  \n",
    "print(F\"x = {v1.x} y = {v1.y} z = {v1.z}\")\n",
    "\n",
    "# Creating a vector with initialized components\n",
    "v2 = VECTOR(1.0, -2.0, 3.0)\n",
    "print(F\"x = {v2.x} y = {v2.y} z = {v2.z}\")"
   ]
  },
  {
   "cell_type": "markdown",
   "metadata": {},
   "source": [
    "Note how `VECTOR()` is equivalent to `VECTOR(0.0, 0.0, 0.0)`"
   ]
  },
  {
   "cell_type": "markdown",
   "metadata": {},
   "source": [
    "### 1.2. Copying\n",
    "\n",
    "The best way to copy a vector object is via creating a new object taking the original object (that is being copied) as an argument. This is called a copy construction"
   ]
  },
  {
   "cell_type": "code",
   "execution_count": 3,
   "metadata": {},
   "outputs": [
    {
     "name": "stdout",
     "output_type": "stream",
     "text": [
      "x = 1.0 y = -2.0 z = 3.0\n"
     ]
    }
   ],
   "source": [
    "v1 = VECTOR(1.0, -2.0, 3.0)\n",
    "v2 = VECTOR(v1)\n",
    "\n",
    "print(F\"x = {v2.x} y = {v2.y} z = {v2.z}\")"
   ]
  },
  {
   "cell_type": "markdown",
   "metadata": {},
   "source": [
    "Beware of the shallow copying (by reference).\n",
    "\n",
    "Read more about it [here](https://github.com/compchem-cybertraining/Tutorials_Python/blob/master/Tutorial1-copying.ipynb)\n",
    "\n",
    "Here is an example"
   ]
  },
  {
   "cell_type": "code",
   "execution_count": 4,
   "metadata": {},
   "outputs": [
    {
     "name": "stdout",
     "output_type": "stream",
     "text": [
      "v1 =  <liblibra_core.VECTOR object at 0x7f33e0144db0> 10.0 10.0 10.0\n",
      "v2 =  <liblibra_core.VECTOR object at 0x7f33e0144db0> 10.0 10.0 10.0\n"
     ]
    }
   ],
   "source": [
    "v1 = VECTOR()\n",
    "v2 = VECTOR()  \n",
    "\n",
    "v2 = v1  # Copying by reference!\n",
    "\n",
    "\n",
    "\n",
    "# Change v2 & print all vectors again\n",
    "v2.x, v2.y, v2.z = 10.0, 10.0, 10.0\n",
    "print(\"v1 = \", v1, v1.x, v1.y, v1.z)\n",
    "print(\"v2 = \", v2, v2.x, v2.y, v2.z)\n"
   ]
  },
  {
   "cell_type": "markdown",
   "metadata": {},
   "source": [
    "Print the initial variables"
   ]
  },
  {
   "cell_type": "code",
   "execution_count": 5,
   "metadata": {},
   "outputs": [
    {
     "name": "stdout",
     "output_type": "stream",
     "text": [
      "v1 =  <liblibra_core.VECTOR object at 0x7f33e0144db0> 10.0 10.0 10.0\n",
      "v2 =  <liblibra_core.VECTOR object at 0x7f33e0144db0> 10.0 10.0 10.0\n"
     ]
    }
   ],
   "source": [
    "print(\"v1 = \", v1, v1.x, v1.y, v1.z)\n",
    "print(\"v2 = \", v2, v2.x, v2.y, v2.z)"
   ]
  },
  {
   "cell_type": "markdown",
   "metadata": {},
   "source": [
    "Note that when we \"print\" the objects, `v1` and `v2`, we actually print their addresses - the unique identitifiers that point to the memory location that stores these objects. Note how the addresses of the two distinctly-called variables are the same.\n",
    "\n",
    "Now, lets change `v1` and print the two vectors again:"
   ]
  },
  {
   "cell_type": "code",
   "execution_count": 6,
   "metadata": {},
   "outputs": [
    {
     "name": "stdout",
     "output_type": "stream",
     "text": [
      "v1 =  <liblibra_core.VECTOR object at 0x7f33e0144db0> 0.0 -1.0 2.0\n",
      "v2 =  <liblibra_core.VECTOR object at 0x7f33e0144db0> 0.0 -1.0 2.0\n"
     ]
    }
   ],
   "source": [
    "# Change v1 & print all vectors again\n",
    "v1.x, v1.y, v1.z = 0.0, -1.0, 2.0\n",
    "print(\"v1 = \", v1, v1.x, v1.y, v1.z)\n",
    "print(\"v2 = \", v2, v2.x, v2.y, v2.z)"
   ]
  },
  {
   "cell_type": "markdown",
   "metadata": {},
   "source": [
    "Note, how changing one variable changes the other. We would get the same result if we'd change `v2` instead."
   ]
  },
  {
   "cell_type": "markdown",
   "metadata": {},
   "source": [
    "### 1.3. Data access and Arithmetics\n",
    "\n",
    "Lets create 3 vectors. "
   ]
  },
  {
   "cell_type": "code",
   "execution_count": 7,
   "metadata": {
    "scrolled": true
   },
   "outputs": [
    {
     "name": "stdout",
     "output_type": "stream",
     "text": [
      "v1: x = 0.0 y = 0.0 z = 0.0 \n",
      "v2: x = 0.0 y = 0.0 z = 0.0 \n",
      "v3: x = 0.0 y = 0.0 z = 0.0 \n"
     ]
    }
   ],
   "source": [
    "v1 = VECTOR()  \n",
    "v2 = VECTOR()  \n",
    "v3 = VECTOR()  \n",
    "\n",
    "print(F\"v1: x = {v1.x} y = {v1.y} z = {v1.z} \" )\n",
    "print(F\"v2: x = {v2.x} y = {v2.y} z = {v2.z} \" )\n",
    "print(F\"v3: x = {v3.x} y = {v3.y} z = {v3.z} \" )"
   ]
  },
  {
   "cell_type": "markdown",
   "metadata": {},
   "source": [
    "We can modify their data memebers, `x`, `y`, and `z` components directly:"
   ]
  },
  {
   "cell_type": "code",
   "execution_count": 8,
   "metadata": {
    "scrolled": true
   },
   "outputs": [
    {
     "name": "stdout",
     "output_type": "stream",
     "text": [
      "v1: x = 1.0 y = 2.0 z = 1.0 \n",
      "v2: x = -1.0 y = 3.0 z = 0.0 \n",
      "v3: x = 0.0 y = 0.0 z = 0.0 \n"
     ]
    }
   ],
   "source": [
    "v1.x, v1.y, v1.z =  1.0, 2.0, 1.0\n",
    "v2.x, v2.y, v2.z = -1.0, 3.0, 0.0\n",
    "v3.x, v3.y, v3.z =  0.0, 0.0, 0.0\n",
    "\n",
    "print(F\"v1: x = {v1.x} y = {v1.y} z = {v1.z} \" )\n",
    "print(F\"v2: x = {v2.x} y = {v2.y} z = {v2.z} \" )\n",
    "print(F\"v3: x = {v3.x} y = {v3.y} z = {v3.z} \" )"
   ]
  },
  {
   "cell_type": "markdown",
   "metadata": {},
   "source": [
    "Then we can compute their sum, ddifference, any linear combinations as:"
   ]
  },
  {
   "cell_type": "code",
   "execution_count": 9,
   "metadata": {
    "scrolled": true
   },
   "outputs": [
    {
     "name": "stdout",
     "output_type": "stream",
     "text": [
      "sum: x = 0.0 y = 5.0 z = 1.0 \n",
      "difference: x = 2.0 y = -1.0 z = 1.0 \n",
      "linear combination: x = 5.0 y = -5.0 z = 2.0 \n",
      "division: x = 0.5 y = 1.0 z = 0.5 \n",
      "multiplication: x = 2.0 y = 4.0 z = 2.0 \n"
     ]
    }
   ],
   "source": [
    "v3 = v1 + v2\n",
    "print(F\"sum: x = {v3.x} y = {v3.y} z = {v3.z} \" )\n",
    "\n",
    "v3 = v1 - v2\n",
    "print(F\"difference: x = {v3.x} y = {v3.y} z = {v3.z} \" )\n",
    "\n",
    "v3 = 2.0*v1 - v2*3.0\n",
    "print(F\"linear combination: x = {v3.x} y = {v3.y} z = {v3.z} \" )\n",
    "\n",
    "v3 = v1/2.0\n",
    "print(F\"division: x = {v3.x} y = {v3.y} z = {v3.z} \" )\n",
    "\n",
    "v3 = v1 * 2.0\n",
    "print(F\"multiplication: x = {v3.x} y = {v3.y} z = {v3.z} \" )"
   ]
  },
  {
   "cell_type": "markdown",
   "metadata": {},
   "source": [
    "We can also add/subtract a number from the vector, which is defined as adding/subtracting the same number from every element of the vector.\n",
    "\n",
    "Analogously, we can increment or decrement the vectors by a number"
   ]
  },
  {
   "cell_type": "code",
   "execution_count": 10,
   "metadata": {},
   "outputs": [
    {
     "name": "stdout",
     "output_type": "stream",
     "text": [
      "v1 : x = 1.0 y = 2.0 z = 1.0 \n",
      "v1 + 1 : x = 2.0 y = 3.0 z = 2.0 \n",
      "v1 -= 1 : x = 0.0 y = 1.0 z = 0.0 \n",
      "v1 += 1 : x = 2.0 y = 3.0 z = 2.0 \n",
      "(v1 +1) -= 1 : x = 1.0 y = 2.0 z = 1.0 \n"
     ]
    }
   ],
   "source": [
    "print(F\"v1 : x = {v1.x} y = {v1.y} z = {v1.z} \" )\n",
    "\n",
    "v3 = v1 + 1.0\n",
    "print(F\"v1 + 1 : x = {v3.x} y = {v3.y} z = {v3.z} \" )\n",
    "\n",
    "v3 = v1 - 1.0\n",
    "print(F\"v1 -= 1 : x = {v3.x} y = {v3.y} z = {v3.z} \" )\n",
    "\n",
    "v1 += 1.0\n",
    "print(F\"v1 += 1 : x = {v1.x} y = {v1.y} z = {v1.z} \" )\n",
    "\n",
    "v1 -= 1.0\n",
    "print(F\"(v1 +1) -= 1 : x = {v1.x} y = {v1.y} z = {v1.z} \" )"
   ]
  },
  {
   "cell_type": "markdown",
   "metadata": {},
   "source": [
    "The increments can also be by a vector:"
   ]
  },
  {
   "cell_type": "code",
   "execution_count": 11,
   "metadata": {},
   "outputs": [
    {
     "name": "stdout",
     "output_type": "stream",
     "text": [
      " v1 : x = 0.0 y = 0.0 z = 0.0 \n",
      " v1 (after 1 increment) : x = 1.0 y = 2.0 z = 3.0 \n",
      " v1 (after 2 increments) : x = 2.0 y = 4.0 z = 6.0 \n"
     ]
    }
   ],
   "source": [
    "v1 = VECTOR()\n",
    "v2 = VECTOR(1.0, 2.0, 3.0)\n",
    "print(F\" v1 : x = {v1.x} y = {v1.y} z = {v1.z} \" )\n",
    "\n",
    "v1 += v2\n",
    "print(F\" v1 (after 1 increment) : x = {v1.x} y = {v1.y} z = {v1.z} \" )\n",
    "\n",
    "v1 += v2\n",
    "print(F\" v1 (after 2 increments) : x = {v1.x} y = {v1.y} z = {v1.z} \" )"
   ]
  },
  {
   "cell_type": "markdown",
   "metadata": {},
   "source": [
    "The vectors can be scaled:"
   ]
  },
  {
   "cell_type": "code",
   "execution_count": 12,
   "metadata": {},
   "outputs": [
    {
     "name": "stdout",
     "output_type": "stream",
     "text": [
      "Original v1 : x = 2.0 y = 4.0 z = 6.0 \n",
      "Scaled by multiplication v1 : x = 4.0 y = 8.0 z = 12.0 \n",
      "Scaled by division v1 : x = 2.0 y = 4.0 z = 6.0 \n"
     ]
    }
   ],
   "source": [
    "v2 = VECTOR(v1)\n",
    "print(F\"Original v1 : x = {v2.x} y = {v2.y} z = {v2.z} \" )\n",
    "\n",
    "v2 *= 2.0\n",
    "print(F\"Scaled by multiplication v1 : x = {v2.x} y = {v2.y} z = {v2.z} \" )\n",
    "\n",
    "v2 /= 2.0\n",
    "print(F\"Scaled by division v1 : x = {v2.x} y = {v2.y} z = {v2.z} \" )"
   ]
  },
  {
   "cell_type": "markdown",
   "metadata": {},
   "source": [
    "### 1.4. Methods of the VECTOR class\n",
    "\n",
    "The is a number of functions to compute properties of the vectors, including the computation of:\n",
    "\n",
    "* the squared norm, `length2`\n",
    "\n",
    "  $$ ||v||^2 = x^2 + y^2 + z^2  $$\n",
    "\n",
    "* the norm, `length`\n",
    "\n",
    "  $$ ||v|| = \\sqrt{x^2 + y^2 + z^2}  $$\n",
    "  \n",
    "    "
   ]
  },
  {
   "cell_type": "code",
   "execution_count": 13,
   "metadata": {},
   "outputs": [
    {
     "name": "stdout",
     "output_type": "stream",
     "text": [
      "v1: x = 1.0 y = 1.0 z = 3.0 \n",
      "|v1|^2 =  11.0\n",
      "|v1| =  3.3166247903554\n"
     ]
    }
   ],
   "source": [
    "v1 = VECTOR(1.0, 1.0, 3.0)\n",
    "print(F\"v1: x = {v1.x} y = {v1.y} z = {v1.z} \" )\n",
    "\n",
    "print(F\"|v1|^2 = \", v1.length2())\n",
    "print(F\"|v1| = \", v1.length())"
   ]
  },
  {
   "cell_type": "markdown",
   "metadata": {},
   "source": [
    "We can also:\n",
    "\n",
    "* normalize the original vector, `normalize`\n",
    "\n",
    "  $$ v -> v = \\frac{v}{||v||}$$\n",
    "\n",
    "* or return the normalized (unit vector) without affecting the original one, `unit`\n",
    "\n",
    "  $$ u = \\frac{v}{||v||}$$"
   ]
  },
  {
   "cell_type": "code",
   "execution_count": 14,
   "metadata": {},
   "outputs": [
    {
     "name": "stdout",
     "output_type": "stream",
     "text": [
      "v: x = 1.0 y = 1.0 z = 4.0 \n",
      "u: x = 0.23570226039551587 y = 0.23570226039551587 z = 0.9428090415820635 \n",
      "v: x = 0.23570226039551587 y = 0.23570226039551587 z = 0.9428090415820635 \n"
     ]
    }
   ],
   "source": [
    "v = VECTOR(1.0, 1.0, 4.0)\n",
    "u = v.unit()\n",
    "print(F\"v: x = {v.x} y = {v.y} z = {v.z} \" )\n",
    "print(F\"u: x = {u.x} y = {u.y} z = {u.z} \" )\n",
    "\n",
    "v.normalize()\n",
    "print(F\"v: x = {v.x} y = {v.y} z = {v.z} \" )"
   ]
  },
  {
   "cell_type": "markdown",
   "metadata": {},
   "source": [
    "We can compute the cross product of 2 vectors:\n",
    "\n",
    "$$\n",
    "u \\times v = \n",
    "\\begin{vmatrix}\n",
    "    i & j & k \\\\\n",
    "    u_x & u_y & u_z \\\\\n",
    "    v_x & v_y & v_z \\\\    \n",
    "\\end{vmatrix} =  \\\\\n",
    "\\begin{pmatrix}\n",
    "    u_x * v_z - u_z * v_y \\\\\n",
    "    u_z * v_x - u_x * v_z \\\\\n",
    "    u_x * v_y - u_y * v_x \\\\    \n",
    "\\end{pmatrix}  \n",
    "$$\n"
   ]
  },
  {
   "cell_type": "code",
   "execution_count": 15,
   "metadata": {},
   "outputs": [
    {
     "name": "stdout",
     "output_type": "stream",
     "text": [
      "v1: x = 1.0 y = 0.0 z = 0.0 \n",
      "v2: x = 0.0 y = 1.0 z = 0.0 \n",
      "v1 x v2 = 0.0 y = 0.0 z = 1.0 \n",
      "v2 x v1 = 0.0 y = 0.0 z = -1.0 \n",
      "v1 x v1 = 0.0 y = 0.0 z = 0.0 \n"
     ]
    }
   ],
   "source": [
    "v1 = VECTOR(1.0, 0.0, 0.0)\n",
    "v2 = VECTOR(0.0, 1.0, 0.0)\n",
    "v3 = VECTOR()\n",
    "print(F\"v1: x = {v1.x} y = {v1.y} z = {v1.z} \" )\n",
    "print(F\"v2: x = {v2.x} y = {v2.y} z = {v2.z} \" )\n",
    "\n",
    "\n",
    "v3.cross(v1,v2)\n",
    "print(F\"v1 x v2 = {v3.x} y = {v3.y} z = {v3.z} \" )\n",
    "\n",
    "v3.cross(v2,v1)\n",
    "print(F\"v2 x v1 = {v3.x} y = {v3.y} z = {v3.z} \" )\n",
    "\n",
    "v3.cross(v1,v1)\n",
    "print(F\"v1 x v1 = {v3.x} y = {v3.y} z = {v3.z} \" )"
   ]
  },
  {
   "cell_type": "markdown",
   "metadata": {},
   "source": [
    "And, of course, we have the dot product:\n",
    "\n",
    "$$\n",
    " v * u = ( v, u )  = v_x * u_x + v_y * u_y + v_z * u_z\n",
    "$$"
   ]
  },
  {
   "cell_type": "code",
   "execution_count": 16,
   "metadata": {},
   "outputs": [
    {
     "name": "stdout",
     "output_type": "stream",
     "text": [
      "v1: x = 1.0 y = 3.0 z = 1.0 \n",
      "v2: x = 2.0 y = 1.0 z = 4.0 \n",
      "v1 * v2 = 9.0 \n"
     ]
    }
   ],
   "source": [
    "v1 = VECTOR(1.0, 3.0, 1.0)\n",
    "v2 = VECTOR(2.0, 1.0, 4.0)\n",
    "print(F\"v1: x = {v1.x} y = {v1.y} z = {v1.z} \" )\n",
    "print(F\"v2: x = {v2.x} y = {v2.y} z = {v2.z} \" )\n",
    "\n",
    "v12 = v1 * v2\n",
    "print(F\"v1 * v2 = {v12} \" )"
   ]
  },
  {
   "cell_type": "markdown",
   "metadata": {},
   "source": [
    "### 1.5. Arrays of vectors\n",
    "\n",
    "We have a data type, `VECTORList`, that in C++ looks like vector< VECTOR > and represents a list of objects, each of which is a VECTOR object.\n",
    "\n",
    "In Python, this can be just mimicked by a list of VECTOR objects:"
   ]
  },
  {
   "cell_type": "code",
   "execution_count": 17,
   "metadata": {},
   "outputs": [
    {
     "name": "stdout",
     "output_type": "stream",
     "text": [
      "[<liblibra_core.VECTOR object at 0x7f339de1f3f0>, <liblibra_core.VECTOR object at 0x7f339de1f470>, <liblibra_core.VECTOR object at 0x7f339de23830>]\n",
      "0: v = <liblibra_core.VECTOR object at 0x7f339de1f3f0> x = 1.0 y = 3.0 z = 1.0 \n",
      "1: v = <liblibra_core.VECTOR object at 0x7f339de1f470> x = 2.0 y = 1.0 z = 4.0 \n",
      "2: v = <liblibra_core.VECTOR object at 0x7f339de23830> x = 1.0 y = 0.0 z = -4.0 \n"
     ]
    }
   ],
   "source": [
    "vlst = VECTORList()\n",
    "\n",
    "v1 = VECTOR(1.0, 3.0, 1.0)\n",
    "v2 = VECTOR(2.0, 1.0, 4.0)\n",
    "v3 = VECTOR(1.0, 0.0, -4.0)\n",
    "\n",
    "vlst = [v1, v2, v3]\n",
    "print(vlst)\n",
    "\n",
    "for i in range(3):\n",
    "    print(F\"{i}: v = {vlst[i]} x = {vlst[i].x} y = {vlst[i].y} z = {vlst[i].z} \")"
   ]
  },
  {
   "cell_type": "markdown",
   "metadata": {},
   "source": [
    "## 2. MATRIX and CMATRIX\n",
    "\n",
    "Objects of the MATRIX and CMATRIX data types represent real and complex-valued matrices of arbitrary shape.\n",
    "\n",
    "These classes share a lot of common functionality (data members and function members), with a few exceptions.\n",
    "\n",
    "### 2.1. Initialization and data access\n",
    "\n",
    "* use `MATRIX(n,m)` or `CMATRIX(n,m)` to allocate empty matrices of the corresponding shapes\n",
    "\n",
    "* use `.set(i,j, val)` to store the value `val` in the corresponding matrix element\n",
    "\n",
    "* use `.get(i,j)` to read/access the value stored in the corresponding matrix element\n",
    "\n",
    "* use `.show_matrix` to print out the matrix to the standard output (usually consolde). \n",
    "\n",
    "Note that the \"show_matrix\" function would not print the results to the Jupyter output. Instead, use\n",
    "\n",
    "`data_outs.print_matrix`"
   ]
  },
  {
   "cell_type": "code",
   "execution_count": 18,
   "metadata": {},
   "outputs": [
    {
     "name": "stdout",
     "output_type": "stream",
     "text": [
      "0 0 0.1\n",
      "0 1 0.2\n",
      "0 2 0.30000000000000004\n",
      "1 0 0.2\n",
      "1 1 0.30000000000000004\n",
      "1 2 0.4\n",
      "2 0 0.30000000000000004\n",
      "2 1 0.4\n",
      "2 2 0.5\n",
      "=========== matrix a ===============\n",
      "0.1  0.2  0.30000000000000004  \n",
      "0.2  0.30000000000000004  0.4  \n",
      "0.30000000000000004  0.4  0.5  \n"
     ]
    }
   ],
   "source": [
    "a = MATRIX(3,3)\n",
    "\n",
    "for i in range(0,3):\n",
    "    for j in range(0,3):\n",
    "        a.set(i,j, 0.1+0.1*(i+j) )\n",
    "\n",
    "for i in range(0,3):\n",
    "    for j in range(0,3):\n",
    "        print(i,j, a.get(i,j) )\n",
    "\n",
    "a.show_matrix()\n",
    "print(\"=========== matrix a ===============\")\n",
    "data_outs.print_matrix(a)"
   ]
  },
  {
   "cell_type": "markdown",
   "metadata": {},
   "source": [
    "Here is an example for complex matrices"
   ]
  },
  {
   "cell_type": "code",
   "execution_count": 19,
   "metadata": {},
   "outputs": [
    {
     "name": "stdout",
     "output_type": "stream",
     "text": [
      "0 0 0j\n",
      "0 1 (1-0.1j)\n",
      "0 2 (2-0.2j)\n",
      "0 3 (3-0.30000000000000004j)\n",
      "1 0 (0.5+0.1j)\n",
      "1 1 (1.5+0j)\n",
      "1 2 (2.5-0.1j)\n",
      "1 3 (3.5-0.2j)\n",
      "2 0 (1+0.2j)\n",
      "2 1 (2+0.1j)\n",
      "2 2 (3+0j)\n",
      "2 3 (4-0.1j)\n",
      "3 0 (1.5+0.30000000000000004j)\n",
      "3 1 (2.5+0.2j)\n",
      "3 2 (3.5+0.1j)\n",
      "3 3 (4.5+0j)\n",
      "0j  (1-0.1j)  (2-0.2j)  (3-0.30000000000000004j)  \n",
      "(0.5+0.1j)  (1.5+0j)  (2.5-0.1j)  (3.5-0.2j)  \n",
      "(1+0.2j)  (2+0.1j)  (3+0j)  (4-0.1j)  \n",
      "(1.5+0.30000000000000004j)  (2.5+0.2j)  (3.5+0.1j)  (4.5+0j)  \n"
     ]
    }
   ],
   "source": [
    "a = CMATRIX(4,4)\n",
    "for i in range(0,4):\n",
    "    for j in range(0,4):\n",
    "        a.set(i,j,0.5*i+j, 0.1*(i-j))\n",
    "\n",
    "for i in range(0,4):\n",
    "    for j in range(0,4):\n",
    "        print( i,j, a.get(i,j) )\n",
    "\n",
    "        \n",
    "data_outs.print_matrix(a)"
   ]
  },
  {
   "cell_type": "markdown",
   "metadata": {},
   "source": [
    "### 2.2. Computing some basic properties of a matrix\n",
    "\n",
    "* trace\n",
    "* transpose\n",
    "* conjugate\n",
    "* Hermitian conjugate\n",
    "* identity matrix\n",
    "* columns\n",
    "* rows"
   ]
  },
  {
   "cell_type": "code",
   "execution_count": 20,
   "metadata": {},
   "outputs": [
    {
     "name": "stdout",
     "output_type": "stream",
     "text": [
      "trace =  (9+0j)\n",
      "print a\n",
      "0j  (1-0.1j)  (2-0.2j)  (3-0.30000000000000004j)  \n",
      "(0.5+0.1j)  (1.5+0j)  (2.5-0.1j)  (3.5-0.2j)  \n",
      "(1+0.2j)  (2+0.1j)  (3+0j)  (4-0.1j)  \n",
      "(1.5+0.30000000000000004j)  (2.5+0.2j)  (3.5+0.1j)  (4.5+0j)  \n",
      "print x\n",
      "0j  (0.5+0.1j)  (1+0.2j)  (1.5+0.30000000000000004j)  \n",
      "(1-0.1j)  (1.5+0j)  (2+0.1j)  (2.5+0.2j)  \n",
      "(2-0.2j)  (2.5-0.1j)  (3+0j)  (3.5+0.1j)  \n",
      "(3-0.30000000000000004j)  (3.5-0.2j)  (4-0.1j)  (4.5+0j)  \n",
      "print a\n",
      "0j  (1-0.1j)  (2-0.2j)  (3-0.30000000000000004j)  \n",
      "(0.5+0.1j)  (1.5+0j)  (2.5-0.1j)  (3.5-0.2j)  \n",
      "(1+0.2j)  (2+0.1j)  (3+0j)  (4-0.1j)  \n",
      "(1.5+0.30000000000000004j)  (2.5+0.2j)  (3.5+0.1j)  (4.5+0j)  \n",
      "print x\n",
      "-0j  (1+0.1j)  (2+0.2j)  (3+0.30000000000000004j)  \n",
      "(0.5-0.1j)  (1.5-0j)  (2.5+0.1j)  (3.5+0.2j)  \n",
      "(1-0.2j)  (2-0.1j)  (3-0j)  (4+0.1j)  \n",
      "(1.5-0.30000000000000004j)  (2.5-0.2j)  (3.5-0.1j)  (4.5-0j)  \n",
      "print a\n",
      "0j  (1-0.1j)  (2-0.2j)  (3-0.30000000000000004j)  \n",
      "(0.5+0.1j)  (1.5+0j)  (2.5-0.1j)  (3.5-0.2j)  \n",
      "(1+0.2j)  (2+0.1j)  (3+0j)  (4-0.1j)  \n",
      "(1.5+0.30000000000000004j)  (2.5+0.2j)  (3.5+0.1j)  (4.5+0j)  \n",
      "print x\n",
      "-0j  (0.5-0.1j)  (1-0.2j)  (1.5-0.30000000000000004j)  \n",
      "(1+0.1j)  (1.5-0j)  (2-0.1j)  (2.5-0.2j)  \n",
      "(2+0.2j)  (2.5+0.1j)  (3-0j)  (3.5-0.1j)  \n",
      "(3+0.30000000000000004j)  (3.5+0.2j)  (4+0.1j)  (4.5-0j)  \n",
      "(1+0j)  0j  0j  0j  \n",
      "0j  (1+0j)  0j  0j  \n",
      "0j  0j  (1+0j)  0j  \n",
      "0j  0j  0j  (1+0j)  \n",
      "0j  \n",
      "(0.5+0.1j)  \n",
      "(1+0.2j)  \n",
      "(1.5+0.30000000000000004j)  \n",
      "(1+0.2j)  (2+0.1j)  (3+0j)  (4-0.1j)  \n"
     ]
    }
   ],
   "source": [
    "# Trace\n",
    "print( \"trace = \", a.tr() )\n",
    "\n",
    "# Transpose \n",
    "x = a.T()\n",
    "print(\"print a\"); data_outs.print_matrix(a)\n",
    "print(\"print x\"); data_outs.print_matrix(x)\n",
    "\n",
    "# Conjugate\n",
    "x = a.conj()\n",
    "print(\"print a\"); data_outs.print_matrix(a)\n",
    "print(\"print x\"); data_outs.print_matrix(x)\n",
    "\n",
    "# Hermitian conjugate\n",
    "x = a.H()\n",
    "print(\"print a\"); data_outs.print_matrix(a)\n",
    "print(\"print x\"); data_outs.print_matrix(x)\n",
    "\n",
    "# Initilize an identity matrix\n",
    "x.load_identity(); data_outs.print_matrix(x)\n",
    "\n",
    "# Accessing columns\n",
    "t1 = a.col(0); data_outs.print_matrix(t1)\n",
    "\n",
    "# Accessing rows\n",
    "t2 = a.row(2); data_outs.print_matrix(t2)"
   ]
  },
  {
   "cell_type": "markdown",
   "metadata": {},
   "source": [
    "### 2.3. Manipulating matrices"
   ]
  },
  {
   "cell_type": "code",
   "execution_count": 21,
   "metadata": {},
   "outputs": [
    {
     "name": "stdout",
     "output_type": "stream",
     "text": [
      "The original matrix A\n",
      "0.0  1.0  4.0  9.0  16.0  \n",
      "-2.0  -1.0  2.0  7.0  14.0  \n",
      "-4.0  -3.0  0.0  5.0  12.0  \n",
      "-6.0  -5.0  -2.0  3.0  10.0  \n",
      "-8.0  -7.0  -4.0  1.0  8.0  \n",
      "The original matrix B\n",
      "0.0  0.0  0.0  0.0  0.0  \n",
      "0.0  0.0  0.0  0.0  0.0  \n",
      "0.0  0.0  0.0  0.0  0.0  \n",
      "0.0  0.0  0.0  0.0  0.0  \n",
      "0.0  0.0  0.0  0.0  0.0  \n",
      "Extracting with stencil [0,1]\n",
      "0.0  1.0  \n",
      "-2.0  -1.0  \n",
      "Extracting with stencil [3,4]\n",
      "3.0  10.0  \n",
      "1.0  8.0  \n",
      "Extracting with stencil [1,3]\n",
      "-1.0  7.0  \n",
      "-5.0  3.0  \n",
      "Pushing 2x2 matrix with stencil [0,1]\n",
      "-1.0  7.0  0.0  0.0  0.0  \n",
      "-5.0  3.0  0.0  0.0  0.0  \n",
      "0.0  0.0  0.0  0.0  0.0  \n",
      "0.0  0.0  0.0  0.0  0.0  \n",
      "0.0  0.0  0.0  0.0  0.0  \n"
     ]
    }
   ],
   "source": [
    "N = 5\n",
    "A = MATRIX(N,N)\n",
    "B = MATRIX(N,N)\n",
    "for i in range(0,N):\n",
    "    for j in range(0,N):\n",
    "        A.set(i,j,-2.0*i+j*j )\n",
    "        B.set(i,j,0.0 )\n",
    "\n",
    "print(\"The original matrix A\")\n",
    "data_outs.print_matrix(A)\n",
    "\n",
    "print(\"The original matrix B\")\n",
    "data_outs.print_matrix(B)\n",
    "\n",
    "\n",
    "a2x2 = MATRIX(2,2)\n",
    "print(\"Extracting with stencil [0,1]\")\n",
    "pop_submatrix(A,a2x2, [0,1]); data_outs.print_matrix(a2x2)\n",
    "\n",
    "print(\"Extracting with stencil [3,4]\")\n",
    "pop_submatrix(A,a2x2, [3,4]); data_outs.print_matrix(a2x2)\n",
    "\n",
    "print(\"Extracting with stencil [1,3]\")\n",
    "pop_submatrix(A,a2x2, [1,3]); data_outs.print_matrix(a2x2)\n",
    "\n",
    "print(\"Pushing 2x2 matrix with stencil [0,1]\")\n",
    "push_submatrix(B,a2x2, [0,1]); data_outs.print_matrix(B)\n"
   ]
  },
  {
   "cell_type": "code",
   "execution_count": 22,
   "metadata": {
    "scrolled": true
   },
   "outputs": [
    {
     "name": "stdout",
     "output_type": "stream",
     "text": [
      "Extracting 3x3 matrix with stencil [0,1,2]\n",
      "0.0  1.0  4.0  \n",
      "-2.0  -1.0  2.0  \n",
      "-4.0  -3.0  0.0  \n",
      "Pushing 3x3 matrix into B with stencil [0,3,4]\n",
      "0.0  0.0  0.0  1.0  4.0  \n",
      "-0.0  0.0  0.0  0.0  0.0  \n",
      "0.0  0.0  0.0  0.0  0.0  \n",
      "-2.0  0.0  0.0  -1.0  2.0  \n",
      "-4.0  0.0  0.0  -3.0  0.0  \n",
      "Pushing another, a 2x2, matrix into B with stencil [0,1]\n",
      "-1.0  7.0  0.0  1.0  4.0  \n",
      "-5.0  3.0  0.0  0.0  0.0  \n",
      "0.0  0.0  0.0  0.0  0.0  \n",
      "-2.0  0.0  0.0  -1.0  2.0  \n",
      "-4.0  0.0  0.0  -3.0  0.0  \n"
     ]
    }
   ],
   "source": [
    "B = B*0.0\n",
    "\n",
    "a3x3 = MATRIX(3,3)\n",
    "print(\"Extracting 3x3 matrix with stencil [0,1,2]\")\n",
    "pop_submatrix(A,a3x3, [0,1,2]); data_outs.print_matrix(a3x3)\n",
    "\n",
    "print(\"Pushing 3x3 matrix into B with stencil [0,3,4]\")\n",
    "push_submatrix(B,a3x3, [0,3,4]); data_outs.print_matrix(B)\n",
    "\n",
    "print(\"Pushing another, a 2x2, matrix into B with stencil [0,1]\")\n",
    "push_submatrix(B,a2x2, [0,1]); data_outs.print_matrix(B)\n"
   ]
  },
  {
   "cell_type": "code",
   "execution_count": 23,
   "metadata": {},
   "outputs": [
    {
     "name": "stdout",
     "output_type": "stream",
     "text": [
      "The original matrix A\n",
      "0.0  1.0  4.0  9.0  16.0  \n",
      "-2.0  -1.0  2.0  7.0  14.0  \n",
      "-4.0  -3.0  0.0  5.0  12.0  \n",
      "-6.0  -5.0  -2.0  3.0  10.0  \n",
      "-8.0  -7.0  -4.0  1.0  8.0  \n",
      "Extracting 2x3 matrix with stencils [2,4] and [1,3,4]\n",
      "-3.0  5.0  12.0  \n",
      "-7.0  1.0  8.0  \n",
      "Extracting 2x3 matrix with stencils [0,1] and [2,3,4]\n",
      "4.0  9.0  16.0  \n",
      "2.0  7.0  14.0  \n",
      "Extracting 3x2 matrix with stencils [2,3,4] and [0,1]\n",
      "-4.0  -3.0  \n",
      "-6.0  -5.0  \n",
      "-8.0  -7.0  \n",
      "Pushing 2x3 matrix with stencils [3,4] and [0,1,2]\n",
      "-0.0  0.0  0.0  0.0  0.0  \n",
      "-0.0  0.0  0.0  0.0  0.0  \n",
      "0.0  0.0  0.0  0.0  0.0  \n",
      "4.0  9.0  16.0  -0.0  0.0  \n",
      "2.0  7.0  14.0  -0.0  0.0  \n",
      "Pushing 3x2 matrix with stencils [0,1,2] and [3,4]\n",
      "-0.0  0.0  0.0  -4.0  -3.0  \n",
      "-0.0  0.0  0.0  -6.0  -5.0  \n",
      "0.0  0.0  0.0  -8.0  -7.0  \n",
      "4.0  9.0  16.0  -0.0  0.0  \n",
      "2.0  7.0  14.0  -0.0  0.0  \n"
     ]
    }
   ],
   "source": [
    "print(\"The original matrix A\")\n",
    "data_outs.print_matrix(A)\n",
    "\n",
    "\n",
    "a2x3 = MATRIX(2,3)\n",
    "print(\"Extracting 2x3 matrix with stencils [2,4] and [1,3,4]\")\n",
    "pop_submatrix(A,a2x3, [2,4],[1,3,4]); data_outs.print_matrix(a2x3)\n",
    "\n",
    "print(\"Extracting 2x3 matrix with stencils [0,1] and [2,3,4]\")\n",
    "pop_submatrix(A,a2x3, [0,1],[2,3,4]); data_outs.print_matrix(a2x3)\n",
    "\n",
    "\n",
    "a3x2 = MATRIX(3,2)\n",
    "print(\"Extracting 3x2 matrix with stencils [2,3,4] and [0,1]\")\n",
    "pop_submatrix(A,a3x2, [2,3,4],[0,1]); data_outs.print_matrix(a3x2)\n",
    "\n",
    "\n",
    "B = B*0.0\n",
    "print(\"Pushing 2x3 matrix with stencils [3,4] and [0,1,2]\")\n",
    "push_submatrix(B,a2x3, [3,4],[0,1,2]); data_outs.print_matrix(B)\n",
    "\n",
    "print( \"Pushing 3x2 matrix with stencils [0,1,2] and [3,4]\")\n",
    "push_submatrix(B,a3x2, [0,1,2],[3,4]); data_outs.print_matrix(B)\n",
    "\n"
   ]
  },
  {
   "cell_type": "markdown",
   "metadata": {},
   "source": [
    "### 2.4. Matrix arithmetics"
   ]
  },
  {
   "cell_type": "code",
   "execution_count": 24,
   "metadata": {},
   "outputs": [
    {
     "name": "stdout",
     "output_type": "stream",
     "text": [
      "1.0  2.0  \n",
      "-1.0  0.5  \n",
      "1.0  1.0  \n",
      "1.0  1.0  \n",
      "1.0  2.0  \n",
      "-1.0  0.5  \n",
      "Scaling matrix\n",
      "1.0  0.1  \n",
      "10.0  1.0  \n",
      "Original matrix\n",
      "1.0  2.0  \n",
      "-1.0  0.5  \n",
      "Result\n",
      "1.0  0.2  \n",
      "-10.0  0.5  \n",
      "Original matrix\n",
      "1.0  2.0  \n",
      "-1.0  0.5  \n",
      "Scaling matrix\n",
      "1.0  0.1  \n",
      "10.0  1.0  \n",
      "Result\n",
      "1.0  0.2  \n",
      "-10.0  0.5  \n"
     ]
    }
   ],
   "source": [
    "A = MATRIX(2,2)\n",
    "A.set(0,0, 1.0);   A.set(0,1, 2.0);\n",
    "A.set(1,0, -1.0);  A.set(1,1, 0.5);\n",
    "data_outs.print_matrix(A)\n",
    "\n",
    "#========= Scaling: Example 1 ==============\n",
    "B = MATRIX(2,2)\n",
    "B.set(0,0, 1.0);   B.set(0,1, 1.0);\n",
    "B.set(1,0, 1.0);   B.set(1,1, 1.0);\n",
    "data_outs.print_matrix(B)\n",
    "\n",
    "C = MATRIX(2,2)\n",
    "\n",
    "# dot product\n",
    "C.dot_product(A,B)\n",
    "data_outs.print_matrix(C)\n",
    "\n",
    "#========= Scaling: Example 2 ==============\n",
    "B.set(0,0, 1.0);   B.set(0,1, 0.1);\n",
    "B.set(1,0, 10.0);  B.set(1,1, 1.0);\n",
    "C.dot_product(A,B)\n",
    "\n",
    "print(\"Scaling matrix\"); data_outs.print_matrix(B)\n",
    "print(\"Original matrix\"); data_outs.print_matrix(A)\n",
    "print(\"Result\"); data_outs.print_matrix(C)\n",
    "\n",
    "\n",
    "#========= Scaling: Example 3 ==============\n",
    "# What if one of matrices is also used to store the result\n",
    "print(\"Original matrix\"); data_outs.print_matrix(A)\n",
    "B.set(0,0, 1.0);   B.set(0,1, 0.1);\n",
    "B.set(1,0, 10.0);  B.set(1,1, 1.0);\n",
    "A.dot_product(A,B)\n",
    "\n",
    "print(\"Scaling matrix\"); data_outs.print_matrix(B)\n",
    "print(\"Result\"); data_outs.print_matrix(A)\n"
   ]
  },
  {
   "cell_type": "markdown",
   "metadata": {},
   "source": [
    "### 2.5. Eigenvalue solvers\n",
    "\n",
    "We are solving the problem\n",
    "\n",
    "\\\\[ H C = S C E \\\\]"
   ]
  },
  {
   "cell_type": "code",
   "execution_count": 25,
   "metadata": {},
   "outputs": [
    {
     "name": "stdout",
     "output_type": "stream",
     "text": [
      "H = \n",
      "\n",
      "-0.001  0.001  \n",
      "0.001  0.001  \n",
      "cH = \n",
      "\n",
      "(-0.001+0j)  (0.001+0j)  \n",
      "(0.001+0j)  (0.001+0j)  \n",
      "S = \n",
      "\n",
      "1.0  0.5  \n",
      "0.5  1.0  \n",
      "cS = \n",
      "\n",
      "(1+0j)  (0.5+0j)  \n",
      "(0.5+0j)  (1+0j)  \n"
     ]
    }
   ],
   "source": [
    "# Init the matrix\n",
    "H = MATRIX(2,2)\n",
    "H.set(0,0, -0.001);  H.set(0,1, 0.001)\n",
    "H.set(1,0, 0.001);   H.set(1,1,  0.001)\n",
    "\n",
    "# Convert to a complex data type\n",
    "cH = CMATRIX(H); \n",
    "\n",
    "print(\"H = \\n\"); data_outs.print_matrix(H)\n",
    "print(\"cH = \\n\"); data_outs.print_matrix(cH)\n",
    "\n",
    "\n",
    "# Overlap \n",
    "S = MATRIX(2,2)\n",
    "S.set(0,0, 1.0);   S.set(0,1, 0.5)\n",
    "S.set(1,0, 0.5);   S.set(1,1, 1.0)\n",
    "\n",
    "# Convert to a complex data type\n",
    "cS = CMATRIX(S); \n",
    "\n",
    "print(\"S = \\n\"); data_outs.print_matrix(S)\n",
    "print(\"cS = \\n\"); data_outs.print_matrix(cS)\n",
    "\n",
    "# Eigenvectors (C) and Eigenvalues (E)\n",
    "E = MATRIX(2,2);  cE = CMATRIX(2,2)\n",
    "C = MATRIX(2,2);  cC = CMATRIX(2,2)\n"
   ]
  },
  {
   "cell_type": "markdown",
   "metadata": {},
   "source": [
    "There are several versions of the eigensolver\n",
    "\n",
    "**1. generalized, real H and S, real C and E**"
   ]
  },
  {
   "cell_type": "code",
   "execution_count": 26,
   "metadata": {},
   "outputs": [
    {
     "name": "stdout",
     "output_type": "stream",
     "text": [
      "E = \n",
      "-0.0024305008740430605  0.0  \n",
      "0.0  0.0010971675407097272  \n",
      "\n",
      "C = \n",
      "-1.1386867238250293  -0.19163997056447962  \n",
      "0.7353084448018562  -0.8903116445023108  \n",
      "\n",
      "H*C = \n",
      "0.0018739951686268855  -0.0006986716739378312  \n",
      "-0.0004033782790231731  -0.0010819516150667905  \n",
      "\n",
      "S*C*E = (should be the same as the expr above) \n",
      "0.0018739951686268855  -0.0006986716739378313  \n",
      "-0.00040337827902317357  -0.0010819516150667905  \n",
      "\n",
      "C.T() * S * C = (should be the identity matrix)\n",
      "1.0  -1.3877787807814457e-16  \n",
      "-1.1102230246251565e-16  1.0  \n"
     ]
    }
   ],
   "source": [
    "# Solving the generalized eigenvalue problem\n",
    "solve_eigen(H, S, E, C, 0);\n",
    "\n",
    "print(\"E = \"); data_outs.print_matrix(E)\n",
    "print(\"\\nC = \"); data_outs.print_matrix(C)\n",
    "print(\"\\nH*C = \"); data_outs.print_matrix(H*C)\n",
    "print(\"\\nS*C*E = (should be the same as the expr above) \"); data_outs.print_matrix(S*C*E)\n",
    "print(\"\\nC.T() * S * C = (should be the identity matrix)\"); data_outs.print_matrix(C.T() * S * C)"
   ]
  },
  {
   "cell_type": "markdown",
   "metadata": {},
   "source": [
    "**2. generalized, real H and S, complex C and E**"
   ]
  },
  {
   "cell_type": "code",
   "execution_count": 27,
   "metadata": {},
   "outputs": [
    {
     "name": "stdout",
     "output_type": "stream",
     "text": [
      "E = \n",
      "(-0.0024305008740430605+0j)  0j  \n",
      "0j  (0.0010971675407097272+0j)  \n",
      "\n",
      "C = \n",
      "(-1.1386867238250293+0j)  (-0.19163997056447962-0j)  \n",
      "(0.7353084448018562+0j)  (-0.8903116445023108-0j)  \n",
      "\n",
      "H*C = \n",
      "(0.0018739951686268855+0j)  (-0.0006986716739378312+0j)  \n",
      "(-0.0004033782790231731+0j)  (-0.0010819516150667905+0j)  \n",
      "\n",
      "S*C*E = (should be the same as the expr above) \n",
      "(0.0018739951686268855+0j)  (-0.0006986716739378313+0j)  \n",
      "(-0.00040337827902317357+0j)  (-0.0010819516150667905+0j)  \n",
      "\n",
      "C.H() * S * C = (should be the identity matrix)\n",
      "(1+0j)  (-1.3877787807814457e-16+0j)  \n",
      "(-1.1102230246251565e-16+0j)  (1+0j)  \n"
     ]
    }
   ],
   "source": [
    "# Solving the generalized eigenvalue problem\n",
    "solve_eigen(H, S, cE, cC, 0);\n",
    "\n",
    "print(\"E = \"); data_outs.print_matrix(cE)\n",
    "print(\"\\nC = \"); data_outs.print_matrix(cC)\n",
    "print(\"\\nH*C = \"); data_outs.print_matrix(cH*cC)\n",
    "print(\"\\nS*C*E = (should be the same as the expr above) \"); data_outs.print_matrix(cS*cC*cE)\n",
    "print(\"\\nC.H() * S * C = (should be the identity matrix)\"); data_outs.print_matrix(cC.H() * cS * cC)"
   ]
  },
  {
   "cell_type": "markdown",
   "metadata": {},
   "source": [
    "**3. Non-generalized, complex H and S, complex C and E**"
   ]
  },
  {
   "cell_type": "code",
   "execution_count": 28,
   "metadata": {},
   "outputs": [
    {
     "name": "stdout",
     "output_type": "stream",
     "text": [
      "E = \n",
      "(-0.0024305008740430605+0j)  0j  \n",
      "0j  (0.0010971675407097272+0j)  \n",
      "\n",
      "C = \n",
      "(-1.1386867238250293+0j)  (-0.19163997056447962-0j)  \n",
      "(0.7353084448018562+0j)  (-0.8903116445023108-0j)  \n",
      "\n",
      "H*C = \n",
      "(0.0018739951686268855+0j)  (-0.0006986716739378312+0j)  \n",
      "(-0.0004033782790231731+0j)  (-0.0010819516150667905+0j)  \n",
      "\n",
      "S*C*E = (should be the same as the expr above) \n",
      "(0.0018739951686268855+0j)  (-0.0006986716739378313+0j)  \n",
      "(-0.00040337827902317357+0j)  (-0.0010819516150667905+0j)  \n",
      "\n",
      "C.H() * S * C = (should be the identity matrix)\n",
      "(1+0j)  (-1.3877787807814457e-16+0j)  \n",
      "(-1.1102230246251565e-16+0j)  (1+0j)  \n"
     ]
    }
   ],
   "source": [
    "# Solving the generalized eigenvalue problem\n",
    "solve_eigen(cH, cS, cE, cC, 0);\n",
    "\n",
    "print(\"E = \"); data_outs.print_matrix(cE)\n",
    "print(\"\\nC = \"); data_outs.print_matrix(cC)\n",
    "print(\"\\nH*C = \"); data_outs.print_matrix(cH*cC)\n",
    "print(\"\\nS*C*E = (should be the same as the expr above) \"); data_outs.print_matrix(cS*cC*cE)\n",
    "print(\"\\nC.H() * S * C = (should be the identity matrix)\"); data_outs.print_matrix(cC.H() * cS * cC)"
   ]
  },
  {
   "cell_type": "markdown",
   "metadata": {},
   "source": [
    "**4. Non-generalized, real H, real C and E**"
   ]
  },
  {
   "cell_type": "code",
   "execution_count": 29,
   "metadata": {},
   "outputs": [
    {
     "name": "stdout",
     "output_type": "stream",
     "text": [
      "E = \n",
      "-0.001414213562373095  0.0  \n",
      "0.0  0.001414213562373095  \n",
      "\n",
      "C = \n",
      "-0.9238795325112867  -0.3826834323650898  \n",
      "0.3826834323650898  -0.9238795325112867  \n",
      "\n",
      "H*C = \n",
      "0.0013065629648763765  -0.000541196100146197  \n",
      "-0.000541196100146197  -0.0013065629648763765  \n",
      "\n",
      "C*E = (should be the same as the expr above) \n",
      "0.0013065629648763765  -0.000541196100146197  \n",
      "-0.000541196100146197  -0.0013065629648763765  \n",
      "\n",
      "C.T() * C = (should be the identity matrix)\n",
      "1.0  0.0  \n",
      "0.0  1.0  \n"
     ]
    }
   ],
   "source": [
    "# Solving the generalized eigenvalue problem\n",
    "solve_eigen(H, E, C, 0);\n",
    "\n",
    "print(\"E = \"); data_outs.print_matrix(E)\n",
    "print(\"\\nC = \"); data_outs.print_matrix(C)\n",
    "print(\"\\nH*C = \"); data_outs.print_matrix(H*C)\n",
    "print(\"\\nC*E = (should be the same as the expr above) \"); data_outs.print_matrix(C*E)\n",
    "print(\"\\nC.T() * C = (should be the identity matrix)\"); data_outs.print_matrix(C.T() * C)"
   ]
  },
  {
   "cell_type": "markdown",
   "metadata": {},
   "source": [
    "**5. Non-generalized, real H and S, complex C and E**"
   ]
  },
  {
   "cell_type": "code",
   "execution_count": 30,
   "metadata": {},
   "outputs": [
    {
     "name": "stdout",
     "output_type": "stream",
     "text": [
      "E = \n",
      "(-0.001414213562373095+0j)  0j  \n",
      "0j  (0.001414213562373095+0j)  \n",
      "\n",
      "C = \n",
      "(-0.9238795325112867+0j)  (-0.3826834323650898-0j)  \n",
      "(0.3826834323650898+0j)  (-0.9238795325112867-0j)  \n",
      "\n",
      "H*C = \n",
      "(0.0013065629648763765+0j)  (-0.000541196100146197+0j)  \n",
      "(-0.000541196100146197+0j)  (-0.0013065629648763765+0j)  \n",
      "\n",
      "C*E = (should be the same as the expr above) \n",
      "(0.0013065629648763765+0j)  (-0.000541196100146197+0j)  \n",
      "(-0.000541196100146197+0j)  (-0.0013065629648763765+0j)  \n",
      "\n",
      "C.H() * C = (should be the identity matrix)\n",
      "(1+0j)  0j  \n",
      "0j  (1+0j)  \n"
     ]
    }
   ],
   "source": [
    "# Solving the generalized eigenvalue problem\n",
    "solve_eigen(H, cE, cC, 0);\n",
    "\n",
    "print(\"E = \"); data_outs.print_matrix(cE)\n",
    "print(\"\\nC = \"); data_outs.print_matrix(cC)\n",
    "print(\"\\nH*C = \"); data_outs.print_matrix(cH*cC)\n",
    "print(\"\\nC*E = (should be the same as the expr above) \"); data_outs.print_matrix(cC*cE)\n",
    "print(\"\\nC.H() * C = (should be the identity matrix)\"); data_outs.print_matrix(cC.H() * cC)"
   ]
  },
  {
   "cell_type": "markdown",
   "metadata": {},
   "source": [
    "**6. Non-generalized, complex H and S, complex C and E**"
   ]
  },
  {
   "cell_type": "code",
   "execution_count": 31,
   "metadata": {},
   "outputs": [
    {
     "name": "stdout",
     "output_type": "stream",
     "text": [
      "E = \n",
      "(-0.001414213562373095+0j)  0j  \n",
      "0j  (0.001414213562373095+0j)  \n",
      "\n",
      "C = \n",
      "(-0.9238795325112867+0j)  (-0.3826834323650898-0j)  \n",
      "(0.3826834323650898+0j)  (-0.9238795325112867-0j)  \n",
      "\n",
      "H*C = \n",
      "(0.0013065629648763765+0j)  (-0.000541196100146197+0j)  \n",
      "(-0.000541196100146197+0j)  (-0.0013065629648763765+0j)  \n",
      "\n",
      "C*E = (should be the same as the expr above) \n",
      "(0.0013065629648763765+0j)  (-0.000541196100146197+0j)  \n",
      "(-0.000541196100146197+0j)  (-0.0013065629648763765+0j)  \n",
      "\n",
      "C.H() * C = (should be the identity matrix)\n",
      "(1+0j)  0j  \n",
      "0j  (1+0j)  \n"
     ]
    }
   ],
   "source": [
    "# Solving the generalized eigenvalue problem\n",
    "solve_eigen(cH, cE, cC, 0);\n",
    "\n",
    "print(\"E = \"); data_outs.print_matrix(cE)\n",
    "print(\"\\nC = \"); data_outs.print_matrix(cC)\n",
    "print(\"\\nH*C = \"); data_outs.print_matrix(cH*cC)\n",
    "print(\"\\nC*E = (should be the same as the expr above) \"); data_outs.print_matrix(cC*cE)\n",
    "print(\"\\nC.H() * C = (should be the identity matrix)\"); data_outs.print_matrix(cC.H() * cC)"
   ]
  }
 ],
 "metadata": {
  "kernelspec": {
   "display_name": "Python 3",
   "language": "python",
   "name": "python3"
  },
  "language_info": {
   "codemirror_mode": {
    "name": "ipython",
    "version": 3
   },
   "file_extension": ".py",
   "mimetype": "text/x-python",
   "name": "python",
   "nbconvert_exporter": "python",
   "pygments_lexer": "ipython3",
   "version": "3.7.6"
  }
 },
 "nbformat": 4,
 "nbformat_minor": 4
}
