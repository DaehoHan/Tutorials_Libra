{
 "cells": [
  {
   "cell_type": "markdown",
   "metadata": {},
   "source": [
    "# Tutorial 2. Matrix functions and some functionality of the math_meigen library\n",
    "\n",
    "In this tutorial, we will learn:\n",
    "\n",
    "* matrix decompositions via math_meigen \n",
    "* matrix functions\n",
    "* solvers for systems of linear equations \n"
   ]
  },
  {
   "cell_type": "code",
   "execution_count": 1,
   "metadata": {},
   "outputs": [
    {
     "name": "stderr",
     "output_type": "stream",
     "text": [
      "/home/alexey/miniconda2/envs/py37/lib/python3.7/importlib/_bootstrap.py:219: RuntimeWarning: to-Python converter for std::vector<std::vector<int, std::allocator<int> >, std::allocator<std::vector<int, std::allocator<int> > > > already registered; second conversion method ignored.\n",
      "  return f(*args, **kwds)\n",
      "/home/alexey/miniconda2/envs/py37/lib/python3.7/importlib/_bootstrap.py:219: RuntimeWarning: to-Python converter for boost::python::detail::container_element<std::vector<std::vector<int, std::allocator<int> >, std::allocator<std::vector<int, std::allocator<int> > > >, unsigned long, boost::python::detail::final_vector_derived_policies<std::vector<std::vector<int, std::allocator<int> >, std::allocator<std::vector<int, std::allocator<int> > > >, false> > already registered; second conversion method ignored.\n",
      "  return f(*args, **kwds)\n",
      "/home/alexey/miniconda2/envs/py37/lib/python3.7/importlib/_bootstrap.py:219: RuntimeWarning: to-Python converter for std::vector<std::vector<float, std::allocator<float> >, std::allocator<std::vector<float, std::allocator<float> > > > already registered; second conversion method ignored.\n",
      "  return f(*args, **kwds)\n",
      "/home/alexey/miniconda2/envs/py37/lib/python3.7/importlib/_bootstrap.py:219: RuntimeWarning: to-Python converter for boost::python::detail::container_element<std::vector<std::vector<float, std::allocator<float> >, std::allocator<std::vector<float, std::allocator<float> > > >, unsigned long, boost::python::detail::final_vector_derived_policies<std::vector<std::vector<float, std::allocator<float> >, std::allocator<std::vector<float, std::allocator<float> > > >, false> > already registered; second conversion method ignored.\n",
      "  return f(*args, **kwds)\n",
      "/home/alexey/miniconda2/envs/py37/lib/python3.7/importlib/_bootstrap.py:219: RuntimeWarning: to-Python converter for std::vector<std::vector<double, std::allocator<double> >, std::allocator<std::vector<double, std::allocator<double> > > > already registered; second conversion method ignored.\n",
      "  return f(*args, **kwds)\n",
      "/home/alexey/miniconda2/envs/py37/lib/python3.7/importlib/_bootstrap.py:219: RuntimeWarning: to-Python converter for boost::python::detail::container_element<std::vector<std::vector<double, std::allocator<double> >, std::allocator<std::vector<double, std::allocator<double> > > >, unsigned long, boost::python::detail::final_vector_derived_policies<std::vector<std::vector<double, std::allocator<double> >, std::allocator<std::vector<double, std::allocator<double> > > >, false> > already registered; second conversion method ignored.\n",
      "  return f(*args, **kwds)\n",
      "/home/alexey/miniconda2/envs/py37/lib/python3.7/importlib/_bootstrap.py:219: RuntimeWarning: to-Python converter for std::vector<std::vector<std::complex<double>, std::allocator<std::complex<double> > >, std::allocator<std::vector<std::complex<double>, std::allocator<std::complex<double> > > > > already registered; second conversion method ignored.\n",
      "  return f(*args, **kwds)\n",
      "/home/alexey/miniconda2/envs/py37/lib/python3.7/importlib/_bootstrap.py:219: RuntimeWarning: to-Python converter for boost::python::detail::container_element<std::vector<std::vector<std::complex<double>, std::allocator<std::complex<double> > >, std::allocator<std::vector<std::complex<double>, std::allocator<std::complex<double> > > > >, unsigned long, boost::python::detail::final_vector_derived_policies<std::vector<std::vector<std::complex<double>, std::allocator<std::complex<double> > >, std::allocator<std::vector<std::complex<double>, std::allocator<std::complex<double> > > > >, false> > already registered; second conversion method ignored.\n",
      "  return f(*args, **kwds)\n"
     ]
    }
   ],
   "source": [
    "import sys\n",
    "import cmath\n",
    "import math\n",
    "import os\n",
    "\n",
    "if sys.platform==\"cygwin\":\n",
    "    from cyglibra_core import *\n",
    "elif sys.platform==\"linux\" or sys.platform==\"linux2\":\n",
    "    from liblibra_core import *\n",
    "import util.libutil as comn\n",
    "\n",
    "from libra_py import units\n",
    "from libra_py import data_outs\n",
    "import matplotlib.pyplot as plt   # plots\n",
    "#matplotlib.use('Agg')\n",
    "#%matplotlib inline \n",
    "\n",
    "import numpy as np\n",
    "#from matplotlib.mlab import griddata\n",
    "\n",
    "plt.rc('axes', titlesize=24)      # fontsize of the axes title\n",
    "plt.rc('axes', labelsize=20)      # fontsize of the x and y labels\n",
    "plt.rc('legend', fontsize=20)     # legend fontsize\n",
    "plt.rc('xtick', labelsize=16)    # fontsize of the tick labels\n",
    "plt.rc('ytick', labelsize=16)    # fontsize of the tick labels\n",
    "\n",
    "plt.rc('figure.subplot', left=0.2)\n",
    "plt.rc('figure.subplot', right=0.95)\n",
    "plt.rc('figure.subplot', bottom=0.13)\n",
    "plt.rc('figure.subplot', top=0.88)\n",
    "\n",
    "colors = {}\n",
    "\n",
    "colors.update({\"11\": \"#8b1a0e\"})  # red       \n",
    "colors.update({\"12\": \"#FF4500\"})  # orangered \n",
    "colors.update({\"13\": \"#B22222\"})  # firebrick \n",
    "colors.update({\"14\": \"#DC143C\"})  # crimson   \n",
    "\n",
    "colors.update({\"21\": \"#5e9c36\"})  # green\n",
    "colors.update({\"22\": \"#006400\"})  # darkgreen  \n",
    "colors.update({\"23\": \"#228B22\"})  # forestgreen\n",
    "colors.update({\"24\": \"#808000\"})  # olive      \n",
    "\n",
    "colors.update({\"31\": \"#8A2BE2\"})  # blueviolet\n",
    "colors.update({\"32\": \"#00008B\"})  # darkblue  \n",
    "\n",
    "colors.update({\"41\": \"#2F4F4F\"})  # darkslategray\n",
    "\n",
    "clrs_index = [\"11\", \"21\", \"31\", \"41\", \"12\", \"22\", \"32\", \"13\",\"23\", \"14\", \"24\"]"
   ]
  },
  {
   "cell_type": "code",
   "execution_count": 2,
   "metadata": {},
   "outputs": [
    {
     "name": "stdout",
     "output_type": "stream",
     "text": [
      "Matrix a2 = \n",
      "0.0  1.0  \n",
      "-2.0  -1.0  \n",
      "Matrix a3 = \n",
      "0.0  1.0  4.0  \n",
      "-2.0  -1.0  2.0  \n",
      "-4.0  -3.0  0.0  \n",
      "Matrix b2 = \n",
      "0j  (1-1j)  \n",
      "(1+1j)  (2+0j)  \n",
      "Matrix b3 = \n",
      "0j  (1-1j)  (2-2j)  \n",
      "(1+1j)  (2+0j)  (3-1j)  \n",
      "(2+2j)  (3+1j)  (4+0j)  \n"
     ]
    }
   ],
   "source": [
    "def a_matrix(N):    \n",
    "    A = MATRIX(N,N)    \n",
    "    for i in range(0,N):\n",
    "        for j in range(0,N):\n",
    "            A.set(i,j,-2.0*i+j*j )    \n",
    "    return A\n",
    "\n",
    "\n",
    "def b_matrix(N):    \n",
    "    B = CMATRIX(N,N)    \n",
    "    for i in range(0,N):\n",
    "        for j in range(0,N):\n",
    "            B.set(i,j, i+j + (i-j)*1j )    \n",
    "    return B\n",
    "\n",
    "print(\"Matrix a2 = \")\n",
    "a2 = a_matrix(2); data_outs.print_matrix(a2)\n",
    "\n",
    "print(\"Matrix a3 = \")\n",
    "a3 = a_matrix(3); data_outs.print_matrix(a3)\n",
    "\n",
    "print(\"Matrix b2 = \")\n",
    "b2 = b_matrix(2); data_outs.print_matrix(b2)\n",
    "\n",
    "print(\"Matrix b3 = \")\n",
    "b3 = b_matrix(3); data_outs.print_matrix(b3)"
   ]
  },
  {
   "cell_type": "markdown",
   "metadata": {},
   "source": [
    "### 1. Matrix determinants and invertability\n",
    "\n",
    "The matrix determinants can be computed using the following functions:\n",
    "\n",
    "* `det(A)`\n",
    "* `FullPivLU_det(A)`\n",
    "\n",
    "Here, A can be either a real or complex matrix. The returned determinant has the corresponding type. \n",
    "\n",
    "Both functions are wraps of the corresponding Eigen functions. \n",
    "\n",
    "\n",
    "If the matrix determinant is zero the matrix is degenerate and is not invertible. \n",
    "To check whether the matrix is invertible, one could compute the determinant. However, there are also \n",
    "ways to do that even without the expences of computing the determinant itself. This can be done using \n",
    "function:\n",
    "\n",
    "* `FullPivLU_rank_invertible(A)`\n",
    "\n",
    "Here, A can be either a real or complex matrix.\n"
   ]
  },
  {
   "cell_type": "code",
   "execution_count": 3,
   "metadata": {},
   "outputs": [
    {
     "name": "stdout",
     "output_type": "stream",
     "text": [
      "Using the `det` function\n",
      "|a2| = 2.0\n",
      "|a3| = -0.0\n",
      "|b2| = (-2+0j)\n",
      "|b3| = 0j\n"
     ]
    }
   ],
   "source": [
    "print(\"Using the `det` function\")\n",
    "print(F\"|a2| = {det(a2)}\")\n",
    "print(F\"|a3| = {det(a3)}\")\n",
    "print(F\"|b2| = {det(b2)}\")\n",
    "print(F\"|b3| = {det(b3)}\")"
   ]
  },
  {
   "cell_type": "code",
   "execution_count": 4,
   "metadata": {
    "scrolled": true
   },
   "outputs": [
    {
     "name": "stdout",
     "output_type": "stream",
     "text": [
      "Using the `FullPivLU_det` function\n",
      "|a2| = 2.0\n",
      "|a3| = 0.0\n",
      "|b2| = (-2+0j)\n",
      "|b3| = (-0+0j)\n"
     ]
    }
   ],
   "source": [
    "print(\"Using the `FullPivLU_det` function\")\n",
    "print(F\"|a2| = {FullPivLU_det(a2)}\")\n",
    "print(F\"|a3| = {FullPivLU_det(a3)}\")\n",
    "print(F\"|b2| = {FullPivLU_det(b2)}\")\n",
    "print(F\"|b3| = {FullPivLU_det(b3)}\")"
   ]
  },
  {
   "cell_type": "code",
   "execution_count": 5,
   "metadata": {},
   "outputs": [
    {
     "name": "stdout",
     "output_type": "stream",
     "text": [
      " matrix a2: rank = 2  is invertible = 1\n",
      " matrix a3: rank = 2  is invertible = 0\n",
      " matrix b2: rank = 2  is invertible = 1\n",
      " matrix b3: rank = 2  is invertible = 0\n"
     ]
    }
   ],
   "source": [
    "res = FullPivLU_rank_invertible(a2)\n",
    "print(F\" matrix a2: rank = {res[0]}  is invertible = {res[1]}\")\n",
    "\n",
    "res = FullPivLU_rank_invertible(a3)\n",
    "print(F\" matrix a3: rank = {res[0]}  is invertible = {res[1]}\")\n",
    "\n",
    "res = FullPivLU_rank_invertible(b2)\n",
    "print(F\" matrix b2: rank = {res[0]}  is invertible = {res[1]}\")\n",
    "\n",
    "res = FullPivLU_rank_invertible(b3)\n",
    "print(F\" matrix b3: rank = {res[0]}  is invertible = {res[1]}\")"
   ]
  },
  {
   "cell_type": "markdown",
   "metadata": {},
   "source": [
    "### 2. Matrix inversion\n",
    "\n",
    "Now, let's focus on some bigger matrices, but we ensure they have full rank (invertible).\n",
    "\n",
    "Then the inversion can be done with the help of the following functions:\n",
    "\n",
    "* `void FullPivLU_inverse(MATRIX& S, MATRIX& S_inv)`\n",
    "\n",
    "and also: \n",
    "\n",
    "* `void inv_matrix(MATRIX& S, MATRIX& S_inv, double thresh)`\n",
    "* `void inv_matrix(MATRIX& S, MATRIX& S_inv)`\n",
    "* `void inv_matrix(CMATRIX& S, CMATRIX& S_inv, double thresh)`\n",
    "* `void inv_matrix(CMATRIX& S, CMATRIX& S_inv)`\n",
    "\n",
    "Here, `S` is the input matrix, `S_inv` is its inverse, `thresh` is the accuracy threshold.\n"
   ]
  },
  {
   "cell_type": "code",
   "execution_count": 6,
   "metadata": {},
   "outputs": [
    {
     "name": "stdout",
     "output_type": "stream",
     "text": [
      " matrix c: rank = 5  is invertible = 1\n",
      "0.5050268939253999  0.4254185829429974  0.19720283625517174  0.1771799564255308  0.2964751577454038  \n",
      "0.9654309782038587  0.9782337173718185  0.6751712656929956  0.8354842820370031  0.285542999061543  \n",
      "0.7193702322986769  0.5038625218457834  0.973675081494113  0.20642072810159098  0.19049477539513948  \n",
      "0.5031518649790212  0.1116011892965069  0.7772237978769577  0.671205570768195  0.7085540731011676  \n",
      "0.5932680115072373  0.6645278803373351  0.6053563564109413  0.5787724990298844  0.614407979238037  \n"
     ]
    }
   ],
   "source": [
    "rnd = Random()\n",
    "\n",
    "def c_matrix(N):    \n",
    "    C = MATRIX(N,N)    \n",
    "    for i in range(0,N):\n",
    "        for j in range(0,N):\n",
    "            C.set(i,j, rnd.uniform(0.0, 1.0) )     \n",
    "    return C\n",
    "\n",
    "c = c_matrix(5)\n",
    "res = FullPivLU_rank_invertible(c)\n",
    "print(F\" matrix c: rank = {res[0]}  is invertible = {res[1]}\")\n",
    "\n",
    "data_outs.print_matrix(c)\n"
   ]
  },
  {
   "cell_type": "markdown",
   "metadata": {},
   "source": [
    "The `FullPivLU_inverse` is a more reliable option. In the example below, see how it yileds the expected result."
   ]
  },
  {
   "cell_type": "code",
   "execution_count": 7,
   "metadata": {},
   "outputs": [
    {
     "name": "stdout",
     "output_type": "stream",
     "text": [
      "Inverse matrix ic = \n",
      "3.5919487403883186  0.6397512943560217  -0.010060534573930554  1.2241867180144288  -3.439223040846527  \n",
      "-1.2346833659724994  -0.21718288815141204  0.14887587219967557  -1.8791615633542986  2.8176644205700154  \n",
      "-1.9249706919247642  -0.4058565733791445  1.2583674505835634  -0.1505292791263807  0.9009342658019895  \n",
      "-1.5759811058545705  1.5251077919604974  -1.0384900219885909  0.8346882117114696  -0.5889236903858864  \n",
      "1.248227605545138  -1.419614515083888  -0.4128768712068137  0.21242189025795224  1.5680639473062579  \n",
      "\n",
      "ic * c = (should be identity matrix) \n",
      "1.0000000000000009  4.440892098500626e-16  0.0  0.0  4.440892098500626e-16  \n",
      "-6.661338147750939e-16  0.9999999999999996  -4.440892098500626e-16  -4.440892098500626e-16  -4.440892098500626e-16  \n",
      "-3.3306690738754696e-16  -3.3306690738754696e-16  0.9999999999999999  -1.1102230246251565e-16  -1.1102230246251565e-16  \n",
      "-1.1102230246251565e-16  -5.551115123125783e-17  2.220446049250313e-16  1.0  5.551115123125783e-17  \n",
      "1.1102230246251565e-16  0.0  -1.1102230246251565e-16  1.1102230246251565e-16  1.0  \n",
      "\n",
      "c * ic = (should be identity matrix) \n",
      "1.0  0.0  0.0  -4.163336342344337e-17  -1.6653345369377348e-16  \n",
      "-1.6653345369377348e-16  1.0  -5.551115123125783e-17  -6.938893903907228e-18  -2.220446049250313e-16  \n",
      "8.326672684688674e-17  -1.1102230246251565e-16  0.9999999999999999  6.938893903907228e-17  -4.996003610813204e-16  \n",
      "-1.1102230246251565e-16  -2.220446049250313e-16  -5.551115123125783e-17  1.0  0.0  \n",
      "-3.3306690738754696e-16  -2.220446049250313e-16  0.0  -3.0531133177191805e-16  1.0  \n"
     ]
    }
   ],
   "source": [
    "ic = MATRIX(5,5)\n",
    "\n",
    "FullPivLU_inverse(c, ic)\n",
    "\n",
    "print(\"Inverse matrix ic = \"); data_outs.print_matrix(ic)\n",
    "print(\"\\nic * c = (should be identity matrix) \"); data_outs.print_matrix(ic * c)\n",
    "print(\"\\nc * ic = (should be identity matrix) \"); data_outs.print_matrix(c * ic)"
   ]
  },
  {
   "cell_type": "markdown",
   "metadata": {},
   "source": [
    "The `inv_matrix` options are based on the transformation:\n",
    "\n",
    "\\\\[  S C = C E => S = C E C^+, so S^{-1} = C E^{-1} C^+  \\\\]\n",
    "\n",
    "However, this transformation does not work for general matrices, for instance:"
   ]
  },
  {
   "cell_type": "code",
   "execution_count": 8,
   "metadata": {
    "scrolled": true
   },
   "outputs": [
    {
     "name": "stdout",
     "output_type": "stream",
     "text": [
      "Inverse matrix ic = \n",
      "-3.142746586043985  0.8767426844280035  2.7610130252677005  -2.345669862062674  1.5756362478816373  \n",
      "0.8767426844280033  -0.3122658191118454  0.4910484778192195  -1.6937890940257636  0.6028977419312438  \n",
      "2.7610130252677005  0.49104847781921956  0.9187623302534056  1.716097640677078  -5.718911483596971  \n",
      "-2.345669862062674  -1.6937890940257636  1.716097640677078  -2.834267349411997  5.075986084539181  \n",
      "1.5756362478816373  0.6028977419312438  -5.718911483596972  5.075986084539181  0.30715962583386086  \n",
      "\n",
      "ic * c = (should be identity matrix) \n",
      "1.0  1.697122111627506  1.7912334892057968  0.0831115981814965  -0.8493904500629564  \n",
      "-5.551115123125783e-17  0.5265480829545963  -0.5113003097464346  -0.7921294115968655  -0.5654067015745277  \n",
      "4.440892098500626e-16  -1.490981257121247  -0.357590083942938  -1.0689833530808812  -1.163990223949373  \n",
      "8.881784197001252e-16  1.2666908007036795  0.9346714418113335  -0.4410366073932601  0.2583198527159807  \n",
      "-1.0824674490095276e-15  -0.850863104278401  -0.7194642218295525  3.1871865577381584  3.3351994161432534  \n",
      "\n",
      "c * ic = (should be identity matrix) \n",
      "-0.6181779956180458  0.2854098302550201  0.3930124381647768  -0.5640479891042429  0.9148652101956286  \n",
      "-1.822147397530959  -0.3704735190774522  3.5670270779056032  -3.681417667008864  2.578312108826187  \n",
      "0.6852446130429531  0.7167009040134904  2.3930028584417258  -0.4880231086376744  -3.0248171671896666  \n",
      "0.20448855241384956  0.07824501795185923  -0.7422093343155511  1.658769464015425  0.03986365973186359  \n",
      "-5.551115123125783e-16  3.3306690738754696e-16  0.0  8.881784197001252e-16  0.9999999999999998  \n"
     ]
    }
   ],
   "source": [
    "ic = MATRIX(5,5)\n",
    "inv_matrix(c, ic, 1e-50)\n",
    "\n",
    "print(\"Inverse matrix ic = \"); data_outs.print_matrix(ic)\n",
    "print(\"\\nic * c = (should be identity matrix) \"); data_outs.print_matrix(ic * c)\n",
    "print(\"\\nc * ic = (should be identity matrix) \"); data_outs.print_matrix(c * ic)"
   ]
  },
  {
   "cell_type": "markdown",
   "metadata": {},
   "source": [
    "but it works for symmetric and Hermitian matrices"
   ]
  },
  {
   "cell_type": "code",
   "execution_count": 9,
   "metadata": {},
   "outputs": [
    {
     "name": "stdout",
     "output_type": "stream",
     "text": [
      "Inverse matrix ic = \n",
      "1.3372893171434086  -1.7327944206791948  1.3131213838978861  -9.063369712607603  9.01591563156659  \n",
      "-1.7327944206791943  3.5567639948208662  -1.5456449021210523  5.323217516558007  -6.070927024484793  \n",
      "1.3131213838978864  -1.5456449021210523  1.7040241618327547  -0.10405993246709136  -0.750363799905506  \n",
      "-9.063369712607603  5.323217516558008  -0.10405993246709136  1.552532904833763  0.8877136482652751  \n",
      "9.01591563156659  -6.070927024484793  -0.7503637999055061  0.8877136482652755  -0.6507385046102843  \n",
      "\n",
      "ic * c = (should be identity matrix) \n",
      "0.9999999999999982  -8.881784197001252e-16  -4.440892098500626e-16  -8.881784197001252e-16  0.0  \n",
      "0.0  0.9999999999999987  -1.3322676295501878e-15  -1.3322676295501878e-15  -1.3322676295501878e-15  \n",
      "3.885780586188048e-16  1.2212453270876722e-15  1.0000000000000009  7.771561172376096e-16  7.216449660063518e-16  \n",
      "-3.2751579226442118e-15  -6.439293542825908e-15  -3.6637359812630166e-15  0.9999999999999951  -4.3298697960381105e-15  \n",
      "4.052314039881821e-15  6.716849298982197e-15  3.0531133177191805e-15  5.6066262743570405e-15  1.0000000000000044  \n",
      "\n",
      "c * ic = (should be identity matrix) \n",
      "0.9999999999999987  0.0  2.7755575615628914e-16  -3.9968028886505635e-15  3.941291737419306e-15  \n",
      "-8.881784197001252e-16  0.9999999999999987  1.0547118733938987e-15  -7.105427357601002e-15  6.5503158452884236e-15  \n",
      "0.0  -8.881784197001252e-16  1.0000000000000009  -3.941291737419306e-15  2.942091015256665e-15  \n",
      "0.0  -8.881784197001252e-16  6.106226635438361e-16  0.999999999999995  5.329070518200751e-15  \n",
      "8.881784197001252e-16  -4.440892098500626e-16  5.551115123125783e-16  -4.440892098500626e-15  1.0000000000000042  \n"
     ]
    }
   ],
   "source": [
    "ic = MATRIX(5,5)\n",
    "c_herm = 0.5 * (c + c.T())\n",
    "inv_matrix(c_herm, ic, 1e-50)\n",
    "\n",
    "print(\"Inverse matrix ic = \"); data_outs.print_matrix(ic)\n",
    "print(\"\\nic * c = (should be identity matrix) \"); data_outs.print_matrix(ic * c_herm)\n",
    "print(\"\\nc * ic = (should be identity matrix) \"); data_outs.print_matrix(c_herm * ic)"
   ]
  },
  {
   "cell_type": "markdown",
   "metadata": {},
   "source": [
    "Computing the inverse of a matrix is equivalent to solving a system of linear equations. The latter is actually a more general task.\n",
    "\n",
    "Libra offers the functions to do the solving systems of linear equations:\n",
    "\n",
    "* `void solve_linsys(MATRIX& A, MATRIX& B, MATRIX&, X, double eps, int maxiter)`\n",
    "\n",
    "These functions solve the equations: \n",
    "\\\\[  A X = B \\\\]\n",
    "\n",
    "The result is stored in the `X` variable.\n",
    "\n",
    "If `B` is identity matrix, \\\\[ X = A^{-1} \\\\]\n",
    "\n",
    "\n",
    "You can also find the function:\n",
    "\n",
    "* `bool linsys_solver(const MATRIX& A, MATRIX& X, const MATRIX& B, const double NormThreshold)`\n",
    "\n",
    "but it is inot currently implemented even though it is exposed - all it does for now is just to exit with the \"Not implemented\" error message"
   ]
  },
  {
   "cell_type": "code",
   "execution_count": 10,
   "metadata": {},
   "outputs": [],
   "source": [
    "ident = MATRIX(5,5)\n",
    "ident.identity()\n",
    "\n",
    "solve_linsys(c, ident, ic, 1e-20, 10000)"
   ]
  },
  {
   "cell_type": "code",
   "execution_count": 11,
   "metadata": {},
   "outputs": [
    {
     "name": "stdout",
     "output_type": "stream",
     "text": [
      "Inverse matrix ic = \n",
      "3.5919487403883164  0.639751294356023  -0.010060534573938934  1.2241867180144361  -3.4392230408465547  \n",
      "-1.2346833659725014  -0.2171828881514145  0.1488758721996851  -1.8791615633543037  2.8176644205700327  \n",
      "-1.9249706919247638  -0.4058565733791464  1.258367450583565  -0.15052927912638636  0.900934265802006  \n",
      "-1.5759811058545623  1.525107791960502  -1.0384900219885966  0.834688211711474  -0.5889236903858898  \n",
      "1.2482276055451333  -1.4196145150838893  -0.4128768712068082  0.21242189025795077  1.5680639473062576  \n",
      "\n",
      "ic * c = (should be identity matrix) \n",
      "0.9999999999999818  -2.0872192862952943e-14  -1.865174681370263e-14  -1.199040866595169e-14  -1.3322676295501878e-14  \n",
      "1.0436096431476471e-14  1.0000000000000118  1.3100631690576847e-14  5.551115123125783e-15  7.105427357601002e-15  \n",
      "6.217248937900877e-15  9.325873406851315e-15  1.0000000000000056  4.3298697960381105e-15  5.662137425588298e-15  \n",
      "4.718447854656915e-15  3.4416913763379853e-15  7.771561172376096e-16  1.000000000000005  3.774758283725532e-15  \n",
      "-5.551115123125783e-16  -6.661338147750939e-16  2.220446049250313e-15  -1.887379141862766e-15  0.9999999999999982  \n",
      "\n",
      "c * ic = (should be identity matrix) \n",
      "0.9999999999999984  -3.885780586188048e-16  7.077671781985373e-16  7.355227538141662e-16  -4.218847493575595e-15  \n",
      "1.1657341758564144e-15  1.0000000000000007  -9.159339953157541e-16  1.3530843112619095e-15  -1.7208456881689926e-15  \n",
      "-1.5265566588595902e-15  -1.4988010832439613e-15  1.0000000000000002  -2.1510571102112408e-15  3.941291737419306e-15  \n",
      "1.3322676295501878e-15  8.881784197001252e-16  -1.942890293094024e-15  1.0000000000000007  -1.5543122344752192e-15  \n",
      "-7.771561172376096e-16  -3.3306690738754696e-16  2.275957200481571e-15  -1.0547118733938987e-15  1.0000000000000029  \n"
     ]
    }
   ],
   "source": [
    "print(\"Inverse matrix ic = \"); data_outs.print_matrix(ic)\n",
    "print(\"\\nic * c = (should be identity matrix) \"); data_outs.print_matrix(ic * c)\n",
    "print(\"\\nc * ic = (should be identity matrix) \"); data_outs.print_matrix(c * ic)"
   ]
  },
  {
   "cell_type": "markdown",
   "metadata": {},
   "source": [
    "### 3. Matrix functions\n",
    "\n",
    "Libra implements several functions for computing functions of matrices, namely, $ X^{-1/2}$, $exp(X)$:\n",
    "\n",
    "* `void sqrt_matrix(CMATRIX& S, CMATRIX& S_half, CMATRIX& S_i_half, double thresh, int do_phase_correction)`\n",
    "* `void sqrt_matrix(CMATRIX& S, CMATRIX& S_half, CMATRIX& S_i_half, double thresh)`\n",
    "* `void sqrt_matrix(CMATRIX& S, CMATRIX& S_half, CMATRIX& S_i_half)`\n",
    "\n",
    "This group of functions takes the matrix $S$ as the input and computes $S^{1/2}$ and $S^{-1/2}$ as the output deposited in the `S_half` and `S_i_half` variables respectively.\n",
    "\n",
    "\n",
    "* `void exp_matrix(CMATRIX& res, CMATRIX& S, complex<double> dt, int do_phase_correction)`\n",
    "* `void exp_matrix(CMATRIX& res, CMATRIX& S, complex<double> dt)`\n",
    "\n",
    "This group of functions computes the $exp(dt * S)$ matrices, where `dt` is a complex argument\n",
    "\n",
    "The calculations in these functions is based on the eigendecomposition, similar to how we computed $S^{-1}$ in the example above, so it is important that the input matrices are Hermitian"
   ]
  },
  {
   "cell_type": "code",
   "execution_count": 12,
   "metadata": {},
   "outputs": [
    {
     "name": "stdout",
     "output_type": "stream",
     "text": [
      "S = \n",
      "(0.5050268939253999+0j)  (0.695424780573428+0j)  (0.45828653427692434+0j)  (0.340165910702276+0j)  (0.44487158462632054+0j)  \n",
      "(0.695424780573428+0j)  (0.9782337173718185+0j)  (0.5895168937693895+0j)  (0.473542735666755+0j)  (0.47503543969943907+0j)  \n",
      "(0.45828653427692434+0j)  (0.5895168937693895+0j)  (0.973675081494113+0j)  (0.49182226298927434+0j)  (0.3979255659030404+0j)  \n",
      "(0.340165910702276+0j)  (0.473542735666755+0j)  (0.49182226298927434+0j)  (0.671205570768195+0j)  (0.643663286065526+0j)  \n",
      "(0.44487158462632054+0j)  (0.47503543969943907+0j)  (0.3979255659030404+0j)  (0.643663286065526+0j)  (0.614407979238037+0j)  \n",
      "\n",
      "S^{1/2} = \n",
      "(0.4477930600809248+0.09384610653652825j)  (0.45010695163370085-0.046279733037341134j)  (0.2119989244017657-0.016209501531174352j)  (0.09003608360053927+0.07554138116654201j)  (0.27191342799796825-0.09031499129682577j)  \n",
      "(0.45010695163370085-0.046279733037341134j)  (0.8048482383570217+0.022822616398836898j)  (0.2509061749721187+0.007993633739500187j)  (0.1992570777376192-0.03725285025329007j)  (0.17691098600360078+0.04453838140701101j)  \n",
      "(0.2119989244017657-0.016209501531174356j)  (0.2509061749721187+0.007993633739500189j)  (0.8898871213875349+0.002799774541385719j)  (0.23915194954756655-0.013047830953002548j)  (0.13203394696133125+0.015599592180673685j)  \n",
      "(0.09003608360053927+0.07554138116654201j)  (0.1992570777376192-0.03725285025329007j)  (0.23915194954756647-0.013047830953002548j)  (0.6099501364069613+0.060807000728662235j)  (0.45870472653407834-0.07269901154557618j)  \n",
      "(0.27191342799796825-0.09031499129682578j)  (0.17691098600360075+0.04453838140701101j)  (0.13203394696133125+0.015599592180673685j)  (0.45870472653407834-0.07269901154557618j)  (0.5518641671541713+0.08691674011825731j)  \n",
      "\n",
      "S^{-1/2} = \n",
      "(1.7327845948054943-1.3145241920697166j)  (-0.674169094502993+0.6482509602722148j)  (0.040149275157658815+0.2270502495042354j)  (-1.30339219915603-1.0581256560401646j)  (1.0486033977488465+1.2650630414809252j)  \n",
      "(-0.6741690945029933+0.6482509602722148j)  (1.681575651380658-0.31968168408692293j)  (-0.37889660661646785-0.11196868278203627j)  (0.6451867146108992+0.5218093183486465j)  (-0.9545590936713646-0.6238594438902538j)  \n",
      "(0.04014927515765883+0.22705024950423544j)  (-0.37889660661646807-0.11196868278203626j)  (1.2829979970093983-0.03921709171344142j)  (-0.1898984709794712+0.18276399602238017j)  (-0.15322886733127494-0.21850710769695555j)  \n",
      "(-1.30339219915603-1.0581256560401646j)  (0.645186714610899+0.5218093183486465j)  (-0.1898984709794712+0.18276399602238017j)  (1.5739384209925729-0.851737770004501j)  (-0.33440417708809594+1.0183119251624826j)  \n",
      "(1.0486033977488465+1.2650630414809254j)  (-0.9545590936713644-0.6238594438902539j)  (-0.15322886733127494-0.21850710769695555j)  (-0.33440417708809583+1.0183119251624826j)  (1.3265405292899828-1.2174629486287096j)  \n",
      "\n",
      "S_half * S_half = (should be as S) \n",
      "(0.5050268939253999+9.020562075079397e-17j)  (0.6954247805734277+2.6020852139652106e-17j)  (0.4582865342769241+1.0408340855860843e-17j)  (0.3401659107022754+6.938893903907228e-17j)  (0.4448715846263204-6.938893903907228e-18j)  \n",
      "(0.6954247805734277+1.734723475976807e-17j)  (0.9782337173718174-4.85722573273506e-17j)  (0.5895168937693885-2.0816681711721685e-17j)  (0.473542735666754+2.5153490401663703e-17j)  (0.4750354396994383-6.245004513516506e-17j)  \n",
      "(0.4582865342769241+1.0408340855860843e-17j)  (0.5895168937693887-2.0816681711721685e-17j)  (0.9736750814941132-7.806255641895632e-18j)  (0.4918222629892739+1.5612511283791264e-17j)  (0.39792556590303996-2.7755575615628914e-17j)  \n",
      "(0.3401659107022754+7.632783294297951e-17j)  (0.473542735666754+2.7755575615628914e-17j)  (0.49182226298927373+9.540979117872439e-18j)  (0.6712055707681946+5.551115123125783e-17j)  (0.6436632860655258+1.3877787807814457e-17j)  \n",
      "(0.4448715846263204-1.734723475976807e-17j)  (0.4750354396994383-7.632783294297951e-17j)  (0.3979255659030399-2.0816681711721685e-17j)  (0.6436632860655258+1.3877787807814457e-17j)  (0.6144079792380369-9.71445146547012e-17j)  \n",
      "\n",
      "S_half * S_i_half = (should be an identity) \n",
      "(1.000000000000002-5.828670879282072e-16j)  (-8.326672684688674e-16+2.498001805406602e-16j)  (-1.249000902703301e-16+9.71445146547012e-17j)  (-2.636779683484747e-16-5.551115123125783e-16j)  (1.1102230246251565e-16+6.661338147750939e-16j)  \n",
      "(1.6653345369377348e-16-7.771561172376096e-16j)  (0.9999999999999994+3.3306690738754696e-16j)  (-2.7755575615628914e-16+1.1102230246251565e-16j)  (-1.1657341758564144e-15-4.163336342344337e-16j)  (1.1102230246251565e-16+5.273559366969494e-16j)  \n",
      "(1.1102230246251565e-16-4.163336342344337e-16j)  (-1.1657341758564144e-15+1.6653345369377348e-16j)  (1.0000000000000013+5.898059818321144e-17j)  (-7.494005416219807e-16-3.0531133177191805e-16j)  (5.551115123125783e-17+2.7755575615628914e-16j)  \n",
      "(6.661338147750939e-16-3.3306690738754696e-16j)  (-1.0547118733938987e-15+2.220446049250313e-16j)  (-1.942890293094024e-16+8.326672684688674e-17j)  (1.0000000000000002-4.996003610813204e-16j)  (1.1102230246251565e-16+6.661338147750939e-16j)  \n",
      "(1.1102230246251565e-16-9.992007221626409e-16j)  (-7.771561172376096e-16+3.3306690738754696e-16j)  (-9.71445146547012e-17+1.3877787807814457e-16j)  (-5.551115123125783e-16-5.551115123125783e-16j)  (1.0000000000000009+5.551115123125783e-16j)  \n",
      "\n",
      "S_i_half * S_half = (should be an identity) \n",
      "(1.000000000000002-6.938893903907228e-16j)  (4.718447854656915e-16-9.43689570931383e-16j)  (3.191891195797325e-16-3.0531133177191805e-16j)  (7.771561172376096e-16-4.440892098500626e-16j)  (2.220446049250313e-16-1.1102230246251565e-15j)  \n",
      "(-9.43689570931383e-16+2.636779683484747e-16j)  (0.9999999999999994+3.608224830031759e-16j)  (-1.0547118733938987e-15+1.249000902703301e-16j)  (-1.1102230246251565e-15+2.7755575615628914e-16j)  (-8.326672684688674e-16+4.440892098500626e-16j)  \n",
      "(-2.3592239273284576e-16+1.249000902703301e-16j)  (-3.885780586188048e-16+1.3183898417423734e-16j)  (1.0000000000000013+5.204170427930421e-17j)  (-1.1102230246251565e-16+9.71445146547012e-17j)  (-1.5265566588595902e-16+1.3877787807814457e-16j)  \n",
      "(-3.3306690738754696e-16-5.551115123125783e-16j)  (-1.27675647831893e-15-4.440892098500626e-16j)  (-8.743006318923108e-16-2.498001805406602e-16j)  (1.0000000000000002-4.996003610813204e-16j)  (-6.106226635438361e-16-5.551115123125783e-16j)  \n",
      "(1.6653345369377348e-16+7.771561172376096e-16j)  (3.885780586188048e-16+5.551115123125783e-16j)  (1.6653345369377348e-16+1.942890293094024e-16j)  (2.220446049250313e-16+6.661338147750939e-16j)  (1.000000000000001+5.551115123125783e-16j)  \n"
     ]
    }
   ],
   "source": [
    "S = CMATRIX(c_herm)\n",
    "S_half = CMATRIX(5,5)\n",
    "S_i_half = CMATRIX(5,5)\n",
    "\n",
    "sqrt_matrix(S, S_half, S_i_half)\n",
    "\n",
    "print(\"S = \"); data_outs.print_matrix(S)\n",
    "print(\"\\nS^{1/2} = \"); data_outs.print_matrix(S_half)\n",
    "print(\"\\nS^{-1/2} = \"); data_outs.print_matrix(S_i_half)\n",
    "print(\"\\nS_half * S_half = (should be as S) \"); data_outs.print_matrix(S_half * S_half)\n",
    "print(\"\\nS_half * S_i_half = (should be an identity) \"); data_outs.print_matrix(S_half * S_i_half)\n",
    "print(\"\\nS_i_half * S_half = (should be an identity) \"); data_outs.print_matrix(S_i_half * S_half)"
   ]
  },
  {
   "cell_type": "markdown",
   "metadata": {},
   "source": [
    "Here is an example of the exponential function, but without the validation examples"
   ]
  },
  {
   "cell_type": "code",
   "execution_count": 13,
   "metadata": {},
   "outputs": [
    {
     "name": "stdout",
     "output_type": "stream",
     "text": [
      "S = \n",
      "(0.5050268939253999+0j)  (0.695424780573428+0j)  (0.45828653427692434+0j)  (0.340165910702276+0j)  (0.44487158462632054+0j)  \n",
      "(0.695424780573428+0j)  (0.9782337173718185+0j)  (0.5895168937693895+0j)  (0.473542735666755+0j)  (0.47503543969943907+0j)  \n",
      "(0.45828653427692434+0j)  (0.5895168937693895+0j)  (0.973675081494113+0j)  (0.49182226298927434+0j)  (0.3979255659030404+0j)  \n",
      "(0.340165910702276+0j)  (0.473542735666755+0j)  (0.49182226298927434+0j)  (0.671205570768195+0j)  (0.643663286065526+0j)  \n",
      "(0.44487158462632054+0j)  (0.47503543969943907+0j)  (0.3979255659030404+0j)  (0.643663286065526+0j)  (0.614407979238037+0j)  \n",
      "\n",
      "exp(1*S} = \n",
      "(3.4860106562084447+0j)  (3.315853369061714+0j)  (2.7797667565039834+0j)  (2.3674301479081823+0j)  (2.4369397150445984+0j)  \n",
      "(3.315853369061714+0j)  (5.45407618650313+0j)  (3.655021119042205+0j)  (3.134969681979679+0j)  (3.093966238887658+0j)  \n",
      "(2.7797667565039834+0j)  (3.655021119042205+0j)  (4.859909123074647+0j)  (2.923128433871389+0j)  (2.7553560817099734+0j)  \n",
      "(2.3674301479081823+0j)  (3.134969681979679+0j)  (2.9231284338713888+0j)  (3.8827155669517825+0j)  (2.797712958110875+0j)  \n",
      "(2.436939715044598+0j)  (3.093966238887658+0j)  (2.755356081709973+0j)  (2.7977129581108753+0j)  (3.7234300541258105+0j)  \n"
     ]
    }
   ],
   "source": [
    "S = CMATRIX(c_herm)\n",
    "expS = CMATRIX(5,5)\n",
    "\n",
    "exp_matrix(expS, S, 1.0+0.0j)\n",
    "\n",
    "print(\"S = \"); data_outs.print_matrix(S)\n",
    "print(\"\\nexp(1*S} = \"); data_outs.print_matrix(expS)"
   ]
  },
  {
   "cell_type": "code",
   "execution_count": null,
   "metadata": {},
   "outputs": [],
   "source": []
  }
 ],
 "metadata": {
  "kernelspec": {
   "display_name": "Python 3",
   "language": "python",
   "name": "python3"
  },
  "language_info": {
   "codemirror_mode": {
    "name": "ipython",
    "version": 3
   },
   "file_extension": ".py",
   "mimetype": "text/x-python",
   "name": "python",
   "nbconvert_exporter": "python",
   "pygments_lexer": "ipython3",
   "version": "3.7.6"
  }
 },
 "nbformat": 4,
 "nbformat_minor": 4
}
