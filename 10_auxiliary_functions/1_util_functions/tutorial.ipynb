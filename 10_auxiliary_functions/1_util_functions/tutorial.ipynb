{
 "cells": [
  {
   "cell_type": "markdown",
   "metadata": {},
   "source": [
    "# Libra data type vectorization and auxiliary functions"
   ]
  },
  {
   "cell_type": "markdown",
   "metadata": {},
   "source": [
    "## Table of Content <a name=\"TOC\"></a>\n",
    "\n",
    "1. [General setups](#setups)\n",
    "\n",
    "2. [Data types and conversion](#data_types_conversion) \n",
    "\n",
    "   2.1. [Data types](#data_types)     \n",
    "   \n",
    "   2.2. [Python to C++ conversion](#py2cpp)\n",
    "   \n",
    "   2.3. [C++ to Python conversion](#cpp2py)   \n",
    "\n",
    "3. [Utility and convenience functions](#utility-func) \n",
    "\n",
    "   3.1. [Printing out: `show_vector`](#show_vector-1)\n",
    "   \n",
    "   3.2. [Checking the inclusion: `is_in_vector`](#is_in_vector-1)\n",
    "   \n",
    "   3.3. [Checking the repetitions of elements in a list: `is_repeating`](#is_repeating-1)\n",
    "\n",
    "   3.4. [Comparing two lists of integers: `delta`](#delta-1)\n",
    "   \n",
    "   3.5. [Allocating memory for arrays: `allocate_1D`, `allocate_2D`, and `allocate_3D`](#allocating)\n",
    "   \n",
    "   3.6. [Breaking down strings: `split_line`](#split_line-1)\n",
    "   \n",
    "   3.7. [Comparing lists of integers: `is_equal`](#is_equal-1)\n",
    "   \n",
    "   3.8. [Checking for the inclusion: `is_included`](#is_included-1)\n",
    "   \n",
    "   3.9. [Checking for the presnece: `is_present`](#is_present-1)\n",
    "   \n",
    "   3.10. [Checking parameters of a dictionary: `check_input`](#check_input-1)"
   ]
  },
  {
   "cell_type": "markdown",
   "metadata": {},
   "source": [
    "### A. Learning objectives\n",
    "\n",
    "- to be familiar with various Libra data types exposed to Python\n",
    "- to convert some Libra data types to Python and vice versa\n",
    "- to be familiar with various handy functions\n",
    "\n",
    "### B. Use cases\n",
    "\n",
    "- [converting Libra and Python data types](#py2cpp) | [and here](cpp2py)\n",
    "- [check if the element is in a list and find its positions](#is_in)\n",
    "- [find all repeating elements in the list](#find_all_reps)\n",
    "- [defining default values of the parameters](#check_input-1)\n",
    "\n",
    "\n",
    "### C. Functions\n",
    "\n",
    "- `liblibra::libconverters`\n",
    "  - [`Py2Cpp_int`](#Py2Cpp_int-1)\n",
    "  - [`Py2Cpp_double`](#Py2Cpp_double-1)\n",
    "  - [`Py2Cpp_complex`](#Py2Cpp_complex-1)\n",
    "  - [`Py2Cpp_string`](#Py2Cpp_string-1)\n",
    "  - [`Py2Cpp_VECTOR`](#Py2Cpp_VECTOR-1)\n",
    "  - [`Py2Cpp_MATRIX`](#Py2Cpp_MATRIX-1)\n",
    "  - [`Py2Cpp_CMATRIX`](#Py2Cpp_CMATRIX-1)  \n",
    "  - [`Cpp2Py`](#Cpp2Py-1)\n",
    "  \n",
    "- `liblibra::libutil`\n",
    "  - [`allocate_1D`](#allocate_1D-1)\n",
    "  - [`allocate_2D`](#allocate_2D-1)\n",
    "  - [`allocate_3D`](#allocate_3D-1)\n",
    "  - [`show_vector`](#show_vector-1)\n",
    "  - [`is_in_vector`](#is_in_vector-1) | [also here](#is_in_vector-2)\n",
    "  - [`is_repeating`](#is_repeating-1) | [also here](#is_repeating-2)\n",
    "  - [`delta`](#delta-1)\n",
    "  - [`split_line`](#split_line-1)\n",
    "  - [`is_equal`](#is_equal-1)\n",
    "  - [`is_included`](#is_included-1)\n",
    "  - [`is_present`](#is_present-1)\n",
    "  - [`check_input`](#check_input-1)\n",
    "\n",
    "  \n",
    "### D. Classes and class members\n",
    "\n",
    "- `liblibra::libconverters`\n",
    "  - [`StringList`](#StringList-1)\n",
    "  - [`StringMap`](#StringMap-1)\n",
    "  - [`StringDoubleMap`](#StringDoubleMap-1)\n",
    "  - [`StringIntMap`](#StringIntMap-1)\n",
    "  - [`StringVDoubleMap`](#StringVDoubleMap-1)\n",
    "  \n",
    "- `liblibra::libchemobjects`  \n",
    "  - `libmol`\n",
    "    - [`AtomList`](#AtomList-1)\n",
    "    - [`GroupList`](#GroupList-1)\n",
    "    - [`MoleculeList`](#MoleculeList-1)\n",
    "  \n",
    "- `liblibra::libdata`\n",
    "  - [`DATAList`](#DATAList-1)\n",
    "  \n",
    "- `liblibra::libdyn`\n",
    "  - `libelectronic`\n",
    "    - [`ElectronicList`](#ElectronicList-1)    \n",
    "  - `libnuclear`\n",
    "    - [`NuclearList`](#NuclearList-1)\n",
    "  - `libthermostat`\n",
    "    - [`ThermostatList`](#ThermostatList-1)  \n",
    "    \n",
    "- `liblibra::libforcefield`    \n",
    "  - [`Angle_RecordList`](#Angle_RecordList-1)\n",
    "  - [`Bond_RecordList`](#Bond_RecordList-1)\n",
    "  - [`Dihedral_RecordList`](#Dihedral_RecordList-1)\n",
    "  - [`Fragment_RecordList`](#Fragment_RecordList-1)\n",
    "\n",
    "- `liblibra::libhamiltonan`\n",
    "  - `libhamlitonian_atomistic`\n",
    "    - `libhamiltonian_qm`\n",
    "      - [`listHamiltonian_QMList`](#listHamiltonian_QMList-1)\n",
    "      - [`listHamiltonian_QMMap`](#listHamiltonian_QMMap-1)\n",
    "    - [`Hamiltonian_AtomisticList`](#Hamiltonian_AtomisticList-1)\n",
    "  - `libhamiltonian_extern`\n",
    "    - [`Hamiltonian_ExternList`](#Hamiltonian_ExternList-1)\n",
    "  - `libhamiltonian_generic`\n",
    "    - [`HamiltonianList`](#HamiltonianList-1)\n",
    "    - [`nHamiltonianList`](#nHamiltonianList-1)    \n",
    "  -`libhamiltonian_model`\n",
    "    - [`Hamiltonian_ModelList`](#Hamiltonian_ModelList-1)\n",
    "\n",
    "- `liblibra::libqobjects`  \n",
    "  - [`PromitiveGList`](#PrimitiveGList-1)  \n",
    "  - [`AOList`](#AOList-1)\n",
    "  - [`SDList`](#SWList-1)\n",
    "  - [`PWList`](#PWList-1)\n",
    "\n",
    "- `liblibra::liblinalg`\n",
    "  - [`intList`](#intList-1)\n",
    "  - [`floatList`](#floatList-1)\n",
    "  - [`doubleList`](#doubleList-1)\n",
    "  - [`complexList`](#complexList-1)\n",
    "  - [`intList2`](#intList2-1)\n",
    "  - [`floatList2`](#doubleList2-1)\n",
    "  - [`doubleList2`](#doubleList2-1)\n",
    "  - [`complexList2`](#complexList2-1)\n",
    "  - [`intList3`](#intList3-1)\n",
    "  - [`floatList3`](#doubleList3-1)\n",
    "  - [`doubleList3`](#doubleList3-1)\n",
    "  - [`complexList3`](#complexList3-1)\n",
    "  - [`intMap`](#intMap-1)\n",
    "  - [`floatMap`](#floatMap-1)\n",
    "  - [`doubleMap`](#doubleMap-1)\n",
    "  - [`complexMap`](#complexMap-1)\n",
    "  - [`MATRIXList`](#MATRIXList-1)\n",
    "  - [`MATRIXMap`](#MATRIXMap-1)\n",
    "  - [`CMATRIXList`](C#MATRIXList-1)\n",
    "  - [`CMATRIXMap`](#CMATRIXMap-1)\n",
    "  - [`MATRIX3x3List`](#MATRIX3x3List-1)\n",
    "  - [`MATRIX3x3Map`](#MATRIX3x3Map-1)\n",
    "  - [`QUATERNIONList`](#QUATERNIONList-1)\n",
    "  - [`QUATERNIONMap`](#QUATERNIONMap-1)  \n",
    "  - [`VECTORList`](#VECTORList-1)\n",
    "  - [`VECTORMap`](#VECTORMap-1)  \n"
   ]
  },
  {
   "cell_type": "markdown",
   "metadata": {},
   "source": [
    "## 1. General setups\n",
    "<a name=\"setups\"></a> [Back to TOC](#TOC)"
   ]
  },
  {
   "cell_type": "code",
   "execution_count": 1,
   "metadata": {
    "scrolled": false
   },
   "outputs": [
    {
     "name": "stderr",
     "output_type": "stream",
     "text": [
      "/home/alexey/miniconda2/envs/py37/lib/python3.7/importlib/_bootstrap.py:219: RuntimeWarning: to-Python converter for std::vector<std::vector<int, std::allocator<int> >, std::allocator<std::vector<int, std::allocator<int> > > > already registered; second conversion method ignored.\n",
      "  return f(*args, **kwds)\n",
      "/home/alexey/miniconda2/envs/py37/lib/python3.7/importlib/_bootstrap.py:219: RuntimeWarning: to-Python converter for boost::python::detail::container_element<std::vector<std::vector<int, std::allocator<int> >, std::allocator<std::vector<int, std::allocator<int> > > >, unsigned long, boost::python::detail::final_vector_derived_policies<std::vector<std::vector<int, std::allocator<int> >, std::allocator<std::vector<int, std::allocator<int> > > >, false> > already registered; second conversion method ignored.\n",
      "  return f(*args, **kwds)\n",
      "/home/alexey/miniconda2/envs/py37/lib/python3.7/importlib/_bootstrap.py:219: RuntimeWarning: to-Python converter for std::vector<std::vector<float, std::allocator<float> >, std::allocator<std::vector<float, std::allocator<float> > > > already registered; second conversion method ignored.\n",
      "  return f(*args, **kwds)\n",
      "/home/alexey/miniconda2/envs/py37/lib/python3.7/importlib/_bootstrap.py:219: RuntimeWarning: to-Python converter for boost::python::detail::container_element<std::vector<std::vector<float, std::allocator<float> >, std::allocator<std::vector<float, std::allocator<float> > > >, unsigned long, boost::python::detail::final_vector_derived_policies<std::vector<std::vector<float, std::allocator<float> >, std::allocator<std::vector<float, std::allocator<float> > > >, false> > already registered; second conversion method ignored.\n",
      "  return f(*args, **kwds)\n",
      "/home/alexey/miniconda2/envs/py37/lib/python3.7/importlib/_bootstrap.py:219: RuntimeWarning: to-Python converter for std::vector<std::vector<double, std::allocator<double> >, std::allocator<std::vector<double, std::allocator<double> > > > already registered; second conversion method ignored.\n",
      "  return f(*args, **kwds)\n",
      "/home/alexey/miniconda2/envs/py37/lib/python3.7/importlib/_bootstrap.py:219: RuntimeWarning: to-Python converter for boost::python::detail::container_element<std::vector<std::vector<double, std::allocator<double> >, std::allocator<std::vector<double, std::allocator<double> > > >, unsigned long, boost::python::detail::final_vector_derived_policies<std::vector<std::vector<double, std::allocator<double> >, std::allocator<std::vector<double, std::allocator<double> > > >, false> > already registered; second conversion method ignored.\n",
      "  return f(*args, **kwds)\n",
      "/home/alexey/miniconda2/envs/py37/lib/python3.7/importlib/_bootstrap.py:219: RuntimeWarning: to-Python converter for std::vector<std::vector<std::complex<double>, std::allocator<std::complex<double> > >, std::allocator<std::vector<std::complex<double>, std::allocator<std::complex<double> > > > > already registered; second conversion method ignored.\n",
      "  return f(*args, **kwds)\n",
      "/home/alexey/miniconda2/envs/py37/lib/python3.7/importlib/_bootstrap.py:219: RuntimeWarning: to-Python converter for boost::python::detail::container_element<std::vector<std::vector<std::complex<double>, std::allocator<std::complex<double> > >, std::allocator<std::vector<std::complex<double>, std::allocator<std::complex<double> > > > >, unsigned long, boost::python::detail::final_vector_derived_policies<std::vector<std::vector<std::complex<double>, std::allocator<std::complex<double> > >, std::allocator<std::vector<std::complex<double>, std::allocator<std::complex<double> > > > >, false> > already registered; second conversion method ignored.\n",
      "  return f(*args, **kwds)\n"
     ]
    }
   ],
   "source": [
    "import math\n",
    "import sys\n",
    "import cmath\n",
    "import math\n",
    "import os\n",
    "\n",
    "if sys.platform==\"cygwin\":\n",
    "    from cyglibra_core import *\n",
    "elif sys.platform==\"linux\" or sys.platform==\"linux2\":\n",
    "    from liblibra_core import *\n",
    "import util.libutil as comn\n",
    "\n",
    "from libra_py import units\n",
    "from libra_py import data_outs\n",
    "import matplotlib.pyplot as plt   # plots\n",
    "#matplotlib.use('Agg')\n",
    "#%matplotlib inline \n",
    "\n",
    "import numpy as np\n",
    "#from matplotlib.mlab import griddata\n",
    "\n",
    "plt.rc('axes', titlesize=24)      # fontsize of the axes title\n",
    "plt.rc('axes', labelsize=20)      # fontsize of the x and y labels\n",
    "plt.rc('legend', fontsize=20)     # legend fontsize\n",
    "plt.rc('xtick', labelsize=16)    # fontsize of the tick labels\n",
    "plt.rc('ytick', labelsize=16)    # fontsize of the tick labels\n",
    "\n",
    "plt.rc('figure.subplot', left=0.2)\n",
    "plt.rc('figure.subplot', right=0.95)\n",
    "plt.rc('figure.subplot', bottom=0.13)\n",
    "plt.rc('figure.subplot', top=0.88)\n",
    "\n",
    "colors = {}\n",
    "\n",
    "colors.update({\"11\": \"#8b1a0e\"})  # red       \n",
    "colors.update({\"12\": \"#FF4500\"})  # orangered \n",
    "colors.update({\"13\": \"#B22222\"})  # firebrick \n",
    "colors.update({\"14\": \"#DC143C\"})  # crimson   \n",
    "\n",
    "colors.update({\"21\": \"#5e9c36\"})  # green\n",
    "colors.update({\"22\": \"#006400\"})  # darkgreen  \n",
    "colors.update({\"23\": \"#228B22\"})  # forestgreen\n",
    "colors.update({\"24\": \"#808000\"})  # olive      \n",
    "\n",
    "colors.update({\"31\": \"#8A2BE2\"})  # blueviolet\n",
    "colors.update({\"32\": \"#00008B\"})  # darkblue  \n",
    "\n",
    "colors.update({\"41\": \"#2F4F4F\"})  # darkslategray\n",
    "\n",
    "clrs_index = [\"11\", \"21\", \"31\", \"41\", \"12\", \"22\", \"32\", \"13\",\"23\", \"14\", \"24\"]"
   ]
  },
  {
   "cell_type": "markdown",
   "metadata": {},
   "source": [
    "## 2. Data types and conversion\n",
    "<a name=\"data_types_conversion\"></a> [Back to TOC](#TOC)\n",
    "\n",
    "### 2.1. Data types \n",
    "<a name=\"data_types\"></a> [Back to TOC](#TOC)\n",
    "\n",
    "Libra defines multiple data types in C++ backend. Naturally, the APIs of many functions are defined in terms of these data types. One of the points of the Libra philosophy is to expose these functions to the Python. As a result,  there is also a need to expose the new data types. Many of them a exposed to Python, the list (likely incomplete) is bresented below. The name of the type is also the name of the Python-exposed data types, and the corresponding C++ definitions are shown below.\n",
    "\n",
    "**The most commonly used data types derived from the simple data types are:**\n",
    "\n",
    "One-dimensional arrays to hold ints, floats/doubles (same in Python), complex, or strings\n",
    "<a name=\"intList-1\"></a><a name=\"floatist-1\"></a><a name=\"doubleList-1\"></a><a name=\"complexList-1\"></a><a name=\"stringList-1\"></a>\n",
    "\n",
    "    typedef std::vector<int> intList;  \n",
    "    typedef std::vector<float> floatList;  \n",
    "    typedef std::vector<double> doubleList;  \n",
    "    typedef std::vector<std::complex<double> > complexList;  \n",
    "    typedef std::vector<std::string> StringList;\n",
    "    \n",
    "Two-dimensional arrays to hold ints, floats/doubles (same in Python), complex, or strings. \n",
    "<a name=\"intList2-1\"></a><a name=\"floatist2-1\"></a><a name=\"doubleList2-1\"></a><a name=\"complexList2-1\"></a>\n",
    "\n",
    "    typedef std::vector< std::vector<int> > intList2;       \n",
    "    typedef std::vector< std::vector<float> > floatList2;   \n",
    "    typedef std::vector< std::vector<double> > doubleList2; \n",
    "    typedef std::vector< std::vector<std::complex<double> > > complexList2;  \n",
    "\n",
    "<a name=\"intMap-1\"></a><a name=\"floaMap-1\"></a><a name=\"doubleMap-1\"></a><a name=\"complexMap-1\"></a><a name=\"stringMap-1\"></a>\n",
    "\n",
    "    typedef std::vector<vector<int> > intMap; \n",
    "    typedef std::vector<vector<float> > floatMap; \n",
    "    typedef std::vector<vector<double> > doubleMap;\n",
    "    typedef std::vector<vector<std::complex<double> > > complexMap; \n",
    "    \n",
    "    typedef std::vector<vector<std::string> > StringMap;\n",
    "    \n",
    "Note that some of these data types are the same, just called differentyl, for instance `complexMap` and `complexList2`\n",
    "\n",
    "    \n",
    "Three-dimensional arrays:\n",
    "<a name=\"intList3-1\"></a><a name=\"floatist3-1\"></a><a name=\"doubleList3-1\"></a><a name=\"complexList3-1\"></a>\n",
    "\n",
    "    typedef std::vector< std::vector<  std::vector<int> > > intList3;   \n",
    "    typedef std::vector< std::vector<  std::vector<float> > > floatList3; \n",
    "    typedef std::vector< std::vector<  std::vector<double> > > doubleList3; \n",
    "    typedef std::vector< std::vector<  std::vector< complex<double> > > > complexList3; \n",
    "\n",
    "\n",
    "**The commonly-used data types derived from the simple data types ones are:**\n",
    "                  \n",
    "One-dimensional arrays to hold `VECTOR`, `MATRIX`, and `CMATRIX` objects:\n",
    "<a name=\"VECTORList-1\"></a><a name=\"MATRIXList-1\"></a><a name=\"CMATRIXList-1\"></a>\n",
    "                  \n",
    "    typedef std::vector<VECTOR> VECTORList;          \n",
    "    typedef std::vector<MATRIX> MATRIXList;    \n",
    "    typedef std::vector<CMATRIX> CMATRIXList; \n",
    "    \n",
    "    \n",
    "Two-dimensional arrays to hold `VECTOR`, `MATRIX`, and `CMATRIX` objects:\n",
    "<a name=\"VECTORMap-1\"></a><a name=\"MATRIXMap-1\"></a><a name=\"CMATRIXMap-1\"></a>\n",
    "\n",
    "    typedef std::vector<vector<VECTOR> > VECTORMap; \n",
    "    typedef std::vector<vector<MATRIX> > MATRIXMap; \n",
    "    typedef std::vector<vector<CMATRIX> > CMATRIXMap; \n",
    "    \n",
    "\n",
    "**More complex data types:**\n",
    "\n",
    "One-dimensional arrays to hold `QUATERNION`, `MATRIX3x3`, and `DATA` and other, more complex object types:\n",
    "<a name=\"QUATERNIONList-1\"></a><a name=\"MATRIX3x3List-1\"></a><a name=\"DATAList-1\"></a>\n",
    "            \n",
    "    typedef std::vector<QUATERNION> QUATERNIONList;\n",
    "    typedef std::vector<MATRIX3x3> MATRIX3x3List;\n",
    "    typedef std::vector<DATA> DATAList;\n",
    "\n",
    "\n",
    "Two-dimensional arrays to hold `QUATERNION`, `MATRIX3x3`, and `DATA` and other, more complex object types:\n",
    "<a name=\"QUATERNIONMap-1\"></a><a name=\"MATRIX3x3Map-1\"></a><a name=\"DATAMap-1\"></a>\n",
    "\n",
    "    typedef std::vector<vector<QUATERNION> > QUATERNIONMap;\n",
    "    typedef std::vector<vector<MATRIX3x3> > MATRIX3x3Map;    \n",
    "\n",
    "Data for holding informaiton about bolecular structures: \n",
    "<a name=\"AtomList-1\"></a><a name=\"GroupList-1\"></a><a name=\"MoleculeList-1\"></a>\n",
    "\n",
    "    std::vector<Atom> AtomList;\n",
    "    std::vector<Group> GroupList;\n",
    "    std::vector<Molecule> MoleculeList\n",
    "    \n",
    "Note that the above 3 data types are not defined (as an explicit `typedef`) in C++, but are exposed in the Python. \n",
    "\n",
    "Data for holding the information about parameterizations of various types of energy terms in the force fields:\n",
    "<a name=\"Angle_RecordList-1\"></a><a name=\"Bond_RecordList-1\"></a><a name=\"Dihedral_RecordList-1\"></a><a name=\"Fragment_RecordList-1\"></a>\n",
    "\n",
    "    typedef std::vector< Angle_Record > Angle_RecordList; \n",
    "    typedef std::vector< Bond_Record > Bond_RecordList; \n",
    "    typedef std::vector< Dihedral_Record > Dihedral_RecordList; \n",
    "    typedef std::vector< Fragment_Record > Fragment_RecordList; \n",
    "\n",
    "Data for holding information on basis functions in quantum chemical calculations:\n",
    "<a name=\"PrimitiveGList-1\"></a><a name=\"AOList-1\"></a><a name=\"SDList-1\"></a><a name=\"PWList-1\"></a>\n",
    "\n",
    "    typedef std::vector<PrimitiveG> PrimitiveGList;  \n",
    "    typedef std::vector<AO> AOList;     \n",
    "    typedef std::vector<SD> SDList; \n",
    "    typedef std::vector<PW> PWList; \n",
    "    \n",
    "<a name=\"Hamiltonian_AtomisticList-1\"></a>\n",
    "<a name=\"listHamiltonian_QMList-1\"></a>\n",
    "<a name=\"Hamiltonian_ModelList-1\"></a>\n",
    "<a name=\"Hamiltonian_List-1\"></a>\n",
    "<a name=\"Hamiltonian_ExternList-1\"></a>\n",
    "<a name=\"nHamiltonianList-1\"></a>\n",
    "\n",
    "    typedef std::vector<Hamiltonian_Atomistic> Hamiltonian_AtomisticList; \n",
    "    typedef std::vector<listHamiltonian_QM> listHamiltonian_QMList;     \n",
    "    typedef std::vector<Hamiltonian_Model> Hamiltonian_ModelList;  \n",
    "    typedef std::vector<Hamiltonian> HamiltonianList;  \n",
    "    typedef std::vector<Hamiltonian_Extern> Hamiltonian_ExternList;  \n",
    "    typedef std::vector<nHamiltonian> nHamiltonianList;  \n",
    "    \n",
    "<a name=\"ElectronicList-1\"></a><a name=\"ThermostatList-1\"></a><a name=\"NuclearList-1\"></a>\n",
    "\n",
    "    typedef std::vector< Electronic > ElectronicList; \n",
    "    typedef std::vector< Thermostat > ThermostatList; \n",
    "    typedef std::vector< Nuclear > NuclearList; \n",
    "    \n",
    "Libra equivalents to (somewhat restricted) dictionaries - they hold the \"key\" (string) - \"value\" (double, int, or list of doubles) pairs:\n",
    "\n",
    "<a name=\"StringDoubleMap-1\"></a>\n",
    "<a name=\"StringIntMap-1\"></a>\n",
    "<a name=\"StringVDoubleMap-1\"></a>\n",
    "\n",
    "    typedef std::map<std::string, double> StringDoubleMap;\n",
    "    typedef std::map<std::string, int> StringIntMap;\n",
    "    typedef std::map<std::string, vector<double> > StringVDoubleMap;\n",
    "\n",
    "Two-dimensional arrays of more complex data types:\n",
    "\n",
    "<a name=\"listHamiltonian_QMMap-1\"></a>\n",
    "\n",
    "    typedef std::vector<vector<listHamiltonian_QM> > listHamiltonian_QMMap;  \n",
    "    \n",
    "    \n",
    "The general convention in defining the names of the data types has been:\n",
    "\n",
    "*  `<name_of_C++_data_type>List` - for lists of items of that C++ data type exposed to Python\n",
    "*  `<name_of_C++_data_type>List2` or `<name_of_C++_data_type>Map`  - for 2D lists (lists of lists) of items of that C++ data type exposed to Python\n",
    "*  `<name_of_C++_data_type>List3` - for 3D lists of items of that C++ data type exposed to Python\n",
    "\n",
    "\n",
    "For the data of the 1D list kind, one can use many methods typically used with native Python lists, for example:"
   ]
  },
  {
   "cell_type": "code",
   "execution_count": 2,
   "metadata": {},
   "outputs": [
    {
     "name": "stdout",
     "output_type": "stream",
     "text": [
      "<liblibra_core.intList object at 0x7fff846c4f30>\n",
      "3\n"
     ]
    }
   ],
   "source": [
    "x = intList()\n",
    "print(x)\n",
    "\n",
    "x.append(1)\n",
    "x.append(2)\n",
    "x.append(3)\n",
    "\n",
    "print(len(x))"
   ]
  },
  {
   "cell_type": "markdown",
   "metadata": {},
   "source": [
    "The data of the `Map` type can be handled as Python dictionaries, with the only exception that all the elements of the dictionary are of the same type.\n",
    "\n",
    "Correspondingly, a number of dictionary methods is available to variables of the `Map` types, for instance:"
   ]
  },
  {
   "cell_type": "code",
   "execution_count": 3,
   "metadata": {},
   "outputs": [
    {
     "name": "stdout",
     "output_type": "stream",
     "text": [
      "<liblibra_core.StringIntMap object at 0x7fff846c1070>\n",
      "{'a': 1, 'b': 2}\n",
      "['a', 'b']\n",
      "[1, 2]\n",
      "[('a', 1), ('b', 2)]\n",
      "[('b', 2)]\n",
      "[]\n"
     ]
    }
   ],
   "source": [
    "y = StringIntMap()\n",
    "y[\"a\"] = 1\n",
    "y[\"b\"] = 2\n",
    "print(y)\n",
    "print( dict(y))\n",
    "print(y.keys())\n",
    "print(y.values())\n",
    "print(y.items())\n",
    "\n",
    "del y[\"a\"]\n",
    "print( y.items())\n",
    "\n",
    "y.clear()\n",
    "print( y.items())"
   ]
  },
  {
   "cell_type": "markdown",
   "metadata": {},
   "source": [
    "### 2.2. Python --> C++ conversion\n",
    "<a name=\"py2cpp\"></a> [Back to TOC](#TOC)\n",
    "\n",
    "Genuine Python lists can be converted to these data types using functions of a genetric name:\n",
    "\n",
    "`Py2Cpp_<name_of_the_C++_item_type>`\n",
    "\n",
    "for instance `Py2Cpp_int` Such a function would convert a Python list to the `intList` data type.\n",
    "\n",
    "Unfortunately, the `Py2Cpp_<name_of_the_C++_item_type>` functions are defined only for the most commonly used data types, namely:\n",
    "<a name=\"Py2Cpp_int-1\"></a><a name=\"Py2Cpp_double-1\"></a><a name=\"Py2Cpp_complex-1\"></a><a name=\"Py2Cpp_string-1\"></a><a name=\"Py2Cpp_VECTOR-1\"></a><a name=\"Py2Cpp_MATRIX-1\"></a><a name=\"Py2Cpp_CMATRIX-1\"></a>\n",
    "\n",
    "* `Py2Cpp_int`  - to convert to `intList`\n",
    "* `Py2Cpp_double`  - to convert to `doubleList`\n",
    "* `Py2Cpp_complex`  - to convert to `complexList`\n",
    "* `Py2Cpp_string`  - to convert to `stringList`\n",
    "* `Py2Cpp_VECTOR`  - to convert to `VECTORList`\n",
    "* `Py2Cpp_MATRIX`  - to convert to `MATRIXList`\n",
    "* `Py2Cpp_CMATRIX`  - to convert to `CMATRIXList`\n",
    "\n",
    "for instance"
   ]
  },
  {
   "cell_type": "code",
   "execution_count": 4,
   "metadata": {},
   "outputs": [
    {
     "name": "stdout",
     "output_type": "stream",
     "text": [
      "<class 'liblibra_core.intList'> <liblibra_core.intList object at 0x7fff846c5930>\n",
      "<class 'liblibra_core.doubleList'> <liblibra_core.doubleList object at 0x7fff846c58d0>\n",
      "<class 'liblibra_core.complexList'> <liblibra_core.complexList object at 0x7fff846c5ab0>\n"
     ]
    }
   ],
   "source": [
    "x_int = Py2Cpp_int([1,-2,3,4, 1, 1])\n",
    "print(type(x_int), x_int)\n",
    "\n",
    "x_dbl = Py2Cpp_double([1.0,-2.0,3.0,4.0])\n",
    "print(type(x_dbl), x_dbl)\n",
    "\n",
    "x_cmplx = Py2Cpp_complex([1.0+0.0j, 1.0-1.0j])\n",
    "print(type(x_cmplx), x_cmplx)"
   ]
  },
  {
   "cell_type": "markdown",
   "metadata": {},
   "source": [
    "### 2.3. C++ --> Python conversion\n",
    "<a name=\"cpp2py\"></a> [Back to TOC](#TOC)\n",
    "<a name=\"Cpp2Py-1\"></a>\n",
    "\n",
    "The opposite conversion of the data types:  C++ --> Python is done with a generic function `Cpp2Py` which can work on with a broader range of data types. For example:"
   ]
  },
  {
   "cell_type": "code",
   "execution_count": 5,
   "metadata": {},
   "outputs": [
    {
     "name": "stdout",
     "output_type": "stream",
     "text": [
      "<class 'list'> [1, -2, 3, 4, 1, 1]\n",
      "<class 'list'> [1.0, -2.0, 3.0, 4.0]\n",
      "<class 'list'> [(1+0j), (1-1j)]\n"
     ]
    }
   ],
   "source": [
    "y_int = Cpp2Py(x_int)\n",
    "print(type(y_int), y_int)\n",
    "\n",
    "y_dbl = Cpp2Py(x_dbl)\n",
    "print(type(y_dbl), y_dbl)\n",
    "\n",
    "y_cmplx = Cpp2Py(x_cmplx)\n",
    "print(type(y_cmplx), y_cmplx)"
   ]
  },
  {
   "cell_type": "markdown",
   "metadata": {},
   "source": [
    "## 3. Utility functions\n",
    "<a name=\"utility-func\"></a> [Back to TOC](#TOC)\n",
    "\n",
    "A number of helpful functions for intList and alike simple classes is defined in Libra.\n",
    "\n",
    "**NOTE:** a lot of these operations can be done easily and perhaps more conveniently with the native Python methods. The main point of them being in Libra is that such operations are also available at the C++ level. \n",
    "\n",
    "\n",
    "### 3.1. Printing out: `show_vector`\n",
    "<a name=\"show_vector-1\"></a> [Back to TOC](#TOC)\n",
    "\n",
    "Printing out (to the standard output, not to Jupyter out):\n"
   ]
  },
  {
   "cell_type": "code",
   "execution_count": 6,
   "metadata": {},
   "outputs": [],
   "source": [
    "show_vector(x_int)"
   ]
  },
  {
   "cell_type": "markdown",
   "metadata": {},
   "source": [
    "### 3.2. Checking the inclusion: `is_in_vector`\n",
    "<a name=\"is_in_vector-1\"></a><a name=\"is_in\"></a> [Back to TOC](#TOC)\n",
    "\n",
    "Checking the presence of an element in the vector(list):\n",
    "\n",
    "This function returns a list of 2 items - the first element is an integer equivalent for the Boolean Yes (1) and No (0). The second element is the index of the last occurence of the element with a given value in the input list if it is present in the list, and -1 if not."
   ]
  },
  {
   "cell_type": "code",
   "execution_count": 7,
   "metadata": {},
   "outputs": [
    {
     "name": "stdout",
     "output_type": "stream",
     "text": [
      "[1, 5]\n",
      "[1, 1]\n",
      "[0, -1]\n"
     ]
    }
   ],
   "source": [
    "print( is_in_vector(1, x_int) )\n",
    "print( is_in_vector(-2, x_int) )\n",
    "print( is_in_vector(5, x_int) )"
   ]
  },
  {
   "cell_type": "markdown",
   "metadata": {},
   "source": [
    "The `is_in_vector` can also be used in another mode - to locate all the occurences of a particular element:\n",
    "<a name=\"is_in_vector-2\"></a>"
   ]
  },
  {
   "cell_type": "code",
   "execution_count": 8,
   "metadata": {},
   "outputs": [
    {
     "name": "stdout",
     "output_type": "stream",
     "text": [
      "3\n",
      "[0, 4, 5]\n"
     ]
    }
   ],
   "source": [
    "pos = Py2Cpp_int([0])\n",
    "\n",
    "print( is_in_vector(1, x_int, pos) )\n",
    "print( Cpp2Py(pos) )"
   ]
  },
  {
   "cell_type": "markdown",
   "metadata": {},
   "source": [
    "### 3.3. Checking the repetitions of elements in a list: `is_repeating`\n",
    "<a name=\"is_repeating-1\"></a><a name=\"find_all_reps\"></a> [Back to TOC](#TOC)\n",
    "\n",
    "One can also check whether there is any element that repeats in a list. \n",
    "\n",
    "The function `is_repeating` will return a list the 2 elements: the first element is an integer equivalent for the Boolean Yes (1) and No (0). The second element is the first value found that is repeated more than 1 time if Yes and some trash, if No:"
   ]
  },
  {
   "cell_type": "code",
   "execution_count": 9,
   "metadata": {},
   "outputs": [
    {
     "name": "stdout",
     "output_type": "stream",
     "text": [
      "[1, -2]\n",
      "[1, 6]\n",
      "[0, -1684551366]\n"
     ]
    }
   ],
   "source": [
    "Alst = Py2Cpp_int([1, -1,-2,6, 3, 6, -2,-4,5,6,-2])\n",
    "pos = Py2Cpp_int([0])\n",
    "print( is_repeating(Alst) )\n",
    "\n",
    "Alst = Py2Cpp_int([1, 6, -1,-2,6, 3, 6, -2,-4,5,6,-2])\n",
    "pos = Py2Cpp_int([0])\n",
    "print( is_repeating(Alst) )\n",
    "\n",
    "Alst = Py2Cpp_int([1, 2, 3])\n",
    "pos = Py2Cpp_int([0])\n",
    "print( is_repeating(Alst) )"
   ]
  },
  {
   "cell_type": "markdown",
   "metadata": {},
   "source": [
    "### 3.4. Comparing two lists of integers: `delta`\n",
    "<a name=\"delta-1\"></a> [Back to TOC](#TOC)\n",
    "\n",
    "In the NA-MD calculations in the basis of Slater determinants, we often need to determine whethter a part of determinants has only 1 pair of orbitals, and if so - which orbitals those are.  For this perpose, a handy function `delta` is available in Libra.\n",
    "\n",
    "Thw function searches for a pair of different indices (including the sign) in two lists A and B. \n",
    "\n",
    "The function returns a list of 3 elements:\n",
    "\n",
    "- element 0:  the status of the comparison: 1 if only 1 pair of indices is different between A and B,\n",
    "  return 0 otherwise. In terms of the Slater determinant business, `res = 1` means that the determinants represented by the lists A and B are coupled nonadiabatically, while `res = 0` means they are not (differ by more than 1 pair of indices)\n",
    "- element 1: the integer in list A which is not present in list B\n",
    "- element 2: the integer in list B which is not present in list A\n",
    "\n",
    "Consider several examples:\n",
    "\n",
    "In this example, we have two SD's which model a -2 -> -3 (single electron) transition, so the SDs are coupled:"
   ]
  },
  {
   "cell_type": "code",
   "execution_count": 10,
   "metadata": {},
   "outputs": [
    {
     "name": "stdout",
     "output_type": "stream",
     "text": [
      "[1, -2, -3]\n"
     ]
    }
   ],
   "source": [
    "Alst = Py2Cpp_int([1,-1,2,-2])\n",
    "Blst = Py2Cpp_int([1,-1,2,-3])\n",
    "print(delta(Alst,Blst) )"
   ]
  },
  {
   "cell_type": "markdown",
   "metadata": {},
   "source": [
    "It doesn't matter in which order orbitals appear in the determinants (although this would affect the sign of the nonadiabatic coupling), so the following pair of lists should yield a similar result:"
   ]
  },
  {
   "cell_type": "code",
   "execution_count": 11,
   "metadata": {},
   "outputs": [
    {
     "name": "stdout",
     "output_type": "stream",
     "text": [
      "[1, -2, -3]\n"
     ]
    }
   ],
   "source": [
    "Alst = Py2Cpp_int([1,-1,2,-2])\n",
    "Blst = Py2Cpp_int([1,-1,-3,2])\n",
    "print(delta(Alst,Blst) )"
   ]
  },
  {
   "cell_type": "markdown",
   "metadata": {},
   "source": [
    "In the next example, the SD's are different by 2 pairs of orbitals (2, -2) -> (3, -3) process, so they should be uncoupled. In this case, the elements 1 and 2 of the output contain only one pair of different orbitals, so one should be careful:"
   ]
  },
  {
   "cell_type": "code",
   "execution_count": 12,
   "metadata": {},
   "outputs": [
    {
     "name": "stdout",
     "output_type": "stream",
     "text": [
      "[0, -2, -3]\n"
     ]
    }
   ],
   "source": [
    "Alst = Py2Cpp_int([1,-1,2,-2])\n",
    "Blst = Py2Cpp_int([1,-1,3,-3])\n",
    "print( delta(Alst,Blst) )"
   ]
  },
  {
   "cell_type": "markdown",
   "metadata": {},
   "source": [
    "### 3.5. Allocating memory for arrays: `allocate_1D`, `allocate_2D`, and `allocate_3D`\n",
    "<a name=\"allocating\"></a> [Back to TOC](#TOC)\n",
    "\n",
    "In the section [2.1](#data_types), we discussed a number of data types exposed to Python from Libra. In particular, the 1D, 2D, and 3D arrays with `int` elements. \n",
    "\n",
    "Such arrays can be allocated with the `allocate_1D`, `allocate_2D`, and `allocate_3D` functions:\n",
    "<a name=\"allocate_1D-1\"></a><a name=\"allocate_2D-1\"></a><a name=\"allocate_3D-1\"></a>"
   ]
  },
  {
   "cell_type": "code",
   "execution_count": 13,
   "metadata": {},
   "outputs": [
    {
     "name": "stdout",
     "output_type": "stream",
     "text": [
      "(10,)\n"
     ]
    }
   ],
   "source": [
    "x1 = allocate_1D(10)\n",
    "print(np.array(Cpp2Py(x1)).shape)\n",
    "x1[9] = 9"
   ]
  },
  {
   "cell_type": "code",
   "execution_count": 14,
   "metadata": {},
   "outputs": [
    {
     "name": "stdout",
     "output_type": "stream",
     "text": [
      "10\n",
      "10\n"
     ]
    }
   ],
   "source": [
    "x2 = allocate_2D(10, 10)\n",
    "x2[9][5] = 9 * 5\n",
    "print(len(x2))\n",
    "print(len(x2[0]))"
   ]
  },
  {
   "cell_type": "code",
   "execution_count": 15,
   "metadata": {},
   "outputs": [
    {
     "name": "stdout",
     "output_type": "stream",
     "text": [
      "10\n",
      "10\n",
      "5\n"
     ]
    }
   ],
   "source": [
    "x3 = allocate_3D(10, 10, 5)\n",
    "x3[9][5][4] = 9 * 5 * 4\n",
    "print(len(x3))\n",
    "print(len(x3[0]))\n",
    "print(len(x3[0][0]))"
   ]
  },
  {
   "cell_type": "markdown",
   "metadata": {},
   "source": [
    "### 3.6. Breaking down strings: `split_line`\n",
    "<a name=\"split_line-1\"></a> [Back to TOC](#TOC)\n",
    "\n",
    "Again, such operations can be done with the native Python methods."
   ]
  },
  {
   "cell_type": "code",
   "execution_count": 16,
   "metadata": {},
   "outputs": [
    {
     "name": "stdout",
     "output_type": "stream",
     "text": [
      "['Hi,', 'my', 'name', 'is', 'Alexey']\n"
     ]
    }
   ],
   "source": [
    "res = StringList()\n",
    "split_line(\"Hi, my name is Alexey\", res)\n",
    "print( Cpp2Py(res))"
   ]
  },
  {
   "cell_type": "code",
   "execution_count": 17,
   "metadata": {},
   "outputs": [
    {
     "name": "stdout",
     "output_type": "stream",
     "text": [
      "['Hi', ' my name is Alexey']\n"
     ]
    }
   ],
   "source": [
    "res = StringList()\n",
    "split_line(\"Hi, my name is Alexey\", res, \",\")\n",
    "print( Cpp2Py(res))"
   ]
  },
  {
   "cell_type": "markdown",
   "metadata": {},
   "source": [
    "### 3.7. Comparing lists of integers: `is_equal`\n",
    "<a name=\"is_equal-1\"></a> [Back to TOC](#TOC)\n",
    "\n",
    "The following function simply compares two lists of integers. The order of the integers also matters. The result is 1, if the lists are the same and 0 is not:"
   ]
  },
  {
   "cell_type": "code",
   "execution_count": 18,
   "metadata": {},
   "outputs": [
    {
     "data": {
      "text/plain": [
       "1"
      ]
     },
     "execution_count": 18,
     "metadata": {},
     "output_type": "execute_result"
    }
   ],
   "source": [
    "a = Py2Cpp_int( [1, 2, 3])\n",
    "b = Py2Cpp_int( [1, 2, 3])\n",
    "\n",
    "is_equal(a, b)"
   ]
  },
  {
   "cell_type": "markdown",
   "metadata": {},
   "source": [
    "And here is an example to show that the order matters"
   ]
  },
  {
   "cell_type": "code",
   "execution_count": 19,
   "metadata": {},
   "outputs": [
    {
     "data": {
      "text/plain": [
       "0"
      ]
     },
     "execution_count": 19,
     "metadata": {},
     "output_type": "execute_result"
    }
   ],
   "source": [
    "a = Py2Cpp_int( [1, 2, 3])\n",
    "b = Py2Cpp_int( [3, 2, 1])\n",
    "\n",
    "is_equal(a, b)"
   ]
  },
  {
   "cell_type": "markdown",
   "metadata": {},
   "source": [
    "### 3.8. Checking for the inclusion: `is_included`\n",
    "<a name=\"is_included-1\"></a> [Back to TOC](#TOC)\n",
    "\n",
    "In this particular case, we are interested to see if there a certain list of integers in a list of list of integers. Searching for a 1D array in a 2D array of ints "
   ]
  },
  {
   "cell_type": "code",
   "execution_count": 20,
   "metadata": {},
   "outputs": [
    {
     "name": "stdout",
     "output_type": "stream",
     "text": [
      "0\n",
      "1\n",
      "1\n"
     ]
    }
   ],
   "source": [
    "X = intList2()\n",
    "X.append(Py2Cpp_int([1]) )\n",
    "X.append(Py2Cpp_int([2,2]))\n",
    "X.append(Py2Cpp_int([3,3,3]))\n",
    "\n",
    "\n",
    "x = Py2Cpp_int( [2, 3])\n",
    "print(is_included(x, X))\n",
    "\n",
    "x = Py2Cpp_int( [2, 2])\n",
    "print(is_included(x, X))\n",
    "\n",
    "x = Py2Cpp_int( [1])\n",
    "print(is_included(x, X))"
   ]
  },
  {
   "cell_type": "markdown",
   "metadata": {},
   "source": [
    "### 3.9. Checking for the presnece: `is_present`\n",
    "<a name=\"is_present-1\"></a> [Back to TOC](#TOC)\n",
    "\n",
    "    int is_present(vector< vector<int> >& vec, int i, int start, int end)\n",
    "    \n",
    "Checks whether the vector of the row i is already present among the rows `[start, end)`\n",
    "\n",
    "Return 1 if the row i is already present among those rows."
   ]
  },
  {
   "cell_type": "code",
   "execution_count": 21,
   "metadata": {},
   "outputs": [
    {
     "name": "stdout",
     "output_type": "stream",
     "text": [
      "0\n",
      "1\n"
     ]
    }
   ],
   "source": [
    "x = intList2()\n",
    "\n",
    "x.append( Py2Cpp_int([1, -1]))\n",
    "x.append( Py2Cpp_int([1, -2]))\n",
    "x.append( Py2Cpp_int([2, -1]))\n",
    "x.append( Py2Cpp_int([2, -3]))\n",
    "x.append( Py2Cpp_int([1, -2]))\n",
    "\n",
    "\n",
    "print(is_present(x, 0, 1, 5))   # looking for [1,  -1] in x[1:4]\n",
    "print(is_present(x, 1, 2, 5))   # looking for [1,-2] in x[2:4]"
   ]
  },
  {
   "cell_type": "markdown",
   "metadata": {},
   "source": [
    "### 3.10. Checking parameters of a dictionary: `check_input`\n",
    "<a name=\"check_input-1\"></a> [Back to TOC](#TOC)\n",
    "\n",
    "Finally, we consider another very important example. In fact, this is the practice used in most of the functions defined in the `libra_py` module. \n",
    "\n",
    "Consider a situation when a user passes a dictionary of parameters to a function, but perhaps forgot to define some of the key-value pairs needed for the function operation.\n",
    "\n",
    "What we often do in the `libra_py` functions is that we'd populate **a copy** of the passed dictionary with the default values defined in the function itself. But to do this, one needs to check whether the input dictionary already contains the needed key-value pairs (we don't want to override those with the defaults, if they are present). \n",
    "\n",
    "The defaults can often be guessed pretty reasonably, but not always (e.g. one might need to know some info of the system being studied and one may need to setup a lot of dependent variables (e.g. allocate the storay), so the guess may not be working if it doesn't correspond to the actual system). For this reason, we should have a flexibility to tell whether some keywords of the input dictionary are absolutely needed for the execution of the program. If they are not provided, we aren't even going to guess, and just exit the program.\n",
    "\n",
    "Here is the first example - we provide the values for the keys \"a\" and \"b\", but not for \"c\", so is it set to the default value"
   ]
  },
  {
   "cell_type": "code",
   "execution_count": 22,
   "metadata": {},
   "outputs": [
    {
     "name": "stdout",
     "output_type": "stream",
     "text": [
      "{'a': 1.0, 'b': 'A'}\n"
     ]
    }
   ],
   "source": [
    "import util.libutil as comn\n",
    "\n",
    "params = {\"a\":1.0, \"b\":\"A\" }\n",
    "default_params = {\"c\":\"23d\" }\n",
    "\n",
    "print(params)"
   ]
  },
  {
   "cell_type": "code",
   "execution_count": 23,
   "metadata": {},
   "outputs": [
    {
     "name": "stdout",
     "output_type": "stream",
     "text": [
      "{'a': 1.0, 'b': 'A', 'c': '23d'}\n"
     ]
    }
   ],
   "source": [
    "comn.check_input(params, default_params, [] )\n",
    "print( params)"
   ]
  },
  {
   "cell_type": "markdown",
   "metadata": {},
   "source": [
    "Now, we supply all the variables, so the user-defined value for \"c\" parameter is used:"
   ]
  },
  {
   "cell_type": "code",
   "execution_count": 24,
   "metadata": {},
   "outputs": [
    {
     "name": "stdout",
     "output_type": "stream",
     "text": [
      "{'a': 1.0, 'b': 'A', 'c': 'The variable is set'}\n",
      "{'a': 1.0, 'b': 'A', 'c': 'The variable is set'}\n"
     ]
    }
   ],
   "source": [
    "params = {\"a\":1.0, \"b\":\"A\", \"c\":\"The variable is set\" }\n",
    "default_params = {\"c\":\"23d\" }\n",
    "print(params)\n",
    "\n",
    "comn.check_input(params, default_params, [] )\n",
    "print( params)"
   ]
  },
  {
   "cell_type": "markdown",
   "metadata": {},
   "source": [
    "Finally, if we define that the input dictionary should also contain some values for a key \"d\", and that parameter is not set up, the program will crush - just uncomment the line below to see this behavior. "
   ]
  },
  {
   "cell_type": "code",
   "execution_count": 25,
   "metadata": {},
   "outputs": [],
   "source": [
    "#comn.check_input(params, default_params, [\"d\"] )"
   ]
  }
 ],
 "metadata": {
  "kernelspec": {
   "display_name": "Python 3",
   "language": "python",
   "name": "python3"
  },
  "language_info": {
   "codemirror_mode": {
    "name": "ipython",
    "version": 3
   },
   "file_extension": ".py",
   "mimetype": "text/x-python",
   "name": "python",
   "nbconvert_exporter": "python",
   "pygments_lexer": "ipython3",
   "version": "3.7.6"
  }
 },
 "nbformat": 4,
 "nbformat_minor": 2
}
