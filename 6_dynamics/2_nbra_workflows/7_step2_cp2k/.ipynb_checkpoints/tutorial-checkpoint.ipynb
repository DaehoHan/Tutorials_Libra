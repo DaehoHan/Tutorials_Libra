{
 "cells": [
  {
   "cell_type": "code",
   "execution_count": 2,
   "id": "d5425157",
   "metadata": {},
   "outputs": [],
   "source": [
    "import os\n",
    "import sys\n",
    "from libra_py import CP2K_methods\n",
    "from libra_py.workflows.nbra import step2"
   ]
  },
  {
   "cell_type": "code",
   "execution_count": null,
   "id": "32e769b5",
   "metadata": {},
   "outputs": [],
   "source": [
    "path = os.getcwd()\n",
    "params = {}\n",
    "# number of processors\n",
    "\n",
    "params['nprocs'] = 12\n",
    "# Leave this part for Libra\n",
    "params['istep'] = 1\n",
    "params['fstep'] = 4\n",
    "# Lowest and highest orbital, Here HOMO is 24\n",
    "params['init_state'] = 24-10\n",
    "params['final_state'] = 24+11\n",
    "# extended tight-binding calculation type\n",
    "params['isxTB'] = False\n",
    "# DFT calculation type\n",
    "params['isUKS'] = False\n",
    "# Periodic calculations flag\n",
    "params['is_periodic'] = True\n",
    "# Set the cell parameters\n",
    "params['A_cell_vector'] = [4.6532721519, 0.0000000000, 0.0000000000]\n",
    "params['B_cell_vector'] = [0.0000000000, 4.6532721519, 0.0000000000]\n",
    "params['C_cell_vector'] = [0.0000000000, 0.0000000000, 2.9692029953]\n",
    "params['periodicity_type'] = 'XYZ'\n",
    "# Set the origin\n",
    "origin = [0,0,0]\n",
    "# Only in case params['periodicity_type'] = 'manual'\n",
    "tr_vecs = params['translational_vectors'] = CP2K_methods.generate_translational_vectors(origin, [1,1,1],\n",
    "                                                                                        params['periodicity_type'])\n",
    "print(tr_vecs.shape)\n",
    "print(tr_vecs)\n",
    "\n",
    "# The AO overlaps in spherical or Cartesian coordinates\n",
    "params['is_spherical'] =  True\n",
    "# Remove the molden files, which are large files for some systems, \n",
    "# after the computaion is done for tha system\n",
    "params['remove_molden'] = True\n",
    "# The results are stored in this folder\n",
    "params['res_dir'] = path + 'res'\n",
    "params['all_pdosfiles'] = path + 'all_pdosfiles'\n",
    "params['all_logfiles'] = path + 'all_logfiles'\n",
    "# CP2K executable \n",
    "params['cp2k_exe'] = '/projects/academic/cyberwksp21/Software/cp2k-intel/cp2k-8.2/exe/Linux-x86-64-intelx/cp2k.psmp'\n",
    "# If the xTB calculations are needed, we need an OT procedure \n",
    "params['cp2k_ot_input_template'] = path + 'es_ot_temp.inp'\n",
    "params['cp2k_diag_input_template'] = path + 'es_diag_temp.inp'\n",
    "# The trajectory xyz file path\n",
    "params['trajectory_xyz_filename'] = path + '/../6_step1_cp2k/Rutile_TiO2_MD-pos-1.xyz'\n",
    "\n",
    "step2.run_cp2k_libint_step2(params)\n"
   ]
  }
 ],
 "metadata": {
  "kernelspec": {
   "display_name": "Python 3",
   "language": "python",
   "name": "python3"
  },
  "language_info": {
   "codemirror_mode": {
    "name": "ipython",
    "version": 3
   },
   "file_extension": ".py",
   "mimetype": "text/x-python",
   "name": "python",
   "nbconvert_exporter": "python",
   "pygments_lexer": "ipython3",
   "version": "3.6.13"
  }
 },
 "nbformat": 4,
 "nbformat_minor": 5
}
