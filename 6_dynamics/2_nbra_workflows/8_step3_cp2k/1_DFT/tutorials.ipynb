{
 "cells": [
  {
   "cell_type": "code",
   "execution_count": 3,
   "id": "04e11de3",
   "metadata": {},
   "outputs": [],
   "source": [
    "import os\n",
    "import sys\n",
    "import time\n",
    "from liblibra_core import *\n",
    "from libra_py.workflows.nbra import step3"
   ]
  },
  {
   "cell_type": "code",
   "execution_count": 4,
   "id": "f887729a",
   "metadata": {},
   "outputs": [
    {
     "name": "stdout",
     "output_type": "stream",
     "text": [
      "Computing orthonormalization of St matrices in stepComputing orthonormalization of St matrices in stepComputing orthonormalization of St matrices in stepComputing orthonormalization of St matrices in step   2 13\n",
      "4\n",
      "\n",
      "\n",
      "Done with step 1 . Elapsed time: 0.13730239868164062\n",
      "Computing orthonormalization of St matrices in step 5\n",
      "Done with stepDone with step  24  Done with step . Elapsed time:. Elapsed time: 0.209343910217285163\n",
      " Computing orthonormalization of St matrices in step0.21138238906860352  \n",
      ". Elapsed time:6 Done with step \n",
      "0.232400417327880865 \n",
      ". Elapsed time: 0.1243126392364502\n",
      "Done with step 6 . Elapsed time: 0.10741400718688965\n",
      "Done with orthonormalization step. Elapsed time: 0.5484597682952881\n",
      "Done with state-reordering of the KS orbitals. Elapsed time: 0.31682419776916504\n",
      "Performing phase correction...\n",
      "Applying phase-correction to step 1\n",
      "20 [0, 1, 2, 3, 4, 5, 6, 7, 8, 9, 10, 11, 12, 13, 14, 15, 16, 17, 18, 19] [20, 21, 22, 23, 24, 25, 26, 27, 28, 29, 30, 31, 32, 33, 34, 35, 36, 37, 38, 39]\n",
      "Applying phase-correction to step 2\n",
      "20 [0, 1, 2, 3, 4, 5, 6, 7, 8, 9, 10, 11, 12, 13, 14, 15, 16, 17, 18, 19] [20, 21, 22, 23, 24, 25, 26, 27, 28, 29, 30, 31, 32, 33, 34, 35, 36, 37, 38, 39]\n",
      "Applying phase-correction to step 3\n",
      "20 [0, 1, 2, 3, 4, 5, 6, 7, 8, 9, 10, 11, 12, 13, 14, 15, 16, 17, 18, 19] [20, 21, 22, 23, 24, 25, 26, 27, 28, 29, 30, 31, 32, 33, 34, 35, 36, 37, 38, 39]\n",
      "Applying phase-correction to step 4\n",
      "20 [0, 1, 2, 3, 4, 5, 6, 7, 8, 9, 10, 11, 12, 13, 14, 15, 16, 17, 18, 19] [20, 21, 22, 23, 24, 25, 26, 27, 28, 29, 30, 31, 32, 33, 34, 35, 36, 37, 38, 39]\n",
      "Applying phase-correction to step 5\n",
      "20 [0, 1, 2, 3, 4, 5, 6, 7, 8, 9, 10, 11, 12, 13, 14, 15, 16, 17, 18, 19] [20, 21, 22, 23, 24, 25, 26, 27, 28, 29, 30, 31, 32, 33, 34, 35, 36, 37, 38, 39]\n",
      "Applying phase-correction to step 6\n",
      "20 [0, 1, 2, 3, 4, 5, 6, 7, 8, 9, 10, 11, 12, 13, 14, 15, 16, 17, 18, 19] [20, 21, 22, 23, 24, 25, 26, 27, 28, 29, 30, 31, 32, 33, 34, 35, 36, 37, 38, 39]\n",
      "Done with phase correction. Elapsed time: 0.4493703842163086\n"
     ]
    }
   ],
   "source": [
    "params_ks = {\n",
    "          'istate': 24-10, 'fstate': 24+11, 'num_occ_states': 10, 'num_unocc_states': 10,\n",
    "          'use_multiprocessing': True, 'nprocs': 4, 'time_step': 1.0, 'es_software': 'cp2k',\n",
    "          'path_to_npz_files': os.getcwd()+'/../../7_step2_cp2k/1_DFT/2_hpc/res',\n",
    "          'logfile_directory': os.getcwd()+'/../../7_step2_cp2k/1_DFT/2_hpc/all_logfiles',\n",
    "          'path_to_save_ks_Hvibs': os.getcwd()+'/res-ks',\n",
    "          'start_time': 1, 'finish_time': 7,\n",
    "          'apply_phase_correction': True, 'apply_orthonormalization': True,\n",
    "          'do_state_reordering': 2, 'state_reordering_alpha':0\n",
    "         }\n",
    "\n",
    "#### For KS states - Applying correction to KS overlaps and computing the NACs in KS space\n",
    "step3.run_step3_ks_nacs_libint(params_ks)"
   ]
  },
  {
   "cell_type": "code",
   "execution_count": 5,
   "id": "49f6103c",
   "metadata": {},
   "outputs": [
    {
     "name": "stdout",
     "output_type": "stream",
     "text": [
      "sd_unique_basis is: [[[24, 25], 'alp'], [[23, 25], 'alp'], [[22, 25], 'alp'], [[24, 27], 'alp'], [[24, 28], 'alp'], [[24, 26], 'alp'], [[24, 29], 'alp'], [[21, 25], 'alp']]\n",
      "sd_states_reindexed is: [[1, -1, 2, -2, 3, -3, 4, -4], [1, -1, 2, -2, 3, -3, 5, -4], [1, -1, 2, -2, 5, -3, 4, -4], [1, -1, 5, -2, 3, -3, 4, -4], [1, -1, 2, -2, 3, -3, 7, -4], [1, -1, 2, -2, 3, -3, 8, -4], [1, -1, 2, -2, 3, -3, 6, -4], [1, -1, 2, -2, 3, -3, 9, -4], [5, -1, 2, -2, 3, -3, 4, -4]]\n",
      "ks_homo_index 24\n",
      "ks_orbital_indicies range(21, 30)\n",
      "Sorting and computing the SDs energies...\n",
      "Done with sorting and computing the SDs energies. Elapsed time: 0.12350869178771973\n",
      "Computing the SD overlaps for stepComputing the SD overlaps for stepComputing the SD overlaps for stepComputing the SD overlaps for step    1023\n",
      "\n",
      "\n",
      "\n",
      "Applying orthonormalization for SDs for step Applying orthonormalization for SDs for step1Applying orthonormalization for SDs for step\n",
      " Applying orthonormalization for SDs for step 0 2\n",
      "3\n",
      "\n",
      "Done with computing the SD overlap of step 1. Elapsed time 0.06791234016418457\n",
      "Computing the SD overlaps for step 4\n",
      "Done with computing the SD overlap of step 2. Elapsed time 0.0749967098236084\n",
      "Done with computing the SD overlap of step 3. Elapsed time 0.08388471603393555\n",
      "Done with computing the SD overlap of step 0. Elapsed time 0.09438443183898926\n",
      "Applying orthonormalization for SDs for step 4\n",
      "Done with computing the SD overlap of step 4. Elapsed time 0.015568256378173828\n",
      "Done with computing the SD overlaps. Elapsed time: 0.24280333518981934\n",
      "Applying state-reordering to SDs overlaps...\n",
      "\n",
      "Done with state-reordering of SDs. Elapsed time: 0.011945724487304688\n",
      "Applying state-reordering to St_ci...\n",
      "\n",
      "Done with state-reordering to St_cis. Elapsed time: 0.10166716575622559\n"
     ]
    }
   ],
   "source": [
    "#### For excited states - Computing the excited states SDs and their overlaps and NACs\n",
    "params_mb_sd = {\n",
    "          'istate': 24-10, 'fstate': 24+11, 'num_occ_states': 10, 'num_unocc_states': 10,\n",
    "          'isUKS': 0, 'number_of_states': 5, 'tolerance': 0.01, 'verbosity': 0,\n",
    "          'use_multiprocessing': True, 'nprocs': 4,\n",
    "          'is_many_body': True, 'time_step': 1.0, 'es_software': 'cp2k',\n",
    "          'path_to_npz_files': os.getcwd()+'/../../7_step2_cp2k/1_DFT/2_hpc/res',\n",
    "          'logfile_directory': os.getcwd()+'/../../7_step2_cp2k/1_DFT/2_hpc/all_logfiles',\n",
    "          'path_to_save_sd_Hvibs': os.getcwd()+'/res-mb-sd',\n",
    "          'outdir': os.getcwd()+'/res-mb-sd',\n",
    "          'start_time': 1, 'finish_time': 7, 'sorting_type': 'identity',\n",
    "          'apply_phase_correction': True, 'apply_orthonormalization': True,\n",
    "          'do_state_reordering': 2, 'state_reordering_alpha':0\n",
    "         }\n",
    "\n",
    "\n",
    "step3.run_step3_sd_nacs_libint(params_mb_sd)"
   ]
  }
 ],
 "metadata": {
  "kernelspec": {
   "display_name": "Python 3",
   "language": "python",
   "name": "python3"
  },
  "language_info": {
   "codemirror_mode": {
    "name": "ipython",
    "version": 3
   },
   "file_extension": ".py",
   "mimetype": "text/x-python",
   "name": "python",
   "nbconvert_exporter": "python",
   "pygments_lexer": "ipython3",
   "version": "3.6.13"
  }
 },
 "nbformat": 4,
 "nbformat_minor": 5
}
