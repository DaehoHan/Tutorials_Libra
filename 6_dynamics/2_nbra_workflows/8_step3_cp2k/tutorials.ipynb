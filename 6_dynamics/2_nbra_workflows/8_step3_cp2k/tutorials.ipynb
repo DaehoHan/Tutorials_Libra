{
 "cells": [
  {
   "cell_type": "code",
   "execution_count": 2,
   "id": "04e11de3",
   "metadata": {},
   "outputs": [],
   "source": [
    "import os\n",
    "import sys\n",
    "import time\n",
    "from liblibra_core import *\n",
    "from libra_py.workflows.nbra import step3"
   ]
  },
  {
   "cell_type": "code",
   "execution_count": null,
   "id": "49f6103c",
   "metadata": {},
   "outputs": [],
   "source": [
    "params = {\n",
    "          'istate': 2224-100, 'fstate': 2224+401, 'num_occ_states': 20, 'num_unocc_states': 20,\n",
    "          'use_multiprocessing': True,'nprocs': 4, 'time_step': 0.5, 'es_software': 'cp2k',\n",
    "          'path_to_npz_files': os.getcwd()+'/../step2/res',\n",
    "          'logfile_directory': os.getcwd()+'/../step2/all_logfiles',\n",
    "          'path_to_save_ks_Hvibs': os.getcwd()+'/res-ks',\n",
    "          'path_to_save_sd_Hvibs': os.getcwd()+'/res-sd',\n",
    "          'start_time': 1, 'finish_time': 10,\n",
    "          'apply_phase_correction': True, 'apply_orthonormalization': True,\n",
    "          'do_state_reordering': 0, 'state_reordering_alpha':0\n",
    "         }\n",
    "\n",
    "#### For KS states - Applying correction to KS overlaps and computing the NACs in KS space\n",
    "step3.run_step3_ks_nacs_libint(params)\n",
    "#sys.exit(0)\n",
    "#### For excited states - Computing the excited states SDs and their overlaps and NACs\n",
    "# First, for electron-only basis\n",
    "params = {\n",
    "          'istate': 148-50, 'fstate': 148+50, 'num_occ_states': 1, 'num_unocc_states': 49,\n",
    "          'isUKS': 0, 'number_of_states': 10, 'tolerance': 0.01, 'verbosity': 0,\n",
    "          'use_multiprocessing': True, 'nprocs': 12,\n",
    "          'is_many_body': False, 'time_step': 0.5, 'es_software': 'cp2k',\n",
    "          'path_to_npz_files': os.getcwd()+'/../step2/res',\n",
    "          'logfile_directory': os.getcwd()+'/../step2/all_logfiles',\n",
    "          'path_to_save_sd_Hvibs': os.getcwd()+'/res-electron-only',\n",
    "          'outdir': os.getcwd()+'/res-electron-only',\n",
    "          'start_time': 1991, 'finish_time': 6001, 'sorting_type': 'energy',\n",
    "          'apply_phase_correction': True, 'apply_orthonormalization': True,\n",
    "          'do_state_reordering': 0, 'state_reordering_alpha':0\n",
    "         }\n",
    "\n",
    "\n",
    "step3.run_step3_sd_nacs_libint(params)\n",
    "\n"
   ]
  }
 ],
 "metadata": {
  "kernelspec": {
   "display_name": "Python 3",
   "language": "python",
   "name": "python3"
  },
  "language_info": {
   "codemirror_mode": {
    "name": "ipython",
    "version": 3
   },
   "file_extension": ".py",
   "mimetype": "text/x-python",
   "name": "python",
   "nbconvert_exporter": "python",
   "pygments_lexer": "ipython3",
   "version": "3.6.13"
  }
 },
 "nbformat": 4,
 "nbformat_minor": 5
}
