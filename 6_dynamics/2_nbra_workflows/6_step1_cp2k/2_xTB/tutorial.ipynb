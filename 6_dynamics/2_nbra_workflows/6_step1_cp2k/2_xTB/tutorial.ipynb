{
 "cells": [
  {
   "cell_type": "code",
   "execution_count": 2,
   "id": "54fc6e9f",
   "metadata": {},
   "outputs": [],
   "source": [
    "import os\n",
    "import sys\n",
    "import numpy as np\n",
    "from libra_py import data_conv"
   ]
  },
  {
   "cell_type": "code",
   "execution_count": 5,
   "id": "886e894a",
   "metadata": {},
   "outputs": [
    {
     "name": "stdout",
     "output_type": "stream",
     "text": [
      "[24, 32] ['C', 'N']\n",
      "A        14.2415132523         0.0000000000         0.0000000000\n",
      "\n",
      "B         0.0002151559        12.3343009930         0.0000000000\n",
      "\n",
      "C         0.0018975023         0.0028002808        14.9999996186\n",
      "\n"
     ]
    }
   ],
   "source": [
    "data_conv.vasp_to_xyz('C3N4_1x1.vasp')"
   ]
  }
 ],
 "metadata": {
  "kernelspec": {
   "display_name": "Python 3",
   "language": "python",
   "name": "python3"
  },
  "language_info": {
   "codemirror_mode": {
    "name": "ipython",
    "version": 3
   },
   "file_extension": ".py",
   "mimetype": "text/x-python",
   "name": "python",
   "nbconvert_exporter": "python",
   "pygments_lexer": "ipython3",
   "version": "3.6.13"
  }
 },
 "nbformat": 4,
 "nbformat_minor": 5
}
