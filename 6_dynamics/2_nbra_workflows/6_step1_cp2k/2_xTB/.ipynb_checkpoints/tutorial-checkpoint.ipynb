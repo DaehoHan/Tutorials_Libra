{
 "cells": [
  {
   "cell_type": "markdown",
   "id": "5664be85",
   "metadata": {},
   "source": [
    "# Generate the `.xyz` coordinates from VASP POSCAR files\n",
    "The same as in the [here](../1_DFT/tutorial.ipynb) we generate the `.xyz` file from `.vasp` file of the C3N4 1x1 unit cell."
   ]
  },
  {
   "cell_type": "code",
   "execution_count": 1,
   "id": "54fc6e9f",
   "metadata": {},
   "outputs": [
    {
     "name": "stderr",
     "output_type": "stream",
     "text": [
      "/panasas/scratch/grp-alexeyak/mohammad/softwares/miniconda3/envs/libra/lib/python3.6/importlib/_bootstrap.py:219: RuntimeWarning: to-Python converter for std::vector<std::vector<int, std::allocator<int> >, std::allocator<std::vector<int, std::allocator<int> > > > already registered; second conversion method ignored.\n",
      "  return f(*args, **kwds)\n",
      "/panasas/scratch/grp-alexeyak/mohammad/softwares/miniconda3/envs/libra/lib/python3.6/importlib/_bootstrap.py:219: RuntimeWarning: to-Python converter for boost::python::detail::container_element<std::vector<std::vector<int, std::allocator<int> >, std::allocator<std::vector<int, std::allocator<int> > > >, unsigned long, boost::python::detail::final_vector_derived_policies<std::vector<std::vector<int, std::allocator<int> >, std::allocator<std::vector<int, std::allocator<int> > > >, false> > already registered; second conversion method ignored.\n",
      "  return f(*args, **kwds)\n",
      "/panasas/scratch/grp-alexeyak/mohammad/softwares/miniconda3/envs/libra/lib/python3.6/importlib/_bootstrap.py:219: RuntimeWarning: to-Python converter for std::vector<std::vector<float, std::allocator<float> >, std::allocator<std::vector<float, std::allocator<float> > > > already registered; second conversion method ignored.\n",
      "  return f(*args, **kwds)\n",
      "/panasas/scratch/grp-alexeyak/mohammad/softwares/miniconda3/envs/libra/lib/python3.6/importlib/_bootstrap.py:219: RuntimeWarning: to-Python converter for boost::python::detail::container_element<std::vector<std::vector<float, std::allocator<float> >, std::allocator<std::vector<float, std::allocator<float> > > >, unsigned long, boost::python::detail::final_vector_derived_policies<std::vector<std::vector<float, std::allocator<float> >, std::allocator<std::vector<float, std::allocator<float> > > >, false> > already registered; second conversion method ignored.\n",
      "  return f(*args, **kwds)\n",
      "/panasas/scratch/grp-alexeyak/mohammad/softwares/miniconda3/envs/libra/lib/python3.6/importlib/_bootstrap.py:219: RuntimeWarning: to-Python converter for std::vector<std::vector<double, std::allocator<double> >, std::allocator<std::vector<double, std::allocator<double> > > > already registered; second conversion method ignored.\n",
      "  return f(*args, **kwds)\n",
      "/panasas/scratch/grp-alexeyak/mohammad/softwares/miniconda3/envs/libra/lib/python3.6/importlib/_bootstrap.py:219: RuntimeWarning: to-Python converter for boost::python::detail::container_element<std::vector<std::vector<double, std::allocator<double> >, std::allocator<std::vector<double, std::allocator<double> > > >, unsigned long, boost::python::detail::final_vector_derived_policies<std::vector<std::vector<double, std::allocator<double> >, std::allocator<std::vector<double, std::allocator<double> > > >, false> > already registered; second conversion method ignored.\n",
      "  return f(*args, **kwds)\n",
      "/panasas/scratch/grp-alexeyak/mohammad/softwares/miniconda3/envs/libra/lib/python3.6/importlib/_bootstrap.py:219: RuntimeWarning: to-Python converter for std::vector<std::vector<std::complex<double>, std::allocator<std::complex<double> > >, std::allocator<std::vector<std::complex<double>, std::allocator<std::complex<double> > > > > already registered; second conversion method ignored.\n",
      "  return f(*args, **kwds)\n",
      "/panasas/scratch/grp-alexeyak/mohammad/softwares/miniconda3/envs/libra/lib/python3.6/importlib/_bootstrap.py:219: RuntimeWarning: to-Python converter for boost::python::detail::container_element<std::vector<std::vector<std::complex<double>, std::allocator<std::complex<double> > >, std::allocator<std::vector<std::complex<double>, std::allocator<std::complex<double> > > > >, unsigned long, boost::python::detail::final_vector_derived_policies<std::vector<std::vector<std::complex<double>, std::allocator<std::complex<double> > >, std::allocator<std::vector<std::complex<double>, std::allocator<std::complex<double> > > > >, false> > already registered; second conversion method ignored.\n",
      "  return f(*args, **kwds)\n"
     ]
    }
   ],
   "source": [
    "from libra_py import data_conv"
   ]
  },
  {
   "cell_type": "code",
   "execution_count": 2,
   "id": "886e894a",
   "metadata": {},
   "outputs": [
    {
     "name": "stdout",
     "output_type": "stream",
     "text": [
      "[24, 32] ['C', 'N']\n",
      "A        14.2415132523         0.0000000000         0.0000000000\n",
      "\n",
      "B         0.0002151559        12.3343009930         0.0000000000\n",
      "\n",
      "C         0.0018975023         0.0028002808        14.9999996186\n",
      "\n"
     ]
    }
   ],
   "source": [
    "data_conv.vasp_to_xyz('C3N4_1x1.vasp')"
   ]
  },
  {
   "cell_type": "markdown",
   "id": "93b7404b",
   "metadata": {},
   "source": [
    "# Run MD in xTB framework\n",
    "\n",
    "To run the MD for a structure using xTB, one needs to run the SCF calculations using the OT method. Experimentally, this method looks more stable for both `ATOMIC` and `RESTART` guess while diagonalization fails when using `ATOMIC` guess. The reason for this is not clear but in order to make the diagonalization work, one needs to provide a good guess, which can be a converged wavefunction from OT. This will be used in the step2 and to obtain a trajectory, we can only use the OT method."
   ]
  },
  {
   "cell_type": "code",
   "execution_count": 3,
   "id": "4d97d9ea",
   "metadata": {},
   "outputs": [
    {
     "name": "stdout",
     "output_type": "stream",
     "text": [
      " The Intel 20.2 compilers are in your path. This is adequate for compiling and\n",
      "running most codes. Source compilervars.sh for more features including the\n",
      "debugger. \n",
      " The Intel MPI 2020.2 is in your path. This is adequate for compiling and\n",
      "running most codes. Run \"source\n",
      "/util/academic/intel/20.2/compilers_and_libraries_2020.2.254/linux/mpi/intel64/bin/mpivars.sh\"\n",
      "for more features including the debugger. \n"
     ]
    }
   ],
   "source": [
    "! module load intel/20.2\n",
    "! module load intel-mpi/2020.2\n",
    "! mpirun -np 4 md.inp -o out_md_c3n4_1x1_xtb.log"
   ]
  }
 ],
 "metadata": {
  "kernelspec": {
   "display_name": "Python 3",
   "language": "python",
   "name": "python3"
  },
  "language_info": {
   "codemirror_mode": {
    "name": "ipython",
    "version": 3
   },
   "file_extension": ".py",
   "mimetype": "text/x-python",
   "name": "python",
   "nbconvert_exporter": "python",
   "pygments_lexer": "ipython3",
   "version": "3.6.13"
  }
 },
 "nbformat": 4,
 "nbformat_minor": 5
}
