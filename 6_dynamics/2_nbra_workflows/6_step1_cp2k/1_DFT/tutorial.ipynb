{
 "cells": [
  {
   "cell_type": "code",
   "execution_count": 6,
   "id": "54fc6e9f",
   "metadata": {},
   "outputs": [],
   "source": [
    "import os\n",
    "import sys\n",
    "import numpy as np\n",
    "from libra_py import data_conv"
   ]
  },
  {
   "cell_type": "code",
   "execution_count": 8,
   "id": "886e894a",
   "metadata": {},
   "outputs": [
    {
     "name": "stdout",
     "output_type": "stream",
     "text": [
      "[2, 4] ['Ti', 'O']\n",
      "A         4.6532721519         0.0000000000         0.0000000000\n",
      "\n",
      "B         0.0000000000         4.6532721519         0.0000000000\n",
      "\n",
      "C         0.0000000000         0.0000000000         2.9692029953\n",
      "\n"
     ]
    }
   ],
   "source": [
    "data_conv.vasp_to_xyz('TiO2_unit_cell.vasp')"
   ]
  }
 ],
 "metadata": {
  "kernelspec": {
   "display_name": "Python 3",
   "language": "python",
   "name": "python3"
  },
  "language_info": {
   "codemirror_mode": {
    "name": "ipython",
    "version": 3
   },
   "file_extension": ".py",
   "mimetype": "text/x-python",
   "name": "python",
   "nbconvert_exporter": "python",
   "pygments_lexer": "ipython3",
   "version": "3.6.13"
  }
 },
 "nbformat": 4,
 "nbformat_minor": 5
}
