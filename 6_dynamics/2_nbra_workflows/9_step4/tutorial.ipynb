{
 "cells": [
  {
   "cell_type": "markdown",
   "id": "0c2724e7",
   "metadata": {},
   "source": [
    "# Running the nonadiabatic molecular dynamics (NA-MD)\n",
    "\n",
    "In this tutorial, we conduct NBRA NA-MD calculations using the Libra code. This version implements the generic dynamical approach that is common to model-based NA-MD simulations and the one based on reading files. In this particular case, we setup the interface to pre-computed energy and time-overlap files (as could be produced by any codes) and use it in the generic dynamical workflow.\n",
    "\n",
    "## Table of contents\n",
    "<a name=\"toc\"></a>\n",
    "1. [Importing needed libraries](#import)\n",
    "2. [Read the files in a selected basis](#2)\n",
    "3. [Computing the average energy gaps and decoherence times](#gap_deco)\n",
    "4. [Define the interface](#def_interface)\n",
    "5. [Define parameters and run the calculations](#5) \n",
    "6. [Run NAMD simulations](#run_namd)\\\n",
    "   6.1. [FSSH with no decoherence correction method](#FSSH)\\\n",
    "   6.2. [mSDM method](#mSDM)\\\n",
    "   6.3. [IDA method](#IDA)\\\n",
    "   6.4. [DISH method](#DISH)\n",
    "7. [Plot the results using `plot_dynamics`](#plot_res)\n",
    "\n",
    "### A. Learning objectives\n",
    "\n",
    "* To set up and run file-based NBRA NA-MD calculations with different methods\n",
    "\n",
    "### B. Use cases\n",
    "\n",
    "* [Run NAMD simulations](#run_namd)\n",
    "* [Plot the results using `plot_dynamics`](#plot_res)\n",
    "\n",
    "### C. Functions\n",
    "\n",
    "- `libra_py`\n",
    "  - `dynamics`\n",
    "    - `tsh`\n",
    "      - `compute`\n",
    "        - [`generic_recipe`](#run_namd)\n",
    "      - `plot`\n",
    "        - [`plot_dynamics`](#plot_res)\n",
    "  - `data_conv`\n",
    "    - [`nparray2CMATRIX`](#gap_deco)\n",
    "  - `units`\n",
    "    - [`au2ev`](#gap_deco)\n",
    "    - [`au2fs`](#gap_deco)\n",
    "    "
   ]
  },
  {
   "cell_type": "markdown",
   "id": "250f20a3",
   "metadata": {},
   "source": [
    "## 1. Importing needed libraries <a name=\"import\"></a>\n",
    "[Back to TOC](#toc)\n",
    "\n",
    "First, let's import all necessary libraries and define parameters such as colors"
   ]
  },
  {
   "cell_type": "code",
   "execution_count": null,
   "id": "e707d1a6",
   "metadata": {},
   "outputs": [],
   "source": [
    "import os\n",
    "import matplotlib.pyplot as plt   # plots\n",
    "import numpy as np\n",
    "import scipy.sparse as sp\n",
    "import h5py\n",
    "import warnings\n",
    "\n",
    "from liblibra_core import *\n",
    "import util.libutil as comn\n",
    "from libra_py import units, data_conv, dynamics_plotting\n",
    "import libra_py.dynamics.tsh.compute as tsh_dynamics\n",
    "import libra_py.dynamics.tsh.plot as tsh_dynamics_plot\n",
    "import libra_py.data_savers as data_savers\n",
    "import libra_py.workflows.nbra.decoherence_times as decoherence_times\n",
    "\n",
    "\n",
    "#from matplotlib.mlab import griddata\n",
    "#%matplotlib inline \n",
    "warnings.filterwarnings('ignore')\n",
    "\n",
    "colors = {}\n",
    "colors.update({\"11\": \"#8b1a0e\"})  # red       \n",
    "colors.update({\"12\": \"#FF4500\"})  # orangered \n",
    "colors.update({\"13\": \"#B22222\"})  # firebrick \n",
    "colors.update({\"14\": \"#DC143C\"})  # crimson   \n",
    "colors.update({\"21\": \"#5e9c36\"})  # green\n",
    "colors.update({\"22\": \"#006400\"})  # darkgreen  \n",
    "colors.update({\"23\": \"#228B22\"})  # forestgreen\n",
    "colors.update({\"24\": \"#808000\"})  # olive      \n",
    "colors.update({\"31\": \"#8A2BE2\"})  # blueviolet\n",
    "colors.update({\"32\": \"#00008B\"})  # darkblue  \n",
    "colors.update({\"41\": \"#2F4F4F\"})  # darkslategray\n",
    "\n",
    "clrs_index = [\"11\", \"21\", \"31\", \"41\", \"12\", \"22\", \"32\", \"13\",\"23\", \"14\", \"24\"]\n"
   ]
  },
  {
   "cell_type": "markdown",
   "id": "1a19bbc7",
   "metadata": {},
   "source": [
    "## 2. Read the files in a selected basis<a name=\"2\"></a>\n",
    "[Back to TOC](#toc)\n",
    "\n",
    "Here, we will be reading the files required for NBRA-NAMD simulations. In this example, we select the MB basis where the overlaps and energies are computed in the `res-mb-sd-DFT` folder. This folder is `../8_step3/1_DFT/res-mb-sd-DFT`. The parameters in the cell below are:\n",
    "\n",
    "`istep`: The initial step \n",
    "\n",
    "`fstep`: The final step  \n",
    "\n",
    "`NSTEPS`: Number of steps which is `fstep-istep`\n",
    "\n",
    "Note that all the files from `istep` to `fstep-1` should exist. "
   ]
  },
  {
   "cell_type": "code",
   "execution_count": null,
   "id": "bd2aa6e0",
   "metadata": {},
   "outputs": [],
   "source": [
    "path_to_save_sd_Hvibs = '../8_step3/1_DFT/res-mb-sd-DFT'\n",
    "istep = 1200\n",
    "fstep = 1400\n",
    "NSTEPS = fstep - istep\n",
    "#================== Read energies =====================\n",
    "E = []\n",
    "for step in range(istep,fstep):\n",
    "    energy_filename = F\"{path_to_save_sd_Hvibs}/Hvib_ci_{step}_re.npz\"\n",
    "    energy_mat = sp.load_npz(energy_filename)\n",
    "    # For data conversion we need to turn np.ndarray to np.array so that \n",
    "    # we can use data_conv.nparray2CMATRIX\n",
    "    E.append( np.array( np.diag( energy_mat.todense() ) ) )\n",
    "E = np.array(E)\n",
    "NSTATES = E[0].shape[0]\n",
    "#================== Read time-overlap =====================\n",
    "St = []\n",
    "for step in range(istep,fstep):        \n",
    "    St_filename = F\"{path_to_save_sd_Hvibs}/St_ci_{step}_re.npz\"\n",
    "    St_mat = sp.load_npz(St_filename)\n",
    "    St.append( np.array( St_mat.todense() ) )\n",
    "St = np.array(St)\n",
    "#================ Compute NACs and vibronic Hamiltonians along the trajectory ============    \n",
    "NAC = []\n",
    "Hvib = [] \n",
    "for c, step in enumerate(range(istep,fstep)):\n",
    "    nac_filename = F\"{path_to_save_sd_Hvibs}/Hvib_ci_{step}_im.npz\"\n",
    "    nac_mat = sp.load_npz(nac_filename)\n",
    "    NAC.append( np.array( nac_mat.todense() ) )\n",
    "    Hvib.append( np.diag(E[c, :])*(1.0+1j*0.0)  - (0.0+1j)*nac_mat[:, :] )\n",
    "\n",
    "NAC = np.array(NAC)\n",
    "Hvib = np.array(Hvib)\n",
    "\n",
    "print('Number of steps:', NSTEPS)\n",
    "print('Number of states:', NSTATES)"
   ]
  },
  {
   "cell_type": "code",
   "execution_count": null,
   "id": "9afb9a68",
   "metadata": {},
   "outputs": [],
   "source": [
    "print(NAC.shape)\n",
    "print(Hvib.shape)\n",
    "print(St.shape)"
   ]
  },
  {
   "cell_type": "markdown",
   "id": "adc98db6",
   "metadata": {},
   "source": [
    "## 3. Computing the average energy gaps and decoherence times<a name=\"gap_deco\"></a>\n",
    "[Back to TOC](#toc)\n",
    "\n",
    "Below, we compute the average energy gaps and decoherence times between all states. The average gaps matrix, `gaps`, and average decoherence times and rates, `avg_deco` and `rates`, are required for NAMD with decoherence methods."
   ]
  },
  {
   "cell_type": "code",
   "execution_count": null,
   "id": "afc0526f",
   "metadata": {},
   "outputs": [],
   "source": [
    "# ================= Computing the energy gaps and decoherence times\n",
    "HAM_RE = []\n",
    "for step in range(E.shape[0]):\n",
    "    HAM_RE.append( data_conv.nparray2CMATRIX( np.diag(E[step, : ]) ) )\n",
    "# Average decoherence times and rates\n",
    "tau, rates = decoherence_times.decoherence_times_ave([HAM_RE], [0], NSTEPS, 0)\n",
    "# Computes the energy gaps between all states for all steps\n",
    "dE = decoherence_times.energy_gaps_ave([HAM_RE], [0], NSTEPS)\n",
    "# Decoherence times in fs\n",
    "avg_deco = data_conv.MATRIX2nparray(tau) * units.au2fs\n",
    "# Zero all the diagonal elements of the decoherence matrix\n",
    "np.fill_diagonal(avg_deco, 0)\n",
    "# Saving the average decoherence times\n",
    "np.savetxt('avg_deco.txt',avg_deco.real)\n",
    "# Computing the average energy gaps\n",
    "gaps = MATRIX(NSTATES, NSTATES)\n",
    "for step in range(NSTEPS):\n",
    "    gaps += dE[step]\n",
    "gaps /= NSTEPS"
   ]
  },
  {
   "cell_type": "markdown",
   "id": "7fc44d02",
   "metadata": {},
   "source": [
    "## 4. Define the interface <a name=\"def_interface\"></a>\n",
    "[Back to TOC](#toc)\n",
    "\n",
    "The interface function should be defined as explained in other tutorials. It should return objects with the specifically-named data members. This is what we defined here:\n",
    "<a name=\"nparray2CMATRIX-1\"></a><a name=\"use_case-3\"></a>"
   ]
  },
  {
   "cell_type": "code",
   "execution_count": null,
   "id": "2a666167",
   "metadata": {},
   "outputs": [],
   "source": [
    "class tmp:\n",
    "    pass\n",
    "\n",
    "def compute_model(q, params, full_id):\n",
    "    timestep = params[\"timestep\"]\n",
    "    nst = params[\"nstates\"]\n",
    "    obj = tmp()\n",
    "\n",
    "    obj.ham_adi = data_conv.nparray2CMATRIX( np.diag(E[timestep, : ]) )\n",
    "    obj.nac_adi = data_conv.nparray2CMATRIX( NAC[timestep, :, :] )\n",
    "    obj.hvib_adi = data_conv.nparray2CMATRIX( Hvib[timestep, :, :] )\n",
    "    obj.basis_transform = CMATRIX(nst,nst); obj.basis_transform.identity()  #basis_transform\n",
    "    obj.time_overlap_adi = data_conv.nparray2CMATRIX( St[timestep, :, :] )\n",
    "    \n",
    "    return obj\n"
   ]
  },
  {
   "cell_type": "markdown",
   "id": "569ca263",
   "metadata": {},
   "source": [
    "## 5. Define parameters and run the calculations <a name=\"5\"></a>\n",
    "[Back to TOC](#toc)\n",
    "\n",
    "Make sure you define all of these 4 parameters of the `model_params` dictionary. Here, we first initialize the parameter `timestep` to `0`. This parameter will be updated to `icond` which is representative of the initial geomtery. "
   ]
  },
  {
   "cell_type": "code",
   "execution_count": null,
   "id": "d005ec82",
   "metadata": {},
   "outputs": [],
   "source": [
    "#================== Model parameters ====================\n",
    "model_params = { \"timestep\":0, \"icond\":10,  \"model0\":0, \"nstates\":NSTATES }"
   ]
  },
  {
   "cell_type": "markdown",
   "id": "6de0f500",
   "metadata": {},
   "source": [
    "Dynamics control parameters are as follows:\n",
    "\n",
    "`nfiles`: The total number of files that was read.\n",
    "\n",
    "`nsteps`: The total number of steps for dynamics. Note that this number can be larger than the number of files `nfiles` read. For `nsteps` more than `nfiles`, Libra will repeat the Hamiltonian matrices and do the dynamics.\n",
    "\n",
    "`ntraj`: The number of surface hopping trajectories.\n",
    "\n",
    "`dt`: The time step in atomic units.\n",
    "\n",
    "`decoherence_rates`: The matrix of dephasing rates with a unit of a.u. of time$^{-1}$.\n",
    "\n",
    "`ave_gaps`: A matrix that contains the averaged moduli of the energy gaps\n",
    "\n",
    "$$E_{ij}= |E_i - E_j|$$\n",
    "\n",
    "It is needed when `dephasing_informed` option is used, like DISH method.\n",
    "\n",
    "`progress_frequency`: At what intervals print out some \"progress\" messages. For instance, if you have `nsteps = 100` and `progress_frequency = 0.1`, the code will notify you every 10 steps.\n",
    "\n",
    "`which_adi_states`: Indices of the adiabatic states to plot.\n",
    "\n",
    "`which_dia_states`: Indices of the diabatic states to plot.\n",
    "\n",
    "`mem_output_level`: Controls what info to save into HDF5 files (all at the end) Same meaning and output as with `hdf5_output_level`, except all the variables are first stored in memory (while the calcs are running) and then they are written into the HDF5 file at the end of the calculations. This is a much faster version of hdf5 saver.\n",
    "\n",
    "`properties_to_save`: Describes what properties to save to the HDF5 files. Note that if some properties are not listed in this variable, then they are not saved, even if `mem_output_level` suggests they may be saved. You need to BOTH set the appropriate `mem_output_level` AND `properties_to_save`:\n",
    "\n",
    "```\n",
    "default:  [ \"timestep\", \"time\", \"Ekin_ave\", \"Epot_ave\", \"Etot_ave\", \n",
    "         \"dEkin_ave\", \"dEpot_ave\", \"dEtot_ave\", \"states\", \"SH_pop\", \"SH_pop_raw\",\n",
    "         \"D_adi\", \"D_adi_raw\", \"D_dia\", \"D_dia_raw\", \"q\", \"p\", \"Cadi\", \"Cdia\", \n",
    "         \"hvib_adi\", \"hvib_dia\", \"St\", \"basis_transform\", \"projector\"]\n",
    "```\n",
    "\n",
    "`prefix`: The name of the folder to be created by this function. All the data files will be created in that folder.\n",
    "\n",
    "`isNBRA`: A flag for NBRA type of calculations.\n",
    "\n",
    "Other parameters for NBRA-specific parameters are explained in the comments of the cell below."
   ]
  },
  {
   "cell_type": "code",
   "execution_count": null,
   "id": "3647614e",
   "metadata": {},
   "outputs": [],
   "source": [
    "#=============== Some automatic variables, related to the settings above ===================\n",
    "\n",
    "dyn_general = { \"nsteps\":NSTEPS*2, \"ntraj\":25, \"nstates\":NSTATES, \"dt\":1.0*units.fs2au, \"nfiles\": NSTEPS,\n",
    "                \"decoherence_rates\":rates, \"ave_gaps\": gaps,\n",
    "                \"progress_frequency\":0.1, \"which_adi_states\":range(NSTATES), \"which_dia_states\":range(NSTATES),\n",
    "                \"mem_output_level\":2,\n",
    "                \"properties_to_save\":[ \"timestep\", \"time\",\"se_pop_adi\", \"sh_pop_adi\" ],\n",
    "                \"prefix\":F\"NBRA\", \"isNBRA\":0\n",
    "              }\n",
    "\n",
    "#=========== Some NBRA-specific parameters - these are the key settings for running file-based NBRA calculations ===========\n",
    "\n",
    "dyn_general.update({\"ham_update_method\":2})  # read adiabatic properties from mthe files\n",
    "\n",
    "dyn_general.update({\"ham_transform_method\":0})  # don't attempt to compute adiabatic properties from the diabatic ones, not to\n",
    "                                                # override the read ones \n",
    "    \n",
    "dyn_general.update({\"time_overlap_method\":0})  # don't attempt to compute those, not to override the read ones\n",
    "\n",
    "dyn_general.update({\"nac_update_method\":0})    # don't attempt to recompute NACs, so that we don't override the read values\n",
    "\n",
    "dyn_general.update({\"hvib_update_method\":0})   # don't attempt to recompute Hvib, so that we don't override the read values\n",
    "\n",
    "\n",
    "dyn_general.update( {\"force_method\":0, \"rep_force\":1} ) # NBRA = don't compute forces, so rep_force actually doesn't matter\n",
    "\n",
    "\n",
    "dyn_general.update({\"hop_acceptance_algo\":32, \"momenta_rescaling_algo\":0 })  # accept based on Boltzmann, no velocity rescaling\n",
    "\n",
    "dyn_general.update( {\"rep_tdse\":1}) # the TDSE integration is conducted in adiabatic rep\n",
    "\n",
    "dyn_general.update( {\"electronic_integrator\":2} )  # using the local diabatization approach to integrate TD-SE"
   ]
  },
  {
   "cell_type": "markdown",
   "id": "f8970290",
   "metadata": {},
   "source": [
    "[Back to TOC](#toc)\n",
    "\n",
    "Now, we define the nuclear and electronic parameters. The nuclear parameters do not matter in the NBRA-NAMD. The initial state is defined in the `elec_params` with the `istate` parameter. `rep` shows in which representation the dynamics should be done where `1` is the adiabatic representation and `0` shows the dynamics in diabatic representation.\n",
    "\n",
    "Other parameters in the `elec_params` are used for density matrix and amplitudes initialization."
   ]
  },
  {
   "cell_type": "code",
   "execution_count": null,
   "id": "defb8c7f",
   "metadata": {},
   "outputs": [],
   "source": [
    "#=================== Dynamics =======================\n",
    "# Nuclear DOF - these parameters don't matter much in the NBRA calculations\n",
    "nucl_params = {\"ndof\":1, \"init_type\":3, \"q\":[-10.0], \"p\":[0.0], \"mass\":[2000.0], \"force_constant\":[0.01], \"verbosity\":-1 }\n",
    "\n",
    "# Amplitudes are sampled\n",
    "elec_params = {\"ndia\":NSTATES, \"nadi\":NSTATES, \"verbosity\":-1, \"init_dm_type\":0}\n",
    "\n",
    "\n",
    "elec_params.update( {\"init_type\":1,  \"rep\":1,  \"istate\":10 } )  # how to initialize: random phase, adiabatic representation, given initial state"
   ]
  },
  {
   "cell_type": "markdown",
   "id": "567643e6",
   "metadata": {},
   "source": [
    "## 6. Run NAMD simulation <a name=\"run_namd\"></a>\n",
    "[Back to TOC](#toc)\n",
    "\n",
    "Here, we start doing NAMD calculations using different methods, FSSH, mSDM, IDA, and DISH. For each method, we need to change the parameters in `dyn_general`. We run the calculations for initial conditions in `range(0,200,10)`. For running each calculations we update the `prefix` to `F'{method}_NBRA_icond_{icond}'`. We then will be using these folders and date stored in them to plot the dynamics and compute the timescales.\n",
    "\n",
    "### 6.1. FSSH with no decoherence correction method <a name=\"FSSH\"></a>\n",
    "[Back to TOC](#toc)\n",
    "\n",
    "The `dyn_general` parameters for FSSH calculations are as follows:"
   ]
  },
  {
   "cell_type": "code",
   "execution_count": null,
   "id": "54b05b95",
   "metadata": {},
   "outputs": [],
   "source": [
    "#============ Surface hopping opntions =================\n",
    "dyn_general.update({\"tsh_method\":0 }) # FSSH\n",
    "dyn_general.update({ \"decoherence_algo\":-1}) # no (additional) decoherence\n",
    "dyn_general.update({\"decoherence_times_type\":-1 }) # No decoherence times, infinite decoherence times\n",
    "dyn_general.update({\"do_ssy\":0 }) # do no use Shenvi-Subotnik-Yang phase correction\n",
    "dyn_general.update({\"dephasing_informed\":0}) # no dephasing-informed correction"
   ]
  },
  {
   "cell_type": "code",
   "execution_count": null,
   "id": "097c5390",
   "metadata": {},
   "outputs": [],
   "source": [
    "rnd = Random()\n",
    "\n",
    "for icond in range(0,200,10):\n",
    "    print('Running the calculations for icond:', icond)\n",
    "    model_params.update({\"icond\": icond})\n",
    "    dyn_general.update({\"prefix\":F\"FSSH_NBRA_icond_{icond}\"})\n",
    "    res = tsh_dynamics.generic_recipe(dyn_general, compute_model, model_params, elec_params, nucl_params, rnd)"
   ]
  },
  {
   "cell_type": "markdown",
   "id": "48e0c630",
   "metadata": {},
   "source": [
    "### 6.2. mSDM method <a name=\"mSDM\"></a>\n",
    "[Back to TOC](#toc)\n",
    "\n",
    "The `dyn_general` parameters for calculations with mSDM decoherence method are as follows:"
   ]
  },
  {
   "cell_type": "code",
   "execution_count": null,
   "id": "f4d9ff25",
   "metadata": {},
   "outputs": [],
   "source": [
    "#============ Surface hopping opntions =================\n",
    "dyn_general.update({\"tsh_method\":0 }) # FSSH\n",
    "dyn_general.update({ \"decoherence_algo\":0}) # mSDM\n",
    "dyn_general.update({\"decoherence_times_type\":0 }) # use the rates read out from the input, need decoherence_rates input\n",
    "dyn_general.update( {\"dephasing_informed\":0} ) # no dephasing-informed correction"
   ]
  },
  {
   "cell_type": "code",
   "execution_count": null,
   "id": "2308097c",
   "metadata": {},
   "outputs": [],
   "source": [
    "rnd = Random()\n",
    "\n",
    "for icond in range(0,200,10):\n",
    "    print('Running the calculations for icond:', icond)\n",
    "    model_params.update({\"icond\": icond})\n",
    "    dyn_general.update({\"prefix\":F\"mSDM_NBRA_icond_{icond}\"})\n",
    "    res = tsh_dynamics.generic_recipe(dyn_general, compute_model, model_params, elec_params, nucl_params, rnd)"
   ]
  },
  {
   "cell_type": "markdown",
   "id": "5f98af37",
   "metadata": {},
   "source": [
    "### 6.3. IDA method <a name=\"IDA\"></a>\n",
    "[Back to TOC](#toc)\n",
    "\n",
    "The `dyn_general` parameters for calculations with IDA decoherence method are as follows:"
   ]
  },
  {
   "cell_type": "code",
   "execution_count": null,
   "id": "62c48bef",
   "metadata": {},
   "outputs": [],
   "source": [
    "#============ Surface hopping opntions =================\n",
    "dyn_general.update({\"tsh_method\":0 }) # FSSH\n",
    "dyn_general.update({ \"decoherence_algo\":1}) # IDA\n",
    "dyn_general.update({\"decoherence_times_type\":0 }) # use the rates read out from the input, need decoherence_rates input\n",
    "dyn_general.update( {\"dephasing_informed\":0} ) # no dephasing-informed correction"
   ]
  },
  {
   "cell_type": "code",
   "execution_count": null,
   "id": "c8ddc1a8",
   "metadata": {},
   "outputs": [],
   "source": [
    "rnd = Random()\n",
    "\n",
    "for icond in range(0,200,10):\n",
    "    print('Running the calculations for icond:', icond)\n",
    "    model_params.update({\"icond\": icond})\n",
    "    dyn_general.update({\"prefix\":F\"IDA_NBRA_icond_{icond}\"})\n",
    "    res = tsh_dynamics.generic_recipe(dyn_general, compute_model, model_params, elec_params, nucl_params, rnd)"
   ]
  },
  {
   "cell_type": "markdown",
   "id": "9d67543f",
   "metadata": {},
   "source": [
    "### 6.4. DISH method <a name=\"DISH\"></a>\n",
    "[Back to TOC](#toc)\n",
    "\n",
    "The `dyn_general` parameters for calculations with mSDM decoherence method are as follows:"
   ]
  },
  {
   "cell_type": "code",
   "execution_count": null,
   "id": "5e4367ff",
   "metadata": {},
   "outputs": [],
   "source": [
    "#============ Surface hopping opntions =================\n",
    "dyn_general.update({\"tsh_method\":3 }) # DISH 2\n",
    "dyn_general.update({ \"decoherence_algo\":-1}) # DISH 2\n",
    "dyn_general.update({\"decoherence_times_type\":0 }) # use the rates read out from the input, need decoherence_rates input\n",
    "dyn_general.update( {\"dephasing_informed\":1} ) # dephasing-informed correction"
   ]
  },
  {
   "cell_type": "code",
   "execution_count": null,
   "id": "5531c63c",
   "metadata": {},
   "outputs": [],
   "source": [
    "rnd = Random()\n",
    "\n",
    "for icond in range(0,200,10):\n",
    "    print('Running the calculations for icond:', icond)\n",
    "    model_params.update({\"icond\": icond})\n",
    "    dyn_general.update({\"prefix\":F\"DISH_NBRA_icond_{icond}\"})\n",
    "    res = tsh_dynamics.generic_recipe(dyn_general, compute_model, model_params, elec_params, nucl_params, rnd)"
   ]
  },
  {
   "cell_type": "markdown",
   "id": "1d985574",
   "metadata": {},
   "source": [
    "## 7. Plot the results using `plot_dynamics` <a name=\"plot_res\"></a>\n",
    "[Back to TOC](#toc)\n",
    "\n",
    "In this cell, we use the function `tsh_dynamics_plot.plot_dynamics` to plot the dynamics for only one initial condition, `icond:0`. The user can change the range of states to be plotted by changing `which_adi_states`. The rest of the parameters are used for plotting and are descriptive."
   ]
  },
  {
   "cell_type": "code",
   "execution_count": null,
   "id": "c8b93437",
   "metadata": {
    "scrolled": false
   },
   "outputs": [],
   "source": [
    "pref = \"DISH_NBRA_icond_0\"\n",
    "\n",
    "nst = model_params[\"nstates\"]\n",
    "ntraj = dyn_general[\"ntraj\"]\n",
    "\n",
    "plot_params = { \"prefix\":pref, \"filename\":\"mem_data.hdf\", \"output_level\":2,\n",
    "                \"which_trajectories\":list(range(ntraj)), \"which_dofs\":[0], \"which_adi_states\":list(range(nst)), \n",
    "                \"which_dia_states\":list(range(nst)), \n",
    "                \"frameon\":True, \"linewidth\":3, \"dpi\":300,\n",
    "                \"axes_label_fontsize\":(8,8), \"legend_fontsize\":8, \"axes_fontsize\":(8,8), \"title_fontsize\":8,\n",
    "                \"what_to_plot\":[\"se_pop_adi\", \"sh_pop_adi\" ], \n",
    "                \"which_energies\":[\"potential\", \"kinetic\", \"total\"],\n",
    "                \"save_figures\":1, \"do_show\":1\n",
    "              }\n",
    "\n",
    "for method in ['FSSH', 'mSDM', 'IDA', 'DISH']:\n",
    "    print(F'Plotting results for method {method}')\n",
    "    pref = F\"{method}_NBRA_icond_0\"\n",
    "    plot_params.update({\"prefix\": pref})\n",
    "    tsh_dynamics_plot.plot_dynamics(plot_params)"
   ]
  }
 ],
 "metadata": {
  "kernelspec": {
   "display_name": "Python 3 (ipykernel)",
   "language": "python",
   "name": "python3"
  },
  "language_info": {
   "codemirror_mode": {
    "name": "ipython",
    "version": 3
   },
   "file_extension": ".py",
   "mimetype": "text/x-python",
   "name": "python",
   "nbconvert_exporter": "python",
   "pygments_lexer": "ipython3",
   "version": "3.7.12"
  }
 },
 "nbformat": 4,
 "nbformat_minor": 5
}
