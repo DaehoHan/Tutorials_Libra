{
 "cells": [
  {
   "cell_type": "markdown",
   "metadata": {},
   "source": [
    "![image info](./thumb0.PNG)"
   ]
  },
  {
   "cell_type": "markdown",
   "metadata": {},
   "source": [
    "## Part I - Getting Started\n",
    "\n",
    "In this tutorial, we will read in the dynamical data from both steps 2 and 3. This means reading the data in the Kohn-Sham orbital basis and the Slater determinant basis, respectively.\n",
    "\n",
    "For those wishing to start from this step, please unpack the tarball provided in this folder. The names of these tarballs are \"ks_step2_data_compressed\" and \"sd_step3_data_compressed\". If not done already, please unpack the tarball. From the command line, this can be done as:\n",
    "\n",
    "tar -xf res_ks_step2_compressed  \n",
    "tar -xf res_sd_step3_compressed\n",
    "\n",
    "This tutorial will show users how to read in this data and to prepare it for Neglect-of-Back-Reaction Approximation NonAdiabatic Molecular Dynamics (NBRA NAMD) calculations. We will be computing the decoherence times for our data.\n",
    "\n",
    "## Table of contents\n",
    "<a name=\"toc\"></a>\n",
    "\n",
    "1. [Importing Libra and other dependencies](#import)  \n",
    "2. [Kohn-Sham orbital basis](#kohn_sham)  \n",
    "   2.1.[Read in the Kohn-Sham data](#data_ks)   \n",
    "   &nbsp;&nbsp;&nbsp;&nbsp; 2.1.1. [Sanity check](#sanity_ks)  \n",
    "   &nbsp;&nbsp;&nbsp;&nbsp; 2.1.2. [Using an active space](#active_sp_ks)        \n",
    "   2.2. [Compute decoherence time in Kohn-Sham basis](#decoherence_ks)    \n",
    "   &nbsp;&nbsp;&nbsp;&nbsp; 2.2.1. [Setting initial times](#initial_time_ks)  \n",
    "   2.3. [Plot decoherence time in Kohn-Sham basis](#plot_deco_ks)\n",
    "3. [Slater determinant basis](#slater)    \n",
    "   3.1.[Read in the Slater determinant data](#data_sd)       \n",
    "   &nbsp;&nbsp;&nbsp;&nbsp; 3.1.1. [Sanity check](#sanity_sd)    \n",
    "   3.2. [Compute decoherence time in Slater determinant basis](#decoherence_sd)  \n",
    "   3.3. [Plot decoherence time in Slater determinant basis](#plot_deco_sd)     \n",
    "   \n",
    "### A. Learning objectives\n",
    "* Learn how to initialize a NBRA NAMD calculation after acquiring the necessary data\n",
    "* Compute decoherence times between the states of the quantum system\n",
    "\n",
    "\n",
    "### B. Use cases\n",
    "* [Reading Hamiltonian data files](#data_ks)\n",
    "* [Computing average_decoherence times](#decoherence_times_ave)\n",
    "* [Computing average_energy_gaps](#energy_gaps_ave)\n",
    "\n",
    "### C. Functions\n",
    "\n",
    "- `libra_py`\n",
    "  - `workflows`\n",
    "    -  `nbra`\n",
    "      - `step4`\n",
    "        - [`get_Hvib2`](#data_ks)\n",
    "      - `decoherence_times`\n",
    "        - [`decoherence_times_ave`](#decoherence_times_ave)\n",
    "        - [`energy_gaps_ave`](#energy_gaps_ave)\n",
    "\n"
   ]
  },
  {
   "cell_type": "markdown",
   "metadata": {},
   "source": [
    "Before we begin the tutorial, let us unpack the tarballs by running the following cell"
   ]
  },
  {
   "cell_type": "code",
   "execution_count": 31,
   "metadata": {},
   "outputs": [],
   "source": [
    "!tar -xf res_ks_step2_compressed\n",
    "!tar -xf res_sd_step3_compressed"
   ]
  },
  {
   "cell_type": "markdown",
   "metadata": {},
   "source": [
    "## 1. Importing Libra and other dependencies <a name=\"import\"></a>\n",
    "[Return to Table of contents](#toc)\n",
    "\n",
    "In the cell below, we import Libra and other dependencies such as numpy and matplotlib"
   ]
  },
  {
   "cell_type": "code",
   "execution_count": 32,
   "metadata": {},
   "outputs": [],
   "source": [
    "#***********************************************************\n",
    "# * Copyright (C) 2020 Brendan A. Smith, Wei Li, Alexey V. Akimov\n",
    "# * This file is distributed under the terms of the\n",
    "# * GNU General Public License as published by the\n",
    "# * Free Software Foundation; either version 3 of the\n",
    "# * License, or (at your option) any later version.\n",
    "# * http://www.gnu.org/copyleft/gpl.txt\n",
    "#***********************************************************/\n",
    "import os\n",
    "import sys\n",
    "import time\n",
    "import math\n",
    "\n",
    "# Fisrt, we add the location of the library to test to the PYTHON path\n",
    "if sys.platform==\"cygwin\":\n",
    "    from cyglibra_core import *\n",
    "elif sys.platform==\"linux\" or sys.platform==\"linux2\":\n",
    "    from liblibra_core import *\n",
    "from libra_py import units as units\n",
    "from libra_py import influence_spectrum as infsp\n",
    "import libra_py.workflows.nbra.step4 as step4\n",
    "import libra_py.workflows.nbra.decoherence_times as decoherence_times\n",
    "import libra_py.workflows.nbra.lz as lz\n",
    "import libra_py.workflows.nbra.qsh as qsh\n",
    "import numpy as np\n",
    "import matplotlib.pyplot as plt\n",
    "\n",
    "colors = {}\n",
    "colors.update({\"1\": '#000000'})  # Black \n",
    "colors.update({\"2\": '#000099'})  # Blue  \n",
    "colors.update({\"3\": '#006400'})  # Green \n",
    "colors.update({\"4\": '#990000'})  # Red   \n",
    "colors.update({\"5\": '#8B008B'})  # Purple\n",
    "colors.update({\"6\": '#FF8C00'})  # Orange\n",
    "colors.update({\"9\": '#4d4d4d'})  # Gray  \n",
    "color_index = [\"1\",\"2\",\"3\",\"4\",\"5\",\"6\",\"9\"]\n"
   ]
  },
  {
   "cell_type": "markdown",
   "metadata": {},
   "source": [
    "## 2. Kohn-Sham orbital Basis<a name=\"kohn_sham\"></a>\n",
    "[Return to Table of contents](#toc)"
   ]
  },
  {
   "cell_type": "markdown",
   "metadata": {},
   "source": [
    "### 2.1.  Read in the Kohn-Sham data<a name=\"data_ks\"></a>\n",
    "[Return to Table of contents](#toc)\n",
    "\n",
    "Recall that the electronic wavefunctions in the Kohn-Sham orbital basis are computed along the precomputed nuclear trajectories are stored in the folder \"res_ks_step2\""
   ]
  },
  {
   "cell_type": "code",
   "execution_count": 33,
   "metadata": {},
   "outputs": [
    {
     "name": "stdout",
     "output_type": "stream",
     "text": [
      "\n",
      "Gathering data from MD \n",
      "Considering system Libra Tutorial: Single Rutile TiO2 Unit Cell - Kohn-Sham basis\n",
      "Length of hvib is:  100\n"
     ]
    }
   ],
   "source": [
    "print (\"\\nGathering data from MD \")\n",
    "print (\"Considering system\", \"Libra Tutorial: Single Rutile TiO2 Unit Cell - Kohn-Sham basis\")\n",
    "\n",
    "absolute_path = os.getcwd()\n",
    "params = {}\n",
    "params[\"data_set_paths\"] = []\n",
    "params[\"data_set_paths\"].append(absolute_path+\"/res_ks_step2/\")\n",
    "\n",
    "params[\"Hvib_re_prefix\"] = \"hvib_dia_\"; params[\"Hvib_re_suffix\"] = \"_re\"\n",
    "params[\"Hvib_im_prefix\"] = \"hvib_dia_\"; params[\"Hvib_im_suffix\"] = \"_im\"\n",
    "params[\"nfiles\"]         = 100\n",
    "params[\"init_times\"]     = [0]\n",
    "\n",
    "params[\"nstates\"]        = 22 # total number of electronic states\n",
    "params[\"active_space\"]   = list( range(params[\"nstates\"]) ) # indexing is from 0!\n",
    "\n",
    "# Include HOMO and up to the last electronic state\n",
    "hvib = step4.get_Hvib2(params)\n",
    "print (\"Length of hvib is: \", len(hvib[0]))"
   ]
  },
  {
   "cell_type": "markdown",
   "metadata": {},
   "source": [
    "#### 2.1.1 Sanity check <a name=\"sanity_ks\"></a>\n",
    "[Return to Table of contents](#toc)\n",
    "\n",
    "We need to print an element of hvib to see if we have anything meaningful. A lot of times, when i run this I somehow don't read the data correctly. When the data is read incorrectly, the hvib lists will contain matrices full of 0's. So, let's print some matrix elements of hvib[0] to see if we get non-zero values. If these values happen to turn up all zero, you should reconsider the paths to your hvib files and their names. There is also the possibility that the values you see here are non-zero, yet incorrect. This may happen if your pathing is correcting but you do not have the correct number for the parameter, nstates. Please double check these printed values with the values in the actual hvib files to see if they match."
   ]
  },
  {
   "cell_type": "code",
   "execution_count": 34,
   "metadata": {},
   "outputs": [
    {
     "name": "stdout",
     "output_type": "stream",
     "text": [
      "\n",
      " Test, for energies, Ha \n",
      "hvib[0][0].get(0,0) =  (0.32972698+0j)\n",
      "hvib[0][0].get(1,1) =  (0.28508843+0j)\n",
      "\n",
      " Test, for nacs, Ha \n",
      "hvib[0][0].get(0,1) =  5.7298174e-06j\n",
      "hvib[0][0].get(0,2) =  9.0869418e-06j\n"
     ]
    }
   ],
   "source": [
    "#Print the matrix elements: 0,0 1,1  0,1 0,2 . \n",
    "# The matrix elemnts are extracted with the .get() feature\n",
    "\n",
    "print ( \"\\n Test, for energies, Ha \")\n",
    "print ( \"hvib[0][0].get(0,0) = \",  hvib[0][0].get(1,1) )\n",
    "print ( \"hvib[0][0].get(1,1) = \",  hvib[0][0].get(0,0) )\n",
    "\n",
    "print ( \"\\n Test, for nacs, Ha \")\n",
    "print ( \"hvib[0][0].get(0,1) = \",  hvib[0][0].get(0,1) )\n",
    "print ( \"hvib[0][0].get(0,2) = \",  hvib[0][0].get(0,2) )\n"
   ]
  },
  {
   "cell_type": "markdown",
   "metadata": {},
   "source": [
    "#### 2.1.2 What if I don't want to include all 22 Kohn-Sham orbitals in my active space?? <a name=\"active_sp_ks\"></a>\n",
    "[Return to Table of contents](#toc)\n",
    "\n",
    "This is a common question. Luckily, Libra allows us to select a particular active space to consider in the dynamics. \n",
    "\n",
    "In the above example, we used all 11 alpha and 11 beta orbitals in the active space. But what if we wanted to only consider the alpha and beta orbitals for the conduction band maximum and valance band minimum?\n",
    "\n",
    "To do this, we first must remember what the index of the CBM and VBM are from 0. We start from 0 here because the computer indexes the first row and column matrix elements from 0. In this case, the index of the CBM in the alpha spin channel was index 5 and the CBM in the beta spin channel was 16. Please revisit the previous tutorials for building a Slater determinant basis for a refresher on this. The following schematic may also assist you."
   ]
  },
  {
   "cell_type": "markdown",
   "metadata": {},
   "source": [
    "![image info](./thumb1.PNG)"
   ]
  },
  {
   "cell_type": "markdown",
   "metadata": {},
   "source": [
    "### 2.2. Compute decoherence time in Kohn-Sham basis<a name=\"decoherence_ks\"></a>\n",
    "[Return to Table of contents](#toc)"
   ]
  },
  {
   "cell_type": "markdown",
   "metadata": {},
   "source": [
    "In Libra, the decoherence time is computed as the dephasing times as according to linear response formalism. What we compute is a matrix, $\\tau$, which contains the decoherence times between all considered quantum (electronic) states in our system.\n",
    "\n",
    "$$ \\large{\\tau} = \\sqrt{ \\frac{\\frac{12}{5} \\hbar^2 }{dE} } $$\n",
    "\n",
    "Where the matix elements of $dE$ are the expectation value of the energy gap fluctation between some states i and j.\n",
    "\n",
    "$$ \\large{ dE_{ij} = < \\delta E_{ij}^2(t)  > } $$\n",
    "\n",
    "and $ \\delta E_{ij}(t) $ is computed as \n",
    "\n",
    "$$ \\large{  \\delta E_{ij}(t) = E_{ij}(t) - < E_{ij} > } $$"
   ]
  },
  {
   "cell_type": "markdown",
   "metadata": {},
   "source": [
    "Before we compute the decoherence time for the quantum states in our system, we must first decide how much of the precomputed nuclear dynamics trajectory we want to keep. This step is useful because typically molecular dynamics data features a thermalization step in which the molecular dynamics data is unreliable for dynamics purposes."
   ]
  },
  {
   "cell_type": "markdown",
   "metadata": {},
   "source": [
    "When reading in our Hamiltonian data, we read 100 files, because we had taken 100 molecular dynamics steps. At this time, we can choose to take either the entirety of the 100 files or use only a subset of these for dynamics. this can be done with the following parameter keys:\n",
    "\n",
    "`params[\"init_times\"]` -  a list of integers denoting the initial times for the NBRA NAMD. The simulation will run from `params[\"init_times\"]`[i] to `params[\"init_times\"]`[i] + nsteps, for each `params[\"init_times\"]`\n",
    "\n",
    "`params[\"nsteps\"]` - an integer denoting the number of steps to take in the NBRA NAMD. This number cannot be bigger than the number set for parameter key, `params[\"nfiles\"]`. Please note, that for each value of `params[\"init_times\"]`, we will take nsteps steps.\n",
    "\n",
    "\n",
    "In total, here is the summary:\n",
    "\n",
    "1. We read our data along the precomputed nuclear dynamics trajectory. This will be of size `params[\"nfiles\"]`. In this case, we have 100 files\n",
    "\n",
    "2. We define the starting points of what will be the NBRA NAMD with the parameter, `params[\"init_times\"]`.\n",
    "\n",
    "3. At each initial time listed in `params[\"init_times\"]`, we compute `params[\"nsteps\"]` worth of NBRA NAMD. "
   ]
  },
  {
   "cell_type": "markdown",
   "metadata": {},
   "source": [
    "#### 2.2.1 Setting initial times <a name=\"initial_time_ks\"></a>\n",
    "[Return to Table of contents](#toc)\n",
    "\n",
    "Possibility 1"
   ]
  },
  {
   "cell_type": "code",
   "execution_count": 35,
   "metadata": {},
   "outputs": [],
   "source": [
    "params[\"init_times\"] = [49]\n",
    "params[\"nsteps\"] = 50"
   ]
  },
  {
   "cell_type": "markdown",
   "metadata": {},
   "source": [
    "Possibility 2, etc"
   ]
  },
  {
   "cell_type": "code",
   "execution_count": 36,
   "metadata": {},
   "outputs": [],
   "source": [
    "params[\"init_times\"] = [0]\n",
    "params[\"nsteps\"] = 100"
   ]
  },
  {
   "cell_type": "markdown",
   "metadata": {},
   "source": [
    "For now, we will use Possibility 2, as it contains the entire precomputed molecular dynamics trajectory. Let's go ahead and use this part of the trajectory. Now need to comment out possibility 1, as it has already been over written by possibility 2"
   ]
  },
  {
   "cell_type": "code",
   "execution_count": 37,
   "metadata": {},
   "outputs": [
    {
     "name": "stdout",
     "output_type": "stream",
     "text": [
      "Length of Hvib =  100 \n",
      "\n"
     ]
    }
   ],
   "source": [
    "Hvib =  [[]]\n",
    "for t in range(params[\"init_times\"][0], params[\"init_times\"][0]+params[\"nsteps\"]):\n",
    "    Hvib[0].append(hvib[0][t])\n",
    "print (\"Length of Hvib = \", len(Hvib[0]), \"\\n\")"
   ]
  },
  {
   "cell_type": "markdown",
   "metadata": {},
   "source": [
    "Now, compute the dephasing time along this part of the trajectory\n",
    "\n",
    "<a name=\"decoherence_times_ave\"></a>\n",
    "<a name=\"energy_gaps_ave\"></a>"
   ]
  },
  {
   "cell_type": "code",
   "execution_count": 38,
   "metadata": {},
   "outputs": [
    {
     "name": "stdout",
     "output_type": "stream",
     "text": [
      "Finished gather data for MD time 100 steps.\n"
     ]
    }
   ],
   "source": [
    "# Compute energy gaps and decoherence times over part of the trajectory we want\n",
    "tau, rates = decoherence_times.decoherence_times_ave(hvib, [params[\"init_times\"][0]], params[\"nsteps\"], 0)\n",
    "dE         = decoherence_times.energy_gaps_ave(      hvib, [params[\"init_times\"][0]], params[\"nsteps\"])\n",
    "avg_deco   = tau/units.fs2au\n",
    "print (\"Finished gather data for MD time\", params[\"nsteps\"], \"steps.\")"
   ]
  },
  {
   "cell_type": "code",
   "execution_count": 39,
   "metadata": {},
   "outputs": [
    {
     "name": "stdout",
     "output_type": "stream",
     "text": [
      "2.4032183808102934\n"
     ]
    }
   ],
   "source": [
    "print (tau.get(0,1)/units.fs2au)"
   ]
  },
  {
   "cell_type": "markdown",
   "metadata": {},
   "source": [
    "### 2.3. Plotting the decoherence times for Kohn-Sham basis<a name=\"plot_deco_ks\"></a>\n",
    "[Return to Table of contents](#toc)\n",
    "\n",
    "We are now going to plot the decoherence times. Below is a code snippet plot the decoherence times in matplotlib. Please notice how elements of Libra MATRIX data is extract using the feature \".get(i,j)\", where i and j are elements of the MATRIX we wish to extract."
   ]
  },
  {
   "cell_type": "code",
   "execution_count": 40,
   "metadata": {},
   "outputs": [
    {
     "data": {
      "image/png": "[encoded data removed]",
      "text/plain": [
       "<Figure size 1926x723 with 4 Axes>"
      ]
     },
     "metadata": {},
     "output_type": "display_data"
    }
   ],
   "source": [
    "tau_alpha_for_plotting = []\n",
    "for i in range(0, int(tau.num_of_rows/2)):\n",
    "    tau_alpha_for_plotting.append( [] )\n",
    "    for j in range(0, int(tau.num_of_cols/2)):\n",
    "        if i == j:\n",
    "            tau_alpha_for_plotting[i].append(0.0)\n",
    "        else:\n",
    "            tau_alpha_for_plotting[i].append( tau.get(i,j)/units.fs2au )\n",
    "tau_alpha_for_plotting = np.array(tau_alpha_for_plotting)\n",
    "\n",
    "tau_beta_for_plotting = []\n",
    "count = 0\n",
    "for i in range(int(tau.num_of_rows/2), tau.num_of_rows):\n",
    "    tau_beta_for_plotting.append( [] )\n",
    "    for j in range(int(tau.num_of_rows/2), tau.num_of_rows):\n",
    "        if i == j:\n",
    "            tau_beta_for_plotting[count].append(0.0)\n",
    "        else:\n",
    "            tau_beta_for_plotting[count].append( tau.get(i,j)/units.fs2au )\n",
    "    count += 1\n",
    "tau_beta_for_plotting = np.array(tau_beta_for_plotting)\n",
    "\n",
    "\n",
    "plt.figure(num=None, figsize=(6.42, 2.41), dpi=300, edgecolor='black', frameon=True)\n",
    "plt.subplot(1,2,1)\n",
    "plt.title('Kohn-Sham Alpha Spin - Decoherence Times', fontsize=8)\n",
    "plt.xticks(fontsize=8)\n",
    "plt.yticks(fontsize=8)\n",
    "#plt.xlim(0,21)\n",
    "#plt.ylim(0,21)\n",
    "#plt.xticks([0,1,2,3,4,5,6,7,8,9])\n",
    "#plt.yticks([0,1,2,3,4,5,6,7,8,9])\n",
    "plt.imshow(tau_alpha_for_plotting, cmap='hot', interpolation='nearest')\n",
    "cb = plt.colorbar(label=\"fs\")\n",
    "cb.ax.tick_params(labelsize=8)\n",
    "\n",
    "plt.subplot(1,2,2)\n",
    "plt.title('Kohn Sham Beta Spin - Decoherence Times', fontsize=8)\n",
    "plt.xticks(fontsize=8)\n",
    "plt.yticks(fontsize=8)\n",
    "#plt.xlim(0,21)\n",
    "#plt.ylim(0,21)\n",
    "#plt.xticks([0,1,2,3,4,5,6,7,8,9])\n",
    "#plt.yticks([0,1,2,3,4,5,6,7,8,9])\n",
    "plt.imshow(tau_beta_for_plotting, cmap='hot', interpolation='nearest')\n",
    "cb = plt.colorbar(label=\"fs\")\n",
    "cb.ax.tick_params(labelsize=8)\n",
    "\n",
    "plt.tight_layout()\n",
    "plt.show()"
   ]
  },
  {
   "cell_type": "markdown",
   "metadata": {},
   "source": [
    "Since the spin-polarization in our system is negligible, there is no observable difference between the decoherence times for the Kohn-sham orbitals in the alpha and beta spin channels. The small dephasing times are likely due to the very rough estimation to the molecular dynamics in our tutorials example."
   ]
  },
  {
   "cell_type": "markdown",
   "metadata": {},
   "source": [
    "## 3. Slater determinant basis<a name=\"slater\"></a>\n",
    "[Return to Table of contents](#toc)\n",
    "\n",
    "Up until now, we have been using the Kohn-Sham basis we generated in the step2 calculations with Quantum Espresso. Recall that we also had taken these Kohn-Sham orbitals and formed a slater determinant basis, in which the Slater determinant energies were approximated as the sums of the 1-electron energies of the underlying Kohn-sham orbitals. Also please recall that we named the files storing the Hamiltonian in the Slater determinant basis, Hvib_sorted_#_(re/im). Therefore, we need to change the path, `params[\"data_set_paths\"]`, to the correct data. \n",
    "\n",
    "Furthermore, we had used Libra to auto-generate our Slater determinant basis. Specifically, Libra generated 17 Slater determinants. Therefore, we need to change the number of states, `params[\"nstates\"]`, we extract from the Hamiltonian files. "
   ]
  },
  {
   "cell_type": "markdown",
   "metadata": {},
   "source": [
    "### 3.1.  Read in the Slater determinant data<a name=\"data_sd\"></a>\n",
    "\n",
    "Recall that the electronic wavefunctions in the Slater determinant orbital basis are computed along the precomputed nuclear trajectories are stored in the folder \"res_sd_step3\"\n",
    "\n",
    "[Return to Table of contents](#toc)"
   ]
  },
  {
   "cell_type": "code",
   "execution_count": 41,
   "metadata": {},
   "outputs": [
    {
     "name": "stdout",
     "output_type": "stream",
     "text": [
      "\n",
      "Gathering data from MD \n",
      "Considering system Libra Tutorial: Single Rutile TiO2 Unit Cell - Slater determinant basis\n",
      "Length of hvib is:  100\n"
     ]
    }
   ],
   "source": [
    "print (\"\\nGathering data from MD \")\n",
    "print (\"Considering system\", \"Libra Tutorial: Single Rutile TiO2 Unit Cell - Slater determinant basis\")\n",
    "\n",
    "absolute_path = os.getcwd()\n",
    "params = {}\n",
    "params[\"data_set_paths\"] = []\n",
    "params[\"data_set_paths\"].append(absolute_path+\"/res_sd_step3/\")\n",
    "\n",
    "params[\"Hvib_re_prefix\"] = \"Hvib_sorted_\"; params[\"Hvib_re_suffix\"] = \"_re\"\n",
    "params[\"Hvib_im_prefix\"] = \"Hvib_sorted_\"; params[\"Hvib_im_suffix\"] = \"_im\"\n",
    "params[\"nfiles\"]         = 100\n",
    "params[\"init_times\"]     = [0]\n",
    "\n",
    "params[\"nstates\"]        = 17 # total number of electronic states\n",
    "params[\"active_space\"]   = list( range(params[\"nstates\"]) ) # indexing is from 0!\n",
    "\n",
    "# Include HOMO and up to the last electronic state\n",
    "hvib_sd = step4.get_Hvib2(params)\n",
    "print (\"Length of hvib is: \", len(hvib[0]))"
   ]
  },
  {
   "cell_type": "markdown",
   "metadata": {},
   "source": [
    "#### 3.1.1 Sanity check<a name=\"sanity_sd\"></a>\n",
    "[Return to Table of contents](#toc)\n",
    "\n",
    "Let's now do our sanity check for the Slater determinant data"
   ]
  },
  {
   "cell_type": "code",
   "execution_count": 42,
   "metadata": {},
   "outputs": [
    {
     "name": "stdout",
     "output_type": "stream",
     "text": [
      "\n",
      " Test, for energies, Ha \n",
      "hvib_sd[0][0].get(0,0) =  (2.7952217+0j)\n",
      "hvib_sd[0][0].get(1,1) =  (2.7573188+0j)\n",
      "\n",
      " Test, for nacs, Ha \n",
      "hvib_sd[0][0].get(0,1) =  0.00012208088j\n",
      "hvib_sd[0][0].get(0,2) =  -9.8259835e-05j\n"
     ]
    }
   ],
   "source": [
    "#Print the matrix elements: 0,0 1,1  0,1 0,2 . \n",
    "# The matrix elemnts are extracted with the .get() feature\n",
    "\n",
    "print ( \"\\n Test, for energies, Ha \")\n",
    "print ( \"hvib_sd[0][0].get(0,0) = \",  hvib_sd[0][0].get(1,1) )\n",
    "print ( \"hvib_sd[0][0].get(1,1) = \",  hvib_sd[0][0].get(0,0) )\n",
    "\n",
    "print ( \"\\n Test, for nacs, Ha \")\n",
    "print ( \"hvib_sd[0][0].get(0,1) = \",  hvib_sd[0][0].get(0,1) )\n",
    "print ( \"hvib_sd[0][0].get(0,2) = \",  hvib_sd[0][0].get(0,2) )\n"
   ]
  },
  {
   "cell_type": "markdown",
   "metadata": {},
   "source": [
    "We can also see them in the units of eV. Be aware that for the energies one should be concerned the energy gaps, and not nesscarily the energies themsevles. "
   ]
  },
  {
   "cell_type": "code",
   "execution_count": 43,
   "metadata": {},
   "outputs": [
    {
     "name": "stdout",
     "output_type": "stream",
     "text": [
      "\n",
      " Test, for energies, eV \n",
      "hvib_sd[0][0].get(0,0) =  (76.06077767869999+0j)\n",
      "hvib_sd[0][0].get(1,1) =  (75.0294018668+0j)\n",
      "\n",
      " Test, for nacs, eV \n",
      "hvib_sd[0][0].get(0,1) =  0.0033219428256799997j\n",
      "hvib_sd[0][0].get(0,2) =  -0.002673748370185j\n"
     ]
    }
   ],
   "source": [
    "#Print the matrix elements: 0,0 1,1  0,1 0,2 . \n",
    "# The matrix elemnts are extracted with the .get() feature\n",
    "\n",
    "print ( \"\\n Test, for energies, eV \")\n",
    "print ( \"hvib_sd[0][0].get(0,0) = \",  hvib_sd[0][0].get(1,1) / units.ev2Ha )\n",
    "print ( \"hvib_sd[0][0].get(1,1) = \",  hvib_sd[0][0].get(0,0) / units.ev2Ha )\n",
    "\n",
    "print ( \"\\n Test, for nacs, eV \")\n",
    "print ( \"hvib_sd[0][0].get(0,1) = \",  hvib_sd[0][0].get(0,1) / units.ev2Ha )\n",
    "print ( \"hvib_sd[0][0].get(0,2) = \",  hvib_sd[0][0].get(0,2) / units.ev2Ha )"
   ]
  },
  {
   "cell_type": "markdown",
   "metadata": {},
   "source": [
    "### 3.2 Compute decoherence time in Slater determinant basis<a name=\"decoherence_sd\"></a>\n",
    "[Return to Table of contents](#toc)\n",
    "\n",
    "Using the full molecular dynamics, let's compute the decoherence time as done above, but using the Slater determinant basis now."
   ]
  },
  {
   "cell_type": "code",
   "execution_count": 44,
   "metadata": {},
   "outputs": [
    {
     "name": "stdout",
     "output_type": "stream",
     "text": [
      "Length of Hvib =  100 \n",
      "\n",
      "Finished gather data for MD time 100 steps.\n",
      "2.4032183808102934\n"
     ]
    }
   ],
   "source": [
    "params[\"init_times\"] = [0]\n",
    "params[\"nsteps\"] = 100\n",
    "Hvib_sd =  [[]]\n",
    "for t in range(params[\"init_times\"][0], params[\"init_times\"][0]+params[\"nsteps\"]):\n",
    "    Hvib_sd[0].append(hvib[0][t])\n",
    "print (\"Length of Hvib = \", len(Hvib_sd[0]), \"\\n\")\n",
    "# Compute energy gaps and decoherence times over part of the trajectory we want\n",
    "tau_sd, rates_sd = decoherence_times.decoherence_times_ave(hvib, [params[\"init_times\"][0]], params[\"nsteps\"], 0)\n",
    "dE_sd         = decoherence_times.energy_gaps_ave(      hvib, [params[\"init_times\"][0]], params[\"nsteps\"])\n",
    "avg_deco_sd   = tau/units.fs2au\n",
    "print (\"Finished gather data for MD time\", params[\"nsteps\"], \"steps.\")\n",
    "print (tau_sd.get(0,1)/units.fs2au)"
   ]
  },
  {
   "cell_type": "markdown",
   "metadata": {},
   "source": [
    "### 3.3.1 Plotting the decoherence times for Slater determinant basis<a name=\"plot_deco_sd\"></a>\n",
    "[Return to Table of contents](#toc)\n",
    "\n",
    "We will use the same plotting script as above but adjusted for the new variable names."
   ]
  },
  {
   "cell_type": "code",
   "execution_count": 45,
   "metadata": {},
   "outputs": [
    {
     "data": {
      "image/png": "[encoded data removed]",
      "text/plain": [
       "<Figure size 1926x723 with 2 Axes>"
      ]
     },
     "metadata": {},
     "output_type": "display_data"
    }
   ],
   "source": [
    "tau_sd_for_plotting = []\n",
    "for i in range(int(tau_sd.num_of_rows)):\n",
    "    tau_sd_for_plotting.append( [] )\n",
    "    for j in range(int(tau_sd.num_of_cols)):\n",
    "        if i == j:\n",
    "            tau_sd_for_plotting[i].append(0.0)\n",
    "        else:\n",
    "            tau_sd_for_plotting[i].append( tau_sd.get(i,j)/units.fs2au )\n",
    "tau_sd_for_plotting = np.array(tau_sd_for_plotting)\n",
    "\n",
    "\n",
    "plt.figure(num=None, figsize=(6.42, 2.41), dpi=300, edgecolor='black', frameon=True)\n",
    "plt.subplot(1,1,1)\n",
    "plt.title('Slater determinants - Decoherence Times', fontsize=8)\n",
    "plt.xticks(fontsize=8)\n",
    "plt.yticks(fontsize=8)\n",
    "#plt.xlim(0,21)\n",
    "#plt.ylim(0,21)\n",
    "#plt.xticks([0,1,2,3,4,5,6,7,8,9])\n",
    "#plt.yticks([0,1,2,3,4,5,6,7,8,9])\n",
    "plt.imshow(tau_alpha_for_plotting, cmap='hot', interpolation='nearest')\n",
    "cb = plt.colorbar(label=\"fs\")\n",
    "cb.ax.tick_params(labelsize=8)\n",
    "\n",
    "plt.tight_layout()\n",
    "plt.show()"
   ]
  }
 ],
 "metadata": {
  "kernelspec": {
   "display_name": "Python 3",
   "language": "python",
   "name": "python3"
  },
  "language_info": {
   "codemirror_mode": {
    "name": "ipython",
    "version": 3
   },
   "file_extension": ".py",
   "mimetype": "text/x-python",
   "name": "python",
   "nbconvert_exporter": "python",
   "pygments_lexer": "ipython3",
   "version": "3.6.6"
  }
 },
 "nbformat": 4,
 "nbformat_minor": 2
}
