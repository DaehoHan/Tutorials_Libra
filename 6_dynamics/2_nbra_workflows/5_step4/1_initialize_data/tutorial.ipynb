{
 "cells": [
  {
   "cell_type": "markdown",
   "metadata": {},
   "source": [
    "![image info](./thumb0.PNG)"
   ]
  },
  {
   "cell_type": "markdown",
   "metadata": {},
   "source": [
    "## Table of contents<a name=\"toc\"></a>\n",
    "1. [Getting started](#intro)    \n",
    "\n",
    "2. [Importing Libra and other dependencies](#import)      \n",
    "\n",
    "3. [Kohn-Sham orbital basis](#kohn_sham)    \n",
    "\n",
    " 3.1.[Read in the Kohn-Sham data](#data_ks)    \n",
    " \n",
    "    *  3.1.1. [Sanity check](#sanity_ks)  \n",
    "    \n",
    "    *  3.1.2. [Using an active space](#active_sp_ks)  \n",
    "    \n",
    " 3.2. [Compute decoherence time in Kohn-Sham basis](#decoherence_ks)    \n",
    " \n",
    "    *  3.2.1. [Setting initial times](#initial_time_ks) | [Exercise1](#exercise1) \n",
    "    \n",
    " 3.3. [Plot decoherence time in Kohn-Sham basis](#plot_deco_ks) | [Exercise2](#exercise2)    \n",
    "\n",
    "4. [Slater determinant basis](#slater)    \n",
    "\n",
    " 4.1.[Read in the Slater determinant data](#data_sd)    \n",
    " \n",
    "    *  4.1.1. [Sanity check](#sanity_sd)\n",
    "    \n",
    " 4.2. [Compute decoherence time in Slater determinant basis](#decoherence_sd)    \n",
    " \n",
    " 4.3. [Plot decoherence time in Slater determinant basis](#plot_deco_sd)  | [Exercise3](#exercise3)  \n",
    "    \n",
    "5. [References](#references)  \n",
    "\n",
    "### A. Learning objectives\n",
    "\n",
    "* To be able to initialize a NBRA NAMD calculation after acquiring the necessary data\n",
    "* Compute decoherence times between the states of the quantum system\n",
    "\n",
    "### B. Use cases\n",
    "\n",
    "* To reading Hamiltonian data files\n",
    "* To computie average decoherence times\n",
    "* To computie average energy gaps\n",
    "* To plot maps of dephasing times for all pairs of states\n",
    "\n",
    "### C. Functions\n",
    "\n",
    "- `libra_py`\n",
    "  - `workflows`\n",
    "    -  `nbra`\n",
    "      - `step4`\n",
    "        - [`get_Hvib2`](#get_Hvib2-1)\n",
    "      - `decoherence_times`\n",
    "        - [`decoherence_times_ave`](#decoherence_times_ave-1) | [also here](#decoherence_times_ave-2)\n",
    "        - [`energy_gaps_ave`](#energy_gaps_ave-1) | [also here](#energy_gaps_ave-2)\n",
    "        \n",
    "  - `data_conv`\n",
    "    - [`MATRIX2nparray`](#MATRIX2nparray-1)\n",
    "\n",
    "  - `data_visualize`\n",
    "    - [`plot_map_nparray`](#plot_map_nparray-1)    "
   ]
  },
  {
   "cell_type": "markdown",
   "metadata": {},
   "source": [
    "## 1. Getting started<a name=\"intro\"></a>\n",
    "[Return to TOC](#toc)\n",
    "\n",
    "In this tutorial, we will read in the dynamical data from both steps 2 and 3. This means reading the data in the Kohn-Sham orbital basis and the Slater determinant basis, respectively.\n",
    "\n",
    "For those wishing to start from this step, please unpack the tarball provided in this folder. The names of these tarballs are \"ks_step2_data_compressed\" and \"sd_step3_data_compressed\". If not done already, please unpack the tarball. From the command line, this can be done as:\n",
    "\n",
    "tar -xf res_ks_step2_compressed  \n",
    "tar -xf res_sd_step3_compressed\n",
    "\n",
    "This tutorial will show users how to read in this data and to prepare it for Neglect-of-Back-Reaction Approximation NonAdiabatic Molecular Dynamics (NBRA NAMD) calculations. We will be computing the decoherence times for our data."
   ]
  },
  {
   "cell_type": "markdown",
   "metadata": {},
   "source": [
    "Before we begin the tutorial, let us unpack the tarballs by running the following cell"
   ]
  },
  {
   "cell_type": "code",
   "execution_count": 1,
   "metadata": {},
   "outputs": [],
   "source": [
    "!tar -xf res_ks_step2_compressed\n",
    "!tar -xf res_sd_step3_compressed"
   ]
  },
  {
   "cell_type": "markdown",
   "metadata": {},
   "source": [
    "## 2. Importing Libra and other dependencies <a name=\"import\"></a>\n",
    "[Return to TOC](#toc)\n",
    "\n",
    "In the cell below, we import Libra and other dependencies such as numpy and matplotlib"
   ]
  },
  {
   "cell_type": "code",
   "execution_count": 3,
   "metadata": {},
   "outputs": [],
   "source": [
    "import os\n",
    "import sys\n",
    "import time\n",
    "import math\n",
    "\n",
    "# Fisrt, we add the location of the library to test to the PYTHON path\n",
    "if sys.platform==\"cygwin\":\n",
    "    from cyglibra_core import *\n",
    "elif sys.platform==\"linux\" or sys.platform==\"linux2\":\n",
    "    from liblibra_core import *\n",
    "\n",
    "from libra_py import units\n",
    "from libra_py import influence_spectrum as infsp\n",
    "from libra_py import data_visualize\n",
    "from libra_py import data_conv\n",
    "import libra_py.workflows.nbra.step4 as step4\n",
    "import libra_py.workflows.nbra.decoherence_times as decoherence_times\n",
    "import libra_py.workflows.nbra.lz as lz\n",
    "import libra_py.workflows.nbra.qsh as qsh\n",
    "import numpy as np\n",
    "import matplotlib.pyplot as plt\n",
    "\n",
    "colors = {}\n",
    "colors.update({\"1\": '#000000'})  # Black \n",
    "colors.update({\"2\": '#000099'})  # Blue  \n",
    "colors.update({\"3\": '#006400'})  # Green \n",
    "colors.update({\"4\": '#990000'})  # Red   \n",
    "colors.update({\"5\": '#8B008B'})  # Purple\n",
    "colors.update({\"6\": '#FF8C00'})  # Orange\n",
    "colors.update({\"9\": '#4d4d4d'})  # Gray  \n",
    "color_index = [\"1\",\"2\",\"3\",\"4\",\"5\",\"6\",\"9\"]\n"
   ]
  },
  {
   "cell_type": "markdown",
   "metadata": {},
   "source": [
    "## 3. Kohn-Sham orbital basis<a name=\"kohn_sham\"></a>\n",
    "[Return to TOC](#toc)\n",
    "\n",
    "### 3.1.  Read in the Kohn-Sham data<a name=\"data_ks\"></a>\n",
    "[Return to TOC](#toc)\n",
    "\n",
    "Recall that the electronic wavefunctions in the Kohn-Sham orbital basis are computed along the precomputed nuclear trajectories are stored in the folder \"res_ks_step2\". We may potentially have multiple folders (e.g. for different trajectories or cases/parameterizations) To read in all the data, we use the `step4.get_Hvib2` funtion:\n",
    "<a name=\"get_Hvib2-1\"></a>"
   ]
  },
  {
   "cell_type": "code",
   "execution_count": 15,
   "metadata": {},
   "outputs": [
    {
     "name": "stdout",
     "output_type": "stream",
     "text": [
      "Help on function get_Hvib2 in module libra_py.workflows.nbra.step4:\n",
      "\n",
      "get_Hvib2(params)\n",
      "    Reads several sets of vibronic Hamiltonian files \n",
      "    \n",
      "    Args:\n",
      "        params ( dictionary ): parameters controlling the function execution [Required!]\n",
      "    \n",
      "            Required parameter keys:\n",
      "    \n",
      "            * **params[\"data_set_paths\"]** ( list of strings ):\n",
      "                define the paths of the directories where the vibronic Hamiltonian files for\n",
      "                different data sets (e.g. independent MD trajectories) are located. \n",
      "            .. note::\n",
      "                In addition, requires parameters described in\n",
      "                :func:`libra_py.workflows.nbra.step4.getHvib`\n",
      "    \n",
      "    Returns:\n",
      "        list of lists of CMATRIX: Hvib: \n",
      "            the time series of Hvib matrices for several data sets, such that\n",
      "            Hvib[idata][time] is a CMATRIX for the data set indexed by `idata`\n",
      "            at time `time`\n",
      "    \n",
      "    Example:\n",
      "        The full name of the vibronic Hamiltonian files read by this module should be:\n",
      "    \n",
      "        params[\"data_set_paths\"][idata]+params[\"Hvib_re_prefix\"]+integer(time step)+params[\"Hvib_re_suffix\"] - for real part\n",
      "    \n",
      "        params[\"data_set_paths\"][idata]+params[\"Hvib_im_prefix\"]+integer(time step)+params[\"Hvib_im_suffix\"] - for imaginary part\n",
      "    \n",
      "        Say, the directory \"/home/alexeyak/test/step3/res0\" contains files:\n",
      "        Hvib_0_re, Hvib_1_re, .... ,    Hvib_999_re\n",
      "        Hvib_0_im, Hvib_1_im, .... ,    Hvib_999_im\n",
      "    \n",
      "        Then set:\n",
      "    \n",
      "        >>> params[\"data_set_paths\"] = [\"/home/alexeyak/test/step3/res0/\"]\n",
      "        >>> params[\"Hvib_re_prefix\"] = \"Hvib_\"\n",
      "        >>> params[\"Hvib_re_suffix\"] = \"_re\"\n",
      "        >>> params[\"Hvib_im_prefix\"] = \"Hvib_\"\n",
      "        >>> params[\"Hvib_im_suffix\"] = \"_im\"\n",
      "\n"
     ]
    }
   ],
   "source": [
    "help(step4.get_Hvib2)"
   ]
  },
  {
   "cell_type": "code",
   "execution_count": 4,
   "metadata": {},
   "outputs": [
    {
     "name": "stdout",
     "output_type": "stream",
     "text": [
      "\n",
      "Gathering data from MD \n",
      "Considering system Libra Tutorial: Single Rutile TiO2 Unit Cell - Kohn-Sham basis\n",
      "Length of hvib is:  100\n"
     ]
    }
   ],
   "source": [
    "print (\"\\nGathering data from MD \")\n",
    "print (\"Considering system\", \"Libra Tutorial: Single Rutile TiO2 Unit Cell - Kohn-Sham basis\")\n",
    "\n",
    "absolute_path = os.getcwd()\n",
    "params = {}\n",
    "params[\"data_set_paths\"] = []\n",
    "params[\"data_set_paths\"].append(absolute_path+\"/res_ks_step2/\")\n",
    "\n",
    "params[\"Hvib_re_prefix\"] = \"hvib_dia_\"; params[\"Hvib_re_suffix\"] = \"_re\"\n",
    "params[\"Hvib_im_prefix\"] = \"hvib_dia_\"; params[\"Hvib_im_suffix\"] = \"_im\"\n",
    "params[\"nfiles\"]         = 100\n",
    "params[\"init_times\"]     = [0]\n",
    "\n",
    "params[\"nstates\"]        = 22 # total number of electronic states\n",
    "params[\"active_space\"]   = list( range(params[\"nstates\"]) ) # indexing is from 0!\n",
    "\n",
    "# Include HOMO and up to the last electronic state\n",
    "hvib = step4.get_Hvib2(params)\n",
    "print (\"Length of hvib is: \", len(hvib[0]))"
   ]
  },
  {
   "cell_type": "markdown",
   "metadata": {},
   "source": [
    "#### 3.1.1 Sanity check <a name=\"sanity_ks\"></a>\n",
    "[Return to TOC](#toc)\n",
    "\n",
    "We need to print an element of hvib to see if we have anything meaningful. A lot of times, when I run this, I somehow don't read the data correctly. When the data is read incorrectly, the hvib lists will contain matrices full of 0's. So, let's print some matrix elements of hvib[0] to see if we get non-zero values. If these values happen to turn up all zero, you should reconsider the paths to your hvib files and their names. \n",
    "\n",
    "There is also the possibility that the values you see here are non-zero, yet incorrect. This may happen if your pathing is correcting but you do not have the correct number for the parameter, nstates. Please double check these printed values with the values in the actual hvib files to see if they match."
   ]
  },
  {
   "cell_type": "code",
   "execution_count": 5,
   "metadata": {},
   "outputs": [
    {
     "name": "stdout",
     "output_type": "stream",
     "text": [
      "\n",
      " Test, for energies, Ha \n",
      "hvib[0][0].get(0,0) =  (0.32972698+0j)\n",
      "hvib[0][0].get(1,1) =  (0.28508843+0j)\n",
      "\n",
      " Test, for nacs, Ha \n",
      "hvib[0][0].get(0,1) =  5.7298174e-06j\n",
      "hvib[0][0].get(0,2) =  9.0869418e-06j\n"
     ]
    }
   ],
   "source": [
    "#Print the matrix elements: 0,0 1,1  0,1 0,2 . \n",
    "# The matrix elemnts are extracted with the .get() function\n",
    "\n",
    "print ( \"\\n Test, for energies, Ha \")\n",
    "print ( \"hvib[0][0].get(0,0) = \",  hvib[0][0].get(1,1) )\n",
    "print ( \"hvib[0][0].get(1,1) = \",  hvib[0][0].get(0,0) )\n",
    "\n",
    "print ( \"\\n Test, for nacs, Ha \")\n",
    "print ( \"hvib[0][0].get(0,1) = \",  hvib[0][0].get(0,1) )\n",
    "print ( \"hvib[0][0].get(0,2) = \",  hvib[0][0].get(0,2) )\n"
   ]
  },
  {
   "cell_type": "markdown",
   "metadata": {},
   "source": [
    "#### 3.1.2 What if I don't want to include all 22 Kohn-Sham orbitals in my active space?? <a name=\"active_sp_ks\"></a>\n",
    "[Return to TOC](#toc)\n",
    "\n",
    "This is a common question. Luckily, Libra allows us to select a particular active space to consider in the dynamics. \n",
    "\n",
    "In the above example, we used all 11 alpha and 11 beta orbitals in the active space. But what if we wanted to only consider the alpha and beta orbitals for a subset of orbitals, say the conduction band minimum and valence band maximum?\n",
    "\n",
    "To do this, we first must remember what the index of the CBM and VBM are from 0. We start from 0 here because the computer indexes the first row and column matrix elements from 0. In this case, the index of the CBM in the alpha spin channel was index 5 and the CBM in the beta spin channel was 16. Please revisit the previous tutorials for building a Slater determinant basis for a refresher on this. The following schematic may also assist you."
   ]
  },
  {
   "cell_type": "markdown",
   "metadata": {},
   "source": [
    "![image info](./thumb1.PNG)"
   ]
  },
  {
   "cell_type": "markdown",
   "metadata": {},
   "source": [
    "### 3.2. Compute decoherence time in Kohn-Sham basis<a name=\"decoherence_ks\"></a>\n",
    "[Return to TOC](#toc)"
   ]
  },
  {
   "cell_type": "markdown",
   "metadata": {},
   "source": [
    "In Libra, the decoherence time is computed as the dephasing times as according to linear response formalism.$^1$ What we compute is a matrix, $\\tau$, which contains the decoherence times between all considered quantum (electronic) states in our system.\n",
    "\n",
    "$$ \\large{\\tau} = \\sqrt{ \\frac{\\frac{12}{5} \\hbar^2 }{dE} } $$\n",
    "\n",
    "Where the matix elements of $dE$ are the expectation value of the energy gap fluctation between some states i and j.\n",
    "\n",
    "$$ \\large{ dE_{ij} = < \\delta E_{ij}^2(t)  > } $$\n",
    "\n",
    "and $ \\delta E_{ij}(t) $ is computed as \n",
    "\n",
    "$$ \\large{  \\delta E_{ij}(t) = E_{ij}(t) - < E_{ij} > } $$\n",
    "\n",
    "\n",
    "Before we compute the decoherence time for the quantum states in our system, we must first decide how much of the precomputed nuclear dynamics trajectory we want to keep. This step is useful because typically molecular dynamics data features a thermalization step in which the molecular dynamics data is unreliable for dynamics purposes.\n",
    "<a name=\"energy_gaps_ave-1\"></a>\n",
    "To compute the ensembe-averaged gaps, we use `decoherence_times.energy_gaps_ave` function"
   ]
  },
  {
   "cell_type": "code",
   "execution_count": 16,
   "metadata": {},
   "outputs": [
    {
     "name": "stdout",
     "output_type": "stream",
     "text": [
      "Help on function energy_gaps_ave in module libra_py.workflows.nbra.decoherence_times:\n",
      "\n",
      "energy_gaps_ave(Hvib, itimes, nsteps)\n",
      "    Pre-compute the energy gaps along the trajectory \n",
      "    \n",
      "    Args:\n",
      "        Hvib ( list of lists of CMATRIX objects ):\n",
      "            Vibronic Hamiltonians along the trajectory for different data sets (adiabatic MDs),\n",
      "            and potential different sections of the time-range\n",
      "            where Hvib[idata][istep] is a CMATRIX object that represents a vibronic Hamiltonian\n",
      "            from the data set ```idata``` at the time step ```istep```. \n",
      "    \n",
      "        itimes ( list if ints ): initial times for averaging. The number ```itimes[idata]``` tells \n",
      "            which datapoint (timestep) of the time-series Hvib[idata] consider the beginning of \n",
      "            the range that will be used to compute gap fluctuations\n",
      "    \n",
      "        nsteps ( int ): the length of the time-steps to consider in the calculations for each data set\n",
      "    \n",
      "    Returns:\n",
      "        ( list of MATRIX(nstates, nstates) ): dE, where:\n",
      "            dE[t].get(i,j) is the absolute value of energy gap between states i and j at time t, but also averaged \n",
      "            over several data sets:      < |E_i(t) - E_j(t)| >\n",
      "\n"
     ]
    }
   ],
   "source": [
    "help(decoherence_times.energy_gaps_ave)"
   ]
  },
  {
   "cell_type": "markdown",
   "metadata": {},
   "source": [
    "<a name=\"decoherence_times_ave-1\"></a>\n",
    "Likewise, to compute the dephasing times, using the information on energy gap fluctuations, we use the function `decoherence_times.decoherence_times_ave`"
   ]
  },
  {
   "cell_type": "code",
   "execution_count": 17,
   "metadata": {},
   "outputs": [
    {
     "name": "stdout",
     "output_type": "stream",
     "text": [
      "Help on function decoherence_times_ave in module libra_py.workflows.nbra.decoherence_times:\n",
      "\n",
      "decoherence_times_ave(Hvib, itimes, nsteps, verbosity=0)\n",
      "    Compute the matrix of decoherence times from the time-series data \n",
      "    that consists of vereral data sets\n",
      "    \n",
      "    Ref: Akimov, A. V; Prezhdo O. V. J. Phys. Chem. Lett. 2013, 4, 3857  \n",
      "    \n",
      "    \n",
      "    Args:\n",
      "        Hvib ( list of lists of CMATRIX objects ):\n",
      "            Vibronic Hamiltonians along the trajectory for different data sets (adiabatic MDs),\n",
      "            and potential different sections of the time-range\n",
      "            where Hvib[idata][istep] is a CMATRIX object that represents a vibronic Hamiltonian\n",
      "            from the data set ```idata``` at the time step ```istep```. \n",
      "    \n",
      "        itimes ( list if ints ): initial times for averaging. The number ```itimes[idata]``` tells \n",
      "            which datapoint (timestep) of the time-series Hvib[idata] consider the beginning of \n",
      "            the range that will be used to compute gap fluctuations\n",
      "    \n",
      "        nsteps ( int ): the length of the time-steps to consider in the calculations for each data set\n",
      "    \n",
      "    Returns:\n",
      "        tuple:  ( decoh_times, decoh_rates ), where\n",
      "    \n",
      "            * decoh_times ( MATRIX(N,N) ): the matrix of decoherence times, diagonal elements are\n",
      "                set to very large number which corresponds to no decoherence of a state with itself.\n",
      "                This value is computed based on gaps averaged over several data sets. [ units: a.u. ]\n",
      "    \n",
      "            * decoh_rates ( MATRIX(N,N) ): the matrix of decoherence rates, diagonal elements are\n",
      "                set to zero which corresponds to no decoherence of a state with itself, the off-diagonal\n",
      "                elements are equal to inverse of the off-diagonal matrix elements of ```decoh_times```.\n",
      "                This value is computed based on gaps averaged over several data sets. [ units: a.u.^-1 ]\n",
      "\n"
     ]
    }
   ],
   "source": [
    "help(decoherence_times.decoherence_times_ave)"
   ]
  },
  {
   "cell_type": "markdown",
   "metadata": {},
   "source": [
    "When reading in our Hamiltonian data, we read 100 files, because we had taken 100 molecular dynamics steps. At this time, we can choose to take either the entirety of the 100 files or use only a subset of these for dynamics. this can be done with the following parameter keys:\n",
    "\n",
    "`params[\"init_times\"]` -  a list of integers denoting the initial times for the NBRA NAMD. The simulation will run from `params[\"init_times\"]`[i] to `params[\"init_times\"]`[i] + nsteps, for each `params[\"init_times\"]`\n",
    "\n",
    "`params[\"nsteps\"]` - an integer denoting the number of steps to take in the NBRA NAMD. This number cannot be bigger than the number set for parameter key, `params[\"nfiles\"]`. Please note, that for each value of `params[\"init_times\"]`, we will take nsteps steps.\n",
    "\n",
    "\n",
    "In total, here is the summary:\n",
    "\n",
    "   * 1. We read our data along the precomputed nuclear dynamics trajectory. This will be of size `params[\"nfiles\"]`. In this case, we have 100 files\n",
    " \n",
    "   * 2. We define the starting points of what will be the NBRA NAMD with the parameter, `params[\"init_times\"]`.\n",
    "\n",
    "   * 3. At each initial time listed in `params[\"init_times\"]`, we compute `params[\"nsteps\"]` worth of NBRA NAMD. "
   ]
  },
  {
   "cell_type": "markdown",
   "metadata": {},
   "source": [
    "#### 3.2.1 Setting initial times <a name=\"initial_time_ks\"></a>\n",
    "[Return to TOC](#toc)\n",
    "\n",
    "Possibility 1"
   ]
  },
  {
   "cell_type": "code",
   "execution_count": 6,
   "metadata": {},
   "outputs": [],
   "source": [
    "params[\"init_times\"] = [49]\n",
    "params[\"nsteps\"] = 50"
   ]
  },
  {
   "cell_type": "markdown",
   "metadata": {},
   "source": [
    "Possibility 2, etc"
   ]
  },
  {
   "cell_type": "code",
   "execution_count": 45,
   "metadata": {},
   "outputs": [],
   "source": [
    "#params[\"init_times\"] = [0]\n",
    "#params[\"nsteps\"] = 99"
   ]
  },
  {
   "cell_type": "markdown",
   "metadata": {},
   "source": [
    "For now, we will use Possibility 1. Let's go ahead and use this part of the trajectory. \n",
    "\n",
    "Comment the Possibility 1 and uncommend Possibility 2 to give it a try\n",
    "<a name=\"energy_gaps_ave-2\"></a><a name=\"decoherence_times_ave-2\"></a>"
   ]
  },
  {
   "cell_type": "code",
   "execution_count": 7,
   "metadata": {},
   "outputs": [
    {
     "name": "stdout",
     "output_type": "stream",
     "text": [
      "Finished gather data for MD time 50 steps.\n",
      "Dephasing time between Kohn-Sham orbitals 0 and 1 is: 10.551461648521352 fs\n"
     ]
    }
   ],
   "source": [
    "# Compute energy gaps and decoherence times over part of the trajectory we want. Using the init_times parameter\n",
    "tau, rates = decoherence_times.decoherence_times_ave(hvib, [params[\"init_times\"][0]], params[\"nsteps\"], 0)\n",
    "dE         = decoherence_times.energy_gaps_ave(      hvib, [params[\"init_times\"][0]], params[\"nsteps\"])\n",
    "avg_deco   = tau * units.au2fs\n",
    "print (\"Finished gather data for MD time\", params[\"nsteps\"], \"steps.\")\n",
    "print (\"Dephasing time between Kohn-Sham orbitals 0 and 1 is:\", tau.get(0,1) * units.au2fs, \"fs\")"
   ]
  },
  {
   "cell_type": "markdown",
   "metadata": {},
   "source": [
    "### Exercise 1<a name=\"exercise1\"></a>\n",
    "[Return to TOC](#toc)\n",
    "\n",
    "It has been established that we have 100 data files and each data file corresponds to a 1.0 fs integration time step. What should the parameters `params[\"init_times\"]` and `params[\"nsteps\"]` be set to if one wanted to compute the dephasing times for the section of the trajectory spanning t = 25 fs to t = 75 fs?. Recall the index 0 corresponds to t = 0 fs.\n",
    "\n",
    "params[\"init_times\"] = [?]\n",
    "\n",
    "params[\"nsteps\"] = [?]\n"
   ]
  },
  {
   "cell_type": "markdown",
   "metadata": {},
   "source": [
    "### 3.3. Plotting the decoherence times for Kohn-Sham basis<a name=\"plot_deco_ks\"></a>\n",
    "[Return to TOC](#toc)\n",
    "<a name=\"plot_map_nparray-1\"></a><a name=\"MATRIX2nparray-1\"></a>\n",
    "\n",
    "We are now going to plot the decoherence times. Below is a code snippet plot the decoherence times in matplotlib. Please notice how elements of Libra MATRIX data is extract using the feature \".get(i,j)\", where i and j are elements of the MATRIX we wish to extract. The trajectory averaged dephasing times between the Kohn-Sham orbitals is visualized using Libra's data_visualize module. Here, we use the function plot_map_nparray(..) "
   ]
  },
  {
   "cell_type": "code",
   "execution_count": 8,
   "metadata": {},
   "outputs": [
    {
     "data": {
      "image/png": "[encoded data removed]",
      "text/plain": [
       "<Figure size 1926x642 with 2 Axes>"
      ]
     },
     "metadata": {
      "needs_background": "light"
     },
     "output_type": "display_data"
    }
   ],
   "source": [
    "tau_kohn_sham = data_conv.MATRIX2nparray( tau ) * units.au2fs\n",
    "for i in range( len(tau_kohn_sham) ):\n",
    "    tau_kohn_sham[i][i] = 0.0\n",
    "title_kohn_sham = \"Kohn-Sham orbitals - dephasing times\"\n",
    "data = [tau_kohn_sham]\n",
    "subplot_titles = [title_kohn_sham ]\n",
    "data_visualize.plot_map_nparray( plt, data, fig_width=6.42, fig_height=2.14, titles=subplot_titles, \\\n",
    "                                 title_size=8, num_subplots=1, colormap='hot', \\\n",
    "                                 interpolation_scheme='nearest', colorbar_label='fs' )"
   ]
  },
  {
   "cell_type": "markdown",
   "metadata": {},
   "source": [
    "Since the spin-polarization in our system is negligible, there is no observable difference between the decoherence times for the Kohn-sham orbitals in the alpha and beta spin channels. The small dephasing times are likely due to the very rough estimation to the molecular dynamics in our tutorials example."
   ]
  },
  {
   "cell_type": "markdown",
   "metadata": {},
   "source": [
    "### Exercise 2<a name=\"exercise2\"></a>\n",
    "[Return to TOC](#toc)\n",
    "\n",
    "We manually set the dephasing times between quantum states of the same index (diagonal elements of tau) to be zero. We did this because the computed dephasing times for these states is infinity, and having extremely large values would look bad when plotting. Anyways, why do the diagonal elements of tau compute to be infinity?\n",
    "\n",
    "HINT: Recall the mathematical formulas above "
   ]
  },
  {
   "cell_type": "markdown",
   "metadata": {},
   "source": [
    "## 4. Slater determinant basis<a name=\"slater\"></a>\n",
    "[Return to TOC](#toc)\n",
    "\n",
    "Up until now, we have been using the Kohn-Sham basis we generated in the step2 calculations with Quantum Espresso. Recall that we also had taken these Kohn-Sham orbitals and formed a slater determinant basis, in which the Slater determinant energies were approximated as the sums of the 1-electron energies of the underlying Kohn-sham orbitals. Also please recall that we named the files storing the Hamiltonian in the Slater determinant basis, Hvib_sorted_#_(re/im). Therefore, we need to change the path, `params[\"data_set_paths\"]`, to the correct data. \n",
    "\n",
    "Furthermore, we had used Libra to auto-generate our Slater determinant basis. Specifically, Libra generated 17 Slater determinants. Therefore, we need to change the number of states, `params[\"nstates\"]`, we extract from the Hamiltonian files. "
   ]
  },
  {
   "cell_type": "markdown",
   "metadata": {},
   "source": [
    "### 4.1.  Read in the Slater determinant data<a name=\"data_sd\"></a>\n",
    "\n",
    "Recall that the electronic wavefunctions in the Slater determinant orbital basis are computed along the precomputed nuclear trajectories are stored in the folder \"res_sd_step3\"\n",
    "\n",
    "[Return to TOC](#toc)"
   ]
  },
  {
   "cell_type": "code",
   "execution_count": 9,
   "metadata": {},
   "outputs": [
    {
     "name": "stdout",
     "output_type": "stream",
     "text": [
      "\n",
      "Gathering data from MD \n",
      "Considering system Libra Tutorial: Single Rutile TiO2 Unit Cell - Slater determinant basis\n",
      "Length of hvib is:  100\n"
     ]
    }
   ],
   "source": [
    "print(\"\\nGathering data from MD \")\n",
    "print(\"Considering system\", \"Libra Tutorial: Single Rutile TiO2 Unit Cell - Slater determinant basis\")\n",
    "\n",
    "absolute_path = os.getcwd()\n",
    "params = {}\n",
    "params[\"data_set_paths\"] = []\n",
    "params[\"data_set_paths\"].append(absolute_path+\"/res_sd_step3/\")\n",
    "\n",
    "params[\"Hvib_re_prefix\"] = \"Hvib_sorted_\"; params[\"Hvib_re_suffix\"] = \"_re\"\n",
    "params[\"Hvib_im_prefix\"] = \"Hvib_sorted_\"; params[\"Hvib_im_suffix\"] = \"_im\"\n",
    "params[\"nfiles\"]         = 100\n",
    "params[\"init_times\"]     = [0]\n",
    "\n",
    "params[\"nstates\"]        = 17 # total number of electronic states\n",
    "params[\"active_space\"]   = list( range(params[\"nstates\"]) ) # indexing is from 0!\n",
    "\n",
    "# Include HOMO and up to the last electronic state\n",
    "hvib_sd = step4.get_Hvib2(params)\n",
    "print (\"Length of hvib is: \", len(hvib[0]))"
   ]
  },
  {
   "cell_type": "markdown",
   "metadata": {},
   "source": [
    "#### 4.1.1 Sanity check<a name=\"sanity_sd\"></a>\n",
    "[Return to TOC](#toc)\n",
    "\n",
    "Let's now do our sanity check for the Slater determinant data"
   ]
  },
  {
   "cell_type": "code",
   "execution_count": 10,
   "metadata": {},
   "outputs": [
    {
     "name": "stdout",
     "output_type": "stream",
     "text": [
      "\n",
      " Test, for energies, Ha \n",
      "hvib_sd[0][0].get(0,0) =  (2.7952217+0j)\n",
      "hvib_sd[0][0].get(1,1) =  (2.7573188+0j)\n",
      "\n",
      " Test, for nacs, Ha \n",
      "hvib_sd[0][0].get(0,1) =  0.00012229896j\n",
      "hvib_sd[0][0].get(0,2) =  -9.7754045e-05j\n"
     ]
    }
   ],
   "source": [
    "#Print the matrix elements: 0,0 1,1  0,1 0,2 . \n",
    "# The matrix elemnts are extracted with the .get() feature\n",
    "\n",
    "print( \"\\n Test, for energies, Ha \")\n",
    "print( \"hvib_sd[0][0].get(0,0) = \",  hvib_sd[0][0].get(1,1) )\n",
    "print( \"hvib_sd[0][0].get(1,1) = \",  hvib_sd[0][0].get(0,0) )\n",
    "\n",
    "print( \"\\n Test, for nacs, Ha \")\n",
    "print( \"hvib_sd[0][0].get(0,1) = \",  hvib_sd[0][0].get(0,1) )\n",
    "print( \"hvib_sd[0][0].get(0,2) = \",  hvib_sd[0][0].get(0,2) )\n"
   ]
  },
  {
   "cell_type": "markdown",
   "metadata": {},
   "source": [
    "We can also see them in the units of eV. Be aware that for the energies one should be concerned the energy gaps, and not nesscarily the energies themsevles. "
   ]
  },
  {
   "cell_type": "code",
   "execution_count": 11,
   "metadata": {},
   "outputs": [
    {
     "name": "stdout",
     "output_type": "stream",
     "text": [
      "\n",
      " Test, for energies, eV \n",
      "hvib_sd[0][0].get(0,0) =  (76.06077767869999+0j)\n",
      "hvib_sd[0][0].get(1,1) =  (75.0294018668+0j)\n",
      "\n",
      " Test, for nacs, eV \n",
      "hvib_sd[0][0].get(0,1) =  0.00332787700056j\n",
      "hvib_sd[0][0].get(0,2) =  -0.0026599853184949996j\n"
     ]
    }
   ],
   "source": [
    "#Print the matrix elements: 0,0 1,1  0,1 0,2 . \n",
    "# The matrix elemnts are extracted with the .get() feature\n",
    "\n",
    "print( \"\\n Test, for energies, eV \")\n",
    "print( \"hvib_sd[0][0].get(0,0) = \",  hvib_sd[0][0].get(1,1) * units.au2ev )\n",
    "print( \"hvib_sd[0][0].get(1,1) = \",  hvib_sd[0][0].get(0,0) * units.au2ev )\n",
    "\n",
    "print( \"\\n Test, for nacs, eV \")\n",
    "print( \"hvib_sd[0][0].get(0,1) = \",  hvib_sd[0][0].get(0,1) * units.au2ev )\n",
    "print( \"hvib_sd[0][0].get(0,2) = \",  hvib_sd[0][0].get(0,2) * units.au2ev )"
   ]
  },
  {
   "cell_type": "markdown",
   "metadata": {},
   "source": [
    "### 4.2 Compute decoherence time in Slater determinant basis<a name=\"decoherence_sd\"></a>\n",
    "[Return to TOC](#toc)\n",
    "\n",
    "Using the full molecular dynamics, let's compute the decoherence time as done above, but using the Slater determinant basis now.\n",
    "\n",
    "<a name=\"decoherence_times_ave\"></a>\n",
    "<a name=\"energy_gaps_ave\"></a>"
   ]
  },
  {
   "cell_type": "code",
   "execution_count": 13,
   "metadata": {},
   "outputs": [
    {
     "name": "stdout",
     "output_type": "stream",
     "text": [
      "Finished gather data for MD time 50 steps.\n",
      "Dephasing time between states 0 and 1 is  8.480358651664996\n"
     ]
    }
   ],
   "source": [
    "params[\"init_times\"] = [49]\n",
    "params[\"nsteps\"] = 50\n",
    "# Compute energy gaps and decoherence times over part of the trajectory we want\n",
    "tau_sd, rates_sd = decoherence_times.decoherence_times_ave(hvib_sd, [params[\"init_times\"][0]], params[\"nsteps\"], 0)\n",
    "dE_sd = decoherence_times.energy_gaps_ave(hvib_sd, [params[\"init_times\"][0]], params[\"nsteps\"])\n",
    "avg_deco_sd = tau_sd * units.au2fs\n",
    "print(\"Finished gather data for MD time\", params[\"nsteps\"], \"steps.\")\n",
    "print(\"Dephasing time between states 0 and 1 is \", tau_sd.get(0,1) * units.au2fs)"
   ]
  },
  {
   "cell_type": "markdown",
   "metadata": {},
   "source": [
    "### 4.3. Plotting the decoherence times for Slater determinant basis<a name=\"plot_deco_sd\"></a>\n",
    "[Return to TOC](#toc)\n",
    "\n",
    "We will use the same plotting script as above but adjusted for the new variable names."
   ]
  },
  {
   "cell_type": "code",
   "execution_count": 14,
   "metadata": {},
   "outputs": [
    {
     "data": {
      "image/png": "[encoded data removed]",
      "text/plain": [
       "<Figure size 1872x642 with 2 Axes>"
      ]
     },
     "metadata": {
      "needs_background": "light"
     },
     "output_type": "display_data"
    }
   ],
   "source": [
    "tau_slater_determinant = data_conv.MATRIX2nparray( tau_sd ) * units.au2fs\n",
    "for i in range( len(tau_slater_determinant) ):\n",
    "    tau_slater_determinant[i][i] = 0.0\n",
    "title_slater = \"Slater determinant - decoherence times\"\n",
    "data = [tau_slater_determinant]\n",
    "subplot_titles = [title_slater]\n",
    "data_visualize.plot_map_nparray( plt, data, \\\n",
    "                                fig_width=6.24, fig_height=2.14, titles=subplot_titles, \\\n",
    "                                title_size=8, num_subplots=1, colormap='hot', \\\n",
    "                                interpolation_scheme='nearest', colorbar_label='fs' )\n"
   ]
  },
  {
   "cell_type": "markdown",
   "metadata": {},
   "source": [
    "### Exercise 3<a name=\"exercise3\"></a>\n",
    "[Return to TOC](#toc)\n",
    "\n",
    "In the Kohn-Sham orbital basis, index zero happened to correspond to CBM-4. However, in the Slater determinant basis, index zero is referred to as the ground state. Why is this? In other words, why is index 0 in the Kohn-Sham basis not referred to as the ground state, yet index 0 in the Slater determinant basis is?\n"
   ]
  },
  {
   "cell_type": "markdown",
   "metadata": {},
   "source": [
    "## 5. References<a name=\"references\"></a>\n",
    "[Return to TOC](#toc)\n",
    "\n",
    "1. Akimov, A. V.; Prezhdo, O. V. Persistent Electronic Coherence Despite Rapid Loss of Electron–Nuclear Correlation. J. Phys. Chem. Lett. 2013, 4 (22), 3857–3864"
   ]
  }
 ],
 "metadata": {
  "kernelspec": {
   "display_name": "Python 3",
   "language": "python",
   "name": "python3"
  },
  "language_info": {
   "codemirror_mode": {
    "name": "ipython",
    "version": 3
   },
   "file_extension": ".py",
   "mimetype": "text/x-python",
   "name": "python",
   "nbconvert_exporter": "python",
   "pygments_lexer": "ipython3",
   "version": "3.6.13"
  }
 },
 "nbformat": 4,
 "nbformat_minor": 2
}
