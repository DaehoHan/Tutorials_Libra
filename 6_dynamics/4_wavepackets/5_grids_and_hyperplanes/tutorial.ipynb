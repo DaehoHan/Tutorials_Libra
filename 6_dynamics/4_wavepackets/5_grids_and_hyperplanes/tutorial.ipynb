{
 "cells": [
  {
   "cell_type": "markdown",
   "metadata": {},
   "source": [
    "# Finding hyperplanes on the multidimensional grids"
   ]
  },
  {
   "cell_type": "markdown",
   "metadata": {},
   "source": [
    "## Table of Content <a name=\"TOC\"></a>\n",
    "\n",
    "1. [General setups](#setups)\n",
    "2. [Mapping points on multidimensional grids ](#mapping)\n",
    "3. [Finding the hyperplanes](#hyperplane)\n",
    "\n",
    "   3.1. [Method 1](#method1)\n",
    "\n",
    "   3.2. [Method 2](#method2)\n",
    "\n",
    "   3.3. [Method 3](#method3)\n",
    "\n",
    "   3.4. [Method 4](#method4)"
   ]
  },
  {
   "cell_type": "markdown",
   "metadata": {},
   "source": [
    "### A. Learning objectives\n",
    "\n",
    "- to map sequential numbers of the grid points to the multi-dimensional index and vice versa\n",
    "- to find all the grid points that belong to a certain hyperplane\n",
    "\n",
    "### B. Use cases\n",
    "\n",
    "- [Finding a hyperplane of a multidimensional grid](#hyperplane)\n",
    "- [Mapping integers and vectors of ints on regular grids](#mapping)\n",
    "\n",
    "### C. Functions\n",
    "\n",
    "- `liblibra::libdyn::libwfcgrid`    \n",
    "  - [`compute_imapping`](#compute_imapping-1)\n",
    "  - [`compute_hyperplane`](#compute_hyperplane-1)\n",
    "  - [`compute_mapping`](#compute_mapping-1)\n",
    "\n",
    "\n",
    "### D. Classes and class members\n"
   ]
  },
  {
   "cell_type": "markdown",
   "metadata": {},
   "source": [
    "## 1. General setups \n",
    "<a name=\"setups\"></a>[Back to TOC](#TOC)\n",
    "\n",
    "First, import all the necessary libraries:\n",
    "* liblibra_core - for general data types from Libra\n",
    "\n",
    "The output of the cell below will throw a bunch of warnings, but this is not a problem nothing really serios. So just disregard them."
   ]
  },
  {
   "cell_type": "code",
   "execution_count": 1,
   "metadata": {},
   "outputs": [
    {
     "name": "stderr",
     "output_type": "stream",
     "text": [
      "/mnt/d/WORK/SOFTWARE/Conda/envs/libra/lib/python3.6/importlib/_bootstrap.py:219: RuntimeWarning: to-Python converter for std::vector<std::vector<int, std::allocator<int> >, std::allocator<std::vector<int, std::allocator<int> > > > already registered; second conversion method ignored.\n",
      "  return f(*args, **kwds)\n",
      "/mnt/d/WORK/SOFTWARE/Conda/envs/libra/lib/python3.6/importlib/_bootstrap.py:219: RuntimeWarning: to-Python converter for boost::python::detail::container_element<std::vector<std::vector<int, std::allocator<int> >, std::allocator<std::vector<int, std::allocator<int> > > >, unsigned long, boost::python::detail::final_vector_derived_policies<std::vector<std::vector<int, std::allocator<int> >, std::allocator<std::vector<int, std::allocator<int> > > >, false> > already registered; second conversion method ignored.\n",
      "  return f(*args, **kwds)\n",
      "/mnt/d/WORK/SOFTWARE/Conda/envs/libra/lib/python3.6/importlib/_bootstrap.py:219: RuntimeWarning: to-Python converter for std::vector<std::vector<float, std::allocator<float> >, std::allocator<std::vector<float, std::allocator<float> > > > already registered; second conversion method ignored.\n",
      "  return f(*args, **kwds)\n",
      "/mnt/d/WORK/SOFTWARE/Conda/envs/libra/lib/python3.6/importlib/_bootstrap.py:219: RuntimeWarning: to-Python converter for boost::python::detail::container_element<std::vector<std::vector<float, std::allocator<float> >, std::allocator<std::vector<float, std::allocator<float> > > >, unsigned long, boost::python::detail::final_vector_derived_policies<std::vector<std::vector<float, std::allocator<float> >, std::allocator<std::vector<float, std::allocator<float> > > >, false> > already registered; second conversion method ignored.\n",
      "  return f(*args, **kwds)\n",
      "/mnt/d/WORK/SOFTWARE/Conda/envs/libra/lib/python3.6/importlib/_bootstrap.py:219: RuntimeWarning: to-Python converter for std::vector<std::vector<double, std::allocator<double> >, std::allocator<std::vector<double, std::allocator<double> > > > already registered; second conversion method ignored.\n",
      "  return f(*args, **kwds)\n",
      "/mnt/d/WORK/SOFTWARE/Conda/envs/libra/lib/python3.6/importlib/_bootstrap.py:219: RuntimeWarning: to-Python converter for boost::python::detail::container_element<std::vector<std::vector<double, std::allocator<double> >, std::allocator<std::vector<double, std::allocator<double> > > >, unsigned long, boost::python::detail::final_vector_derived_policies<std::vector<std::vector<double, std::allocator<double> >, std::allocator<std::vector<double, std::allocator<double> > > >, false> > already registered; second conversion method ignored.\n",
      "  return f(*args, **kwds)\n",
      "/mnt/d/WORK/SOFTWARE/Conda/envs/libra/lib/python3.6/importlib/_bootstrap.py:219: RuntimeWarning: to-Python converter for std::vector<std::vector<std::complex<double>, std::allocator<std::complex<double> > >, std::allocator<std::vector<std::complex<double>, std::allocator<std::complex<double> > > > > already registered; second conversion method ignored.\n",
      "  return f(*args, **kwds)\n",
      "/mnt/d/WORK/SOFTWARE/Conda/envs/libra/lib/python3.6/importlib/_bootstrap.py:219: RuntimeWarning: to-Python converter for boost::python::detail::container_element<std::vector<std::vector<std::complex<double>, std::allocator<std::complex<double> > >, std::allocator<std::vector<std::complex<double>, std::allocator<std::complex<double> > > > >, unsigned long, boost::python::detail::final_vector_derived_policies<std::vector<std::vector<std::complex<double>, std::allocator<std::complex<double> > >, std::allocator<std::vector<std::complex<double>, std::allocator<std::complex<double> > > > >, false> > already registered; second conversion method ignored.\n",
      "  return f(*args, **kwds)\n"
     ]
    }
   ],
   "source": [
    "import os\n",
    "import sys\n",
    "import math\n",
    "if sys.platform==\"cygwin\":\n",
    "    from cyglibra_core import *\n",
    "elif sys.platform==\"linux\" or sys.platform==\"linux2\":\n",
    "    from liblibra_core import *\n",
    "from libra_py import data_outs\n"
   ]
  },
  {
   "cell_type": "markdown",
   "metadata": {},
   "source": [
    "## 2. Mapping points on multidimensional grids \n",
    "<a name=\"mapping\"></a>[Back to TOC](#TOC)\n",
    "\n",
    "\n",
    "Imagine a 3D grid with:\n",
    " * 3 points in the 1-st dimension\n",
    " * 2 points in the 2-nd dimension  \n",
    " * 4 points in the 3-rd dimension\n",
    "\n",
    "So there are 3 x 2 x 4 = 24 points \n",
    " \n",
    "However, we can still store all of them in 1D array, which is more efficient way. However, to refer to the points, we need a function that does the mapping.\n",
    "\n",
    "This example demonstrates the functions:\n",
    "\n",
    "`vector<vector<int> > compute_mapping(vector<vector<int> >& inp, vector<int>& npts)`\n",
    "\n",
    "`int compute_imapping(vector<int>& inp, vector<int>& npts)`\n",
    "\n",
    "defined in:   dyn/wfcgrid/Grid_functions.h\n",
    "\n",
    "\n",
    "The mapping formula for grids of different dimensions is given by:\n",
    "\n",
    "    1D: i = i_0 \n",
    "    2D: i = i_0*n_1 + i_1\n",
    "    3D: i = i_0*n_1*n_2 + i_1*n_2 + i_2 \n",
    "\n",
    "and so on.\n",
    "\n",
    "Here is how such a mapping can be implemented in Python:\n",
    "<a name=\"compute_mapping-1\"></a>"
   ]
  },
  {
   "cell_type": "code",
   "execution_count": 2,
   "metadata": {},
   "outputs": [],
   "source": [
    "def compute_imapping_py(inp, npts):\n",
    "    \"\"\"\n",
    "    Maps vector to an indeger according to the grid dimensions\n",
    "    \"\"\"\n",
    "\n",
    "    ndof = len(npts)\n",
    "\n",
    "    i = inp[0];\n",
    "    for dof in range(1, ndof):   \n",
    "        i = i * npts[dof] + inp[dof]\n",
    "\n",
    "    return i"
   ]
  },
  {
   "cell_type": "markdown",
   "metadata": {},
   "source": [
    "Here, the first argument is the vector representing the point of interest, the second argument indicates how many points there are for each dimension:"
   ]
  },
  {
   "cell_type": "code",
   "execution_count": 3,
   "metadata": {},
   "outputs": [
    {
     "name": "stdout",
     "output_type": "stream",
     "text": [
      "5\n",
      "0\n",
      "2\n",
      "8\n"
     ]
    }
   ],
   "source": [
    "pt_indx = compute_imapping_py([5], [10])\n",
    "print(pt_indx)\n",
    "\n",
    "pt_indx = compute_imapping_py([0,0], [3,3])\n",
    "print(pt_indx)\n",
    "\n",
    "pt_indx = compute_imapping_py([0,2], [3,3])\n",
    "print(pt_indx)\n",
    "\n",
    "pt_indx = compute_imapping_py([0, 2, 2], [3,3,3])\n",
    "print(pt_indx)"
   ]
  },
  {
   "cell_type": "markdown",
   "metadata": {},
   "source": [
    "This can also be done with the built-in Libra function `compute_imapping`: <a name=\"compute_imapping-1\"></a>"
   ]
  },
  {
   "cell_type": "code",
   "execution_count": 4,
   "metadata": {},
   "outputs": [
    {
     "name": "stdout",
     "output_type": "stream",
     "text": [
      "5\n",
      "0\n",
      "2\n",
      "8\n"
     ]
    }
   ],
   "source": [
    "pt_indx = compute_imapping(Py2Cpp_int([5]), Py2Cpp_int([10]) )\n",
    "print(pt_indx)\n",
    "\n",
    "pt_indx = compute_imapping(Py2Cpp_int([0,0]), Py2Cpp_int([3,3]) )\n",
    "print(pt_indx)\n",
    "\n",
    "pt_indx = compute_imapping(Py2Cpp_int([0,2]), Py2Cpp_int([3,3]) )\n",
    "print(pt_indx)\n",
    "\n",
    "pt_indx = compute_imapping(Py2Cpp_int([0, 2, 2]) , Py2Cpp_int([3,3,3]) )\n",
    "print(pt_indx)"
   ]
  },
  {
   "cell_type": "markdown",
   "metadata": {},
   "source": [
    "Now, if we want to do the inverse mapping, we can use the following Python function:"
   ]
  },
  {
   "cell_type": "code",
   "execution_count": 5,
   "metadata": {},
   "outputs": [],
   "source": [
    "def compute_mapping_py(indx, npts):\n",
    "    \"\"\"\n",
    "    Maps an integer to a vector according to the grid dimensions\n",
    "    \"\"\"\n",
    "\n",
    "    ndof = len(npts)\n",
    "    sizes = []\n",
    "    sz = 1\n",
    "    for i in range(ndof):\n",
    "        sizes.append(sz)\n",
    "        sz = sz * npts[ndof-1-i]\n",
    "\n",
    "    res = []\n",
    "    _indx = indx\n",
    "    for i in range(ndof):\n",
    "        rem = _indx % sizes[ndof-1-i]\n",
    "        ni = (_indx - rem) / sizes[ndof-1-i]\n",
    "        _indx = _indx - ni*sizes[ndof-1-i]\n",
    "\n",
    "        res.append(int(ni))\n",
    " \n",
    "    return res\n"
   ]
  },
  {
   "cell_type": "markdown",
   "metadata": {},
   "source": [
    "Here, again, the second argument describes the grid structure. However, the first argument is the index of a point of interest. The function should return the arguments used as the inputs in the examples above: <a name=\"compute_mapping-1\"></a>"
   ]
  },
  {
   "cell_type": "code",
   "execution_count": 6,
   "metadata": {},
   "outputs": [
    {
     "name": "stdout",
     "output_type": "stream",
     "text": [
      "[5]\n",
      "[0, 0]\n",
      "[0, 2]\n",
      "[0, 2, 2]\n"
     ]
    }
   ],
   "source": [
    "res = compute_mapping_py(5, [10])\n",
    "print(res)\n",
    "\n",
    "res = compute_mapping_py(0, [3,3])\n",
    "print(res)\n",
    "\n",
    "res = compute_mapping_py(2, [3,3])\n",
    "print(res)\n",
    "\n",
    "res = compute_mapping_py(8, [3,3,3])\n",
    "print(res)"
   ]
  },
  {
   "cell_type": "markdown",
   "metadata": {},
   "source": [
    "Analogous Python-exposed C++ function is `compute_mapping`:"
   ]
  },
  {
   "cell_type": "code",
   "execution_count": 7,
   "metadata": {},
   "outputs": [
    {
     "name": "stdout",
     "output_type": "stream",
     "text": [
      "[5]\n",
      "[0, 0]\n",
      "[0, 2]\n",
      "[0, 2, 2]\n"
     ]
    }
   ],
   "source": [
    "res = compute_mapping(5, Py2Cpp_int([10]) )\n",
    "print(Cpp2Py(res) )\n",
    "\n",
    "res = compute_mapping(0, Py2Cpp_int([3,3]) )\n",
    "print(Cpp2Py(res) )\n",
    "\n",
    "res = compute_mapping(2, Py2Cpp_int([3,3]) )\n",
    "print(Cpp2Py(res) )\n",
    "\n",
    "res = compute_mapping(8, Py2Cpp_int([3,3,3]) )\n",
    "print(Cpp2Py(res) )"
   ]
  },
  {
   "cell_type": "markdown",
   "metadata": {},
   "source": [
    "Note that there is one more `compute_mapping` function in Libra. It would compute the list of all points available in a given grid:"
   ]
  },
  {
   "cell_type": "code",
   "execution_count": 8,
   "metadata": {},
   "outputs": [
    {
     "name": "stdout",
     "output_type": "stream",
     "text": [
      "The number of points =  27\n",
      "The number of dimensions =  3\n",
      "point #  0 [0, 0, 0]\n",
      "point #  1 [0, 0, 1]\n",
      "point #  2 [0, 0, 2]\n",
      "point #  3 [0, 1, 0]\n",
      "point #  4 [0, 1, 1]\n",
      "point #  5 [0, 1, 2]\n",
      "point #  6 [0, 2, 0]\n",
      "point #  7 [0, 2, 1]\n",
      "point #  8 [0, 2, 2]\n",
      "point #  9 [1, 0, 0]\n",
      "point #  10 [1, 0, 1]\n",
      "point #  11 [1, 0, 2]\n",
      "point #  12 [1, 1, 0]\n",
      "point #  13 [1, 1, 1]\n",
      "point #  14 [1, 1, 2]\n",
      "point #  15 [1, 2, 0]\n",
      "point #  16 [1, 2, 1]\n",
      "point #  17 [1, 2, 2]\n",
      "point #  18 [2, 0, 0]\n",
      "point #  19 [2, 0, 1]\n",
      "point #  20 [2, 0, 2]\n",
      "point #  21 [2, 1, 0]\n",
      "point #  22 [2, 1, 1]\n",
      "point #  23 [2, 1, 2]\n",
      "point #  24 [2, 2, 0]\n",
      "point #  25 [2, 2, 1]\n",
      "point #  26 [2, 2, 2]\n"
     ]
    }
   ],
   "source": [
    "inp = intList2()\n",
    "npts = Py2Cpp_int([3,3,3])\n",
    "\n",
    "res = compute_mapping(inp, npts);\n",
    "\n",
    "print(\"The number of points = \", len(res) )\n",
    "print(\"The number of dimensions = \", len(res[0]) )\n",
    "\n",
    "for cnt, i in enumerate(res):\n",
    "    print(\"point # \", cnt, Cpp2Py(i) )        "
   ]
  },
  {
   "cell_type": "markdown",
   "metadata": {},
   "source": [
    "## 3. Finding the hyperplane\n",
    "<a name=\"hyperplane\"></a>[Back to TOC](#TOC)\n",
    "\n",
    "Now, we are going to solve the following problem: given a certain regular multi-dimensional grid with points $(i_0, i_1, i_2, ..., i_{N-1})$, enumerated sequentially (by some index $I$) according to the scheme shown above, find the indices ${I...}$ of all points $(i_0, i_1, ... i_d = X, ... i_{N-1})$ for which the value of the index for a given dimension $d$ is a constant value. We refer to such a subset of points as the hyperplane.\n",
    "\n",
    "\n",
    "### 3.1. Method 1\n",
    "<a name=\"method1\"></a>[Back to TOC](#TOC)\n",
    "\n",
    "In this approach, we first going to systematically create all the vectors, but paying attention that the index of the d-th component (`idim_const` parameter below) takes only one possible (pre-defined) value of `ipt_const`.\n",
    "\n",
    "First, we define a function that would generate vectors of length `n` from vectors of length `n-1` obeying such the constraints."
   ]
  },
  {
   "cell_type": "code",
   "execution_count": 9,
   "metadata": {},
   "outputs": [],
   "source": [
    "def extend_vectors(idim, inpts, npts_at_idof, idim_const, ipt_const ):\n",
    "    \"\"\"\n",
    "    idim (int) - index of the dimension on which we are working on currently\n",
    "    inpts (list of int lists) - set of incomplete vectors (up to given dimension) \n",
    "             representing the grid points\n",
    "    npts_at_idof (int) - how many points are for a given i\n",
    "    idim_const (int) - for this dimension we only do 1 fixed point\n",
    "    ipt_const (int) - is the index of that point along the idim_const direction\n",
    "    \"\"\"\n",
    "\n",
    "    res = []\n",
    "    if len(inpts)>0:\n",
    "        for inpt in inpts:\n",
    "            x = list(inpt)\n",
    "\n",
    "            if idim == idim_const:\n",
    "                a = list(x)\n",
    "                a.append(ipt_const)\n",
    "                res.append(a)\n",
    "            else:\n",
    "                for i in range(npts_at_idof):\n",
    "                    a = list(x)\n",
    "                    a.append(i)\n",
    "                    res.append(a)\n",
    "    else:\n",
    "        if idim == idim_const:\n",
    "            a = [ipt_const]\n",
    "            res.append(a)\n",
    "        else:\n",
    "            for i in range(npts_at_idof):\n",
    "                a = [i]\n",
    "                res.append(a)\n",
    "\n",
    "    return res\n",
    "        "
   ]
  },
  {
   "cell_type": "markdown",
   "metadata": {},
   "source": [
    "Now, we simply need to call such a function several times (which is the dimensionality of the grid), starting from an empty list and using the output of the function on a previous iteration as its input on the next. The function would use the generated vectors to determine their indices in the multidimensional grid using the function `compute_imapping_py` defined above. Of course, one could adapt it to work with the Libra's function `compute_imapping` discussed above."
   ]
  },
  {
   "cell_type": "code",
   "execution_count": 10,
   "metadata": {},
   "outputs": [],
   "source": [
    "def compute_hyperplane_py(npts, idim_const, ipt_const):\n",
    "    \"\"\"\n",
    "    grid - list of ints with the number of points in each directions\n",
    "\n",
    "    \"\"\"\n",
    "\n",
    "    ndof = len(npts)\n",
    "\n",
    "    res = [ ]\n",
    "    for idof in range(ndof):\n",
    "        res = extend_vectors(idof, res, npts[idof], idim_const, ipt_const)\n",
    "\n",
    "    indxs = []\n",
    "    for vec in res:\n",
    "        indx = compute_imapping_py(vec, npts)\n",
    "        indxs.append(indx)\n",
    "\n",
    "    return res, indxs"
   ]
  },
  {
   "cell_type": "markdown",
   "metadata": {},
   "source": [
    "Now let's see how it works"
   ]
  },
  {
   "cell_type": "code",
   "execution_count": 11,
   "metadata": {},
   "outputs": [
    {
     "name": "stdout",
     "output_type": "stream",
     "text": [
      "===============\n",
      "[[0, 0], [0, 1], [0, 2]] [0, 1, 2]\n",
      "===============\n",
      "[[0, 0], [1, 0], [2, 0]] [0, 3, 6]\n",
      "===============\n",
      "[[0, 1, 0], [0, 1, 1], [0, 1, 2], [1, 1, 0], [1, 1, 1], [1, 1, 2], [2, 1, 0], [2, 1, 1], [2, 1, 2]] [3, 4, 5, 12, 13, 14, 21, 22, 23]\n"
     ]
    }
   ],
   "source": [
    "print(\"===============\")\n",
    "res, indxs = compute_hyperplane_py([3,3], 0, 0)\n",
    "print(res, indxs)\n",
    "\n",
    "print(\"===============\")\n",
    "res, indxs = compute_hyperplane_py([3,3], 1, 0)\n",
    "print(res, indxs)\n",
    "\n",
    "print(\"===============\")\n",
    "res, indxs = compute_hyperplane_py([3,3,3], 1, 1)\n",
    "print(res, indxs)\n"
   ]
  },
  {
   "cell_type": "markdown",
   "metadata": {},
   "source": [
    "### Exercise 1.\n",
    "\n",
    "Adapt the function `compute_hyperplane_py` to work with the Libra's function `compute_imapping` instead of the `compute_imapping_py` function."
   ]
  },
  {
   "cell_type": "markdown",
   "metadata": {},
   "source": [
    "### 3.2. Method 2\n",
    "<a name=\"method2\"></a>[Back to TOC](#TOC)\n",
    "\n",
    "Of course, generating the whole list of all possible vector points may be an expensive procedure, which would also scale pooly for higher dimensions and many points. Thus, we are interested in to return only the indices of the points belonging to the hyperplane, without actually giving their vector representation.\n",
    "\n",
    "To do this, we can simply decompose the integer index of every point to the vector of ints, using the `compute_mapping_py` (or `compute_mapping`) functions and then check whether the needed component is what it is supposed to be"
   ]
  },
  {
   "cell_type": "code",
   "execution_count": 12,
   "metadata": {},
   "outputs": [],
   "source": [
    "def compute_hyperplane_py_fast(npts, idim_const, ipt_const):\n",
    "    \n",
    "    tot_npts = 1\n",
    "    for npt in npts:\n",
    "        tot_npts = tot_npts * npt\n",
    "\n",
    "    res = []\n",
    "    for i in range(tot_npts):\n",
    "        vec = compute_mapping_py(i, npts)\n",
    "        if vec[idim_const] == ipt_const:\n",
    "            res.append(i)\n",
    "\n",
    "    return res\n"
   ]
  },
  {
   "cell_type": "markdown",
   "metadata": {},
   "source": [
    "Applied to the examples above, it yields:"
   ]
  },
  {
   "cell_type": "code",
   "execution_count": 13,
   "metadata": {},
   "outputs": [
    {
     "name": "stdout",
     "output_type": "stream",
     "text": [
      "[0, 1, 2]\n",
      "[0, 3, 6]\n",
      "[3, 4, 5, 12, 13, 14, 21, 22, 23]\n"
     ]
    }
   ],
   "source": [
    "indxs2 = compute_hyperplane_py_fast([3,3], 0, 0)\n",
    "print(indxs2)\n",
    "\n",
    "indxs2 = compute_hyperplane_py_fast([3,3], 1, 0)\n",
    "print(indxs2)\n",
    "\n",
    "indxs2 = compute_hyperplane_py_fast([3,3,3], 1, 1)\n",
    "print(indxs2)\n"
   ]
  },
  {
   "cell_type": "markdown",
   "metadata": {},
   "source": [
    "### Exercise 2.\n",
    "\n",
    "Adapt the function `compute_hyperplane_py_fast` to work with the Libra's function `compute_mapping` instead of the `compute_mapping_py` function."
   ]
  },
  {
   "cell_type": "markdown",
   "metadata": {},
   "source": [
    "### 3.3. Method 3\n",
    "<a name=\"method3\"></a>[Back to TOC](#TOC)\n",
    "\n",
    "Finally, we can call the Libra's function `compute_hyperplane` which works exactly as `compute_hyperplane_py_fast` but with all internals hidden and inmplemented in C++ code. The signature is also slightly different.\n",
    "\n",
    "    compute_hyperplane(vector<int>& npts, int idim_const, int ipt_const)\n",
    "    \n",
    "\n",
    "So here is how it works: <a name=\"compute_hyperplane-1\"></a>"
   ]
  },
  {
   "cell_type": "code",
   "execution_count": 14,
   "metadata": {},
   "outputs": [
    {
     "name": "stdout",
     "output_type": "stream",
     "text": [
      "[0, 1, 2]\n",
      "[0, 3, 6]\n",
      "[3, 4, 5, 12, 13, 14, 21, 22, 23]\n"
     ]
    }
   ],
   "source": [
    "res = compute_hyperplane(Py2Cpp_int([3,3]), 0, 0)\n",
    "print( Cpp2Py(res) )\n",
    "\n",
    "res = compute_hyperplane(Py2Cpp_int([3,3]), 1, 0)\n",
    "print( Cpp2Py(res) )\n",
    "\n",
    "res = compute_hyperplane(Py2Cpp_int([3,3,3]), 1, 1)\n",
    "print( Cpp2Py(res) )"
   ]
  },
  {
   "cell_type": "markdown",
   "metadata": {},
   "source": [
    "### 3.4. Finding the hyperplane\n",
    "<a name=\"method4\"></a>[Back to TOC](#TOC)\n",
    "\n",
    "This an alternative approach developed by **r. Luke Ali** during the CyberTraining summer school/workshop in July 2022. It is qualitatively different from all the above examples and is quite interesting. It relies on a building a set of expressions (equations) for evaluating the indices of the points belonging to the hyperplane. Then one calls another function to evaluate all these expressions and to determine the required indices. "
   ]
  },
  {
   "cell_type": "code",
   "execution_count": 15,
   "metadata": {},
   "outputs": [],
   "source": [
    "def build_equation(dimensions, slice):\n",
    "    '''\n",
    "    slice is in the format [axis, point] and represents the hyperplane you want to look at. \n",
    "    \n",
    "    This format makes things a few lines simpler.    \n",
    "    \n",
    "    '''\n",
    "\n",
    "    # Create initial structure of terms\n",
    "    terms = ''\n",
    "\n",
    "    # Builds an expression of the form N[x]*N[x-1]*N[x-2]*...*N[1]* where  x = dimensions - 1\n",
    "    # Notice the error above with * at the end\n",
    "    for i in range(dimensions - 1, 0, -1):\n",
    "\n",
    "        terms += 'N[' + str(i) + ']*'\n",
    "\n",
    "    # Correcting for * error \n",
    "    terms = terms[0:-1:] \n",
    "    \n",
    "    \n",
    "    eq = ''\n",
    "\n",
    "    for i in range(dimensions):\n",
    "\n",
    "        # Builds and expression of the form C[0]*N[x]*N[x-1]*N[x-2]*...*N[1]\n",
    "        eq += 'C[' + str(i) + ']*' + terms + '+'\n",
    "\n",
    "        # Removes the smallest term in the string eg: N[5]*N[4]*N[3]*N[2] -> N[5]*N[4]*N[3]\n",
    "        # The reasoning stems from the derivation of the general form\n",
    "        terms = terms[0:-len('*N[' + str(i+1) + ']')]\n",
    "\n",
    "        # Builds the final equation that is used to run the calculation\n",
    "        expression = 'sol.append(' + \\\n",
    "        eq[0:-2].replace('C[' + str(slice[0]) + ']', str(slice[1])) + ')'  \n",
    "\n",
    "    return expression\n",
    "\n",
    "def calculate(sol, dimensions, expression, index, C, N, current = 0, key = 0):\n",
    "    '''\n",
    "    The main calculation function\n",
    "\n",
    "    sol is the list that contains all of the points from the output\n",
    "\n",
    "\n",
    "    N is the grid size in the form of a list. \n",
    "\n",
    "    N = [N0, N1, N2, ... , Nn-1]\n",
    "\n",
    "    Create Coefficient Dictionary in the following way:\n",
    "\n",
    "    C = {x : 0 for x in range(len(N))}\n",
    "\n",
    "    '''\n",
    "\n",
    "    # Used to check whether the last index is the one in question\n",
    "    # Fixes an index error. \n",
    "    if key == index and index == dimensions - 1:\n",
    "\n",
    "        exec(expression)\n",
    "\n",
    "    # Prevents iteration over a fixed index. \n",
    "    elif key == index:\n",
    "\n",
    "        # Keeps track of position in the list\n",
    "        current += 1 \n",
    "\n",
    "        # Calls itself to iterate over the next index\n",
    "        calculate(sol, dimensions, expression, index, C, N, current, key + 1)\n",
    "\n",
    "    # Checks if on last index and calculates the terms. \n",
    "    # This is the final step in a recursive branch if index != dimensions - 1\n",
    "    elif key == dimensions - 1 and current == dimensions - 1: \n",
    "        \n",
    "        for C[key] in range(N[key]): \n",
    "\n",
    "            exec(expression)\n",
    "\n",
    "        # Keeps track of position in the list\n",
    "        current -= 1\n",
    "\n",
    "    else:\n",
    "\n",
    "        # Keeps track of position in the list\n",
    "        current += 1\n",
    "\n",
    "        # Recursion to iterate over the next index. \n",
    "        for C[key] in range(N[key]):\n",
    "\n",
    "            calculate(sol, dimensions, expression, index, C, N, current, key + 1)\n"
   ]
  },
  {
   "cell_type": "markdown",
   "metadata": {},
   "source": [
    "Let's see how it works:\n",
    "\n",
    "First, the **1D case**"
   ]
  },
  {
   "cell_type": "code",
   "execution_count": 16,
   "metadata": {},
   "outputs": [
    {
     "name": "stdout",
     "output_type": "stream",
     "text": [
      "[5]\n"
     ]
    }
   ],
   "source": [
    "grid = [10]  # define the grind of 10 points in 1D\n",
    "coefficients = {x : 0 for x in range(len(grid))}\n",
    "\n",
    "# Build an expression\n",
    "dim = 1\n",
    "slc = [0, 5]  # the grid size [0 - first axis, 5 - 5th point]\n",
    "expr = build_equation(dim, slc)\n",
    "\n",
    "# Compute the hyperplane\n",
    "output = []\n",
    "calculate(output, dim, expr, slc[0], coefficients, grid)\n",
    "print(output)\n"
   ]
  },
  {
   "cell_type": "markdown",
   "metadata": {},
   "source": [
    "Now consider 2  **2D cases**, already computed above:"
   ]
  },
  {
   "cell_type": "code",
   "execution_count": 17,
   "metadata": {},
   "outputs": [
    {
     "name": "stdout",
     "output_type": "stream",
     "text": [
      "[0, 1, 2]\n",
      "[0, 3, 6]\n"
     ]
    }
   ],
   "source": [
    "grid = [3,3]  # define the grind of 10 points in 1D\n",
    "coefficients = {x : 0 for x in range(len(grid))}\n",
    "\n",
    "# Build an expression\n",
    "dim = 2\n",
    "slc = [0, 0]  # the grid size [0 - first axis, 0 - 0th point]\n",
    "expr = build_equation(dim, slc)\n",
    "\n",
    "# Compute the hyperplane\n",
    "output = []\n",
    "calculate(output, dim, expr, slc[0], coefficients, grid)\n",
    "print(output)\n",
    "\n",
    "\n",
    "\n",
    "grid = [3,3]  # define the grind of 10 points in 1D\n",
    "coefficients = {x : 0 for x in range(len(grid))}\n",
    "\n",
    "# Build an expression\n",
    "dim = 2\n",
    "slc = [1, 0]  # the grid size [1 - second axis, 0 - 0th point]\n",
    "expr = build_equation(dim, slc)\n",
    "\n",
    "# Compute the hyperplane\n",
    "output = []\n",
    "calculate(output, dim, expr, slc[0], coefficients, grid)\n",
    "print(output)"
   ]
  },
  {
   "cell_type": "markdown",
   "metadata": {},
   "source": [
    "Finally, a **3D case**"
   ]
  },
  {
   "cell_type": "code",
   "execution_count": 18,
   "metadata": {},
   "outputs": [
    {
     "name": "stdout",
     "output_type": "stream",
     "text": [
      "[3, 4, 5, 12, 13, 14, 21, 22, 23]\n"
     ]
    }
   ],
   "source": [
    "grid = [3,3,3]  # define the grind of 10 points in 1D\n",
    "coefficients = {x : 0 for x in range(len(grid))}\n",
    "\n",
    "# Build an expression\n",
    "dim = 3\n",
    "slc = [1, 1]  # the grid size [1 - first axis, 1 - 1st point]\n",
    "expr = build_equation(dim, slc)\n",
    "\n",
    "# Compute the hyperplane\n",
    "output = []\n",
    "calculate(output, dim, expr, slc[0], coefficients, grid)\n",
    "print(output)"
   ]
  }
 ],
 "metadata": {
  "kernelspec": {
   "display_name": "Python 3",
   "language": "python",
   "name": "python3"
  },
  "language_info": {
   "codemirror_mode": {
    "name": "ipython",
    "version": 3
   },
   "file_extension": ".py",
   "mimetype": "text/x-python",
   "name": "python",
   "nbconvert_exporter": "python",
   "pygments_lexer": "ipython3",
   "version": "3.6.13"
  }
 },
 "nbformat": 4,
 "nbformat_minor": 4
}
