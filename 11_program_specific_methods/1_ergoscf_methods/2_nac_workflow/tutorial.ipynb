{
 "cells": [
  {
   "cell_type": "markdown",
   "metadata": {},
   "source": [
    "# ErgoSCF methods: NAC workflow (\"step2\")"
   ]
  },
  {
   "cell_type": "markdown",
   "metadata": {},
   "source": [
    "## Table of Content <a name=\"TOC\"></a>\n",
    "\n",
    "1. [General setups](#setups)\n",
    "\n",
    "2. [Fock matrix diagonalization approach](#fock_matrix_mo)\n",
    "\n",
    "  2.1. [Restricted HF (RHF) case](#case-1)  \n",
    "  \n",
    "  2.2. [Unrestricted HF (UHF) case](#case-2)  \n",
    "  \n",
    "3. [Direct MO approach](#direct_mo)\n",
    "\n",
    "  3.1. [Restricted HF (RHF) case](#case-3)  \n",
    "  \n",
    "  3.2. [Unrestricted HF (UHF) case](#case-4)  \n",
    "\n",
    "4. [Optional cleanup](#cleanup) \n",
    "\n",
    "\n",
    "\n",
    "### A. Learning objectives\n",
    "\n",
    "- to setup and run RHF and UHF electronic structure calculations with ErgoSCF package\n",
    "- to produce molecular orbitlas in two different ways\n",
    "- to compute NACs along the pre-computed MD trajectories using ErgoSCF and Libra codes\n",
    "\n",
    "\n",
    "### B. Use cases\n",
    "\n",
    "- NAC calculations\n",
    "\n",
    "\n",
    "### C. Functions\n",
    "\n",
    "- `libra_py`\n",
    "  - `workflows.nbra`\n",
    "    - [`step2_ergoscf`](#run_step2-1) | [also here](#run_step2-2) | [also here](#run_step2-2)      \n",
    "\n",
    "\n",
    "### D. Classes and class members\n",
    "\n",
    "None"
   ]
  },
  {
   "cell_type": "markdown",
   "metadata": {},
   "source": [
    "## 1. General setups\n",
    "<a name=\"setups\"></a>[Back to TOC](#TOC)\n",
    "\n",
    "This tutorial explains how to compute NACs along the pre-computed MD trajectories using ErgoSCF and Libra codes\n",
    "\n",
    "We will consider two major approaches to produce MOs: a) either by the Fock matrix diagonalization or b) by reading the MO projections ErgoSCF does.\n",
    "\n",
    "### Fock matrix diagonalization approach\n",
    "\n",
    "In this case, we run the SCF calculations until we reach its convergence. \n",
    "We then read the last (converged) Fock matrix and diagonalize it. \n",
    "As a result of the diagonalization, we obtain both orbital energies and MOs\n",
    "\n",
    "\n",
    "### Direct MO approach\n",
    "\n",
    "In this case, both MOs and orbital energies are produced by ErgoSCF\n",
    "We simply read and use them. Internally, this is done via a projection algorithm.\n",
    "\n",
    "Note: \n",
    ">  As of now (analyze the output of this tutorial), it seems that the two approaches may give somewhat different\n",
    "> orbital energies and NACs. This happens for some of the orbitals, but not for all. \n",
    ">\n",
    "> Also, we can observe that the two approaches may lead to different degree of the state (orbital) reordering \n",
    "> problem - in this example, the reordering with the first method (internal diagonalization) is of smaller issue \n",
    "> than in the second method (direct MO)\n",
    "\n",
    "All right, let's get it started. First, we import all the needed modules"
   ]
  },
  {
   "cell_type": "code",
   "execution_count": 1,
   "metadata": {
    "scrolled": false
   },
   "outputs": [
    {
     "name": "stderr",
     "output_type": "stream",
     "text": [
      "/home/alexey/Conda/Miniconda3/envs/libra/lib/python3.6/importlib/_bootstrap.py:219: RuntimeWarning: to-Python converter for std::vector<std::vector<int, std::allocator<int> >, std::allocator<std::vector<int, std::allocator<int> > > > already registered; second conversion method ignored.\n",
      "  return f(*args, **kwds)\n",
      "/home/alexey/Conda/Miniconda3/envs/libra/lib/python3.6/importlib/_bootstrap.py:219: RuntimeWarning: to-Python converter for boost::python::detail::container_element<std::vector<std::vector<int, std::allocator<int> >, std::allocator<std::vector<int, std::allocator<int> > > >, unsigned long, boost::python::detail::final_vector_derived_policies<std::vector<std::vector<int, std::allocator<int> >, std::allocator<std::vector<int, std::allocator<int> > > >, false> > already registered; second conversion method ignored.\n",
      "  return f(*args, **kwds)\n",
      "/home/alexey/Conda/Miniconda3/envs/libra/lib/python3.6/importlib/_bootstrap.py:219: RuntimeWarning: to-Python converter for std::vector<std::vector<float, std::allocator<float> >, std::allocator<std::vector<float, std::allocator<float> > > > already registered; second conversion method ignored.\n",
      "  return f(*args, **kwds)\n",
      "/home/alexey/Conda/Miniconda3/envs/libra/lib/python3.6/importlib/_bootstrap.py:219: RuntimeWarning: to-Python converter for boost::python::detail::container_element<std::vector<std::vector<float, std::allocator<float> >, std::allocator<std::vector<float, std::allocator<float> > > >, unsigned long, boost::python::detail::final_vector_derived_policies<std::vector<std::vector<float, std::allocator<float> >, std::allocator<std::vector<float, std::allocator<float> > > >, false> > already registered; second conversion method ignored.\n",
      "  return f(*args, **kwds)\n",
      "/home/alexey/Conda/Miniconda3/envs/libra/lib/python3.6/importlib/_bootstrap.py:219: RuntimeWarning: to-Python converter for std::vector<std::vector<double, std::allocator<double> >, std::allocator<std::vector<double, std::allocator<double> > > > already registered; second conversion method ignored.\n",
      "  return f(*args, **kwds)\n",
      "/home/alexey/Conda/Miniconda3/envs/libra/lib/python3.6/importlib/_bootstrap.py:219: RuntimeWarning: to-Python converter for boost::python::detail::container_element<std::vector<std::vector<double, std::allocator<double> >, std::allocator<std::vector<double, std::allocator<double> > > >, unsigned long, boost::python::detail::final_vector_derived_policies<std::vector<std::vector<double, std::allocator<double> >, std::allocator<std::vector<double, std::allocator<double> > > >, false> > already registered; second conversion method ignored.\n",
      "  return f(*args, **kwds)\n",
      "/home/alexey/Conda/Miniconda3/envs/libra/lib/python3.6/importlib/_bootstrap.py:219: RuntimeWarning: to-Python converter for std::vector<std::vector<std::complex<double>, std::allocator<std::complex<double> > >, std::allocator<std::vector<std::complex<double>, std::allocator<std::complex<double> > > > > already registered; second conversion method ignored.\n",
      "  return f(*args, **kwds)\n",
      "/home/alexey/Conda/Miniconda3/envs/libra/lib/python3.6/importlib/_bootstrap.py:219: RuntimeWarning: to-Python converter for boost::python::detail::container_element<std::vector<std::vector<std::complex<double>, std::allocator<std::complex<double> > >, std::allocator<std::vector<std::complex<double>, std::allocator<std::complex<double> > > > >, unsigned long, boost::python::detail::final_vector_derived_policies<std::vector<std::vector<std::complex<double>, std::allocator<std::complex<double> > >, std::allocator<std::vector<std::complex<double>, std::allocator<std::complex<double> > > > >, false> > already registered; second conversion method ignored.\n",
      "  return f(*args, **kwds)\n"
     ]
    }
   ],
   "source": [
    "import os\n",
    "import sys\n",
    "\n",
    "# Fisrt, we add the location of the library to test to the PYTHON path\n",
    "if sys.platform==\"cygwin\":\n",
    "    from cyglibra_core import *\n",
    "elif sys.platform==\"linux\" or sys.platform==\"linux2\":\n",
    "    from liblibra_core import *\n",
    "import util.libutil as comn\n",
    "from libra_py import ERGO_methods\n",
    "from libra_py import units\n",
    "from libra_py.workflows.nbra import step2_ergoscf\n"
   ]
  },
  {
   "cell_type": "markdown",
   "metadata": {},
   "source": [
    "Also, let's define add the path to the `ergo` binary to the environment avariables.\n",
    "\n",
    "This instruction is all that need to be done to ensure porting of this tutorial to other systems\n",
    "\n",
    "Thanks to [this link](https://stackoverflow.com/questions/1681208/python-platform-independent-way-to-modify-path-environment-variable)"
   ]
  },
  {
   "cell_type": "code",
   "execution_count": 2,
   "metadata": {},
   "outputs": [],
   "source": [
    "ergo_bin = \"/mnt/c/cygwin/home/Alexey-user/Soft/ergo-3.8/source/\"\n",
    "os.environ[\"PATH\"] += os.pathsep + ergo_bin"
   ]
  },
  {
   "cell_type": "code",
   "execution_count": 3,
   "metadata": {},
   "outputs": [
    {
     "name": "stdout",
     "output_type": "stream",
     "text": [
      "/home/alexey/Conda/Miniconda3/envs/libra/bin:/home/alexey/Conda/Miniconda3/condabin:/home/alexey/.rvm/gems/ruby-3.0.0/bin:/home/alexey/.rvm/gems/ruby-3.0.0@global/bin:/usr/share/rvm/rubies/ruby-3.0.0/bin:/usr/local/sbin:/usr/local/bin:/usr/sbin:/usr/bin:/sbin:/bin:/usr/games:/usr/local/games:/mnt/c/Program Files/WindowsApps/CanonicalGroupLimited.UbuntuonWindows_2004.2021.222.0_x64__79rhkp1fndgsc:/mnt/c/ProgramData/Oracle/Java/javapath:/mnt/c/Program Files (x86)/Intel/iCLS Client:/mnt/c/Program Files/Intel/iCLS Client:/mnt/c/Windows/system32:/mnt/c/Windows:/mnt/c/Windows/System32/Wbem:/mnt/c/Windows/System32/WindowsPowerShell/v1.0:/mnt/c/Program Files (x86)/NVIDIA Corporation/PhysX/Common:/mnt/c/Program Files (x86)/Intel/Intel(R) Management Engine Components/DAL:/mnt/c/Program Files/Intel/Intel(R) Management Engine Components/DAL:/mnt/c/Program Files (x86)/Intel/Intel(R) Management Engine Components/IPT:/mnt/c/Program Files/Intel/Intel(R) Management Engine Components/IPT:/mnt/c/WINDOWS/system32:/mnt/c/WINDOWS:/mnt/c/WINDOWS/System32/Wbem:/mnt/c/WINDOWS/System32/WindowsPowerShell/v1.0:/mnt/c/WINDOWS/System32/OpenSSH:/mnt/c/Program Files/OpenVPN/bin:/mnt/c/Users/Alexey-user/AppData/Local/Microsoft/WindowsApps:/mnt/d/WORK/BUFFALO/Research/Soft/NAMD/binaries/NAMD_2.13_Win64-multicore:/snap/bin:/usr/share/rvm/bin:/home/alexey/bin:/mnt/c/cygwin/home/Alexey-user/Soft/ergo-3.8/source/\n"
     ]
    }
   ],
   "source": [
    "print(os.environ[\"PATH\"])"
   ]
  },
  {
   "cell_type": "markdown",
   "metadata": {},
   "source": [
    "## 2. Fock matrix diagonalization approach\n",
    "<a name=\"fock_matrix_mo\"></a>[Back to TOC](#TOC)\n",
    "\n",
    "In this approach, we compute the MOs self-consistently for any pair of geometries `R(t)` and `R(t+dt)`. As a result, we obtain the converged Fock matrices for each geometry, `F(t)` and `F(t+dt)`, as well as the AO-basis overlaps for each geometry, `S(t)` and `S(t+dt)`, which satisfy the following conditions:\n",
    "\n",
    "$$\n",
    "F(t) C(t) = S(t) C(t) E(t) \\\\\n",
    "F(t+dt) C(t+dt) = S(t+dt) C(t+dt) E(t+dt)\n",
    "$$\n",
    "\n",
    "\n",
    "We then compute the overlap matrix for the super-system $R(t) + R(t+dt)$ but do not do any self-consistent calculations. The resulting super-matrix will have a diagonal structure with the off-diagonal blocks containing the time-overlaps of the AO basis functions:\n",
    "\n",
    "$$S_{ij}^{AO}(t;t+dt)= <\\chi_i(t)|\\chi_j(t+dt)>$$\n",
    "\n",
    "Using the MOs `C(t)` and `C(t+dt)` determined from the SCF calculations at every geometry, we can compute the time-overlaps in the MO basis:\n",
    "\n",
    "$$S_{ij}^{MO}(t;t+dt)= \\sum_{ab} { C_{ia}(t) S_{ab}^{AO}(t; t+dt) C_{bj}(t+dt) } $$\n",
    "\n",
    "In all cases, we will be using the `step2_ergoscf.run_step2` function:\n",
    "<a name=\"run_step2-1\"></a>"
   ]
  },
  {
   "cell_type": "code",
   "execution_count": 4,
   "metadata": {},
   "outputs": [
    {
     "name": "stdout",
     "output_type": "stream",
     "text": [
      "Help on function run_step2 in module libra_py.workflows.nbra.step2_ergoscf:\n",
      "\n",
      "run_step2(params, run1, run2)\n",
      "    Calculate the overlaps, transition dipole moments, and vibronic Hamiltonian matrix elements in the AO basis\n",
      "    \n",
      "    Args:\n",
      "        params ( dictionary ): the control parameters of the simulation\n",
      "        \n",
      "        * **params[\"dt\"]** ( double ): nuclear dynamics timestep - as encoded in the trajectory [ units: a.u., default: 41.0 ]\n",
      "        * **params[\"isnap\"]** ( int ): initial frame  [ default: 0 ]\n",
      "        * **params[\"fsnap\"]** ( int ): final frame  [ default: 1 ]\n",
      "        * **params[\"out_dir\"]** ( string ): the path to the directory that will collect all the results\n",
      "            If the directory doesn't exist, it will be created  [ default: \"res\" ]\n",
      "    \n",
      "        * **params[\"EXE\"]** ( string ): path to the ErgoSCF executable [ default: ergo ]\n",
      "        * **params[\"md_file\"]** ( string ): the name of the xyz file containing the trajectory - the \n",
      "            file should be in the general xyz format. [default: \"md.xyz\"]\n",
      "        * **params[\"mo_active_space\"]** ( list of ints or None ): indices of the MOs we care about \n",
      "            The indexing starts from 0, not 1! If set to None - all MOs will be returned. [default: None]\n",
      "        * **params[\"mo_indexing_convention\"]** ( string ): orbital indexing convention:\n",
      "            - \"rel\" : relative, with respect to the HOMO position: HOMO = 0, HOMO-1 = -1, LUMO = 1, etc. [default]\n",
      "            - \"abs\" : absolute, with respect to all possible MOs of the system \n",
      "        * **params[\"direct_MO\"]** ( int ): a flag to decide to use orbitals as read from \n",
      "            the ErgoSCF output:\n",
      "            - 0 : read in the Fock matrices and diagonalize them internally\n",
      "            - 1 : read the MOs produced by ErgoSCF, this is the option to really go \n",
      "                with the linear-scaling costs [ default ]\n",
      "        * **params[\"spinpolarized\"]** ( int ): whether the ErgoSCF calculations (and hence the\n",
      "            following post-processing) are done withing the restricted or unrestricted formulation:\n",
      "            - 0 : non-spin-polarized (restricted) [ default ] \n",
      "            - 1 : spin-polarized (unrestricted)\n",
      "    \n",
      "        SeeAlso:  the description of the parameters in ```do_ovlp(i, params)``` and in ```do_step(i, params)```\n",
      "    \n",
      "    Returns:\n",
      "        None: but generates the files (S, St, and hvib) indexed in the range [isnap, fsnap), for \n",
      "        instance, if isnap = 0, fsnap = 3, we will have files hvib_0, hvib_1, hvib_2\n",
      "\n"
     ]
    }
   ],
   "source": [
    "help(step2_ergoscf.run_step2)"
   ]
  },
  {
   "cell_type": "markdown",
   "metadata": {},
   "source": [
    "### 2.1. Restricted HF (RHF) case\n",
    "<a name=\"case-1\"></a>[Back to TOC](#TOC)\n",
    "\n",
    "First, lets define the function to run the ErgoSCF calculations for each geometry. \n",
    "\n",
    "This function essentially defines the core of the input file to the ErgoSCF code. \n",
    "\n",
    "In this file we define all the key parameters, such as:\n",
    "\n",
    "* basis - in this case, STO-3G\n",
    "* spin polarization - in this case we do non-spin-polarized calculations\n",
    "* electronic structure method - in this case we use one of the pure density functionals \"LDA\"\n",
    "\n",
    "We also instruct ErgoSCF to produce Fock matrix in the AO basis (with the **scf.create_mtx_files_F = 1**), the AO overlap matrix (with the **scf.create_mtx_file_S = 1**)\n",
    "\n",
    "To ensure we take advantage of some parallelizaiton, we also instruct ErgoSCF to detect the number of available threads \n",
    "(with the **set_nthreads(\"detect\")**)\n",
    "\n",
    "Note the \"Angstrom\" keyword following the \"molecule_inline\" - it indicates that the input is provided in Angstrom units.\n",
    "If your input (e.g. in the xyz trajectory file) is in the a.u. (Bohr) units, just remove the \"Angstrom\" keyword\n",
    "\n",
    "All of the above parameters will be kept constant during the run, only the coordinates and the name of the executable will be changed in the run.\n"
   ]
  },
  {
   "cell_type": "code",
   "execution_count": 5,
   "metadata": {},
   "outputs": [],
   "source": [
    "def scf_restricted(EXE, COORDS):\n",
    "    inp = \"\"\"#!bin/sh\n",
    "%s << EOINPUT > /dev/null\n",
    "set_nthreads(\"detect\")\n",
    "spin_polarization = 0\n",
    "molecule_inline Angstrom\n",
    "%sEOF\n",
    "basis = \"STO-3G\"\n",
    "use_simple_starting_guess=1\n",
    "scf.create_mtx_files_F = 1\n",
    "scf.create_mtx_file_S = 1\n",
    "XC.sparse_mode = 1\n",
    "run \"LDA\"\n",
    "EOINPUT\n",
    "\"\"\" % (EXE, COORDS)\n",
    "    return inp"
   ]
  },
  {
   "cell_type": "markdown",
   "metadata": {},
   "source": [
    "We also define a similar function to run the calculations for the \"weird\" geometry, when two snapshots are overlapped and form a \"super-molecule\". The super-molecule will be composed of the molecular geometries at two adjacent timesteps t and t+dt as extracted from the MD trajectory file. Then, the off-diagonal block matrix will contain the overlaps bettween AOs centered at displaced geometries - this is something we'll need to compute transition density matrices. \n",
    "\n",
    "Of course, the SCF on such a supermolecule doesn't make sense and will probably not converge. That's why we instruct ErgoSCF to just compute the AO matrix and quit (with **scf.create_mtx_files_S_and_quit = 1**), not to do the costly and meaningless SCF calculations."
   ]
  },
  {
   "cell_type": "code",
   "execution_count": 6,
   "metadata": {},
   "outputs": [],
   "source": [
    "def compute_AO_overlaps(EXE, COORDS):\n",
    "    inp = \"\"\"#!bin/sh\n",
    "%s << EOINPUT > /dev/null\n",
    "spin_polarization = 0\n",
    "molecule_inline Angstrom\n",
    "%sEOF\n",
    "basis = \"STO-3G\"\n",
    "use_simple_starting_guess=1\n",
    "scf.create_mtx_file_S = 1\n",
    "scf.create_mtx_files_S_and_quit = 1\n",
    "XC.sparse_mode = 1\n",
    "run \"LDA\"\n",
    "EOINPUT\n",
    "\"\"\" % (EXE, COORDS)\n",
    "    return inp"
   ]
  },
  {
   "cell_type": "markdown",
   "metadata": {},
   "source": [
    "Ok, so now we can run the step2 calculations! \n",
    "\n",
    "\n",
    "**IMPORTANT:** before running the \"run_step2\", don't forget to create the corresponding output directory, since this is where the results will be printed out.\n",
    "\n",
    "In this case:\n",
    "\n",
    "* we expect to produce the orbitals ourselves: (**\"direct_MO\":0**)\n",
    "* because of this, the indexing of the active space orbitals is done in the absolute indexing convention: (**\"mo_indexing_convention\":\"abs\"**)\n",
    "* we expect that SCF is done without spin polarization (as setup in the function above): (**\"spinpolarized\":0**)\n",
    "<a name=\"run_step2-2\"></a>"
   ]
  },
  {
   "cell_type": "code",
   "execution_count": 7,
   "metadata": {},
   "outputs": [],
   "source": [
    "params = {\"EXE\":\"ergo\", \"md_file\":\"md1.xyz\",\n",
    "          \"isnap\":0, \"fsnap\":5, \"dt\": 1.0 * units.fs2au,\n",
    "          \"out_dir\": \"restricted_indirect\",\n",
    "          \"mo_indexing_convention\":\"abs\", \"direct_MO\":0, \"spinpolarized\":0\n",
    "         }\n",
    "\n",
    "os.system(\"mkdir restricted_indirect\")\n",
    "step2_ergoscf.run_step2(params, scf_restricted, compute_AO_overlaps)"
   ]
  },
  {
   "cell_type": "markdown",
   "metadata": {},
   "source": [
    "### 2.2. Unrestricted HF (UHF) case\n",
    "<a name=\"case-2\"></a>[Back to TOC](#TOC)\n",
    "\n",
    "In this case, we want to perfom spin-polarized calculation on a singlet.\n",
    "\n",
    "In ErgoSCF we can enforce such type of calculations with **scf.force_unrestricted = 1** \n",
    "\n",
    "Moreover, for the unrestricted calculations to be really meaningfull, we need to break the initial symmetry of orbitals. This is done via **scf.starting_guess_disturbance = 0.01**"
   ]
  },
  {
   "cell_type": "code",
   "execution_count": 8,
   "metadata": {},
   "outputs": [],
   "source": [
    "def scf_unrestricted(EXE, COORDS):\n",
    "    inp = \"\"\"#!bin/sh\n",
    "%s << EOINPUT > /dev/null\n",
    "set_nthreads(\"detect\")\n",
    "spin_polarization = 0\n",
    "molecule_inline Angstrom\n",
    "%sEOF\n",
    "basis = \"STO-3G\"\n",
    "use_simple_starting_guess=1\n",
    "scf.create_mtx_files_F = 1\n",
    "scf.create_mtx_file_S = 1\n",
    "XC.sparse_mode = 1\n",
    "scf.force_unrestricted = 1\n",
    "scf.starting_guess_disturbance = 0.01\n",
    "run \"LDA\"\n",
    "EOINPUT\n",
    "\"\"\" % (EXE, COORDS)\n",
    "    return inp"
   ]
  },
  {
   "cell_type": "markdown",
   "metadata": {},
   "source": [
    "**IMPORTANT:** before running the \"run_step2\", don't forget to create the corresponding output directory, since this is where the results will be printed out.\n",
    "\n",
    "According to our ErgoSCF setup, we also need to change some parameters in the **run_step2** function.\n",
    "\n",
    "In comparison to Case 1, in this case we change this:\n",
    "\n",
    "* we expect that SCF is done wit the spin polarization (as setup in the function above): (**\"spinpolarized\":1**)"
   ]
  },
  {
   "cell_type": "code",
   "execution_count": 9,
   "metadata": {},
   "outputs": [],
   "source": [
    "params = {\"EXE\":\"ergo\", \"md_file\":\"md1.xyz\",\n",
    "          \"isnap\":0, \"fsnap\":5, \"dt\": 1.0 * units.fs2au,\n",
    "          \"out_dir\": \"unrestricted_indirect\",\n",
    "          \"mo_indexing_convention\":\"abs\", \"direct_MO\":0, \"spinpolarized\":1\n",
    "         }\n",
    "\n",
    "os.system(\"mkdir unrestricted_indirect\")\n",
    "step2_ergoscf.run_step2(params, scf_unrestricted, compute_AO_overlaps)"
   ]
  },
  {
   "cell_type": "markdown",
   "metadata": {},
   "source": [
    "## 3. Direct ErgoSCF MOs approach\n",
    "<a name=\"direct_mo\"></a>[Back to TOC](#TOC)\n",
    "\n",
    "Now, we are about to setup calculations in such as way that ErgoSCF would produce the orbital eigenvalues as well as corresponding orbitals. \n",
    "\n",
    "This is done with the function below. \n",
    "\n",
    "Note, it differs from that in Case 1 only by:\n",
    "\n",
    "* **scf.output_homo_and_lumo_eigenvectors = 1** - to request the printout of the orbitals and their eigenvalues\n",
    "* **scf.number_of_occupied_eigenvectors = 2** - to setup how many occupied orbitals we want to produce. LiH molecule has only 4 electrons, so we can have only 2 occupied orbitals (H-1 and H), so we request 2. Don't set this number to larger than what can be accommodated, or the program may not work correctly.\n",
    "* **scf.number_of_unoccupied_eigenvectors = 2** - to setup how many unoccupied orbitals we want to produce. This number is defined by the basis size. For instance, if using STO-3G on He2, one can not have any unoccupied orbitals, if using STO-3G on H2 or HF molecules, one can have only 1 unoccupied orbital. In this example, we have enough orbitals to have 2 unoccupied orbitals requested. Don't set this number to larger than what can be accommodated by the basis size, or the program may not work correctly.\n",
    "* **scf.eigenvectors_method = \"projection\"** - this parameter has to be used, if the above key-words are defined. The default value for this parameters won't work."
   ]
  },
  {
   "cell_type": "markdown",
   "metadata": {},
   "source": [
    "### 3.1. Restricted HF (RHF) case\n",
    "<a name=\"case-3\"></a>[Back to TOC](#TOC)\n",
    "\n",
    "We start with the setups for RHF calculations"
   ]
  },
  {
   "cell_type": "code",
   "execution_count": 10,
   "metadata": {},
   "outputs": [],
   "source": [
    "def scf_restricted_direct(EXE, COORDS):\n",
    "    inp = \"\"\"#!bin/sh\n",
    "%s << EOINPUT > /dev/null\n",
    "set_nthreads(\"detect\")\n",
    "spin_polarization = 0\n",
    "molecule_inline Angstrom\n",
    "%sEOF\n",
    "basis = \"STO-3G\"\n",
    "use_simple_starting_guess=1\n",
    "scf.create_mtx_files_F = 1\n",
    "scf.create_mtx_file_S = 1\n",
    "XC.sparse_mode = 1\n",
    "\n",
    "scf.output_homo_and_lumo_eigenvectors = 1\n",
    "scf.number_of_occupied_eigenvectors = 2\n",
    "scf.number_of_unoccupied_eigenvectors = 2\n",
    "scf.eigenvectors_method = \"projection\"\n",
    "\n",
    "run \"LDA\"\n",
    "EOINPUT\n",
    "\"\"\" % (EXE, COORDS)\n",
    "    return inp"
   ]
  },
  {
   "cell_type": "markdown",
   "metadata": {},
   "source": [
    "Now, we need to reflect the type of calculations in our **run_step2** function\n",
    "\n",
    "**IMPORTANT:** before running the \"run_step2\", don't forget to create the corresponding output directory, since this is where the results will be printed out.\n",
    "\n",
    "In this case:\n",
    "\n",
    "* we expect to read the MOs and orbital energies from ErgoSCF output: (**\"direct_MO\":1**)\n",
    "* because of this, the indexing of the active space orbitals is done in the relative indexing convention: (**\"mo_indexing_convention\":\"rel\"**)\n",
    "* we expect that SCF is done without spin polarization (as setup in the function above): (**\"spinpolarized\":0**)\n",
    "\n",
    "<a name=\"run_step2-3\"></a>"
   ]
  },
  {
   "cell_type": "code",
   "execution_count": 11,
   "metadata": {},
   "outputs": [],
   "source": [
    "params = {\"EXE\":\"ergo\", \"md_file\":\"md1.xyz\",\n",
    "          \"isnap\":0, \"fsnap\":5, \"dt\": 1.0 * units.fs2au,\n",
    "          \"out_dir\": \"restricted_direct\",\n",
    "          \"mo_indexing_convention\":\"rel\", \"direct_MO\":1, \"spinpolarized\":0\n",
    "         }\n",
    "\n",
    "os.system(\"mkdir restricted_direct\")\n",
    "step2_ergoscf.run_step2(params, scf_restricted_direct, compute_AO_overlaps)"
   ]
  },
  {
   "cell_type": "markdown",
   "metadata": {},
   "source": [
    "### 3.2. Unestricted HF (UHF) case\n",
    "<a name=\"case-4\"></a>[Back to TOC](#TOC)\n",
    "\n",
    "... and continue with the example for the unrestricted case\n",
    "\n",
    "This is just a hybrid of Case 2 (how to setup spin-polarized calculations in ErgoSCF and run_step2) and Case 3 (how to setup direct MO calculations to be performed by ErgoSCF)"
   ]
  },
  {
   "cell_type": "code",
   "execution_count": 12,
   "metadata": {},
   "outputs": [],
   "source": [
    "def scf_unrestricted_direct(EXE, COORDS):\n",
    "    inp = \"\"\"#!bin/sh\n",
    "%s << EOINPUT > /dev/null\n",
    "set_nthreads(\"detect\")\n",
    "spin_polarization = 0\n",
    "molecule_inline Angstrom\n",
    "%sEOF\n",
    "basis = \"STO-3G\"\n",
    "use_simple_starting_guess=1\n",
    "scf.create_mtx_files_F = 1\n",
    "scf.create_mtx_file_S = 1\n",
    "XC.sparse_mode = 1\n",
    "scf.force_unrestricted = 1\n",
    "scf.starting_guess_disturbance = 0.01\n",
    "\n",
    "scf.output_homo_and_lumo_eigenvectors = 1\n",
    "scf.number_of_occupied_eigenvectors = 2\n",
    "scf.number_of_unoccupied_eigenvectors = 2\n",
    "scf.eigenvectors_method = \"projection\"\n",
    "\n",
    "run \"LDA\"\n",
    "EOINPUT\n",
    "\"\"\" % (EXE, COORDS)\n",
    "    return inp"
   ]
  },
  {
   "cell_type": "code",
   "execution_count": 13,
   "metadata": {},
   "outputs": [],
   "source": [
    "params = {\"EXE\":\"ergo\", \"md_file\":\"md1.xyz\",\n",
    "          \"isnap\":0, \"fsnap\":5, \"dt\": 1.0 * units.fs2au,\n",
    "          \"out_dir\": \"unrestricted_direct\",\n",
    "          \"mo_indexing_convention\":\"rel\", \"direct_MO\":1, \"spinpolarized\":1\n",
    "         }\n",
    "\n",
    "os.system(\"mkdir unrestricted_direct\")\n",
    "step2_ergoscf.run_step2(params, scf_unrestricted_direct, compute_AO_overlaps)"
   ]
  },
  {
   "cell_type": "markdown",
   "metadata": {},
   "source": [
    "## 4. Optional clean up\n",
    "<a name=\"cleanup\"></a>[Back to TOC](#TOC)\n",
    "\n",
    "To remove all the files and folders created by this tutorial, uncommend the below line"
   ]
  },
  {
   "cell_type": "code",
   "execution_count": 14,
   "metadata": {},
   "outputs": [],
   "source": [
    "#!sh ./clean.sh"
   ]
  },
  {
   "cell_type": "code",
   "execution_count": null,
   "metadata": {},
   "outputs": [],
   "source": []
  }
 ],
 "metadata": {
  "kernelspec": {
   "display_name": "Python 3",
   "language": "python",
   "name": "python3"
  },
  "language_info": {
   "codemirror_mode": {
    "name": "ipython",
    "version": 3
   },
   "file_extension": ".py",
   "mimetype": "text/x-python",
   "name": "python",
   "nbconvert_exporter": "python",
   "pygments_lexer": "ipython3",
   "version": "3.6.13"
  }
 },
 "nbformat": 4,
 "nbformat_minor": 2
}
