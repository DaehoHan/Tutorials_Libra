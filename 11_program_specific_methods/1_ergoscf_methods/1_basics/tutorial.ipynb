{
 "cells": [
  {
   "cell_type": "markdown",
   "metadata": {},
   "source": [
    "# ErgoSCF methods: Basics"
   ]
  },
  {
   "cell_type": "markdown",
   "metadata": {},
   "source": [
    "## Table of Content <a name=\"TOC\"></a>\n",
    "\n",
    "1. [General setups](#setups)\n",
    "\n",
    "2. [Run ErgoSCF calculations](#run_ergoscf) \n",
    "\n",
    "3. [Read ErgoSCF calculations data and do some math with it](#read_ergoscf) \n",
    "\n",
    "4. [Optional cleanup](#cleanup) "
   ]
  },
  {
   "cell_type": "markdown",
   "metadata": {},
   "source": [
    "### A. Learning objectives\n",
    "\n",
    "- to setup and run electronic structure calculations with ErgoSCF package\n",
    "- to parse the output of the ErgoSCF calculations and convert them to Python data\n",
    "- to do math with the electronic structure calculations data obtained from ErgoSCF\n",
    "\n",
    "\n",
    "### B. Use cases\n",
    "\n",
    "- using ErgoSCF data with Libra\n",
    "\n",
    "\n",
    "### C. Functions\n",
    "\n",
    "- `libra_py`\n",
    "  - `data_outs`\n",
    "    - [`print_matrix`](#print_matrix-1)\n",
    "  - `ERGO_methods`\n",
    "    - [`get_mtx_matrices`](#get_mtx_matrices-1)\n",
    "    - [`read_mo_restricted`](#read_mo_restricted-1)\n",
    "    - [`read_mo_unrestricted`](#read_mo_unrestricted-1)\n",
    "    - [`read_spectrum_restricted`](#read_spectrum_restricted-1)\n",
    "    - [`read_spectrum_unrestricted`](#read_spectrum_unrestricted-1)\n",
    "    \n",
    "\n",
    "### D. Classes and class members\n",
    "\n",
    "- `liblibra::liblinalg`\n",
    "  - `CMATRIX`\n",
    "    - [`real`](#real-1)\n",
    "    - [`H`](#H-1)\n",
    "    - [`show_matrix`](#show_matrix-1)\n"
   ]
  },
  {
   "cell_type": "markdown",
   "metadata": {},
   "source": [
    "## 1. General setups\n",
    "<a name=\"setups\"></a> [Back to TOC](#TOC)"
   ]
  },
  {
   "cell_type": "code",
   "execution_count": 1,
   "metadata": {
    "scrolled": false
   },
   "outputs": [
    {
     "name": "stderr",
     "output_type": "stream",
     "text": [
      "/home/alexey/miniconda2/envs/py37/lib/python3.7/importlib/_bootstrap.py:219: RuntimeWarning: to-Python converter for std::vector<std::vector<int, std::allocator<int> >, std::allocator<std::vector<int, std::allocator<int> > > > already registered; second conversion method ignored.\n",
      "  return f(*args, **kwds)\n",
      "/home/alexey/miniconda2/envs/py37/lib/python3.7/importlib/_bootstrap.py:219: RuntimeWarning: to-Python converter for boost::python::detail::container_element<std::vector<std::vector<int, std::allocator<int> >, std::allocator<std::vector<int, std::allocator<int> > > >, unsigned long, boost::python::detail::final_vector_derived_policies<std::vector<std::vector<int, std::allocator<int> >, std::allocator<std::vector<int, std::allocator<int> > > >, false> > already registered; second conversion method ignored.\n",
      "  return f(*args, **kwds)\n",
      "/home/alexey/miniconda2/envs/py37/lib/python3.7/importlib/_bootstrap.py:219: RuntimeWarning: to-Python converter for std::vector<std::vector<float, std::allocator<float> >, std::allocator<std::vector<float, std::allocator<float> > > > already registered; second conversion method ignored.\n",
      "  return f(*args, **kwds)\n",
      "/home/alexey/miniconda2/envs/py37/lib/python3.7/importlib/_bootstrap.py:219: RuntimeWarning: to-Python converter for boost::python::detail::container_element<std::vector<std::vector<float, std::allocator<float> >, std::allocator<std::vector<float, std::allocator<float> > > >, unsigned long, boost::python::detail::final_vector_derived_policies<std::vector<std::vector<float, std::allocator<float> >, std::allocator<std::vector<float, std::allocator<float> > > >, false> > already registered; second conversion method ignored.\n",
      "  return f(*args, **kwds)\n",
      "/home/alexey/miniconda2/envs/py37/lib/python3.7/importlib/_bootstrap.py:219: RuntimeWarning: to-Python converter for std::vector<std::vector<double, std::allocator<double> >, std::allocator<std::vector<double, std::allocator<double> > > > already registered; second conversion method ignored.\n",
      "  return f(*args, **kwds)\n",
      "/home/alexey/miniconda2/envs/py37/lib/python3.7/importlib/_bootstrap.py:219: RuntimeWarning: to-Python converter for boost::python::detail::container_element<std::vector<std::vector<double, std::allocator<double> >, std::allocator<std::vector<double, std::allocator<double> > > >, unsigned long, boost::python::detail::final_vector_derived_policies<std::vector<std::vector<double, std::allocator<double> >, std::allocator<std::vector<double, std::allocator<double> > > >, false> > already registered; second conversion method ignored.\n",
      "  return f(*args, **kwds)\n",
      "/home/alexey/miniconda2/envs/py37/lib/python3.7/importlib/_bootstrap.py:219: RuntimeWarning: to-Python converter for std::vector<std::vector<std::complex<double>, std::allocator<std::complex<double> > >, std::allocator<std::vector<std::complex<double>, std::allocator<std::complex<double> > > > > already registered; second conversion method ignored.\n",
      "  return f(*args, **kwds)\n",
      "/home/alexey/miniconda2/envs/py37/lib/python3.7/importlib/_bootstrap.py:219: RuntimeWarning: to-Python converter for boost::python::detail::container_element<std::vector<std::vector<std::complex<double>, std::allocator<std::complex<double> > >, std::allocator<std::vector<std::complex<double>, std::allocator<std::complex<double> > > > >, unsigned long, boost::python::detail::final_vector_derived_policies<std::vector<std::vector<std::complex<double>, std::allocator<std::complex<double> > >, std::allocator<std::vector<std::complex<double>, std::allocator<std::complex<double> > > > >, false> > already registered; second conversion method ignored.\n",
      "  return f(*args, **kwds)\n"
     ]
    }
   ],
   "source": [
    "import os\n",
    "import sys\n",
    "\n",
    "if sys.platform==\"cygwin\":\n",
    "    from cyglibra_core import *\n",
    "elif sys.platform==\"linux\" or sys.platform==\"linux2\":\n",
    "    from liblibra_core import *\n",
    "\n",
    "import util.libutil as comn\n",
    "from libra_py import ERGO_methods\n",
    "from libra_py import units\n",
    "from libra_py import data_read, data_outs\n"
   ]
  },
  {
   "cell_type": "markdown",
   "metadata": {},
   "source": [
    "## 2. Run ErgoSCF calculations\n",
    "<a name=\"run_ergoscf\"></a> [Back to TOC](#TOC)\n",
    "\n",
    "In this tutorial, we are going to use the [ErgoSCF](http://ergoscf.org/) package. \n",
    "\n",
    "> ### **<p style=\"color:red\">Requirements:</p>**\n",
    ">\n",
    ">  - any version above 3.8 (at the point of writing this tutorial, this is the latest version)\n",
    ">  - the \"ergo\" executable is added to the `$PATH` environment variable\n",
    "\n",
    "In the next cell, we create an input script to run the ErgoSCF code.\n",
    "\n",
    "Most of the input parameters are rather intuitive and i'm not going into many details. I only highlight some important points:\n",
    "\n",
    "* coordinates are given in Angstrom \n",
    "* `scf.create_mtx_files_D = 1` - request to print out the density matrices in the AO basis. As a result, the following files are generated:\n",
    "  - *D_matrix_alpha_\\<num\\>.mtx* and *D_matrix_beta_<num>.mtx*, where \\<num\\> is the index of the SCF iteration\n",
    "* `scf.create_mtx_files_F = 1` - request to print out the Fock matrices in the AO basis. As a result, the following files are generated:\n",
    "  - *F_matrix_alpha_\\<num\\>.mtx* and *F_matrix_beta_<num>.mtx*, where \\<num\\> is the index of the SCF iteration\n",
    "* `scf.create_mtx_files_S = 1` - request to print out the AO overlap matrices. As a result, the following files are generated:\n",
    "  - *S_matrix_alpha_\\<num\\>.mtx* and *S_matrix_beta_<num>.mtx*, where \\<num\\> is the index of the SCF iteration\n",
    "* `scf.output_homo_and_lumo_eigenvectors = 1` - turn on the printing out of the computed MOs\n",
    "* `scf.number_of_occupied_eigenvectors = 3` - request to print out 3 occupied orbitals, as a result, the following files will be produced:\n",
    "  - *homo_coefficient_vec_alpha.txt* and *homo_coefficient_vec_beta.txt*  for **HOMO**\n",
    "  - *occ_1_coefficient_vec_alpha.txt* and *occ_1_coefficient_vec_beta.txt*  for **HOMO-1**\n",
    "  - *occ_2_coefficient_vec_alpha.txt* and *occ_2_coefficient_vec_beta.txt*  for **HOMO-2**  \n",
    "* `scf.number_of_unoccupied_eigenvectors = 2` - request to print out 2 unoccupied orbitals, as a result, the following files will be produced:\n",
    "  - *lumo_coefficient_vec_alpha.txt* and *lumo_coefficient_vec_beta.txt*  for **LUMO**\n",
    "  - *unocc_1_coefficient_vec_alpha.txt* and *unocc_1_coefficient_vec_beta.txt*  for **LUMO+1**\n",
    "* `scf.eigenvectors_method = \"projection\"` - needed to be there, for the orbital print outs to work\n",
    "\n",
    "In addition to the files described above, the files that contain energies (in Ha units) of the requested occupied and unoccupied orbitals are also printed out in the following files:\n",
    "  - *occupied_spectrum_alpha.txt* and *occupied_spectrum_beta.txt*\n",
    "  - *unoccupied_spectrum_alpha.txt* and *unoccupied_spectrum_beta.txt*\n",
    "  \n",
    "The generation of the \"alpha\" and \"beta\" files is done for the unrestricted SCF calculations, which is requested via `scf.force_unrestricted = 1`"
   ]
  },
  {
   "cell_type": "code",
   "execution_count": 2,
   "metadata": {},
   "outputs": [],
   "source": [
    "file_content = \"\"\"ergo <<EOINPUT > /dev/null\n",
    "spin_polarization = 0\n",
    "charge = 0\n",
    "molecule_inline\n",
    "F    0  0  0.0\n",
    "H    0  0  1.0\n",
    "EOF\n",
    "basis = \"6-31G\"\n",
    "use_simple_starting_guess=1\n",
    "tmpdir = \"./tmp\"\n",
    "set_nthreads(\"detect\")\n",
    "scf.create_mtx_files_D = 1\n",
    "scf.create_mtx_files_F = 1\n",
    "scf.create_mtx_file_S = 1\n",
    "scf.output_homo_and_lumo_eigenvectors = 1\n",
    "scf.number_of_occupied_eigenvectors = 3\n",
    "scf.number_of_unoccupied_eigenvectors = 2\n",
    "scf.eigenvectors_method = \"projection\"\n",
    "XC.sparse_mode = 1\n",
    "scf.force_unrestricted = 1\n",
    "scf.starting_guess_disturbance = 0.01\n",
    "\n",
    "run \"HF\"\n",
    "\n",
    "\"\"\"\n",
    "\n",
    "f = open(\"run_ergoscf.sh\", \"w\")\n",
    "f.write(file_content)\n",
    "f.close()"
   ]
  },
  {
   "cell_type": "markdown",
   "metadata": {},
   "source": [
    "Once the file is generated, we can execute ErgoSCF. For this small problem, it can be run as simple as:"
   ]
  },
  {
   "cell_type": "code",
   "execution_count": 3,
   "metadata": {},
   "outputs": [
    {
     "data": {
      "text/plain": [
       "0"
      ]
     },
     "execution_count": 3,
     "metadata": {},
     "output_type": "execute_result"
    }
   ],
   "source": [
    "os.system(\"sh ./run_ergoscf.sh\")"
   ]
  },
  {
   "cell_type": "markdown",
   "metadata": {},
   "source": [
    "## 3. Read ErgoSCF calculations data and do some math with it\n",
    "<a name=\"read_ergoscf\"></a> [Back to TOC](#TOC)\n",
    "\n",
    "The D_, F_, and S_ files in the .mtx format produced by ErgoSCF can be read into Libra's `CMATRIX` objects using the `get_mtx_matrices` function\n",
    "<a name=\"get_mtx_matrices-1\"></a>"
   ]
  },
  {
   "cell_type": "code",
   "execution_count": 4,
   "metadata": {},
   "outputs": [
    {
     "name": "stdout",
     "output_type": "stream",
     "text": [
      "Help on function get_mtx_matrices in module libra_py.ERGO_methods:\n",
      "\n",
      "get_mtx_matrices(filename, act_sp1=None, act_sp2=None)\n",
      "    Get the matrices printed out by the DFTB+\n",
      "    \n",
      "    Args: \n",
      "        filename ( string ): the name of the file to read. In the MatrixMarket (mtx) format\n",
      "        act_sp1 ( list of ints or None): the row active space to extract from the original files\n",
      "            Indices here start from 0. If set to None - the number of AOs will be\n",
      "            determined automatically from the file. [default: None]\n",
      "        act_sp2 ( list of ints or None): the cols active space to extract from the original files\n",
      "            Indices here start from 0. If set to None - the number of AOs will be\n",
      "            determined automatically from the file. [default: None]\n",
      "    \n",
      "    Returns: \n",
      "        list of CMATRIX(N, M): X: where N = len(act_sp1) and M = len(act_sp2) \n",
      "            These are the corresponding property matrices (converted to the complex type)\n",
      "\n"
     ]
    }
   ],
   "source": [
    "help(ERGO_methods.get_mtx_matrices)"
   ]
  },
  {
   "cell_type": "markdown",
   "metadata": {},
   "source": [
    "<a name=\"show_matrix-1\"></a><a name=\"print_matrix-1\"></a><a name=\"real-1\"></a>"
   ]
  },
  {
   "cell_type": "code",
   "execution_count": 5,
   "metadata": {},
   "outputs": [
    {
     "name": "stdout",
     "output_type": "stream",
     "text": [
      "S\n",
      "1.0  0.2443080145  0.1716329727  0.0  0.0  0.0  0.0  0.0  0.0  0.1285075482  0.08268807939  \n",
      "0.2443080145  1.0  0.7635106529  0.0  0.0  0.0  0.0  0.0  0.0  0.5872040235  0.4422928659  \n",
      "0.1716329727  0.7635106529  1.0  0.0  0.0  0.0  0.0  0.0  0.0  0.6968240601  0.7965108884  \n",
      "0.0  0.0  0.0  1.0  0.0  0.0  0.4995168866  0.0  0.0  0.0  0.0  \n",
      "0.0  0.0  0.0  0.0  1.0  0.0  0.0  0.4995168866  0.0  0.4266534586  0.08480274693  \n",
      "0.0  0.0  0.0  0.0  0.0  1.0  0.0  0.0  0.4995168866  0.0  0.0  \n",
      "0.0  0.0  0.0  0.4995168866  0.0  0.0  1.0  0.0  0.0  0.0  0.0  \n",
      "0.0  0.0  0.0  0.0  0.4995168866  0.0  0.0  1.0  0.0  0.5614608836  0.2960078781  \n",
      "0.0  0.0  0.0  0.0  0.0  0.4995168866  0.0  0.0  1.0  0.0  0.0  \n",
      "0.1285075482  0.5872040235  0.6968240601  0.0  0.4266534586  0.0  0.0  0.5614608836  0.0  1.0  0.6582920493  \n",
      "0.08268807939  0.4422928659  0.7965108884  0.0  0.08480274693  0.0  0.0  0.2960078781  0.0  0.6582920493  1.0  \n"
     ]
    }
   ],
   "source": [
    "S = ERGO_methods.get_mtx_matrices(\"S_matrix.mtx\")\n",
    "print(\"S\"); S.show_matrix()\n",
    "data_outs.print_matrix(S.real())"
   ]
  },
  {
   "cell_type": "markdown",
   "metadata": {},
   "source": [
    "Here, I decided to print out only the real part of the constructed matrices (because they ARE real even though we store them in a complex format).\n",
    "\n",
    "The orbital energies are read by the functions `read_spectrum_unrestricted` or `read_spectrum_restricted`\n",
    "<a name=\"read_spectrum_unrestricted-1\"></a>"
   ]
  },
  {
   "cell_type": "code",
   "execution_count": 6,
   "metadata": {},
   "outputs": [
    {
     "name": "stdout",
     "output_type": "stream",
     "text": [
      "Help on function read_spectrum_unrestricted in module libra_py.ERGO_methods:\n",
      "\n",
      "read_spectrum_unrestricted()\n",
      "    This function reads the eigenspectrum files\n",
      "    produced by ErgoSCF in the case of spin-polarized\n",
      "    (unrestricted) formulation.\n",
      "    The names of the files are known, so the we do not need\n",
      "    any arguments\n",
      "    \n",
      "    Note: the ordering of the orbitals in the ErgoSCF is:\n",
      "    \n",
      "    occupied_spectrum.txt       |    unoccupied_spectrum.txt\n",
      "    ---------------------------------------------------------\n",
      "    H                                       L\n",
      "    H-1                                     L+1\n",
      "    ...                                     ...\n",
      "    \n",
      "    So, the occupied orbitals order is reverted in the created array\n",
      "    \n",
      "    \n",
      "    Args:  None\n",
      "    \n",
      "    Returns:\n",
      "        (list, list): ( [e_a, e_b], [nocc, nvirt])\n",
      "        \n",
      "        * e_a ( list of floats ): energies of the alpha orbitals printed out\n",
      "            this list contains both occupied and unoccupied orbitals\n",
      "        * e_b ( list of floats ): energies of the beta orbitals printed out\n",
      "            this list contains both occupied and unoccupied orbitals\n",
      "        * nocc ( int ): the number of occupied orbitals, it should be less than \n",
      "            len(e_a) and len(e_b)\n",
      "        * nvirt ( int ): the number of unoccupied orbitals, it should be less than \n",
      "            len(e_a) and len(e_b)\n",
      "\n"
     ]
    }
   ],
   "source": [
    "help(ERGO_methods.read_spectrum_unrestricted)"
   ]
  },
  {
   "cell_type": "code",
   "execution_count": 7,
   "metadata": {},
   "outputs": [
    {
     "name": "stdout",
     "output_type": "stream",
     "text": [
      "The number of occupied orbitals = 3\n",
      "The number unof occupier orbitals = 2\n",
      "Energies of the alpha orbitals = [-0.884284, -0.676967, -0.676967, 0.278798, 1.36203]\n",
      "Energies of the beta orbitals = [-0.884284, -0.676967, -0.676967, 0.278798, 1.36203]\n"
     ]
    }
   ],
   "source": [
    "[e_a, e_b], [nocc, nvirt] = ERGO_methods.read_spectrum_unrestricted() \n",
    "print(F\"The number of occupied orbitals = {nocc}\")\n",
    "print(F\"The number unof occupier orbitals = {nvirt}\")\n",
    "print(F\"Energies of the alpha orbitals = {e_a}\" )\n",
    "print(F\"Energies of the beta orbitals = {e_b}\" )"
   ]
  },
  {
   "cell_type": "markdown",
   "metadata": {},
   "source": [
    "To read the molecular orbitals, we use the `read_mo_unrestricted` or `read_mo_restricted` functions.\n",
    "<a name=\"read_mo_unrestricted-1\"></a>"
   ]
  },
  {
   "cell_type": "code",
   "execution_count": 8,
   "metadata": {},
   "outputs": [
    {
     "name": "stdout",
     "output_type": "stream",
     "text": [
      "Help on function read_mo_unrestricted in module libra_py.ERGO_methods:\n",
      "\n",
      "read_mo_unrestricted(nocc, nvirt, act_space=None)\n",
      "    This function reads the MO files\n",
      "    produced by ErgoSCF in the case of spin-polarized\n",
      "    (unrestricted) formulation.\n",
      "    The names of the files are known, so the we do not need\n",
      "    to specify that \n",
      "    \n",
      "    Args:  \n",
      "        nocc ( int ): the number of occupied orbitals in the pool of \n",
      "           the printed out MO files\n",
      "        nvirt ( int ): the number of unoccupied (virtual) orbitals in the pool of \n",
      "           the printed out MO files\n",
      "        act_space ( list of ints ): indices of the orbitals we are interested in\n",
      "            The indexing convention is relative to HOMO, that is 0 is HOMO, -1 is HOMO-1,\n",
      "            1 is LUMO, etc.\n",
      "    \n",
      "    Returns:\n",
      "        ( list ): ( [mo_a, mo_b] )\n",
      "        \n",
      "        * mo_a ( CMATRIX(nao, nocc+nvirt) ): alpha orbitals \n",
      "        * mo_b ( CMATRIX(nao, nocc+nvirt) ): beta orbitals\n",
      "\n"
     ]
    }
   ],
   "source": [
    "help(ERGO_methods.read_mo_unrestricted)"
   ]
  },
  {
   "cell_type": "code",
   "execution_count": 9,
   "metadata": {},
   "outputs": [
    {
     "name": "stdout",
     "output_type": "stream",
     "text": [
      "(-0.0938247+0j)  (-2.76384e-17+0j)  (2.98369e-18+0j)  (0.0734947+0j)  (-0.0413467+0j)  \n",
      "(0.206471+0j)  (2.77759e-17+0j)  (-1.10379e-18+0j)  (-0.0731801+0j)  (0.117965+0j)  \n",
      "(0.514182+0j)  (1.47245e-17+0j)  (1.44e-17+0j)  (-1.13243+0j)  (1.05287+0j)  \n",
      "(-2.00866e-17+0j)  (0.670749+0j)  (5.6759e-10+0j)  (1.72781e-18+0j)  (-1.96493e-15+0j)  \n",
      "(-0.574942+0j)  (1.96411e-17+0j)  (3.69367e-18+0j)  (-0.106776+0j)  (-0.638379+0j)  \n",
      "(-6.26862e-18+0j)  (-5.6759e-10+0j)  (0.670749+0j)  (-3.2325e-18+0j)  (-6.05316e-15+0j)  \n",
      "(8.82044e-18+0j)  (0.478801+0j)  (4.05163e-10+0j)  (-4.72598e-18+0j)  (-6.82723e-15+0j)  \n",
      "(-0.216848+0j)  (1.8773e-17+0j)  (3.44825e-18+0j)  (-0.243165+0j)  (1.61215+0j)  \n",
      "(-2.32594e-18+0j)  (-4.05163e-10+0j)  (0.478801+0j)  (-1.46093e-17+0j)  (-1.95543e-14+0j)  \n",
      "(-0.35764+0j)  (-6.01955e-17+0j)  (-1.34439e-17+0j)  (-0.0146777+0j)  (-0.891614+0j)  \n",
      "(-0.0406558+0j)  (-1.65669e-17+0j)  (-1.7499e-17+0j)  (1.74261+0j)  (-0.657494+0j)  \n"
     ]
    }
   ],
   "source": [
    "[mo_a, mo_b] = ERGO_methods.read_mo_unrestricted(nocc, nvirt) \n",
    "data_outs.print_matrix(mo_a)"
   ]
  },
  {
   "cell_type": "markdown",
   "metadata": {},
   "source": [
    "We may also decide to read only a subset of the orbitals printed out, by giving the `read_mo_unrestricted` function an additional parameter"
   ]
  },
  {
   "cell_type": "code",
   "execution_count": 10,
   "metadata": {},
   "outputs": [
    {
     "name": "stdout",
     "output_type": "stream",
     "text": [
      "(2.98369e-18+0j)  (0.0734947+0j)  \n",
      "(-1.10379e-18+0j)  (-0.0731801+0j)  \n",
      "(1.44e-17+0j)  (-1.13243+0j)  \n",
      "(5.6759e-10+0j)  (1.72781e-18+0j)  \n",
      "(3.69367e-18+0j)  (-0.106776+0j)  \n",
      "(0.670749+0j)  (-3.2325e-18+0j)  \n",
      "(4.05163e-10+0j)  (-4.72598e-18+0j)  \n",
      "(3.44825e-18+0j)  (-0.243165+0j)  \n",
      "(0.478801+0j)  (-1.46093e-17+0j)  \n",
      "(-1.34439e-17+0j)  (-0.0146777+0j)  \n",
      "(-1.7499e-17+0j)  (1.74261+0j)  \n"
     ]
    }
   ],
   "source": [
    "# Only HOMO and LUMO\n",
    "[mo_a, mo_b] = ERGO_methods.read_mo_unrestricted(nocc, nvirt, [0, 1]) \n",
    "data_outs.print_matrix(mo_a)"
   ]
  },
  {
   "cell_type": "code",
   "execution_count": 11,
   "metadata": {},
   "outputs": [
    {
     "name": "stdout",
     "output_type": "stream",
     "text": [
      "(-2.76384e-17+0j)  (2.98369e-18+0j)  (0.0734947+0j)  \n",
      "(2.77759e-17+0j)  (-1.10379e-18+0j)  (-0.0731801+0j)  \n",
      "(1.47245e-17+0j)  (1.44e-17+0j)  (-1.13243+0j)  \n",
      "(0.670749+0j)  (5.6759e-10+0j)  (1.72781e-18+0j)  \n",
      "(1.96411e-17+0j)  (3.69367e-18+0j)  (-0.106776+0j)  \n",
      "(-5.6759e-10+0j)  (0.670749+0j)  (-3.2325e-18+0j)  \n",
      "(0.478801+0j)  (4.05163e-10+0j)  (-4.72598e-18+0j)  \n",
      "(1.8773e-17+0j)  (3.44825e-18+0j)  (-0.243165+0j)  \n",
      "(-4.05163e-10+0j)  (0.478801+0j)  (-1.46093e-17+0j)  \n",
      "(-6.01955e-17+0j)  (-1.34439e-17+0j)  (-0.0146777+0j)  \n",
      "(-1.65669e-17+0j)  (-1.7499e-17+0j)  (1.74261+0j)  \n"
     ]
    }
   ],
   "source": [
    "# HOMO-1, HOMO and LUMO\n",
    "[mo_a, mo_b] = ERGO_methods.read_mo_unrestricted(nocc, nvirt, [-1, 0, 1]) \n",
    "data_outs.print_matrix(mo_a)"
   ]
  },
  {
   "cell_type": "code",
   "execution_count": 12,
   "metadata": {},
   "outputs": [
    {
     "name": "stdout",
     "output_type": "stream",
     "text": [
      "(-2.76384e-17+0j)  (-0.0413467+0j)  \n",
      "(2.77759e-17+0j)  (0.117965+0j)  \n",
      "(1.47245e-17+0j)  (1.05287+0j)  \n",
      "(0.670749+0j)  (-1.96493e-15+0j)  \n",
      "(1.96411e-17+0j)  (-0.638379+0j)  \n",
      "(-5.6759e-10+0j)  (-6.05316e-15+0j)  \n",
      "(0.478801+0j)  (-6.82723e-15+0j)  \n",
      "(1.8773e-17+0j)  (1.61215+0j)  \n",
      "(-4.05163e-10+0j)  (-1.95543e-14+0j)  \n",
      "(-6.01955e-17+0j)  (-0.891614+0j)  \n",
      "(-1.65669e-17+0j)  (-0.657494+0j)  \n"
     ]
    }
   ],
   "source": [
    "# Only HOMO-1 and LUMO+1\n",
    "[mo_a, mo_b] = ERGO_methods.read_mo_unrestricted(nocc, nvirt, [-1, 2]) \n",
    "data_outs.print_matrix(mo_a)"
   ]
  },
  {
   "cell_type": "markdown",
   "metadata": {},
   "source": [
    "We can verify the orthogonality of the MOs:"
   ]
  },
  {
   "cell_type": "code",
   "execution_count": 13,
   "metadata": {},
   "outputs": [
    {
     "name": "stdout",
     "output_type": "stream",
     "text": [
      "Alpha MO overlaps:\n",
      "0.9999992662854605  -1.0369497289083001e-17  -6.182642516871383e-18  9.190014209348174e-07  2.7119091646071736e-06  \n",
      "-1.0369497289083008e-17  0.999999601700957  -1.0339757570035447e-25  -2.119411174995724e-17  -7.343219899387014e-15  \n",
      "-6.182642516871385e-18  1.033975775007268e-25  0.999999601700957  -2.57093815265021e-17  -2.142392973432203e-14  \n",
      "9.190014212123732e-07  -2.1194111749957228e-17  -2.57093815265021e-17  1.0000073863916374  -1.1484164739172797e-06  \n",
      "2.7119091643018622e-06  -7.343219899387014e-15  -2.142392973432203e-14  -1.1484164737507463e-06  0.9999940625617334  \n",
      "Beta MO overlaps:\n",
      "0.9999992246529876  -2.373378355221236e-17  -3.976203774413897e-18  7.742751395589664e-07  2.6987061608613194e-06  \n",
      "-2.3733783552212356e-17  0.999999601700957  1.8879681060733448e-32  4.4576322151325894e-17  2.9353324524013863e-15  \n",
      "-3.976203774413884e-18  1.3454219514182278e-32  0.999999601700957  6.001679511762214e-17  2.2332941355000436e-15  \n",
      "7.742751397983583e-07  4.4576322151325826e-17  6.001679511762214e-17  1.0000073863916374  -1.1484164739172797e-06  \n",
      "2.6987061606149887e-06  2.9353324524013863e-15  2.233294135500044e-15  -1.1484164737507463e-06  0.9999940625617334  \n"
     ]
    }
   ],
   "source": [
    "S = ERGO_methods.get_mtx_matrices(\"S_matrix.mtx\")\n",
    "[e_a, e_b], [nocc, nvirt] = ERGO_methods.read_spectrum_unrestricted()     \n",
    "[mo_a, mo_b] = ERGO_methods.read_mo_unrestricted(nocc, nvirt) \n",
    "\n",
    "MO_ovlp_a = mo_a.H() * S * mo_a\n",
    "MO_ovlp_b = mo_b.H() * S * mo_b\n",
    "\n",
    "print(\"Alpha MO overlaps:\")\n",
    "data_outs.print_matrix(MO_ovlp_a.real())\n",
    "\n",
    "print(\"Beta MO overlaps:\")\n",
    "data_outs.print_matrix(MO_ovlp_b.real())"
   ]
  },
  {
   "cell_type": "markdown",
   "metadata": {},
   "source": [
    "## Exercise 1:\n",
    "\n",
    "Read the last Fock matrix and the eigenvectors and check that after the corresponding unitary transformation, one can get the diagonal matrix with the diagonal elements containing the eigenvalues yielded by the ErgoSCF."
   ]
  },
  {
   "cell_type": "markdown",
   "metadata": {},
   "source": [
    "All of the above calculations can be done for the restricted calculations as well. The usage of the corresponding  functions would be:\n",
    "<a name=\"read_spectrum_restricted-1\"></a><a name=\"read_mo_restricted-1\"></a>"
   ]
  },
  {
   "cell_type": "code",
   "execution_count": 14,
   "metadata": {},
   "outputs": [
    {
     "name": "stdout",
     "output_type": "stream",
     "text": [
      "Help on function read_spectrum_restricted in module libra_py.ERGO_methods:\n",
      "\n",
      "read_spectrum_restricted()\n",
      "    This function reads the eigenspectrum files\n",
      "    produced by ErgoSCF in the case of spin-unpolarized\n",
      "    (restricted) formulation.\n",
      "    The names of the files are known, so the we do not need\n",
      "    any arguments\n",
      "    \n",
      "    Note: the ordering of the orbitals in the ErgoSCF is:\n",
      "    \n",
      "    occupied_spectrum.txt       |    unoccupied_spectrum.txt\n",
      "    ---------------------------------------------------------\n",
      "    H                                       L\n",
      "    H-1                                     L+1\n",
      "    ...                                     ...\n",
      "    \n",
      "    So, the occupied orbitals order is reverted in the created array\n",
      "    \n",
      "    Args:  None\n",
      "    \n",
      "    Returns:\n",
      "        (list, list): ( [e_a], [nocc, nvirt])\n",
      "        \n",
      "        * e_a ( list of floats ): energies of the alpha orbitals printed out\n",
      "            this list contains both occupied and unoccupied orbitals\n",
      "        * nocc ( int ): the number of occupied orbitals, it should be less than \n",
      "            len(e_a) and len(e_b)\n",
      "        * nvirt ( int ): the number of unoccupied orbitals, it should be less than \n",
      "            len(e_a) and len(e_b)\n",
      "\n",
      "Help on function read_mo_restricted in module libra_py.ERGO_methods:\n",
      "\n",
      "read_mo_restricted(nocc, nvirt, act_space=None)\n",
      "    This function reads the MO files\n",
      "    produced by ErgoSCF in the case of spin-unpolarized\n",
      "    (restricted) formulation.\n",
      "    The names of the files are known, so the we do not need\n",
      "    to specify that \n",
      "    \n",
      "    Args:  \n",
      "        nocc ( int ): the number of occupied orbitals in the pool of \n",
      "           the printed out MO files\n",
      "        nvirt ( int ): the number of unoccupied (virtual) orbitals in the pool of \n",
      "           the printed out MO files\n",
      "        act_space ( list of ints ): indices of the orbitals we are interested in\n",
      "            The indexing convention is relative to HOMO, that is 0 is HOMO, -1 is HOMO-1,\n",
      "            1 is LUMO, etc.\n",
      "    \n",
      "    \n",
      "    Returns:\n",
      "        ( list ): ( [mo_a] )\n",
      "        \n",
      "        * mo_a ( CMATRIX(nao, nocc+nvirt) ): alpha orbitals\n",
      "\n"
     ]
    }
   ],
   "source": [
    "help(ERGO_methods.read_spectrum_restricted)\n",
    "help(ERGO_methods.read_mo_restricted)"
   ]
  },
  {
   "cell_type": "markdown",
   "metadata": {},
   "source": [
    "For instance:\n",
    "<a name=\"H-1\"></a>"
   ]
  },
  {
   "cell_type": "code",
   "execution_count": 15,
   "metadata": {},
   "outputs": [],
   "source": [
    "# This code is nvere executed, but i just want it to be shown here as a pretty code\n",
    "if 0:\n",
    "    [e_a], [nocc, nvirt] = ERGO_methods.read_spectrum_restricted() \n",
    "    print(e_a, nocc, nvirt)\n",
    "\n",
    "    [mo_a] = ERGO_methods.read_mo_restricted(nocc, nvirt) \n",
    "    print(\"mo_a.H() * S * mo_a = \");  (mo_a.H() * S * mo_a).show_matrix()"
   ]
  },
  {
   "cell_type": "markdown",
   "metadata": {},
   "source": [
    "## 4. Optional cleanup\n",
    "<a name=\"cleanup\"></a> [Back to TOC](#TOC)\n",
    "\n",
    "Change 0 to 1 if you want to run the instruction below - to remove all the files that were generated by this tutorial. Be sure not to run it in a different directory (in case you may have other files with the same extension)"
   ]
  },
  {
   "cell_type": "code",
   "execution_count": 16,
   "metadata": {},
   "outputs": [],
   "source": [
    "if 0:\n",
    "    os.system(\"rm D_matrix*.mtx F_matrix*.mtx S_matrix*.mtx \\\n",
    "              *_coefficient_*.txt *_spectrum_*.txt density.bin ergoscf.out \\\n",
    "              gabeditfile.gab run_ergoscf.sh\")"
   ]
  },
  {
   "cell_type": "markdown",
   "metadata": {},
   "source": [
    "## Exercise 2:\n",
    "\n",
    "Setup a restricted SCF calculation with ErgoSCF on the same system. Read the produced eigenvectors and eigenvalues.  Repeat the examples of this tutorial but now with the restricted SCF data. Repeat the Exercise 1, but with the restricted SCF data."
   ]
  }
 ],
 "metadata": {
  "kernelspec": {
   "display_name": "Python 3",
   "language": "python",
   "name": "python3"
  },
  "language_info": {
   "codemirror_mode": {
    "name": "ipython",
    "version": 3
   },
   "file_extension": ".py",
   "mimetype": "text/x-python",
   "name": "python",
   "nbconvert_exporter": "python",
   "pygments_lexer": "ipython3",
   "version": "3.6.13"
  }
 },
 "nbformat": 4,
 "nbformat_minor": 2
}
