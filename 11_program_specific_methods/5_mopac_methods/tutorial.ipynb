{
 "cells": [
  {
   "cell_type": "markdown",
   "metadata": {},
   "source": [
    "# Auxiliary functions for MOPAC calculations\n",
    "\n",
    "In this tutorial, we demonstrate some auxiliary functions that could be used with MOPAC calculations to get some properties relevant for NA-MD simulations, such as energies, orbitals, time-overlaps, etc.\n",
    "\n",
    "\n",
    "## Table of contents\n",
    "<a name=\"toc\"></a>\n",
    "1. [Importing needed libraries](#1)\n",
    "2. [Reading a snapshot from the xyz trajectory file](#2)\n",
    "3. [Creating input files for MOPAC calculations](#3)\n",
    "4. [Running MOPAC calculations](#4)\n",
    "5. [Reading molecular orbitals/energies and CI vectors](#5)\n",
    "6. [Computing time-overlaps](#6)\n",
    "7. [The workflow](#7)\n",
    "\n",
    "\n",
    "### A. Learning objectives\n",
    "\n",
    "* To generate the input files for MOPAC calculations from the xyz trajectory file\n",
    "* To extract the key infromation from the output file of MOPAC calculations (energies, MOs, CI vectors, etc.)\n",
    "* To automate the calculations of the CI time-overlaps, adiabatic Hamiltonians, and adiabatic vibronic Hamiltonians using MOPAC\n",
    "\n",
    "\n",
    "### B. Use cases\n",
    "\n",
    "* INDO calculations with Libra \n",
    "* manually construct a Slater Determinant bais \n",
    "* processing the MOPAC calculations results\n",
    "* computing CI wavefunction time-overlaps with MOPAC\n",
    "* define Libra/MOPAC interface Hamiltonian\n",
    "* computing single-particle (KS-DFT, HF, semiempirical) NACs\n",
    "* computing many-body (TD-DFT, TD-DFTB, CI) NACs\n",
    "\n",
    "### C. Functions\n",
    "\n",
    "- `libra_py`\n",
    "  - `workflows`\n",
    "    - `nbra`\n",
    "      - `mapping2`\n",
    "        - [`ovlp_mat_arb`](#ovlp_mat_arb-1)\n",
    "  - `packages`\n",
    "    - `cp2k`\n",
    "      - `methods`\n",
    "        - [`read_trajectory_xyz_file`](#read_trajectory_xyz_file-1) | [`also here`](#read_trajectory_xyz_file-2)\n",
    "    - `mopac`\n",
    "      - `methods`\n",
    "        - [`make_mopac_input`](#make_mopac_input-1)\n",
    "        - [`run_mopac`](#run_mopac-1)\n",
    "        - [`make_ref`](#make_ref-1)\n",
    "        - [`make_alpha_excitation`](#make_alpha_excitation-1)\n",
    "        - [`read_mopac_orbital_info`](#read_mopac_orbital_info-1)\n",
    "        - [` mopac_compute_adi`](#mopac_compute_adi-1)\n",
    "        "
   ]
  },
  {
   "cell_type": "markdown",
   "metadata": {},
   "source": [
    "## 1. Importing needed libraries <a name=\"1\"></a>\n",
    "[Back to TOC](#toc)\n"
   ]
  },
  {
   "cell_type": "code",
   "execution_count": 1,
   "metadata": {},
   "outputs": [
    {
     "name": "stderr",
     "output_type": "stream",
     "text": [
      "/home/alexvakimov/SOFTWARE/Conda/envs/libra/lib/python3.7/importlib/_bootstrap.py:219: RuntimeWarning: to-Python converter for std::vector<std::vector<int, std::allocator<int> >, std::allocator<std::vector<int, std::allocator<int> > > > already registered; second conversion method ignored.\n",
      "  return f(*args, **kwds)\n",
      "/home/alexvakimov/SOFTWARE/Conda/envs/libra/lib/python3.7/importlib/_bootstrap.py:219: RuntimeWarning: to-Python converter for boost::python::detail::container_element<std::vector<std::vector<int, std::allocator<int> >, std::allocator<std::vector<int, std::allocator<int> > > >, unsigned long, boost::python::detail::final_vector_derived_policies<std::vector<std::vector<int, std::allocator<int> >, std::allocator<std::vector<int, std::allocator<int> > > >, false> > already registered; second conversion method ignored.\n",
      "  return f(*args, **kwds)\n",
      "/home/alexvakimov/SOFTWARE/Conda/envs/libra/lib/python3.7/importlib/_bootstrap.py:219: RuntimeWarning: to-Python converter for std::vector<std::vector<float, std::allocator<float> >, std::allocator<std::vector<float, std::allocator<float> > > > already registered; second conversion method ignored.\n",
      "  return f(*args, **kwds)\n",
      "/home/alexvakimov/SOFTWARE/Conda/envs/libra/lib/python3.7/importlib/_bootstrap.py:219: RuntimeWarning: to-Python converter for boost::python::detail::container_element<std::vector<std::vector<float, std::allocator<float> >, std::allocator<std::vector<float, std::allocator<float> > > >, unsigned long, boost::python::detail::final_vector_derived_policies<std::vector<std::vector<float, std::allocator<float> >, std::allocator<std::vector<float, std::allocator<float> > > >, false> > already registered; second conversion method ignored.\n",
      "  return f(*args, **kwds)\n",
      "/home/alexvakimov/SOFTWARE/Conda/envs/libra/lib/python3.7/importlib/_bootstrap.py:219: RuntimeWarning: to-Python converter for std::vector<std::vector<double, std::allocator<double> >, std::allocator<std::vector<double, std::allocator<double> > > > already registered; second conversion method ignored.\n",
      "  return f(*args, **kwds)\n",
      "/home/alexvakimov/SOFTWARE/Conda/envs/libra/lib/python3.7/importlib/_bootstrap.py:219: RuntimeWarning: to-Python converter for boost::python::detail::container_element<std::vector<std::vector<double, std::allocator<double> >, std::allocator<std::vector<double, std::allocator<double> > > >, unsigned long, boost::python::detail::final_vector_derived_policies<std::vector<std::vector<double, std::allocator<double> >, std::allocator<std::vector<double, std::allocator<double> > > >, false> > already registered; second conversion method ignored.\n",
      "  return f(*args, **kwds)\n",
      "/home/alexvakimov/SOFTWARE/Conda/envs/libra/lib/python3.7/importlib/_bootstrap.py:219: RuntimeWarning: to-Python converter for std::vector<std::vector<std::complex<double>, std::allocator<std::complex<double> > >, std::allocator<std::vector<std::complex<double>, std::allocator<std::complex<double> > > > > already registered; second conversion method ignored.\n",
      "  return f(*args, **kwds)\n",
      "/home/alexvakimov/SOFTWARE/Conda/envs/libra/lib/python3.7/importlib/_bootstrap.py:219: RuntimeWarning: to-Python converter for boost::python::detail::container_element<std::vector<std::vector<std::complex<double>, std::allocator<std::complex<double> > >, std::allocator<std::vector<std::complex<double>, std::allocator<std::complex<double> > > > >, unsigned long, boost::python::detail::final_vector_derived_policies<std::vector<std::vector<std::complex<double>, std::allocator<std::complex<double> > >, std::allocator<std::vector<std::complex<double>, std::allocator<std::complex<double> > > > >, false> > already registered; second conversion method ignored.\n",
      "  return f(*args, **kwds)\n"
     ]
    }
   ],
   "source": [
    "from liblibra_core import *\n",
    "import libra_py.packages.cp2k.methods as cp2k\n",
    "import libra_py.packages.mopac.methods as mopac\n",
    "import libra_py.workflows.nbra.mapping2 as mapping2\n",
    "import libra_py.units as units"
   ]
  },
  {
   "cell_type": "markdown",
   "metadata": {},
   "source": [
    "## 2. Reading  a snapshot from the xyz trajectory file<a name=\"2\"></a>\n",
    "[Back to TOC](#toc)\n",
    "\n",
    "We read the first (zero-th) snapshot of the `1_ring-pos-1.xyz` trajectory file\n",
    "\n",
    "The function determines the names of the N atoms in the system and saves the x, y, and z coordinates to MATRIX(3N,1) format and converts the coordinates from Angstrom to Bohr\n",
    "\n",
    "We can print out the atomic labels - 6 carbons and 6 hydrogens - this is a benzene molecule.\n",
    "\n",
    "The execution of this function also creates the corresponding coordinate xyz file, named \"coord-0.xyz\". The numerical index corresponds to the index of the snapshot we are reading in\n",
    "<a name=\"read_trajectory_xyz_file-1\"></a>"
   ]
  },
  {
   "cell_type": "code",
   "execution_count": 2,
   "metadata": {},
   "outputs": [
    {
     "name": "stdout",
     "output_type": "stream",
     "text": [
      "['C', 'C', 'C', 'C', 'C', 'C', 'H', 'H', 'H', 'H', 'H', 'H']\n",
      "11.880518   \n",
      "12.872152   \n",
      "14.172945   \n",
      "11.899982   \n",
      "15.507942   \n",
      "14.173134   \n",
      "14.153481   \n",
      "11.537250   \n",
      "14.172945   \n",
      "14.192598   \n",
      "16.808829   \n",
      "14.172756   \n",
      "16.445907   \n",
      "12.838326   \n",
      "14.172945   \n",
      "16.465372   \n",
      "15.473927   \n",
      "14.172945   \n",
      "10.095483   \n",
      "11.859259   \n",
      "14.172945   \n",
      "10.130254   \n",
      "16.547291   \n",
      "14.173134   \n",
      "14.138174   \n",
      "9.4848182   \n",
      "14.172756   \n",
      "14.207716   \n",
      "18.861072   \n",
      "14.172945   \n",
      "18.215825   \n",
      "11.798977   \n",
      "14.173134   \n",
      "18.250407   \n",
      "16.487009   \n",
      "14.172945   \n",
      "\n"
     ]
    }
   ],
   "source": [
    "labels, q = cp2k.read_trajectory_xyz_file(\"1_ring-pos-1.xyz\", 0)\n",
    "\n",
    "print(labels)\n",
    "q.show_matrix()"
   ]
  },
  {
   "cell_type": "markdown",
   "metadata": {},
   "source": [
    "Read more:"
   ]
  },
  {
   "cell_type": "code",
   "execution_count": 3,
   "metadata": {},
   "outputs": [
    {
     "name": "stdout",
     "output_type": "stream",
     "text": [
      "Help on function read_trajectory_xyz_file in module libra_py.packages.cp2k.methods:\n",
      "\n",
      "read_trajectory_xyz_file(file_name: str, step: int)\n",
      "    This function reads the trajectory of a molecular dynamics .xyz file and\n",
      "    extract the 'step' th step then writes it to coord-step.xyz file. This function\n",
      "    is used in single point calculations for calculations of the NACs where one has\n",
      "    previously obtained the trajectory via any molecular dynamics packages. \n",
      "    \n",
      "    Args:\n",
      "    \n",
      "        file_name (string): The trajectory .xyz file name.\n",
      "            step (integer): The desired time to extract its .xyz \n",
      "                            coordinates which starts from zero.\n",
      "    \n",
      "    Returns:\n",
      "    \n",
      "        (list, MATRIX(ndof, 1)): labels of all atoms, and their coordinates, ndof = 3 * natoms\n",
      "\n"
     ]
    }
   ],
   "source": [
    "help(cp2k.read_trajectory_xyz_file)"
   ]
  },
  {
   "cell_type": "markdown",
   "metadata": {},
   "source": [
    "## 3. Creating input files for MOPAC calculations<a name=\"3\"></a>\n",
    "[Back to TOC](#toc)\n",
    "\n",
    "We are now ready to use this information to create an input file for MOPAC calculations using `make_mopac_input`\n",
    "<a name=\"make_mopac_input-1\"></a>"
   ]
  },
  {
   "cell_type": "code",
   "execution_count": 4,
   "metadata": {},
   "outputs": [
    {
     "name": "stdout",
     "output_type": "stream",
     "text": [
      "Help on function make_mopac_input in module libra_py.packages.mopac.methods:\n",
      "\n",
      "make_mopac_input(mopac_input_filename, mopac_run_params, labels, coords)\n",
      "    This function creates an input file for MOPAC package using the \n",
      "    parameters passed in the `mopac_input_params` dictionary\n",
      "    \n",
      "    Args: \n",
      "        * mopac_input_filename ( string ): the name of the input file to create\n",
      "    \n",
      "        * mopac_run_params ( string ): the string containing the specification for the MOPAC run. \n",
      "        E.g. one can use: \"INDO C.I.=(6,3) CHARGE=0 RELSCF=0.000001 ALLVEC  WRTCONF=0.00  WRTCI=2\"\n",
      "    \n",
      "        * labels (list of stings): element symbols for atoms in the system (N items), e.g.\n",
      "         [\"C\", \"H\", \"H\", \"H\", \"H\"] for methane\n",
      "    \n",
      "        * coords ( MATRIX(3N, 1) ): Cartesian coordinates of all atoms ordered in triples x, y, z [ units: Bohr ]\n",
      "    \n",
      "    Returns:\n",
      "        None :  just creates the files\n",
      "\n"
     ]
    }
   ],
   "source": [
    "help(mopac.make_mopac_input)"
   ]
  },
  {
   "cell_type": "markdown",
   "metadata": {},
   "source": [
    "In particular, we are going to create an \"input.mop\" file in whihch we'll request CASSCF(6,3) calculations on the read benzene geometry. We also request to print the MOs and CI vectors:"
   ]
  },
  {
   "cell_type": "code",
   "execution_count": 5,
   "metadata": {},
   "outputs": [],
   "source": [
    "mopac_input_filename = \"input.mop\"\n",
    "mopac_run_params = \"INDO C.I.=(6,3) CHARGE=0 RELSCF=0.000001 ALLVEC  WRTCONF=0.00  WRTCI=2\"\n",
    "mopac.make_mopac_input(mopac_input_filename, mopac_run_params, labels, q)"
   ]
  },
  {
   "cell_type": "markdown",
   "metadata": {},
   "source": [
    "## 4. Running MOPAC calculations<a name=\"4\"></a>\n",
    "[Back to TOC](#toc)\n",
    "\n",
    "To prepare the working folders, input files (from the xyz trajectory files) and to run the MOPAC calculations, we can use the `run_mopac` function:\n",
    "<a name=\"run_mopac-1\"></a>"
   ]
  },
  {
   "cell_type": "code",
   "execution_count": 6,
   "metadata": {},
   "outputs": [
    {
     "name": "stdout",
     "output_type": "stream",
     "text": [
      "Help on function run_mopac in module libra_py.packages.mopac.methods:\n",
      "\n",
      "run_mopac(coords, params_)\n",
      "    This function executes the MOPAC quantum chemistry calculations \n",
      "    \n",
      "    Args: \n",
      "        coords ( MATRIX(ndof, 1) ): coordinates of the particle [ units: Bohr ]\n",
      "        params ( dictionary ): model parameters\n",
      "    \n",
      "            * **params_[\"labels\"]** ( list of strings ): the labels of atomic symbolc - for all atoms,\n",
      "                and in a order that is consistent with the coordinates (in triples) stored in `q`.\n",
      "                The number of this labels is `natoms`, such that `ndof` = 3 * `natoms`. [ Required ]                \n",
      "            * **params_[\"mopac_exe\"]** ( string ):  the full path to `the mopac` executable [ defaut: \"mopac\" ]\n",
      "            * **params_[\"mopac_run_params\"]** ( string ): the control string to define the MOPAC job\n",
      "                [default: \"INDO C.I.=(6,3) CHARGE=0 RELSCF=0.000001 ALLVEC  WRTCONF=0.00  WRTCI=2\"]\n",
      "            * **params_[\"mopac_working_directory\"]** ( string ) [ default: \"mopac_wd\"]\n",
      "            * **params_[\"mopac_jobid\"]** ( string ) [ default: \"job_0000\" ]\n",
      "            * **params_[\"mopac_input_prefix\"]** ( string ) [ default: \"input_\" ]\n",
      "            * **params_[\"mopac_output_prefix\"]** ( string ) [ default: \"output_\" ]\n",
      "                            \n",
      "    Returns:       \n",
      "        None\n",
      "\n"
     ]
    }
   ],
   "source": [
    "help(mopac.run_mopac)"
   ]
  },
  {
   "cell_type": "markdown",
   "metadata": {},
   "source": [
    "As you can see, this function takes quite a while inputs, although some of them are already familiar to use. Indeed, this is what the functions called by this function will need to know\n",
    "\n",
    "Now, we are going to read 5 snapshots from the trajectory files and create the corresponding input files and execute the corresponding MOPAC outputs.\n",
    "\n",
    "Parameters:\n",
    "\n",
    "   * `labels` - those we had already created\n",
    "   * `mopac_exe` = \"/home/alexvakimov/SOFTWARE/mopac/_build/mopac\" - this is where the exe is located at the time of preparation of this tutorial\n",
    "   * `mopac_run_params` - we don't specify anything - use the default string\n",
    "   * `mopac_working_directory` - we don't specify anything - use the default value of \"mopac_wd\". This is the folder that will be created upon the first run. If the folder already exists - the present one will be used.\n",
    "   * `mopac_jobid` - we distinguis the inputs and outputs for all timesteps; this is needed in case we run many jobs in parallel or the calculations are fast so may interfere with reading-writing the files.\n",
    "   * `mopac_output_prefix` - this is where some job-related output will be redirected; note that MOPAC will create the output files with the prefixes related to the input files\n",
    "\n",
    "<a name=\"read_trajectory_xyz_file-2\"></a>"
   ]
  },
  {
   "cell_type": "code",
   "execution_count": 7,
   "metadata": {},
   "outputs": [],
   "source": [
    "params_ = { \"labels\": labels, \"mopac_exe\":\"/home/alexvakimov/SOFTWARE/mopac/_build/mopac\" }\n",
    "\n",
    "for i in range(5):\n",
    "    _, q = cp2k.read_trajectory_xyz_file(\"1_ring-pos-1.xyz\", i)\n",
    "    params_.update( {\"mopac_jobid\":F\"job{i}\"} )\n",
    "    mopac.run_mopac(q, params_)"
   ]
  },
  {
   "attachments": {
    "image.png": {
     "image/png": "[encoded data removed]"
    }
   },
   "cell_type": "markdown",
   "metadata": {},
   "source": [
    "As a result, this step should create the folder with the following content:\n",
    "\n",
    "![image.png](attachment:image.png)"
   ]
  },
  {
   "cell_type": "markdown",
   "metadata": {},
   "source": [
    "## 5. Reading molecular orbitals/energies and CI vectors<a name=\"4\"></a>\n",
    "[Back to TOC](#toc)\n",
    "\n",
    "Now we are ready to parse the output files generated. This is done using `read_mopac_orbital_info` function:\n",
    "<a name=\"read_mopac_orbital_info-1\"></a>"
   ]
  },
  {
   "cell_type": "code",
   "execution_count": 8,
   "metadata": {},
   "outputs": [
    {
     "name": "stdout",
     "output_type": "stream",
     "text": [
      "Help on function read_mopac_orbital_info in module libra_py.packages.mopac.methods:\n",
      "\n",
      "read_mopac_orbital_info(params_)\n",
      "    This function reads the MOs, configurations, and CI from the output files\n",
      "    \n",
      "    Args:\n",
      "    \n",
      "        params_ ( dict ): the dictionary containing key parameters\n",
      "    \n",
      "            * **params_[\"filename\"]** ( string ) : the name of the file to read\n",
      "        \n",
      "    Returns: \n",
      "        (Es, MOs, E_CI, CI, configs): \n",
      "     \n",
      "            * Es - MATRIX(nmo, nmo): the matrix of the MO energies\n",
      "            * MOs - MATRIX(nao, nmo): the matrix of MO-LCAO coefficients\n",
      "            * E_CI - MATRIX(nci, nci): the matrix of CI energies\n",
      "            * CI - MATRIX(nconf, nci): the matrix of CI coefficients in the basis of spin-adapted configurations\n",
      "            * sd_basis - (list of lists of `nelec` ints): representation of the Slater determinants of `nelec`-electronic\n",
      "                 states. The indexing starts from 1.\n",
      "    \n",
      "    Notes:\n",
      "            * nao - the number of AOs, it is the same as nmo\n",
      "            * nmo - the number of MOs\n",
      "            * nconf  - the number of configurations (spin-adapted Slater determinants)\n",
      "            * nci - the number of CI states\n",
      "            * nelec - the number of electrons\n",
      "\n"
     ]
    }
   ],
   "source": [
    "help(mopac.read_mopac_orbital_info)"
   ]
  },
  {
   "cell_type": "markdown",
   "metadata": {},
   "source": [
    "In this example code, we read the MOs, CI coeffs and configurations from the two consecutive steps since this is what we'll need for next step - calculation of time-overlaps"
   ]
  },
  {
   "cell_type": "code",
   "execution_count": 9,
   "metadata": {
    "scrolled": true
   },
   "outputs": [],
   "source": [
    "params = {}\n",
    "params[\"filename\"] = \"mopac_wd/input_job0.out\"\n",
    "E0, MO0, E_CI0, CI0, configs0 = mopac.read_mopac_orbital_info(params)\n",
    "\n",
    "params[\"filename\"] = \"mopac_wd/input_job1.out\"\n",
    "E1, MO1, E_CI1, CI1, configs1 = mopac.read_mopac_orbital_info(params)"
   ]
  },
  {
   "cell_type": "markdown",
   "metadata": {},
   "source": [
    "We can now print different properties:\n",
    "\n",
    "MO energies:"
   ]
  },
  {
   "cell_type": "code",
   "execution_count": 10,
   "metadata": {},
   "outputs": [
    {
     "name": "stdout",
     "output_type": "stream",
     "text": [
      "WARNING: Parameter mopac_run_params is not defined! in the input parametersUse the default value \n",
      "WARNING: Parameter mopac_working_directory is not defined! in the input parametersUse the default value \n",
      "WARNING: Parameter mopac_input_prefix is not defined! in the input parametersUse the default value \n",
      "WARNING: Parameter mopac_output_prefix is not defined! in the input parametersUse the default value \n",
      "WARNING: Parameter mopac_run_params is not defined! in the input parametersUse the default value \n",
      "WARNING: Parameter mopac_working_directory is not defined! in the input parametersUse the default value \n",
      "WARNING: Parameter mopac_input_prefix is not defined! in the input parametersUse the default value \n",
      "WARNING: Parameter mopac_output_prefix is not defined! in the input parametersUse the default value \n",
      "WARNING: Parameter mopac_run_params is not defined! in the input parametersUse the default value \n",
      "WARNING: Parameter mopac_working_directory is not defined! in the input parametersUse the default value \n",
      "WARNING: Parameter mopac_input_prefix is not defined! in the input parametersUse the default value \n",
      "WARNING: Parameter mopac_output_prefix is not defined! in the input parametersUse the default value \n",
      "WARNING: Parameter mopac_run_params is not defined! in the input parametersUse the default value \n",
      "WARNING: Parameter mopac_working_directory is not defined! in the input parametersUse the default value \n",
      "WARNING: Parameter mopac_input_prefix is not defined! in the input parametersUse the default value \n",
      "WARNING: Parameter mopac_output_prefix is not defined! in the input parametersUse the default value \n",
      "WARNING: Parameter mopac_run_params is not defined! in the input parametersUse the default value \n",
      "WARNING: Parameter mopac_working_directory is not defined! in the input parametersUse the default value \n",
      "WARNING: Parameter mopac_input_prefix is not defined! in the input parametersUse the default value \n",
      "WARNING: Parameter mopac_output_prefix is not defined! in the input parametersUse the default value \n",
      "-43.590190  0.0000000   0.0000000   0.0000000   0.0000000   0.0000000   0.0000000   0.0000000   0.0000000   0.0000000   0.0000000   0.0000000   0.0000000   0.0000000   0.0000000   0.0000000   0.0000000   0.0000000   0.0000000   0.0000000   0.0000000   0.0000000   0.0000000   0.0000000   0.0000000   0.0000000   0.0000000   0.0000000   0.0000000   0.0000000   \n",
      "0.0000000   -32.933370  0.0000000   0.0000000   0.0000000   0.0000000   0.0000000   0.0000000   0.0000000   0.0000000   0.0000000   0.0000000   0.0000000   0.0000000   0.0000000   0.0000000   0.0000000   0.0000000   0.0000000   0.0000000   0.0000000   0.0000000   0.0000000   0.0000000   0.0000000   0.0000000   0.0000000   0.0000000   0.0000000   0.0000000   \n",
      "0.0000000   0.0000000   -32.932470  0.0000000   0.0000000   0.0000000   0.0000000   0.0000000   0.0000000   0.0000000   0.0000000   0.0000000   0.0000000   0.0000000   0.0000000   0.0000000   0.0000000   0.0000000   0.0000000   0.0000000   0.0000000   0.0000000   0.0000000   0.0000000   0.0000000   0.0000000   0.0000000   0.0000000   0.0000000   0.0000000   \n",
      "0.0000000   0.0000000   0.0000000   -25.193230  0.0000000   0.0000000   0.0000000   0.0000000   0.0000000   0.0000000   0.0000000   0.0000000   0.0000000   0.0000000   0.0000000   0.0000000   0.0000000   0.0000000   0.0000000   0.0000000   0.0000000   0.0000000   0.0000000   0.0000000   0.0000000   0.0000000   0.0000000   0.0000000   0.0000000   0.0000000   \n",
      "0.0000000   0.0000000   0.0000000   0.0000000   -25.192630  0.0000000   0.0000000   0.0000000   0.0000000   0.0000000   0.0000000   0.0000000   0.0000000   0.0000000   0.0000000   0.0000000   0.0000000   0.0000000   0.0000000   0.0000000   0.0000000   0.0000000   0.0000000   0.0000000   0.0000000   0.0000000   0.0000000   0.0000000   0.0000000   0.0000000   \n",
      "0.0000000   0.0000000   0.0000000   0.0000000   0.0000000   -23.533860  0.0000000   0.0000000   0.0000000   0.0000000   0.0000000   0.0000000   0.0000000   0.0000000   0.0000000   0.0000000   0.0000000   0.0000000   0.0000000   0.0000000   0.0000000   0.0000000   0.0000000   0.0000000   0.0000000   0.0000000   0.0000000   0.0000000   0.0000000   0.0000000   \n",
      "0.0000000   0.0000000   0.0000000   0.0000000   0.0000000   0.0000000   -17.371050  0.0000000   0.0000000   0.0000000   0.0000000   0.0000000   0.0000000   0.0000000   0.0000000   0.0000000   0.0000000   0.0000000   0.0000000   0.0000000   0.0000000   0.0000000   0.0000000   0.0000000   0.0000000   0.0000000   0.0000000   0.0000000   0.0000000   0.0000000   \n",
      "0.0000000   0.0000000   0.0000000   0.0000000   0.0000000   0.0000000   0.0000000   -17.356850  0.0000000   0.0000000   0.0000000   0.0000000   0.0000000   0.0000000   0.0000000   0.0000000   0.0000000   0.0000000   0.0000000   0.0000000   0.0000000   0.0000000   0.0000000   0.0000000   0.0000000   0.0000000   0.0000000   0.0000000   0.0000000   0.0000000   \n",
      "0.0000000   0.0000000   0.0000000   0.0000000   0.0000000   0.0000000   0.0000000   0.0000000   -15.233560  0.0000000   0.0000000   0.0000000   0.0000000   0.0000000   0.0000000   0.0000000   0.0000000   0.0000000   0.0000000   0.0000000   0.0000000   0.0000000   0.0000000   0.0000000   0.0000000   0.0000000   0.0000000   0.0000000   0.0000000   0.0000000   \n",
      "0.0000000   0.0000000   0.0000000   0.0000000   0.0000000   0.0000000   0.0000000   0.0000000   0.0000000   -15.232900  0.0000000   0.0000000   0.0000000   0.0000000   0.0000000   0.0000000   0.0000000   0.0000000   0.0000000   0.0000000   0.0000000   0.0000000   0.0000000   0.0000000   0.0000000   0.0000000   0.0000000   0.0000000   0.0000000   0.0000000   \n",
      "0.0000000   0.0000000   0.0000000   0.0000000   0.0000000   0.0000000   0.0000000   0.0000000   0.0000000   0.0000000   -13.389840  0.0000000   0.0000000   0.0000000   0.0000000   0.0000000   0.0000000   0.0000000   0.0000000   0.0000000   0.0000000   0.0000000   0.0000000   0.0000000   0.0000000   0.0000000   0.0000000   0.0000000   0.0000000   0.0000000   \n",
      "0.0000000   0.0000000   0.0000000   0.0000000   0.0000000   0.0000000   0.0000000   0.0000000   0.0000000   0.0000000   0.0000000   -12.427540  0.0000000   0.0000000   0.0000000   0.0000000   0.0000000   0.0000000   0.0000000   0.0000000   0.0000000   0.0000000   0.0000000   0.0000000   0.0000000   0.0000000   0.0000000   0.0000000   0.0000000   0.0000000   \n",
      "0.0000000   0.0000000   0.0000000   0.0000000   0.0000000   0.0000000   0.0000000   0.0000000   0.0000000   0.0000000   0.0000000   0.0000000   -12.426920  0.0000000   0.0000000   0.0000000   0.0000000   0.0000000   0.0000000   0.0000000   0.0000000   0.0000000   0.0000000   0.0000000   0.0000000   0.0000000   0.0000000   0.0000000   0.0000000   0.0000000   \n",
      "0.0000000   0.0000000   0.0000000   0.0000000   0.0000000   0.0000000   0.0000000   0.0000000   0.0000000   0.0000000   0.0000000   0.0000000   0.0000000   -8.9747600  0.0000000   0.0000000   0.0000000   0.0000000   0.0000000   0.0000000   0.0000000   0.0000000   0.0000000   0.0000000   0.0000000   0.0000000   0.0000000   0.0000000   0.0000000   0.0000000   \n",
      "0.0000000   0.0000000   0.0000000   0.0000000   0.0000000   0.0000000   0.0000000   0.0000000   0.0000000   0.0000000   0.0000000   0.0000000   0.0000000   0.0000000   -8.9741400  0.0000000   0.0000000   0.0000000   0.0000000   0.0000000   0.0000000   0.0000000   0.0000000   0.0000000   0.0000000   0.0000000   0.0000000   0.0000000   0.0000000   0.0000000   \n",
      "0.0000000   0.0000000   0.0000000   0.0000000   0.0000000   0.0000000   0.0000000   0.0000000   0.0000000   0.0000000   0.0000000   0.0000000   0.0000000   0.0000000   0.0000000   0.85114000  0.0000000   0.0000000   0.0000000   0.0000000   0.0000000   0.0000000   0.0000000   0.0000000   0.0000000   0.0000000   0.0000000   0.0000000   0.0000000   0.0000000   \n",
      "0.0000000   0.0000000   0.0000000   0.0000000   0.0000000   0.0000000   0.0000000   0.0000000   0.0000000   0.0000000   0.0000000   0.0000000   0.0000000   0.0000000   0.0000000   0.0000000   0.85165000  0.0000000   0.0000000   0.0000000   0.0000000   0.0000000   0.0000000   0.0000000   0.0000000   0.0000000   0.0000000   0.0000000   0.0000000   0.0000000   \n",
      "0.0000000   0.0000000   0.0000000   0.0000000   0.0000000   0.0000000   0.0000000   0.0000000   0.0000000   0.0000000   0.0000000   0.0000000   0.0000000   0.0000000   0.0000000   0.0000000   0.0000000   3.1968200   0.0000000   0.0000000   0.0000000   0.0000000   0.0000000   0.0000000   0.0000000   0.0000000   0.0000000   0.0000000   0.0000000   0.0000000   \n",
      "0.0000000   0.0000000   0.0000000   0.0000000   0.0000000   0.0000000   0.0000000   0.0000000   0.0000000   0.0000000   0.0000000   0.0000000   0.0000000   0.0000000   0.0000000   0.0000000   0.0000000   0.0000000   3.2031400   0.0000000   0.0000000   0.0000000   0.0000000   0.0000000   0.0000000   0.0000000   0.0000000   0.0000000   0.0000000   0.0000000   \n",
      "0.0000000   0.0000000   0.0000000   0.0000000   0.0000000   0.0000000   0.0000000   0.0000000   0.0000000   0.0000000   0.0000000   0.0000000   0.0000000   0.0000000   0.0000000   0.0000000   0.0000000   0.0000000   0.0000000   4.0783200   0.0000000   0.0000000   0.0000000   0.0000000   0.0000000   0.0000000   0.0000000   0.0000000   0.0000000   0.0000000   \n",
      "0.0000000   0.0000000   0.0000000   0.0000000   0.0000000   0.0000000   0.0000000   0.0000000   0.0000000   0.0000000   0.0000000   0.0000000   0.0000000   0.0000000   0.0000000   0.0000000   0.0000000   0.0000000   0.0000000   0.0000000   4.0785000   0.0000000   0.0000000   0.0000000   0.0000000   0.0000000   0.0000000   0.0000000   0.0000000   0.0000000   \n",
      "0.0000000   0.0000000   0.0000000   0.0000000   0.0000000   0.0000000   0.0000000   0.0000000   0.0000000   0.0000000   0.0000000   0.0000000   0.0000000   0.0000000   0.0000000   0.0000000   0.0000000   0.0000000   0.0000000   0.0000000   0.0000000   5.2554200   0.0000000   0.0000000   0.0000000   0.0000000   0.0000000   0.0000000   0.0000000   0.0000000   \n",
      "0.0000000   0.0000000   0.0000000   0.0000000   0.0000000   0.0000000   0.0000000   0.0000000   0.0000000   0.0000000   0.0000000   0.0000000   0.0000000   0.0000000   0.0000000   0.0000000   0.0000000   0.0000000   0.0000000   0.0000000   0.0000000   0.0000000   5.9025100   0.0000000   0.0000000   0.0000000   0.0000000   0.0000000   0.0000000   0.0000000   \n",
      "0.0000000   0.0000000   0.0000000   0.0000000   0.0000000   0.0000000   0.0000000   0.0000000   0.0000000   0.0000000   0.0000000   0.0000000   0.0000000   0.0000000   0.0000000   0.0000000   0.0000000   0.0000000   0.0000000   0.0000000   0.0000000   0.0000000   0.0000000   5.9027500   0.0000000   0.0000000   0.0000000   0.0000000   0.0000000   0.0000000   \n",
      "0.0000000   0.0000000   0.0000000   0.0000000   0.0000000   0.0000000   0.0000000   0.0000000   0.0000000   0.0000000   0.0000000   0.0000000   0.0000000   0.0000000   0.0000000   0.0000000   0.0000000   0.0000000   0.0000000   0.0000000   0.0000000   0.0000000   0.0000000   0.0000000   8.4761300   0.0000000   0.0000000   0.0000000   0.0000000   0.0000000   \n",
      "0.0000000   0.0000000   0.0000000   0.0000000   0.0000000   0.0000000   0.0000000   0.0000000   0.0000000   0.0000000   0.0000000   0.0000000   0.0000000   0.0000000   0.0000000   0.0000000   0.0000000   0.0000000   0.0000000   0.0000000   0.0000000   0.0000000   0.0000000   0.0000000   0.0000000   9.1586400   0.0000000   0.0000000   0.0000000   0.0000000   \n",
      "0.0000000   0.0000000   0.0000000   0.0000000   0.0000000   0.0000000   0.0000000   0.0000000   0.0000000   0.0000000   0.0000000   0.0000000   0.0000000   0.0000000   0.0000000   0.0000000   0.0000000   0.0000000   0.0000000   0.0000000   0.0000000   0.0000000   0.0000000   0.0000000   0.0000000   0.0000000   9.1587200   0.0000000   0.0000000   0.0000000   \n",
      "0.0000000   0.0000000   0.0000000   0.0000000   0.0000000   0.0000000   0.0000000   0.0000000   0.0000000   0.0000000   0.0000000   0.0000000   0.0000000   0.0000000   0.0000000   0.0000000   0.0000000   0.0000000   0.0000000   0.0000000   0.0000000   0.0000000   0.0000000   0.0000000   0.0000000   0.0000000   0.0000000   11.789280   0.0000000   0.0000000   \n",
      "0.0000000   0.0000000   0.0000000   0.0000000   0.0000000   0.0000000   0.0000000   0.0000000   0.0000000   0.0000000   0.0000000   0.0000000   0.0000000   0.0000000   0.0000000   0.0000000   0.0000000   0.0000000   0.0000000   0.0000000   0.0000000   0.0000000   0.0000000   0.0000000   0.0000000   0.0000000   0.0000000   0.0000000   11.789940   0.0000000   \n",
      "0.0000000   0.0000000   0.0000000   0.0000000   0.0000000   0.0000000   0.0000000   0.0000000   0.0000000   0.0000000   0.0000000   0.0000000   0.0000000   0.0000000   0.0000000   0.0000000   0.0000000   0.0000000   0.0000000   0.0000000   0.0000000   0.0000000   0.0000000   0.0000000   0.0000000   0.0000000   0.0000000   0.0000000   0.0000000   12.650880   \n",
      "\n"
     ]
    }
   ],
   "source": [
    "E0.show_matrix()"
   ]
  },
  {
   "cell_type": "markdown",
   "metadata": {},
   "source": [
    "MO-LCAO coefficients"
   ]
  },
  {
   "cell_type": "code",
   "execution_count": 11,
   "metadata": {},
   "outputs": [
    {
     "name": "stdout",
     "output_type": "stream",
     "text": [
      "0.36460000  0.40958000  0.24514000  -0.15136000  0.31725000  0.069530000  -0.20457000  0.00054000000  0.052000000  0.076630000  -4.0000000e-05  0.00012000000  -0.0018100000  -2.0000000e-05  -2.0000000e-05  2.0000000e-05  -0.0000000  -0.34542000  -0.0023700000  -0.22088000  0.38316000  -0.16997000  -0.18669000  0.21209000  -0.074240000  0.11826000  0.012490000  0.12977000  0.015980000  -0.0000000  \n",
      "0.13449000  -0.060970000  0.091170000  0.20561000  -0.031610000  -0.27829000  0.18640000  -0.20207000  0.13777000  0.35461000  -1.0000000e-05  0.19499000  -0.26380000  -1.0000000e-05  -1.0000000e-05  -0.0000000  1.0000000e-05  -0.046670000  -0.00033000000  -0.092780000  -0.072580000  0.17470000  0.068540000  -0.24348000  -0.29819000  0.39301000  0.11898000  0.27558000  -0.19143000  -0.20143000  \n",
      "0.076340000  0.096460000  -0.16721000  -0.24480000  -0.19040000  -0.15798000  0.10708000  0.35472000  0.24231000  0.089950000  -7.0000000e-05  -0.30605000  -0.17422000  -4.0000000e-05  -1.0000000e-05  3.0000000e-05  -1.0000000e-05  -0.026420000  -0.00017000000  0.18276000  0.094550000  0.099030000  0.23039000  0.030290000  -0.16917000  0.24188000  -0.11084000  0.092870000  0.40847000  0.35487000  \n",
      "0.0000000   1.0000000e-05  0.0000000   -2.0000000e-05  0.0000000   -0.0000000  -1.0000000e-05  3.0000000e-05  1.0000000e-05  7.0000000e-05  0.40821000  -6.0000000e-05  -3.0000000e-05  0.53073000  0.22737000  -0.18036000  0.54849000  0.0027800000  -0.40819000  1.0000000e-05  -1.0000000e-05  -3.0000000e-05  -1.0000000e-05  2.0000000e-05  -1.0000000e-05  2.0000000e-05  -1.0000000e-05  1.0000000e-05  2.0000000e-05  2.0000000e-05  \n",
      "0.36460000  0.41710000  -0.23211000  -0.19908000  -0.28970000  0.069530000  0.20457000  -0.00058000000  0.092380000  -0.0066900000  5.0000000e-05  -0.0015900000  0.00082000000  6.0000000e-05  -4.0000000e-05  -2.0000000e-05  -7.0000000e-05  0.34536000  0.0023900000  -0.22144000  -0.38296000  -0.16977000  -0.27706000  -0.055590000  0.074210000  -0.069970000  0.096150000  0.078710000  -0.10443000  2.0000000e-05  \n",
      "0.13336000  -0.059400000  -0.095550000  0.21113000  -0.0042800000  -0.27593000  -0.18600000  -0.20622000  0.36032000  -0.11383000  1.0000000e-05  -0.16106000  0.28650000  8.0000000e-05  -4.0000000e-05  -0.0000000  -4.0000000e-05  0.046220000  0.00030000000  -0.095410000  0.074090000  0.17304000  0.19966000  0.15469000  0.29555000  -0.17146000  0.36987000  0.33251000  -0.059910000  0.20672000  \n",
      "-0.078310000  -0.090280000  -0.16877000  0.20893000  -0.22626000  0.16208000  0.10794000  -0.35229000  -0.22616000  -0.13266000  4.0000000e-05  0.28338000  0.20813000  1.0000000e-05  0.0000000   2.0000000e-05  -1.0000000e-05  -0.027180000  -0.00021000000  -0.18125000  0.093640000  -0.10167000  -0.16787000  0.16142000  -0.17359000  0.24695000  -0.11076000  0.22418000  0.35161000  0.35185000  \n",
      "-2.0000000e-05  -2.0000000e-05  2.0000000e-05  -0.0000000  2.0000000e-05  2.0000000e-05  1.0000000e-05  2.0000000e-05  -4.0000000e-05  6.0000000e-05  0.40821000  -1.0000000e-05  -4.0000000e-05  0.46231000  -0.34589000  -0.38478000  -0.43047000  -0.0028200000  0.40820000  0.0000000   0.00010000000  3.0000000e-05  6.0000000e-05  1.0000000e-05  -4.0000000e-05  2.0000000e-05  -5.0000000e-05  -4.0000000e-05  2.0000000e-05  -2.0000000e-05  \n",
      "0.36459000  -0.0074800000  0.47727000  0.35044000  -0.027540000  0.069630000  0.20455000  -0.00056000000  -0.040350000  0.083380000  1.0000000e-05  0.0014700000  0.0010000000  -0.0000000  3.0000000e-05  3.0000000e-05  -1.0000000e-05  0.34551000  0.0024000000  0.44225000  -0.00025000000  -0.17003000  0.090300000  0.26758000  0.074280000  -0.048300000  -0.10867000  0.051080000  0.12038000  -6.0000000e-05  \n",
      "0.0011600000  -0.22187000  -0.0035300000  -0.028290000  -0.34717000  -0.0023600000  -0.00049000000  0.40828000  -0.15652000  -0.072270000  -2.0000000e-05  -0.19772000  0.30448000  0.0000000   1.0000000e-05  -1.0000000e-05  -1.0000000e-05  0.00040000000  -1.0000000e-05  -3.0000000e-05  0.23635000  0.0015100000  -0.21080000  0.069120000  0.0025700000  0.14119000  -0.066510000  0.41772000  -0.17512000  -0.40818000  \n",
      "0.15465000  0.0017400000  -0.0062600000  -0.13388000  0.013090000  -0.32002000  -0.21505000  -0.0024600000  -0.18469000  0.38425000  -5.0000000e-05  0.26535000  0.17149000  0.0000000   -3.0000000e-05  -4.0000000e-05  1.0000000e-05  0.053600000  0.00033000000  -0.019050000  -0.0017500000  0.20092000  -0.082230000  -0.24898000  0.34294000  -0.18936000  -0.42321000  0.10928000  0.26611000  0.0028900000  \n",
      "-0.0000000  0.0000000   -1.0000000e-05  -2.0000000e-05  -0.0000000  -1.0000000e-05  -3.0000000e-05  1.0000000e-05  1.0000000e-05  8.0000000e-05  0.40823000  -2.0000000e-05  3.0000000e-05  0.068470000  0.57330000  0.56517000  -0.11807000  -0.0028000000  0.40821000  -5.0000000e-05  2.0000000e-05  5.0000000e-05  -2.0000000e-05  -4.0000000e-05  1.0000000e-05  -1.0000000e-05  -2.0000000e-05  0.0000000   1.0000000e-05  -0.0000000  \n",
      "0.36463000  0.0075200000  -0.47726000  0.35039000  -0.027530000  0.069590000  -0.20454000  0.00058000000  0.040350000  -0.083420000  -5.0000000e-05  0.0015300000  0.00097000000  2.0000000e-05  9.0000000e-05  -0.00010000000  5.0000000e-05  -0.34531000  -0.0022400000  0.44235000  -0.00024000000  -0.16990000  -0.090450000  -0.26776000  -0.074210000  -0.048250000  -0.10867000  -0.051060000  -0.12037000  8.0000000e-05  \n",
      "-0.0011400000  -0.22190000  -0.0035400000  0.028280000  0.34717000  0.0023900000  -0.00039000000  0.40824000  -0.15658000  -0.072220000  7.0000000e-05  0.19767000  -0.30452000  -3.0000000e-05  -4.0000000e-05  1.0000000e-05  -3.0000000e-05  0.00041000000  1.0000000e-05  -0.0000000  -0.23632000  -0.0014300000  -0.21081000  0.069120000  0.0025100000  -0.14115000  0.066510000  0.41783000  -0.17471000  0.40827000  \n",
      "-0.15465000  0.0017500000  -0.0063200000  0.13391000  -0.013130000  0.32005000  -0.21506000  -0.0024900000  -0.18464000  0.38421000  -5.0000000e-05  -0.26540000  -0.17153000  -1.0000000e-05  -3.0000000e-05  -0.0000000  -1.0000000e-05  0.053640000  0.00039000000  0.018950000  0.0017100000  -0.20071000  -0.082410000  -0.24899000  0.34280000  0.18932000  0.42336000  0.10923000  0.26615000  -0.0032000000  \n",
      "2.0000000e-05  1.0000000e-05  -3.0000000e-05  2.0000000e-05  -2.0000000e-05  -0.0000000  -1.0000000e-05  -2.0000000e-05  2.0000000e-05  3.0000000e-05  0.40825000  -4.0000000e-05  6.0000000e-05  -0.068400000  -0.57328000  0.56516000  -0.11800000  0.0026700000  -0.40824000  0.00016000000  -3.0000000e-05  -6.0000000e-05  -3.0000000e-05  -9.0000000e-05  -2.0000000e-05  -0.0000000  -3.0000000e-05  -3.0000000e-05  -2.0000000e-05  -2.0000000e-05  \n",
      "0.36464000  -0.41705000  0.23216000  -0.19904000  -0.28971000  0.069570000  -0.20455000  0.00059000000  -0.092370000  0.0066900000  -2.0000000e-05  -0.0016000000  0.00078000000  2.0000000e-05  -2.0000000e-05  1.0000000e-05  2.0000000e-05  -0.34546000  -0.0023200000  -0.22126000  -0.38295000  -0.17001000  0.27692000  0.055580000  -0.074320000  -0.070000000  0.096170000  -0.078710000  0.10445000  -7.0000000e-05  \n",
      "-0.13335000  -0.059420000  -0.095550000  -0.21112000  0.0042700000  0.27593000  -0.18594000  -0.20622000  0.36030000  -0.11382000  2.0000000e-05  0.16118000  -0.28648000  1.0000000e-05  -2.0000000e-05  3.0000000e-05  2.0000000e-05  0.046250000  0.00035000000  0.095400000  -0.074130000  -0.17329000  0.19958000  0.15460000  0.29576000  0.17139000  -0.36973000  0.33244000  -0.060110000  -0.20671000  \n",
      "0.078340000  -0.090300000  -0.16876000  -0.20896000  0.22626000  -0.16208000  0.10794000  -0.35234000  -0.22608000  -0.13266000  2.0000000e-05  -0.28339000  -0.20808000  -2.0000000e-05  2.0000000e-05  -1.0000000e-05  -2.0000000e-05  -0.027090000  -0.00018000000  0.18130000  -0.093600000  0.10173000  -0.16784000  0.16143000  -0.17368000  -0.24691000  0.11064000  0.22415000  0.35124000  -0.35224000  \n",
      "0.0000000   -0.0000000  0.0000000   -1.0000000e-05  -1.0000000e-05  1.0000000e-05  -4.0000000e-05  -1.0000000e-05  4.0000000e-05  6.0000000e-05  0.40829000  -3.0000000e-05  3.0000000e-05  -0.46222000  0.34590000  -0.38480000  -0.43038000  0.0027500000  -0.40828000  2.0000000e-05  -4.0000000e-05  -6.0000000e-05  4.0000000e-05  1.0000000e-05  1.0000000e-05  1.0000000e-05  -2.0000000e-05  0.0000000   -1.0000000e-05  -0.0000000  \n",
      "0.36466000  -0.40956000  -0.24510000  -0.15137000  0.31721000  0.069520000  0.20456000  -0.00056000000  -0.052000000  -0.076600000  4.0000000e-05  8.0000000e-05  -0.0017700000  -3.0000000e-05  -1.0000000e-05  3.0000000e-05  2.0000000e-05  0.34537000  0.0023100000  -0.22106000  0.38313000  -0.16996000  0.18659000  -0.21212000  0.074300000  0.11829000  0.012540000  -0.12982000  -0.015970000  3.0000000e-05  \n",
      "-0.13451000  -0.060980000  0.091160000  -0.20559000  0.031590000  0.27832000  0.18633000  -0.20205000  0.13781000  0.35460000  -0.00011000000  -0.19501000  0.26383000  5.0000000e-05  3.0000000e-05  -2.0000000e-05  -2.0000000e-05  -0.046600000  -0.00030000000  0.092780000  0.072610000  -0.17469000  0.068400000  -0.24367000  -0.29822000  -0.39287000  -0.11907000  0.27563000  -0.19123000  0.20155000  \n",
      "-0.076340000  0.096460000  -0.16726000  0.24479000  0.19042000  0.15796000  0.10710000  0.35475000  0.24223000  0.089960000  2.0000000e-05  0.30606000  0.17420000  -1.0000000e-05  -2.0000000e-05  2.0000000e-05  2.0000000e-05  -0.026480000  -0.00018000000  -0.18274000  -0.094530000  -0.099190000  0.23031000  0.030250000  -0.16929000  -0.24186000  0.11077000  0.092800000  0.40812000  -0.35528000  \n",
      "-0.0000000  1.0000000e-05  1.0000000e-05  -1.0000000e-05  -2.0000000e-05  0.0000000   -1.0000000e-05  -3.0000000e-05  3.0000000e-05  6.0000000e-05  0.40831000  -8.0000000e-05  7.0000000e-05  -0.53065000  -0.22737000  -0.18035000  0.54841000  -0.0027600000  0.40831000  -4.0000000e-05  0.0000000   3.0000000e-05  -2.0000000e-05  2.0000000e-05  -2.0000000e-05  -2.0000000e-05  -1.0000000e-05  2.0000000e-05  -1.0000000e-05  2.0000000e-05  \n",
      "0.098990000  0.20343000  0.12175000  -0.11425000  0.23939000  0.24372000  -0.28032000  0.00083000000  -0.18900000  -0.27851000  2.0000000e-05  -0.018700000  0.31831000  3.0000000e-05  1.0000000e-05  -2.0000000e-05  -0.0000000  0.21089000  0.0014400000  0.14255000  -0.24725000  0.31218000  0.24330000  -0.27630000  -0.20876000  0.28101000  0.029740000  0.16711000  0.020540000  -2.0000000e-05  \n",
      "0.098990000  0.20716000  -0.11529000  -0.15024000  -0.21859000  0.24372000  0.28040000  -0.00078000000  -0.33565000  0.024470000  4.0000000e-05  0.28498000  -0.14293000  -5.0000000e-05  2.0000000e-05  2.0000000e-05  4.0000000e-05  -0.21089000  -0.0014700000  0.14292000  0.24717000  0.31197000  0.36105000  0.072480000  0.20872000  -0.16629000  0.22851000  0.10136000  -0.13444000  4.0000000e-05  \n",
      "0.098980000  -0.0037100000  0.23703000  0.26438000  -0.020750000  0.24379000  0.28038000  -0.00077000000  0.14672000  -0.30288000  2.0000000e-05  -0.26631000  -0.17534000  -1.0000000e-05  -0.0000000  -2.0000000e-05  -0.0000000  -0.21099000  -0.0014800000  -0.28543000  0.00017000000  0.31230000  -0.11763000  -0.34871000  0.20882000  -0.11473000  -0.25815000  0.065770000  0.15496000  -8.0000000e-05  \n",
      "0.099010000  0.0037500000  -0.23707000  0.26438000  -0.020800000  0.24379000  -0.28038000  0.00072000000  -0.14667000  0.30282000  -5.0000000e-05  -0.26633000  -0.17538000  -2.0000000e-05  -4.0000000e-05  6.0000000e-05  -3.0000000e-05  0.21082000  0.0013500000  -0.28542000  0.00018000000  0.31207000  0.11789000  0.34886000  -0.20876000  -0.11474000  -0.25827000  -0.065740000  -0.15501000  9.0000000e-05  \n",
      "0.098990000  -0.20713000  0.11529000  -0.15021000  -0.21858000  0.24374000  -0.28033000  0.00078000000  0.33563000  -0.024470000  3.0000000e-05  0.28510000  -0.14299000  -1.0000000e-05  -1.0000000e-05  -1.0000000e-05  -1.0000000e-05  0.21094000  0.0014000000  0.14280000  0.24717000  0.31231000  -0.36084000  -0.072380000  -0.20882000  -0.16622000  0.22838000  -0.10134000  0.13442000  -6.0000000e-05  \n",
      "0.099010000  -0.20342000  -0.12175000  -0.11423000  0.23936000  0.24373000  0.28027000  -0.00080000000  0.18900000  0.27853000  -6.0000000e-05  -0.018720000  0.31836000  3.0000000e-05  0.0000000   -2.0000000e-05  -1.0000000e-05  -0.21089000  -0.0014200000  0.14266000  -0.24723000  0.31223000  -0.24308000  0.27646000  0.20879000  0.28091000  0.029770000  -0.16710000  -0.020560000  4.0000000e-05  \n",
      "\n"
     ]
    }
   ],
   "source": [
    "MO0.show_matrix()"
   ]
  },
  {
   "cell_type": "markdown",
   "metadata": {},
   "source": [
    "Energies of CI states:"
   ]
  },
  {
   "cell_type": "code",
   "execution_count": 12,
   "metadata": {},
   "outputs": [
    {
     "name": "stdout",
     "output_type": "stream",
     "text": [
      "0.0000000   0.0000000   \n",
      "0.0000000   0.17352174  \n",
      "\n"
     ]
    }
   ],
   "source": [
    "E_CI0.show_matrix()"
   ]
  },
  {
   "cell_type": "markdown",
   "metadata": {},
   "source": [
    "CI coefficients giving the amplitudes of the corresponding spin-adapted configurations corresoinding to the determined excited Slater determinants (configurations):"
   ]
  },
  {
   "cell_type": "code",
   "execution_count": 13,
   "metadata": {},
   "outputs": [
    {
     "name": "stdout",
     "output_type": "stream",
     "text": [
      "1.0000000   0.0000000   \n",
      "0.0000000   -0.70444631  \n",
      "0.0000000   -0.70440802  \n",
      "0.0000000   -0.061518950  \n",
      "0.0000000   0.061482990  \n",
      "\n"
     ]
    }
   ],
   "source": [
    "CI0.show_matrix()"
   ]
  },
  {
   "cell_type": "markdown",
   "metadata": {},
   "source": [
    "In this example, we have only 5 configurations and 5 electronic states, with the first state being the ground state.\n",
    "\n",
    "Finally, we can print the basis of configurations. In this example, we have 30 electrons in total. The configurations are hence the lists of 30 numbers showing which spin-orbitals are occupied:"
   ]
  },
  {
   "cell_type": "code",
   "execution_count": 14,
   "metadata": {},
   "outputs": [
    {
     "name": "stdout",
     "output_type": "stream",
     "text": [
      "[1, -1, 2, -2, 3, -3, 4, -4, 5, -5, 6, -6, 7, -7, 8, -8, 9, -9, 10, -10, 11, -11, 12, -12, 13, -13, 14, -14, 15, -15]\n",
      "[1, -1, 2, -2, 3, -3, 4, -4, 5, -5, 6, -6, 7, -7, 8, -8, 9, -9, 10, -10, 11, -11, 12, -12, 13, -13, 14, -14, 17, -15]\n",
      "[1, -1, 2, -2, 3, -3, 4, -4, 5, -5, 6, -6, 7, -7, 8, -8, 9, -9, 10, -10, 11, -11, 12, -12, 13, -13, 16, -14, 15, -15]\n",
      "[1, -1, 2, -2, 3, -3, 4, -4, 5, -5, 6, -6, 7, -7, 8, -8, 9, -9, 10, -10, 11, -11, 12, -12, 13, -13, 14, -14, 16, -15]\n",
      "[1, -1, 2, -2, 3, -3, 4, -4, 5, -5, 6, -6, 7, -7, 8, -8, 9, -9, 10, -10, 11, -11, 12, -12, 13, -13, 17, -14, 15, -15]\n"
     ]
    }
   ],
   "source": [
    "for config in configs0:\n",
    "    print(config)"
   ]
  },
  {
   "cell_type": "markdown",
   "metadata": {},
   "source": [
    "As you can see, there are 5 configurations. The very first one is doubly-occupied up the MO level 15 - this is the ground state.\n",
    "\n",
    "The ground-state configuration for 30 electrons can be generated using `make_ref` function, like this:\n",
    "<a name=\"make_ref-1\"></a>"
   ]
  },
  {
   "cell_type": "code",
   "execution_count": 15,
   "metadata": {},
   "outputs": [
    {
     "name": "stdout",
     "output_type": "stream",
     "text": [
      "[1, -1, 2, -2, 3, -3, 4, -4, 5, -5, 6, -6, 7, -7, 8, -8, 9, -9, 10, -10, 11, -11, 12, -12, 13, -13, 14, -14, 15, -15]\n"
     ]
    }
   ],
   "source": [
    "GS = mopac.make_ref(30)\n",
    "\n",
    "print(GS)"
   ]
  },
  {
   "cell_type": "code",
   "execution_count": 16,
   "metadata": {},
   "outputs": [
    {
     "name": "stdout",
     "output_type": "stream",
     "text": [
      "Help on function make_ref in module libra_py.packages.mopac.methods:\n",
      "\n",
      "make_ref(nelec)\n",
      "    Makes the reference determinant based on the number of electrons\n",
      "    \n",
      "    Args: \n",
      "        nelec (int) : the total number of electrons in the system\n",
      "    \n",
      "    Returns:\n",
      "        list of ints: representation of the reference (ground-state) determinant\n",
      "    \n",
      "        E.g. [1, -1, 2, -2] is the determinant of 4 electrons with 2 lowest orbitals doubly-filled \n",
      "        Here, the indexing starts with 1, and negative values correspond to the beta-spin electron\n",
      "        while positive values - to the alpha-spin electron\n",
      "\n"
     ]
    }
   ],
   "source": [
    "help(mopac.make_ref)"
   ]
  },
  {
   "cell_type": "markdown",
   "metadata": {},
   "source": [
    "Other configurations are produced by the excitation of the ground state configuration using `make_alpha_excitation` function. For instance, the first excited configuration for the system is obtained by the 15->17 excitation:\n",
    "<a name=\"make_alpha_excitation-1\"></a>"
   ]
  },
  {
   "cell_type": "code",
   "execution_count": 17,
   "metadata": {},
   "outputs": [
    {
     "name": "stdout",
     "output_type": "stream",
     "text": [
      "[1, -1, 2, -2, 3, -3, 4, -4, 5, -5, 6, -6, 7, -7, 8, -8, 9, -9, 10, -10, 11, -11, 12, -12, 13, -13, 14, -14, 17, -15]\n"
     ]
    }
   ],
   "source": [
    "S1 = mopac.make_alpha_excitation(GS, [15, 17])\n",
    "print(S1)"
   ]
  },
  {
   "cell_type": "code",
   "execution_count": 18,
   "metadata": {},
   "outputs": [
    {
     "name": "stdout",
     "output_type": "stream",
     "text": [
      "Help on function make_alpha_excitation in module libra_py.packages.mopac.methods:\n",
      "\n",
      "make_alpha_excitation(ref_determinant, config)\n",
      "    This function creates an excitation of the alpha electron in the reference determinant\n",
      "    exciting the electron from and to orbitals determined by the `config` argument\n",
      "    \n",
      "    Args: \n",
      "    \n",
      "        ref_determinant (list of ints): representation of the reference determinants\n",
      "         \n",
      "        config (list of 2 ints): [src, targt]  - source and target orbitals for single excitation, the \n",
      "            indexing starts from 1, not from 0. \n",
      "    \n",
      "    Returns: \n",
      "        list of ints: the representation of the excited configuration\n",
      "    \n",
      "    Example: \n",
      "        make_alpha_excitation([1, -1, 2, -2], [2, 3])  corresponds to 2->3 excitation and should return\n",
      "      \n",
      "        [1, -1, 3, -2]\n",
      "\n"
     ]
    }
   ],
   "source": [
    "help(mopac.make_alpha_excitation)"
   ]
  },
  {
   "cell_type": "markdown",
   "metadata": {},
   "source": [
    "## 6.Computing time-overlaps<a name=\"6\"></a>\n",
    "[Back to TOC](#toc)\n",
    "\n",
    "Finally, we can use the information read from the two timesteps to compute some properties.\n",
    "\n",
    "First - the number of MOs:"
   ]
  },
  {
   "cell_type": "code",
   "execution_count": 19,
   "metadata": {},
   "outputs": [
    {
     "name": "stdout",
     "output_type": "stream",
     "text": [
      "30\n"
     ]
    }
   ],
   "source": [
    "nmo = MO0.num_of_cols\n",
    "print(nmo)"
   ]
  },
  {
   "cell_type": "markdown",
   "metadata": {},
   "source": [
    "Second - the time-overlap in the MO basis. \n",
    "\n",
    "Since we are using INDO approximation, the time-overlaps of the AOs are assumed to be the identity matrix:"
   ]
  },
  {
   "cell_type": "code",
   "execution_count": 20,
   "metadata": {},
   "outputs": [
    {
     "name": "stdout",
     "output_type": "stream",
     "text": [
      "0.99997008  0.00087091820  0.0063494704  -0.00022272090  -0.0013797748  -0.00093333490  8.7622900e-05  -0.00057628510  0.0014667674  0.0023099110  0.00010774070  0.00083311740  -2.0852300e-05  -0.00054955280  3.8860300e-05  -3.4172700e-05  0.00015733960  -0.00024296760  0.00025064940  -0.00061101410  -0.00063657360  0.00056979080  -0.00055363110  -0.0014577138  -0.00012273160  8.7875000e-05  0.00017418840  -0.00018235430  0.00043386250  0.00021338900  \n",
      "-0.0027891757  0.95150332  0.30749004  0.0076988755  -0.00036082810  -0.0033817290  -0.0019752089  -0.00074649870  -0.00014163450  -0.0011230614  5.5192400e-05  -0.0019098478  0.00091096000  -0.00030596460  -0.00018834740  -0.00014893220  -0.00026857790  0.00017091440  -7.3144100e-05  0.00065416700  0.00045795260  0.00037271630  8.6838800e-05  0.00071310160  -0.0014931570  0.00029942400  -0.00099101360  -6.1989000e-05  5.7270800e-05  0.00017278860  \n",
      "0.0058048296  0.30746321  -0.95145206  0.0062824713  0.0048323747  0.0094393006  0.0020148976  -0.0019818686  -0.00051165320  -0.0018367579  0.00018104770  0.00089784420  0.0024946169  3.7666900e-05  0.00049467630  0.00056162840  0.00018915890  -0.00024765840  2.7755400e-05  0.00090888730  -0.00041295330  -0.0020060720  0.00076589910  0.00046880190  0.00012349830  0.00077423720  -0.00033724960  -0.00010802360  -0.00047708770  -0.00010406420  \n",
      "-0.00093766020  0.0083934904  -0.0058166425  -0.84237287  -0.53822236  -0.022409501  -0.0042542417  -0.0073458330  -0.0013860782  0.0048822519  0.0010138955  -0.0022159613  -0.0013789330  -7.1200000e-05  0.00023738980  -0.00036949000  -7.7083300e-05  -0.00038813540  0.00047438070  0.00055763340  0.00018977930  0.0015973105  -0.00085349710  -0.00028286900  -0.00045718640  -0.0010076958  -0.0011209762  -0.00038325650  0.00012905280  0.00064130740  \n",
      "0.0010277855  0.0040164328  0.0021039916  -0.53845529  0.84256971  0.0072657634  -0.0039348922  -0.0048961921  -0.0032716096  0.00059058540  -0.0020637035  0.0016230006  -0.00042455990  0.00056197100  -0.00024475470  -0.00012930260  -0.00014473330  -0.0010396397  -0.00031040000  -0.00065101820  -0.00095590380  -0.00031702150  -0.00074445480  8.5857200e-05  -0.00072904610  0.00071089620  -0.00034495500  -0.00054055070  3.6158900e-05  -0.00035137940  \n",
      "-0.00085425490  -0.00046783820  -0.0098809319  0.015035380  0.018251254  -0.99964128  0.0013362326  -0.0037485653  0.0029835070  0.0044013423  0.00065567550  0.0027163001  0.00067246870  0.00037808640  -1.2833800e-05  0.00041226570  -0.0013060639  0.00012708710  -6.2107000e-05  0.00017134200  0.0013052950  8.2909600e-05  -0.00010659090  8.8355500e-05  -0.00014809150  0.00057368940  0.00072131710  0.00015909420  0.00011239770  -9.1857800e-05  \n",
      "0.00038434490  0.0018867504  0.00053673380  -0.010248969  0.00083065100  -0.0020062905  0.69250085  0.72103920  -0.017293650  -0.0062308988  -2.0220000e-05  -0.0043376407  0.0074406491  0.0041645858  -0.0013002694  -1.1886800e-05  -5.4897900e-05  -3.9353600e-05  -0.00029841050  -0.00037091110  0.00033310490  0.00014673040  0.00020385590  -0.00085284290  -0.00011064690  0.00013019790  0.00050963960  0.00023337300  -0.00077998730  0.00014109650  \n",
      "-0.00044658170  -2.7701500e-05  0.0030179304  0.0019772972  0.00049066170  0.0035028472  0.72094482  -0.69274780  -0.016329908  -0.0044447445  3.4418000e-06  0.0032129929  -0.0031062769  0.00035847460  0.0012245155  0.0011248679  6.6597600e-05  -0.0012989205  0.00020397980  -0.00099130130  -0.00058405730  0.00071544080  -0.00067525390  0.0020065269  -0.00065108390  -0.00040372940  0.00074168010  0.00051327620  -0.00072904940  3.1850900e-05  \n",
      "0.0021329725  -0.00086054430  0.00079238010  0.0015124599  -0.0025504401  -0.0043163589  -0.024889814  -0.0015551916  -0.94334958  -0.33076247  0.0016011798  0.0024395476  0.00038610320  0.0027453083  0.0028067104  -0.00033095980  -0.00038066880  -0.00050040160  0.0011541027  -9.5649700e-05  0.00083817040  0.0014502554  0.00011329540  0.00087934120  -0.0010798179  -0.00040634620  -0.00065166870  -0.00082475800  0.00066698240  -2.1328500e-05  \n",
      "-0.0016858738  0.0014000598  -0.0011484182  0.0051276416  0.0013089272  0.0032707736  -0.00071096310  0.0010382141  -0.33086038  0.94361500  0.0037364928  -0.0019024176  -0.0067759595  0.0011931014  -0.0031358320  0.00048983120  2.3259400e-05  0.00049537420  0.0016546920  0.0010833717  -0.00079829200  -0.0013256526  0.0012288608  8.3829600e-05  -8.0965600e-05  0.00067938840  -0.0011668976  -0.00033940910  -0.00055208380  0.00029893720  \n",
      "-8.9670000e-05  -0.00010723430  9.8869700e-05  -0.00023349270  0.0023314700  0.00062353030  9.6027900e-05  7.5733100e-05  0.0027525953  -0.0031894140  0.99953651  -0.020222526  -0.021895764  0.00098604190  0.00060478050  0.0013836520  -0.00064950880  -0.00069142140  6.0770400e-05  -0.00061371140  0.0012657284  0.00065507710  -0.00067799370  0.00012044620  0.00026467950  -0.0024264850  -0.00057707030  0.0012483484  0.00034568240  9.9374000e-06  \n",
      "0.00063893700  -0.0022327111  0.00022542370  -3.1870000e-06  0.0017446663  -0.0015878522  -0.0024307242  -0.0089031137  -0.0024042174  0.0021836438  -0.0016811731  -0.77174671  0.63582239  0.00075836270  0.00070101570  0.0027249589  0.0011796264  -0.0016687255  0.00046284020  -0.00049273570  0.0011168394  0.0016873161  -0.0019421848  -0.00031529630  -0.0017376862  -3.9063600e-05  -0.0010680117  -0.00094955540  -0.00050871040  0.00035536930  \n",
      "-0.00054384720  -0.00025521980  0.0025338229  -0.0016948757  -0.0018899955  0.0022229298  -0.0017761072  -0.0023966192  -0.00025694180  0.0066225358  0.029772972  0.63554313  0.77143809  -0.0017996281  0.0010681030  0.00092088740  -0.0018514695  0.00058697310  0.00073170310  0.00016052310  0.00094853730  0.00093226030  -3.7407600e-05  -0.0010560595  0.00024709340  -0.0015215066  -9.9729500e-05  -0.00042371740  0.00016202240  -0.00018510590  \n",
      "0.00043592310  0.00017751830  -0.00025330560  0.00014511700  -0.00061158310  0.00027940900  -0.0023202784  -0.0032428329  0.0011486803  -0.0027670200  -0.00025774300  0.0013906552  0.0015281070  0.73408108  -0.67903038  0.0012195612  0.0013316169  0.0023775637  0.0014454676  -0.00059995350  3.5828600e-05  -0.00035588630  -0.0012908898  -0.00059046880  0.0023739341  0.00029492980  0.00010330510  -0.0011065450  -9.4775600e-05  0.00076391530  \n",
      "0.00033666090  0.00021242780  0.00049065990  0.00022192390  -0.00010925060  0.00026801770  -0.0020265966  -0.00053100100  0.0032627981  0.0027230420  -0.0010926076  0.0010820006  -0.00031495010  0.67903500  0.73408530  0.00085347740  -0.0010293683  0.00097686550  -0.00057020550  0.0014859672  0.00049802570  -0.00057572140  0.00015034530  0.0021766981  0.0010209560  -0.00028065830  0.00076869000  0.00040661730  -0.0012969672  -0.00095524360  \n",
      "6.9444700e-05  -0.00010293370  -0.00061159290  0.00039491550  1.7750400e-05  0.00047561350  0.00064448610  -0.00069662680  0.00031241130  0.00054040600  0.00068764070  -0.0024808952  0.0015167817  0.0013480976  -0.0011584415  -0.79360966  -0.60839576  -0.0013714792  0.0013731391  -0.0029903930  -0.0019073102  0.0022444786  -0.00032735290  -0.00062056800  2.8249700e-05  -0.00018354810  0.0022541947  3.0048000e-06  0.00024758140  0.00044587960  \n",
      "-0.00014227460  0.00017096940  -0.00013976460  0.00013125920  0.00013786610  -0.0012691951  0.00048046330  -0.00042972630  -0.00019645050  0.00023243870  0.0014191311  0.00071031480  0.0019957425  0.00066166120  0.0012106175  -0.60839273  0.79359549  0.0022163968  0.00055944690  -0.0017001107  0.00099866580  -0.0057809085  0.00013817120  -0.00097917800  -0.00022402890  -0.0015284771  0.00030245100  -0.00058915610  -0.00043650820  0.00016657350  \n",
      "-0.00024738380  4.5675500e-05  0.00033222630  0.00091893270  -0.00053161180  -0.00010543190  -0.00085653260  0.00092122700  0.00063127460  0.00037114180  -0.00064935810  0.0016188696  -0.00072255720  0.0022136438  -0.00072810620  -0.00019525560  0.0025394849  -0.98422774  0.17007382  0.045879664  0.010782093  -0.0048653496  0.0017729964  0.0047711027  0.0023781264  0.0018764896  -0.0075603956  -0.0016175549  -0.0027053765  0.00086462180  \n",
      "0.00022153650  -4.1631700e-05  2.9895000e-06  -7.3630400e-05  -0.00062406510  2.4034200e-05  -0.00023835610  -0.00021035870  -0.0015628994  0.0012616827  -3.1336000e-06  0.00038097610  0.00076141260  0.0010807588  -0.0015311642  -0.0014628890  6.2417100e-05  -0.17016083  -0.98538549  0.0030508308  -0.0029867882  -0.00092202060  0.0057835855  -0.0014898952  0.00057911450  0.00013031600  5.3162900e-05  0.0012004032  0.00070115330  1.4923300e-05  \n",
      "0.00054394210  -0.00087714370  0.00066384160  0.00013305640  0.00079984600  7.9762800e-05  0.00098305920  -0.00042721560  0.00017717810  -0.0011448326  0.00072759970  -0.00054960430  0.00028013150  -0.00061982080  -0.0013947194  -0.0032958015  -0.00042518690  0.044640190  -0.0044918815  0.99559424  -0.078286784  0.0042903997  -0.019442053  -0.0098865357  -0.0097992251  -0.0026342319  0.0010954402  -0.0036721012  -0.0014226257  0.0028894938  \n",
      "0.00071315340  -0.00040230750  -0.00048459360  -0.00035581480  0.00096647510  0.0013468914  0.00027863060  -0.00062851920  0.00055851520  0.00094963250  -0.0012367604  0.00024910660  -0.0013894630  -0.00044414300  -0.00049928490  -0.0012339858  -0.0019342784  0.013703261  -0.0051895236  0.077855799  0.99656065  0.011465626  0.00089875010  0.020086106  -0.0032515100  0.0029241459  -0.0025993421  0.00015451240  -0.0023353037  0.00027501410  \n",
      "-0.00037516810  0.00015276600  -0.0019382780  0.0011208971  0.0010953034  0.00011554140  -0.00065896450  0.00064592990  0.0010534360  0.0016692351  -0.00065765090  0.00072088010  -0.0015697359  0.00056520950  -8.2633400e-05  -0.0018572763  0.0059737921  -0.0044603289  -5.7603800e-05  -0.0031425206  -0.013529388  0.99211876  0.039707594  0.11707345  0.0039470926  0.00061582570  -0.0089777147  0.0058581359  -0.0051896849  0.0011865158  \n",
      "-0.0011081008  0.00064140760  -7.8161900e-05  -0.00020912690  0.00037473350  -7.9806000e-05  0.00083707300  -0.0020465871  -0.00047690960  -0.00052150840  0.00030044860  -0.00094832780  -0.00054478060  0.0013373835  0.0013850436  0.00074528710  2.4280600e-05  -0.0030626735  0.0043115633  0.00078775650  0.016671043  0.088549259  0.43477374  -0.89589658  0.0077809239  0.0074472457  0.0077725332  0.0027529220  -0.00018765960  0.00073281250  \n",
      "-0.0011671343  0.00066877070  -0.00090076020  0.0012115981  1.9143100e-05  0.00011068370  -3.6600000e-07  -0.00024024400  -0.00074751940  0.0010743824  -0.00064247110  0.0012425503  -0.0017339963  -0.00024879360  0.0017922855  0.00049961620  0.00062140960  -0.0055431999  -0.0038466748  -0.021050516  0.010087296  0.086358593  -0.89932074  -0.42766928  0.0052001514  0.010767154  -0.010317403  0.0028902390  2.7274000e-06  0.00073068510  \n",
      "0.00013382460  0.0014394691  0.00058009020  -0.00084270660  0.00037063340  -0.00011971690  0.00046233520  -0.00036154410  -0.0011442190  -0.00021602420  -0.00027800980  -0.0015732275  0.00096500610  -0.0024806088  0.00079127070  3.3173000e-06  0.00022172520  0.0024174978  0.00018876180  0.0099033642  0.0025621258  -0.0042995811  1.0486900e-05  0.0087257809  0.99752616  -0.018547242  0.066045424  0.0022201561  0.0028890480  -0.00027314860  \n",
      "-0.00012868220  -0.00012646310  0.00059335540  -0.00085082210  -0.0011913512  0.00075553630  -0.00015684890  -0.00027860970  -0.00047324900  -0.00038695590  0.0025301751  0.00056118340  0.0013372089  -0.00022830760  0.00016735390  -0.00031975190  0.0014437966  -0.00084020130  0.00029199640  0.0020222555  -0.0021969970  0.0012997613  0.0015216781  0.011629486  -0.0065791402  0.93303349  0.35940928  -0.0052421224  0.0049594446  -0.0048649820  \n",
      "0.00015221270  -0.0010879540  0.00032566250  0.00079033960  -9.8645400e-05  -0.00046099020  0.00096899100  -0.00030762110  0.00078611300  -0.0011663212  0.00035691490  0.00089240510  -0.00016885540  0.00035443750  0.00064690090  -0.0022326907  -0.00072326860  0.0079529236  -0.0012427622  0.0022919986  -0.0034910462  -0.0095541323  0.013746015  0.0010948182  0.068239786  0.35888295  -0.93062709  -0.0094402185  -0.0030526238  -0.0023750798  \n",
      "-0.00013016860  0.00011094460  -0.00036082030  -0.00038221120  0.00022586360  0.00019152710  0.00026389000  0.00016523410  -0.00038897140  0.00049426040  -0.0011632871  -0.00063466050  0.00086858660  0.0010297500  -0.00024149450  -0.00034266100  0.00067578350  -0.0024220272  0.0018297476  0.0039752651  0.0010188114  -0.0015921445  0.0011247118  0.0025986958  -0.0029919739  0.0041582144  -0.0085029475  0.76747376  0.64094689  0.0067620029  \n",
      "0.00045578960  -2.8370900e-05  0.00033431110  -0.00051087510  0.00010672140  8.5372000e-06  -0.0011789795  6.4631900e-05  -0.00089644700  -0.00056089440  -0.00048668960  8.8175200e-05  0.00048419780  -0.00040557780  -0.0013599241  -0.00018867700  -0.00011558340  0.0011771733  4.8272000e-05  0.0011621794  -0.0019645918  -0.0080341690  0.00055697960  0.0016293946  0.00093109300  0.0079285228  -0.00073718070  0.64092845  -0.76749421  -0.0039269303  \n",
      "-0.00020395960  -0.00013980220  -0.00013741510  0.00034344520  0.00062729080  -7.2486800e-05  -0.00012497360  -6.9259100e-05  7.0100600e-05  -0.00029964610  5.4524000e-06  0.00040720790  -6.8956400e-05  7.2258100e-05  0.0012178254  0.00045954960  0.00012962790  0.00076942670  -0.00013754250  -0.0029145317  -9.3612000e-05  -0.0013600815  0.00037429280  0.00089864040  0.00043649410  0.0053954197  -0.00038036490  -0.0027031392  -0.0073223990  0.99994604  \n",
      "\n"
     ]
    }
   ],
   "source": [
    "mo_st = MO0.T() * MO1  # time-overlap in MO basis\n",
    "mo_st.show_matrix()"
   ]
  },
  {
   "cell_type": "markdown",
   "metadata": {},
   "source": [
    "Next, using the definitions of the SD configurations and the computed MO time-overlaps, we can now compute the time-overlaps of the SD functions. This is based on the function `ovlp_mat_arb` which uses the Lowdin formula for computing overlaps of the determinants.\n",
    "<a name=\"ovlp_mat_arb-1\"></a>"
   ]
  },
  {
   "cell_type": "code",
   "execution_count": 21,
   "metadata": {},
   "outputs": [
    {
     "name": "stdout",
     "output_type": "stream",
     "text": [
      "Help on function ovlp_mat_arb in module libra_py.workflows.nbra.mapping2:\n",
      "\n",
      "ovlp_mat_arb(SD1, SD2, S, reduce_det=False)\n",
      "    Compute a matrix of overlaps in the SD basis \n",
      "    \n",
      "    Args:\n",
      "        SD1 ( list of lists of N ints ): a list of N SD determinants, such that:\n",
      "            SD1[iSD] is a list of integers defining which orbitals are \n",
      "            occupied in SD with index ```iSD``` and how \n",
      "            SeeAlso: ```inp``` in the ```sd2indx(inp)``` function\n",
      "    \n",
      "        SD2 ( list of lists of M ints ): a list of M SD determinants, such that:\n",
      "            SD2[iSD] is a list of integers defining which orbitals are \n",
      "            occupied in SD with index ```iSD``` and how \n",
      "            SeeAlso: ```inp``` in the ```sd2indx(inp)``` function\n",
      "    \n",
      "        S ( CMATRIX(K,K) ): is the matrix in the full space of 1-el orbitals. Note - the mapped indices should not \n",
      "            be larger than K-1\n",
      "    \n",
      "        reduce_det ( Boolean ): If True, use the minimal subset of orbitals needed to describe \n",
      "            the overlap of the SDs. This is passed to the funciton that computes the overlaps [ default: True ]\n",
      "    \n",
      "    Returns:\n",
      "        CMATRIX(N, M): overlap matrix composed of elements <SD1(i)|SD2(j)>\n",
      "\n"
     ]
    }
   ],
   "source": [
    "help(mapping2.ovlp_mat_arb)"
   ]
  },
  {
   "cell_type": "code",
   "execution_count": 22,
   "metadata": {},
   "outputs": [
    {
     "name": "stdout",
     "output_type": "stream",
     "text": [
      "Time-overlap in the SD basis\n",
      "(0.99988285,0.0000000)  (0.0016620390,-0.0000000)  (-0.0014766285,0.0000000)  (0.00019866069,-0.0000000)  (-0.00028031999,0.0000000)  (-0.0024091481,0.0000000)  (0.00066303670,-0.0000000)  \n",
      "(-0.0013352761,0.0000000)  (0.58250700,0.0000000)  (-0.41307486,0.0000000)  (-0.44657003,0.0000000)  (0.53882115,0.0000000)  (0.00019488990,0.0000000)  (-0.00025090479,0.0000000)  \n",
      "(-0.0017747066,0.0000000)  (0.41308005,0.0000000)  (-0.58251696,0.0000000)  (0.53883965,0.0000000)  (-0.44656793,0.0000000)  (-0.0012051072,0.0000000)  (-0.00092830853,0.0000000)  \n",
      "(-6.2559270e-05,0.0000000)  (-0.44657145,0.0000000)  (-0.53883378,0.0000000)  (-0.58252340,0.0000000)  (-0.41307828,0.0000000)  (0.00025017616,0.0000000)  (0.00019163184,0.0000000)  \n",
      "(0.00033365834,-0.0000000)  (-0.53882635,0.0000000)  (-0.44656734,0.0000000)  (0.41308160,0.0000000)  (0.58250533,0.0000000)  (-0.00092793234,0.0000000)  (0.0012095751,0.0000000)  \n",
      "\n"
     ]
    }
   ],
   "source": [
    "print(\"Time-overlap in the SD basis\")\n",
    "time_ovlp_sd = mapping2.ovlp_mat_arb(configs0, configs1, mo_st, False)\n",
    "time_ovlp_sd.show_matrix()"
   ]
  },
  {
   "cell_type": "markdown",
   "metadata": {},
   "source": [
    "Finally, we transform this the time-overlap to the time-overlap of the CI states using the correponding CI vectors:"
   ]
  },
  {
   "cell_type": "code",
   "execution_count": 23,
   "metadata": {},
   "outputs": [
    {
     "name": "stdout",
     "output_type": "stream",
     "text": [
      "Time-overlap in the CI basis\n",
      "0.99988285  0.0022192134  \n",
      "0.0022151108  -0.99985445  \n",
      "\n"
     ]
    }
   ],
   "source": [
    "print(\"Time-overlap in the CI basis\")\n",
    "time_ovlp_ci = CI0.T() * time_ovlp_sd.real() * CI1\n",
    "time_ovlp_ci.show_matrix()"
   ]
  },
  {
   "cell_type": "markdown",
   "metadata": {},
   "source": [
    "## 7.The workflow<a name=\"7\"></a>\n",
    "[Back to TOC](#toc)\n",
    "\n",
    "Now, to automate the calculation of time-overlaps, vibronic and electronic Hamiltonians in the CI basis, we use the `mopac_compute_adi` function.\n",
    "<a name=\"mopac_compute_adi-1\"></a>"
   ]
  },
  {
   "cell_type": "code",
   "execution_count": 24,
   "metadata": {},
   "outputs": [
    {
     "name": "stdout",
     "output_type": "stream",
     "text": [
      "Help on function mopac_compute_adi in module libra_py.packages.mopac.methods:\n",
      "\n",
      "mopac_compute_adi(q, params, full_id)\n",
      "    This function creates an input for MOPAC, runs such calculations, extracts the current information on \n",
      "    state energies and CI vectors, computes the required properties (such as time-overlaps, or NACs, etc.)\n",
      "    and stores the current information in the \"previous variables\", so that we could compute the dependent properties\n",
      "    on the next time-step\n",
      "    \n",
      "    Args:\n",
      "        q ( MATRIX(ndof, ntraj) ): coordinates of the particle [ units: Bohr ]\n",
      "        params ( list of dictionaries ): model parameters, for each trajectory; this parameters variable will be used to \n",
      "            also store the previous calculations, but that has to be done separately for each trajectory, i = full_id[-1]. That's why we\n",
      "            are making it into a list of dictionaries\n",
      "    \n",
      "            * **params[i][\"timestep\"]** (int): the index of the timestep for trajectory i [ Required ]\n",
      "            * **params[i][\"is_first_time\"]** (int): the flag indicating if this is the new calculation for this trajectory or not\n",
      "              if it is True (1), the current values will be used as if they were previous; if False (0) - the previously stored values\n",
      "              will be used [ default: True ]\n",
      "            * **params[i][\"labels\"]** ( list of strings ): the labels of atomic symbolc - for all atoms,\n",
      "                and in a order that is consistent with the coordinates (in triples) stored in `q`.\n",
      "                The number of this labels is `natoms`, such that `ndof` = 3 * `natoms`. [ Required ]\n",
      "            * **params[i][\"mopac_exe\"]** ( string ):  the full path to `the mopac` executable [ defaut: \"mopac\" ]\n",
      "            * **params_[i][\"mopac_run_params\"]** ( string ): the control string to define the MOPAC job\n",
      "                [default: \"INDO C.I.=(6,3) CHARGE=0 RELSCF=0.000001 ALLVEC  WRTCONF=0.00  WRTCI=2\"]\n",
      "            * **params[i][\"mopac_working_directory\"]** ( string ) [ default: \"mopac_wd\"]\n",
      "            * **params[i][\"mopac_jobid\"]** ( string ) [ default: F\"timestep_{timestep}_traj_{i}\" ]\n",
      "            * **params[i][\"mopac_input_prefix\"]** ( string ) [ default: \"input_\" ]\n",
      "            * **params[i][\"mopac_output_prefix\"]** ( string ) [ default: \"output_\" ]\n",
      "            * **params[i][\"dt\"]** ( float ) - the time interval between the snapshots [ units: a.u.; default: 41 a.u. = 1 fs ]\n",
      "    \n",
      "    Returns:\n",
      "        PyObject: obj, with the members:\n",
      "    \n",
      "            * obj.ham_adi ( CMATRIX(nstates,nstates) ): adiabatic Hamiltonian, in the CI basis \n",
      "            * obj.hvib_adi ( CMATRIX(nstates,nstates) ): adiabatic vibronic Hamiltonian, in the CI basis\n",
      "            * obj.basis_transform ( CMATRIX(nstates,nstates) ): assumed the identity - don't use it yet!\n",
      "            * obj.time_overlap_adi. ( CMATRIX(nstates,nstates) ): time-overlap in the CI basis\n",
      "\n"
     ]
    }
   ],
   "source": [
    "help(mopac.mopac_compute_adi)"
   ]
  },
  {
   "cell_type": "markdown",
   "metadata": {},
   "source": [
    "This function is set up in the same way as model Hamiltonians or the file-based Hamiltonians used in the atomistic workflows. This way, it could be extended to the non-NBRA calculations and passed to the dynamics functions. \n",
    "\n",
    "Unlike many other caases, the parameters are passed not as a dictionary, but as a list of dictionaries. The number of dictionaries is the same as the number of trajectories to be computed. This is done so that the dictionary for each trajectory could keep the prior values of some properties such as CI vectors, in order to compute the time-overlaps. In the situation when the function would be called for several trajectories, using only one parameters dictionary could lead to unwanted data sharing and corruption whcih could lead to incorrect results. \n",
    "\n",
    "In addition to all other parameters, the dictionaries contain the `timestep` keyword, which is progressed along the way and is used to access a particular snapshot in the pre-computed trajectory. \n",
    "\n",
    "Another variable stored in the parameters dictionaries is `is_first_time`. It is used to check if the current calculation is the first one for the given trajectory. In this case, the current and previous values would be the same (in which case the time-overlap should be an identity matrix). After the first call of the function, this flag is set to False, to tell the future calculations that one can use previously-stored variables. \n",
    "\n",
    "In the `mopac_run_params` it is useful to choose the following parameter: `WRTCI=n`, where n is the number of states (first state is the ground-state) to print-out. If not set, the number of the CI states printed at different geometries may vary, which would lead to the incorrect structure of the computed matrices (may be non-square matrices). \n",
    "\n",
    "In this example, the `full_id` is set up to mimic a ssingle trajectory. If called by the main dynamical function, this variable would have been setup automatically for each trajectory.\n",
    "\n",
    "For simplicity, in the present example, the working directory is set up differently from the directory used in the above examples. This would be the directory for both the MOPAC input and output files, but also this is where the computed properties will be saved as text files. These properties are contained in the object `obj` returned by the `mopac_compute_adi` function."
   ]
  },
  {
   "cell_type": "code",
   "execution_count": 25,
   "metadata": {},
   "outputs": [],
   "source": [
    "labels, q = cp2k.read_trajectory_xyz_file(\"1_ring-pos-1.xyz\", 0)\n",
    "params_elem = {\"labels\":labels, \"timestep\":0, \"is_first_time\":True,\n",
    "               \"mopac_exe\":\"/home/alexvakimov/SOFTWARE/mopac/_build/mopac\", \n",
    "               \"mopac_run_params\":\"INDO C.I.=(6,3) CHARGE=0 RELSCF=0.000001 ALLVEC  WRTCONF=0.00  WRTCI=5\",\n",
    "               \"mopac_working_directory\":\"workflow_wd\",\n",
    "               \"mopac_input_prefix\":\"benzene_\", \"mopac_output_prefix\":\"output_\",\n",
    "               \"dt\":1.0*units.fs2au\n",
    "              }\n",
    "\n",
    "# For 1 trajectory\n",
    "params = [ dict(params_elem)]\n",
    "\n",
    "# Emulates 1 trajectory\n",
    "full_id = Py2Cpp_int([0, 0])\n",
    "\n",
    "# Do the first 5 steps \n",
    "for i in range(5):\n",
    "    labels, q = cp2k.read_trajectory_xyz_file(\"1_ring-pos-1.xyz\", i)\n",
    "    params[0][\"timestep\"] = i\n",
    "    \n",
    "    obj = mopac.mopac_compute_adi(q, params, full_id)        \n",
    "    obj.ham_adi.show_matrix(F\"workflow_wd/ham_adi_{i}.txt\")\n",
    "    obj.hvib_adi.show_matrix(F\"workflow_wd/hvib_adi_{i}.txt\")\n",
    "    obj.time_overlap_adi.show_matrix(F\"workflow_wd/st_adi_{i}.txt\")"
   ]
  }
 ],
 "metadata": {
  "kernelspec": {
   "display_name": "Python 3 (ipykernel)",
   "language": "python",
   "name": "python3"
  },
  "language_info": {
   "codemirror_mode": {
    "name": "ipython",
    "version": 3
   },
   "file_extension": ".py",
   "mimetype": "text/x-python",
   "name": "python",
   "nbconvert_exporter": "python",
   "pygments_lexer": "ipython3",
   "version": "3.7.16"
  }
 },
 "nbformat": 4,
 "nbformat_minor": 2
}
