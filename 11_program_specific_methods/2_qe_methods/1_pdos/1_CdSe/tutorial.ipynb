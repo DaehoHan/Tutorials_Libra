{
 "cells": [
  {
   "cell_type": "markdown",
   "metadata": {},
   "source": [
    "# pDOS analysis of the Quantum Espresso calculations"
   ]
  },
  {
   "cell_type": "markdown",
   "metadata": {},
   "source": [
    "## Table of Content <a name=\"TOC\"></a>\n",
    "\n",
    "1. [General setups](#setups)\n",
    "\n",
    "2. [Run QE pDOS calculations](#run_qe) \n",
    "\n",
    "3. [Compute the pDOS](#compute_pdos) \n",
    "\n",
    "4. [Optional cleanup](#cleanup) "
   ]
  },
  {
   "cell_type": "markdown",
   "metadata": {},
   "source": [
    "### A. Learning objectives\n",
    "\n",
    "- to compute various types of pDOS based on the QE calculations\n",
    "\n",
    "\n",
    "### B. Use cases\n",
    "\n",
    "- computing pDOS\n",
    "\n",
    "\n",
    "### C. Functions\n",
    "\n",
    "- `libra_py`  \n",
    "  - `data_conv`\n",
    "    - [`MATRIX2nparray`](#MATRIX2nparray)\n",
    "  - `pdos`\n",
    "    - [`QE_pdos`](#QE_pdos)  \n",
    "    \n",
    "\n",
    "### D. Classes and class members\n",
    "\n",
    "None"
   ]
  },
  {
   "cell_type": "markdown",
   "metadata": {},
   "source": [
    "## 1. General setups\n",
    "<a name=\"setups\"></a> [Back to TOC](#TOC)"
   ]
  },
  {
   "cell_type": "code",
   "execution_count": 1,
   "metadata": {
    "scrolled": false
   },
   "outputs": [
    {
     "name": "stderr",
     "output_type": "stream",
     "text": [
      "/home/alexey/Conda/Miniconda3/envs/libra/lib/python3.6/importlib/_bootstrap.py:219: RuntimeWarning: to-Python converter for std::vector<std::vector<int, std::allocator<int> >, std::allocator<std::vector<int, std::allocator<int> > > > already registered; second conversion method ignored.\n",
      "  return f(*args, **kwds)\n",
      "/home/alexey/Conda/Miniconda3/envs/libra/lib/python3.6/importlib/_bootstrap.py:219: RuntimeWarning: to-Python converter for boost::python::detail::container_element<std::vector<std::vector<int, std::allocator<int> >, std::allocator<std::vector<int, std::allocator<int> > > >, unsigned long, boost::python::detail::final_vector_derived_policies<std::vector<std::vector<int, std::allocator<int> >, std::allocator<std::vector<int, std::allocator<int> > > >, false> > already registered; second conversion method ignored.\n",
      "  return f(*args, **kwds)\n",
      "/home/alexey/Conda/Miniconda3/envs/libra/lib/python3.6/importlib/_bootstrap.py:219: RuntimeWarning: to-Python converter for std::vector<std::vector<float, std::allocator<float> >, std::allocator<std::vector<float, std::allocator<float> > > > already registered; second conversion method ignored.\n",
      "  return f(*args, **kwds)\n",
      "/home/alexey/Conda/Miniconda3/envs/libra/lib/python3.6/importlib/_bootstrap.py:219: RuntimeWarning: to-Python converter for boost::python::detail::container_element<std::vector<std::vector<float, std::allocator<float> >, std::allocator<std::vector<float, std::allocator<float> > > >, unsigned long, boost::python::detail::final_vector_derived_policies<std::vector<std::vector<float, std::allocator<float> >, std::allocator<std::vector<float, std::allocator<float> > > >, false> > already registered; second conversion method ignored.\n",
      "  return f(*args, **kwds)\n",
      "/home/alexey/Conda/Miniconda3/envs/libra/lib/python3.6/importlib/_bootstrap.py:219: RuntimeWarning: to-Python converter for std::vector<std::vector<double, std::allocator<double> >, std::allocator<std::vector<double, std::allocator<double> > > > already registered; second conversion method ignored.\n",
      "  return f(*args, **kwds)\n",
      "/home/alexey/Conda/Miniconda3/envs/libra/lib/python3.6/importlib/_bootstrap.py:219: RuntimeWarning: to-Python converter for boost::python::detail::container_element<std::vector<std::vector<double, std::allocator<double> >, std::allocator<std::vector<double, std::allocator<double> > > >, unsigned long, boost::python::detail::final_vector_derived_policies<std::vector<std::vector<double, std::allocator<double> >, std::allocator<std::vector<double, std::allocator<double> > > >, false> > already registered; second conversion method ignored.\n",
      "  return f(*args, **kwds)\n",
      "/home/alexey/Conda/Miniconda3/envs/libra/lib/python3.6/importlib/_bootstrap.py:219: RuntimeWarning: to-Python converter for std::vector<std::vector<std::complex<double>, std::allocator<std::complex<double> > >, std::allocator<std::vector<std::complex<double>, std::allocator<std::complex<double> > > > > already registered; second conversion method ignored.\n",
      "  return f(*args, **kwds)\n",
      "/home/alexey/Conda/Miniconda3/envs/libra/lib/python3.6/importlib/_bootstrap.py:219: RuntimeWarning: to-Python converter for boost::python::detail::container_element<std::vector<std::vector<std::complex<double>, std::allocator<std::complex<double> > >, std::allocator<std::vector<std::complex<double>, std::allocator<std::complex<double> > > > >, unsigned long, boost::python::detail::final_vector_derived_policies<std::vector<std::vector<std::complex<double>, std::allocator<std::complex<double> > >, std::allocator<std::vector<std::complex<double>, std::allocator<std::complex<double> > > > >, false> > already registered; second conversion method ignored.\n",
      "  return f(*args, **kwds)\n"
     ]
    }
   ],
   "source": [
    "import os\n",
    "import sys\n",
    "\n",
    "if sys.platform==\"cygwin\":\n",
    "    from cyglibra_core import *\n",
    "elif sys.platform==\"linux\" or sys.platform==\"linux2\":\n",
    "    from liblibra_core import *\n",
    "\n",
    "import util.libutil as comn\n",
    "from libra_py import pdos, data_conv\n",
    "\n",
    "import matplotlib.pyplot as plt   # plots\n",
    "#matplotlib.use('Agg')\n",
    "#%matplotlib inline \n",
    "\n",
    "import numpy as np\n",
    "#from matplotlib.mlab import griddata\n",
    "\n",
    "plt.rc('axes', titlesize=24)      # fontsize of the axes title\n",
    "plt.rc('axes', labelsize=20)      # fontsize of the x and y labels\n",
    "plt.rc('legend', fontsize=20)     # legend fontsize\n",
    "plt.rc('xtick', labelsize=16)    # fontsize of the tick labels\n",
    "plt.rc('ytick', labelsize=16)    # fontsize of the tick labels\n",
    "\n",
    "plt.rc('figure.subplot', left=0.2)\n",
    "plt.rc('figure.subplot', right=0.95)\n",
    "plt.rc('figure.subplot', bottom=0.13)\n",
    "plt.rc('figure.subplot', top=0.88)\n",
    "\n",
    "colors = {}\n",
    "\n",
    "colors.update({\"11\": \"#8b1a0e\"})  # red       \n",
    "colors.update({\"12\": \"#FF4500\"})  # orangered \n",
    "colors.update({\"13\": \"#B22222\"})  # firebrick \n",
    "colors.update({\"14\": \"#DC143C\"})  # crimson   \n",
    "\n",
    "colors.update({\"21\": \"#5e9c36\"})  # green\n",
    "colors.update({\"22\": \"#006400\"})  # darkgreen  \n",
    "colors.update({\"23\": \"#228B22\"})  # forestgreen\n",
    "colors.update({\"24\": \"#808000\"})  # olive      \n",
    "\n",
    "colors.update({\"31\": \"#8A2BE2\"})  # blueviolet\n",
    "colors.update({\"32\": \"#00008B\"})  # darkblue  \n",
    "\n",
    "colors.update({\"41\": \"#2F4F4F\"})  # darkslategray\n",
    "\n",
    "clrs_index = [\"11\", \"21\", \"31\", \"41\", \"12\", \"22\", \"32\", \"13\",\"23\", \"14\", \"24\"]"
   ]
  },
  {
   "cell_type": "markdown",
   "metadata": {},
   "source": [
    "## 2. Run QE pDOS  calculations\n",
    "<a name=\"run_qe\"></a> [Back to TOC](#TOC)\n",
    "\n",
    "In this tutorial, we are not going into details of the pDOS calculations with QE. It is covered in a different tutorial. However, for completeness, the input/submit/output files are included in this tutorial folder.\n",
    "\n",
    "On the UB CCR cluster, the calculations are done with the following command:\n",
    "\n",
    "    sbatch submit.slm\n",
    "\n",
    "The calculations produced a set of `x.pdos_atm#*` files, which we placed into the `pdos` folder, which is presently archived.\n",
    "\n",
    "Here, we will mimick the calculations by simply unzipping the `pdos` folder"
   ]
  },
  {
   "cell_type": "code",
   "execution_count": 2,
   "metadata": {},
   "outputs": [
    {
     "data": {
      "text/plain": [
       "256"
      ]
     },
     "execution_count": 2,
     "metadata": {},
     "output_type": "execute_result"
    }
   ],
   "source": [
    "os.system(\"unzip pdos.zip -d pdos\")"
   ]
  },
  {
   "cell_type": "markdown",
   "metadata": {},
   "source": [
    "The files in the newly created directory contain orbital-resolved densities of states. We use these files as the input to compute various kinds of pDOS"
   ]
  },
  {
   "cell_type": "markdown",
   "metadata": {},
   "source": [
    "## 3. Compute the pDOS\n",
    "<a name=\"compute_pdos\"></a> [Back to TOC](#TOC)\n",
    "\n",
    "We are going to use the `QE_pdos` function from the `libra_py.pdos` module.\n",
    "    \n",
    "<a name=\"QE_pdos\"></a>"
   ]
  },
  {
   "cell_type": "code",
   "execution_count": 3,
   "metadata": {},
   "outputs": [
    {
     "name": "stdout",
     "output_type": "stream",
     "text": [
      "Help on function QE_pdos in module libra_py.pdos:\n",
      "\n",
      "QE_pdos(prefix, emin, emax, de, projections, Ef, outfile_prefix, do_convolve, de_new, var, nspin=1)\n",
      "    Computes various types of pDOS from the atomic state projections generated by the QE\n",
      "    \n",
      "    Args:\n",
      "        prefix ( string ): a common prefix of the filenames for files containing the projection information\n",
      "        emin ( double ): the minimal energy of the pDOS window [eV]\n",
      "        emax ( double ): maximal energy of the pDOS window [eV]\n",
      "        de ( double ): the original grid spacing of the pDOS [eV] (not necessarily the one used in pdos.in)\n",
      "        projections ( list of lists of - see below): groups of atoms and types of projections.\n",
      "            Each element of this list contains 3 sub-lists, whose intersection defines which files to use:\n",
      "            e.g. projection = [[\"s\",\"p\"], [1,2,3], [\"Cs\", \"Br\"]] - means s and p orbitals of atoms 1, 2, and 3\n",
      "            as long as any of these atoms are Cs or Br\n",
      "        Ef ( double ): which energy use as the origin of energy scale (zero) in the output. Usually \n",
      "            the Fermi or LUMO energy\n",
      "        outfile_prefix ( string ): the prefix of the output file that will contain the final projections\n",
      "        do_convolve ( Bool ): the flag telling whether we want to convolve the original data with the\n",
      "            Gaussian envelope. The convolution is done with :func:`convolve`\n",
      "        de_new ( double ): the new energy grid spacing [eV], in effect only if do_convolve == True\n",
      "        var ( double ): standard deviation of the Gaussian [eV] with which we do a convolution, \n",
      "            in effect only if do_convolve == True\n",
      "        nspin ( int): specifies which nspin was used in the electronic structure calculation.\n",
      "                      nspin = 1      \n",
      "                      nspin = 2\n",
      "                      nspin = 4\n",
      "    \n",
      "    Returns:\n",
      "        tuple: ( E, pDOSa, pDOSb ), where:\n",
      "    \n",
      "            * E ( MATRIX(N, 1) ): new energy grid, N - the new number of energy grid points\n",
      "            * pDOSa ( MATRIX(N, Nproj) ): new Y grids, Nproj - len(projections) the number of projections we are interested in\n",
      "            * pDOSb ( MATRIX(N, Nproj) ): new Y grids, Nproj - len(projections) the number of projections we are interested in\n",
      "    \n",
      "            * if nspin = 1 or 4, pDOSb and pDOSa are the same\n",
      "            * if nspin = 2, pDOSb may be different from pDOSa\n",
      "            * if nspin = 4, returns just the pDOSa (pDOSb = None), but the orbitals now mixed spin states\n",
      "\n"
     ]
    }
   ],
   "source": [
    "help(pdos.QE_pdos)"
   ]
  },
  {
   "cell_type": "code",
   "execution_count": 4,
   "metadata": {},
   "outputs": [
    {
     "name": "stdout",
     "output_type": "stream",
     "text": [
      "multiplication factor is =  10\n",
      "original grid spacing =  0.1\n",
      "new grid spacing =  0.01\n",
      "gaussian variance =  0.1\n",
      "multiplication factor is =  10\n",
      "original grid spacing =  0.1\n",
      "new grid spacing =  0.01\n",
      "gaussian variance =  0.1\n"
     ]
    }
   ],
   "source": [
    "E_f = 2.1608\n",
    "Cd_p = [[\"p\"], [1, 2], [\"Cd\"] ]\n",
    "Cd_d = [[\"d\"], [1, 2], [\"Cd\"] ]\n",
    "Se_p = [[\"p\"], [3, 4], [\"Se\"] ]\n",
    "Se_d = [[\"d\"], [3, 4], [\"Se\"] ]\n",
    "projections = [ Cd_p, Cd_d, Se_p, Se_d ]\n",
    "\n",
    "E, pdosa, pdosb = pdos.QE_pdos(\"pdos/x.pdos_atm#\", -10.0, 10.0, 0.1, projections,\\\n",
    "                               E_f, \"pdos_\", 1, 0.01, 0.1, nspin=2)"
   ]
  },
  {
   "cell_type": "markdown",
   "metadata": {},
   "source": [
    "Here, we requested to compute the densities of p and d states resolved by Cd and Se atom typels. This is defined by the projections.\n",
    "\n",
    "**Note that we should be using the atom indices starting from 1, not from 0, when we define the projections** \n",
    "\n",
    "The `x.pdos.in` file used the energy grid spacing of 0.1 eV, so we use it as the input of the `de` variable in the `QE_pdos` function.\n",
    "\n",
    "However, we want to makes the pDOS a bit more smooth, so we use the new energy grid spacing to be 0.01 eV. We also broaden each line by 0.1 eV, which is comparable to the size of the original energy grid spacing. To make a smooth plot, we turn on the convolution of the original data with the Galussians by setting the `do_convolve` argument to 1. \n",
    "\n",
    "Finally, our calculations were conducted as spin-polarized (unrestricted), so we need to set the `nspin` parameter to 2, to properly read the information.\n",
    "\n",
    "We also need to set the `E_f` variable to the correct value (taken from the output of the single-point calculations), such that the pDOS we are going to plot next are centered on the Fermi energy level. \n",
    "\n",
    "The function `QE_pdos` retuns the new energy grid, as well as the requested alpha and beta projections, all in the MATRIX format. For convenience, we convert the MATRIX objects to numpy arrays using the `MATRIX2nparray` function:"
   ]
  },
  {
   "cell_type": "code",
   "execution_count": 5,
   "metadata": {},
   "outputs": [
    {
     "data": {
      "text/plain": [
       "((2010, 1), (2010, 4), (2010, 4))"
      ]
     },
     "execution_count": 5,
     "metadata": {},
     "output_type": "execute_result"
    }
   ],
   "source": [
    "e_grid = data_conv.MATRIX2nparray(E)\n",
    "proja = data_conv.MATRIX2nparray(pdosa)\n",
    "projb = data_conv.MATRIX2nparray(pdosb)\n",
    "\n",
    "e_grid.shape, proja.shape, projb.shape"
   ]
  },
  {
   "cell_type": "markdown",
   "metadata": {},
   "source": [
    "Finally, let's define a plotting function to produce nice pictures. \n",
    "\n",
    "This function plots the pDOSs of alpha (on positive half of the y axis) and beta (on negative one) types. \n",
    "\n",
    "Because the system is polarized, the alpha and beta states are different, which means the two pDOSs are not symmetric w.r.t. reflection around x axis. "
   ]
  },
  {
   "cell_type": "code",
   "execution_count": 6,
   "metadata": {},
   "outputs": [],
   "source": [
    "def plot(_energy, _pdosa, _pdosb):\n",
    "    \n",
    "    plt.rc('axes', titlesize=18)      # fontsize of the axes title\n",
    "    plt.rc('axes', labelsize=18)      # fontsize of the x and y labels\n",
    "    plt.rc('legend', fontsize=12)     # legend fontsize\n",
    "    plt.rc('xtick', labelsize=18)     # fontsize of the tick labels\n",
    "    plt.rc('ytick', labelsize=18)     # fontsize of the tick labels\n",
    "    \n",
    "    plt.ylim(-5.0, 5.0)\n",
    "    plt.xlim(-5.0, 7.0)\n",
    "\n",
    "    \n",
    "    #======== Now lets plot what we have computed ===========\n",
    "    plt.figure(1, figsize=(36, 24), dpi=300, frameon=False)\n",
    "    \n",
    "    lw = 3 \n",
    "    plt.title('CdSe pDOS')\n",
    "    plt.xlabel('$E - E_f, eV$')\n",
    "    plt.ylabel('pDOS, 1/eV')    \n",
    "    plt.plot(_energy[:,0], _pdosa[:, 0], label='Cd(p)', linewidth=lw, color = colors[\"11\"]) \n",
    "    plt.plot(_energy[:,0], _pdosa[:, 1], label='Cd(d)', linewidth=lw, color = colors[\"21\"]) \n",
    "    plt.plot(_energy[:,0], _pdosa[:, 2], label='Se(p)', linewidth=lw, color = colors[\"31\"]) \n",
    "    plt.plot(_energy[:,0], _pdosa[:, 3], label='Se(d)', linewidth=lw, color = colors[\"41\"])     \n",
    "    \n",
    "    plt.plot(_energy[:,0], -_pdosb[:, 0], linewidth=lw, color = colors[\"11\"]) \n",
    "    plt.plot(_energy[:,0], -_pdosb[:, 1], linewidth=lw, color = colors[\"21\"]) \n",
    "    plt.plot(_energy[:,0], -_pdosb[:, 2], linewidth=lw, color = colors[\"31\"]) \n",
    "    plt.plot(_energy[:,0], -_pdosb[:, 3], linewidth=lw, color = colors[\"41\"])     \n",
    "    plt.legend()       \n",
    "            \n",
    "    plt.tight_layout()\n",
    "    \n",
    "    plt.savefig(\"pdos.png\")        \n",
    "    plt.show()\n",
    "    \n",
    "    plt.close()"
   ]
  },
  {
   "cell_type": "code",
   "execution_count": 7,
   "metadata": {},
   "outputs": [
    {
     "data": {
      "image/png": "[encoded data removed]",
      "text/plain": [
       "<Figure size 432x288 with 1 Axes>"
      ]
     },
     "metadata": {
      "needs_background": "light"
     },
     "output_type": "display_data"
    }
   ],
   "source": [
    "plot(e_grid, proja, projb)"
   ]
  },
  {
   "cell_type": "markdown",
   "metadata": {},
   "source": [
    "Note that the projections are defined by meeting all 3 conditions:  orbital type, atom numbers, element type. All three criteria must be met for the projection to pick the corresponding data from the `pdos` folder (and then from a corresponding place in the file).\n",
    "\n",
    "This can be used for convenience. For instance, in the example above, we didn't have to know the indices of Cd and Se atoms, and we could have just identified the entire range of possible indices, that is `[0,1,2,3]` and even could have gone more."
   ]
  },
  {
   "cell_type": "code",
   "execution_count": 8,
   "metadata": {},
   "outputs": [
    {
     "name": "stdout",
     "output_type": "stream",
     "text": [
      "multiplication factor is =  10\n",
      "original grid spacing =  0.1\n",
      "new grid spacing =  0.01\n",
      "gaussian variance =  0.1\n",
      "multiplication factor is =  10\n",
      "original grid spacing =  0.1\n",
      "new grid spacing =  0.01\n",
      "gaussian variance =  0.1\n"
     ]
    },
    {
     "data": {
      "image/png": "[encoded data removed]",
      "text/plain": [
       "<Figure size 432x288 with 1 Axes>"
      ]
     },
     "metadata": {
      "needs_background": "light"
     },
     "output_type": "display_data"
    }
   ],
   "source": [
    "E_f = 2.1608\n",
    "all_atoms = list(range(1,10))\n",
    "Cd_p = [[\"p\"], all_atoms, [\"Cd\"] ]\n",
    "Cd_d = [[\"d\"], all_atoms, [\"Cd\"] ]\n",
    "Se_p = [[\"p\"], all_atoms, [\"Se\"] ]\n",
    "Se_d = [[\"d\"], all_atoms, [\"Se\"] ]\n",
    "projections = [ Cd_p, Cd_d, Se_p, Se_d ]\n",
    "\n",
    "E, pdosa, pdosb = pdos.QE_pdos(\"pdos/x.pdos_atm#\", -10.0, 10.0, 0.1, projections,\\\n",
    "                               E_f, \"pdos_\", 1, 0.01, 0.1, nspin=2)\n",
    "\n",
    "\n",
    "e_grid = data_conv.MATRIX2nparray(E)\n",
    "proja = data_conv.MATRIX2nparray(pdosa)\n",
    "projb = data_conv.MATRIX2nparray(pdosb)\n",
    "\n",
    "\n",
    "plot(e_grid, proja, projb)"
   ]
  },
  {
   "cell_type": "markdown",
   "metadata": {},
   "source": [
    "Once the file is generated, we can execute ErgoSCF. For this small problem, it can be run as simple as:"
   ]
  },
  {
   "cell_type": "markdown",
   "metadata": {},
   "source": [
    "## 4. Optional cleanup\n",
    "<a name=\"cleanup\"></a> [Back to TOC](#TOC)\n",
    "\n",
    "Change 0 to 1 if you want to run the instruction below - to remove all the files that were generated by this tutorial. Be sure not to run it in a different directory (in case you may have other files with the same extension)"
   ]
  },
  {
   "cell_type": "code",
   "execution_count": 9,
   "metadata": {},
   "outputs": [],
   "source": [
    "if 0:\n",
    "    os.system(\"rm -r pdos\")\n",
    "    os.system(\"rm pdos_*\")"
   ]
  },
  {
   "cell_type": "markdown",
   "metadata": {},
   "source": [
    "## Exercise 1:\n",
    "\n",
    "Using the same data, compute the element-resolved pDOS - that is pDOS of all Cd and Se states. Of course, separately for alpha and beta channels."
   ]
  },
  {
   "cell_type": "markdown",
   "metadata": {},
   "source": [
    "## Exercise 2:\n",
    "\n",
    "Using the same data, compute the orbital-type-resolved pDOS - that is pDOSs for \"s\", \"p\", and \"d\"-type orbitals, no matter which element type. "
   ]
  },
  {
   "cell_type": "markdown",
   "metadata": {},
   "source": [
    "## Exercise 3:\n",
    "\n",
    "Using the same data, compute the total DOS for this system."
   ]
  }
 ],
 "metadata": {
  "kernelspec": {
   "display_name": "Python 3",
   "language": "python",
   "name": "python3"
  },
  "language_info": {
   "codemirror_mode": {
    "name": "ipython",
    "version": 3
   },
   "file_extension": ".py",
   "mimetype": "text/x-python",
   "name": "python",
   "nbconvert_exporter": "python",
   "pygments_lexer": "ipython3",
   "version": "3.6.13"
  }
 },
 "nbformat": 4,
 "nbformat_minor": 2
}
