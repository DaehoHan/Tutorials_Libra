{
 "cells": [
  {
   "cell_type": "markdown",
   "metadata": {},
   "source": [
    "## Tutorial 1. Constructing Rigid Bodies and Computing their Descriptors\n",
    "\n",
    "This tutorial demonstrates how to setup a rigid body, initialize it and compute some of its properties"
   ]
  },
  {
   "cell_type": "code",
   "execution_count": 1,
   "metadata": {},
   "outputs": [
    {
     "name": "stderr",
     "output_type": "stream",
     "text": [
      "/home/alexey/miniconda2/envs/py37/lib/python3.7/importlib/_bootstrap.py:219: RuntimeWarning: to-Python converter for std::vector<std::complex<double>, std::allocator<std::complex<double> > > already registered; second conversion method ignored.\n",
      "  return f(*args, **kwds)\n",
      "/home/alexey/miniconda2/envs/py37/lib/python3.7/importlib/_bootstrap.py:219: RuntimeWarning: to-Python converter for std::vector<std::vector<int, std::allocator<int> >, std::allocator<std::vector<int, std::allocator<int> > > > already registered; second conversion method ignored.\n",
      "  return f(*args, **kwds)\n",
      "/home/alexey/miniconda2/envs/py37/lib/python3.7/importlib/_bootstrap.py:219: RuntimeWarning: to-Python converter for boost::python::detail::container_element<std::vector<std::vector<int, std::allocator<int> >, std::allocator<std::vector<int, std::allocator<int> > > >, unsigned long, boost::python::detail::final_vector_derived_policies<std::vector<std::vector<int, std::allocator<int> >, std::allocator<std::vector<int, std::allocator<int> > > >, false> > already registered; second conversion method ignored.\n",
      "  return f(*args, **kwds)\n",
      "/home/alexey/miniconda2/envs/py37/lib/python3.7/importlib/_bootstrap.py:219: RuntimeWarning: to-Python converter for std::vector<std::vector<float, std::allocator<float> >, std::allocator<std::vector<float, std::allocator<float> > > > already registered; second conversion method ignored.\n",
      "  return f(*args, **kwds)\n",
      "/home/alexey/miniconda2/envs/py37/lib/python3.7/importlib/_bootstrap.py:219: RuntimeWarning: to-Python converter for boost::python::detail::container_element<std::vector<std::vector<float, std::allocator<float> >, std::allocator<std::vector<float, std::allocator<float> > > >, unsigned long, boost::python::detail::final_vector_derived_policies<std::vector<std::vector<float, std::allocator<float> >, std::allocator<std::vector<float, std::allocator<float> > > >, false> > already registered; second conversion method ignored.\n",
      "  return f(*args, **kwds)\n",
      "/home/alexey/miniconda2/envs/py37/lib/python3.7/importlib/_bootstrap.py:219: RuntimeWarning: to-Python converter for std::vector<std::vector<double, std::allocator<double> >, std::allocator<std::vector<double, std::allocator<double> > > > already registered; second conversion method ignored.\n",
      "  return f(*args, **kwds)\n",
      "/home/alexey/miniconda2/envs/py37/lib/python3.7/importlib/_bootstrap.py:219: RuntimeWarning: to-Python converter for boost::python::detail::container_element<std::vector<std::vector<double, std::allocator<double> >, std::allocator<std::vector<double, std::allocator<double> > > >, unsigned long, boost::python::detail::final_vector_derived_policies<std::vector<std::vector<double, std::allocator<double> >, std::allocator<std::vector<double, std::allocator<double> > > >, false> > already registered; second conversion method ignored.\n",
      "  return f(*args, **kwds)\n",
      "/home/alexey/miniconda2/envs/py37/lib/python3.7/importlib/_bootstrap.py:219: RuntimeWarning: to-Python converter for boost::python::detail::container_element<std::vector<std::vector<std::complex<double>, std::allocator<std::complex<double> > >, std::allocator<std::vector<std::complex<double>, std::allocator<std::complex<double> > > > >, unsigned long, boost::python::detail::final_vector_derived_policies<std::vector<std::vector<std::complex<double>, std::allocator<std::complex<double> > >, std::allocator<std::vector<std::complex<double>, std::allocator<std::complex<double> > > > >, false> > already registered; second conversion method ignored.\n",
      "  return f(*args, **kwds)\n"
     ]
    }
   ],
   "source": [
    "import os\n",
    "import math\n",
    "import sys\n",
    "\n",
    "if sys.platform==\"cygwin\":\n",
    "    from cyglibra_core import *\n",
    "elif sys.platform==\"linux\" or sys.platform==\"linux2\":\n",
    "    from liblibra_core import *\n",
    "from libra_py import *\n",
    "from libra_py.data_outs import print_matrix"
   ]
  },
  {
   "cell_type": "markdown",
   "metadata": {},
   "source": [
    "Create an empty `RigidBody` object and show its properties.\n",
    "Note that the output can be fond in the terminal output, not in the Jupyter output.\n",
    "\n",
    "Note that pretty much everything is zero (center of mass, the moments of inertia, etc.)"
   ]
  },
  {
   "cell_type": "code",
   "execution_count": 2,
   "metadata": {},
   "outputs": [],
   "source": [
    "rb = RigidBody()\n",
    "rb.show_info()"
   ]
  },
  {
   "cell_type": "markdown",
   "metadata": {},
   "source": [
    "Now, lets create a system of 2 particles.\n",
    "The masses of the particles are defined in the list `masses`\n",
    "The coordinates of all particles are give in the list `centers`\n",
    "Both variables are passes to the `init` function of the `RigidBody` class object `rb`\n",
    "Also, we pass the number of particles (2) to this initialization function\n",
    "\n",
    "Once the RB is initialized, we print out its properties again.\n",
    "Please check out the terminal output."
   ]
  },
  {
   "cell_type": "code",
   "execution_count": 3,
   "metadata": {},
   "outputs": [],
   "source": [
    "masses = [1.0,1.0]\n",
    "centers = [VECTOR(0.0,0.0,0.0),VECTOR(1.0,0.0,0.0)]\n",
    "rb.init(2,masses,centers)\n",
    "rb.show_info()"
   ]
  },
  {
   "cell_type": "markdown",
   "metadata": {},
   "source": [
    "The `rb` object now contains all the precomputed properties inside. \n",
    "We can access these properties via calling the corresponding members\n",
    "\n",
    "### The coordinates \n",
    "The coordinates of all centers w.r.t. the center of mass of the Rigid body"
   ]
  },
  {
   "cell_type": "code",
   "execution_count": 4,
   "metadata": {},
   "outputs": [
    {
     "name": "stdout",
     "output_type": "stream",
     "text": [
      " Particles = <liblibra_core.VECTORList object at 0x7f2425141f80>\n",
      " Particle 0 coordinates: x = -0.5 y = 0.0 z = 0.0 \n",
      " Particle 1 coordinates: x = 0.5 y = 0.0 z = 0.0 \n"
     ]
    }
   ],
   "source": [
    "print(F\" Particles = {rb.rb_centers}\" )\n",
    "for i in range( len(rb.rb_centers) ):\n",
    "    r = rb.rb_centers[i]\n",
    "    print(F\" Particle {i} coordinates: x = {r.x} y = {r.y} z = {r.z} \")    "
   ]
  },
  {
   "cell_type": "markdown",
   "metadata": {},
   "source": [
    "The coordinates of the center of mass"
   ]
  },
  {
   "cell_type": "code",
   "execution_count": 5,
   "metadata": {},
   "outputs": [
    {
     "name": "stdout",
     "output_type": "stream",
     "text": [
      "Center of mass coordinates: x = 0.5 y = 0.0 z = 0.0\n"
     ]
    }
   ],
   "source": [
    "print(F\"Center of mass coordinates: x = {rb.rb_cm.x} y = {rb.rb_cm.y} z = {rb.rb_cm.z}\" )"
   ]
  },
  {
   "cell_type": "markdown",
   "metadata": {},
   "source": [
    "### Masses"
   ]
  },
  {
   "cell_type": "code",
   "execution_count": 6,
   "metadata": {},
   "outputs": [
    {
     "name": "stdout",
     "output_type": "stream",
     "text": [
      "The total mass of the rigid body  = 2.0 \n",
      "The inverse of the total mass of the rigid body  = 0.5 \n"
     ]
    }
   ],
   "source": [
    "print( F\"The total mass of the rigid body  = {rb.rb_mass} \")\n",
    "print( F\"The inverse of the total mass of the rigid body  = {rb.rb_iM} \")"
   ]
  },
  {
   "cell_type": "markdown",
   "metadata": {},
   "source": [
    "### Inertia tensors\n",
    "\n",
    "Note how we use the `print_matrix` function, found in the `libra_py.data_outs` module.\n",
    "This is just to print results to the Jupyter output."
   ]
  },
  {
   "cell_type": "code",
   "execution_count": 13,
   "metadata": {},
   "outputs": [
    {
     "name": "stdout",
     "output_type": "stream",
     "text": [
      "Interia tensor in the external frame:\n",
      " xx = 0.0  xy = 0.0  xz = 0.0\n",
      " yx = 0.0  yy = 0.5  yz = 0.0\n",
      " zx = 0.0  zy = 0.0  zz = 0.5\n",
      "Interia tensor in the body frame:\n",
      " xx = 0.0  xy = 0.0  xz = 0.0\n",
      " yx = 0.0  yy = 0.5  yz = 0.0\n",
      " zx = 0.0  zy = 0.0  zz = 0.5\n"
     ]
    }
   ],
   "source": [
    "print(\"Interia tensor in the external frame:\"); print_matrix(rb.rb_I_I)\n",
    "print(\"Interia tensor in the body frame:\"); print_matrix(rb.rb_I_e)"
   ]
  },
  {
   "cell_type": "markdown",
   "metadata": {},
   "source": [
    "### Inverse inertia tensor matrices"
   ]
  },
  {
   "cell_type": "code",
   "execution_count": 14,
   "metadata": {},
   "outputs": [
    {
     "name": "stdout",
     "output_type": "stream",
     "text": [
      "Inverse of interia tensor in the external frame:\n",
      " xx = 0.0  xy = 0.0  xz = 0.0\n",
      " yx = 0.0  yy = 2.0  yz = 0.0\n",
      " zx = 0.0  zy = 0.0  zz = 2.0\n",
      "Inverse of interia tensor in the body frame:\n",
      " xx = 0.0  xy = 0.0  xz = 0.0\n",
      " yx = 0.0  yy = 2.0  yz = 0.0\n",
      " zx = 0.0  zy = 0.0  zz = 2.0\n"
     ]
    }
   ],
   "source": [
    "print(\"Inverse of interia tensor in the external frame:\"); print_matrix(rb.rb_invI_I)\n",
    "print(\"Inverse of interia tensor in the body frame:\"); print_matrix(rb.rb_invI_e)"
   ]
  },
  {
   "cell_type": "markdown",
   "metadata": {},
   "source": [
    "### Rotational constants\n",
    "\n",
    "These are the inverse of the principal moments of inertia"
   ]
  },
  {
   "cell_type": "code",
   "execution_count": 12,
   "metadata": {},
   "outputs": [
    {
     "name": "stdout",
     "output_type": "stream",
     "text": [
      "A = 0.0  B = 2.0  C = 2.0 \n"
     ]
    }
   ],
   "source": [
    "print(F\"A = {rb.rb_A}  B = {rb.rb_B}  C = {rb.rb_C} \")"
   ]
  },
  {
   "cell_type": "markdown",
   "metadata": {},
   "source": [
    "### External-to-body frame transformation matrix\n",
    "\n",
    "and its transpose"
   ]
  },
  {
   "cell_type": "code",
   "execution_count": 15,
   "metadata": {},
   "outputs": [
    {
     "name": "stdout",
     "output_type": "stream",
     "text": [
      "External to body transformation matrix:\n",
      " xx = 1.0  xy = 0.0  xz = 0.0\n",
      " yx = 0.0  yy = 1.0  yz = 0.0\n",
      " zx = 0.0  zy = 0.0  zz = 1.0\n",
      "Body to external transformation matrix:\n",
      " xx = 1.0  xy = 0.0  xz = 0.0\n",
      " yx = 0.0  yy = 1.0  yz = 0.0\n",
      " zx = 0.0  zy = 0.0  zz = 1.0\n"
     ]
    }
   ],
   "source": [
    "print(\"External to body transformation matrix:\"); print_matrix(rb.rb_A_I_to_e)\n",
    "print(\"Body to external transformation matrix:\"); print_matrix(rb.rb_A_I_to_e_T)"
   ]
  },
  {
   "cell_type": "markdown",
   "metadata": {},
   "source": [
    "This matrix is a unitary matrix, meaning $A * A^T = I$"
   ]
  },
  {
   "cell_type": "code",
   "execution_count": 16,
   "metadata": {
    "scrolled": true
   },
   "outputs": [
    {
     "name": "stdout",
     "output_type": "stream",
     "text": [
      "A * A.T() :\n",
      " xx = 1.0  xy = 0.0  xz = 0.0\n",
      " yx = 0.0  yy = 1.0  yz = 0.0\n",
      " zx = 0.0  zy = 0.0  zz = 1.0\n"
     ]
    }
   ],
   "source": [
    "I = rb.rb_A_I_to_e * rb.rb_A_I_to_e_T\n",
    "print(\"A * A.T() :\"); print_matrix(I)"
   ]
  },
  {
   "cell_type": "markdown",
   "metadata": {},
   "source": [
    "### Quaternion representation of the rotation matrix\n"
   ]
  },
  {
   "cell_type": "code",
   "execution_count": 23,
   "metadata": {},
   "outputs": [
    {
     "name": "stdout",
     "output_type": "stream",
     "text": [
      "Orientation quaternion: t = 1.0  x = 0.0  y = 0.0  z = 0.0\n"
     ]
    }
   ],
   "source": [
    "print(F\"Orientation quaternion: t = {rb.rb_L.Lt}  x = {rb.rb_L.Lx}  y = {rb.rb_L.Ly}  z = {rb.rb_L.Lz}\")"
   ]
  },
  {
   "cell_type": "markdown",
   "metadata": {},
   "source": [
    "### Momentum and velocity of the center of mass"
   ]
  },
  {
   "cell_type": "code",
   "execution_count": 17,
   "metadata": {},
   "outputs": [
    {
     "name": "stdout",
     "output_type": "stream",
     "text": [
      "Momentum of the COM: x = 0.0  y = 0.0  z = 0.0\n",
      "Velocity of the COM: x = 0.0  y = 0.0  z = 0.0\n"
     ]
    }
   ],
   "source": [
    "print(F\"Momentum of the COM: x = {rb.rb_p.x}  y = {rb.rb_p.y}  z = {rb.rb_p.z}\")\n",
    "print(F\"Velocity of the COM: x = {rb.rb_v.x}  y = {rb.rb_v.y}  z = {rb.rb_v.z}\")"
   ]
  },
  {
   "cell_type": "markdown",
   "metadata": {},
   "source": [
    "### Force and torque acting on the rigid body"
   ]
  },
  {
   "cell_type": "code",
   "execution_count": 20,
   "metadata": {},
   "outputs": [
    {
     "name": "stdout",
     "output_type": "stream",
     "text": [
      "Force acting on the COM: x = 0.0  y = 0.0  z = 0.0\n",
      "Torque in the body frame: x = 0.0  y = 0.0  z = 0.0\n"
     ]
    }
   ],
   "source": [
    "print(F\"Force acting on the COM: x = {rb.rb_force.x}  y = {rb.rb_force.y}  z = {rb.rb_force.z}\")\n",
    "print(F\"Torque in the body frame: x = {rb.rb_torque_e.x}  y = {rb.rb_torque_e.y}  z = {rb.rb_torque_e.z}\")"
   ]
  },
  {
   "cell_type": "markdown",
   "metadata": {},
   "source": [
    "### Angular momentum and angular velocity of the rigid body"
   ]
  },
  {
   "cell_type": "code",
   "execution_count": 21,
   "metadata": {
    "scrolled": true
   },
   "outputs": [
    {
     "name": "stdout",
     "output_type": "stream",
     "text": [
      "Angular momentum in the body frame: x = 0.0  y = 0.0  z = 0.0\n",
      "Angular velocity in the body frame: x = 0.0  y = 0.0  z = 0.0\n"
     ]
    }
   ],
   "source": [
    "print(F\"Angular momentum in the body frame: x = {rb.rb_l_e.x}  y = {rb.rb_l_e.y}  z = {rb.rb_l_e.z}\")\n",
    "print(F\"Angular velocity in the body frame: x = {rb.rb_w_e.x}  y = {rb.rb_w_e.y}  z = {rb.rb_w_e.z}\")"
   ]
  },
  {
   "cell_type": "markdown",
   "metadata": {},
   "source": [
    "### Time-derivative of the rotation quaternion (quaternion momentum)"
   ]
  },
  {
   "cell_type": "code",
   "execution_count": 24,
   "metadata": {},
   "outputs": [
    {
     "name": "stdout",
     "output_type": "stream",
     "text": [
      "Quaternion momentum: t = 0.0  x = 0.0  y = 0.0  z = 0.0\n"
     ]
    }
   ],
   "source": [
    "print(F\"Quaternion momentum: t = {rb.rb_p_r.Lt}  x = {rb.rb_p_r.Lx}  y = {rb.rb_p_r.Ly}  z = {rb.rb_p_r.Lz}\")"
   ]
  },
  {
   "cell_type": "markdown",
   "metadata": {},
   "source": [
    "### Extra-properties\n",
    "\n",
    "In addition, we can assign some extra properties to the rigid body object, to control whether we want to constrain its rotation of the motion of its center of mass"
   ]
  },
  {
   "cell_type": "code",
   "execution_count": 25,
   "metadata": {},
   "outputs": [
    {
     "name": "stdout",
     "output_type": "stream",
     "text": [
      "fixed_translation = 0\n",
      "fixed_rotation = 0\n"
     ]
    }
   ],
   "source": [
    "print(F\"fixed_translation = {rb.is_fixed_translation}\" )\n",
    "print(F\"fixed_rotation = {rb.is_fixed_rotation}\" )"
   ]
  },
  {
   "cell_type": "code",
   "execution_count": null,
   "metadata": {},
   "outputs": [],
   "source": []
  }
 ],
 "metadata": {
  "kernelspec": {
   "display_name": "Python 3",
   "language": "python",
   "name": "python3"
  },
  "language_info": {
   "codemirror_mode": {
    "name": "ipython",
    "version": 3
   },
   "file_extension": ".py",
   "mimetype": "text/x-python",
   "name": "python",
   "nbconvert_exporter": "python",
   "pygments_lexer": "ipython3",
   "version": "3.7.6"
  }
 },
 "nbformat": 4,
 "nbformat_minor": 4
}
