{
 "cells": [
  {
   "cell_type": "markdown",
   "metadata": {},
   "source": [
    "# Artificial Neural Networks (ANN) Basics: Error Back Propagation"
   ]
  },
  {
   "cell_type": "markdown",
   "metadata": {},
   "source": [
    "## Table of Content <a name=\"TOC\"></a>\n",
    "\n",
    "1. [General setups](#setups)\n",
    "\n",
    "2. [Creation and initialization. Data members](#creation) \n",
    "\n",
    "3. [Saving and loading ANNs](#save_load)\n",
    "\n",
    "4. [Training](#training) \n",
    "\n",
    "5. [Error tracking](#errors)\n"
   ]
  },
  {
   "cell_type": "markdown",
   "metadata": {},
   "source": [
    "### A. Learning objectives\n",
    "\n",
    "- to create an ANN of arbitrary architecture\n",
    "- to initialize the ANN parameters\n",
    "- to construct an ANN training algorithm\n",
    "- to save and load the ANN state\n",
    "- to know the difference between the online and batch training of an ANN\n",
    "- to train ANN and track the progress\n",
    "- to track errors of the ANN training\n",
    "- to predict the outputs using the ANN and known inputs\n",
    "\n",
    "### B. Use cases\n",
    "\n",
    "- [Deep machine learning: Multilayer Perceptron](#mlp-1)\n",
    "- [Constructing ANN from file](#save_load-1)\n",
    "\n",
    "\n",
    "### C. Functions\n",
    "\n",
    "- `liblibra::liblinalg`\n",
    "  - [`pop_submatrix`](#pop_submatrix-1)\n",
    "\n",
    "- `liblibra::libspecialfunctions`\n",
    "  - [`randperm`](#randperm-1) | [also here](#randperm-2)\n",
    "\n",
    "  \n",
    "### D. Classes and class members\n",
    "\n",
    "- `liblibra::libann`\n",
    "  - [`NeuralNetwork`](#NeuralNetwork-1) | [also here](#NeuralNetwork-1)\n",
    "    - [`Nlayers`](#Nlayers-1)  \n",
    "    - [`Npe`](#Npe-1)\n",
    "    - [`W`](#W-1) | [also here](#W-2)\n",
    "    - [`dW`](#dW-1)\n",
    "    - [`dWold`](#dWold-1)    \n",
    "    - [`grad_w`](#grad_w-1) | [also here](#grad_w-2)\n",
    "    - [`grad_w_old`](#grad_w_old-1)\n",
    "    - [`B`](#B-1) | [also here](#B-2)\n",
    "    - [`dB`](#dB-1)\n",
    "    - [`dBold`](#dBold-1)\n",
    "    - [`grad_b`](#grad_b-1) | [also here](#grad_b-2)\n",
    "    - [`grad_b_old`](#grad_b_old-1)\n",
    "    - [`propagate`](#propagate-1) | [also here](#propagate-2)\n",
    "    - [`back_propagate`](#back_propagate-1) | [also here](#back_propagate-2)\n",
    "    - [`save`](#save-1)\n",
    "    - [`load`](#load-1)\n",
    "    - [`init_weights_biases_uniform`](#init_weights_biases_uniform-1)\n",
    "    - [`init_weights_biases_normal`](#init_weights_biases_normal-1)\n",
    "    - [`train`](#train-1)    \n",
    "    - [`error`](#error-1)\n",
    "\n",
    "- `liblibra::librandom`\n",
    "  - [`Random`](#Random-1)    \n",
    "    - [`normal`](#normal-1)\n",
    "    "
   ]
  },
  {
   "cell_type": "markdown",
   "metadata": {},
   "source": [
    "## 1. General setups\n",
    "<a name=\"setups\"></a> [Back to TOC](#TOC)"
   ]
  },
  {
   "cell_type": "code",
   "execution_count": 1,
   "metadata": {
    "scrolled": false
   },
   "outputs": [
    {
     "name": "stdout",
     "output_type": "stream",
     "text": [
      "The history saving thread hit an unexpected error (DatabaseError('database disk image is malformed',)).History will not be written to the database.\n"
     ]
    },
    {
     "name": "stderr",
     "output_type": "stream",
     "text": [
      "/home/alexey/Conda/Miniconda3/envs/libra/lib/python3.6/importlib/_bootstrap.py:219: RuntimeWarning: to-Python converter for std::vector<std::vector<int, std::allocator<int> >, std::allocator<std::vector<int, std::allocator<int> > > > already registered; second conversion method ignored.\n",
      "  return f(*args, **kwds)\n",
      "/home/alexey/Conda/Miniconda3/envs/libra/lib/python3.6/importlib/_bootstrap.py:219: RuntimeWarning: to-Python converter for boost::python::detail::container_element<std::vector<std::vector<int, std::allocator<int> >, std::allocator<std::vector<int, std::allocator<int> > > >, unsigned long, boost::python::detail::final_vector_derived_policies<std::vector<std::vector<int, std::allocator<int> >, std::allocator<std::vector<int, std::allocator<int> > > >, false> > already registered; second conversion method ignored.\n",
      "  return f(*args, **kwds)\n",
      "/home/alexey/Conda/Miniconda3/envs/libra/lib/python3.6/importlib/_bootstrap.py:219: RuntimeWarning: to-Python converter for std::vector<std::vector<float, std::allocator<float> >, std::allocator<std::vector<float, std::allocator<float> > > > already registered; second conversion method ignored.\n",
      "  return f(*args, **kwds)\n",
      "/home/alexey/Conda/Miniconda3/envs/libra/lib/python3.6/importlib/_bootstrap.py:219: RuntimeWarning: to-Python converter for boost::python::detail::container_element<std::vector<std::vector<float, std::allocator<float> >, std::allocator<std::vector<float, std::allocator<float> > > >, unsigned long, boost::python::detail::final_vector_derived_policies<std::vector<std::vector<float, std::allocator<float> >, std::allocator<std::vector<float, std::allocator<float> > > >, false> > already registered; second conversion method ignored.\n",
      "  return f(*args, **kwds)\n",
      "/home/alexey/Conda/Miniconda3/envs/libra/lib/python3.6/importlib/_bootstrap.py:219: RuntimeWarning: to-Python converter for std::vector<std::vector<double, std::allocator<double> >, std::allocator<std::vector<double, std::allocator<double> > > > already registered; second conversion method ignored.\n",
      "  return f(*args, **kwds)\n",
      "/home/alexey/Conda/Miniconda3/envs/libra/lib/python3.6/importlib/_bootstrap.py:219: RuntimeWarning: to-Python converter for boost::python::detail::container_element<std::vector<std::vector<double, std::allocator<double> >, std::allocator<std::vector<double, std::allocator<double> > > >, unsigned long, boost::python::detail::final_vector_derived_policies<std::vector<std::vector<double, std::allocator<double> >, std::allocator<std::vector<double, std::allocator<double> > > >, false> > already registered; second conversion method ignored.\n",
      "  return f(*args, **kwds)\n",
      "/home/alexey/Conda/Miniconda3/envs/libra/lib/python3.6/importlib/_bootstrap.py:219: RuntimeWarning: to-Python converter for std::vector<std::vector<std::complex<double>, std::allocator<std::complex<double> > >, std::allocator<std::vector<std::complex<double>, std::allocator<std::complex<double> > > > > already registered; second conversion method ignored.\n",
      "  return f(*args, **kwds)\n",
      "/home/alexey/Conda/Miniconda3/envs/libra/lib/python3.6/importlib/_bootstrap.py:219: RuntimeWarning: to-Python converter for boost::python::detail::container_element<std::vector<std::vector<std::complex<double>, std::allocator<std::complex<double> > >, std::allocator<std::vector<std::complex<double>, std::allocator<std::complex<double> > > > >, unsigned long, boost::python::detail::final_vector_derived_policies<std::vector<std::vector<std::complex<double>, std::allocator<std::complex<double> > >, std::allocator<std::vector<std::complex<double>, std::allocator<std::complex<double> > > > >, false> > already registered; second conversion method ignored.\n",
      "  return f(*args, **kwds)\n"
     ]
    }
   ],
   "source": [
    "import math\n",
    "import sys\n",
    "import cmath\n",
    "import math\n",
    "import os\n",
    "\n",
    "if sys.platform==\"cygwin\":\n",
    "    from cyglibra_core import *\n",
    "elif sys.platform==\"linux\" or sys.platform==\"linux2\":\n",
    "    from liblibra_core import *\n",
    "import util.libutil as comn\n",
    "\n",
    "from libra_py import units\n",
    "from libra_py import data_outs\n",
    "import matplotlib.pyplot as plt   # plots\n",
    "#matplotlib.use('Agg')\n",
    "#%matplotlib inline \n",
    "\n",
    "import numpy as np\n",
    "#from matplotlib.mlab import griddata\n",
    "\n",
    "plt.rc('axes', titlesize=24)      # fontsize of the axes title\n",
    "plt.rc('axes', labelsize=20)      # fontsize of the x and y labels\n",
    "plt.rc('legend', fontsize=20)     # legend fontsize\n",
    "plt.rc('xtick', labelsize=16)    # fontsize of the tick labels\n",
    "plt.rc('ytick', labelsize=16)    # fontsize of the tick labels\n",
    "\n",
    "plt.rc('figure.subplot', left=0.2)\n",
    "plt.rc('figure.subplot', right=0.95)\n",
    "plt.rc('figure.subplot', bottom=0.13)\n",
    "plt.rc('figure.subplot', top=0.88)\n",
    "\n",
    "colors = {}\n",
    "\n",
    "colors.update({\"11\": \"#8b1a0e\"})  # red       \n",
    "colors.update({\"12\": \"#FF4500\"})  # orangered \n",
    "colors.update({\"13\": \"#B22222\"})  # firebrick \n",
    "colors.update({\"14\": \"#DC143C\"})  # crimson   \n",
    "\n",
    "colors.update({\"21\": \"#5e9c36\"})  # green\n",
    "colors.update({\"22\": \"#006400\"})  # darkgreen  \n",
    "colors.update({\"23\": \"#228B22\"})  # forestgreen\n",
    "colors.update({\"24\": \"#808000\"})  # olive      \n",
    "\n",
    "colors.update({\"31\": \"#8A2BE2\"})  # blueviolet\n",
    "colors.update({\"32\": \"#00008B\"})  # darkblue  \n",
    "\n",
    "colors.update({\"41\": \"#2F4F4F\"})  # darkslategray\n",
    "\n",
    "clrs_index = [\"11\", \"21\", \"31\", \"41\", \"12\", \"22\", \"32\", \"13\",\"23\", \"14\", \"24\"]"
   ]
  },
  {
   "cell_type": "markdown",
   "metadata": {},
   "source": [
    "## 2. Creation and initialization. Data members.\n",
    "<a name=\"creation\"></a> [Back to TOC](#TOC)\n",
    "\n",
    "Create the ANN object with 3 layers: input, 1 hidden, and 1 output layers. \n",
    "<a name=\"NeuralNetwork-1\"></a>"
   ]
  },
  {
   "cell_type": "code",
   "execution_count": 2,
   "metadata": {},
   "outputs": [],
   "source": [
    "ANN = NeuralNetwork( Py2Cpp_int( [2, 5, 1] ) )"
   ]
  },
  {
   "cell_type": "markdown",
   "metadata": {},
   "source": [
    "We can then check that:\n",
    "    \n",
    "* there are 3 layers\n",
    "* the input layers has 2 neurons\n",
    "* the hidden layer has 5 neurons\n",
    "* the output has 1 neuron\n",
    "<a name=\"Nlayers-1\"></a><a name=\"Npe-1\"></a>"
   ]
  },
  {
   "cell_type": "code",
   "execution_count": 3,
   "metadata": {},
   "outputs": [
    {
     "name": "stdout",
     "output_type": "stream",
     "text": [
      "Number of layers = 3\n",
      "Input layer dimension = 2\n",
      "Hidden layer dimension = 5\n",
      "Output layer dimension = 1\n"
     ]
    }
   ],
   "source": [
    "print(F\"Number of layers = {ANN.Nlayers}\")\n",
    "print(F\"Input layer dimension = {ANN.Npe[0]}\")\n",
    "print(F\"Hidden layer dimension = {ANN.Npe[1]}\")\n",
    "print(F\"Output layer dimension = {ANN.Npe[2]}\")"
   ]
  },
  {
   "cell_type": "markdown",
   "metadata": {},
   "source": [
    "This operation simply creates a collection of the weights and biases, that are stored in the matrices `W` and `B` correspondingly\n",
    "\n",
    "Also, this operation initializes the storage for the deltas of these parameters - `dW` and `dB`\n",
    "\n",
    "Note that matrices `W[0]` and `B[0]` are irrelevant (junk), are not used and are only needed for the consistency of the implementation with the common ways the ANN theory is described in the literature\n",
    "<a name=\"W-1\"></a><a name=\"B-1\"></a>"
   ]
  },
  {
   "cell_type": "code",
   "execution_count": 4,
   "metadata": {},
   "outputs": [
    {
     "name": "stdout",
     "output_type": "stream",
     "text": [
      "W[0]\n",
      "1.0  0.0  \n",
      "0.0  1.0  \n",
      "W[1]\n",
      "0.0  0.0  \n",
      "0.0  0.0  \n",
      "0.0  0.0  \n",
      "0.0  0.0  \n",
      "0.0  0.0  \n",
      "W[2]\n",
      "0.0  0.0  0.0  0.0  0.0  \n",
      "B[0]\n",
      "0.0  \n",
      "0.0  \n",
      "B[1]\n",
      "0.0  \n",
      "0.0  \n",
      "0.0  \n",
      "0.0  \n",
      "0.0  \n",
      "B[2]\n",
      "0.0  \n"
     ]
    }
   ],
   "source": [
    "print(\"W[0]\"); data_outs.print_matrix(ANN.W[0])\n",
    "print(\"W[1]\"); data_outs.print_matrix(ANN.W[1])\n",
    "print(\"W[2]\"); data_outs.print_matrix(ANN.W[2])\n",
    "\n",
    "print(\"B[0]\"); data_outs.print_matrix(ANN.B[0])\n",
    "print(\"B[1]\"); data_outs.print_matrix(ANN.B[1])\n",
    "print(\"B[2]\"); data_outs.print_matrix(ANN.B[2])"
   ]
  },
  {
   "cell_type": "markdown",
   "metadata": {},
   "source": [
    "<a name=\"dWold-1\"></a><a name=\"dBold-1\"></a><a name=\"grad_w-1\"></a><a name=\"grad_b-1\"></a><a name=\"grad_w_old-1\"></a><a name=\"grad_b_old-1\"></a>\n",
    "In addition, the `NeuralNetwork` class objects hold other variables:\n",
    "\n",
    "* `dWold` and `dBold` - the deltas of weights and biases from the previous step\n",
    "* `grad_w` and `grad_b` - the gradients of the total error function (cost function) w.r.t. the corresponding weights and biases.\n",
    "* `grad_w_old` and `grad_b_old` - the gradients from the previous step\n",
    "\n",
    "Here, we output just one of these matrices. Of course, these matrices are still zero, since no actual gradient calculations of steps of the training has been completed"
   ]
  },
  {
   "cell_type": "code",
   "execution_count": 5,
   "metadata": {},
   "outputs": [
    {
     "name": "stdout",
     "output_type": "stream",
     "text": [
      "dW[1]\n",
      "0.0  0.0  \n",
      "0.0  0.0  \n",
      "0.0  0.0  \n",
      "0.0  0.0  \n",
      "0.0  0.0  \n",
      "dB[1]\n",
      "0.0  \n",
      "0.0  \n",
      "0.0  \n",
      "0.0  \n",
      "0.0  \n",
      "dWold[1]\n",
      "0.0  0.0  \n",
      "0.0  0.0  \n",
      "0.0  0.0  \n",
      "0.0  0.0  \n",
      "0.0  0.0  \n",
      "dBold[1]\n",
      "0.0  \n",
      "0.0  \n",
      "0.0  \n",
      "0.0  \n",
      "0.0  \n",
      "grad_w[1]\n",
      "0.0  0.0  \n",
      "0.0  0.0  \n",
      "0.0  0.0  \n",
      "0.0  0.0  \n",
      "0.0  0.0  \n",
      "grad_b[1]\n",
      "0.0  \n",
      "0.0  \n",
      "0.0  \n",
      "0.0  \n",
      "0.0  \n",
      "grad_w_old[1]\n",
      "0.0  0.0  \n",
      "0.0  0.0  \n",
      "0.0  0.0  \n",
      "0.0  0.0  \n",
      "0.0  0.0  \n",
      "grad_b_old[1]\n",
      "0.0  \n",
      "0.0  \n",
      "0.0  \n",
      "0.0  \n",
      "0.0  \n"
     ]
    }
   ],
   "source": [
    "print(\"dW[1]\"); data_outs.print_matrix(ANN.dW[1])\n",
    "print(\"dB[1]\"); data_outs.print_matrix(ANN.dB[1])\n",
    "\n",
    "print(\"dWold[1]\"); data_outs.print_matrix(ANN.dWold[1])\n",
    "print(\"dBold[1]\"); data_outs.print_matrix(ANN.dBold[1])\n",
    "\n",
    "print(\"grad_w[1]\"); data_outs.print_matrix(ANN.grad_w[1])\n",
    "print(\"grad_b[1]\"); data_outs.print_matrix(ANN.grad_b[1])\n",
    "\n",
    "print(\"grad_w_old[1]\"); data_outs.print_matrix(ANN.grad_w_old[1])\n",
    "print(\"grad_b_old[1]\"); data_outs.print_matrix(ANN.grad_b_old[1])"
   ]
  },
  {
   "cell_type": "markdown",
   "metadata": {},
   "source": [
    "As an example, consider the AND gate: \n",
    "\n",
    "\n",
    "| Input A | Input B |  Output A and B |\n",
    "| --- | --- | --- |\n",
    "|  0  |  0  |  0  |\n",
    "|  0  |  1  |  0  |\n",
    "|  0  |  1  |  0  |\n",
    "|  1  |  1  |  1  |\n",
    "\n",
    "For the numerical convenience, the inputs and outputs are rescaled down to the [0.0, 0.5] range\n",
    "\n",
    "The AND truth table can be summarized as 4 inputs and 4 outputs. Each input and output constitute a column of the corresponding matrix. The length of each column (the number of rows in the matrices) corresponds to the dimensionalty of the input (2 - for the A and B) and output (A and B representation)\n"
   ]
  },
  {
   "cell_type": "code",
   "execution_count": 6,
   "metadata": {},
   "outputs": [],
   "source": [
    "inputs = MATRIX(2, 4)\n",
    "outputs = MATRIX(1, 4)\n",
    "\n",
    "# Pattern 0\n",
    "inputs.set(0, 0, 0.0)\n",
    "inputs.set(1, 0, 0.0)\n",
    "outputs.set(0, 0, 0.0)\n",
    "\n",
    "# Pattern 1\n",
    "inputs.set(0, 1, 0.0)\n",
    "inputs.set(1, 1, 0.5)\n",
    "outputs.set(0, 1, 0.0)\n",
    "\n",
    "# Pattern 2\n",
    "inputs.set(0, 2, 0.5)\n",
    "inputs.set(1, 2, 0.0)\n",
    "outputs.set(0, 2, 0.0)\n",
    "\n",
    "# Pattern 3\n",
    "inputs.set(0, 3, 0.5)\n",
    "inputs.set(1, 3, 0.5)\n",
    "outputs.set(0, 3, 0.5)"
   ]
  },
  {
   "cell_type": "markdown",
   "metadata": {},
   "source": [
    "Before we start, we need to initialize the values of the weights and biases of the ANN\n",
    "<a name=\"Random-1\"></a><a name=\"normal-1\"></a>"
   ]
  },
  {
   "cell_type": "code",
   "execution_count": 7,
   "metadata": {},
   "outputs": [
    {
     "name": "stdout",
     "output_type": "stream",
     "text": [
      "W[0]\n",
      "1.0  0.0  \n",
      "0.0  1.0  \n",
      "W[1]\n",
      "0.013043600631300662  0.07778793153575585  \n",
      "0.07680945408172944  -0.005243664431068502  \n",
      "0.023295662819170067  -0.054254121883937516  \n",
      "0.05837936803853499  0.0041433094128538895  \n",
      "0.10863833808830609  0.0036936698718089238  \n",
      "W[2]\n",
      "0.027584160131123484  0.1340556362932531  -0.09750620885243372  -0.18388984133433176  0.1735012351765397  \n",
      "B[0]\n",
      "0.0  \n",
      "0.0  \n",
      "B[1]\n",
      "0.016851830665658957  \n",
      "0.10084537953887476  \n",
      "-0.03615433718268121  \n",
      "0.14658661690663843  \n",
      "0.09880926488950775  \n",
      "B[2]\n",
      "0.07367722332159381  \n"
     ]
    }
   ],
   "source": [
    "rnd = Random()\n",
    "\n",
    "for L in range(1, ANN.Nlayers):\n",
    "    for i in range(ANN.Npe[L]):\n",
    "        for j in range(ANN.Npe[L-1]):\n",
    "            ANN.W[L].set(i, j, 0.1*rnd.normal())\n",
    "        ANN.B[L].set(i, 0, 0.1*rnd.normal() )\n",
    "        \n",
    "print(\"W[0]\"); data_outs.print_matrix(ANN.W[0])\n",
    "print(\"W[1]\"); data_outs.print_matrix(ANN.W[1])\n",
    "print(\"W[2]\"); data_outs.print_matrix(ANN.W[2])\n",
    "\n",
    "print(\"B[0]\"); data_outs.print_matrix(ANN.B[0])\n",
    "print(\"B[1]\"); data_outs.print_matrix(ANN.B[1])\n",
    "print(\"B[2]\"); data_outs.print_matrix(ANN.B[2])"
   ]
  },
  {
   "cell_type": "markdown",
   "metadata": {},
   "source": [
    "This operation can also be done with the help of the auxiliary function `init_weights_biases_normal` or `init_weights_biases_uniform`:\n",
    "\n",
    "    void init_weights_biases_uniform(Random& rnd, double left_w, double right_w, double left_b, double right_b);\n",
    "    void init_weights_biases_normal(Random& rnd, double scaling_w, double shift_w, double scaling_b, double shift_b);\n",
    " \n",
    "<a name=\"init_weights_biases_normal-1\"></a>"
   ]
  },
  {
   "cell_type": "code",
   "execution_count": 8,
   "metadata": {},
   "outputs": [
    {
     "name": "stdout",
     "output_type": "stream",
     "text": [
      "W[0]\n",
      "1.0  0.0  \n",
      "0.0  1.0  \n",
      "W[1]\n",
      "0.03523774228381179  0.10566198073048627  \n",
      "0.08945630507299143  0.11081178145197856  \n",
      "-0.045731879014961924  -0.0086508165607452  \n",
      "0.15351136952951516  -0.1280794252062617  \n",
      "0.0958236852956667  -0.09901079768835848  \n",
      "W[2]\n",
      "-0.1403967872241905  0.005239579763482639  0.08111331915719433  -0.05706828532516827  -0.029746817888695723  \n",
      "B[0]\n",
      "0.0  \n",
      "0.0  \n",
      "B[1]\n",
      "-0.02433592132945719  \n",
      "0.04622207281341843  \n",
      "-0.21391850269504695  \n",
      "0.08959242033523723  \n",
      "-0.0031857289911567874  \n",
      "B[2]\n",
      "0.04497394877261076  \n"
     ]
    }
   ],
   "source": [
    "ANN.init_weights_biases_normal(rnd, 0.1, 0.0, 0.1, 0.0)\n",
    "\n",
    "print(\"W[0]\"); data_outs.print_matrix(ANN.W[0])\n",
    "print(\"W[1]\"); data_outs.print_matrix(ANN.W[1])\n",
    "print(\"W[2]\"); data_outs.print_matrix(ANN.W[2])\n",
    "\n",
    "print(\"B[0]\"); data_outs.print_matrix(ANN.B[0])\n",
    "print(\"B[1]\"); data_outs.print_matrix(ANN.B[1])\n",
    "print(\"B[2]\"); data_outs.print_matrix(ANN.B[2])"
   ]
  },
  {
   "cell_type": "markdown",
   "metadata": {},
   "source": [
    "Initialize the weights and biases using random numbers sampled from a uniform distribution.\n",
    "<a name=\"init_weights_biases_uniform-1\"></a>"
   ]
  },
  {
   "cell_type": "code",
   "execution_count": 9,
   "metadata": {},
   "outputs": [
    {
     "name": "stdout",
     "output_type": "stream",
     "text": [
      "W[0]\n",
      "1.0  0.0  \n",
      "0.0  1.0  \n",
      "W[1]\n",
      "0.0924516686203199  0.03505062103972334  \n",
      "-0.00919310204181499  0.013151377492189115  \n",
      "-0.01814879016864522  -0.03694412640153623  \n",
      "0.02845780101067283  -0.01833567121919974  \n",
      "0.02232922051210387  -0.09329066108599803  \n",
      "W[2]\n",
      "-0.008196210445927554  -0.06217414539408597  0.027585689596638874  0.08613714770699718  -0.04658140556261941  \n",
      "B[0]\n",
      "0.0  \n",
      "0.0  \n",
      "B[1]\n",
      "-0.07213825498341501  \n",
      "-0.023272442036900876  \n",
      "-0.05285957425500246  \n",
      "-0.07573505303623856  \n",
      "0.09049564552982134  \n",
      "B[2]\n",
      "0.009863257459301167  \n"
     ]
    }
   ],
   "source": [
    "ANN.init_weights_biases_uniform(rnd, -0.1, 0.1, -0.1, 0.1)\n",
    "\n",
    "print(\"W[0]\"); data_outs.print_matrix(ANN.W[0])\n",
    "print(\"W[1]\"); data_outs.print_matrix(ANN.W[1])\n",
    "print(\"W[2]\"); data_outs.print_matrix(ANN.W[2])\n",
    "\n",
    "print(\"B[0]\"); data_outs.print_matrix(ANN.B[0])\n",
    "print(\"B[1]\"); data_outs.print_matrix(ANN.B[1])\n",
    "print(\"B[2]\"); data_outs.print_matrix(ANN.B[2])"
   ]
  },
  {
   "cell_type": "markdown",
   "metadata": {},
   "source": [
    "## 3. Saving and loading ANNs\n",
    "<a name=\"save_load-1\"></a> [Back to TOC](#TOC)\n",
    "\n",
    "<a name=\"save-1\"></a>\n",
    "The state of the ANN can be saved into a file of XML format using the `save` function"
   ]
  },
  {
   "cell_type": "code",
   "execution_count": 10,
   "metadata": {},
   "outputs": [],
   "source": [
    "ANN.save(\"my_ann.xml\")"
   ]
  },
  {
   "cell_type": "markdown",
   "metadata": {},
   "source": [
    "<a name=\"NeuralNetwork-2\"></a>\n",
    "\n",
    "A new ANN can be created from a file using the corresponding constructor. \n",
    "\n",
    "    NeuralNetwork(std::string xml_filename);\n",
    "  \n",
    "This version constructor reads in the xml file stored by the `save` function above and creates a new ANN instance with these parameters"
   ]
  },
  {
   "cell_type": "code",
   "execution_count": 11,
   "metadata": {},
   "outputs": [],
   "source": [
    "ANN1 = NeuralNetwork(\"my_ann.xml\")"
   ]
  },
  {
   "cell_type": "markdown",
   "metadata": {},
   "source": [
    "We can check the correctness of the ANN construction by comparing the output below with the one at the end of the section 3"
   ]
  },
  {
   "cell_type": "code",
   "execution_count": 12,
   "metadata": {},
   "outputs": [
    {
     "name": "stdout",
     "output_type": "stream",
     "text": [
      "W[0]\n",
      "1.0  0.0  \n",
      "0.0  1.0  \n",
      "W[1]\n",
      "0.0924516686203199  0.03505062103972334  \n",
      "-0.00919310204181499  0.013151377492189115  \n",
      "-0.01814879016864522  -0.03694412640153623  \n",
      "0.02845780101067283  -0.01833567121919974  \n",
      "0.02232922051210387  -0.09329066108599803  \n",
      "W[2]\n",
      "-0.008196210445927554  -0.06217414539408597  0.027585689596638874  0.08613714770699718  -0.04658140556261941  \n",
      "B[0]\n",
      "0.0  \n",
      "0.0  \n",
      "B[1]\n",
      "-0.07213825498341501  \n",
      "-0.023272442036900876  \n",
      "-0.05285957425500246  \n",
      "-0.07573505303623856  \n",
      "0.09049564552982134  \n",
      "B[2]\n",
      "0.009863257459301167  \n"
     ]
    }
   ],
   "source": [
    "print(\"W[0]\"); data_outs.print_matrix(ANN1.W[0])\n",
    "print(\"W[1]\"); data_outs.print_matrix(ANN1.W[1])\n",
    "print(\"W[2]\"); data_outs.print_matrix(ANN1.W[2])\n",
    "\n",
    "print(\"B[0]\"); data_outs.print_matrix(ANN1.B[0])\n",
    "print(\"B[1]\"); data_outs.print_matrix(ANN1.B[1])\n",
    "print(\"B[2]\"); data_outs.print_matrix(ANN1.B[2])"
   ]
  },
  {
   "cell_type": "markdown",
   "metadata": {},
   "source": [
    "<a name=\"load-1\"></a>\n",
    "We can also simply load the ANN state to a previously created ANN, which could be an empty one:"
   ]
  },
  {
   "cell_type": "code",
   "execution_count": 13,
   "metadata": {},
   "outputs": [
    {
     "name": "stdout",
     "output_type": "stream",
     "text": [
      "W[0]\n",
      "1.0  0.0  \n",
      "0.0  1.0  \n",
      "W[1]\n",
      "0.0924516686203199  0.03505062103972334  \n",
      "-0.00919310204181499  0.013151377492189115  \n",
      "-0.01814879016864522  -0.03694412640153623  \n",
      "0.02845780101067283  -0.01833567121919974  \n",
      "0.02232922051210387  -0.09329066108599803  \n",
      "W[2]\n",
      "-0.008196210445927554  -0.06217414539408597  0.027585689596638874  0.08613714770699718  -0.04658140556261941  \n",
      "B[0]\n",
      "0.0  \n",
      "0.0  \n",
      "B[1]\n",
      "-0.07213825498341501  \n",
      "-0.023272442036900876  \n",
      "-0.05285957425500246  \n",
      "-0.07573505303623856  \n",
      "0.09049564552982134  \n",
      "B[2]\n",
      "0.009863257459301167  \n"
     ]
    }
   ],
   "source": [
    "ANN2 = NeuralNetwork()\n",
    "ANN2.load(\"my_ann.xml\")\n",
    "\n",
    "print(\"W[0]\"); data_outs.print_matrix(ANN2.W[0])\n",
    "print(\"W[1]\"); data_outs.print_matrix(ANN2.W[1])\n",
    "print(\"W[2]\"); data_outs.print_matrix(ANN2.W[2])\n",
    "\n",
    "print(\"B[0]\"); data_outs.print_matrix(ANN2.B[0])\n",
    "print(\"B[1]\"); data_outs.print_matrix(ANN2.B[1])\n",
    "print(\"B[2]\"); data_outs.print_matrix(ANN2.B[2])"
   ]
  },
  {
   "cell_type": "markdown",
   "metadata": {},
   "source": [
    "## 4. Training\n",
    "<a name=\"training\"></a> [Back to TOC](#TOC)\n",
    "\n",
    "To train the ANN on a given set of patterns, we use two key functions: `propagate` and `back_propagate`, which take the signatures:\n",
    "\n",
    "    vector<MATRIX> propagate(MATRIX& input);\n",
    "    double back_propagate(vector<MATRIX>& Y, MATRIX& target);\n",
    "\n",
    "The `propagate` function takes a given input (which could be as many patterns as needed) and computes the outputs on each layer for each pattern. The results are returned as the lists of matrices.\n",
    "\n",
    "The `back_propagate` function takes the output in each layer (as returned by the `propagate` function) as well as the expected target output and computes the error on each layer (and the corresponding derivatives of the weights and biases), starting from the last (output) layer and working its way down to the first one. The error is thus propagated backwards, hence the name. \n",
    "\n",
    "As a result, the procedure updates the `dW` and `dB` values stored internally in the ANN object. The function also returns the error in the last layer to facilitae the tracking of the progress.\n",
    "\n",
    "Note that if there are many patterns are given, the `dW` and `dB` variables are computed as the average over those values over all the patterns.\n",
    "<a name=\"dW-1\"></a><a name=\"dB-1\"></a><a name=\"propagate-1\"></a><a name=\"back_propagate-1\"></a>"
   ]
  },
  {
   "cell_type": "code",
   "execution_count": 14,
   "metadata": {},
   "outputs": [
    {
     "name": "stdout",
     "output_type": "stream",
     "text": [
      "Error = 0.031199434462327154\n",
      "dW[0]\n",
      "0.0  0.0  \n",
      "0.0  0.0  \n",
      "dW[1]\n",
      "0.0  0.0  \n",
      "0.0  0.0  \n",
      "0.0  0.0  \n",
      "0.0  0.0  \n",
      "0.0  0.0  \n",
      "dW[2]\n",
      "0.0  0.0  0.0  0.0  0.0  \n",
      "dB[0]\n",
      "0.0  \n",
      "0.0  \n",
      "dB[1]\n",
      "0.0  \n",
      "0.0  \n",
      "0.0  \n",
      "0.0  \n",
      "0.0  \n",
      "dB[2]\n",
      "0.0  \n"
     ]
    }
   ],
   "source": [
    "Y = ANN.propagate(inputs)\n",
    "res = ANN.back_propagate(Y, outputs)\n",
    "print(F\"Error = {res}\")\n",
    "\n",
    "print(\"dW[0]\"); data_outs.print_matrix(ANN.dW[0])\n",
    "print(\"dW[1]\"); data_outs.print_matrix(ANN.dW[1])\n",
    "print(\"dW[2]\"); data_outs.print_matrix(ANN.dW[2])\n",
    "\n",
    "print(\"dB[0]\"); data_outs.print_matrix(ANN.dB[0])\n",
    "print(\"dB[1]\"); data_outs.print_matrix(ANN.dB[1])\n",
    "print(\"dB[2]\"); data_outs.print_matrix(ANN.dB[2])"
   ]
  },
  {
   "cell_type": "markdown",
   "metadata": {},
   "source": [
    "Now, we can formulate a simple procedure perform the simple gradient descent optimization of the weights and biases.\n",
    "\n",
    "Note that `grad_w` and `grad_b` are the positive gradients of the error w.r.t. to those parameters. So, in the gradiens descent algorithm, these come with the \"-\" sign\n",
    "\n",
    "Naturally, we don't want to plot all the stuff, only once in a while. \n",
    "<a name=\"W-2\"></a><a name=\"B-2\"></a><a name=\"grad_w-2\"></a><a name=\"grad_b-2\"></a><a name=\"propagate-2\"></a><a name=\"back_propagate-2\"></a>"
   ]
  },
  {
   "cell_type": "code",
   "execution_count": 15,
   "metadata": {},
   "outputs": [
    {
     "name": "stdout",
     "output_type": "stream",
     "text": [
      "epoch = 0  error = 0.013102937670295205\n",
      "0.020492803729116525  0.1288124529545257  0.12782225148626428  0.23265683037245583  \n",
      "epoch = 1  error = 0.008395312565250149\n",
      "-0.12235856539535742  0.12913219695141423  0.1288965013575343  0.3625174569456923  \n",
      "epoch = 2  error = 0.008361691984329308\n",
      "-0.12854238035620838  0.12865527388286377  0.12870160503985328  0.3686451002463736  \n",
      "epoch = 3  error = 0.00831589118564107\n",
      "-0.12878210671669485  0.1282768489954752  0.1283870876375388  0.36960021390170394  \n",
      "epoch = 4  error = 0.008270746472738308\n",
      "-0.128901549010904  0.12791561852123848  0.12806472406828728  0.37043386463995154  \n",
      "epoch = 5  error = 0.008225493643690688\n",
      "-0.12901098678883371  0.12755304331605863  0.12773561643161724  0.3712601542919081  \n",
      "epoch = 6  error = 0.00817904664013701\n",
      "-0.1291102047363296  0.12717971643307432  0.1273922905486009  0.372095925823988  \n",
      "epoch = 7  error = 0.008130349474205132\n",
      "-0.12919693668298268  0.12678724234676944  0.12702655555938777  0.3729559261272146  \n",
      "epoch = 8  error = 0.00807832270554169\n",
      "-0.12926860270690962  0.12636702097183158  0.12662973947521167  0.37385526134760366  \n",
      "epoch = 9  error = 0.008021807540243807\n",
      "-0.12932212074945704  0.12590969950943798  0.12619228815672207  0.3748101306573604  \n",
      "epoch = 10  error = 0.00795950971811209\n",
      "-0.12935366235369225  0.1254046534450355  0.1257032904734873  0.3758385589683644  \n",
      "epoch = 11  error = 0.00788993927795531\n",
      "-0.12935835647142194  0.12483940945656398  0.12514994139721797  0.3769612099804932  \n",
      "epoch = 12  error = 0.007811343088142026\n",
      "-0.12932990496413968  0.1241989733339963  0.12451691116237978  0.37820232249971225  \n",
      "epoch = 13  error = 0.007721627902378912\n",
      "-0.12926005798879195  0.12346503135445576  0.12378558670251925  0.37959080107765114  \n",
      "epoch = 14  error = 0.00761827297272712\n",
      "-0.12913787525391812  0.12261499612832169  0.12293315383120189  0.3811614735437781  \n",
      "epoch = 15  error = 0.0074982336205060285\n",
      "-0.12894867063610008  0.12162087488396081  0.12193149586923795  0.38295649350442046  \n",
      "epoch = 16  error = 0.007357841779280253\n",
      "-0.12867250641766198  0.12044795666681528  0.12074590375623437  0.38502679969959114  \n",
      "epoch = 17  error = 0.007192718254903316\n",
      "-0.12828207706967124  0.11905335807797805  0.11933363790371042  0.38743341731694825  \n",
      "epoch = 18  error = 0.006997727195216489\n",
      "-0.1277398162196115  0.1173845598052265  0.11764247852418244  0.39024814680410963  \n",
      "epoch = 19  error = 0.0067670298216241705\n",
      "-0.12699410615101414  0.11537825205999118  0.11560959192178287  0.393552751171492  \n"
     ]
    }
   ],
   "source": [
    "n_epochs = 20\n",
    "steps_per_epoch = 5000\n",
    "dt = 0.01\n",
    "\n",
    "for epoch in range(n_epochs):\n",
    "    \n",
    "    res, Y = 0.0, None\n",
    "    for i in range(steps_per_epoch):\n",
    "    \n",
    "        for L in range(ANN.Nlayers):\n",
    "            ANN.W[L] = ANN.W[L] - dt * ANN.grad_w[L]\n",
    "            ANN.B[L] = ANN.B[L] - dt * ANN.grad_b[L]\n",
    "\n",
    "        Y = ANN.propagate(inputs)\n",
    "        res = ANN.back_propagate(Y, outputs)\n",
    "        \n",
    "    print(F\"epoch = {epoch}  error = {res}\")\n",
    "    \n",
    "    data_outs.print_matrix(Y[2])"
   ]
  },
  {
   "cell_type": "markdown",
   "metadata": {},
   "source": [
    "After enough steps and cycles, we can compute the ANN recall (prediction) using the current state of the ANN parameters.\n",
    "\n",
    "As an example, we use the input that was also used in the training."
   ]
  },
  {
   "cell_type": "code",
   "execution_count": 16,
   "metadata": {},
   "outputs": [],
   "source": [
    "Y = ANN.propagate(inputs)"
   ]
  },
  {
   "cell_type": "code",
   "execution_count": 17,
   "metadata": {},
   "outputs": [
    {
     "name": "stdout",
     "output_type": "stream",
     "text": [
      "-0.12699410615101414  0.11537825205999118  0.11560959192178287  0.393552751171492  \n"
     ]
    }
   ],
   "source": [
    "data_outs.print_matrix(Y[2])"
   ]
  },
  {
   "cell_type": "markdown",
   "metadata": {},
   "source": [
    "Here, we can see that the results are pretty close to our expectations, although not ideal yet. More careful training, potentially with a more complex ANN architecture would be necessary to achieve that."
   ]
  },
  {
   "cell_type": "markdown",
   "metadata": {},
   "source": [
    "In the above example, we have utilized all of our training examples in each step. This is called **batch** training\n",
    "\n",
    "However, sometimes it is adwantageous to use randomly selected subsets of the training examples in each step. This is called **online** training, and the number of examples presented at each time is called **epoch size**. In the above example of the batch training, we used an epoch size of 4.\n",
    "\n",
    "Let's consider smaller epoch sizes.\n",
    "\n",
    "In order to implement such a functionality, we need a procedure to select random sequences of numbers. This can be done with the help of `randperm` function, which takes the signature:\n",
    "\n",
    "    int randperm(int size,int of_size,vector<int>& result)\n",
    "    \n",
    "For instance, if we want to create a random sequence of 3 numbers from 5 numbers [0, 1, 2, 3, 4], we do:\n",
    "<a name=\"randperm-1\"></a>"
   ]
  },
  {
   "cell_type": "code",
   "execution_count": 18,
   "metadata": {},
   "outputs": [
    {
     "name": "stdout",
     "output_type": "stream",
     "text": [
      "[2, 0, 3]\n"
     ]
    }
   ],
   "source": [
    "res = intList()\n",
    "randperm(3, 5, res)\n",
    "print( Cpp2Py(res) )"
   ]
  },
  {
   "cell_type": "markdown",
   "metadata": {},
   "source": [
    "Now, we are ready to formulate the algorithm.\n",
    "\n",
    "<a name=\"pop_submatrix-1\"></a>\n",
    "Note how we use the `pop_submatrix` function to take certain columns (as defined by the `subset` variable) out of the full matrix of all inputs. We do such \"extraction\" for both inputs and outputs, congruently.\n",
    "<a name=\"randperm-2\"></a>"
   ]
  },
  {
   "cell_type": "code",
   "execution_count": 19,
   "metadata": {},
   "outputs": [
    {
     "name": "stdout",
     "output_type": "stream",
     "text": [
      "epoch = 0  error = 0.006897094519262708\n",
      "0.1055643869706204  0.12823625961703633  \n",
      "epoch = 1  error = 0.006805524621625853\n",
      "0.11713227799207439  -0.11619865721638446  \n",
      "epoch = 2  error = 0.008651661621656873\n",
      "0.13139365013613308  0.13169037622594504  \n",
      "epoch = 3  error = 0.008250937619245865\n",
      "-0.13729806266120215  0.11896635014349255  \n",
      "epoch = 4  error = 0.007870199782405676\n",
      "0.3608258242296277  0.11005156940389459  \n",
      "epoch = 5  error = 0.00827943279545155\n",
      "0.12656172159104392  -0.13076643992140066  \n",
      "epoch = 6  error = 0.008179070611443462\n",
      "0.3885278670538109  0.14244383462333846  \n",
      "epoch = 7  error = 0.009120267096288812\n",
      "-0.14110428665503838  0.371272968368225  \n",
      "epoch = 8  error = 0.006300541847348363\n",
      "0.11122826033937233  0.11327153875210781  \n",
      "epoch = 9  error = 0.007343764773474124\n",
      "-0.12295702839334333  0.3805988766276671  \n",
      "epoch = 10  error = 0.007721466072850212\n",
      "0.13230680245643753  -0.11567529690972946  \n",
      "epoch = 11  error = 0.007788826886147394\n",
      "-0.1332689965247095  0.3842646030382816  \n",
      "epoch = 12  error = 0.007551895145669039\n",
      "0.3865761495166404  -0.1316913464287029  \n",
      "epoch = 13  error = 0.007133152501555883\n",
      "0.11616030752231744  -0.12263520278673727  \n",
      "epoch = 14  error = 0.005500313666316191\n",
      "0.11817934405019345  0.41036241131572776  \n",
      "epoch = 15  error = 0.004541747741916514\n",
      "0.09893307905426629  0.40846182852761176  \n",
      "epoch = 16  error = 0.004022112510268528\n",
      "0.0982790342143794  0.41981470536960686  \n",
      "epoch = 17  error = 0.0035125974851996965\n",
      "0.08679055132825035  0.4192671681350324  \n",
      "epoch = 18  error = 0.002755713719983462\n",
      "0.0866002849742224  0.44064306677129184  \n",
      "epoch = 19  error = 0.004165225013144635\n",
      "0.08166492158445555  -0.09995869464525468  \n",
      "-0.09995869464525468  0.08034420160747742  0.08166492158445555  0.44628692712970475  \n"
     ]
    }
   ],
   "source": [
    "ANN2 = NeuralNetwork( Py2Cpp_int( [2, 5, 1] ) )\n",
    "ANN2.init_weights_biases_uniform(rnd, -0.1, 0.1, -0.1, 0.1)\n",
    "\n",
    "\n",
    "n_epochs = 20\n",
    "steps_per_epoch = 5000\n",
    "epoch_size = 2\n",
    "n_patterns = 4\n",
    "dt = 0.01\n",
    "\n",
    "input_subset = MATRIX(2, epoch_size)\n",
    "output_subset = MATRIX(1, epoch_size)\n",
    "subset = intList()\n",
    "\n",
    "for epoch in range(n_epochs):\n",
    "    \n",
    "    res, Y = 0.0, None\n",
    "    for i in range(steps_per_epoch):    \n",
    "        for L in range(ANN.Nlayers):\n",
    "            ANN2.W[L] = ANN2.W[L] - dt * ANN2.grad_w[L]\n",
    "            ANN2.B[L] = ANN2.B[L] - dt * ANN2.grad_b[L]\n",
    "            \n",
    "        # Make a random selection of the training patterns\n",
    "        randperm(epoch_size, n_patterns, subset)\n",
    "        \n",
    "        # Extract the corresponding matrices from the inputs and outputs\n",
    "        pop_submatrix(inputs, input_subset, Py2Cpp_int( [0, 1] ), subset )\n",
    "        pop_submatrix(outputs, output_subset, Py2Cpp_int( [0] ), subset )\n",
    "\n",
    "        Y = ANN2.propagate(input_subset)\n",
    "        res = ANN2.back_propagate(Y, output_subset)\n",
    "        \n",
    "    print(F\"epoch = {epoch}  error = {res}\")\n",
    "    \n",
    "    data_outs.print_matrix(Y[2])\n",
    "    \n",
    "Y = ANN2.propagate(inputs)\n",
    "data_outs.print_matrix(Y[2])"
   ]
  },
  {
   "cell_type": "markdown",
   "metadata": {},
   "source": [
    "The results of this batch training are quite better than before.\n",
    "\n",
    "Apparently, the above simple procedure can be run as a sinlge function `train`\n",
    "<a name=\"train-1\"></a><a name=\"mlp-1\"></a>"
   ]
  },
  {
   "cell_type": "code",
   "execution_count": 20,
   "metadata": {},
   "outputs": [
    {
     "name": "stdout",
     "output_type": "stream",
     "text": [
      "-0.08626035788230775  0.05848456662655127  0.054912139201252756  0.4634242879176461  \n"
     ]
    }
   ],
   "source": [
    "ANN3 = NeuralNetwork( Py2Cpp_int( [2, 5, 1] ) )\n",
    "ANN3.init_weights_biases_uniform(rnd, -0.1, 0.1, -0.1, 0.1)\n",
    "\n",
    "params = { \"num_epochs\":20, \n",
    "           \"steps_per_epoch\":5000, \n",
    "           \"epoch_size\":2, \"learning_rate\":0.01, \n",
    "           \"learning_method\":1, \n",
    "           \"verbosity\":1 }\n",
    "\n",
    "err = ANN3.train(rnd, params, inputs, outputs )\n",
    "\n",
    "Y = ANN3.propagate(inputs)\n",
    "data_outs.print_matrix(Y[2])"
   ]
  },
  {
   "cell_type": "markdown",
   "metadata": {},
   "source": [
    "As a reference, here we summarize the keywords that the `train` function parameters dictionary can have:\n",
    "\n",
    "* `learning_method` - selects the method for the ANN training, the selection goes as following\n",
    "\n",
    "  -  1 [default] Back Propagation (BProp) and options, no momentum, Algorithm 1 of [2], neither purple nor green\n",
    "  - 11 BProp with L2 regularization - Algorithm 1 of [2], purple option\n",
    "  - 12 BProp with decoulpled decay  - Algorithm 1 of [2], green option\n",
    "  - 13 [under development] Adam with L2 regularization - Algorithm 2 of [2], purple option\n",
    "  - 14 [under development] Adam with decoupled decay - Algorithm 2 of [2], green option\n",
    "  - 2  Resilient Propagation without weight-backtracking (RProp-) - Eq. 1 of [3] + section 2.2\n",
    "  - 21 [under development] Resilient Propagation with weight-backtracking (RProp+) - Eq. 1 of [3] + section 2.1\n",
    "  - 22 [under development] Modified RProp- (iRprop-)\n",
    "  - 23 [under development] Modified RProp+ (iRprop+)\n",
    "\n",
    "* `learning_rate` [default: 0.001] - the timestep size,  $\\alpha$ in algorithm (1) of [2]\n",
    "  \n",
    "\n",
    "* `momentum_term` [default: 0.0] - the momentum term control parameter, $\\beta_1$ in algorithm (1) of [2]\n",
    "  \n",
    "  \n",
    "* `weight_decay_lambda` [default: 0.0] - the L2 regularization factor  L_new = L_old + lambda * w^T w, $\\lambda$ in algorithm (1) of [2]\n",
    "\n",
    "\n",
    "* `etha` [default: 1.0] - the control parameter for the decoupled weight decay, the $\\eta_t$ in algorithm (1) of [2]\n",
    "\n",
    "\n",
    "* `num_epochs` [default: 1] - the number of training epochs to do\n",
    "\n",
    "\n",
    "* `steps_per_epoch` [default: 1] - the number of steps per epoch \n",
    "\n",
    "\n",
    "* `epoch_size` [default: 1] - how many patterns to include in each step of each epoch\n",
    "\n",
    "\n",
    "* `verbosity`  [default : 0] - the level of additional printing\n",
    "\n",
    "\n",
    "* `error_collect_frequency` [default: 1] - how often to collect the information on errors, 1 means every training step\n",
    "\n",
    "\n",
    "* `a_plus` [default: 1.1] - the RProp step size multiplication (increase) parameter - good for up to 1.2, corresponds to $\\eta^{+}$ parameter of [3]\n",
    "\n",
    "\n",
    "* `a_minus` [default: 0.6] - the RProp step size multiplication (decrease) parameter - good for down to 0.5, corresponds to $\\eta^{-}$ parameter of [3]\n",
    "\n",
    "\n",
    "* `dB_min` [default: $0.1\\times $`learning_rate` ] - the minimal acceptable timestep for B updates in the RProp family of methods\n",
    "\n",
    "\n",
    "* `dB_max` [default: $1.0\\times $`learning_rate` ] - the maximal acceptable timestep for B updates in the RProp family of methods\n",
    "\n",
    "\n",
    "* `dW_min` [default: $0.1\\times $`learning_rate` ] - the minimal acceptable timestep for W updates in the RProp family of methods\n",
    "\n",
    "\n",
    "* `dW_max` [default: $1.0\\times $`learning_rate` ] - the maximal acceptable timestep for W updates in the RProp family of methods\n",
    "\n",
    "\n",
    "\n",
    "  **References for the above parameters**:\n",
    "  1. [http://page.mi.fu-berlin.de/rojas/neural/chapter/K8.pdf](http://page.mi.fu-berlin.de/rojas/neural/chapter/K8.pdf)\n",
    "  2. [https://arxiv.org/pdf/1711.05101.pdf](https://arxiv.org/pdf/1711.05101.pdf)\n",
    "  3. [http://citeseerx.ist.psu.edu/viewdoc/summary?doi=10.1.1.17.1332](http://citeseerx.ist.psu.edu/viewdoc/summary?doi=10.1.1.17.1332)\n"
   ]
  },
  {
   "cell_type": "markdown",
   "metadata": {},
   "source": [
    "## 5. Error tracking\n",
    "<a name=\"errors\"></a> [Back to TOC](#TOC)\n",
    "\n",
    "The `train` function returns the error object that can be used to track the progress or assess the quality of training"
   ]
  },
  {
   "cell_type": "code",
   "execution_count": 21,
   "metadata": {},
   "outputs": [
    {
     "data": {
      "text/plain": [
       "liblibra_core.doubleList"
      ]
     },
     "execution_count": 21,
     "metadata": {},
     "output_type": "execute_result"
    }
   ],
   "source": [
    "type(err)"
   ]
  },
  {
   "cell_type": "code",
   "execution_count": 22,
   "metadata": {},
   "outputs": [
    {
     "data": {
      "text/plain": [
       "[<matplotlib.lines.Line2D at 0x7f0850383f98>]"
      ]
     },
     "execution_count": 22,
     "metadata": {},
     "output_type": "execute_result"
    },
    {
     "data": {
      "image/png": "[encoded data removed]",
      "text/plain": [
       "<Figure size 432x288 with 1 Axes>"
      ]
     },
     "metadata": {
      "needs_background": "light"
     },
     "output_type": "display_data"
    }
   ],
   "source": [
    "sz = len(err)\n",
    "x = list( range(1,sz))\n",
    "y = Cpp2Py(err)\n",
    "\n",
    "plt.plot(x, y[1:])"
   ]
  },
  {
   "cell_type": "markdown",
   "metadata": {},
   "source": [
    "<a name=\"error-1\"></a>\n",
    "\n",
    "In addition, one can use function `error` to comput the error for a given output, provided we know the target values"
   ]
  },
  {
   "cell_type": "code",
   "execution_count": 23,
   "metadata": {},
   "outputs": [
    {
     "data": {
      "text/plain": [
       "0.0019018024526835419"
      ]
     },
     "execution_count": 23,
     "metadata": {},
     "output_type": "execute_result"
    }
   ],
   "source": [
    "ANN3.error(inputs, outputs)"
   ]
  },
  {
   "cell_type": "markdown",
   "metadata": {},
   "source": [
    "## Exercise 1\n",
    "\n",
    "Train an ANN to learn the exclusinve OR (XOR) gate:\n",
    "\n",
    "| Input A | Input B |  Output A and B |\n",
    "| --- | --- | --- |\n",
    "|  0  |  0  |  0  |\n",
    "|  0  |  1  |  1  |\n",
    "|  0  |  1  |  1  |\n",
    "|  1  |  1  |  0  |\n",
    "\n",
    "Experiment with the ANN architecture and training parameters. Can you make the ANN with no hidden layers to learn this pattern?\n"
   ]
  },
  {
   "cell_type": "markdown",
   "metadata": {},
   "source": [
    "## Exercise 2\n",
    "\n",
    "Train an ANN to learn the quadratic function $y(x) = x^2$ on the [0, 5] interval. \n",
    "\n",
    "Hint: keep in mind that the output of the $tanh(x)$ function can be in the [-1, 1] interval, so you need to transform target y values into that interval. Even better, to something like [-0.5, 0.5]\n",
    "\n",
    "Also, the best learning happens where the slope of the transfer function isn't too close to zero, so it is a good idea to convert the input variables into another range, e.g. [-1, 1]"
   ]
  }
 ],
 "metadata": {
  "kernelspec": {
   "display_name": "Python 3",
   "language": "python",
   "name": "python3"
  },
  "language_info": {
   "codemirror_mode": {
    "name": "ipython",
    "version": 3
   },
   "file_extension": ".py",
   "mimetype": "text/x-python",
   "name": "python",
   "nbconvert_exporter": "python",
   "pygments_lexer": "ipython3",
   "version": "3.6.13"
  }
 },
 "nbformat": 4,
 "nbformat_minor": 2
}
