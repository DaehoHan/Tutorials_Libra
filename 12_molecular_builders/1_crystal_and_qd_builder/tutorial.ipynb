{
 "cells": [
  {
   "cell_type": "markdown",
   "metadata": {},
   "source": [
    "# Building crystal and nanoparticle atomistic models"
   ]
  },
  {
   "cell_type": "markdown",
   "metadata": {},
   "source": [
    "## Table of Content <a name=\"TOC\"></a>\n",
    "\n",
    "1. [General setups](#setups)\n",
    "\n",
    "\n",
    "2. [Periodic structure builders](#2.) \n",
    "\n",
    "  2.1. [Reading xyz inputs](#2.1.)\n",
    "  \n",
    "  2.2. [Creating supercells](#2.2.)\n",
    "  \n",
    "  2.3. [Atom-by-atom construction](#2.3.)\n",
    "  \n",
    "  2.4. [All atoms together - using crystal coordinates](#2.4.)\n",
    "  \n",
    "  2.5. [All atoms together - using Cartesian coordinates](#2.5.)\n",
    "  \n",
    "\n",
    "3. [Determining connectivities](#3.) \n",
    "\n",
    "  3.1. [Non-periodic case](#3.1.)\n",
    "  \n",
    "  3.2. [Periodic case (Warning: a bit buggy for now)](#3.2.)\n",
    "\n",
    "\n",
    "4. [Quantum Dot building](#4.) \n",
    "\n",
    "  4.1. [With capping](#4.1.)\n",
    "  \n",
    "  4.2. [Without capping](#4.2.)\n",
    "  \n",
    "  4.3. [Streamlined building of QDs](#4.3.)\n",
    "  "
   ]
  },
  {
   "cell_type": "markdown",
   "metadata": {},
   "source": [
    "### A. Learning objectives\n",
    "\n",
    "- to build extended periodic systems and quantum dots starting from xyz files\n",
    "- to build extended periodic systems and quantum dots starting from scratch\n",
    "- to create QDs of needed size\n",
    "- to replace surface atoms of of QE with other atoms\n",
    "- to detect connectivities in complex structures and print that information\n",
    "\n",
    "\n",
    "### B. Use cases\n",
    "\n",
    "- building beriodic structures and supercells\n",
    "- building quantum dots\n",
    "- molecular structure visualization\n",
    "\n",
    "\n",
    "### C. Functions\n",
    "\n",
    "- `libra_py`  \n",
    "  - `autoconnect`\n",
    "    - [`autoconnect`](#autoconnect-1) \n",
    "    - [`find_undercoordinated_atoms`](#find_undercoordinated_atoms-1)\n",
    "  - `build`\n",
    "    - [`read_xyz`](#read_xyz-1) | [also here](#read_xyz-2)\n",
    "    - [`make_xyz`](#make_xyz-1) | [also here](#make_xyz-2)\n",
    "    - [`read_xyz_crystal`](#read_xyz_crystal-1) \n",
    "    - [`generate_replicas_xyz`](#generate_replicas_xyz-1) \n",
    "    - [`generate_replicas_xyz2`](#generate_replicas_xyz2-1) | [also here](#generate_replicas_xyz2-2)\n",
    "    - [`crop_sphere_xyz`](#crop_sphere_xyz-1) \n",
    "    - [`crop_sphere_xyz2`](#crop_sphere_xyz2-1) | [also here](#crop_sphere_xyz2-2)\n",
    "    - [`crop_sphere_xyz3`](#crop_sphere_xyz3-1) | [also here](#crop_sphere_xyz3-2)\n",
    "    - [`add_atom_to_system`](#add_atom_to_system-1)\n",
    "    - [`add_atoms_to_system`](#add_atoms_to_system-1) | [also here](#add_atoms_to_system-2)  | [also here](#add_atoms_to_system-3)    \n",
    "\n",
    "\n",
    "### D. Classes and class members\n",
    "\n",
    "- `liblibra::libchemobjects::libchemsys`\n",
    "  - `System`\n",
    "    - [`System`](#System-1)\n",
    "    - [`get_xyz`](#get_xyz-1) | [also here](#get_xyz-2)\n",
    "    - [`init_box`](#init_box-1)\n",
    "    - [`print_ent`](#print_ent-1) | [also here](#print_ent-2)\n",
    "    "
   ]
  },
  {
   "cell_type": "markdown",
   "metadata": {},
   "source": [
    "## 1. General setups\n",
    "<a name=\"setups\"></a>[Back to TOC](#TOC)\n",
    "\n",
    "Let's import all the needed libraries, including the `py3Dmol` library for visualizing the structures we generate."
   ]
  },
  {
   "cell_type": "code",
   "execution_count": 1,
   "metadata": {},
   "outputs": [
    {
     "name": "stderr",
     "output_type": "stream",
     "text": [
      "/home/alexey/Conda/Miniconda3/envs/libra/lib/python3.6/importlib/_bootstrap.py:219: RuntimeWarning: to-Python converter for std::vector<std::vector<int, std::allocator<int> >, std::allocator<std::vector<int, std::allocator<int> > > > already registered; second conversion method ignored.\n",
      "  return f(*args, **kwds)\n",
      "/home/alexey/Conda/Miniconda3/envs/libra/lib/python3.6/importlib/_bootstrap.py:219: RuntimeWarning: to-Python converter for boost::python::detail::container_element<std::vector<std::vector<int, std::allocator<int> >, std::allocator<std::vector<int, std::allocator<int> > > >, unsigned long, boost::python::detail::final_vector_derived_policies<std::vector<std::vector<int, std::allocator<int> >, std::allocator<std::vector<int, std::allocator<int> > > >, false> > already registered; second conversion method ignored.\n",
      "  return f(*args, **kwds)\n",
      "/home/alexey/Conda/Miniconda3/envs/libra/lib/python3.6/importlib/_bootstrap.py:219: RuntimeWarning: to-Python converter for std::vector<std::vector<float, std::allocator<float> >, std::allocator<std::vector<float, std::allocator<float> > > > already registered; second conversion method ignored.\n",
      "  return f(*args, **kwds)\n",
      "/home/alexey/Conda/Miniconda3/envs/libra/lib/python3.6/importlib/_bootstrap.py:219: RuntimeWarning: to-Python converter for boost::python::detail::container_element<std::vector<std::vector<float, std::allocator<float> >, std::allocator<std::vector<float, std::allocator<float> > > >, unsigned long, boost::python::detail::final_vector_derived_policies<std::vector<std::vector<float, std::allocator<float> >, std::allocator<std::vector<float, std::allocator<float> > > >, false> > already registered; second conversion method ignored.\n",
      "  return f(*args, **kwds)\n",
      "/home/alexey/Conda/Miniconda3/envs/libra/lib/python3.6/importlib/_bootstrap.py:219: RuntimeWarning: to-Python converter for std::vector<std::vector<double, std::allocator<double> >, std::allocator<std::vector<double, std::allocator<double> > > > already registered; second conversion method ignored.\n",
      "  return f(*args, **kwds)\n",
      "/home/alexey/Conda/Miniconda3/envs/libra/lib/python3.6/importlib/_bootstrap.py:219: RuntimeWarning: to-Python converter for boost::python::detail::container_element<std::vector<std::vector<double, std::allocator<double> >, std::allocator<std::vector<double, std::allocator<double> > > >, unsigned long, boost::python::detail::final_vector_derived_policies<std::vector<std::vector<double, std::allocator<double> >, std::allocator<std::vector<double, std::allocator<double> > > >, false> > already registered; second conversion method ignored.\n",
      "  return f(*args, **kwds)\n",
      "/home/alexey/Conda/Miniconda3/envs/libra/lib/python3.6/importlib/_bootstrap.py:219: RuntimeWarning: to-Python converter for std::vector<std::vector<std::complex<double>, std::allocator<std::complex<double> > >, std::allocator<std::vector<std::complex<double>, std::allocator<std::complex<double> > > > > already registered; second conversion method ignored.\n",
      "  return f(*args, **kwds)\n",
      "/home/alexey/Conda/Miniconda3/envs/libra/lib/python3.6/importlib/_bootstrap.py:219: RuntimeWarning: to-Python converter for boost::python::detail::container_element<std::vector<std::vector<std::complex<double>, std::allocator<std::complex<double> > >, std::allocator<std::vector<std::complex<double>, std::allocator<std::complex<double> > > > >, unsigned long, boost::python::detail::final_vector_derived_policies<std::vector<std::vector<std::complex<double>, std::allocator<std::complex<double> > >, std::allocator<std::vector<std::complex<double>, std::allocator<std::complex<double> > > > >, false> > already registered; second conversion method ignored.\n",
      "  return f(*args, **kwds)\n"
     ]
    }
   ],
   "source": [
    "import math\n",
    "import liblibra_core\n",
    "from liblibra_core import *\n",
    "from libra_py import build\n",
    "from libra_py import units\n",
    "from libra_py import autoconnect\n",
    "\n",
    "import py3Dmol\n",
    "import matplotlib.pyplot as plt\n",
    "#from matplotlib.pyplot import figure\n",
    "%matplotlib inline\n",
    "\n",
    "plt.rc('axes', titlesize=24)      # fontsize of the axes title\n",
    "plt.rc('axes', labelsize=20)      # fontsize of the x and y labels\n",
    "plt.rc('legend', fontsize=20)     # legend fontsize\n",
    "plt.rc('xtick', labelsize=16)    # fontsize of the tick labels\n",
    "plt.rc('ytick', labelsize=16)    # fontsize of the tick labels\n",
    "\n",
    "plt.rc('figure.subplot', left=0.2)\n",
    "plt.rc('figure.subplot', right=0.95)\n",
    "plt.rc('figure.subplot', bottom=0.13)\n",
    "plt.rc('figure.subplot', top=0.88)\n",
    "\n",
    "colors = {}\n",
    "colors.update({\"11\": \"#8b1a0e\"})  # red       \n",
    "colors.update({\"12\": \"#FF4500\"})  # orangered \n",
    "colors.update({\"13\": \"#B22222\"})  # firebrick \n",
    "colors.update({\"14\": \"#DC143C\"})  # crimson   \n",
    "\n",
    "colors.update({\"21\": \"#5e9c36\"})  # green\n",
    "colors.update({\"22\": \"#006400\"})  # darkgreen  \n",
    "colors.update({\"23\": \"#228B22\"})  # forestgreen\n",
    "colors.update({\"24\": \"#808000\"})  # olive      \n",
    "\n",
    "colors.update({\"31\": \"#8A2BE2\"})  # blueviolet\n",
    "colors.update({\"32\": \"#00008B\"})  # darkblue  \n",
    "\n",
    "colors.update({\"41\": \"#2F4F4F\"})  # darkslategray"
   ]
  },
  {
   "cell_type": "markdown",
   "metadata": {},
   "source": [
    "## 2. Periodic structure builders\n",
    "<a name=\"2.\"></a>[Back to TOC](#TOC)\n",
    "\n",
    "### 2.1. Reading xyz inputs\n",
    "<a name=\"2.1.\"></a>[Back to TOC](#TOC)\n",
    "\n",
    "Define a unit cell parameters - periodic translations of the minimal unit cell (provided as an input file)"
   ]
  },
  {
   "cell_type": "code",
   "execution_count": 2,
   "metadata": {},
   "outputs": [],
   "source": [
    "a = VECTOR(5.833, 0.0, 0.0) * units.Angst\n",
    "b = VECTOR(0.0, 5.833, 0.0) * units.Angst\n",
    "c = VECTOR(0.0, 0.0, 5.833) * units.Angst"
   ]
  },
  {
   "cell_type": "markdown",
   "metadata": {},
   "source": [
    "Read the minimal unit cell information from the xyz file using:\n",
    "<a name=\"read_xyz-1\"></a>"
   ]
  },
  {
   "cell_type": "code",
   "execution_count": 3,
   "metadata": {},
   "outputs": [
    {
     "name": "stdout",
     "output_type": "stream",
     "text": [
      "Help on function read_xyz in module libra_py.build:\n",
      "\n",
      "read_xyz(filename, inp_units=1, out_units=0)\n",
      "    Read an xyz file (single structure)\n",
      "    \n",
      "    Args:\n",
      "        filename ( string ): the name of the xyz file to read\n",
      "        inp_units ( int ): defines the coordinates' units in the input file:\n",
      "    \n",
      "            * 0 - Bohr\n",
      "            * 1 - Angstrom ( default )\n",
      "    \n",
      "        out_units ( int ): defines the output coordinates' units:\n",
      "    \n",
      "            * 0 - Bohr ( default )\n",
      "            * 1 - Angstrom\n",
      "    \n",
      "    Returns: \n",
      "        tuple: (L, coords), where:\n",
      "    \n",
      "            * L ( list of N strings ): the labels of N atoms read\n",
      "            * coords ( list of N VECTORs ): the coordinates of N atoms read [defined by out_units]\n",
      "\n"
     ]
    }
   ],
   "source": [
    "help(build.read_xyz)"
   ]
  },
  {
   "cell_type": "code",
   "execution_count": 4,
   "metadata": {
    "scrolled": false
   },
   "outputs": [
    {
     "name": "stdout",
     "output_type": "stream",
     "text": [
      "['Cd', 'Cd', 'Cd', 'Cd', 'Se', 'Se', 'Se', 'Se'] [<liblibra_core.VECTOR object at 0x7f5a57e958b8>, <liblibra_core.VECTOR object at 0x7f5a57e95648>, <liblibra_core.VECTOR object at 0x7f5a57e95e68>, <liblibra_core.VECTOR object at 0x7f5a57e95920>, <liblibra_core.VECTOR object at 0x7f5a57e95988>, <liblibra_core.VECTOR object at 0x7f5a57e95850>, <liblibra_core.VECTOR object at 0x7f5a57e95a58>, <liblibra_core.VECTOR object at 0x7f5a57e95ac0>]\n"
     ]
    }
   ],
   "source": [
    "L0, R0 = build.read_xyz(\"CdSe.xyz\")\n",
    "print(L0, R0)"
   ]
  },
  {
   "cell_type": "markdown",
   "metadata": {},
   "source": [
    "Now, using atomic labels `L0` and coordinates `R0`, we can create the string file that represents the xyz file format, using:\n",
    "<a name=\"make_xyz-1\"></a>"
   ]
  },
  {
   "cell_type": "code",
   "execution_count": 5,
   "metadata": {},
   "outputs": [
    {
     "name": "stdout",
     "output_type": "stream",
     "text": [
      "Help on function make_xyz in module libra_py.build:\n",
      "\n",
      "make_xyz(L, R, inp_units=0, out_units=1)\n",
      "    Convert atomic labels and coordinates to a string formatted according to xyz\n",
      "    \n",
      "    Args:\n",
      "        L ( list of N strings ): the labels of N atoms in the system\n",
      "        R ( list of N VECTORs ): the coordinates of N atoms in the system\n",
      "        inp_units ( int ): defines the units of variables stored in R:\n",
      "    \n",
      "            * 0 - Bohr ( default )\n",
      "            * 1 - Angstrom \n",
      "    \n",
      "        out_units ( int ): defines the units of the coordinates written in xyz file:\n",
      "    \n",
      "            * 0 - Bohr \n",
      "            * 1 - Angstrom ( default )\n",
      "    \n",
      "    Returns: \n",
      "        string: a string representing the xyz file of the system\n",
      "\n"
     ]
    }
   ],
   "source": [
    "help(build.make_xyz)"
   ]
  },
  {
   "cell_type": "markdown",
   "metadata": {},
   "source": [
    "In principle, for the purpose of visualization, we could have simply read the xyz file as a string and used the string in the py3Dmol viewer. \n",
    "\n",
    "However, the current way also gives us the digital representation of atomic information (atom element labels and coordinates), which we will be using in the following steps."
   ]
  },
  {
   "cell_type": "code",
   "execution_count": 6,
   "metadata": {
    "scrolled": false
   },
   "outputs": [
    {
     "data": {
      "application/3dmoljs_load.v0": "<div id=\"3dmolviewer_16222542286466255\"  style=\"position: relative; width: 800px; height: 400px\">\n        <p id=\"3dmolwarning_16222542286466255\" style=\"background-color:#ffcccc;color:black\">You appear to be running in JupyterLab (or JavaScript failed to load for some other reason).  You need to install the 3dmol extension: <br>\n        <tt>jupyter labextension install jupyterlab_3dmol</tt></p>\n        </div>\n<script>\n\nvar loadScriptAsync = function(uri){\n  return new Promise((resolve, reject) => {\n    var tag = document.createElement('script');\n    tag.src = uri;\n    tag.async = true;\n    tag.onload = () => {\n      resolve();\n    };\n  var firstScriptTag = document.getElementsByTagName('script')[0];\n  firstScriptTag.parentNode.insertBefore(tag, firstScriptTag);\n});\n};\n\nif(typeof $3Dmolpromise === 'undefined') {\n$3Dmolpromise = null;\n  $3Dmolpromise = loadScriptAsync('https://3dmol.csb.pitt.edu/build/3Dmol.js');\n}\n\nvar viewer_16222542286466255 = null;\nvar warn = document.getElementById(\"3dmolwarning_16222542286466255\");\nif(warn) {\n    warn.parentNode.removeChild(warn);\n}\n$3Dmolpromise.then(function() {\nviewer_16222542286466255 = $3Dmol.createViewer($(\"#3dmolviewer_16222542286466255\"),{backgroundColor:\"white\"});\n\tviewer_16222542286466255.setBackgroundColor(\"0xeeeeee\");\n\tviewer_16222542286466255.zoomTo();\n\tviewer_16222542286466255.addModel(\"8\\n\\nCd     0.00000000    0.00000000    0.00000000 \\nCd     2.91650000    2.91650000    0.00000000 \\nCd     2.91650000    0.00000000    2.91650000 \\nCd     0.00000000    2.91650000    2.91650000 \\nSe     1.45825000    1.45825000    1.45825000 \\nSe     1.45825000    4.37475000    4.37475000 \\nSe     4.37475000    1.45825000    4.37475000 \\nSe     4.37475000    4.37475000    1.45825000 \\n\",\"xyz\",{\"vibrate\": {\"frames\": 10, \"amplitude\": 1.0}});\n\tviewer_16222542286466255.setStyle({\"sphere\": {\"colorscheme\": \"Jmol\"}});\nviewer_16222542286466255.render();\n});\n</script>",
      "text/html": [
       "<div id=\"3dmolviewer_16222542286466255\"  style=\"position: relative; width: 800px; height: 400px\">\n",
       "        <p id=\"3dmolwarning_16222542286466255\" style=\"background-color:#ffcccc;color:black\">You appear to be running in JupyterLab (or JavaScript failed to load for some other reason).  You need to install the 3dmol extension: <br>\n",
       "        <tt>jupyter labextension install jupyterlab_3dmol</tt></p>\n",
       "        </div>\n",
       "<script>\n",
       "\n",
       "var loadScriptAsync = function(uri){\n",
       "  return new Promise((resolve, reject) => {\n",
       "    var tag = document.createElement('script');\n",
       "    tag.src = uri;\n",
       "    tag.async = true;\n",
       "    tag.onload = () => {\n",
       "      resolve();\n",
       "    };\n",
       "  var firstScriptTag = document.getElementsByTagName('script')[0];\n",
       "  firstScriptTag.parentNode.insertBefore(tag, firstScriptTag);\n",
       "});\n",
       "};\n",
       "\n",
       "if(typeof $3Dmolpromise === 'undefined') {\n",
       "$3Dmolpromise = null;\n",
       "  $3Dmolpromise = loadScriptAsync('https://3dmol.csb.pitt.edu/build/3Dmol.js');\n",
       "}\n",
       "\n",
       "var viewer_16222542286466255 = null;\n",
       "var warn = document.getElementById(\"3dmolwarning_16222542286466255\");\n",
       "if(warn) {\n",
       "    warn.parentNode.removeChild(warn);\n",
       "}\n",
       "$3Dmolpromise.then(function() {\n",
       "viewer_16222542286466255 = $3Dmol.createViewer($(\"#3dmolviewer_16222542286466255\"),{backgroundColor:\"white\"});\n",
       "\tviewer_16222542286466255.setBackgroundColor(\"0xeeeeee\");\n",
       "\tviewer_16222542286466255.zoomTo();\n",
       "\tviewer_16222542286466255.addModel(\"8\\n\\nCd     0.00000000    0.00000000    0.00000000 \\nCd     2.91650000    2.91650000    0.00000000 \\nCd     2.91650000    0.00000000    2.91650000 \\nCd     0.00000000    2.91650000    2.91650000 \\nSe     1.45825000    1.45825000    1.45825000 \\nSe     1.45825000    4.37475000    4.37475000 \\nSe     4.37475000    1.45825000    4.37475000 \\nSe     4.37475000    4.37475000    1.45825000 \\n\",\"xyz\",{\"vibrate\": {\"frames\": 10, \"amplitude\": 1.0}});\n",
       "\tviewer_16222542286466255.setStyle({\"sphere\": {\"colorscheme\": \"Jmol\"}});\n",
       "viewer_16222542286466255.render();\n",
       "});\n",
       "</script>"
      ]
     },
     "metadata": {},
     "output_type": "display_data"
    },
    {
     "name": "stdout",
     "output_type": "stream",
     "text": [
      "8\n",
      "\n",
      "Cd     0.00000000    0.00000000    0.00000000 \n",
      "Cd     2.91650000    2.91650000    0.00000000 \n",
      "Cd     2.91650000    0.00000000    2.91650000 \n",
      "Cd     0.00000000    2.91650000    2.91650000 \n",
      "Se     1.45825000    1.45825000    1.45825000 \n",
      "Se     1.45825000    4.37475000    4.37475000 \n",
      "Se     4.37475000    1.45825000    4.37475000 \n",
      "Se     4.37475000    4.37475000    1.45825000 \n",
      "\n"
     ]
    }
   ],
   "source": [
    "xyz = build.make_xyz(L0, R0)\n",
    "view = py3Dmol.view(width=800,height=400)  # linked=False,viewergrid=(3,2)\n",
    "view.setBackgroundColor('0xeeeeee')\n",
    "view.zoomTo()\n",
    "view.addModel(xyz,'xyz',{'vibrate': {'frames':10,'amplitude':1.0}})\n",
    "view.setStyle({'sphere':{'colorscheme':'Jmol'}})\n",
    "view.show()\n",
    "\n",
    "print(xyz)"
   ]
  },
  {
   "cell_type": "markdown",
   "metadata": {},
   "source": [
    "The `make_xyz` function could be used as a first step before storing the molecular structure information as an xyz file - just produce the string and then save it to the file."
   ]
  },
  {
   "cell_type": "markdown",
   "metadata": {},
   "source": [
    "### 2.2. Creating supercells\n",
    "<a name=\"2.2.\"></a>[Back to TOC](#TOC)\n",
    "\n",
    "Now, lets create a super-cell by replicating the minimal cell in 3 directions\n",
    "We need large enough super-cell so that the QDs we are going to create fits inside it\n",
    "so, replicate 6 times in each direction\n",
    "This will generate the labels and coordinates of the new super-system\n",
    "<a name=\"generate_replicas_xyz2-1\"></a>"
   ]
  },
  {
   "cell_type": "code",
   "execution_count": 7,
   "metadata": {},
   "outputs": [
    {
     "name": "stdout",
     "output_type": "stream",
     "text": [
      "Help on function generate_replicas_xyz2 in module libra_py.build:\n",
      "\n",
      "generate_replicas_xyz2(L, R, tv1, tv2, tv3, Nx, Ny, Nz, inp_units=0, out_units=0)\n",
      "    This function generates a lattice of coordinates and an array of \n",
      "    corresponding atomic labels by replicating a given set of labeled\n",
      "    atoms periodically in up to 3 dimensions (with a variable number of \n",
      "    replicas in each direction)\n",
      "    \n",
      "    Args:\n",
      "        L ( list of strings ): atomis labels\n",
      "        R ( list of VECTOR objects ): initial atomic coords [defined by inp_units] \n",
      "        tv1 ( VECTOR ): translation vector in direction 1 [defined by inp_units] \n",
      "        tv2 ( VECTOR ): translation vector in direction 2 [defined by inp_units] \n",
      "        tv3 ( VECTOR ): translation vector in direction 3 [defined by inp_units] \n",
      "        Nx ( int ): the number of replications along the vector tv1, not counting the original cell\n",
      "        Ny ( int ): the number of replications along the vector tv2, not counting the original cell\n",
      "        Nz ( int ): the number of replications along the vector tv3, not counting the original cell\n",
      "        inp_units ( int ): defines the units of variables R, tv1, tv2, and tv3:\n",
      "    \n",
      "            * 0 - Bohr ( default )\n",
      "            * 1 - Angstrom \n",
      "    \n",
      "        out_units ( int ): defines the units of the coordinates returned:\n",
      "    \n",
      "            * 0 - Bohr ( default )\n",
      "            * 1 - Angstrom \n",
      "    \n",
      "    Returns:\n",
      "        tuple: (lab, newR), where:\n",
      "    \n",
      "            * lab ( list of N strings ): the labels of all atoms and their corresponding replicas\n",
      "            * newR ( list of N VECTORs ): the coordinates of all replicated atoms [defined by out_units]\n",
      "\n"
     ]
    }
   ],
   "source": [
    "help(build.generate_replicas_xyz2)"
   ]
  },
  {
   "cell_type": "code",
   "execution_count": 8,
   "metadata": {},
   "outputs": [
    {
     "data": {
      "application/3dmoljs_load.v0": "<div id=\"3dmolviewer_16222542289010527\"  style=\"position: relative; width: 800px; height: 400px\">\n        <p id=\"3dmolwarning_16222542289010527\" style=\"background-color:#ffcccc;color:black\">You appear to be running in JupyterLab (or JavaScript failed to load for some other reason).  You need to install the 3dmol extension: <br>\n        <tt>jupyter labextension install jupyterlab_3dmol</tt></p>\n        </div>\n<script>\n\nvar loadScriptAsync = function(uri){\n  return new Promise((resolve, reject) => {\n    var tag = document.createElement('script');\n    tag.src = uri;\n    tag.async = true;\n    tag.onload = () => {\n      resolve();\n    };\n  var firstScriptTag = document.getElementsByTagName('script')[0];\n  firstScriptTag.parentNode.insertBefore(tag, firstScriptTag);\n});\n};\n\nif(typeof $3Dmolpromise === 'undefined') {\n$3Dmolpromise = null;\n  $3Dmolpromise = loadScriptAsync('https://3dmol.csb.pitt.edu/build/3Dmol.js');\n}\n\nvar viewer_16222542289010527 = null;\nvar warn = document.getElementById(\"3dmolwarning_16222542289010527\");\nif(warn) {\n    warn.parentNode.removeChild(warn);\n}\n$3Dmolpromise.then(function() {\nviewer_16222542289010527 = $3Dmol.createViewer($(\"#3dmolviewer_16222542289010527\"),{backgroundColor:\"white\"});\n\tviewer_16222542289010527.setBackgroundColor(\"0xeeeeee\");\n\tviewer_16222542289010527.zoomTo();\n\tviewer_16222542289010527.addModel(\"1728\\n\\nCd     0.00000000    0.00000000    0.00000000 \\nCd     0.00000000    0.00000000    5.83300000 \\nCd     0.00000000    0.00000000   11.66600000 \\nCd     0.00000000    0.00000000   17.49900000 \\nCd     0.00000000    0.00000000   23.33200000 \\nCd     0.00000000    0.00000000   29.16500000 \\nCd     0.00000000    5.83300000    0.00000000 \\nCd     0.00000000    5.83300000    5.83300000 \\nCd     0.00000000    5.83300000   11.66600000 \\nCd     0.00000000    5.83300000   17.49900000 \\nCd     0.00000000    5.83300000   23.33200000 \\nCd     0.00000000    5.83300000   29.16500000 \\nCd     0.00000000   11.66600000    0.00000000 \\nCd     0.00000000   11.66600000    5.83300000 \\nCd     0.00000000   11.66600000   11.66600000 \\nCd     0.00000000   11.66600000   17.49900000 \\nCd     0.00000000   11.66600000   23.33200000 \\nCd     0.00000000   11.66600000   29.16500000 \\nCd     0.00000000   17.49900000    0.00000000 \\nCd     0.00000000   17.49900000    5.83300000 \\nCd     0.00000000   17.49900000   11.66600000 \\nCd     0.00000000   17.49900000   17.49900000 \\nCd     0.00000000   17.49900000   23.33200000 \\nCd     0.00000000   17.49900000   29.16500000 \\nCd     0.00000000   23.33200000    0.00000000 \\nCd     0.00000000   23.33200000    5.83300000 \\nCd     0.00000000   23.33200000   11.66600000 \\nCd     0.00000000   23.33200000   17.49900000 \\nCd     0.00000000   23.33200000   23.33200000 \\nCd     0.00000000   23.33200000   29.16500000 \\nCd     0.00000000   29.16500000    0.00000000 \\nCd     0.00000000   29.16500000    5.83300000 \\nCd     0.00000000   29.16500000   11.66600000 \\nCd     0.00000000   29.16500000   17.49900000 \\nCd     0.00000000   29.16500000   23.33200000 \\nCd     0.00000000   29.16500000   29.16500000 \\nCd     5.83300000    0.00000000    0.00000000 \\nCd     5.83300000    0.00000000    5.83300000 \\nCd     5.83300000    0.00000000   11.66600000 \\nCd     5.83300000    0.00000000   17.49900000 \\nCd     5.83300000    0.00000000   23.33200000 \\nCd     5.83300000    0.00000000   29.16500000 \\nCd     5.83300000    5.83300000    0.00000000 \\nCd     5.83300000    5.83300000    5.83300000 \\nCd     5.83300000    5.83300000   11.66600000 \\nCd     5.83300000    5.83300000   17.49900000 \\nCd     5.83300000    5.83300000   23.33200000 \\nCd     5.83300000    5.83300000   29.16500000 \\nCd     5.83300000   11.66600000    0.00000000 \\nCd     5.83300000   11.66600000    5.83300000 \\nCd     5.83300000   11.66600000   11.66600000 \\nCd     5.83300000   11.66600000   17.49900000 \\nCd     5.83300000   11.66600000   23.33200000 \\nCd     5.83300000   11.66600000   29.16500000 \\nCd     5.83300000   17.49900000    0.00000000 \\nCd     5.83300000   17.49900000    5.83300000 \\nCd     5.83300000   17.49900000   11.66600000 \\nCd     5.83300000   17.49900000   17.49900000 \\nCd     5.83300000   17.49900000   23.33200000 \\nCd     5.83300000   17.49900000   29.16500000 \\nCd     5.83300000   23.33200000    0.00000000 \\nCd     5.83300000   23.33200000    5.83300000 \\nCd     5.83300000   23.33200000   11.66600000 \\nCd     5.83300000   23.33200000   17.49900000 \\nCd     5.83300000   23.33200000   23.33200000 \\nCd     5.83300000   23.33200000   29.16500000 \\nCd     5.83300000   29.16500000    0.00000000 \\nCd     5.83300000   29.16500000    5.83300000 \\nCd     5.83300000   29.16500000   11.66600000 \\nCd     5.83300000   29.16500000   17.49900000 \\nCd     5.83300000   29.16500000   23.33200000 \\nCd     5.83300000   29.16500000   29.16500000 \\nCd    11.66600000    0.00000000    0.00000000 \\nCd    11.66600000    0.00000000    5.83300000 \\nCd    11.66600000    0.00000000   11.66600000 \\nCd    11.66600000    0.00000000   17.49900000 \\nCd    11.66600000    0.00000000   23.33200000 \\nCd    11.66600000    0.00000000   29.16500000 \\nCd    11.66600000    5.83300000    0.00000000 \\nCd    11.66600000    5.83300000    5.83300000 \\nCd    11.66600000    5.83300000   11.66600000 \\nCd    11.66600000    5.83300000   17.49900000 \\nCd    11.66600000    5.83300000   23.33200000 \\nCd    11.66600000    5.83300000   29.16500000 \\nCd    11.66600000   11.66600000    0.00000000 \\nCd    11.66600000   11.66600000    5.83300000 \\nCd    11.66600000   11.66600000   11.66600000 \\nCd    11.66600000   11.66600000   17.49900000 \\nCd    11.66600000   11.66600000   23.33200000 \\nCd    11.66600000   11.66600000   29.16500000 \\nCd    11.66600000   17.49900000    0.00000000 \\nCd    11.66600000   17.49900000    5.83300000 \\nCd    11.66600000   17.49900000   11.66600000 \\nCd    11.66600000   17.49900000   17.49900000 \\nCd    11.66600000   17.49900000   23.33200000 \\nCd    11.66600000   17.49900000   29.16500000 \\nCd    11.66600000   23.33200000    0.00000000 \\nCd    11.66600000   23.33200000    5.83300000 \\nCd    11.66600000   23.33200000   11.66600000 \\nCd    11.66600000   23.33200000   17.49900000 \\nCd    11.66600000   23.33200000   23.33200000 \\nCd    11.66600000   23.33200000   29.16500000 \\nCd    11.66600000   29.16500000    0.00000000 \\nCd    11.66600000   29.16500000    5.83300000 \\nCd    11.66600000   29.16500000   11.66600000 \\nCd    11.66600000   29.16500000   17.49900000 \\nCd    11.66600000   29.16500000   23.33200000 \\nCd    11.66600000   29.16500000   29.16500000 \\nCd    17.49900000    0.00000000    0.00000000 \\nCd    17.49900000    0.00000000    5.83300000 \\nCd    17.49900000    0.00000000   11.66600000 \\nCd    17.49900000    0.00000000   17.49900000 \\nCd    17.49900000    0.00000000   23.33200000 \\nCd    17.49900000    0.00000000   29.16500000 \\nCd    17.49900000    5.83300000    0.00000000 \\nCd    17.49900000    5.83300000    5.83300000 \\nCd    17.49900000    5.83300000   11.66600000 \\nCd    17.49900000    5.83300000   17.49900000 \\nCd    17.49900000    5.83300000   23.33200000 \\nCd    17.49900000    5.83300000   29.16500000 \\nCd    17.49900000   11.66600000    0.00000000 \\nCd    17.49900000   11.66600000    5.83300000 \\nCd    17.49900000   11.66600000   11.66600000 \\nCd    17.49900000   11.66600000   17.49900000 \\nCd    17.49900000   11.66600000   23.33200000 \\nCd    17.49900000   11.66600000   29.16500000 \\nCd    17.49900000   17.49900000    0.00000000 \\nCd    17.49900000   17.49900000    5.83300000 \\nCd    17.49900000   17.49900000   11.66600000 \\nCd    17.49900000   17.49900000   17.49900000 \\nCd    17.49900000   17.49900000   23.33200000 \\nCd    17.49900000   17.49900000   29.16500000 \\nCd    17.49900000   23.33200000    0.00000000 \\nCd    17.49900000   23.33200000    5.83300000 \\nCd    17.49900000   23.33200000   11.66600000 \\nCd    17.49900000   23.33200000   17.49900000 \\nCd    17.49900000   23.33200000   23.33200000 \\nCd    17.49900000   23.33200000   29.16500000 \\nCd    17.49900000   29.16500000    0.00000000 \\nCd    17.49900000   29.16500000    5.83300000 \\nCd    17.49900000   29.16500000   11.66600000 \\nCd    17.49900000   29.16500000   17.49900000 \\nCd    17.49900000   29.16500000   23.33200000 \\nCd    17.49900000   29.16500000   29.16500000 \\nCd    23.33200000    0.00000000    0.00000000 \\nCd    23.33200000    0.00000000    5.83300000 \\nCd    23.33200000    0.00000000   11.66600000 \\nCd    23.33200000    0.00000000   17.49900000 \\nCd    23.33200000    0.00000000   23.33200000 \\nCd    23.33200000    0.00000000   29.16500000 \\nCd    23.33200000    5.83300000    0.00000000 \\nCd    23.33200000    5.83300000    5.83300000 \\nCd    23.33200000    5.83300000   11.66600000 \\nCd    23.33200000    5.83300000   17.49900000 \\nCd    23.33200000    5.83300000   23.33200000 \\nCd    23.33200000    5.83300000   29.16500000 \\nCd    23.33200000   11.66600000    0.00000000 \\nCd    23.33200000   11.66600000    5.83300000 \\nCd    23.33200000   11.66600000   11.66600000 \\nCd    23.33200000   11.66600000   17.49900000 \\nCd    23.33200000   11.66600000   23.33200000 \\nCd    23.33200000   11.66600000   29.16500000 \\nCd    23.33200000   17.49900000    0.00000000 \\nCd    23.33200000   17.49900000    5.83300000 \\nCd    23.33200000   17.49900000   11.66600000 \\nCd    23.33200000   17.49900000   17.49900000 \\nCd    23.33200000   17.49900000   23.33200000 \\nCd    23.33200000   17.49900000   29.16500000 \\nCd    23.33200000   23.33200000    0.00000000 \\nCd    23.33200000   23.33200000    5.83300000 \\nCd    23.33200000   23.33200000   11.66600000 \\nCd    23.33200000   23.33200000   17.49900000 \\nCd    23.33200000   23.33200000   23.33200000 \\nCd    23.33200000   23.33200000   29.16500000 \\nCd    23.33200000   29.16500000    0.00000000 \\nCd    23.33200000   29.16500000    5.83300000 \\nCd    23.33200000   29.16500000   11.66600000 \\nCd    23.33200000   29.16500000   17.49900000 \\nCd    23.33200000   29.16500000   23.33200000 \\nCd    23.33200000   29.16500000   29.16500000 \\nCd    29.16500000    0.00000000    0.00000000 \\nCd    29.16500000    0.00000000    5.83300000 \\nCd    29.16500000    0.00000000   11.66600000 \\nCd    29.16500000    0.00000000   17.49900000 \\nCd    29.16500000    0.00000000   23.33200000 \\nCd    29.16500000    0.00000000   29.16500000 \\nCd    29.16500000    5.83300000    0.00000000 \\nCd    29.16500000    5.83300000    5.83300000 \\nCd    29.16500000    5.83300000   11.66600000 \\nCd    29.16500000    5.83300000   17.49900000 \\nCd    29.16500000    5.83300000   23.33200000 \\nCd    29.16500000    5.83300000   29.16500000 \\nCd    29.16500000   11.66600000    0.00000000 \\nCd    29.16500000   11.66600000    5.83300000 \\nCd    29.16500000   11.66600000   11.66600000 \\nCd    29.16500000   11.66600000   17.49900000 \\nCd    29.16500000   11.66600000   23.33200000 \\nCd    29.16500000   11.66600000   29.16500000 \\nCd    29.16500000   17.49900000    0.00000000 \\nCd    29.16500000   17.49900000    5.83300000 \\nCd    29.16500000   17.49900000   11.66600000 \\nCd    29.16500000   17.49900000   17.49900000 \\nCd    29.16500000   17.49900000   23.33200000 \\nCd    29.16500000   17.49900000   29.16500000 \\nCd    29.16500000   23.33200000    0.00000000 \\nCd    29.16500000   23.33200000    5.83300000 \\nCd    29.16500000   23.33200000   11.66600000 \\nCd    29.16500000   23.33200000   17.49900000 \\nCd    29.16500000   23.33200000   23.33200000 \\nCd    29.16500000   23.33200000   29.16500000 \\nCd    29.16500000   29.16500000    0.00000000 \\nCd    29.16500000   29.16500000    5.83300000 \\nCd    29.16500000   29.16500000   11.66600000 \\nCd    29.16500000   29.16500000   17.49900000 \\nCd    29.16500000   29.16500000   23.33200000 \\nCd    29.16500000   29.16500000   29.16500000 \\nCd     2.91650000    2.91650000    0.00000000 \\nCd     2.91650000    2.91650000    5.83300000 \\nCd     2.91650000    2.91650000   11.66600000 \\nCd     2.91650000    2.91650000   17.49900000 \\nCd     2.91650000    2.91650000   23.33200000 \\nCd     2.91650000    2.91650000   29.16500000 \\nCd     2.91650000    8.74950000    0.00000000 \\nCd     2.91650000    8.74950000    5.83300000 \\nCd     2.91650000    8.74950000   11.66600000 \\nCd     2.91650000    8.74950000   17.49900000 \\nCd     2.91650000    8.74950000   23.33200000 \\nCd     2.91650000    8.74950000   29.16500000 \\nCd     2.91650000   14.58250000    0.00000000 \\nCd     2.91650000   14.58250000    5.83300000 \\nCd     2.91650000   14.58250000   11.66600000 \\nCd     2.91650000   14.58250000   17.49900000 \\nCd     2.91650000   14.58250000   23.33200000 \\nCd     2.91650000   14.58250000   29.16500000 \\nCd     2.91650000   20.41550000    0.00000000 \\nCd     2.91650000   20.41550000    5.83300000 \\nCd     2.91650000   20.41550000   11.66600000 \\nCd     2.91650000   20.41550000   17.49900000 \\nCd     2.91650000   20.41550000   23.33200000 \\nCd     2.91650000   20.41550000   29.16500000 \\nCd     2.91650000   26.24850000    0.00000000 \\nCd     2.91650000   26.24850000    5.83300000 \\nCd     2.91650000   26.24850000   11.66600000 \\nCd     2.91650000   26.24850000   17.49900000 \\nCd     2.91650000   26.24850000   23.33200000 \\nCd     2.91650000   26.24850000   29.16500000 \\nCd     2.91650000   32.08150000    0.00000000 \\nCd     2.91650000   32.08150000    5.83300000 \\nCd     2.91650000   32.08150000   11.66600000 \\nCd     2.91650000   32.08150000   17.49900000 \\nCd     2.91650000   32.08150000   23.33200000 \\nCd     2.91650000   32.08150000   29.16500000 \\nCd     8.74950000    2.91650000    0.00000000 \\nCd     8.74950000    2.91650000    5.83300000 \\nCd     8.74950000    2.91650000   11.66600000 \\nCd     8.74950000    2.91650000   17.49900000 \\nCd     8.74950000    2.91650000   23.33200000 \\nCd     8.74950000    2.91650000   29.16500000 \\nCd     8.74950000    8.74950000    0.00000000 \\nCd     8.74950000    8.74950000    5.83300000 \\nCd     8.74950000    8.74950000   11.66600000 \\nCd     8.74950000    8.74950000   17.49900000 \\nCd     8.74950000    8.74950000   23.33200000 \\nCd     8.74950000    8.74950000   29.16500000 \\nCd     8.74950000   14.58250000    0.00000000 \\nCd     8.74950000   14.58250000    5.83300000 \\nCd     8.74950000   14.58250000   11.66600000 \\nCd     8.74950000   14.58250000   17.49900000 \\nCd     8.74950000   14.58250000   23.33200000 \\nCd     8.74950000   14.58250000   29.16500000 \\nCd     8.74950000   20.41550000    0.00000000 \\nCd     8.74950000   20.41550000    5.83300000 \\nCd     8.74950000   20.41550000   11.66600000 \\nCd     8.74950000   20.41550000   17.49900000 \\nCd     8.74950000   20.41550000   23.33200000 \\nCd     8.74950000   20.41550000   29.16500000 \\nCd     8.74950000   26.24850000    0.00000000 \\nCd     8.74950000   26.24850000    5.83300000 \\nCd     8.74950000   26.24850000   11.66600000 \\nCd     8.74950000   26.24850000   17.49900000 \\nCd     8.74950000   26.24850000   23.33200000 \\nCd     8.74950000   26.24850000   29.16500000 \\nCd     8.74950000   32.08150000    0.00000000 \\nCd     8.74950000   32.08150000    5.83300000 \\nCd     8.74950000   32.08150000   11.66600000 \\nCd     8.74950000   32.08150000   17.49900000 \\nCd     8.74950000   32.08150000   23.33200000 \\nCd     8.74950000   32.08150000   29.16500000 \\nCd    14.58250000    2.91650000    0.00000000 \\nCd    14.58250000    2.91650000    5.83300000 \\nCd    14.58250000    2.91650000   11.66600000 \\nCd    14.58250000    2.91650000   17.49900000 \\nCd    14.58250000    2.91650000   23.33200000 \\nCd    14.58250000    2.91650000   29.16500000 \\nCd    14.58250000    8.74950000    0.00000000 \\nCd    14.58250000    8.74950000    5.83300000 \\nCd    14.58250000    8.74950000   11.66600000 \\nCd    14.58250000    8.74950000   17.49900000 \\nCd    14.58250000    8.74950000   23.33200000 \\nCd    14.58250000    8.74950000   29.16500000 \\nCd    14.58250000   14.58250000    0.00000000 \\nCd    14.58250000   14.58250000    5.83300000 \\nCd    14.58250000   14.58250000   11.66600000 \\nCd    14.58250000   14.58250000   17.49900000 \\nCd    14.58250000   14.58250000   23.33200000 \\nCd    14.58250000   14.58250000   29.16500000 \\nCd    14.58250000   20.41550000    0.00000000 \\nCd    14.58250000   20.41550000    5.83300000 \\nCd    14.58250000   20.41550000   11.66600000 \\nCd    14.58250000   20.41550000   17.49900000 \\nCd    14.58250000   20.41550000   23.33200000 \\nCd    14.58250000   20.41550000   29.16500000 \\nCd    14.58250000   26.24850000    0.00000000 \\nCd    14.58250000   26.24850000    5.83300000 \\nCd    14.58250000   26.24850000   11.66600000 \\nCd    14.58250000   26.24850000   17.49900000 \\nCd    14.58250000   26.24850000   23.33200000 \\nCd    14.58250000   26.24850000   29.16500000 \\nCd    14.58250000   32.08150000    0.00000000 \\nCd    14.58250000   32.08150000    5.83300000 \\nCd    14.58250000   32.08150000   11.66600000 \\nCd    14.58250000   32.08150000   17.49900000 \\nCd    14.58250000   32.08150000   23.33200000 \\nCd    14.58250000   32.08150000   29.16500000 \\nCd    20.41550000    2.91650000    0.00000000 \\nCd    20.41550000    2.91650000    5.83300000 \\nCd    20.41550000    2.91650000   11.66600000 \\nCd    20.41550000    2.91650000   17.49900000 \\nCd    20.41550000    2.91650000   23.33200000 \\nCd    20.41550000    2.91650000   29.16500000 \\nCd    20.41550000    8.74950000    0.00000000 \\nCd    20.41550000    8.74950000    5.83300000 \\nCd    20.41550000    8.74950000   11.66600000 \\nCd    20.41550000    8.74950000   17.49900000 \\nCd    20.41550000    8.74950000   23.33200000 \\nCd    20.41550000    8.74950000   29.16500000 \\nCd    20.41550000   14.58250000    0.00000000 \\nCd    20.41550000   14.58250000    5.83300000 \\nCd    20.41550000   14.58250000   11.66600000 \\nCd    20.41550000   14.58250000   17.49900000 \\nCd    20.41550000   14.58250000   23.33200000 \\nCd    20.41550000   14.58250000   29.16500000 \\nCd    20.41550000   20.41550000    0.00000000 \\nCd    20.41550000   20.41550000    5.83300000 \\nCd    20.41550000   20.41550000   11.66600000 \\nCd    20.41550000   20.41550000   17.49900000 \\nCd    20.41550000   20.41550000   23.33200000 \\nCd    20.41550000   20.41550000   29.16500000 \\nCd    20.41550000   26.24850000    0.00000000 \\nCd    20.41550000   26.24850000    5.83300000 \\nCd    20.41550000   26.24850000   11.66600000 \\nCd    20.41550000   26.24850000   17.49900000 \\nCd    20.41550000   26.24850000   23.33200000 \\nCd    20.41550000   26.24850000   29.16500000 \\nCd    20.41550000   32.08150000    0.00000000 \\nCd    20.41550000   32.08150000    5.83300000 \\nCd    20.41550000   32.08150000   11.66600000 \\nCd    20.41550000   32.08150000   17.49900000 \\nCd    20.41550000   32.08150000   23.33200000 \\nCd    20.41550000   32.08150000   29.16500000 \\nCd    26.24850000    2.91650000    0.00000000 \\nCd    26.24850000    2.91650000    5.83300000 \\nCd    26.24850000    2.91650000   11.66600000 \\nCd    26.24850000    2.91650000   17.49900000 \\nCd    26.24850000    2.91650000   23.33200000 \\nCd    26.24850000    2.91650000   29.16500000 \\nCd    26.24850000    8.74950000    0.00000000 \\nCd    26.24850000    8.74950000    5.83300000 \\nCd    26.24850000    8.74950000   11.66600000 \\nCd    26.24850000    8.74950000   17.49900000 \\nCd    26.24850000    8.74950000   23.33200000 \\nCd    26.24850000    8.74950000   29.16500000 \\nCd    26.24850000   14.58250000    0.00000000 \\nCd    26.24850000   14.58250000    5.83300000 \\nCd    26.24850000   14.58250000   11.66600000 \\nCd    26.24850000   14.58250000   17.49900000 \\nCd    26.24850000   14.58250000   23.33200000 \\nCd    26.24850000   14.58250000   29.16500000 \\nCd    26.24850000   20.41550000    0.00000000 \\nCd    26.24850000   20.41550000    5.83300000 \\nCd    26.24850000   20.41550000   11.66600000 \\nCd    26.24850000   20.41550000   17.49900000 \\nCd    26.24850000   20.41550000   23.33200000 \\nCd    26.24850000   20.41550000   29.16500000 \\nCd    26.24850000   26.24850000    0.00000000 \\nCd    26.24850000   26.24850000    5.83300000 \\nCd    26.24850000   26.24850000   11.66600000 \\nCd    26.24850000   26.24850000   17.49900000 \\nCd    26.24850000   26.24850000   23.33200000 \\nCd    26.24850000   26.24850000   29.16500000 \\nCd    26.24850000   32.08150000    0.00000000 \\nCd    26.24850000   32.08150000    5.83300000 \\nCd    26.24850000   32.08150000   11.66600000 \\nCd    26.24850000   32.08150000   17.49900000 \\nCd    26.24850000   32.08150000   23.33200000 \\nCd    26.24850000   32.08150000   29.16500000 \\nCd    32.08150000    2.91650000    0.00000000 \\nCd    32.08150000    2.91650000    5.83300000 \\nCd    32.08150000    2.91650000   11.66600000 \\nCd    32.08150000    2.91650000   17.49900000 \\nCd    32.08150000    2.91650000   23.33200000 \\nCd    32.08150000    2.91650000   29.16500000 \\nCd    32.08150000    8.74950000    0.00000000 \\nCd    32.08150000    8.74950000    5.83300000 \\nCd    32.08150000    8.74950000   11.66600000 \\nCd    32.08150000    8.74950000   17.49900000 \\nCd    32.08150000    8.74950000   23.33200000 \\nCd    32.08150000    8.74950000   29.16500000 \\nCd    32.08150000   14.58250000    0.00000000 \\nCd    32.08150000   14.58250000    5.83300000 \\nCd    32.08150000   14.58250000   11.66600000 \\nCd    32.08150000   14.58250000   17.49900000 \\nCd    32.08150000   14.58250000   23.33200000 \\nCd    32.08150000   14.58250000   29.16500000 \\nCd    32.08150000   20.41550000    0.00000000 \\nCd    32.08150000   20.41550000    5.83300000 \\nCd    32.08150000   20.41550000   11.66600000 \\nCd    32.08150000   20.41550000   17.49900000 \\nCd    32.08150000   20.41550000   23.33200000 \\nCd    32.08150000   20.41550000   29.16500000 \\nCd    32.08150000   26.24850000    0.00000000 \\nCd    32.08150000   26.24850000    5.83300000 \\nCd    32.08150000   26.24850000   11.66600000 \\nCd    32.08150000   26.24850000   17.49900000 \\nCd    32.08150000   26.24850000   23.33200000 \\nCd    32.08150000   26.24850000   29.16500000 \\nCd    32.08150000   32.08150000    0.00000000 \\nCd    32.08150000   32.08150000    5.83300000 \\nCd    32.08150000   32.08150000   11.66600000 \\nCd    32.08150000   32.08150000   17.49900000 \\nCd    32.08150000   32.08150000   23.33200000 \\nCd    32.08150000   32.08150000   29.16500000 \\nCd     2.91650000    0.00000000    2.91650000 \\nCd     2.91650000    0.00000000    8.74950000 \\nCd     2.91650000    0.00000000   14.58250000 \\nCd     2.91650000    0.00000000   20.41550000 \\nCd     2.91650000    0.00000000   26.24850000 \\nCd     2.91650000    0.00000000   32.08150000 \\nCd     2.91650000    5.83300000    2.91650000 \\nCd     2.91650000    5.83300000    8.74950000 \\nCd     2.91650000    5.83300000   14.58250000 \\nCd     2.91650000    5.83300000   20.41550000 \\nCd     2.91650000    5.83300000   26.24850000 \\nCd     2.91650000    5.83300000   32.08150000 \\nCd     2.91650000   11.66600000    2.91650000 \\nCd     2.91650000   11.66600000    8.74950000 \\nCd     2.91650000   11.66600000   14.58250000 \\nCd     2.91650000   11.66600000   20.41550000 \\nCd     2.91650000   11.66600000   26.24850000 \\nCd     2.91650000   11.66600000   32.08150000 \\nCd     2.91650000   17.49900000    2.91650000 \\nCd     2.91650000   17.49900000    8.74950000 \\nCd     2.91650000   17.49900000   14.58250000 \\nCd     2.91650000   17.49900000   20.41550000 \\nCd     2.91650000   17.49900000   26.24850000 \\nCd     2.91650000   17.49900000   32.08150000 \\nCd     2.91650000   23.33200000    2.91650000 \\nCd     2.91650000   23.33200000    8.74950000 \\nCd     2.91650000   23.33200000   14.58250000 \\nCd     2.91650000   23.33200000   20.41550000 \\nCd     2.91650000   23.33200000   26.24850000 \\nCd     2.91650000   23.33200000   32.08150000 \\nCd     2.91650000   29.16500000    2.91650000 \\nCd     2.91650000   29.16500000    8.74950000 \\nCd     2.91650000   29.16500000   14.58250000 \\nCd     2.91650000   29.16500000   20.41550000 \\nCd     2.91650000   29.16500000   26.24850000 \\nCd     2.91650000   29.16500000   32.08150000 \\nCd     8.74950000    0.00000000    2.91650000 \\nCd     8.74950000    0.00000000    8.74950000 \\nCd     8.74950000    0.00000000   14.58250000 \\nCd     8.74950000    0.00000000   20.41550000 \\nCd     8.74950000    0.00000000   26.24850000 \\nCd     8.74950000    0.00000000   32.08150000 \\nCd     8.74950000    5.83300000    2.91650000 \\nCd     8.74950000    5.83300000    8.74950000 \\nCd     8.74950000    5.83300000   14.58250000 \\nCd     8.74950000    5.83300000   20.41550000 \\nCd     8.74950000    5.83300000   26.24850000 \\nCd     8.74950000    5.83300000   32.08150000 \\nCd     8.74950000   11.66600000    2.91650000 \\nCd     8.74950000   11.66600000    8.74950000 \\nCd     8.74950000   11.66600000   14.58250000 \\nCd     8.74950000   11.66600000   20.41550000 \\nCd     8.74950000   11.66600000   26.24850000 \\nCd     8.74950000   11.66600000   32.08150000 \\nCd     8.74950000   17.49900000    2.91650000 \\nCd     8.74950000   17.49900000    8.74950000 \\nCd     8.74950000   17.49900000   14.58250000 \\nCd     8.74950000   17.49900000   20.41550000 \\nCd     8.74950000   17.49900000   26.24850000 \\nCd     8.74950000   17.49900000   32.08150000 \\nCd     8.74950000   23.33200000    2.91650000 \\nCd     8.74950000   23.33200000    8.74950000 \\nCd     8.74950000   23.33200000   14.58250000 \\nCd     8.74950000   23.33200000   20.41550000 \\nCd     8.74950000   23.33200000   26.24850000 \\nCd     8.74950000   23.33200000   32.08150000 \\nCd     8.74950000   29.16500000    2.91650000 \\nCd     8.74950000   29.16500000    8.74950000 \\nCd     8.74950000   29.16500000   14.58250000 \\nCd     8.74950000   29.16500000   20.41550000 \\nCd     8.74950000   29.16500000   26.24850000 \\nCd     8.74950000   29.16500000   32.08150000 \\nCd    14.58250000    0.00000000    2.91650000 \\nCd    14.58250000    0.00000000    8.74950000 \\nCd    14.58250000    0.00000000   14.58250000 \\nCd    14.58250000    0.00000000   20.41550000 \\nCd    14.58250000    0.00000000   26.24850000 \\nCd    14.58250000    0.00000000   32.08150000 \\nCd    14.58250000    5.83300000    2.91650000 \\nCd    14.58250000    5.83300000    8.74950000 \\nCd    14.58250000    5.83300000   14.58250000 \\nCd    14.58250000    5.83300000   20.41550000 \\nCd    14.58250000    5.83300000   26.24850000 \\nCd    14.58250000    5.83300000   32.08150000 \\nCd    14.58250000   11.66600000    2.91650000 \\nCd    14.58250000   11.66600000    8.74950000 \\nCd    14.58250000   11.66600000   14.58250000 \\nCd    14.58250000   11.66600000   20.41550000 \\nCd    14.58250000   11.66600000   26.24850000 \\nCd    14.58250000   11.66600000   32.08150000 \\nCd    14.58250000   17.49900000    2.91650000 \\nCd    14.58250000   17.49900000    8.74950000 \\nCd    14.58250000   17.49900000   14.58250000 \\nCd    14.58250000   17.49900000   20.41550000 \\nCd    14.58250000   17.49900000   26.24850000 \\nCd    14.58250000   17.49900000   32.08150000 \\nCd    14.58250000   23.33200000    2.91650000 \\nCd    14.58250000   23.33200000    8.74950000 \\nCd    14.58250000   23.33200000   14.58250000 \\nCd    14.58250000   23.33200000   20.41550000 \\nCd    14.58250000   23.33200000   26.24850000 \\nCd    14.58250000   23.33200000   32.08150000 \\nCd    14.58250000   29.16500000    2.91650000 \\nCd    14.58250000   29.16500000    8.74950000 \\nCd    14.58250000   29.16500000   14.58250000 \\nCd    14.58250000   29.16500000   20.41550000 \\nCd    14.58250000   29.16500000   26.24850000 \\nCd    14.58250000   29.16500000   32.08150000 \\nCd    20.41550000    0.00000000    2.91650000 \\nCd    20.41550000    0.00000000    8.74950000 \\nCd    20.41550000    0.00000000   14.58250000 \\nCd    20.41550000    0.00000000   20.41550000 \\nCd    20.41550000    0.00000000   26.24850000 \\nCd    20.41550000    0.00000000   32.08150000 \\nCd    20.41550000    5.83300000    2.91650000 \\nCd    20.41550000    5.83300000    8.74950000 \\nCd    20.41550000    5.83300000   14.58250000 \\nCd    20.41550000    5.83300000   20.41550000 \\nCd    20.41550000    5.83300000   26.24850000 \\nCd    20.41550000    5.83300000   32.08150000 \\nCd    20.41550000   11.66600000    2.91650000 \\nCd    20.41550000   11.66600000    8.74950000 \\nCd    20.41550000   11.66600000   14.58250000 \\nCd    20.41550000   11.66600000   20.41550000 \\nCd    20.41550000   11.66600000   26.24850000 \\nCd    20.41550000   11.66600000   32.08150000 \\nCd    20.41550000   17.49900000    2.91650000 \\nCd    20.41550000   17.49900000    8.74950000 \\nCd    20.41550000   17.49900000   14.58250000 \\nCd    20.41550000   17.49900000   20.41550000 \\nCd    20.41550000   17.49900000   26.24850000 \\nCd    20.41550000   17.49900000   32.08150000 \\nCd    20.41550000   23.33200000    2.91650000 \\nCd    20.41550000   23.33200000    8.74950000 \\nCd    20.41550000   23.33200000   14.58250000 \\nCd    20.41550000   23.33200000   20.41550000 \\nCd    20.41550000   23.33200000   26.24850000 \\nCd    20.41550000   23.33200000   32.08150000 \\nCd    20.41550000   29.16500000    2.91650000 \\nCd    20.41550000   29.16500000    8.74950000 \\nCd    20.41550000   29.16500000   14.58250000 \\nCd    20.41550000   29.16500000   20.41550000 \\nCd    20.41550000   29.16500000   26.24850000 \\nCd    20.41550000   29.16500000   32.08150000 \\nCd    26.24850000    0.00000000    2.91650000 \\nCd    26.24850000    0.00000000    8.74950000 \\nCd    26.24850000    0.00000000   14.58250000 \\nCd    26.24850000    0.00000000   20.41550000 \\nCd    26.24850000    0.00000000   26.24850000 \\nCd    26.24850000    0.00000000   32.08150000 \\nCd    26.24850000    5.83300000    2.91650000 \\nCd    26.24850000    5.83300000    8.74950000 \\nCd    26.24850000    5.83300000   14.58250000 \\nCd    26.24850000    5.83300000   20.41550000 \\nCd    26.24850000    5.83300000   26.24850000 \\nCd    26.24850000    5.83300000   32.08150000 \\nCd    26.24850000   11.66600000    2.91650000 \\nCd    26.24850000   11.66600000    8.74950000 \\nCd    26.24850000   11.66600000   14.58250000 \\nCd    26.24850000   11.66600000   20.41550000 \\nCd    26.24850000   11.66600000   26.24850000 \\nCd    26.24850000   11.66600000   32.08150000 \\nCd    26.24850000   17.49900000    2.91650000 \\nCd    26.24850000   17.49900000    8.74950000 \\nCd    26.24850000   17.49900000   14.58250000 \\nCd    26.24850000   17.49900000   20.41550000 \\nCd    26.24850000   17.49900000   26.24850000 \\nCd    26.24850000   17.49900000   32.08150000 \\nCd    26.24850000   23.33200000    2.91650000 \\nCd    26.24850000   23.33200000    8.74950000 \\nCd    26.24850000   23.33200000   14.58250000 \\nCd    26.24850000   23.33200000   20.41550000 \\nCd    26.24850000   23.33200000   26.24850000 \\nCd    26.24850000   23.33200000   32.08150000 \\nCd    26.24850000   29.16500000    2.91650000 \\nCd    26.24850000   29.16500000    8.74950000 \\nCd    26.24850000   29.16500000   14.58250000 \\nCd    26.24850000   29.16500000   20.41550000 \\nCd    26.24850000   29.16500000   26.24850000 \\nCd    26.24850000   29.16500000   32.08150000 \\nCd    32.08150000    0.00000000    2.91650000 \\nCd    32.08150000    0.00000000    8.74950000 \\nCd    32.08150000    0.00000000   14.58250000 \\nCd    32.08150000    0.00000000   20.41550000 \\nCd    32.08150000    0.00000000   26.24850000 \\nCd    32.08150000    0.00000000   32.08150000 \\nCd    32.08150000    5.83300000    2.91650000 \\nCd    32.08150000    5.83300000    8.74950000 \\nCd    32.08150000    5.83300000   14.58250000 \\nCd    32.08150000    5.83300000   20.41550000 \\nCd    32.08150000    5.83300000   26.24850000 \\nCd    32.08150000    5.83300000   32.08150000 \\nCd    32.08150000   11.66600000    2.91650000 \\nCd    32.08150000   11.66600000    8.74950000 \\nCd    32.08150000   11.66600000   14.58250000 \\nCd    32.08150000   11.66600000   20.41550000 \\nCd    32.08150000   11.66600000   26.24850000 \\nCd    32.08150000   11.66600000   32.08150000 \\nCd    32.08150000   17.49900000    2.91650000 \\nCd    32.08150000   17.49900000    8.74950000 \\nCd    32.08150000   17.49900000   14.58250000 \\nCd    32.08150000   17.49900000   20.41550000 \\nCd    32.08150000   17.49900000   26.24850000 \\nCd    32.08150000   17.49900000   32.08150000 \\nCd    32.08150000   23.33200000    2.91650000 \\nCd    32.08150000   23.33200000    8.74950000 \\nCd    32.08150000   23.33200000   14.58250000 \\nCd    32.08150000   23.33200000   20.41550000 \\nCd    32.08150000   23.33200000   26.24850000 \\nCd    32.08150000   23.33200000   32.08150000 \\nCd    32.08150000   29.16500000    2.91650000 \\nCd    32.08150000   29.16500000    8.74950000 \\nCd    32.08150000   29.16500000   14.58250000 \\nCd    32.08150000   29.16500000   20.41550000 \\nCd    32.08150000   29.16500000   26.24850000 \\nCd    32.08150000   29.16500000   32.08150000 \\nCd     0.00000000    2.91650000    2.91650000 \\nCd     0.00000000    2.91650000    8.74950000 \\nCd     0.00000000    2.91650000   14.58250000 \\nCd     0.00000000    2.91650000   20.41550000 \\nCd     0.00000000    2.91650000   26.24850000 \\nCd     0.00000000    2.91650000   32.08150000 \\nCd     0.00000000    8.74950000    2.91650000 \\nCd     0.00000000    8.74950000    8.74950000 \\nCd     0.00000000    8.74950000   14.58250000 \\nCd     0.00000000    8.74950000   20.41550000 \\nCd     0.00000000    8.74950000   26.24850000 \\nCd     0.00000000    8.74950000   32.08150000 \\nCd     0.00000000   14.58250000    2.91650000 \\nCd     0.00000000   14.58250000    8.74950000 \\nCd     0.00000000   14.58250000   14.58250000 \\nCd     0.00000000   14.58250000   20.41550000 \\nCd     0.00000000   14.58250000   26.24850000 \\nCd     0.00000000   14.58250000   32.08150000 \\nCd     0.00000000   20.41550000    2.91650000 \\nCd     0.00000000   20.41550000    8.74950000 \\nCd     0.00000000   20.41550000   14.58250000 \\nCd     0.00000000   20.41550000   20.41550000 \\nCd     0.00000000   20.41550000   26.24850000 \\nCd     0.00000000   20.41550000   32.08150000 \\nCd     0.00000000   26.24850000    2.91650000 \\nCd     0.00000000   26.24850000    8.74950000 \\nCd     0.00000000   26.24850000   14.58250000 \\nCd     0.00000000   26.24850000   20.41550000 \\nCd     0.00000000   26.24850000   26.24850000 \\nCd     0.00000000   26.24850000   32.08150000 \\nCd     0.00000000   32.08150000    2.91650000 \\nCd     0.00000000   32.08150000    8.74950000 \\nCd     0.00000000   32.08150000   14.58250000 \\nCd     0.00000000   32.08150000   20.41550000 \\nCd     0.00000000   32.08150000   26.24850000 \\nCd     0.00000000   32.08150000   32.08150000 \\nCd     5.83300000    2.91650000    2.91650000 \\nCd     5.83300000    2.91650000    8.74950000 \\nCd     5.83300000    2.91650000   14.58250000 \\nCd     5.83300000    2.91650000   20.41550000 \\nCd     5.83300000    2.91650000   26.24850000 \\nCd     5.83300000    2.91650000   32.08150000 \\nCd     5.83300000    8.74950000    2.91650000 \\nCd     5.83300000    8.74950000    8.74950000 \\nCd     5.83300000    8.74950000   14.58250000 \\nCd     5.83300000    8.74950000   20.41550000 \\nCd     5.83300000    8.74950000   26.24850000 \\nCd     5.83300000    8.74950000   32.08150000 \\nCd     5.83300000   14.58250000    2.91650000 \\nCd     5.83300000   14.58250000    8.74950000 \\nCd     5.83300000   14.58250000   14.58250000 \\nCd     5.83300000   14.58250000   20.41550000 \\nCd     5.83300000   14.58250000   26.24850000 \\nCd     5.83300000   14.58250000   32.08150000 \\nCd     5.83300000   20.41550000    2.91650000 \\nCd     5.83300000   20.41550000    8.74950000 \\nCd     5.83300000   20.41550000   14.58250000 \\nCd     5.83300000   20.41550000   20.41550000 \\nCd     5.83300000   20.41550000   26.24850000 \\nCd     5.83300000   20.41550000   32.08150000 \\nCd     5.83300000   26.24850000    2.91650000 \\nCd     5.83300000   26.24850000    8.74950000 \\nCd     5.83300000   26.24850000   14.58250000 \\nCd     5.83300000   26.24850000   20.41550000 \\nCd     5.83300000   26.24850000   26.24850000 \\nCd     5.83300000   26.24850000   32.08150000 \\nCd     5.83300000   32.08150000    2.91650000 \\nCd     5.83300000   32.08150000    8.74950000 \\nCd     5.83300000   32.08150000   14.58250000 \\nCd     5.83300000   32.08150000   20.41550000 \\nCd     5.83300000   32.08150000   26.24850000 \\nCd     5.83300000   32.08150000   32.08150000 \\nCd    11.66600000    2.91650000    2.91650000 \\nCd    11.66600000    2.91650000    8.74950000 \\nCd    11.66600000    2.91650000   14.58250000 \\nCd    11.66600000    2.91650000   20.41550000 \\nCd    11.66600000    2.91650000   26.24850000 \\nCd    11.66600000    2.91650000   32.08150000 \\nCd    11.66600000    8.74950000    2.91650000 \\nCd    11.66600000    8.74950000    8.74950000 \\nCd    11.66600000    8.74950000   14.58250000 \\nCd    11.66600000    8.74950000   20.41550000 \\nCd    11.66600000    8.74950000   26.24850000 \\nCd    11.66600000    8.74950000   32.08150000 \\nCd    11.66600000   14.58250000    2.91650000 \\nCd    11.66600000   14.58250000    8.74950000 \\nCd    11.66600000   14.58250000   14.58250000 \\nCd    11.66600000   14.58250000   20.41550000 \\nCd    11.66600000   14.58250000   26.24850000 \\nCd    11.66600000   14.58250000   32.08150000 \\nCd    11.66600000   20.41550000    2.91650000 \\nCd    11.66600000   20.41550000    8.74950000 \\nCd    11.66600000   20.41550000   14.58250000 \\nCd    11.66600000   20.41550000   20.41550000 \\nCd    11.66600000   20.41550000   26.24850000 \\nCd    11.66600000   20.41550000   32.08150000 \\nCd    11.66600000   26.24850000    2.91650000 \\nCd    11.66600000   26.24850000    8.74950000 \\nCd    11.66600000   26.24850000   14.58250000 \\nCd    11.66600000   26.24850000   20.41550000 \\nCd    11.66600000   26.24850000   26.24850000 \\nCd    11.66600000   26.24850000   32.08150000 \\nCd    11.66600000   32.08150000    2.91650000 \\nCd    11.66600000   32.08150000    8.74950000 \\nCd    11.66600000   32.08150000   14.58250000 \\nCd    11.66600000   32.08150000   20.41550000 \\nCd    11.66600000   32.08150000   26.24850000 \\nCd    11.66600000   32.08150000   32.08150000 \\nCd    17.49900000    2.91650000    2.91650000 \\nCd    17.49900000    2.91650000    8.74950000 \\nCd    17.49900000    2.91650000   14.58250000 \\nCd    17.49900000    2.91650000   20.41550000 \\nCd    17.49900000    2.91650000   26.24850000 \\nCd    17.49900000    2.91650000   32.08150000 \\nCd    17.49900000    8.74950000    2.91650000 \\nCd    17.49900000    8.74950000    8.74950000 \\nCd    17.49900000    8.74950000   14.58250000 \\nCd    17.49900000    8.74950000   20.41550000 \\nCd    17.49900000    8.74950000   26.24850000 \\nCd    17.49900000    8.74950000   32.08150000 \\nCd    17.49900000   14.58250000    2.91650000 \\nCd    17.49900000   14.58250000    8.74950000 \\nCd    17.49900000   14.58250000   14.58250000 \\nCd    17.49900000   14.58250000   20.41550000 \\nCd    17.49900000   14.58250000   26.24850000 \\nCd    17.49900000   14.58250000   32.08150000 \\nCd    17.49900000   20.41550000    2.91650000 \\nCd    17.49900000   20.41550000    8.74950000 \\nCd    17.49900000   20.41550000   14.58250000 \\nCd    17.49900000   20.41550000   20.41550000 \\nCd    17.49900000   20.41550000   26.24850000 \\nCd    17.49900000   20.41550000   32.08150000 \\nCd    17.49900000   26.24850000    2.91650000 \\nCd    17.49900000   26.24850000    8.74950000 \\nCd    17.49900000   26.24850000   14.58250000 \\nCd    17.49900000   26.24850000   20.41550000 \\nCd    17.49900000   26.24850000   26.24850000 \\nCd    17.49900000   26.24850000   32.08150000 \\nCd    17.49900000   32.08150000    2.91650000 \\nCd    17.49900000   32.08150000    8.74950000 \\nCd    17.49900000   32.08150000   14.58250000 \\nCd    17.49900000   32.08150000   20.41550000 \\nCd    17.49900000   32.08150000   26.24850000 \\nCd    17.49900000   32.08150000   32.08150000 \\nCd    23.33200000    2.91650000    2.91650000 \\nCd    23.33200000    2.91650000    8.74950000 \\nCd    23.33200000    2.91650000   14.58250000 \\nCd    23.33200000    2.91650000   20.41550000 \\nCd    23.33200000    2.91650000   26.24850000 \\nCd    23.33200000    2.91650000   32.08150000 \\nCd    23.33200000    8.74950000    2.91650000 \\nCd    23.33200000    8.74950000    8.74950000 \\nCd    23.33200000    8.74950000   14.58250000 \\nCd    23.33200000    8.74950000   20.41550000 \\nCd    23.33200000    8.74950000   26.24850000 \\nCd    23.33200000    8.74950000   32.08150000 \\nCd    23.33200000   14.58250000    2.91650000 \\nCd    23.33200000   14.58250000    8.74950000 \\nCd    23.33200000   14.58250000   14.58250000 \\nCd    23.33200000   14.58250000   20.41550000 \\nCd    23.33200000   14.58250000   26.24850000 \\nCd    23.33200000   14.58250000   32.08150000 \\nCd    23.33200000   20.41550000    2.91650000 \\nCd    23.33200000   20.41550000    8.74950000 \\nCd    23.33200000   20.41550000   14.58250000 \\nCd    23.33200000   20.41550000   20.41550000 \\nCd    23.33200000   20.41550000   26.24850000 \\nCd    23.33200000   20.41550000   32.08150000 \\nCd    23.33200000   26.24850000    2.91650000 \\nCd    23.33200000   26.24850000    8.74950000 \\nCd    23.33200000   26.24850000   14.58250000 \\nCd    23.33200000   26.24850000   20.41550000 \\nCd    23.33200000   26.24850000   26.24850000 \\nCd    23.33200000   26.24850000   32.08150000 \\nCd    23.33200000   32.08150000    2.91650000 \\nCd    23.33200000   32.08150000    8.74950000 \\nCd    23.33200000   32.08150000   14.58250000 \\nCd    23.33200000   32.08150000   20.41550000 \\nCd    23.33200000   32.08150000   26.24850000 \\nCd    23.33200000   32.08150000   32.08150000 \\nCd    29.16500000    2.91650000    2.91650000 \\nCd    29.16500000    2.91650000    8.74950000 \\nCd    29.16500000    2.91650000   14.58250000 \\nCd    29.16500000    2.91650000   20.41550000 \\nCd    29.16500000    2.91650000   26.24850000 \\nCd    29.16500000    2.91650000   32.08150000 \\nCd    29.16500000    8.74950000    2.91650000 \\nCd    29.16500000    8.74950000    8.74950000 \\nCd    29.16500000    8.74950000   14.58250000 \\nCd    29.16500000    8.74950000   20.41550000 \\nCd    29.16500000    8.74950000   26.24850000 \\nCd    29.16500000    8.74950000   32.08150000 \\nCd    29.16500000   14.58250000    2.91650000 \\nCd    29.16500000   14.58250000    8.74950000 \\nCd    29.16500000   14.58250000   14.58250000 \\nCd    29.16500000   14.58250000   20.41550000 \\nCd    29.16500000   14.58250000   26.24850000 \\nCd    29.16500000   14.58250000   32.08150000 \\nCd    29.16500000   20.41550000    2.91650000 \\nCd    29.16500000   20.41550000    8.74950000 \\nCd    29.16500000   20.41550000   14.58250000 \\nCd    29.16500000   20.41550000   20.41550000 \\nCd    29.16500000   20.41550000   26.24850000 \\nCd    29.16500000   20.41550000   32.08150000 \\nCd    29.16500000   26.24850000    2.91650000 \\nCd    29.16500000   26.24850000    8.74950000 \\nCd    29.16500000   26.24850000   14.58250000 \\nCd    29.16500000   26.24850000   20.41550000 \\nCd    29.16500000   26.24850000   26.24850000 \\nCd    29.16500000   26.24850000   32.08150000 \\nCd    29.16500000   32.08150000    2.91650000 \\nCd    29.16500000   32.08150000    8.74950000 \\nCd    29.16500000   32.08150000   14.58250000 \\nCd    29.16500000   32.08150000   20.41550000 \\nCd    29.16500000   32.08150000   26.24850000 \\nCd    29.16500000   32.08150000   32.08150000 \\nSe     1.45825000    1.45825000    1.45825000 \\nSe     1.45825000    1.45825000    7.29125000 \\nSe     1.45825000    1.45825000   13.12425000 \\nSe     1.45825000    1.45825000   18.95725000 \\nSe     1.45825000    1.45825000   24.79025000 \\nSe     1.45825000    1.45825000   30.62325000 \\nSe     1.45825000    7.29125000    1.45825000 \\nSe     1.45825000    7.29125000    7.29125000 \\nSe     1.45825000    7.29125000   13.12425000 \\nSe     1.45825000    7.29125000   18.95725000 \\nSe     1.45825000    7.29125000   24.79025000 \\nSe     1.45825000    7.29125000   30.62325000 \\nSe     1.45825000   13.12425000    1.45825000 \\nSe     1.45825000   13.12425000    7.29125000 \\nSe     1.45825000   13.12425000   13.12425000 \\nSe     1.45825000   13.12425000   18.95725000 \\nSe     1.45825000   13.12425000   24.79025000 \\nSe     1.45825000   13.12425000   30.62325000 \\nSe     1.45825000   18.95725000    1.45825000 \\nSe     1.45825000   18.95725000    7.29125000 \\nSe     1.45825000   18.95725000   13.12425000 \\nSe     1.45825000   18.95725000   18.95725000 \\nSe     1.45825000   18.95725000   24.79025000 \\nSe     1.45825000   18.95725000   30.62325000 \\nSe     1.45825000   24.79025000    1.45825000 \\nSe     1.45825000   24.79025000    7.29125000 \\nSe     1.45825000   24.79025000   13.12425000 \\nSe     1.45825000   24.79025000   18.95725000 \\nSe     1.45825000   24.79025000   24.79025000 \\nSe     1.45825000   24.79025000   30.62325000 \\nSe     1.45825000   30.62325000    1.45825000 \\nSe     1.45825000   30.62325000    7.29125000 \\nSe     1.45825000   30.62325000   13.12425000 \\nSe     1.45825000   30.62325000   18.95725000 \\nSe     1.45825000   30.62325000   24.79025000 \\nSe     1.45825000   30.62325000   30.62325000 \\nSe     7.29125000    1.45825000    1.45825000 \\nSe     7.29125000    1.45825000    7.29125000 \\nSe     7.29125000    1.45825000   13.12425000 \\nSe     7.29125000    1.45825000   18.95725000 \\nSe     7.29125000    1.45825000   24.79025000 \\nSe     7.29125000    1.45825000   30.62325000 \\nSe     7.29125000    7.29125000    1.45825000 \\nSe     7.29125000    7.29125000    7.29125000 \\nSe     7.29125000    7.29125000   13.12425000 \\nSe     7.29125000    7.29125000   18.95725000 \\nSe     7.29125000    7.29125000   24.79025000 \\nSe     7.29125000    7.29125000   30.62325000 \\nSe     7.29125000   13.12425000    1.45825000 \\nSe     7.29125000   13.12425000    7.29125000 \\nSe     7.29125000   13.12425000   13.12425000 \\nSe     7.29125000   13.12425000   18.95725000 \\nSe     7.29125000   13.12425000   24.79025000 \\nSe     7.29125000   13.12425000   30.62325000 \\nSe     7.29125000   18.95725000    1.45825000 \\nSe     7.29125000   18.95725000    7.29125000 \\nSe     7.29125000   18.95725000   13.12425000 \\nSe     7.29125000   18.95725000   18.95725000 \\nSe     7.29125000   18.95725000   24.79025000 \\nSe     7.29125000   18.95725000   30.62325000 \\nSe     7.29125000   24.79025000    1.45825000 \\nSe     7.29125000   24.79025000    7.29125000 \\nSe     7.29125000   24.79025000   13.12425000 \\nSe     7.29125000   24.79025000   18.95725000 \\nSe     7.29125000   24.79025000   24.79025000 \\nSe     7.29125000   24.79025000   30.62325000 \\nSe     7.29125000   30.62325000    1.45825000 \\nSe     7.29125000   30.62325000    7.29125000 \\nSe     7.29125000   30.62325000   13.12425000 \\nSe     7.29125000   30.62325000   18.95725000 \\nSe     7.29125000   30.62325000   24.79025000 \\nSe     7.29125000   30.62325000   30.62325000 \\nSe    13.12425000    1.45825000    1.45825000 \\nSe    13.12425000    1.45825000    7.29125000 \\nSe    13.12425000    1.45825000   13.12425000 \\nSe    13.12425000    1.45825000   18.95725000 \\nSe    13.12425000    1.45825000   24.79025000 \\nSe    13.12425000    1.45825000   30.62325000 \\nSe    13.12425000    7.29125000    1.45825000 \\nSe    13.12425000    7.29125000    7.29125000 \\nSe    13.12425000    7.29125000   13.12425000 \\nSe    13.12425000    7.29125000   18.95725000 \\nSe    13.12425000    7.29125000   24.79025000 \\nSe    13.12425000    7.29125000   30.62325000 \\nSe    13.12425000   13.12425000    1.45825000 \\nSe    13.12425000   13.12425000    7.29125000 \\nSe    13.12425000   13.12425000   13.12425000 \\nSe    13.12425000   13.12425000   18.95725000 \\nSe    13.12425000   13.12425000   24.79025000 \\nSe    13.12425000   13.12425000   30.62325000 \\nSe    13.12425000   18.95725000    1.45825000 \\nSe    13.12425000   18.95725000    7.29125000 \\nSe    13.12425000   18.95725000   13.12425000 \\nSe    13.12425000   18.95725000   18.95725000 \\nSe    13.12425000   18.95725000   24.79025000 \\nSe    13.12425000   18.95725000   30.62325000 \\nSe    13.12425000   24.79025000    1.45825000 \\nSe    13.12425000   24.79025000    7.29125000 \\nSe    13.12425000   24.79025000   13.12425000 \\nSe    13.12425000   24.79025000   18.95725000 \\nSe    13.12425000   24.79025000   24.79025000 \\nSe    13.12425000   24.79025000   30.62325000 \\nSe    13.12425000   30.62325000    1.45825000 \\nSe    13.12425000   30.62325000    7.29125000 \\nSe    13.12425000   30.62325000   13.12425000 \\nSe    13.12425000   30.62325000   18.95725000 \\nSe    13.12425000   30.62325000   24.79025000 \\nSe    13.12425000   30.62325000   30.62325000 \\nSe    18.95725000    1.45825000    1.45825000 \\nSe    18.95725000    1.45825000    7.29125000 \\nSe    18.95725000    1.45825000   13.12425000 \\nSe    18.95725000    1.45825000   18.95725000 \\nSe    18.95725000    1.45825000   24.79025000 \\nSe    18.95725000    1.45825000   30.62325000 \\nSe    18.95725000    7.29125000    1.45825000 \\nSe    18.95725000    7.29125000    7.29125000 \\nSe    18.95725000    7.29125000   13.12425000 \\nSe    18.95725000    7.29125000   18.95725000 \\nSe    18.95725000    7.29125000   24.79025000 \\nSe    18.95725000    7.29125000   30.62325000 \\nSe    18.95725000   13.12425000    1.45825000 \\nSe    18.95725000   13.12425000    7.29125000 \\nSe    18.95725000   13.12425000   13.12425000 \\nSe    18.95725000   13.12425000   18.95725000 \\nSe    18.95725000   13.12425000   24.79025000 \\nSe    18.95725000   13.12425000   30.62325000 \\nSe    18.95725000   18.95725000    1.45825000 \\nSe    18.95725000   18.95725000    7.29125000 \\nSe    18.95725000   18.95725000   13.12425000 \\nSe    18.95725000   18.95725000   18.95725000 \\nSe    18.95725000   18.95725000   24.79025000 \\nSe    18.95725000   18.95725000   30.62325000 \\nSe    18.95725000   24.79025000    1.45825000 \\nSe    18.95725000   24.79025000    7.29125000 \\nSe    18.95725000   24.79025000   13.12425000 \\nSe    18.95725000   24.79025000   18.95725000 \\nSe    18.95725000   24.79025000   24.79025000 \\nSe    18.95725000   24.79025000   30.62325000 \\nSe    18.95725000   30.62325000    1.45825000 \\nSe    18.95725000   30.62325000    7.29125000 \\nSe    18.95725000   30.62325000   13.12425000 \\nSe    18.95725000   30.62325000   18.95725000 \\nSe    18.95725000   30.62325000   24.79025000 \\nSe    18.95725000   30.62325000   30.62325000 \\nSe    24.79025000    1.45825000    1.45825000 \\nSe    24.79025000    1.45825000    7.29125000 \\nSe    24.79025000    1.45825000   13.12425000 \\nSe    24.79025000    1.45825000   18.95725000 \\nSe    24.79025000    1.45825000   24.79025000 \\nSe    24.79025000    1.45825000   30.62325000 \\nSe    24.79025000    7.29125000    1.45825000 \\nSe    24.79025000    7.29125000    7.29125000 \\nSe    24.79025000    7.29125000   13.12425000 \\nSe    24.79025000    7.29125000   18.95725000 \\nSe    24.79025000    7.29125000   24.79025000 \\nSe    24.79025000    7.29125000   30.62325000 \\nSe    24.79025000   13.12425000    1.45825000 \\nSe    24.79025000   13.12425000    7.29125000 \\nSe    24.79025000   13.12425000   13.12425000 \\nSe    24.79025000   13.12425000   18.95725000 \\nSe    24.79025000   13.12425000   24.79025000 \\nSe    24.79025000   13.12425000   30.62325000 \\nSe    24.79025000   18.95725000    1.45825000 \\nSe    24.79025000   18.95725000    7.29125000 \\nSe    24.79025000   18.95725000   13.12425000 \\nSe    24.79025000   18.95725000   18.95725000 \\nSe    24.79025000   18.95725000   24.79025000 \\nSe    24.79025000   18.95725000   30.62325000 \\nSe    24.79025000   24.79025000    1.45825000 \\nSe    24.79025000   24.79025000    7.29125000 \\nSe    24.79025000   24.79025000   13.12425000 \\nSe    24.79025000   24.79025000   18.95725000 \\nSe    24.79025000   24.79025000   24.79025000 \\nSe    24.79025000   24.79025000   30.62325000 \\nSe    24.79025000   30.62325000    1.45825000 \\nSe    24.79025000   30.62325000    7.29125000 \\nSe    24.79025000   30.62325000   13.12425000 \\nSe    24.79025000   30.62325000   18.95725000 \\nSe    24.79025000   30.62325000   24.79025000 \\nSe    24.79025000   30.62325000   30.62325000 \\nSe    30.62325000    1.45825000    1.45825000 \\nSe    30.62325000    1.45825000    7.29125000 \\nSe    30.62325000    1.45825000   13.12425000 \\nSe    30.62325000    1.45825000   18.95725000 \\nSe    30.62325000    1.45825000   24.79025000 \\nSe    30.62325000    1.45825000   30.62325000 \\nSe    30.62325000    7.29125000    1.45825000 \\nSe    30.62325000    7.29125000    7.29125000 \\nSe    30.62325000    7.29125000   13.12425000 \\nSe    30.62325000    7.29125000   18.95725000 \\nSe    30.62325000    7.29125000   24.79025000 \\nSe    30.62325000    7.29125000   30.62325000 \\nSe    30.62325000   13.12425000    1.45825000 \\nSe    30.62325000   13.12425000    7.29125000 \\nSe    30.62325000   13.12425000   13.12425000 \\nSe    30.62325000   13.12425000   18.95725000 \\nSe    30.62325000   13.12425000   24.79025000 \\nSe    30.62325000   13.12425000   30.62325000 \\nSe    30.62325000   18.95725000    1.45825000 \\nSe    30.62325000   18.95725000    7.29125000 \\nSe    30.62325000   18.95725000   13.12425000 \\nSe    30.62325000   18.95725000   18.95725000 \\nSe    30.62325000   18.95725000   24.79025000 \\nSe    30.62325000   18.95725000   30.62325000 \\nSe    30.62325000   24.79025000    1.45825000 \\nSe    30.62325000   24.79025000    7.29125000 \\nSe    30.62325000   24.79025000   13.12425000 \\nSe    30.62325000   24.79025000   18.95725000 \\nSe    30.62325000   24.79025000   24.79025000 \\nSe    30.62325000   24.79025000   30.62325000 \\nSe    30.62325000   30.62325000    1.45825000 \\nSe    30.62325000   30.62325000    7.29125000 \\nSe    30.62325000   30.62325000   13.12425000 \\nSe    30.62325000   30.62325000   18.95725000 \\nSe    30.62325000   30.62325000   24.79025000 \\nSe    30.62325000   30.62325000   30.62325000 \\nSe     1.45825000    4.37475000    4.37475000 \\nSe     1.45825000    4.37475000   10.20775000 \\nSe     1.45825000    4.37475000   16.04075000 \\nSe     1.45825000    4.37475000   21.87375000 \\nSe     1.45825000    4.37475000   27.70675000 \\nSe     1.45825000    4.37475000   33.53975000 \\nSe     1.45825000   10.20775000    4.37475000 \\nSe     1.45825000   10.20775000   10.20775000 \\nSe     1.45825000   10.20775000   16.04075000 \\nSe     1.45825000   10.20775000   21.87375000 \\nSe     1.45825000   10.20775000   27.70675000 \\nSe     1.45825000   10.20775000   33.53975000 \\nSe     1.45825000   16.04075000    4.37475000 \\nSe     1.45825000   16.04075000   10.20775000 \\nSe     1.45825000   16.04075000   16.04075000 \\nSe     1.45825000   16.04075000   21.87375000 \\nSe     1.45825000   16.04075000   27.70675000 \\nSe     1.45825000   16.04075000   33.53975000 \\nSe     1.45825000   21.87375000    4.37475000 \\nSe     1.45825000   21.87375000   10.20775000 \\nSe     1.45825000   21.87375000   16.04075000 \\nSe     1.45825000   21.87375000   21.87375000 \\nSe     1.45825000   21.87375000   27.70675000 \\nSe     1.45825000   21.87375000   33.53975000 \\nSe     1.45825000   27.70675000    4.37475000 \\nSe     1.45825000   27.70675000   10.20775000 \\nSe     1.45825000   27.70675000   16.04075000 \\nSe     1.45825000   27.70675000   21.87375000 \\nSe     1.45825000   27.70675000   27.70675000 \\nSe     1.45825000   27.70675000   33.53975000 \\nSe     1.45825000   33.53975000    4.37475000 \\nSe     1.45825000   33.53975000   10.20775000 \\nSe     1.45825000   33.53975000   16.04075000 \\nSe     1.45825000   33.53975000   21.87375000 \\nSe     1.45825000   33.53975000   27.70675000 \\nSe     1.45825000   33.53975000   33.53975000 \\nSe     7.29125000    4.37475000    4.37475000 \\nSe     7.29125000    4.37475000   10.20775000 \\nSe     7.29125000    4.37475000   16.04075000 \\nSe     7.29125000    4.37475000   21.87375000 \\nSe     7.29125000    4.37475000   27.70675000 \\nSe     7.29125000    4.37475000   33.53975000 \\nSe     7.29125000   10.20775000    4.37475000 \\nSe     7.29125000   10.20775000   10.20775000 \\nSe     7.29125000   10.20775000   16.04075000 \\nSe     7.29125000   10.20775000   21.87375000 \\nSe     7.29125000   10.20775000   27.70675000 \\nSe     7.29125000   10.20775000   33.53975000 \\nSe     7.29125000   16.04075000    4.37475000 \\nSe     7.29125000   16.04075000   10.20775000 \\nSe     7.29125000   16.04075000   16.04075000 \\nSe     7.29125000   16.04075000   21.87375000 \\nSe     7.29125000   16.04075000   27.70675000 \\nSe     7.29125000   16.04075000   33.53975000 \\nSe     7.29125000   21.87375000    4.37475000 \\nSe     7.29125000   21.87375000   10.20775000 \\nSe     7.29125000   21.87375000   16.04075000 \\nSe     7.29125000   21.87375000   21.87375000 \\nSe     7.29125000   21.87375000   27.70675000 \\nSe     7.29125000   21.87375000   33.53975000 \\nSe     7.29125000   27.70675000    4.37475000 \\nSe     7.29125000   27.70675000   10.20775000 \\nSe     7.29125000   27.70675000   16.04075000 \\nSe     7.29125000   27.70675000   21.87375000 \\nSe     7.29125000   27.70675000   27.70675000 \\nSe     7.29125000   27.70675000   33.53975000 \\nSe     7.29125000   33.53975000    4.37475000 \\nSe     7.29125000   33.53975000   10.20775000 \\nSe     7.29125000   33.53975000   16.04075000 \\nSe     7.29125000   33.53975000   21.87375000 \\nSe     7.29125000   33.53975000   27.70675000 \\nSe     7.29125000   33.53975000   33.53975000 \\nSe    13.12425000    4.37475000    4.37475000 \\nSe    13.12425000    4.37475000   10.20775000 \\nSe    13.12425000    4.37475000   16.04075000 \\nSe    13.12425000    4.37475000   21.87375000 \\nSe    13.12425000    4.37475000   27.70675000 \\nSe    13.12425000    4.37475000   33.53975000 \\nSe    13.12425000   10.20775000    4.37475000 \\nSe    13.12425000   10.20775000   10.20775000 \\nSe    13.12425000   10.20775000   16.04075000 \\nSe    13.12425000   10.20775000   21.87375000 \\nSe    13.12425000   10.20775000   27.70675000 \\nSe    13.12425000   10.20775000   33.53975000 \\nSe    13.12425000   16.04075000    4.37475000 \\nSe    13.12425000   16.04075000   10.20775000 \\nSe    13.12425000   16.04075000   16.04075000 \\nSe    13.12425000   16.04075000   21.87375000 \\nSe    13.12425000   16.04075000   27.70675000 \\nSe    13.12425000   16.04075000   33.53975000 \\nSe    13.12425000   21.87375000    4.37475000 \\nSe    13.12425000   21.87375000   10.20775000 \\nSe    13.12425000   21.87375000   16.04075000 \\nSe    13.12425000   21.87375000   21.87375000 \\nSe    13.12425000   21.87375000   27.70675000 \\nSe    13.12425000   21.87375000   33.53975000 \\nSe    13.12425000   27.70675000    4.37475000 \\nSe    13.12425000   27.70675000   10.20775000 \\nSe    13.12425000   27.70675000   16.04075000 \\nSe    13.12425000   27.70675000   21.87375000 \\nSe    13.12425000   27.70675000   27.70675000 \\nSe    13.12425000   27.70675000   33.53975000 \\nSe    13.12425000   33.53975000    4.37475000 \\nSe    13.12425000   33.53975000   10.20775000 \\nSe    13.12425000   33.53975000   16.04075000 \\nSe    13.12425000   33.53975000   21.87375000 \\nSe    13.12425000   33.53975000   27.70675000 \\nSe    13.12425000   33.53975000   33.53975000 \\nSe    18.95725000    4.37475000    4.37475000 \\nSe    18.95725000    4.37475000   10.20775000 \\nSe    18.95725000    4.37475000   16.04075000 \\nSe    18.95725000    4.37475000   21.87375000 \\nSe    18.95725000    4.37475000   27.70675000 \\nSe    18.95725000    4.37475000   33.53975000 \\nSe    18.95725000   10.20775000    4.37475000 \\nSe    18.95725000   10.20775000   10.20775000 \\nSe    18.95725000   10.20775000   16.04075000 \\nSe    18.95725000   10.20775000   21.87375000 \\nSe    18.95725000   10.20775000   27.70675000 \\nSe    18.95725000   10.20775000   33.53975000 \\nSe    18.95725000   16.04075000    4.37475000 \\nSe    18.95725000   16.04075000   10.20775000 \\nSe    18.95725000   16.04075000   16.04075000 \\nSe    18.95725000   16.04075000   21.87375000 \\nSe    18.95725000   16.04075000   27.70675000 \\nSe    18.95725000   16.04075000   33.53975000 \\nSe    18.95725000   21.87375000    4.37475000 \\nSe    18.95725000   21.87375000   10.20775000 \\nSe    18.95725000   21.87375000   16.04075000 \\nSe    18.95725000   21.87375000   21.87375000 \\nSe    18.95725000   21.87375000   27.70675000 \\nSe    18.95725000   21.87375000   33.53975000 \\nSe    18.95725000   27.70675000    4.37475000 \\nSe    18.95725000   27.70675000   10.20775000 \\nSe    18.95725000   27.70675000   16.04075000 \\nSe    18.95725000   27.70675000   21.87375000 \\nSe    18.95725000   27.70675000   27.70675000 \\nSe    18.95725000   27.70675000   33.53975000 \\nSe    18.95725000   33.53975000    4.37475000 \\nSe    18.95725000   33.53975000   10.20775000 \\nSe    18.95725000   33.53975000   16.04075000 \\nSe    18.95725000   33.53975000   21.87375000 \\nSe    18.95725000   33.53975000   27.70675000 \\nSe    18.95725000   33.53975000   33.53975000 \\nSe    24.79025000    4.37475000    4.37475000 \\nSe    24.79025000    4.37475000   10.20775000 \\nSe    24.79025000    4.37475000   16.04075000 \\nSe    24.79025000    4.37475000   21.87375000 \\nSe    24.79025000    4.37475000   27.70675000 \\nSe    24.79025000    4.37475000   33.53975000 \\nSe    24.79025000   10.20775000    4.37475000 \\nSe    24.79025000   10.20775000   10.20775000 \\nSe    24.79025000   10.20775000   16.04075000 \\nSe    24.79025000   10.20775000   21.87375000 \\nSe    24.79025000   10.20775000   27.70675000 \\nSe    24.79025000   10.20775000   33.53975000 \\nSe    24.79025000   16.04075000    4.37475000 \\nSe    24.79025000   16.04075000   10.20775000 \\nSe    24.79025000   16.04075000   16.04075000 \\nSe    24.79025000   16.04075000   21.87375000 \\nSe    24.79025000   16.04075000   27.70675000 \\nSe    24.79025000   16.04075000   33.53975000 \\nSe    24.79025000   21.87375000    4.37475000 \\nSe    24.79025000   21.87375000   10.20775000 \\nSe    24.79025000   21.87375000   16.04075000 \\nSe    24.79025000   21.87375000   21.87375000 \\nSe    24.79025000   21.87375000   27.70675000 \\nSe    24.79025000   21.87375000   33.53975000 \\nSe    24.79025000   27.70675000    4.37475000 \\nSe    24.79025000   27.70675000   10.20775000 \\nSe    24.79025000   27.70675000   16.04075000 \\nSe    24.79025000   27.70675000   21.87375000 \\nSe    24.79025000   27.70675000   27.70675000 \\nSe    24.79025000   27.70675000   33.53975000 \\nSe    24.79025000   33.53975000    4.37475000 \\nSe    24.79025000   33.53975000   10.20775000 \\nSe    24.79025000   33.53975000   16.04075000 \\nSe    24.79025000   33.53975000   21.87375000 \\nSe    24.79025000   33.53975000   27.70675000 \\nSe    24.79025000   33.53975000   33.53975000 \\nSe    30.62325000    4.37475000    4.37475000 \\nSe    30.62325000    4.37475000   10.20775000 \\nSe    30.62325000    4.37475000   16.04075000 \\nSe    30.62325000    4.37475000   21.87375000 \\nSe    30.62325000    4.37475000   27.70675000 \\nSe    30.62325000    4.37475000   33.53975000 \\nSe    30.62325000   10.20775000    4.37475000 \\nSe    30.62325000   10.20775000   10.20775000 \\nSe    30.62325000   10.20775000   16.04075000 \\nSe    30.62325000   10.20775000   21.87375000 \\nSe    30.62325000   10.20775000   27.70675000 \\nSe    30.62325000   10.20775000   33.53975000 \\nSe    30.62325000   16.04075000    4.37475000 \\nSe    30.62325000   16.04075000   10.20775000 \\nSe    30.62325000   16.04075000   16.04075000 \\nSe    30.62325000   16.04075000   21.87375000 \\nSe    30.62325000   16.04075000   27.70675000 \\nSe    30.62325000   16.04075000   33.53975000 \\nSe    30.62325000   21.87375000    4.37475000 \\nSe    30.62325000   21.87375000   10.20775000 \\nSe    30.62325000   21.87375000   16.04075000 \\nSe    30.62325000   21.87375000   21.87375000 \\nSe    30.62325000   21.87375000   27.70675000 \\nSe    30.62325000   21.87375000   33.53975000 \\nSe    30.62325000   27.70675000    4.37475000 \\nSe    30.62325000   27.70675000   10.20775000 \\nSe    30.62325000   27.70675000   16.04075000 \\nSe    30.62325000   27.70675000   21.87375000 \\nSe    30.62325000   27.70675000   27.70675000 \\nSe    30.62325000   27.70675000   33.53975000 \\nSe    30.62325000   33.53975000    4.37475000 \\nSe    30.62325000   33.53975000   10.20775000 \\nSe    30.62325000   33.53975000   16.04075000 \\nSe    30.62325000   33.53975000   21.87375000 \\nSe    30.62325000   33.53975000   27.70675000 \\nSe    30.62325000   33.53975000   33.53975000 \\nSe     4.37475000    1.45825000    4.37475000 \\nSe     4.37475000    1.45825000   10.20775000 \\nSe     4.37475000    1.45825000   16.04075000 \\nSe     4.37475000    1.45825000   21.87375000 \\nSe     4.37475000    1.45825000   27.70675000 \\nSe     4.37475000    1.45825000   33.53975000 \\nSe     4.37475000    7.29125000    4.37475000 \\nSe     4.37475000    7.29125000   10.20775000 \\nSe     4.37475000    7.29125000   16.04075000 \\nSe     4.37475000    7.29125000   21.87375000 \\nSe     4.37475000    7.29125000   27.70675000 \\nSe     4.37475000    7.29125000   33.53975000 \\nSe     4.37475000   13.12425000    4.37475000 \\nSe     4.37475000   13.12425000   10.20775000 \\nSe     4.37475000   13.12425000   16.04075000 \\nSe     4.37475000   13.12425000   21.87375000 \\nSe     4.37475000   13.12425000   27.70675000 \\nSe     4.37475000   13.12425000   33.53975000 \\nSe     4.37475000   18.95725000    4.37475000 \\nSe     4.37475000   18.95725000   10.20775000 \\nSe     4.37475000   18.95725000   16.04075000 \\nSe     4.37475000   18.95725000   21.87375000 \\nSe     4.37475000   18.95725000   27.70675000 \\nSe     4.37475000   18.95725000   33.53975000 \\nSe     4.37475000   24.79025000    4.37475000 \\nSe     4.37475000   24.79025000   10.20775000 \\nSe     4.37475000   24.79025000   16.04075000 \\nSe     4.37475000   24.79025000   21.87375000 \\nSe     4.37475000   24.79025000   27.70675000 \\nSe     4.37475000   24.79025000   33.53975000 \\nSe     4.37475000   30.62325000    4.37475000 \\nSe     4.37475000   30.62325000   10.20775000 \\nSe     4.37475000   30.62325000   16.04075000 \\nSe     4.37475000   30.62325000   21.87375000 \\nSe     4.37475000   30.62325000   27.70675000 \\nSe     4.37475000   30.62325000   33.53975000 \\nSe    10.20775000    1.45825000    4.37475000 \\nSe    10.20775000    1.45825000   10.20775000 \\nSe    10.20775000    1.45825000   16.04075000 \\nSe    10.20775000    1.45825000   21.87375000 \\nSe    10.20775000    1.45825000   27.70675000 \\nSe    10.20775000    1.45825000   33.53975000 \\nSe    10.20775000    7.29125000    4.37475000 \\nSe    10.20775000    7.29125000   10.20775000 \\nSe    10.20775000    7.29125000   16.04075000 \\nSe    10.20775000    7.29125000   21.87375000 \\nSe    10.20775000    7.29125000   27.70675000 \\nSe    10.20775000    7.29125000   33.53975000 \\nSe    10.20775000   13.12425000    4.37475000 \\nSe    10.20775000   13.12425000   10.20775000 \\nSe    10.20775000   13.12425000   16.04075000 \\nSe    10.20775000   13.12425000   21.87375000 \\nSe    10.20775000   13.12425000   27.70675000 \\nSe    10.20775000   13.12425000   33.53975000 \\nSe    10.20775000   18.95725000    4.37475000 \\nSe    10.20775000   18.95725000   10.20775000 \\nSe    10.20775000   18.95725000   16.04075000 \\nSe    10.20775000   18.95725000   21.87375000 \\nSe    10.20775000   18.95725000   27.70675000 \\nSe    10.20775000   18.95725000   33.53975000 \\nSe    10.20775000   24.79025000    4.37475000 \\nSe    10.20775000   24.79025000   10.20775000 \\nSe    10.20775000   24.79025000   16.04075000 \\nSe    10.20775000   24.79025000   21.87375000 \\nSe    10.20775000   24.79025000   27.70675000 \\nSe    10.20775000   24.79025000   33.53975000 \\nSe    10.20775000   30.62325000    4.37475000 \\nSe    10.20775000   30.62325000   10.20775000 \\nSe    10.20775000   30.62325000   16.04075000 \\nSe    10.20775000   30.62325000   21.87375000 \\nSe    10.20775000   30.62325000   27.70675000 \\nSe    10.20775000   30.62325000   33.53975000 \\nSe    16.04075000    1.45825000    4.37475000 \\nSe    16.04075000    1.45825000   10.20775000 \\nSe    16.04075000    1.45825000   16.04075000 \\nSe    16.04075000    1.45825000   21.87375000 \\nSe    16.04075000    1.45825000   27.70675000 \\nSe    16.04075000    1.45825000   33.53975000 \\nSe    16.04075000    7.29125000    4.37475000 \\nSe    16.04075000    7.29125000   10.20775000 \\nSe    16.04075000    7.29125000   16.04075000 \\nSe    16.04075000    7.29125000   21.87375000 \\nSe    16.04075000    7.29125000   27.70675000 \\nSe    16.04075000    7.29125000   33.53975000 \\nSe    16.04075000   13.12425000    4.37475000 \\nSe    16.04075000   13.12425000   10.20775000 \\nSe    16.04075000   13.12425000   16.04075000 \\nSe    16.04075000   13.12425000   21.87375000 \\nSe    16.04075000   13.12425000   27.70675000 \\nSe    16.04075000   13.12425000   33.53975000 \\nSe    16.04075000   18.95725000    4.37475000 \\nSe    16.04075000   18.95725000   10.20775000 \\nSe    16.04075000   18.95725000   16.04075000 \\nSe    16.04075000   18.95725000   21.87375000 \\nSe    16.04075000   18.95725000   27.70675000 \\nSe    16.04075000   18.95725000   33.53975000 \\nSe    16.04075000   24.79025000    4.37475000 \\nSe    16.04075000   24.79025000   10.20775000 \\nSe    16.04075000   24.79025000   16.04075000 \\nSe    16.04075000   24.79025000   21.87375000 \\nSe    16.04075000   24.79025000   27.70675000 \\nSe    16.04075000   24.79025000   33.53975000 \\nSe    16.04075000   30.62325000    4.37475000 \\nSe    16.04075000   30.62325000   10.20775000 \\nSe    16.04075000   30.62325000   16.04075000 \\nSe    16.04075000   30.62325000   21.87375000 \\nSe    16.04075000   30.62325000   27.70675000 \\nSe    16.04075000   30.62325000   33.53975000 \\nSe    21.87375000    1.45825000    4.37475000 \\nSe    21.87375000    1.45825000   10.20775000 \\nSe    21.87375000    1.45825000   16.04075000 \\nSe    21.87375000    1.45825000   21.87375000 \\nSe    21.87375000    1.45825000   27.70675000 \\nSe    21.87375000    1.45825000   33.53975000 \\nSe    21.87375000    7.29125000    4.37475000 \\nSe    21.87375000    7.29125000   10.20775000 \\nSe    21.87375000    7.29125000   16.04075000 \\nSe    21.87375000    7.29125000   21.87375000 \\nSe    21.87375000    7.29125000   27.70675000 \\nSe    21.87375000    7.29125000   33.53975000 \\nSe    21.87375000   13.12425000    4.37475000 \\nSe    21.87375000   13.12425000   10.20775000 \\nSe    21.87375000   13.12425000   16.04075000 \\nSe    21.87375000   13.12425000   21.87375000 \\nSe    21.87375000   13.12425000   27.70675000 \\nSe    21.87375000   13.12425000   33.53975000 \\nSe    21.87375000   18.95725000    4.37475000 \\nSe    21.87375000   18.95725000   10.20775000 \\nSe    21.87375000   18.95725000   16.04075000 \\nSe    21.87375000   18.95725000   21.87375000 \\nSe    21.87375000   18.95725000   27.70675000 \\nSe    21.87375000   18.95725000   33.53975000 \\nSe    21.87375000   24.79025000    4.37475000 \\nSe    21.87375000   24.79025000   10.20775000 \\nSe    21.87375000   24.79025000   16.04075000 \\nSe    21.87375000   24.79025000   21.87375000 \\nSe    21.87375000   24.79025000   27.70675000 \\nSe    21.87375000   24.79025000   33.53975000 \\nSe    21.87375000   30.62325000    4.37475000 \\nSe    21.87375000   30.62325000   10.20775000 \\nSe    21.87375000   30.62325000   16.04075000 \\nSe    21.87375000   30.62325000   21.87375000 \\nSe    21.87375000   30.62325000   27.70675000 \\nSe    21.87375000   30.62325000   33.53975000 \\nSe    27.70675000    1.45825000    4.37475000 \\nSe    27.70675000    1.45825000   10.20775000 \\nSe    27.70675000    1.45825000   16.04075000 \\nSe    27.70675000    1.45825000   21.87375000 \\nSe    27.70675000    1.45825000   27.70675000 \\nSe    27.70675000    1.45825000   33.53975000 \\nSe    27.70675000    7.29125000    4.37475000 \\nSe    27.70675000    7.29125000   10.20775000 \\nSe    27.70675000    7.29125000   16.04075000 \\nSe    27.70675000    7.29125000   21.87375000 \\nSe    27.70675000    7.29125000   27.70675000 \\nSe    27.70675000    7.29125000   33.53975000 \\nSe    27.70675000   13.12425000    4.37475000 \\nSe    27.70675000   13.12425000   10.20775000 \\nSe    27.70675000   13.12425000   16.04075000 \\nSe    27.70675000   13.12425000   21.87375000 \\nSe    27.70675000   13.12425000   27.70675000 \\nSe    27.70675000   13.12425000   33.53975000 \\nSe    27.70675000   18.95725000    4.37475000 \\nSe    27.70675000   18.95725000   10.20775000 \\nSe    27.70675000   18.95725000   16.04075000 \\nSe    27.70675000   18.95725000   21.87375000 \\nSe    27.70675000   18.95725000   27.70675000 \\nSe    27.70675000   18.95725000   33.53975000 \\nSe    27.70675000   24.79025000    4.37475000 \\nSe    27.70675000   24.79025000   10.20775000 \\nSe    27.70675000   24.79025000   16.04075000 \\nSe    27.70675000   24.79025000   21.87375000 \\nSe    27.70675000   24.79025000   27.70675000 \\nSe    27.70675000   24.79025000   33.53975000 \\nSe    27.70675000   30.62325000    4.37475000 \\nSe    27.70675000   30.62325000   10.20775000 \\nSe    27.70675000   30.62325000   16.04075000 \\nSe    27.70675000   30.62325000   21.87375000 \\nSe    27.70675000   30.62325000   27.70675000 \\nSe    27.70675000   30.62325000   33.53975000 \\nSe    33.53975000    1.45825000    4.37475000 \\nSe    33.53975000    1.45825000   10.20775000 \\nSe    33.53975000    1.45825000   16.04075000 \\nSe    33.53975000    1.45825000   21.87375000 \\nSe    33.53975000    1.45825000   27.70675000 \\nSe    33.53975000    1.45825000   33.53975000 \\nSe    33.53975000    7.29125000    4.37475000 \\nSe    33.53975000    7.29125000   10.20775000 \\nSe    33.53975000    7.29125000   16.04075000 \\nSe    33.53975000    7.29125000   21.87375000 \\nSe    33.53975000    7.29125000   27.70675000 \\nSe    33.53975000    7.29125000   33.53975000 \\nSe    33.53975000   13.12425000    4.37475000 \\nSe    33.53975000   13.12425000   10.20775000 \\nSe    33.53975000   13.12425000   16.04075000 \\nSe    33.53975000   13.12425000   21.87375000 \\nSe    33.53975000   13.12425000   27.70675000 \\nSe    33.53975000   13.12425000   33.53975000 \\nSe    33.53975000   18.95725000    4.37475000 \\nSe    33.53975000   18.95725000   10.20775000 \\nSe    33.53975000   18.95725000   16.04075000 \\nSe    33.53975000   18.95725000   21.87375000 \\nSe    33.53975000   18.95725000   27.70675000 \\nSe    33.53975000   18.95725000   33.53975000 \\nSe    33.53975000   24.79025000    4.37475000 \\nSe    33.53975000   24.79025000   10.20775000 \\nSe    33.53975000   24.79025000   16.04075000 \\nSe    33.53975000   24.79025000   21.87375000 \\nSe    33.53975000   24.79025000   27.70675000 \\nSe    33.53975000   24.79025000   33.53975000 \\nSe    33.53975000   30.62325000    4.37475000 \\nSe    33.53975000   30.62325000   10.20775000 \\nSe    33.53975000   30.62325000   16.04075000 \\nSe    33.53975000   30.62325000   21.87375000 \\nSe    33.53975000   30.62325000   27.70675000 \\nSe    33.53975000   30.62325000   33.53975000 \\nSe     4.37475000    4.37475000    1.45825000 \\nSe     4.37475000    4.37475000    7.29125000 \\nSe     4.37475000    4.37475000   13.12425000 \\nSe     4.37475000    4.37475000   18.95725000 \\nSe     4.37475000    4.37475000   24.79025000 \\nSe     4.37475000    4.37475000   30.62325000 \\nSe     4.37475000   10.20775000    1.45825000 \\nSe     4.37475000   10.20775000    7.29125000 \\nSe     4.37475000   10.20775000   13.12425000 \\nSe     4.37475000   10.20775000   18.95725000 \\nSe     4.37475000   10.20775000   24.79025000 \\nSe     4.37475000   10.20775000   30.62325000 \\nSe     4.37475000   16.04075000    1.45825000 \\nSe     4.37475000   16.04075000    7.29125000 \\nSe     4.37475000   16.04075000   13.12425000 \\nSe     4.37475000   16.04075000   18.95725000 \\nSe     4.37475000   16.04075000   24.79025000 \\nSe     4.37475000   16.04075000   30.62325000 \\nSe     4.37475000   21.87375000    1.45825000 \\nSe     4.37475000   21.87375000    7.29125000 \\nSe     4.37475000   21.87375000   13.12425000 \\nSe     4.37475000   21.87375000   18.95725000 \\nSe     4.37475000   21.87375000   24.79025000 \\nSe     4.37475000   21.87375000   30.62325000 \\nSe     4.37475000   27.70675000    1.45825000 \\nSe     4.37475000   27.70675000    7.29125000 \\nSe     4.37475000   27.70675000   13.12425000 \\nSe     4.37475000   27.70675000   18.95725000 \\nSe     4.37475000   27.70675000   24.79025000 \\nSe     4.37475000   27.70675000   30.62325000 \\nSe     4.37475000   33.53975000    1.45825000 \\nSe     4.37475000   33.53975000    7.29125000 \\nSe     4.37475000   33.53975000   13.12425000 \\nSe     4.37475000   33.53975000   18.95725000 \\nSe     4.37475000   33.53975000   24.79025000 \\nSe     4.37475000   33.53975000   30.62325000 \\nSe    10.20775000    4.37475000    1.45825000 \\nSe    10.20775000    4.37475000    7.29125000 \\nSe    10.20775000    4.37475000   13.12425000 \\nSe    10.20775000    4.37475000   18.95725000 \\nSe    10.20775000    4.37475000   24.79025000 \\nSe    10.20775000    4.37475000   30.62325000 \\nSe    10.20775000   10.20775000    1.45825000 \\nSe    10.20775000   10.20775000    7.29125000 \\nSe    10.20775000   10.20775000   13.12425000 \\nSe    10.20775000   10.20775000   18.95725000 \\nSe    10.20775000   10.20775000   24.79025000 \\nSe    10.20775000   10.20775000   30.62325000 \\nSe    10.20775000   16.04075000    1.45825000 \\nSe    10.20775000   16.04075000    7.29125000 \\nSe    10.20775000   16.04075000   13.12425000 \\nSe    10.20775000   16.04075000   18.95725000 \\nSe    10.20775000   16.04075000   24.79025000 \\nSe    10.20775000   16.04075000   30.62325000 \\nSe    10.20775000   21.87375000    1.45825000 \\nSe    10.20775000   21.87375000    7.29125000 \\nSe    10.20775000   21.87375000   13.12425000 \\nSe    10.20775000   21.87375000   18.95725000 \\nSe    10.20775000   21.87375000   24.79025000 \\nSe    10.20775000   21.87375000   30.62325000 \\nSe    10.20775000   27.70675000    1.45825000 \\nSe    10.20775000   27.70675000    7.29125000 \\nSe    10.20775000   27.70675000   13.12425000 \\nSe    10.20775000   27.70675000   18.95725000 \\nSe    10.20775000   27.70675000   24.79025000 \\nSe    10.20775000   27.70675000   30.62325000 \\nSe    10.20775000   33.53975000    1.45825000 \\nSe    10.20775000   33.53975000    7.29125000 \\nSe    10.20775000   33.53975000   13.12425000 \\nSe    10.20775000   33.53975000   18.95725000 \\nSe    10.20775000   33.53975000   24.79025000 \\nSe    10.20775000   33.53975000   30.62325000 \\nSe    16.04075000    4.37475000    1.45825000 \\nSe    16.04075000    4.37475000    7.29125000 \\nSe    16.04075000    4.37475000   13.12425000 \\nSe    16.04075000    4.37475000   18.95725000 \\nSe    16.04075000    4.37475000   24.79025000 \\nSe    16.04075000    4.37475000   30.62325000 \\nSe    16.04075000   10.20775000    1.45825000 \\nSe    16.04075000   10.20775000    7.29125000 \\nSe    16.04075000   10.20775000   13.12425000 \\nSe    16.04075000   10.20775000   18.95725000 \\nSe    16.04075000   10.20775000   24.79025000 \\nSe    16.04075000   10.20775000   30.62325000 \\nSe    16.04075000   16.04075000    1.45825000 \\nSe    16.04075000   16.04075000    7.29125000 \\nSe    16.04075000   16.04075000   13.12425000 \\nSe    16.04075000   16.04075000   18.95725000 \\nSe    16.04075000   16.04075000   24.79025000 \\nSe    16.04075000   16.04075000   30.62325000 \\nSe    16.04075000   21.87375000    1.45825000 \\nSe    16.04075000   21.87375000    7.29125000 \\nSe    16.04075000   21.87375000   13.12425000 \\nSe    16.04075000   21.87375000   18.95725000 \\nSe    16.04075000   21.87375000   24.79025000 \\nSe    16.04075000   21.87375000   30.62325000 \\nSe    16.04075000   27.70675000    1.45825000 \\nSe    16.04075000   27.70675000    7.29125000 \\nSe    16.04075000   27.70675000   13.12425000 \\nSe    16.04075000   27.70675000   18.95725000 \\nSe    16.04075000   27.70675000   24.79025000 \\nSe    16.04075000   27.70675000   30.62325000 \\nSe    16.04075000   33.53975000    1.45825000 \\nSe    16.04075000   33.53975000    7.29125000 \\nSe    16.04075000   33.53975000   13.12425000 \\nSe    16.04075000   33.53975000   18.95725000 \\nSe    16.04075000   33.53975000   24.79025000 \\nSe    16.04075000   33.53975000   30.62325000 \\nSe    21.87375000    4.37475000    1.45825000 \\nSe    21.87375000    4.37475000    7.29125000 \\nSe    21.87375000    4.37475000   13.12425000 \\nSe    21.87375000    4.37475000   18.95725000 \\nSe    21.87375000    4.37475000   24.79025000 \\nSe    21.87375000    4.37475000   30.62325000 \\nSe    21.87375000   10.20775000    1.45825000 \\nSe    21.87375000   10.20775000    7.29125000 \\nSe    21.87375000   10.20775000   13.12425000 \\nSe    21.87375000   10.20775000   18.95725000 \\nSe    21.87375000   10.20775000   24.79025000 \\nSe    21.87375000   10.20775000   30.62325000 \\nSe    21.87375000   16.04075000    1.45825000 \\nSe    21.87375000   16.04075000    7.29125000 \\nSe    21.87375000   16.04075000   13.12425000 \\nSe    21.87375000   16.04075000   18.95725000 \\nSe    21.87375000   16.04075000   24.79025000 \\nSe    21.87375000   16.04075000   30.62325000 \\nSe    21.87375000   21.87375000    1.45825000 \\nSe    21.87375000   21.87375000    7.29125000 \\nSe    21.87375000   21.87375000   13.12425000 \\nSe    21.87375000   21.87375000   18.95725000 \\nSe    21.87375000   21.87375000   24.79025000 \\nSe    21.87375000   21.87375000   30.62325000 \\nSe    21.87375000   27.70675000    1.45825000 \\nSe    21.87375000   27.70675000    7.29125000 \\nSe    21.87375000   27.70675000   13.12425000 \\nSe    21.87375000   27.70675000   18.95725000 \\nSe    21.87375000   27.70675000   24.79025000 \\nSe    21.87375000   27.70675000   30.62325000 \\nSe    21.87375000   33.53975000    1.45825000 \\nSe    21.87375000   33.53975000    7.29125000 \\nSe    21.87375000   33.53975000   13.12425000 \\nSe    21.87375000   33.53975000   18.95725000 \\nSe    21.87375000   33.53975000   24.79025000 \\nSe    21.87375000   33.53975000   30.62325000 \\nSe    27.70675000    4.37475000    1.45825000 \\nSe    27.70675000    4.37475000    7.29125000 \\nSe    27.70675000    4.37475000   13.12425000 \\nSe    27.70675000    4.37475000   18.95725000 \\nSe    27.70675000    4.37475000   24.79025000 \\nSe    27.70675000    4.37475000   30.62325000 \\nSe    27.70675000   10.20775000    1.45825000 \\nSe    27.70675000   10.20775000    7.29125000 \\nSe    27.70675000   10.20775000   13.12425000 \\nSe    27.70675000   10.20775000   18.95725000 \\nSe    27.70675000   10.20775000   24.79025000 \\nSe    27.70675000   10.20775000   30.62325000 \\nSe    27.70675000   16.04075000    1.45825000 \\nSe    27.70675000   16.04075000    7.29125000 \\nSe    27.70675000   16.04075000   13.12425000 \\nSe    27.70675000   16.04075000   18.95725000 \\nSe    27.70675000   16.04075000   24.79025000 \\nSe    27.70675000   16.04075000   30.62325000 \\nSe    27.70675000   21.87375000    1.45825000 \\nSe    27.70675000   21.87375000    7.29125000 \\nSe    27.70675000   21.87375000   13.12425000 \\nSe    27.70675000   21.87375000   18.95725000 \\nSe    27.70675000   21.87375000   24.79025000 \\nSe    27.70675000   21.87375000   30.62325000 \\nSe    27.70675000   27.70675000    1.45825000 \\nSe    27.70675000   27.70675000    7.29125000 \\nSe    27.70675000   27.70675000   13.12425000 \\nSe    27.70675000   27.70675000   18.95725000 \\nSe    27.70675000   27.70675000   24.79025000 \\nSe    27.70675000   27.70675000   30.62325000 \\nSe    27.70675000   33.53975000    1.45825000 \\nSe    27.70675000   33.53975000    7.29125000 \\nSe    27.70675000   33.53975000   13.12425000 \\nSe    27.70675000   33.53975000   18.95725000 \\nSe    27.70675000   33.53975000   24.79025000 \\nSe    27.70675000   33.53975000   30.62325000 \\nSe    33.53975000    4.37475000    1.45825000 \\nSe    33.53975000    4.37475000    7.29125000 \\nSe    33.53975000    4.37475000   13.12425000 \\nSe    33.53975000    4.37475000   18.95725000 \\nSe    33.53975000    4.37475000   24.79025000 \\nSe    33.53975000    4.37475000   30.62325000 \\nSe    33.53975000   10.20775000    1.45825000 \\nSe    33.53975000   10.20775000    7.29125000 \\nSe    33.53975000   10.20775000   13.12425000 \\nSe    33.53975000   10.20775000   18.95725000 \\nSe    33.53975000   10.20775000   24.79025000 \\nSe    33.53975000   10.20775000   30.62325000 \\nSe    33.53975000   16.04075000    1.45825000 \\nSe    33.53975000   16.04075000    7.29125000 \\nSe    33.53975000   16.04075000   13.12425000 \\nSe    33.53975000   16.04075000   18.95725000 \\nSe    33.53975000   16.04075000   24.79025000 \\nSe    33.53975000   16.04075000   30.62325000 \\nSe    33.53975000   21.87375000    1.45825000 \\nSe    33.53975000   21.87375000    7.29125000 \\nSe    33.53975000   21.87375000   13.12425000 \\nSe    33.53975000   21.87375000   18.95725000 \\nSe    33.53975000   21.87375000   24.79025000 \\nSe    33.53975000   21.87375000   30.62325000 \\nSe    33.53975000   27.70675000    1.45825000 \\nSe    33.53975000   27.70675000    7.29125000 \\nSe    33.53975000   27.70675000   13.12425000 \\nSe    33.53975000   27.70675000   18.95725000 \\nSe    33.53975000   27.70675000   24.79025000 \\nSe    33.53975000   27.70675000   30.62325000 \\nSe    33.53975000   33.53975000    1.45825000 \\nSe    33.53975000   33.53975000    7.29125000 \\nSe    33.53975000   33.53975000   13.12425000 \\nSe    33.53975000   33.53975000   18.95725000 \\nSe    33.53975000   33.53975000   24.79025000 \\nSe    33.53975000   33.53975000   30.62325000 \\n\",\"xyz\",{\"vibrate\": {\"frames\": 10, \"amplitude\": 1.0}});\n\tviewer_16222542289010527.setStyle({\"sphere\": {\"colorscheme\": \"Jmol\"}});\nviewer_16222542289010527.render();\n});\n</script>",
      "text/html": [
       "<div id=\"3dmolviewer_16222542289010527\"  style=\"position: relative; width: 800px; height: 400px\">\n",
       "        <p id=\"3dmolwarning_16222542289010527\" style=\"background-color:#ffcccc;color:black\">You appear to be running in JupyterLab (or JavaScript failed to load for some other reason).  You need to install the 3dmol extension: <br>\n",
       "        <tt>jupyter labextension install jupyterlab_3dmol</tt></p>\n",
       "        </div>\n",
       "<script>\n",
       "\n",
       "var loadScriptAsync = function(uri){\n",
       "  return new Promise((resolve, reject) => {\n",
       "    var tag = document.createElement('script');\n",
       "    tag.src = uri;\n",
       "    tag.async = true;\n",
       "    tag.onload = () => {\n",
       "      resolve();\n",
       "    };\n",
       "  var firstScriptTag = document.getElementsByTagName('script')[0];\n",
       "  firstScriptTag.parentNode.insertBefore(tag, firstScriptTag);\n",
       "});\n",
       "};\n",
       "\n",
       "if(typeof $3Dmolpromise === 'undefined') {\n",
       "$3Dmolpromise = null;\n",
       "  $3Dmolpromise = loadScriptAsync('https://3dmol.csb.pitt.edu/build/3Dmol.js');\n",
       "}\n",
       "\n",
       "var viewer_16222542289010527 = null;\n",
       "var warn = document.getElementById(\"3dmolwarning_16222542289010527\");\n",
       "if(warn) {\n",
       "    warn.parentNode.removeChild(warn);\n",
       "}\n",
       "$3Dmolpromise.then(function() {\n",
       "viewer_16222542289010527 = $3Dmol.createViewer($(\"#3dmolviewer_16222542289010527\"),{backgroundColor:\"white\"});\n",
       "\tviewer_16222542289010527.setBackgroundColor(\"0xeeeeee\");\n",
       "\tviewer_16222542289010527.zoomTo();\n",
       "\tviewer_16222542289010527.addModel(\"1728\\n\\nCd     0.00000000    0.00000000    0.00000000 \\nCd     0.00000000    0.00000000    5.83300000 \\nCd     0.00000000    0.00000000   11.66600000 \\nCd     0.00000000    0.00000000   17.49900000 \\nCd     0.00000000    0.00000000   23.33200000 \\nCd     0.00000000    0.00000000   29.16500000 \\nCd     0.00000000    5.83300000    0.00000000 \\nCd     0.00000000    5.83300000    5.83300000 \\nCd     0.00000000    5.83300000   11.66600000 \\nCd     0.00000000    5.83300000   17.49900000 \\nCd     0.00000000    5.83300000   23.33200000 \\nCd     0.00000000    5.83300000   29.16500000 \\nCd     0.00000000   11.66600000    0.00000000 \\nCd     0.00000000   11.66600000    5.83300000 \\nCd     0.00000000   11.66600000   11.66600000 \\nCd     0.00000000   11.66600000   17.49900000 \\nCd     0.00000000   11.66600000   23.33200000 \\nCd     0.00000000   11.66600000   29.16500000 \\nCd     0.00000000   17.49900000    0.00000000 \\nCd     0.00000000   17.49900000    5.83300000 \\nCd     0.00000000   17.49900000   11.66600000 \\nCd     0.00000000   17.49900000   17.49900000 \\nCd     0.00000000   17.49900000   23.33200000 \\nCd     0.00000000   17.49900000   29.16500000 \\nCd     0.00000000   23.33200000    0.00000000 \\nCd     0.00000000   23.33200000    5.83300000 \\nCd     0.00000000   23.33200000   11.66600000 \\nCd     0.00000000   23.33200000   17.49900000 \\nCd     0.00000000   23.33200000   23.33200000 \\nCd     0.00000000   23.33200000   29.16500000 \\nCd     0.00000000   29.16500000    0.00000000 \\nCd     0.00000000   29.16500000    5.83300000 \\nCd     0.00000000   29.16500000   11.66600000 \\nCd     0.00000000   29.16500000   17.49900000 \\nCd     0.00000000   29.16500000   23.33200000 \\nCd     0.00000000   29.16500000   29.16500000 \\nCd     5.83300000    0.00000000    0.00000000 \\nCd     5.83300000    0.00000000    5.83300000 \\nCd     5.83300000    0.00000000   11.66600000 \\nCd     5.83300000    0.00000000   17.49900000 \\nCd     5.83300000    0.00000000   23.33200000 \\nCd     5.83300000    0.00000000   29.16500000 \\nCd     5.83300000    5.83300000    0.00000000 \\nCd     5.83300000    5.83300000    5.83300000 \\nCd     5.83300000    5.83300000   11.66600000 \\nCd     5.83300000    5.83300000   17.49900000 \\nCd     5.83300000    5.83300000   23.33200000 \\nCd     5.83300000    5.83300000   29.16500000 \\nCd     5.83300000   11.66600000    0.00000000 \\nCd     5.83300000   11.66600000    5.83300000 \\nCd     5.83300000   11.66600000   11.66600000 \\nCd     5.83300000   11.66600000   17.49900000 \\nCd     5.83300000   11.66600000   23.33200000 \\nCd     5.83300000   11.66600000   29.16500000 \\nCd     5.83300000   17.49900000    0.00000000 \\nCd     5.83300000   17.49900000    5.83300000 \\nCd     5.83300000   17.49900000   11.66600000 \\nCd     5.83300000   17.49900000   17.49900000 \\nCd     5.83300000   17.49900000   23.33200000 \\nCd     5.83300000   17.49900000   29.16500000 \\nCd     5.83300000   23.33200000    0.00000000 \\nCd     5.83300000   23.33200000    5.83300000 \\nCd     5.83300000   23.33200000   11.66600000 \\nCd     5.83300000   23.33200000   17.49900000 \\nCd     5.83300000   23.33200000   23.33200000 \\nCd     5.83300000   23.33200000   29.16500000 \\nCd     5.83300000   29.16500000    0.00000000 \\nCd     5.83300000   29.16500000    5.83300000 \\nCd     5.83300000   29.16500000   11.66600000 \\nCd     5.83300000   29.16500000   17.49900000 \\nCd     5.83300000   29.16500000   23.33200000 \\nCd     5.83300000   29.16500000   29.16500000 \\nCd    11.66600000    0.00000000    0.00000000 \\nCd    11.66600000    0.00000000    5.83300000 \\nCd    11.66600000    0.00000000   11.66600000 \\nCd    11.66600000    0.00000000   17.49900000 \\nCd    11.66600000    0.00000000   23.33200000 \\nCd    11.66600000    0.00000000   29.16500000 \\nCd    11.66600000    5.83300000    0.00000000 \\nCd    11.66600000    5.83300000    5.83300000 \\nCd    11.66600000    5.83300000   11.66600000 \\nCd    11.66600000    5.83300000   17.49900000 \\nCd    11.66600000    5.83300000   23.33200000 \\nCd    11.66600000    5.83300000   29.16500000 \\nCd    11.66600000   11.66600000    0.00000000 \\nCd    11.66600000   11.66600000    5.83300000 \\nCd    11.66600000   11.66600000   11.66600000 \\nCd    11.66600000   11.66600000   17.49900000 \\nCd    11.66600000   11.66600000   23.33200000 \\nCd    11.66600000   11.66600000   29.16500000 \\nCd    11.66600000   17.49900000    0.00000000 \\nCd    11.66600000   17.49900000    5.83300000 \\nCd    11.66600000   17.49900000   11.66600000 \\nCd    11.66600000   17.49900000   17.49900000 \\nCd    11.66600000   17.49900000   23.33200000 \\nCd    11.66600000   17.49900000   29.16500000 \\nCd    11.66600000   23.33200000    0.00000000 \\nCd    11.66600000   23.33200000    5.83300000 \\nCd    11.66600000   23.33200000   11.66600000 \\nCd    11.66600000   23.33200000   17.49900000 \\nCd    11.66600000   23.33200000   23.33200000 \\nCd    11.66600000   23.33200000   29.16500000 \\nCd    11.66600000   29.16500000    0.00000000 \\nCd    11.66600000   29.16500000    5.83300000 \\nCd    11.66600000   29.16500000   11.66600000 \\nCd    11.66600000   29.16500000   17.49900000 \\nCd    11.66600000   29.16500000   23.33200000 \\nCd    11.66600000   29.16500000   29.16500000 \\nCd    17.49900000    0.00000000    0.00000000 \\nCd    17.49900000    0.00000000    5.83300000 \\nCd    17.49900000    0.00000000   11.66600000 \\nCd    17.49900000    0.00000000   17.49900000 \\nCd    17.49900000    0.00000000   23.33200000 \\nCd    17.49900000    0.00000000   29.16500000 \\nCd    17.49900000    5.83300000    0.00000000 \\nCd    17.49900000    5.83300000    5.83300000 \\nCd    17.49900000    5.83300000   11.66600000 \\nCd    17.49900000    5.83300000   17.49900000 \\nCd    17.49900000    5.83300000   23.33200000 \\nCd    17.49900000    5.83300000   29.16500000 \\nCd    17.49900000   11.66600000    0.00000000 \\nCd    17.49900000   11.66600000    5.83300000 \\nCd    17.49900000   11.66600000   11.66600000 \\nCd    17.49900000   11.66600000   17.49900000 \\nCd    17.49900000   11.66600000   23.33200000 \\nCd    17.49900000   11.66600000   29.16500000 \\nCd    17.49900000   17.49900000    0.00000000 \\nCd    17.49900000   17.49900000    5.83300000 \\nCd    17.49900000   17.49900000   11.66600000 \\nCd    17.49900000   17.49900000   17.49900000 \\nCd    17.49900000   17.49900000   23.33200000 \\nCd    17.49900000   17.49900000   29.16500000 \\nCd    17.49900000   23.33200000    0.00000000 \\nCd    17.49900000   23.33200000    5.83300000 \\nCd    17.49900000   23.33200000   11.66600000 \\nCd    17.49900000   23.33200000   17.49900000 \\nCd    17.49900000   23.33200000   23.33200000 \\nCd    17.49900000   23.33200000   29.16500000 \\nCd    17.49900000   29.16500000    0.00000000 \\nCd    17.49900000   29.16500000    5.83300000 \\nCd    17.49900000   29.16500000   11.66600000 \\nCd    17.49900000   29.16500000   17.49900000 \\nCd    17.49900000   29.16500000   23.33200000 \\nCd    17.49900000   29.16500000   29.16500000 \\nCd    23.33200000    0.00000000    0.00000000 \\nCd    23.33200000    0.00000000    5.83300000 \\nCd    23.33200000    0.00000000   11.66600000 \\nCd    23.33200000    0.00000000   17.49900000 \\nCd    23.33200000    0.00000000   23.33200000 \\nCd    23.33200000    0.00000000   29.16500000 \\nCd    23.33200000    5.83300000    0.00000000 \\nCd    23.33200000    5.83300000    5.83300000 \\nCd    23.33200000    5.83300000   11.66600000 \\nCd    23.33200000    5.83300000   17.49900000 \\nCd    23.33200000    5.83300000   23.33200000 \\nCd    23.33200000    5.83300000   29.16500000 \\nCd    23.33200000   11.66600000    0.00000000 \\nCd    23.33200000   11.66600000    5.83300000 \\nCd    23.33200000   11.66600000   11.66600000 \\nCd    23.33200000   11.66600000   17.49900000 \\nCd    23.33200000   11.66600000   23.33200000 \\nCd    23.33200000   11.66600000   29.16500000 \\nCd    23.33200000   17.49900000    0.00000000 \\nCd    23.33200000   17.49900000    5.83300000 \\nCd    23.33200000   17.49900000   11.66600000 \\nCd    23.33200000   17.49900000   17.49900000 \\nCd    23.33200000   17.49900000   23.33200000 \\nCd    23.33200000   17.49900000   29.16500000 \\nCd    23.33200000   23.33200000    0.00000000 \\nCd    23.33200000   23.33200000    5.83300000 \\nCd    23.33200000   23.33200000   11.66600000 \\nCd    23.33200000   23.33200000   17.49900000 \\nCd    23.33200000   23.33200000   23.33200000 \\nCd    23.33200000   23.33200000   29.16500000 \\nCd    23.33200000   29.16500000    0.00000000 \\nCd    23.33200000   29.16500000    5.83300000 \\nCd    23.33200000   29.16500000   11.66600000 \\nCd    23.33200000   29.16500000   17.49900000 \\nCd    23.33200000   29.16500000   23.33200000 \\nCd    23.33200000   29.16500000   29.16500000 \\nCd    29.16500000    0.00000000    0.00000000 \\nCd    29.16500000    0.00000000    5.83300000 \\nCd    29.16500000    0.00000000   11.66600000 \\nCd    29.16500000    0.00000000   17.49900000 \\nCd    29.16500000    0.00000000   23.33200000 \\nCd    29.16500000    0.00000000   29.16500000 \\nCd    29.16500000    5.83300000    0.00000000 \\nCd    29.16500000    5.83300000    5.83300000 \\nCd    29.16500000    5.83300000   11.66600000 \\nCd    29.16500000    5.83300000   17.49900000 \\nCd    29.16500000    5.83300000   23.33200000 \\nCd    29.16500000    5.83300000   29.16500000 \\nCd    29.16500000   11.66600000    0.00000000 \\nCd    29.16500000   11.66600000    5.83300000 \\nCd    29.16500000   11.66600000   11.66600000 \\nCd    29.16500000   11.66600000   17.49900000 \\nCd    29.16500000   11.66600000   23.33200000 \\nCd    29.16500000   11.66600000   29.16500000 \\nCd    29.16500000   17.49900000    0.00000000 \\nCd    29.16500000   17.49900000    5.83300000 \\nCd    29.16500000   17.49900000   11.66600000 \\nCd    29.16500000   17.49900000   17.49900000 \\nCd    29.16500000   17.49900000   23.33200000 \\nCd    29.16500000   17.49900000   29.16500000 \\nCd    29.16500000   23.33200000    0.00000000 \\nCd    29.16500000   23.33200000    5.83300000 \\nCd    29.16500000   23.33200000   11.66600000 \\nCd    29.16500000   23.33200000   17.49900000 \\nCd    29.16500000   23.33200000   23.33200000 \\nCd    29.16500000   23.33200000   29.16500000 \\nCd    29.16500000   29.16500000    0.00000000 \\nCd    29.16500000   29.16500000    5.83300000 \\nCd    29.16500000   29.16500000   11.66600000 \\nCd    29.16500000   29.16500000   17.49900000 \\nCd    29.16500000   29.16500000   23.33200000 \\nCd    29.16500000   29.16500000   29.16500000 \\nCd     2.91650000    2.91650000    0.00000000 \\nCd     2.91650000    2.91650000    5.83300000 \\nCd     2.91650000    2.91650000   11.66600000 \\nCd     2.91650000    2.91650000   17.49900000 \\nCd     2.91650000    2.91650000   23.33200000 \\nCd     2.91650000    2.91650000   29.16500000 \\nCd     2.91650000    8.74950000    0.00000000 \\nCd     2.91650000    8.74950000    5.83300000 \\nCd     2.91650000    8.74950000   11.66600000 \\nCd     2.91650000    8.74950000   17.49900000 \\nCd     2.91650000    8.74950000   23.33200000 \\nCd     2.91650000    8.74950000   29.16500000 \\nCd     2.91650000   14.58250000    0.00000000 \\nCd     2.91650000   14.58250000    5.83300000 \\nCd     2.91650000   14.58250000   11.66600000 \\nCd     2.91650000   14.58250000   17.49900000 \\nCd     2.91650000   14.58250000   23.33200000 \\nCd     2.91650000   14.58250000   29.16500000 \\nCd     2.91650000   20.41550000    0.00000000 \\nCd     2.91650000   20.41550000    5.83300000 \\nCd     2.91650000   20.41550000   11.66600000 \\nCd     2.91650000   20.41550000   17.49900000 \\nCd     2.91650000   20.41550000   23.33200000 \\nCd     2.91650000   20.41550000   29.16500000 \\nCd     2.91650000   26.24850000    0.00000000 \\nCd     2.91650000   26.24850000    5.83300000 \\nCd     2.91650000   26.24850000   11.66600000 \\nCd     2.91650000   26.24850000   17.49900000 \\nCd     2.91650000   26.24850000   23.33200000 \\nCd     2.91650000   26.24850000   29.16500000 \\nCd     2.91650000   32.08150000    0.00000000 \\nCd     2.91650000   32.08150000    5.83300000 \\nCd     2.91650000   32.08150000   11.66600000 \\nCd     2.91650000   32.08150000   17.49900000 \\nCd     2.91650000   32.08150000   23.33200000 \\nCd     2.91650000   32.08150000   29.16500000 \\nCd     8.74950000    2.91650000    0.00000000 \\nCd     8.74950000    2.91650000    5.83300000 \\nCd     8.74950000    2.91650000   11.66600000 \\nCd     8.74950000    2.91650000   17.49900000 \\nCd     8.74950000    2.91650000   23.33200000 \\nCd     8.74950000    2.91650000   29.16500000 \\nCd     8.74950000    8.74950000    0.00000000 \\nCd     8.74950000    8.74950000    5.83300000 \\nCd     8.74950000    8.74950000   11.66600000 \\nCd     8.74950000    8.74950000   17.49900000 \\nCd     8.74950000    8.74950000   23.33200000 \\nCd     8.74950000    8.74950000   29.16500000 \\nCd     8.74950000   14.58250000    0.00000000 \\nCd     8.74950000   14.58250000    5.83300000 \\nCd     8.74950000   14.58250000   11.66600000 \\nCd     8.74950000   14.58250000   17.49900000 \\nCd     8.74950000   14.58250000   23.33200000 \\nCd     8.74950000   14.58250000   29.16500000 \\nCd     8.74950000   20.41550000    0.00000000 \\nCd     8.74950000   20.41550000    5.83300000 \\nCd     8.74950000   20.41550000   11.66600000 \\nCd     8.74950000   20.41550000   17.49900000 \\nCd     8.74950000   20.41550000   23.33200000 \\nCd     8.74950000   20.41550000   29.16500000 \\nCd     8.74950000   26.24850000    0.00000000 \\nCd     8.74950000   26.24850000    5.83300000 \\nCd     8.74950000   26.24850000   11.66600000 \\nCd     8.74950000   26.24850000   17.49900000 \\nCd     8.74950000   26.24850000   23.33200000 \\nCd     8.74950000   26.24850000   29.16500000 \\nCd     8.74950000   32.08150000    0.00000000 \\nCd     8.74950000   32.08150000    5.83300000 \\nCd     8.74950000   32.08150000   11.66600000 \\nCd     8.74950000   32.08150000   17.49900000 \\nCd     8.74950000   32.08150000   23.33200000 \\nCd     8.74950000   32.08150000   29.16500000 \\nCd    14.58250000    2.91650000    0.00000000 \\nCd    14.58250000    2.91650000    5.83300000 \\nCd    14.58250000    2.91650000   11.66600000 \\nCd    14.58250000    2.91650000   17.49900000 \\nCd    14.58250000    2.91650000   23.33200000 \\nCd    14.58250000    2.91650000   29.16500000 \\nCd    14.58250000    8.74950000    0.00000000 \\nCd    14.58250000    8.74950000    5.83300000 \\nCd    14.58250000    8.74950000   11.66600000 \\nCd    14.58250000    8.74950000   17.49900000 \\nCd    14.58250000    8.74950000   23.33200000 \\nCd    14.58250000    8.74950000   29.16500000 \\nCd    14.58250000   14.58250000    0.00000000 \\nCd    14.58250000   14.58250000    5.83300000 \\nCd    14.58250000   14.58250000   11.66600000 \\nCd    14.58250000   14.58250000   17.49900000 \\nCd    14.58250000   14.58250000   23.33200000 \\nCd    14.58250000   14.58250000   29.16500000 \\nCd    14.58250000   20.41550000    0.00000000 \\nCd    14.58250000   20.41550000    5.83300000 \\nCd    14.58250000   20.41550000   11.66600000 \\nCd    14.58250000   20.41550000   17.49900000 \\nCd    14.58250000   20.41550000   23.33200000 \\nCd    14.58250000   20.41550000   29.16500000 \\nCd    14.58250000   26.24850000    0.00000000 \\nCd    14.58250000   26.24850000    5.83300000 \\nCd    14.58250000   26.24850000   11.66600000 \\nCd    14.58250000   26.24850000   17.49900000 \\nCd    14.58250000   26.24850000   23.33200000 \\nCd    14.58250000   26.24850000   29.16500000 \\nCd    14.58250000   32.08150000    0.00000000 \\nCd    14.58250000   32.08150000    5.83300000 \\nCd    14.58250000   32.08150000   11.66600000 \\nCd    14.58250000   32.08150000   17.49900000 \\nCd    14.58250000   32.08150000   23.33200000 \\nCd    14.58250000   32.08150000   29.16500000 \\nCd    20.41550000    2.91650000    0.00000000 \\nCd    20.41550000    2.91650000    5.83300000 \\nCd    20.41550000    2.91650000   11.66600000 \\nCd    20.41550000    2.91650000   17.49900000 \\nCd    20.41550000    2.91650000   23.33200000 \\nCd    20.41550000    2.91650000   29.16500000 \\nCd    20.41550000    8.74950000    0.00000000 \\nCd    20.41550000    8.74950000    5.83300000 \\nCd    20.41550000    8.74950000   11.66600000 \\nCd    20.41550000    8.74950000   17.49900000 \\nCd    20.41550000    8.74950000   23.33200000 \\nCd    20.41550000    8.74950000   29.16500000 \\nCd    20.41550000   14.58250000    0.00000000 \\nCd    20.41550000   14.58250000    5.83300000 \\nCd    20.41550000   14.58250000   11.66600000 \\nCd    20.41550000   14.58250000   17.49900000 \\nCd    20.41550000   14.58250000   23.33200000 \\nCd    20.41550000   14.58250000   29.16500000 \\nCd    20.41550000   20.41550000    0.00000000 \\nCd    20.41550000   20.41550000    5.83300000 \\nCd    20.41550000   20.41550000   11.66600000 \\nCd    20.41550000   20.41550000   17.49900000 \\nCd    20.41550000   20.41550000   23.33200000 \\nCd    20.41550000   20.41550000   29.16500000 \\nCd    20.41550000   26.24850000    0.00000000 \\nCd    20.41550000   26.24850000    5.83300000 \\nCd    20.41550000   26.24850000   11.66600000 \\nCd    20.41550000   26.24850000   17.49900000 \\nCd    20.41550000   26.24850000   23.33200000 \\nCd    20.41550000   26.24850000   29.16500000 \\nCd    20.41550000   32.08150000    0.00000000 \\nCd    20.41550000   32.08150000    5.83300000 \\nCd    20.41550000   32.08150000   11.66600000 \\nCd    20.41550000   32.08150000   17.49900000 \\nCd    20.41550000   32.08150000   23.33200000 \\nCd    20.41550000   32.08150000   29.16500000 \\nCd    26.24850000    2.91650000    0.00000000 \\nCd    26.24850000    2.91650000    5.83300000 \\nCd    26.24850000    2.91650000   11.66600000 \\nCd    26.24850000    2.91650000   17.49900000 \\nCd    26.24850000    2.91650000   23.33200000 \\nCd    26.24850000    2.91650000   29.16500000 \\nCd    26.24850000    8.74950000    0.00000000 \\nCd    26.24850000    8.74950000    5.83300000 \\nCd    26.24850000    8.74950000   11.66600000 \\nCd    26.24850000    8.74950000   17.49900000 \\nCd    26.24850000    8.74950000   23.33200000 \\nCd    26.24850000    8.74950000   29.16500000 \\nCd    26.24850000   14.58250000    0.00000000 \\nCd    26.24850000   14.58250000    5.83300000 \\nCd    26.24850000   14.58250000   11.66600000 \\nCd    26.24850000   14.58250000   17.49900000 \\nCd    26.24850000   14.58250000   23.33200000 \\nCd    26.24850000   14.58250000   29.16500000 \\nCd    26.24850000   20.41550000    0.00000000 \\nCd    26.24850000   20.41550000    5.83300000 \\nCd    26.24850000   20.41550000   11.66600000 \\nCd    26.24850000   20.41550000   17.49900000 \\nCd    26.24850000   20.41550000   23.33200000 \\nCd    26.24850000   20.41550000   29.16500000 \\nCd    26.24850000   26.24850000    0.00000000 \\nCd    26.24850000   26.24850000    5.83300000 \\nCd    26.24850000   26.24850000   11.66600000 \\nCd    26.24850000   26.24850000   17.49900000 \\nCd    26.24850000   26.24850000   23.33200000 \\nCd    26.24850000   26.24850000   29.16500000 \\nCd    26.24850000   32.08150000    0.00000000 \\nCd    26.24850000   32.08150000    5.83300000 \\nCd    26.24850000   32.08150000   11.66600000 \\nCd    26.24850000   32.08150000   17.49900000 \\nCd    26.24850000   32.08150000   23.33200000 \\nCd    26.24850000   32.08150000   29.16500000 \\nCd    32.08150000    2.91650000    0.00000000 \\nCd    32.08150000    2.91650000    5.83300000 \\nCd    32.08150000    2.91650000   11.66600000 \\nCd    32.08150000    2.91650000   17.49900000 \\nCd    32.08150000    2.91650000   23.33200000 \\nCd    32.08150000    2.91650000   29.16500000 \\nCd    32.08150000    8.74950000    0.00000000 \\nCd    32.08150000    8.74950000    5.83300000 \\nCd    32.08150000    8.74950000   11.66600000 \\nCd    32.08150000    8.74950000   17.49900000 \\nCd    32.08150000    8.74950000   23.33200000 \\nCd    32.08150000    8.74950000   29.16500000 \\nCd    32.08150000   14.58250000    0.00000000 \\nCd    32.08150000   14.58250000    5.83300000 \\nCd    32.08150000   14.58250000   11.66600000 \\nCd    32.08150000   14.58250000   17.49900000 \\nCd    32.08150000   14.58250000   23.33200000 \\nCd    32.08150000   14.58250000   29.16500000 \\nCd    32.08150000   20.41550000    0.00000000 \\nCd    32.08150000   20.41550000    5.83300000 \\nCd    32.08150000   20.41550000   11.66600000 \\nCd    32.08150000   20.41550000   17.49900000 \\nCd    32.08150000   20.41550000   23.33200000 \\nCd    32.08150000   20.41550000   29.16500000 \\nCd    32.08150000   26.24850000    0.00000000 \\nCd    32.08150000   26.24850000    5.83300000 \\nCd    32.08150000   26.24850000   11.66600000 \\nCd    32.08150000   26.24850000   17.49900000 \\nCd    32.08150000   26.24850000   23.33200000 \\nCd    32.08150000   26.24850000   29.16500000 \\nCd    32.08150000   32.08150000    0.00000000 \\nCd    32.08150000   32.08150000    5.83300000 \\nCd    32.08150000   32.08150000   11.66600000 \\nCd    32.08150000   32.08150000   17.49900000 \\nCd    32.08150000   32.08150000   23.33200000 \\nCd    32.08150000   32.08150000   29.16500000 \\nCd     2.91650000    0.00000000    2.91650000 \\nCd     2.91650000    0.00000000    8.74950000 \\nCd     2.91650000    0.00000000   14.58250000 \\nCd     2.91650000    0.00000000   20.41550000 \\nCd     2.91650000    0.00000000   26.24850000 \\nCd     2.91650000    0.00000000   32.08150000 \\nCd     2.91650000    5.83300000    2.91650000 \\nCd     2.91650000    5.83300000    8.74950000 \\nCd     2.91650000    5.83300000   14.58250000 \\nCd     2.91650000    5.83300000   20.41550000 \\nCd     2.91650000    5.83300000   26.24850000 \\nCd     2.91650000    5.83300000   32.08150000 \\nCd     2.91650000   11.66600000    2.91650000 \\nCd     2.91650000   11.66600000    8.74950000 \\nCd     2.91650000   11.66600000   14.58250000 \\nCd     2.91650000   11.66600000   20.41550000 \\nCd     2.91650000   11.66600000   26.24850000 \\nCd     2.91650000   11.66600000   32.08150000 \\nCd     2.91650000   17.49900000    2.91650000 \\nCd     2.91650000   17.49900000    8.74950000 \\nCd     2.91650000   17.49900000   14.58250000 \\nCd     2.91650000   17.49900000   20.41550000 \\nCd     2.91650000   17.49900000   26.24850000 \\nCd     2.91650000   17.49900000   32.08150000 \\nCd     2.91650000   23.33200000    2.91650000 \\nCd     2.91650000   23.33200000    8.74950000 \\nCd     2.91650000   23.33200000   14.58250000 \\nCd     2.91650000   23.33200000   20.41550000 \\nCd     2.91650000   23.33200000   26.24850000 \\nCd     2.91650000   23.33200000   32.08150000 \\nCd     2.91650000   29.16500000    2.91650000 \\nCd     2.91650000   29.16500000    8.74950000 \\nCd     2.91650000   29.16500000   14.58250000 \\nCd     2.91650000   29.16500000   20.41550000 \\nCd     2.91650000   29.16500000   26.24850000 \\nCd     2.91650000   29.16500000   32.08150000 \\nCd     8.74950000    0.00000000    2.91650000 \\nCd     8.74950000    0.00000000    8.74950000 \\nCd     8.74950000    0.00000000   14.58250000 \\nCd     8.74950000    0.00000000   20.41550000 \\nCd     8.74950000    0.00000000   26.24850000 \\nCd     8.74950000    0.00000000   32.08150000 \\nCd     8.74950000    5.83300000    2.91650000 \\nCd     8.74950000    5.83300000    8.74950000 \\nCd     8.74950000    5.83300000   14.58250000 \\nCd     8.74950000    5.83300000   20.41550000 \\nCd     8.74950000    5.83300000   26.24850000 \\nCd     8.74950000    5.83300000   32.08150000 \\nCd     8.74950000   11.66600000    2.91650000 \\nCd     8.74950000   11.66600000    8.74950000 \\nCd     8.74950000   11.66600000   14.58250000 \\nCd     8.74950000   11.66600000   20.41550000 \\nCd     8.74950000   11.66600000   26.24850000 \\nCd     8.74950000   11.66600000   32.08150000 \\nCd     8.74950000   17.49900000    2.91650000 \\nCd     8.74950000   17.49900000    8.74950000 \\nCd     8.74950000   17.49900000   14.58250000 \\nCd     8.74950000   17.49900000   20.41550000 \\nCd     8.74950000   17.49900000   26.24850000 \\nCd     8.74950000   17.49900000   32.08150000 \\nCd     8.74950000   23.33200000    2.91650000 \\nCd     8.74950000   23.33200000    8.74950000 \\nCd     8.74950000   23.33200000   14.58250000 \\nCd     8.74950000   23.33200000   20.41550000 \\nCd     8.74950000   23.33200000   26.24850000 \\nCd     8.74950000   23.33200000   32.08150000 \\nCd     8.74950000   29.16500000    2.91650000 \\nCd     8.74950000   29.16500000    8.74950000 \\nCd     8.74950000   29.16500000   14.58250000 \\nCd     8.74950000   29.16500000   20.41550000 \\nCd     8.74950000   29.16500000   26.24850000 \\nCd     8.74950000   29.16500000   32.08150000 \\nCd    14.58250000    0.00000000    2.91650000 \\nCd    14.58250000    0.00000000    8.74950000 \\nCd    14.58250000    0.00000000   14.58250000 \\nCd    14.58250000    0.00000000   20.41550000 \\nCd    14.58250000    0.00000000   26.24850000 \\nCd    14.58250000    0.00000000   32.08150000 \\nCd    14.58250000    5.83300000    2.91650000 \\nCd    14.58250000    5.83300000    8.74950000 \\nCd    14.58250000    5.83300000   14.58250000 \\nCd    14.58250000    5.83300000   20.41550000 \\nCd    14.58250000    5.83300000   26.24850000 \\nCd    14.58250000    5.83300000   32.08150000 \\nCd    14.58250000   11.66600000    2.91650000 \\nCd    14.58250000   11.66600000    8.74950000 \\nCd    14.58250000   11.66600000   14.58250000 \\nCd    14.58250000   11.66600000   20.41550000 \\nCd    14.58250000   11.66600000   26.24850000 \\nCd    14.58250000   11.66600000   32.08150000 \\nCd    14.58250000   17.49900000    2.91650000 \\nCd    14.58250000   17.49900000    8.74950000 \\nCd    14.58250000   17.49900000   14.58250000 \\nCd    14.58250000   17.49900000   20.41550000 \\nCd    14.58250000   17.49900000   26.24850000 \\nCd    14.58250000   17.49900000   32.08150000 \\nCd    14.58250000   23.33200000    2.91650000 \\nCd    14.58250000   23.33200000    8.74950000 \\nCd    14.58250000   23.33200000   14.58250000 \\nCd    14.58250000   23.33200000   20.41550000 \\nCd    14.58250000   23.33200000   26.24850000 \\nCd    14.58250000   23.33200000   32.08150000 \\nCd    14.58250000   29.16500000    2.91650000 \\nCd    14.58250000   29.16500000    8.74950000 \\nCd    14.58250000   29.16500000   14.58250000 \\nCd    14.58250000   29.16500000   20.41550000 \\nCd    14.58250000   29.16500000   26.24850000 \\nCd    14.58250000   29.16500000   32.08150000 \\nCd    20.41550000    0.00000000    2.91650000 \\nCd    20.41550000    0.00000000    8.74950000 \\nCd    20.41550000    0.00000000   14.58250000 \\nCd    20.41550000    0.00000000   20.41550000 \\nCd    20.41550000    0.00000000   26.24850000 \\nCd    20.41550000    0.00000000   32.08150000 \\nCd    20.41550000    5.83300000    2.91650000 \\nCd    20.41550000    5.83300000    8.74950000 \\nCd    20.41550000    5.83300000   14.58250000 \\nCd    20.41550000    5.83300000   20.41550000 \\nCd    20.41550000    5.83300000   26.24850000 \\nCd    20.41550000    5.83300000   32.08150000 \\nCd    20.41550000   11.66600000    2.91650000 \\nCd    20.41550000   11.66600000    8.74950000 \\nCd    20.41550000   11.66600000   14.58250000 \\nCd    20.41550000   11.66600000   20.41550000 \\nCd    20.41550000   11.66600000   26.24850000 \\nCd    20.41550000   11.66600000   32.08150000 \\nCd    20.41550000   17.49900000    2.91650000 \\nCd    20.41550000   17.49900000    8.74950000 \\nCd    20.41550000   17.49900000   14.58250000 \\nCd    20.41550000   17.49900000   20.41550000 \\nCd    20.41550000   17.49900000   26.24850000 \\nCd    20.41550000   17.49900000   32.08150000 \\nCd    20.41550000   23.33200000    2.91650000 \\nCd    20.41550000   23.33200000    8.74950000 \\nCd    20.41550000   23.33200000   14.58250000 \\nCd    20.41550000   23.33200000   20.41550000 \\nCd    20.41550000   23.33200000   26.24850000 \\nCd    20.41550000   23.33200000   32.08150000 \\nCd    20.41550000   29.16500000    2.91650000 \\nCd    20.41550000   29.16500000    8.74950000 \\nCd    20.41550000   29.16500000   14.58250000 \\nCd    20.41550000   29.16500000   20.41550000 \\nCd    20.41550000   29.16500000   26.24850000 \\nCd    20.41550000   29.16500000   32.08150000 \\nCd    26.24850000    0.00000000    2.91650000 \\nCd    26.24850000    0.00000000    8.74950000 \\nCd    26.24850000    0.00000000   14.58250000 \\nCd    26.24850000    0.00000000   20.41550000 \\nCd    26.24850000    0.00000000   26.24850000 \\nCd    26.24850000    0.00000000   32.08150000 \\nCd    26.24850000    5.83300000    2.91650000 \\nCd    26.24850000    5.83300000    8.74950000 \\nCd    26.24850000    5.83300000   14.58250000 \\nCd    26.24850000    5.83300000   20.41550000 \\nCd    26.24850000    5.83300000   26.24850000 \\nCd    26.24850000    5.83300000   32.08150000 \\nCd    26.24850000   11.66600000    2.91650000 \\nCd    26.24850000   11.66600000    8.74950000 \\nCd    26.24850000   11.66600000   14.58250000 \\nCd    26.24850000   11.66600000   20.41550000 \\nCd    26.24850000   11.66600000   26.24850000 \\nCd    26.24850000   11.66600000   32.08150000 \\nCd    26.24850000   17.49900000    2.91650000 \\nCd    26.24850000   17.49900000    8.74950000 \\nCd    26.24850000   17.49900000   14.58250000 \\nCd    26.24850000   17.49900000   20.41550000 \\nCd    26.24850000   17.49900000   26.24850000 \\nCd    26.24850000   17.49900000   32.08150000 \\nCd    26.24850000   23.33200000    2.91650000 \\nCd    26.24850000   23.33200000    8.74950000 \\nCd    26.24850000   23.33200000   14.58250000 \\nCd    26.24850000   23.33200000   20.41550000 \\nCd    26.24850000   23.33200000   26.24850000 \\nCd    26.24850000   23.33200000   32.08150000 \\nCd    26.24850000   29.16500000    2.91650000 \\nCd    26.24850000   29.16500000    8.74950000 \\nCd    26.24850000   29.16500000   14.58250000 \\nCd    26.24850000   29.16500000   20.41550000 \\nCd    26.24850000   29.16500000   26.24850000 \\nCd    26.24850000   29.16500000   32.08150000 \\nCd    32.08150000    0.00000000    2.91650000 \\nCd    32.08150000    0.00000000    8.74950000 \\nCd    32.08150000    0.00000000   14.58250000 \\nCd    32.08150000    0.00000000   20.41550000 \\nCd    32.08150000    0.00000000   26.24850000 \\nCd    32.08150000    0.00000000   32.08150000 \\nCd    32.08150000    5.83300000    2.91650000 \\nCd    32.08150000    5.83300000    8.74950000 \\nCd    32.08150000    5.83300000   14.58250000 \\nCd    32.08150000    5.83300000   20.41550000 \\nCd    32.08150000    5.83300000   26.24850000 \\nCd    32.08150000    5.83300000   32.08150000 \\nCd    32.08150000   11.66600000    2.91650000 \\nCd    32.08150000   11.66600000    8.74950000 \\nCd    32.08150000   11.66600000   14.58250000 \\nCd    32.08150000   11.66600000   20.41550000 \\nCd    32.08150000   11.66600000   26.24850000 \\nCd    32.08150000   11.66600000   32.08150000 \\nCd    32.08150000   17.49900000    2.91650000 \\nCd    32.08150000   17.49900000    8.74950000 \\nCd    32.08150000   17.49900000   14.58250000 \\nCd    32.08150000   17.49900000   20.41550000 \\nCd    32.08150000   17.49900000   26.24850000 \\nCd    32.08150000   17.49900000   32.08150000 \\nCd    32.08150000   23.33200000    2.91650000 \\nCd    32.08150000   23.33200000    8.74950000 \\nCd    32.08150000   23.33200000   14.58250000 \\nCd    32.08150000   23.33200000   20.41550000 \\nCd    32.08150000   23.33200000   26.24850000 \\nCd    32.08150000   23.33200000   32.08150000 \\nCd    32.08150000   29.16500000    2.91650000 \\nCd    32.08150000   29.16500000    8.74950000 \\nCd    32.08150000   29.16500000   14.58250000 \\nCd    32.08150000   29.16500000   20.41550000 \\nCd    32.08150000   29.16500000   26.24850000 \\nCd    32.08150000   29.16500000   32.08150000 \\nCd     0.00000000    2.91650000    2.91650000 \\nCd     0.00000000    2.91650000    8.74950000 \\nCd     0.00000000    2.91650000   14.58250000 \\nCd     0.00000000    2.91650000   20.41550000 \\nCd     0.00000000    2.91650000   26.24850000 \\nCd     0.00000000    2.91650000   32.08150000 \\nCd     0.00000000    8.74950000    2.91650000 \\nCd     0.00000000    8.74950000    8.74950000 \\nCd     0.00000000    8.74950000   14.58250000 \\nCd     0.00000000    8.74950000   20.41550000 \\nCd     0.00000000    8.74950000   26.24850000 \\nCd     0.00000000    8.74950000   32.08150000 \\nCd     0.00000000   14.58250000    2.91650000 \\nCd     0.00000000   14.58250000    8.74950000 \\nCd     0.00000000   14.58250000   14.58250000 \\nCd     0.00000000   14.58250000   20.41550000 \\nCd     0.00000000   14.58250000   26.24850000 \\nCd     0.00000000   14.58250000   32.08150000 \\nCd     0.00000000   20.41550000    2.91650000 \\nCd     0.00000000   20.41550000    8.74950000 \\nCd     0.00000000   20.41550000   14.58250000 \\nCd     0.00000000   20.41550000   20.41550000 \\nCd     0.00000000   20.41550000   26.24850000 \\nCd     0.00000000   20.41550000   32.08150000 \\nCd     0.00000000   26.24850000    2.91650000 \\nCd     0.00000000   26.24850000    8.74950000 \\nCd     0.00000000   26.24850000   14.58250000 \\nCd     0.00000000   26.24850000   20.41550000 \\nCd     0.00000000   26.24850000   26.24850000 \\nCd     0.00000000   26.24850000   32.08150000 \\nCd     0.00000000   32.08150000    2.91650000 \\nCd     0.00000000   32.08150000    8.74950000 \\nCd     0.00000000   32.08150000   14.58250000 \\nCd     0.00000000   32.08150000   20.41550000 \\nCd     0.00000000   32.08150000   26.24850000 \\nCd     0.00000000   32.08150000   32.08150000 \\nCd     5.83300000    2.91650000    2.91650000 \\nCd     5.83300000    2.91650000    8.74950000 \\nCd     5.83300000    2.91650000   14.58250000 \\nCd     5.83300000    2.91650000   20.41550000 \\nCd     5.83300000    2.91650000   26.24850000 \\nCd     5.83300000    2.91650000   32.08150000 \\nCd     5.83300000    8.74950000    2.91650000 \\nCd     5.83300000    8.74950000    8.74950000 \\nCd     5.83300000    8.74950000   14.58250000 \\nCd     5.83300000    8.74950000   20.41550000 \\nCd     5.83300000    8.74950000   26.24850000 \\nCd     5.83300000    8.74950000   32.08150000 \\nCd     5.83300000   14.58250000    2.91650000 \\nCd     5.83300000   14.58250000    8.74950000 \\nCd     5.83300000   14.58250000   14.58250000 \\nCd     5.83300000   14.58250000   20.41550000 \\nCd     5.83300000   14.58250000   26.24850000 \\nCd     5.83300000   14.58250000   32.08150000 \\nCd     5.83300000   20.41550000    2.91650000 \\nCd     5.83300000   20.41550000    8.74950000 \\nCd     5.83300000   20.41550000   14.58250000 \\nCd     5.83300000   20.41550000   20.41550000 \\nCd     5.83300000   20.41550000   26.24850000 \\nCd     5.83300000   20.41550000   32.08150000 \\nCd     5.83300000   26.24850000    2.91650000 \\nCd     5.83300000   26.24850000    8.74950000 \\nCd     5.83300000   26.24850000   14.58250000 \\nCd     5.83300000   26.24850000   20.41550000 \\nCd     5.83300000   26.24850000   26.24850000 \\nCd     5.83300000   26.24850000   32.08150000 \\nCd     5.83300000   32.08150000    2.91650000 \\nCd     5.83300000   32.08150000    8.74950000 \\nCd     5.83300000   32.08150000   14.58250000 \\nCd     5.83300000   32.08150000   20.41550000 \\nCd     5.83300000   32.08150000   26.24850000 \\nCd     5.83300000   32.08150000   32.08150000 \\nCd    11.66600000    2.91650000    2.91650000 \\nCd    11.66600000    2.91650000    8.74950000 \\nCd    11.66600000    2.91650000   14.58250000 \\nCd    11.66600000    2.91650000   20.41550000 \\nCd    11.66600000    2.91650000   26.24850000 \\nCd    11.66600000    2.91650000   32.08150000 \\nCd    11.66600000    8.74950000    2.91650000 \\nCd    11.66600000    8.74950000    8.74950000 \\nCd    11.66600000    8.74950000   14.58250000 \\nCd    11.66600000    8.74950000   20.41550000 \\nCd    11.66600000    8.74950000   26.24850000 \\nCd    11.66600000    8.74950000   32.08150000 \\nCd    11.66600000   14.58250000    2.91650000 \\nCd    11.66600000   14.58250000    8.74950000 \\nCd    11.66600000   14.58250000   14.58250000 \\nCd    11.66600000   14.58250000   20.41550000 \\nCd    11.66600000   14.58250000   26.24850000 \\nCd    11.66600000   14.58250000   32.08150000 \\nCd    11.66600000   20.41550000    2.91650000 \\nCd    11.66600000   20.41550000    8.74950000 \\nCd    11.66600000   20.41550000   14.58250000 \\nCd    11.66600000   20.41550000   20.41550000 \\nCd    11.66600000   20.41550000   26.24850000 \\nCd    11.66600000   20.41550000   32.08150000 \\nCd    11.66600000   26.24850000    2.91650000 \\nCd    11.66600000   26.24850000    8.74950000 \\nCd    11.66600000   26.24850000   14.58250000 \\nCd    11.66600000   26.24850000   20.41550000 \\nCd    11.66600000   26.24850000   26.24850000 \\nCd    11.66600000   26.24850000   32.08150000 \\nCd    11.66600000   32.08150000    2.91650000 \\nCd    11.66600000   32.08150000    8.74950000 \\nCd    11.66600000   32.08150000   14.58250000 \\nCd    11.66600000   32.08150000   20.41550000 \\nCd    11.66600000   32.08150000   26.24850000 \\nCd    11.66600000   32.08150000   32.08150000 \\nCd    17.49900000    2.91650000    2.91650000 \\nCd    17.49900000    2.91650000    8.74950000 \\nCd    17.49900000    2.91650000   14.58250000 \\nCd    17.49900000    2.91650000   20.41550000 \\nCd    17.49900000    2.91650000   26.24850000 \\nCd    17.49900000    2.91650000   32.08150000 \\nCd    17.49900000    8.74950000    2.91650000 \\nCd    17.49900000    8.74950000    8.74950000 \\nCd    17.49900000    8.74950000   14.58250000 \\nCd    17.49900000    8.74950000   20.41550000 \\nCd    17.49900000    8.74950000   26.24850000 \\nCd    17.49900000    8.74950000   32.08150000 \\nCd    17.49900000   14.58250000    2.91650000 \\nCd    17.49900000   14.58250000    8.74950000 \\nCd    17.49900000   14.58250000   14.58250000 \\nCd    17.49900000   14.58250000   20.41550000 \\nCd    17.49900000   14.58250000   26.24850000 \\nCd    17.49900000   14.58250000   32.08150000 \\nCd    17.49900000   20.41550000    2.91650000 \\nCd    17.49900000   20.41550000    8.74950000 \\nCd    17.49900000   20.41550000   14.58250000 \\nCd    17.49900000   20.41550000   20.41550000 \\nCd    17.49900000   20.41550000   26.24850000 \\nCd    17.49900000   20.41550000   32.08150000 \\nCd    17.49900000   26.24850000    2.91650000 \\nCd    17.49900000   26.24850000    8.74950000 \\nCd    17.49900000   26.24850000   14.58250000 \\nCd    17.49900000   26.24850000   20.41550000 \\nCd    17.49900000   26.24850000   26.24850000 \\nCd    17.49900000   26.24850000   32.08150000 \\nCd    17.49900000   32.08150000    2.91650000 \\nCd    17.49900000   32.08150000    8.74950000 \\nCd    17.49900000   32.08150000   14.58250000 \\nCd    17.49900000   32.08150000   20.41550000 \\nCd    17.49900000   32.08150000   26.24850000 \\nCd    17.49900000   32.08150000   32.08150000 \\nCd    23.33200000    2.91650000    2.91650000 \\nCd    23.33200000    2.91650000    8.74950000 \\nCd    23.33200000    2.91650000   14.58250000 \\nCd    23.33200000    2.91650000   20.41550000 \\nCd    23.33200000    2.91650000   26.24850000 \\nCd    23.33200000    2.91650000   32.08150000 \\nCd    23.33200000    8.74950000    2.91650000 \\nCd    23.33200000    8.74950000    8.74950000 \\nCd    23.33200000    8.74950000   14.58250000 \\nCd    23.33200000    8.74950000   20.41550000 \\nCd    23.33200000    8.74950000   26.24850000 \\nCd    23.33200000    8.74950000   32.08150000 \\nCd    23.33200000   14.58250000    2.91650000 \\nCd    23.33200000   14.58250000    8.74950000 \\nCd    23.33200000   14.58250000   14.58250000 \\nCd    23.33200000   14.58250000   20.41550000 \\nCd    23.33200000   14.58250000   26.24850000 \\nCd    23.33200000   14.58250000   32.08150000 \\nCd    23.33200000   20.41550000    2.91650000 \\nCd    23.33200000   20.41550000    8.74950000 \\nCd    23.33200000   20.41550000   14.58250000 \\nCd    23.33200000   20.41550000   20.41550000 \\nCd    23.33200000   20.41550000   26.24850000 \\nCd    23.33200000   20.41550000   32.08150000 \\nCd    23.33200000   26.24850000    2.91650000 \\nCd    23.33200000   26.24850000    8.74950000 \\nCd    23.33200000   26.24850000   14.58250000 \\nCd    23.33200000   26.24850000   20.41550000 \\nCd    23.33200000   26.24850000   26.24850000 \\nCd    23.33200000   26.24850000   32.08150000 \\nCd    23.33200000   32.08150000    2.91650000 \\nCd    23.33200000   32.08150000    8.74950000 \\nCd    23.33200000   32.08150000   14.58250000 \\nCd    23.33200000   32.08150000   20.41550000 \\nCd    23.33200000   32.08150000   26.24850000 \\nCd    23.33200000   32.08150000   32.08150000 \\nCd    29.16500000    2.91650000    2.91650000 \\nCd    29.16500000    2.91650000    8.74950000 \\nCd    29.16500000    2.91650000   14.58250000 \\nCd    29.16500000    2.91650000   20.41550000 \\nCd    29.16500000    2.91650000   26.24850000 \\nCd    29.16500000    2.91650000   32.08150000 \\nCd    29.16500000    8.74950000    2.91650000 \\nCd    29.16500000    8.74950000    8.74950000 \\nCd    29.16500000    8.74950000   14.58250000 \\nCd    29.16500000    8.74950000   20.41550000 \\nCd    29.16500000    8.74950000   26.24850000 \\nCd    29.16500000    8.74950000   32.08150000 \\nCd    29.16500000   14.58250000    2.91650000 \\nCd    29.16500000   14.58250000    8.74950000 \\nCd    29.16500000   14.58250000   14.58250000 \\nCd    29.16500000   14.58250000   20.41550000 \\nCd    29.16500000   14.58250000   26.24850000 \\nCd    29.16500000   14.58250000   32.08150000 \\nCd    29.16500000   20.41550000    2.91650000 \\nCd    29.16500000   20.41550000    8.74950000 \\nCd    29.16500000   20.41550000   14.58250000 \\nCd    29.16500000   20.41550000   20.41550000 \\nCd    29.16500000   20.41550000   26.24850000 \\nCd    29.16500000   20.41550000   32.08150000 \\nCd    29.16500000   26.24850000    2.91650000 \\nCd    29.16500000   26.24850000    8.74950000 \\nCd    29.16500000   26.24850000   14.58250000 \\nCd    29.16500000   26.24850000   20.41550000 \\nCd    29.16500000   26.24850000   26.24850000 \\nCd    29.16500000   26.24850000   32.08150000 \\nCd    29.16500000   32.08150000    2.91650000 \\nCd    29.16500000   32.08150000    8.74950000 \\nCd    29.16500000   32.08150000   14.58250000 \\nCd    29.16500000   32.08150000   20.41550000 \\nCd    29.16500000   32.08150000   26.24850000 \\nCd    29.16500000   32.08150000   32.08150000 \\nSe     1.45825000    1.45825000    1.45825000 \\nSe     1.45825000    1.45825000    7.29125000 \\nSe     1.45825000    1.45825000   13.12425000 \\nSe     1.45825000    1.45825000   18.95725000 \\nSe     1.45825000    1.45825000   24.79025000 \\nSe     1.45825000    1.45825000   30.62325000 \\nSe     1.45825000    7.29125000    1.45825000 \\nSe     1.45825000    7.29125000    7.29125000 \\nSe     1.45825000    7.29125000   13.12425000 \\nSe     1.45825000    7.29125000   18.95725000 \\nSe     1.45825000    7.29125000   24.79025000 \\nSe     1.45825000    7.29125000   30.62325000 \\nSe     1.45825000   13.12425000    1.45825000 \\nSe     1.45825000   13.12425000    7.29125000 \\nSe     1.45825000   13.12425000   13.12425000 \\nSe     1.45825000   13.12425000   18.95725000 \\nSe     1.45825000   13.12425000   24.79025000 \\nSe     1.45825000   13.12425000   30.62325000 \\nSe     1.45825000   18.95725000    1.45825000 \\nSe     1.45825000   18.95725000    7.29125000 \\nSe     1.45825000   18.95725000   13.12425000 \\nSe     1.45825000   18.95725000   18.95725000 \\nSe     1.45825000   18.95725000   24.79025000 \\nSe     1.45825000   18.95725000   30.62325000 \\nSe     1.45825000   24.79025000    1.45825000 \\nSe     1.45825000   24.79025000    7.29125000 \\nSe     1.45825000   24.79025000   13.12425000 \\nSe     1.45825000   24.79025000   18.95725000 \\nSe     1.45825000   24.79025000   24.79025000 \\nSe     1.45825000   24.79025000   30.62325000 \\nSe     1.45825000   30.62325000    1.45825000 \\nSe     1.45825000   30.62325000    7.29125000 \\nSe     1.45825000   30.62325000   13.12425000 \\nSe     1.45825000   30.62325000   18.95725000 \\nSe     1.45825000   30.62325000   24.79025000 \\nSe     1.45825000   30.62325000   30.62325000 \\nSe     7.29125000    1.45825000    1.45825000 \\nSe     7.29125000    1.45825000    7.29125000 \\nSe     7.29125000    1.45825000   13.12425000 \\nSe     7.29125000    1.45825000   18.95725000 \\nSe     7.29125000    1.45825000   24.79025000 \\nSe     7.29125000    1.45825000   30.62325000 \\nSe     7.29125000    7.29125000    1.45825000 \\nSe     7.29125000    7.29125000    7.29125000 \\nSe     7.29125000    7.29125000   13.12425000 \\nSe     7.29125000    7.29125000   18.95725000 \\nSe     7.29125000    7.29125000   24.79025000 \\nSe     7.29125000    7.29125000   30.62325000 \\nSe     7.29125000   13.12425000    1.45825000 \\nSe     7.29125000   13.12425000    7.29125000 \\nSe     7.29125000   13.12425000   13.12425000 \\nSe     7.29125000   13.12425000   18.95725000 \\nSe     7.29125000   13.12425000   24.79025000 \\nSe     7.29125000   13.12425000   30.62325000 \\nSe     7.29125000   18.95725000    1.45825000 \\nSe     7.29125000   18.95725000    7.29125000 \\nSe     7.29125000   18.95725000   13.12425000 \\nSe     7.29125000   18.95725000   18.95725000 \\nSe     7.29125000   18.95725000   24.79025000 \\nSe     7.29125000   18.95725000   30.62325000 \\nSe     7.29125000   24.79025000    1.45825000 \\nSe     7.29125000   24.79025000    7.29125000 \\nSe     7.29125000   24.79025000   13.12425000 \\nSe     7.29125000   24.79025000   18.95725000 \\nSe     7.29125000   24.79025000   24.79025000 \\nSe     7.29125000   24.79025000   30.62325000 \\nSe     7.29125000   30.62325000    1.45825000 \\nSe     7.29125000   30.62325000    7.29125000 \\nSe     7.29125000   30.62325000   13.12425000 \\nSe     7.29125000   30.62325000   18.95725000 \\nSe     7.29125000   30.62325000   24.79025000 \\nSe     7.29125000   30.62325000   30.62325000 \\nSe    13.12425000    1.45825000    1.45825000 \\nSe    13.12425000    1.45825000    7.29125000 \\nSe    13.12425000    1.45825000   13.12425000 \\nSe    13.12425000    1.45825000   18.95725000 \\nSe    13.12425000    1.45825000   24.79025000 \\nSe    13.12425000    1.45825000   30.62325000 \\nSe    13.12425000    7.29125000    1.45825000 \\nSe    13.12425000    7.29125000    7.29125000 \\nSe    13.12425000    7.29125000   13.12425000 \\nSe    13.12425000    7.29125000   18.95725000 \\nSe    13.12425000    7.29125000   24.79025000 \\nSe    13.12425000    7.29125000   30.62325000 \\nSe    13.12425000   13.12425000    1.45825000 \\nSe    13.12425000   13.12425000    7.29125000 \\nSe    13.12425000   13.12425000   13.12425000 \\nSe    13.12425000   13.12425000   18.95725000 \\nSe    13.12425000   13.12425000   24.79025000 \\nSe    13.12425000   13.12425000   30.62325000 \\nSe    13.12425000   18.95725000    1.45825000 \\nSe    13.12425000   18.95725000    7.29125000 \\nSe    13.12425000   18.95725000   13.12425000 \\nSe    13.12425000   18.95725000   18.95725000 \\nSe    13.12425000   18.95725000   24.79025000 \\nSe    13.12425000   18.95725000   30.62325000 \\nSe    13.12425000   24.79025000    1.45825000 \\nSe    13.12425000   24.79025000    7.29125000 \\nSe    13.12425000   24.79025000   13.12425000 \\nSe    13.12425000   24.79025000   18.95725000 \\nSe    13.12425000   24.79025000   24.79025000 \\nSe    13.12425000   24.79025000   30.62325000 \\nSe    13.12425000   30.62325000    1.45825000 \\nSe    13.12425000   30.62325000    7.29125000 \\nSe    13.12425000   30.62325000   13.12425000 \\nSe    13.12425000   30.62325000   18.95725000 \\nSe    13.12425000   30.62325000   24.79025000 \\nSe    13.12425000   30.62325000   30.62325000 \\nSe    18.95725000    1.45825000    1.45825000 \\nSe    18.95725000    1.45825000    7.29125000 \\nSe    18.95725000    1.45825000   13.12425000 \\nSe    18.95725000    1.45825000   18.95725000 \\nSe    18.95725000    1.45825000   24.79025000 \\nSe    18.95725000    1.45825000   30.62325000 \\nSe    18.95725000    7.29125000    1.45825000 \\nSe    18.95725000    7.29125000    7.29125000 \\nSe    18.95725000    7.29125000   13.12425000 \\nSe    18.95725000    7.29125000   18.95725000 \\nSe    18.95725000    7.29125000   24.79025000 \\nSe    18.95725000    7.29125000   30.62325000 \\nSe    18.95725000   13.12425000    1.45825000 \\nSe    18.95725000   13.12425000    7.29125000 \\nSe    18.95725000   13.12425000   13.12425000 \\nSe    18.95725000   13.12425000   18.95725000 \\nSe    18.95725000   13.12425000   24.79025000 \\nSe    18.95725000   13.12425000   30.62325000 \\nSe    18.95725000   18.95725000    1.45825000 \\nSe    18.95725000   18.95725000    7.29125000 \\nSe    18.95725000   18.95725000   13.12425000 \\nSe    18.95725000   18.95725000   18.95725000 \\nSe    18.95725000   18.95725000   24.79025000 \\nSe    18.95725000   18.95725000   30.62325000 \\nSe    18.95725000   24.79025000    1.45825000 \\nSe    18.95725000   24.79025000    7.29125000 \\nSe    18.95725000   24.79025000   13.12425000 \\nSe    18.95725000   24.79025000   18.95725000 \\nSe    18.95725000   24.79025000   24.79025000 \\nSe    18.95725000   24.79025000   30.62325000 \\nSe    18.95725000   30.62325000    1.45825000 \\nSe    18.95725000   30.62325000    7.29125000 \\nSe    18.95725000   30.62325000   13.12425000 \\nSe    18.95725000   30.62325000   18.95725000 \\nSe    18.95725000   30.62325000   24.79025000 \\nSe    18.95725000   30.62325000   30.62325000 \\nSe    24.79025000    1.45825000    1.45825000 \\nSe    24.79025000    1.45825000    7.29125000 \\nSe    24.79025000    1.45825000   13.12425000 \\nSe    24.79025000    1.45825000   18.95725000 \\nSe    24.79025000    1.45825000   24.79025000 \\nSe    24.79025000    1.45825000   30.62325000 \\nSe    24.79025000    7.29125000    1.45825000 \\nSe    24.79025000    7.29125000    7.29125000 \\nSe    24.79025000    7.29125000   13.12425000 \\nSe    24.79025000    7.29125000   18.95725000 \\nSe    24.79025000    7.29125000   24.79025000 \\nSe    24.79025000    7.29125000   30.62325000 \\nSe    24.79025000   13.12425000    1.45825000 \\nSe    24.79025000   13.12425000    7.29125000 \\nSe    24.79025000   13.12425000   13.12425000 \\nSe    24.79025000   13.12425000   18.95725000 \\nSe    24.79025000   13.12425000   24.79025000 \\nSe    24.79025000   13.12425000   30.62325000 \\nSe    24.79025000   18.95725000    1.45825000 \\nSe    24.79025000   18.95725000    7.29125000 \\nSe    24.79025000   18.95725000   13.12425000 \\nSe    24.79025000   18.95725000   18.95725000 \\nSe    24.79025000   18.95725000   24.79025000 \\nSe    24.79025000   18.95725000   30.62325000 \\nSe    24.79025000   24.79025000    1.45825000 \\nSe    24.79025000   24.79025000    7.29125000 \\nSe    24.79025000   24.79025000   13.12425000 \\nSe    24.79025000   24.79025000   18.95725000 \\nSe    24.79025000   24.79025000   24.79025000 \\nSe    24.79025000   24.79025000   30.62325000 \\nSe    24.79025000   30.62325000    1.45825000 \\nSe    24.79025000   30.62325000    7.29125000 \\nSe    24.79025000   30.62325000   13.12425000 \\nSe    24.79025000   30.62325000   18.95725000 \\nSe    24.79025000   30.62325000   24.79025000 \\nSe    24.79025000   30.62325000   30.62325000 \\nSe    30.62325000    1.45825000    1.45825000 \\nSe    30.62325000    1.45825000    7.29125000 \\nSe    30.62325000    1.45825000   13.12425000 \\nSe    30.62325000    1.45825000   18.95725000 \\nSe    30.62325000    1.45825000   24.79025000 \\nSe    30.62325000    1.45825000   30.62325000 \\nSe    30.62325000    7.29125000    1.45825000 \\nSe    30.62325000    7.29125000    7.29125000 \\nSe    30.62325000    7.29125000   13.12425000 \\nSe    30.62325000    7.29125000   18.95725000 \\nSe    30.62325000    7.29125000   24.79025000 \\nSe    30.62325000    7.29125000   30.62325000 \\nSe    30.62325000   13.12425000    1.45825000 \\nSe    30.62325000   13.12425000    7.29125000 \\nSe    30.62325000   13.12425000   13.12425000 \\nSe    30.62325000   13.12425000   18.95725000 \\nSe    30.62325000   13.12425000   24.79025000 \\nSe    30.62325000   13.12425000   30.62325000 \\nSe    30.62325000   18.95725000    1.45825000 \\nSe    30.62325000   18.95725000    7.29125000 \\nSe    30.62325000   18.95725000   13.12425000 \\nSe    30.62325000   18.95725000   18.95725000 \\nSe    30.62325000   18.95725000   24.79025000 \\nSe    30.62325000   18.95725000   30.62325000 \\nSe    30.62325000   24.79025000    1.45825000 \\nSe    30.62325000   24.79025000    7.29125000 \\nSe    30.62325000   24.79025000   13.12425000 \\nSe    30.62325000   24.79025000   18.95725000 \\nSe    30.62325000   24.79025000   24.79025000 \\nSe    30.62325000   24.79025000   30.62325000 \\nSe    30.62325000   30.62325000    1.45825000 \\nSe    30.62325000   30.62325000    7.29125000 \\nSe    30.62325000   30.62325000   13.12425000 \\nSe    30.62325000   30.62325000   18.95725000 \\nSe    30.62325000   30.62325000   24.79025000 \\nSe    30.62325000   30.62325000   30.62325000 \\nSe     1.45825000    4.37475000    4.37475000 \\nSe     1.45825000    4.37475000   10.20775000 \\nSe     1.45825000    4.37475000   16.04075000 \\nSe     1.45825000    4.37475000   21.87375000 \\nSe     1.45825000    4.37475000   27.70675000 \\nSe     1.45825000    4.37475000   33.53975000 \\nSe     1.45825000   10.20775000    4.37475000 \\nSe     1.45825000   10.20775000   10.20775000 \\nSe     1.45825000   10.20775000   16.04075000 \\nSe     1.45825000   10.20775000   21.87375000 \\nSe     1.45825000   10.20775000   27.70675000 \\nSe     1.45825000   10.20775000   33.53975000 \\nSe     1.45825000   16.04075000    4.37475000 \\nSe     1.45825000   16.04075000   10.20775000 \\nSe     1.45825000   16.04075000   16.04075000 \\nSe     1.45825000   16.04075000   21.87375000 \\nSe     1.45825000   16.04075000   27.70675000 \\nSe     1.45825000   16.04075000   33.53975000 \\nSe     1.45825000   21.87375000    4.37475000 \\nSe     1.45825000   21.87375000   10.20775000 \\nSe     1.45825000   21.87375000   16.04075000 \\nSe     1.45825000   21.87375000   21.87375000 \\nSe     1.45825000   21.87375000   27.70675000 \\nSe     1.45825000   21.87375000   33.53975000 \\nSe     1.45825000   27.70675000    4.37475000 \\nSe     1.45825000   27.70675000   10.20775000 \\nSe     1.45825000   27.70675000   16.04075000 \\nSe     1.45825000   27.70675000   21.87375000 \\nSe     1.45825000   27.70675000   27.70675000 \\nSe     1.45825000   27.70675000   33.53975000 \\nSe     1.45825000   33.53975000    4.37475000 \\nSe     1.45825000   33.53975000   10.20775000 \\nSe     1.45825000   33.53975000   16.04075000 \\nSe     1.45825000   33.53975000   21.87375000 \\nSe     1.45825000   33.53975000   27.70675000 \\nSe     1.45825000   33.53975000   33.53975000 \\nSe     7.29125000    4.37475000    4.37475000 \\nSe     7.29125000    4.37475000   10.20775000 \\nSe     7.29125000    4.37475000   16.04075000 \\nSe     7.29125000    4.37475000   21.87375000 \\nSe     7.29125000    4.37475000   27.70675000 \\nSe     7.29125000    4.37475000   33.53975000 \\nSe     7.29125000   10.20775000    4.37475000 \\nSe     7.29125000   10.20775000   10.20775000 \\nSe     7.29125000   10.20775000   16.04075000 \\nSe     7.29125000   10.20775000   21.87375000 \\nSe     7.29125000   10.20775000   27.70675000 \\nSe     7.29125000   10.20775000   33.53975000 \\nSe     7.29125000   16.04075000    4.37475000 \\nSe     7.29125000   16.04075000   10.20775000 \\nSe     7.29125000   16.04075000   16.04075000 \\nSe     7.29125000   16.04075000   21.87375000 \\nSe     7.29125000   16.04075000   27.70675000 \\nSe     7.29125000   16.04075000   33.53975000 \\nSe     7.29125000   21.87375000    4.37475000 \\nSe     7.29125000   21.87375000   10.20775000 \\nSe     7.29125000   21.87375000   16.04075000 \\nSe     7.29125000   21.87375000   21.87375000 \\nSe     7.29125000   21.87375000   27.70675000 \\nSe     7.29125000   21.87375000   33.53975000 \\nSe     7.29125000   27.70675000    4.37475000 \\nSe     7.29125000   27.70675000   10.20775000 \\nSe     7.29125000   27.70675000   16.04075000 \\nSe     7.29125000   27.70675000   21.87375000 \\nSe     7.29125000   27.70675000   27.70675000 \\nSe     7.29125000   27.70675000   33.53975000 \\nSe     7.29125000   33.53975000    4.37475000 \\nSe     7.29125000   33.53975000   10.20775000 \\nSe     7.29125000   33.53975000   16.04075000 \\nSe     7.29125000   33.53975000   21.87375000 \\nSe     7.29125000   33.53975000   27.70675000 \\nSe     7.29125000   33.53975000   33.53975000 \\nSe    13.12425000    4.37475000    4.37475000 \\nSe    13.12425000    4.37475000   10.20775000 \\nSe    13.12425000    4.37475000   16.04075000 \\nSe    13.12425000    4.37475000   21.87375000 \\nSe    13.12425000    4.37475000   27.70675000 \\nSe    13.12425000    4.37475000   33.53975000 \\nSe    13.12425000   10.20775000    4.37475000 \\nSe    13.12425000   10.20775000   10.20775000 \\nSe    13.12425000   10.20775000   16.04075000 \\nSe    13.12425000   10.20775000   21.87375000 \\nSe    13.12425000   10.20775000   27.70675000 \\nSe    13.12425000   10.20775000   33.53975000 \\nSe    13.12425000   16.04075000    4.37475000 \\nSe    13.12425000   16.04075000   10.20775000 \\nSe    13.12425000   16.04075000   16.04075000 \\nSe    13.12425000   16.04075000   21.87375000 \\nSe    13.12425000   16.04075000   27.70675000 \\nSe    13.12425000   16.04075000   33.53975000 \\nSe    13.12425000   21.87375000    4.37475000 \\nSe    13.12425000   21.87375000   10.20775000 \\nSe    13.12425000   21.87375000   16.04075000 \\nSe    13.12425000   21.87375000   21.87375000 \\nSe    13.12425000   21.87375000   27.70675000 \\nSe    13.12425000   21.87375000   33.53975000 \\nSe    13.12425000   27.70675000    4.37475000 \\nSe    13.12425000   27.70675000   10.20775000 \\nSe    13.12425000   27.70675000   16.04075000 \\nSe    13.12425000   27.70675000   21.87375000 \\nSe    13.12425000   27.70675000   27.70675000 \\nSe    13.12425000   27.70675000   33.53975000 \\nSe    13.12425000   33.53975000    4.37475000 \\nSe    13.12425000   33.53975000   10.20775000 \\nSe    13.12425000   33.53975000   16.04075000 \\nSe    13.12425000   33.53975000   21.87375000 \\nSe    13.12425000   33.53975000   27.70675000 \\nSe    13.12425000   33.53975000   33.53975000 \\nSe    18.95725000    4.37475000    4.37475000 \\nSe    18.95725000    4.37475000   10.20775000 \\nSe    18.95725000    4.37475000   16.04075000 \\nSe    18.95725000    4.37475000   21.87375000 \\nSe    18.95725000    4.37475000   27.70675000 \\nSe    18.95725000    4.37475000   33.53975000 \\nSe    18.95725000   10.20775000    4.37475000 \\nSe    18.95725000   10.20775000   10.20775000 \\nSe    18.95725000   10.20775000   16.04075000 \\nSe    18.95725000   10.20775000   21.87375000 \\nSe    18.95725000   10.20775000   27.70675000 \\nSe    18.95725000   10.20775000   33.53975000 \\nSe    18.95725000   16.04075000    4.37475000 \\nSe    18.95725000   16.04075000   10.20775000 \\nSe    18.95725000   16.04075000   16.04075000 \\nSe    18.95725000   16.04075000   21.87375000 \\nSe    18.95725000   16.04075000   27.70675000 \\nSe    18.95725000   16.04075000   33.53975000 \\nSe    18.95725000   21.87375000    4.37475000 \\nSe    18.95725000   21.87375000   10.20775000 \\nSe    18.95725000   21.87375000   16.04075000 \\nSe    18.95725000   21.87375000   21.87375000 \\nSe    18.95725000   21.87375000   27.70675000 \\nSe    18.95725000   21.87375000   33.53975000 \\nSe    18.95725000   27.70675000    4.37475000 \\nSe    18.95725000   27.70675000   10.20775000 \\nSe    18.95725000   27.70675000   16.04075000 \\nSe    18.95725000   27.70675000   21.87375000 \\nSe    18.95725000   27.70675000   27.70675000 \\nSe    18.95725000   27.70675000   33.53975000 \\nSe    18.95725000   33.53975000    4.37475000 \\nSe    18.95725000   33.53975000   10.20775000 \\nSe    18.95725000   33.53975000   16.04075000 \\nSe    18.95725000   33.53975000   21.87375000 \\nSe    18.95725000   33.53975000   27.70675000 \\nSe    18.95725000   33.53975000   33.53975000 \\nSe    24.79025000    4.37475000    4.37475000 \\nSe    24.79025000    4.37475000   10.20775000 \\nSe    24.79025000    4.37475000   16.04075000 \\nSe    24.79025000    4.37475000   21.87375000 \\nSe    24.79025000    4.37475000   27.70675000 \\nSe    24.79025000    4.37475000   33.53975000 \\nSe    24.79025000   10.20775000    4.37475000 \\nSe    24.79025000   10.20775000   10.20775000 \\nSe    24.79025000   10.20775000   16.04075000 \\nSe    24.79025000   10.20775000   21.87375000 \\nSe    24.79025000   10.20775000   27.70675000 \\nSe    24.79025000   10.20775000   33.53975000 \\nSe    24.79025000   16.04075000    4.37475000 \\nSe    24.79025000   16.04075000   10.20775000 \\nSe    24.79025000   16.04075000   16.04075000 \\nSe    24.79025000   16.04075000   21.87375000 \\nSe    24.79025000   16.04075000   27.70675000 \\nSe    24.79025000   16.04075000   33.53975000 \\nSe    24.79025000   21.87375000    4.37475000 \\nSe    24.79025000   21.87375000   10.20775000 \\nSe    24.79025000   21.87375000   16.04075000 \\nSe    24.79025000   21.87375000   21.87375000 \\nSe    24.79025000   21.87375000   27.70675000 \\nSe    24.79025000   21.87375000   33.53975000 \\nSe    24.79025000   27.70675000    4.37475000 \\nSe    24.79025000   27.70675000   10.20775000 \\nSe    24.79025000   27.70675000   16.04075000 \\nSe    24.79025000   27.70675000   21.87375000 \\nSe    24.79025000   27.70675000   27.70675000 \\nSe    24.79025000   27.70675000   33.53975000 \\nSe    24.79025000   33.53975000    4.37475000 \\nSe    24.79025000   33.53975000   10.20775000 \\nSe    24.79025000   33.53975000   16.04075000 \\nSe    24.79025000   33.53975000   21.87375000 \\nSe    24.79025000   33.53975000   27.70675000 \\nSe    24.79025000   33.53975000   33.53975000 \\nSe    30.62325000    4.37475000    4.37475000 \\nSe    30.62325000    4.37475000   10.20775000 \\nSe    30.62325000    4.37475000   16.04075000 \\nSe    30.62325000    4.37475000   21.87375000 \\nSe    30.62325000    4.37475000   27.70675000 \\nSe    30.62325000    4.37475000   33.53975000 \\nSe    30.62325000   10.20775000    4.37475000 \\nSe    30.62325000   10.20775000   10.20775000 \\nSe    30.62325000   10.20775000   16.04075000 \\nSe    30.62325000   10.20775000   21.87375000 \\nSe    30.62325000   10.20775000   27.70675000 \\nSe    30.62325000   10.20775000   33.53975000 \\nSe    30.62325000   16.04075000    4.37475000 \\nSe    30.62325000   16.04075000   10.20775000 \\nSe    30.62325000   16.04075000   16.04075000 \\nSe    30.62325000   16.04075000   21.87375000 \\nSe    30.62325000   16.04075000   27.70675000 \\nSe    30.62325000   16.04075000   33.53975000 \\nSe    30.62325000   21.87375000    4.37475000 \\nSe    30.62325000   21.87375000   10.20775000 \\nSe    30.62325000   21.87375000   16.04075000 \\nSe    30.62325000   21.87375000   21.87375000 \\nSe    30.62325000   21.87375000   27.70675000 \\nSe    30.62325000   21.87375000   33.53975000 \\nSe    30.62325000   27.70675000    4.37475000 \\nSe    30.62325000   27.70675000   10.20775000 \\nSe    30.62325000   27.70675000   16.04075000 \\nSe    30.62325000   27.70675000   21.87375000 \\nSe    30.62325000   27.70675000   27.70675000 \\nSe    30.62325000   27.70675000   33.53975000 \\nSe    30.62325000   33.53975000    4.37475000 \\nSe    30.62325000   33.53975000   10.20775000 \\nSe    30.62325000   33.53975000   16.04075000 \\nSe    30.62325000   33.53975000   21.87375000 \\nSe    30.62325000   33.53975000   27.70675000 \\nSe    30.62325000   33.53975000   33.53975000 \\nSe     4.37475000    1.45825000    4.37475000 \\nSe     4.37475000    1.45825000   10.20775000 \\nSe     4.37475000    1.45825000   16.04075000 \\nSe     4.37475000    1.45825000   21.87375000 \\nSe     4.37475000    1.45825000   27.70675000 \\nSe     4.37475000    1.45825000   33.53975000 \\nSe     4.37475000    7.29125000    4.37475000 \\nSe     4.37475000    7.29125000   10.20775000 \\nSe     4.37475000    7.29125000   16.04075000 \\nSe     4.37475000    7.29125000   21.87375000 \\nSe     4.37475000    7.29125000   27.70675000 \\nSe     4.37475000    7.29125000   33.53975000 \\nSe     4.37475000   13.12425000    4.37475000 \\nSe     4.37475000   13.12425000   10.20775000 \\nSe     4.37475000   13.12425000   16.04075000 \\nSe     4.37475000   13.12425000   21.87375000 \\nSe     4.37475000   13.12425000   27.70675000 \\nSe     4.37475000   13.12425000   33.53975000 \\nSe     4.37475000   18.95725000    4.37475000 \\nSe     4.37475000   18.95725000   10.20775000 \\nSe     4.37475000   18.95725000   16.04075000 \\nSe     4.37475000   18.95725000   21.87375000 \\nSe     4.37475000   18.95725000   27.70675000 \\nSe     4.37475000   18.95725000   33.53975000 \\nSe     4.37475000   24.79025000    4.37475000 \\nSe     4.37475000   24.79025000   10.20775000 \\nSe     4.37475000   24.79025000   16.04075000 \\nSe     4.37475000   24.79025000   21.87375000 \\nSe     4.37475000   24.79025000   27.70675000 \\nSe     4.37475000   24.79025000   33.53975000 \\nSe     4.37475000   30.62325000    4.37475000 \\nSe     4.37475000   30.62325000   10.20775000 \\nSe     4.37475000   30.62325000   16.04075000 \\nSe     4.37475000   30.62325000   21.87375000 \\nSe     4.37475000   30.62325000   27.70675000 \\nSe     4.37475000   30.62325000   33.53975000 \\nSe    10.20775000    1.45825000    4.37475000 \\nSe    10.20775000    1.45825000   10.20775000 \\nSe    10.20775000    1.45825000   16.04075000 \\nSe    10.20775000    1.45825000   21.87375000 \\nSe    10.20775000    1.45825000   27.70675000 \\nSe    10.20775000    1.45825000   33.53975000 \\nSe    10.20775000    7.29125000    4.37475000 \\nSe    10.20775000    7.29125000   10.20775000 \\nSe    10.20775000    7.29125000   16.04075000 \\nSe    10.20775000    7.29125000   21.87375000 \\nSe    10.20775000    7.29125000   27.70675000 \\nSe    10.20775000    7.29125000   33.53975000 \\nSe    10.20775000   13.12425000    4.37475000 \\nSe    10.20775000   13.12425000   10.20775000 \\nSe    10.20775000   13.12425000   16.04075000 \\nSe    10.20775000   13.12425000   21.87375000 \\nSe    10.20775000   13.12425000   27.70675000 \\nSe    10.20775000   13.12425000   33.53975000 \\nSe    10.20775000   18.95725000    4.37475000 \\nSe    10.20775000   18.95725000   10.20775000 \\nSe    10.20775000   18.95725000   16.04075000 \\nSe    10.20775000   18.95725000   21.87375000 \\nSe    10.20775000   18.95725000   27.70675000 \\nSe    10.20775000   18.95725000   33.53975000 \\nSe    10.20775000   24.79025000    4.37475000 \\nSe    10.20775000   24.79025000   10.20775000 \\nSe    10.20775000   24.79025000   16.04075000 \\nSe    10.20775000   24.79025000   21.87375000 \\nSe    10.20775000   24.79025000   27.70675000 \\nSe    10.20775000   24.79025000   33.53975000 \\nSe    10.20775000   30.62325000    4.37475000 \\nSe    10.20775000   30.62325000   10.20775000 \\nSe    10.20775000   30.62325000   16.04075000 \\nSe    10.20775000   30.62325000   21.87375000 \\nSe    10.20775000   30.62325000   27.70675000 \\nSe    10.20775000   30.62325000   33.53975000 \\nSe    16.04075000    1.45825000    4.37475000 \\nSe    16.04075000    1.45825000   10.20775000 \\nSe    16.04075000    1.45825000   16.04075000 \\nSe    16.04075000    1.45825000   21.87375000 \\nSe    16.04075000    1.45825000   27.70675000 \\nSe    16.04075000    1.45825000   33.53975000 \\nSe    16.04075000    7.29125000    4.37475000 \\nSe    16.04075000    7.29125000   10.20775000 \\nSe    16.04075000    7.29125000   16.04075000 \\nSe    16.04075000    7.29125000   21.87375000 \\nSe    16.04075000    7.29125000   27.70675000 \\nSe    16.04075000    7.29125000   33.53975000 \\nSe    16.04075000   13.12425000    4.37475000 \\nSe    16.04075000   13.12425000   10.20775000 \\nSe    16.04075000   13.12425000   16.04075000 \\nSe    16.04075000   13.12425000   21.87375000 \\nSe    16.04075000   13.12425000   27.70675000 \\nSe    16.04075000   13.12425000   33.53975000 \\nSe    16.04075000   18.95725000    4.37475000 \\nSe    16.04075000   18.95725000   10.20775000 \\nSe    16.04075000   18.95725000   16.04075000 \\nSe    16.04075000   18.95725000   21.87375000 \\nSe    16.04075000   18.95725000   27.70675000 \\nSe    16.04075000   18.95725000   33.53975000 \\nSe    16.04075000   24.79025000    4.37475000 \\nSe    16.04075000   24.79025000   10.20775000 \\nSe    16.04075000   24.79025000   16.04075000 \\nSe    16.04075000   24.79025000   21.87375000 \\nSe    16.04075000   24.79025000   27.70675000 \\nSe    16.04075000   24.79025000   33.53975000 \\nSe    16.04075000   30.62325000    4.37475000 \\nSe    16.04075000   30.62325000   10.20775000 \\nSe    16.04075000   30.62325000   16.04075000 \\nSe    16.04075000   30.62325000   21.87375000 \\nSe    16.04075000   30.62325000   27.70675000 \\nSe    16.04075000   30.62325000   33.53975000 \\nSe    21.87375000    1.45825000    4.37475000 \\nSe    21.87375000    1.45825000   10.20775000 \\nSe    21.87375000    1.45825000   16.04075000 \\nSe    21.87375000    1.45825000   21.87375000 \\nSe    21.87375000    1.45825000   27.70675000 \\nSe    21.87375000    1.45825000   33.53975000 \\nSe    21.87375000    7.29125000    4.37475000 \\nSe    21.87375000    7.29125000   10.20775000 \\nSe    21.87375000    7.29125000   16.04075000 \\nSe    21.87375000    7.29125000   21.87375000 \\nSe    21.87375000    7.29125000   27.70675000 \\nSe    21.87375000    7.29125000   33.53975000 \\nSe    21.87375000   13.12425000    4.37475000 \\nSe    21.87375000   13.12425000   10.20775000 \\nSe    21.87375000   13.12425000   16.04075000 \\nSe    21.87375000   13.12425000   21.87375000 \\nSe    21.87375000   13.12425000   27.70675000 \\nSe    21.87375000   13.12425000   33.53975000 \\nSe    21.87375000   18.95725000    4.37475000 \\nSe    21.87375000   18.95725000   10.20775000 \\nSe    21.87375000   18.95725000   16.04075000 \\nSe    21.87375000   18.95725000   21.87375000 \\nSe    21.87375000   18.95725000   27.70675000 \\nSe    21.87375000   18.95725000   33.53975000 \\nSe    21.87375000   24.79025000    4.37475000 \\nSe    21.87375000   24.79025000   10.20775000 \\nSe    21.87375000   24.79025000   16.04075000 \\nSe    21.87375000   24.79025000   21.87375000 \\nSe    21.87375000   24.79025000   27.70675000 \\nSe    21.87375000   24.79025000   33.53975000 \\nSe    21.87375000   30.62325000    4.37475000 \\nSe    21.87375000   30.62325000   10.20775000 \\nSe    21.87375000   30.62325000   16.04075000 \\nSe    21.87375000   30.62325000   21.87375000 \\nSe    21.87375000   30.62325000   27.70675000 \\nSe    21.87375000   30.62325000   33.53975000 \\nSe    27.70675000    1.45825000    4.37475000 \\nSe    27.70675000    1.45825000   10.20775000 \\nSe    27.70675000    1.45825000   16.04075000 \\nSe    27.70675000    1.45825000   21.87375000 \\nSe    27.70675000    1.45825000   27.70675000 \\nSe    27.70675000    1.45825000   33.53975000 \\nSe    27.70675000    7.29125000    4.37475000 \\nSe    27.70675000    7.29125000   10.20775000 \\nSe    27.70675000    7.29125000   16.04075000 \\nSe    27.70675000    7.29125000   21.87375000 \\nSe    27.70675000    7.29125000   27.70675000 \\nSe    27.70675000    7.29125000   33.53975000 \\nSe    27.70675000   13.12425000    4.37475000 \\nSe    27.70675000   13.12425000   10.20775000 \\nSe    27.70675000   13.12425000   16.04075000 \\nSe    27.70675000   13.12425000   21.87375000 \\nSe    27.70675000   13.12425000   27.70675000 \\nSe    27.70675000   13.12425000   33.53975000 \\nSe    27.70675000   18.95725000    4.37475000 \\nSe    27.70675000   18.95725000   10.20775000 \\nSe    27.70675000   18.95725000   16.04075000 \\nSe    27.70675000   18.95725000   21.87375000 \\nSe    27.70675000   18.95725000   27.70675000 \\nSe    27.70675000   18.95725000   33.53975000 \\nSe    27.70675000   24.79025000    4.37475000 \\nSe    27.70675000   24.79025000   10.20775000 \\nSe    27.70675000   24.79025000   16.04075000 \\nSe    27.70675000   24.79025000   21.87375000 \\nSe    27.70675000   24.79025000   27.70675000 \\nSe    27.70675000   24.79025000   33.53975000 \\nSe    27.70675000   30.62325000    4.37475000 \\nSe    27.70675000   30.62325000   10.20775000 \\nSe    27.70675000   30.62325000   16.04075000 \\nSe    27.70675000   30.62325000   21.87375000 \\nSe    27.70675000   30.62325000   27.70675000 \\nSe    27.70675000   30.62325000   33.53975000 \\nSe    33.53975000    1.45825000    4.37475000 \\nSe    33.53975000    1.45825000   10.20775000 \\nSe    33.53975000    1.45825000   16.04075000 \\nSe    33.53975000    1.45825000   21.87375000 \\nSe    33.53975000    1.45825000   27.70675000 \\nSe    33.53975000    1.45825000   33.53975000 \\nSe    33.53975000    7.29125000    4.37475000 \\nSe    33.53975000    7.29125000   10.20775000 \\nSe    33.53975000    7.29125000   16.04075000 \\nSe    33.53975000    7.29125000   21.87375000 \\nSe    33.53975000    7.29125000   27.70675000 \\nSe    33.53975000    7.29125000   33.53975000 \\nSe    33.53975000   13.12425000    4.37475000 \\nSe    33.53975000   13.12425000   10.20775000 \\nSe    33.53975000   13.12425000   16.04075000 \\nSe    33.53975000   13.12425000   21.87375000 \\nSe    33.53975000   13.12425000   27.70675000 \\nSe    33.53975000   13.12425000   33.53975000 \\nSe    33.53975000   18.95725000    4.37475000 \\nSe    33.53975000   18.95725000   10.20775000 \\nSe    33.53975000   18.95725000   16.04075000 \\nSe    33.53975000   18.95725000   21.87375000 \\nSe    33.53975000   18.95725000   27.70675000 \\nSe    33.53975000   18.95725000   33.53975000 \\nSe    33.53975000   24.79025000    4.37475000 \\nSe    33.53975000   24.79025000   10.20775000 \\nSe    33.53975000   24.79025000   16.04075000 \\nSe    33.53975000   24.79025000   21.87375000 \\nSe    33.53975000   24.79025000   27.70675000 \\nSe    33.53975000   24.79025000   33.53975000 \\nSe    33.53975000   30.62325000    4.37475000 \\nSe    33.53975000   30.62325000   10.20775000 \\nSe    33.53975000   30.62325000   16.04075000 \\nSe    33.53975000   30.62325000   21.87375000 \\nSe    33.53975000   30.62325000   27.70675000 \\nSe    33.53975000   30.62325000   33.53975000 \\nSe     4.37475000    4.37475000    1.45825000 \\nSe     4.37475000    4.37475000    7.29125000 \\nSe     4.37475000    4.37475000   13.12425000 \\nSe     4.37475000    4.37475000   18.95725000 \\nSe     4.37475000    4.37475000   24.79025000 \\nSe     4.37475000    4.37475000   30.62325000 \\nSe     4.37475000   10.20775000    1.45825000 \\nSe     4.37475000   10.20775000    7.29125000 \\nSe     4.37475000   10.20775000   13.12425000 \\nSe     4.37475000   10.20775000   18.95725000 \\nSe     4.37475000   10.20775000   24.79025000 \\nSe     4.37475000   10.20775000   30.62325000 \\nSe     4.37475000   16.04075000    1.45825000 \\nSe     4.37475000   16.04075000    7.29125000 \\nSe     4.37475000   16.04075000   13.12425000 \\nSe     4.37475000   16.04075000   18.95725000 \\nSe     4.37475000   16.04075000   24.79025000 \\nSe     4.37475000   16.04075000   30.62325000 \\nSe     4.37475000   21.87375000    1.45825000 \\nSe     4.37475000   21.87375000    7.29125000 \\nSe     4.37475000   21.87375000   13.12425000 \\nSe     4.37475000   21.87375000   18.95725000 \\nSe     4.37475000   21.87375000   24.79025000 \\nSe     4.37475000   21.87375000   30.62325000 \\nSe     4.37475000   27.70675000    1.45825000 \\nSe     4.37475000   27.70675000    7.29125000 \\nSe     4.37475000   27.70675000   13.12425000 \\nSe     4.37475000   27.70675000   18.95725000 \\nSe     4.37475000   27.70675000   24.79025000 \\nSe     4.37475000   27.70675000   30.62325000 \\nSe     4.37475000   33.53975000    1.45825000 \\nSe     4.37475000   33.53975000    7.29125000 \\nSe     4.37475000   33.53975000   13.12425000 \\nSe     4.37475000   33.53975000   18.95725000 \\nSe     4.37475000   33.53975000   24.79025000 \\nSe     4.37475000   33.53975000   30.62325000 \\nSe    10.20775000    4.37475000    1.45825000 \\nSe    10.20775000    4.37475000    7.29125000 \\nSe    10.20775000    4.37475000   13.12425000 \\nSe    10.20775000    4.37475000   18.95725000 \\nSe    10.20775000    4.37475000   24.79025000 \\nSe    10.20775000    4.37475000   30.62325000 \\nSe    10.20775000   10.20775000    1.45825000 \\nSe    10.20775000   10.20775000    7.29125000 \\nSe    10.20775000   10.20775000   13.12425000 \\nSe    10.20775000   10.20775000   18.95725000 \\nSe    10.20775000   10.20775000   24.79025000 \\nSe    10.20775000   10.20775000   30.62325000 \\nSe    10.20775000   16.04075000    1.45825000 \\nSe    10.20775000   16.04075000    7.29125000 \\nSe    10.20775000   16.04075000   13.12425000 \\nSe    10.20775000   16.04075000   18.95725000 \\nSe    10.20775000   16.04075000   24.79025000 \\nSe    10.20775000   16.04075000   30.62325000 \\nSe    10.20775000   21.87375000    1.45825000 \\nSe    10.20775000   21.87375000    7.29125000 \\nSe    10.20775000   21.87375000   13.12425000 \\nSe    10.20775000   21.87375000   18.95725000 \\nSe    10.20775000   21.87375000   24.79025000 \\nSe    10.20775000   21.87375000   30.62325000 \\nSe    10.20775000   27.70675000    1.45825000 \\nSe    10.20775000   27.70675000    7.29125000 \\nSe    10.20775000   27.70675000   13.12425000 \\nSe    10.20775000   27.70675000   18.95725000 \\nSe    10.20775000   27.70675000   24.79025000 \\nSe    10.20775000   27.70675000   30.62325000 \\nSe    10.20775000   33.53975000    1.45825000 \\nSe    10.20775000   33.53975000    7.29125000 \\nSe    10.20775000   33.53975000   13.12425000 \\nSe    10.20775000   33.53975000   18.95725000 \\nSe    10.20775000   33.53975000   24.79025000 \\nSe    10.20775000   33.53975000   30.62325000 \\nSe    16.04075000    4.37475000    1.45825000 \\nSe    16.04075000    4.37475000    7.29125000 \\nSe    16.04075000    4.37475000   13.12425000 \\nSe    16.04075000    4.37475000   18.95725000 \\nSe    16.04075000    4.37475000   24.79025000 \\nSe    16.04075000    4.37475000   30.62325000 \\nSe    16.04075000   10.20775000    1.45825000 \\nSe    16.04075000   10.20775000    7.29125000 \\nSe    16.04075000   10.20775000   13.12425000 \\nSe    16.04075000   10.20775000   18.95725000 \\nSe    16.04075000   10.20775000   24.79025000 \\nSe    16.04075000   10.20775000   30.62325000 \\nSe    16.04075000   16.04075000    1.45825000 \\nSe    16.04075000   16.04075000    7.29125000 \\nSe    16.04075000   16.04075000   13.12425000 \\nSe    16.04075000   16.04075000   18.95725000 \\nSe    16.04075000   16.04075000   24.79025000 \\nSe    16.04075000   16.04075000   30.62325000 \\nSe    16.04075000   21.87375000    1.45825000 \\nSe    16.04075000   21.87375000    7.29125000 \\nSe    16.04075000   21.87375000   13.12425000 \\nSe    16.04075000   21.87375000   18.95725000 \\nSe    16.04075000   21.87375000   24.79025000 \\nSe    16.04075000   21.87375000   30.62325000 \\nSe    16.04075000   27.70675000    1.45825000 \\nSe    16.04075000   27.70675000    7.29125000 \\nSe    16.04075000   27.70675000   13.12425000 \\nSe    16.04075000   27.70675000   18.95725000 \\nSe    16.04075000   27.70675000   24.79025000 \\nSe    16.04075000   27.70675000   30.62325000 \\nSe    16.04075000   33.53975000    1.45825000 \\nSe    16.04075000   33.53975000    7.29125000 \\nSe    16.04075000   33.53975000   13.12425000 \\nSe    16.04075000   33.53975000   18.95725000 \\nSe    16.04075000   33.53975000   24.79025000 \\nSe    16.04075000   33.53975000   30.62325000 \\nSe    21.87375000    4.37475000    1.45825000 \\nSe    21.87375000    4.37475000    7.29125000 \\nSe    21.87375000    4.37475000   13.12425000 \\nSe    21.87375000    4.37475000   18.95725000 \\nSe    21.87375000    4.37475000   24.79025000 \\nSe    21.87375000    4.37475000   30.62325000 \\nSe    21.87375000   10.20775000    1.45825000 \\nSe    21.87375000   10.20775000    7.29125000 \\nSe    21.87375000   10.20775000   13.12425000 \\nSe    21.87375000   10.20775000   18.95725000 \\nSe    21.87375000   10.20775000   24.79025000 \\nSe    21.87375000   10.20775000   30.62325000 \\nSe    21.87375000   16.04075000    1.45825000 \\nSe    21.87375000   16.04075000    7.29125000 \\nSe    21.87375000   16.04075000   13.12425000 \\nSe    21.87375000   16.04075000   18.95725000 \\nSe    21.87375000   16.04075000   24.79025000 \\nSe    21.87375000   16.04075000   30.62325000 \\nSe    21.87375000   21.87375000    1.45825000 \\nSe    21.87375000   21.87375000    7.29125000 \\nSe    21.87375000   21.87375000   13.12425000 \\nSe    21.87375000   21.87375000   18.95725000 \\nSe    21.87375000   21.87375000   24.79025000 \\nSe    21.87375000   21.87375000   30.62325000 \\nSe    21.87375000   27.70675000    1.45825000 \\nSe    21.87375000   27.70675000    7.29125000 \\nSe    21.87375000   27.70675000   13.12425000 \\nSe    21.87375000   27.70675000   18.95725000 \\nSe    21.87375000   27.70675000   24.79025000 \\nSe    21.87375000   27.70675000   30.62325000 \\nSe    21.87375000   33.53975000    1.45825000 \\nSe    21.87375000   33.53975000    7.29125000 \\nSe    21.87375000   33.53975000   13.12425000 \\nSe    21.87375000   33.53975000   18.95725000 \\nSe    21.87375000   33.53975000   24.79025000 \\nSe    21.87375000   33.53975000   30.62325000 \\nSe    27.70675000    4.37475000    1.45825000 \\nSe    27.70675000    4.37475000    7.29125000 \\nSe    27.70675000    4.37475000   13.12425000 \\nSe    27.70675000    4.37475000   18.95725000 \\nSe    27.70675000    4.37475000   24.79025000 \\nSe    27.70675000    4.37475000   30.62325000 \\nSe    27.70675000   10.20775000    1.45825000 \\nSe    27.70675000   10.20775000    7.29125000 \\nSe    27.70675000   10.20775000   13.12425000 \\nSe    27.70675000   10.20775000   18.95725000 \\nSe    27.70675000   10.20775000   24.79025000 \\nSe    27.70675000   10.20775000   30.62325000 \\nSe    27.70675000   16.04075000    1.45825000 \\nSe    27.70675000   16.04075000    7.29125000 \\nSe    27.70675000   16.04075000   13.12425000 \\nSe    27.70675000   16.04075000   18.95725000 \\nSe    27.70675000   16.04075000   24.79025000 \\nSe    27.70675000   16.04075000   30.62325000 \\nSe    27.70675000   21.87375000    1.45825000 \\nSe    27.70675000   21.87375000    7.29125000 \\nSe    27.70675000   21.87375000   13.12425000 \\nSe    27.70675000   21.87375000   18.95725000 \\nSe    27.70675000   21.87375000   24.79025000 \\nSe    27.70675000   21.87375000   30.62325000 \\nSe    27.70675000   27.70675000    1.45825000 \\nSe    27.70675000   27.70675000    7.29125000 \\nSe    27.70675000   27.70675000   13.12425000 \\nSe    27.70675000   27.70675000   18.95725000 \\nSe    27.70675000   27.70675000   24.79025000 \\nSe    27.70675000   27.70675000   30.62325000 \\nSe    27.70675000   33.53975000    1.45825000 \\nSe    27.70675000   33.53975000    7.29125000 \\nSe    27.70675000   33.53975000   13.12425000 \\nSe    27.70675000   33.53975000   18.95725000 \\nSe    27.70675000   33.53975000   24.79025000 \\nSe    27.70675000   33.53975000   30.62325000 \\nSe    33.53975000    4.37475000    1.45825000 \\nSe    33.53975000    4.37475000    7.29125000 \\nSe    33.53975000    4.37475000   13.12425000 \\nSe    33.53975000    4.37475000   18.95725000 \\nSe    33.53975000    4.37475000   24.79025000 \\nSe    33.53975000    4.37475000   30.62325000 \\nSe    33.53975000   10.20775000    1.45825000 \\nSe    33.53975000   10.20775000    7.29125000 \\nSe    33.53975000   10.20775000   13.12425000 \\nSe    33.53975000   10.20775000   18.95725000 \\nSe    33.53975000   10.20775000   24.79025000 \\nSe    33.53975000   10.20775000   30.62325000 \\nSe    33.53975000   16.04075000    1.45825000 \\nSe    33.53975000   16.04075000    7.29125000 \\nSe    33.53975000   16.04075000   13.12425000 \\nSe    33.53975000   16.04075000   18.95725000 \\nSe    33.53975000   16.04075000   24.79025000 \\nSe    33.53975000   16.04075000   30.62325000 \\nSe    33.53975000   21.87375000    1.45825000 \\nSe    33.53975000   21.87375000    7.29125000 \\nSe    33.53975000   21.87375000   13.12425000 \\nSe    33.53975000   21.87375000   18.95725000 \\nSe    33.53975000   21.87375000   24.79025000 \\nSe    33.53975000   21.87375000   30.62325000 \\nSe    33.53975000   27.70675000    1.45825000 \\nSe    33.53975000   27.70675000    7.29125000 \\nSe    33.53975000   27.70675000   13.12425000 \\nSe    33.53975000   27.70675000   18.95725000 \\nSe    33.53975000   27.70675000   24.79025000 \\nSe    33.53975000   27.70675000   30.62325000 \\nSe    33.53975000   33.53975000    1.45825000 \\nSe    33.53975000   33.53975000    7.29125000 \\nSe    33.53975000   33.53975000   13.12425000 \\nSe    33.53975000   33.53975000   18.95725000 \\nSe    33.53975000   33.53975000   24.79025000 \\nSe    33.53975000   33.53975000   30.62325000 \\n\",\"xyz\",{\"vibrate\": {\"frames\": 10, \"amplitude\": 1.0}});\n",
       "\tviewer_16222542289010527.setStyle({\"sphere\": {\"colorscheme\": \"Jmol\"}});\n",
       "viewer_16222542289010527.render();\n",
       "});\n",
       "</script>"
      ]
     },
     "metadata": {},
     "output_type": "display_data"
    }
   ],
   "source": [
    "Nx, Ny, Nz = 6, 6, 6 \n",
    "L1, R1 = build.generate_replicas_xyz2(L0, R0, a, b, c, Nx, Ny, Nz)\n",
    "\n",
    "#print( L1, len(R1))\n",
    "\n",
    "xyz = build.make_xyz(L1, R1)\n",
    "view = py3Dmol.view(width=800,height=400)  # linked=False,viewergrid=(3,2)\n",
    "view.setBackgroundColor('0xeeeeee')\n",
    "view.zoomTo()\n",
    "view.addModel(xyz,'xyz',{'vibrate': {'frames':10,'amplitude':1.0}})\n",
    "view.setStyle({'sphere':{'colorscheme':'Jmol'}})\n",
    "view.show()"
   ]
  },
  {
   "cell_type": "markdown",
   "metadata": {},
   "source": [
    "The instructions in the commented line would have resulted in a lot of text output, since the newly generated lists L1 and R1 are quite large. "
   ]
  },
  {
   "cell_type": "markdown",
   "metadata": {},
   "source": [
    "### 2.3. Atom-by-atom construction\n",
    "<a name=\"2.3.\"></a>[Back to TOC](#TOC)\n",
    "\n",
    "We can also construct systems by adding atoms to an object of the class `System` defined in the core of Libra package. The `System` class represent a general atomistic system and has mutlitude of methods and data members.\n",
    "\n",
    "Here, we are using the `add_atom_to_system` function that does such an addition:\n",
    "<a name=\"add_atom_to_system-1\"></a>"
   ]
  },
  {
   "cell_type": "code",
   "execution_count": 9,
   "metadata": {},
   "outputs": [
    {
     "name": "stdout",
     "output_type": "stream",
     "text": [
      "Help on function add_atom_to_system in module libra_py.build:\n",
      "\n",
      "add_atom_to_system(syst, coords, MaxCoords, Nx, Ny, Nz, a, b, c, shift, elt, mass, scl, max_coord, rnd, inp_units=0)\n",
      "    This function adds an atom and its periordic replicas to a (chemical) System object. \n",
      "    The momenta of the atoms are also initialized and are drawn from the normal distribution along\n",
      "    each of the directions (Cartesian x, y, and z), no center of mass momentum subtraction is made however.\n",
      "    This is good for constructing lattices.\n",
      "    \n",
      "    Args:\n",
      "        syst ( System object ): the chemical system to which we are going to add the atoms\n",
      "        coords ( list of VECTORs ): coordinates of all atoms in a system\n",
      "        MaxCoords (list of ints): Maximal coordination number of each atom\n",
      "        Nx ( int ): how many times to replicate the atom along a direction\n",
      "        Ny ( int ): how many times to replicate the atom along b direction\n",
      "        Nz ( int ): how many times to replicate the atom along c direction\n",
      "        a ( VECTOR ): the periodicity translation vector along the a direction [Bohr]\n",
      "        b ( VECTOR ): the periodicity translation vector along the b direction [Bohr]\n",
      "        c ( VECTOR ): the periodicity translation vector along the c direction [Bohr]\n",
      "        shift ( VECTOR ): essentially a coordinate of the atom in the unit cell [Bohr]\n",
      "        elt ( string ): Element name\n",
      "        mass ( double ): mass of the atom [a.u. of mass, 1 = mass of an electron]        \n",
      "        scl ( VECTOR ): momentum rescaling factors along each direction [a.u. of momentum]\n",
      "        max_coord ( int ): maximal coordination number of the added atom allowed\n",
      "        rnd ( Random ): an instance of the random number generator class\n",
      "        inp_units ( int ): defines the units of variables stored in shift, a,b, and c\n",
      "    \n",
      "            * 0 - Bohr ( default )\n",
      "            * 1 - Angstrom \n",
      "    \n",
      "    \n",
      "    Returns:\n",
      "        None: But the following objects will be updated: \n",
      "     \n",
      "        * syst - the new atoms will be added\n",
      "        * coords - the new coordinates will be added\n",
      "        * MaxCoords - the maximal coordination numbers for new atoms will be added\n",
      "\n"
     ]
    }
   ],
   "source": [
    "help(build.add_atom_to_system)"
   ]
  },
  {
   "cell_type": "markdown",
   "metadata": {},
   "source": [
    "We will add only 2 basis atoms (in the crystallochemical terms),\n",
    "and replicate each of them well in all 3 directions. \n",
    "\n",
    "Below, we identify directions of crystal periodicity vectors, which determine the shape of the resulting structure. \n",
    "<a name=\"System-1\"></a>"
   ]
  },
  {
   "cell_type": "code",
   "execution_count": 10,
   "metadata": {},
   "outputs": [],
   "source": [
    "syst1 = System()\n",
    "rnd = Random()\n",
    "\n",
    "# Unit cell parameters\n",
    "a = VECTOR(5.0, 5.0, 0.0) * units.Angst\n",
    "b = VECTOR(0.0, 5.0, 0.0) * units.Angst\n",
    "c = VECTOR(0.0, 0.0, 5.0) * units.Angst\n",
    "\n",
    "# Create a Chemical system\n",
    "Nx, Ny, Nz = 5, 5, 5  # \n",
    "\n",
    "R, MaxCoord = [], []\n",
    "build.add_atom_to_system(syst1, R, MaxCoord, Nx,Ny,Nz, a, b, c, VECTOR(0.0, 0.0, 0.0) * units.Angst, \"Na\", 2000.0, VECTOR(1.0, 1.0, 1.0), 6, rnd)\n",
    "build.add_atom_to_system(syst1, R, MaxCoord, Nx,Ny,Nz, a, b, c, VECTOR(2.5, 2.5, 2.5) * units.Angst, \"Cl\", 2000.0, VECTOR(1.0, 1.0, 1.0), 6, rnd)"
   ]
  },
  {
   "cell_type": "markdown",
   "metadata": {},
   "source": [
    "As a result, we obtained a cupercell of the NaCl system. Note: this is not true NaCl crystal structure, but we had to pick somethihg for the atom elements.\n",
    "\n",
    "<a name=\"get_xyz-1\"></a>\n",
    "To return the xyz string representing the system, we can use the `get_xyz` function, whic prints the state of the system into file in XYZ format. \n",
    "\n",
    "    std::string System::get_xyz(int fold,std::string pbc_type,int frame)\n",
    "    \n",
    "Here:    \n",
    "* **fold** Controlls the folding of the coordinates into the unit-cell \n",
    "  if fold==1 - will output coordinates folded into simulation box\n",
    "* **pbc_type** The parameter controlling the periodicity (when and if folding) of the unit cell\n",
    "  Can take values: \"a\", \"b\", \"c\", \"ab\", \"ac\", \"bc\", and \"abc\"\n",
    "* **frame** The integer index (in MD - the MD step, for instance) to be printed in the label of each record\n"
   ]
  },
  {
   "cell_type": "code",
   "execution_count": 11,
   "metadata": {},
   "outputs": [
    {
     "data": {
      "application/3dmoljs_load.v0": "<div id=\"3dmolviewer_16222542292735817\"  style=\"position: relative; width: 800px; height: 400px\">\n        <p id=\"3dmolwarning_16222542292735817\" style=\"background-color:#ffcccc;color:black\">You appear to be running in JupyterLab (or JavaScript failed to load for some other reason).  You need to install the 3dmol extension: <br>\n        <tt>jupyter labextension install jupyterlab_3dmol</tt></p>\n        </div>\n<script>\n\nvar loadScriptAsync = function(uri){\n  return new Promise((resolve, reject) => {\n    var tag = document.createElement('script');\n    tag.src = uri;\n    tag.async = true;\n    tag.onload = () => {\n      resolve();\n    };\n  var firstScriptTag = document.getElementsByTagName('script')[0];\n  firstScriptTag.parentNode.insertBefore(tag, firstScriptTag);\n});\n};\n\nif(typeof $3Dmolpromise === 'undefined') {\n$3Dmolpromise = null;\n  $3Dmolpromise = loadScriptAsync('https://3dmol.csb.pitt.edu/build/3Dmol.js');\n}\n\nvar viewer_16222542292735817 = null;\nvar warn = document.getElementById(\"3dmolwarning_16222542292735817\");\nif(warn) {\n    warn.parentNode.removeChild(warn);\n}\n$3Dmolpromise.then(function() {\nviewer_16222542292735817 = $3Dmol.createViewer($(\"#3dmolviewer_16222542292735817\"),{backgroundColor:\"white\"});\n\tviewer_16222542292735817.setBackgroundColor(\"0xeeeeee\");\n\tviewer_16222542292735817.zoomTo();\n\tviewer_16222542292735817.addModel(\"250\\nMolecule frame= 0 \\nNa 0 0 0\\nNa 0 0 5\\nNa 0 0 10\\nNa 0 0 15\\nNa 0 0 20\\nNa 0 5 0\\nNa 0 5 5\\nNa 0 5 10\\nNa 0 5 15\\nNa 0 5 20\\nNa 0 10 0\\nNa 0 10 5\\nNa 0 10 10\\nNa 0 10 15\\nNa 0 10 20\\nNa 0 15 0\\nNa 0 15 5\\nNa 0 15 10\\nNa 0 15 15\\nNa 0 15 20\\nNa 0 20 0\\nNa 0 20 5\\nNa 0 20 10\\nNa 0 20 15\\nNa 0 20 20\\nNa 5 5 0\\nNa 5 5 5\\nNa 5 5 10\\nNa 5 5 15\\nNa 5 5 20\\nNa 5 10 0\\nNa 5 10 5\\nNa 5 10 10\\nNa 5 10 15\\nNa 5 10 20\\nNa 5 15 0\\nNa 5 15 5\\nNa 5 15 10\\nNa 5 15 15\\nNa 5 15 20\\nNa 5 20 0\\nNa 5 20 5\\nNa 5 20 10\\nNa 5 20 15\\nNa 5 20 20\\nNa 5 25 0\\nNa 5 25 5\\nNa 5 25 10\\nNa 5 25 15\\nNa 5 25 20\\nNa 10 10 0\\nNa 10 10 5\\nNa 10 10 10\\nNa 10 10 15\\nNa 10 10 20\\nNa 10 15 0\\nNa 10 15 5\\nNa 10 15 10\\nNa 10 15 15\\nNa 10 15 20\\nNa 10 20 0\\nNa 10 20 5\\nNa 10 20 10\\nNa 10 20 15\\nNa 10 20 20\\nNa 10 25 0\\nNa 10 25 5\\nNa 10 25 10\\nNa 10 25 15\\nNa 10 25 20\\nNa 10 30 0\\nNa 10 30 5\\nNa 10 30 10\\nNa 10 30 15\\nNa 10 30 20\\nNa 15 15 0\\nNa 15 15 5\\nNa 15 15 10\\nNa 15 15 15\\nNa 15 15 20\\nNa 15 20 0\\nNa 15 20 5\\nNa 15 20 10\\nNa 15 20 15\\nNa 15 20 20\\nNa 15 25 0\\nNa 15 25 5\\nNa 15 25 10\\nNa 15 25 15\\nNa 15 25 20\\nNa 15 30 0\\nNa 15 30 5\\nNa 15 30 10\\nNa 15 30 15\\nNa 15 30 20\\nNa 15 35 0\\nNa 15 35 5\\nNa 15 35 10\\nNa 15 35 15\\nNa 15 35 20\\nNa 20 20 0\\nNa 20 20 5\\nNa 20 20 10\\nNa 20 20 15\\nNa 20 20 20\\nNa 20 25 0\\nNa 20 25 5\\nNa 20 25 10\\nNa 20 25 15\\nNa 20 25 20\\nNa 20 30 0\\nNa 20 30 5\\nNa 20 30 10\\nNa 20 30 15\\nNa 20 30 20\\nNa 20 35 0\\nNa 20 35 5\\nNa 20 35 10\\nNa 20 35 15\\nNa 20 35 20\\nNa 20 40 0\\nNa 20 40 5\\nNa 20 40 10\\nNa 20 40 15\\nNa 20 40 20\\nCl 2.5 2.5 2.5\\nCl 2.5 2.5 7.5\\nCl 2.5 2.5 12.5\\nCl 2.5 2.5 17.5\\nCl 2.5 2.5 22.5\\nCl 2.5 7.5 2.5\\nCl 2.5 7.5 7.5\\nCl 2.5 7.5 12.5\\nCl 2.5 7.5 17.5\\nCl 2.5 7.5 22.5\\nCl 2.5 12.5 2.5\\nCl 2.5 12.5 7.5\\nCl 2.5 12.5 12.5\\nCl 2.5 12.5 17.5\\nCl 2.5 12.5 22.5\\nCl 2.5 17.5 2.5\\nCl 2.5 17.5 7.5\\nCl 2.5 17.5 12.5\\nCl 2.5 17.5 17.5\\nCl 2.5 17.5 22.5\\nCl 2.5 22.5 2.5\\nCl 2.5 22.5 7.5\\nCl 2.5 22.5 12.5\\nCl 2.5 22.5 17.5\\nCl 2.5 22.5 22.5\\nCl 7.5 7.5 2.5\\nCl 7.5 7.5 7.5\\nCl 7.5 7.5 12.5\\nCl 7.5 7.5 17.5\\nCl 7.5 7.5 22.5\\nCl 7.5 12.5 2.5\\nCl 7.5 12.5 7.5\\nCl 7.5 12.5 12.5\\nCl 7.5 12.5 17.5\\nCl 7.5 12.5 22.5\\nCl 7.5 17.5 2.5\\nCl 7.5 17.5 7.5\\nCl 7.5 17.5 12.5\\nCl 7.5 17.5 17.5\\nCl 7.5 17.5 22.5\\nCl 7.5 22.5 2.5\\nCl 7.5 22.5 7.5\\nCl 7.5 22.5 12.5\\nCl 7.5 22.5 17.5\\nCl 7.5 22.5 22.5\\nCl 7.5 27.5 2.5\\nCl 7.5 27.5 7.5\\nCl 7.5 27.5 12.5\\nCl 7.5 27.5 17.5\\nCl 7.5 27.5 22.5\\nCl 12.5 12.5 2.5\\nCl 12.5 12.5 7.5\\nCl 12.5 12.5 12.5\\nCl 12.5 12.5 17.5\\nCl 12.5 12.5 22.5\\nCl 12.5 17.5 2.5\\nCl 12.5 17.5 7.5\\nCl 12.5 17.5 12.5\\nCl 12.5 17.5 17.5\\nCl 12.5 17.5 22.5\\nCl 12.5 22.5 2.5\\nCl 12.5 22.5 7.5\\nCl 12.5 22.5 12.5\\nCl 12.5 22.5 17.5\\nCl 12.5 22.5 22.5\\nCl 12.5 27.5 2.5\\nCl 12.5 27.5 7.5\\nCl 12.5 27.5 12.5\\nCl 12.5 27.5 17.5\\nCl 12.5 27.5 22.5\\nCl 12.5 32.5 2.5\\nCl 12.5 32.5 7.5\\nCl 12.5 32.5 12.5\\nCl 12.5 32.5 17.5\\nCl 12.5 32.5 22.5\\nCl 17.5 17.5 2.5\\nCl 17.5 17.5 7.5\\nCl 17.5 17.5 12.5\\nCl 17.5 17.5 17.5\\nCl 17.5 17.5 22.5\\nCl 17.5 22.5 2.5\\nCl 17.5 22.5 7.5\\nCl 17.5 22.5 12.5\\nCl 17.5 22.5 17.5\\nCl 17.5 22.5 22.5\\nCl 17.5 27.5 2.5\\nCl 17.5 27.5 7.5\\nCl 17.5 27.5 12.5\\nCl 17.5 27.5 17.5\\nCl 17.5 27.5 22.5\\nCl 17.5 32.5 2.5\\nCl 17.5 32.5 7.5\\nCl 17.5 32.5 12.5\\nCl 17.5 32.5 17.5\\nCl 17.5 32.5 22.5\\nCl 17.5 37.5 2.5\\nCl 17.5 37.5 7.5\\nCl 17.5 37.5 12.5\\nCl 17.5 37.5 17.5\\nCl 17.5 37.5 22.5\\nCl 22.5 22.5 2.5\\nCl 22.5 22.5 7.5\\nCl 22.5 22.5 12.5\\nCl 22.5 22.5 17.5\\nCl 22.5 22.5 22.5\\nCl 22.5 27.5 2.5\\nCl 22.5 27.5 7.5\\nCl 22.5 27.5 12.5\\nCl 22.5 27.5 17.5\\nCl 22.5 27.5 22.5\\nCl 22.5 32.5 2.5\\nCl 22.5 32.5 7.5\\nCl 22.5 32.5 12.5\\nCl 22.5 32.5 17.5\\nCl 22.5 32.5 22.5\\nCl 22.5 37.5 2.5\\nCl 22.5 37.5 7.5\\nCl 22.5 37.5 12.5\\nCl 22.5 37.5 17.5\\nCl 22.5 37.5 22.5\\nCl 22.5 42.5 2.5\\nCl 22.5 42.5 7.5\\nCl 22.5 42.5 12.5\\nCl 22.5 42.5 17.5\\nCl 22.5 42.5 22.5\\n\",\"xyz\",{\"vibrate\": {\"frames\": 10, \"amplitude\": 1.0}});\n\tviewer_16222542292735817.setStyle({\"sphere\": {\"colorscheme\": \"Jmol\"}});\nviewer_16222542292735817.render();\n});\n</script>",
      "text/html": [
       "<div id=\"3dmolviewer_16222542292735817\"  style=\"position: relative; width: 800px; height: 400px\">\n",
       "        <p id=\"3dmolwarning_16222542292735817\" style=\"background-color:#ffcccc;color:black\">You appear to be running in JupyterLab (or JavaScript failed to load for some other reason).  You need to install the 3dmol extension: <br>\n",
       "        <tt>jupyter labextension install jupyterlab_3dmol</tt></p>\n",
       "        </div>\n",
       "<script>\n",
       "\n",
       "var loadScriptAsync = function(uri){\n",
       "  return new Promise((resolve, reject) => {\n",
       "    var tag = document.createElement('script');\n",
       "    tag.src = uri;\n",
       "    tag.async = true;\n",
       "    tag.onload = () => {\n",
       "      resolve();\n",
       "    };\n",
       "  var firstScriptTag = document.getElementsByTagName('script')[0];\n",
       "  firstScriptTag.parentNode.insertBefore(tag, firstScriptTag);\n",
       "});\n",
       "};\n",
       "\n",
       "if(typeof $3Dmolpromise === 'undefined') {\n",
       "$3Dmolpromise = null;\n",
       "  $3Dmolpromise = loadScriptAsync('https://3dmol.csb.pitt.edu/build/3Dmol.js');\n",
       "}\n",
       "\n",
       "var viewer_16222542292735817 = null;\n",
       "var warn = document.getElementById(\"3dmolwarning_16222542292735817\");\n",
       "if(warn) {\n",
       "    warn.parentNode.removeChild(warn);\n",
       "}\n",
       "$3Dmolpromise.then(function() {\n",
       "viewer_16222542292735817 = $3Dmol.createViewer($(\"#3dmolviewer_16222542292735817\"),{backgroundColor:\"white\"});\n",
       "\tviewer_16222542292735817.setBackgroundColor(\"0xeeeeee\");\n",
       "\tviewer_16222542292735817.zoomTo();\n",
       "\tviewer_16222542292735817.addModel(\"250\\nMolecule frame= 0 \\nNa 0 0 0\\nNa 0 0 5\\nNa 0 0 10\\nNa 0 0 15\\nNa 0 0 20\\nNa 0 5 0\\nNa 0 5 5\\nNa 0 5 10\\nNa 0 5 15\\nNa 0 5 20\\nNa 0 10 0\\nNa 0 10 5\\nNa 0 10 10\\nNa 0 10 15\\nNa 0 10 20\\nNa 0 15 0\\nNa 0 15 5\\nNa 0 15 10\\nNa 0 15 15\\nNa 0 15 20\\nNa 0 20 0\\nNa 0 20 5\\nNa 0 20 10\\nNa 0 20 15\\nNa 0 20 20\\nNa 5 5 0\\nNa 5 5 5\\nNa 5 5 10\\nNa 5 5 15\\nNa 5 5 20\\nNa 5 10 0\\nNa 5 10 5\\nNa 5 10 10\\nNa 5 10 15\\nNa 5 10 20\\nNa 5 15 0\\nNa 5 15 5\\nNa 5 15 10\\nNa 5 15 15\\nNa 5 15 20\\nNa 5 20 0\\nNa 5 20 5\\nNa 5 20 10\\nNa 5 20 15\\nNa 5 20 20\\nNa 5 25 0\\nNa 5 25 5\\nNa 5 25 10\\nNa 5 25 15\\nNa 5 25 20\\nNa 10 10 0\\nNa 10 10 5\\nNa 10 10 10\\nNa 10 10 15\\nNa 10 10 20\\nNa 10 15 0\\nNa 10 15 5\\nNa 10 15 10\\nNa 10 15 15\\nNa 10 15 20\\nNa 10 20 0\\nNa 10 20 5\\nNa 10 20 10\\nNa 10 20 15\\nNa 10 20 20\\nNa 10 25 0\\nNa 10 25 5\\nNa 10 25 10\\nNa 10 25 15\\nNa 10 25 20\\nNa 10 30 0\\nNa 10 30 5\\nNa 10 30 10\\nNa 10 30 15\\nNa 10 30 20\\nNa 15 15 0\\nNa 15 15 5\\nNa 15 15 10\\nNa 15 15 15\\nNa 15 15 20\\nNa 15 20 0\\nNa 15 20 5\\nNa 15 20 10\\nNa 15 20 15\\nNa 15 20 20\\nNa 15 25 0\\nNa 15 25 5\\nNa 15 25 10\\nNa 15 25 15\\nNa 15 25 20\\nNa 15 30 0\\nNa 15 30 5\\nNa 15 30 10\\nNa 15 30 15\\nNa 15 30 20\\nNa 15 35 0\\nNa 15 35 5\\nNa 15 35 10\\nNa 15 35 15\\nNa 15 35 20\\nNa 20 20 0\\nNa 20 20 5\\nNa 20 20 10\\nNa 20 20 15\\nNa 20 20 20\\nNa 20 25 0\\nNa 20 25 5\\nNa 20 25 10\\nNa 20 25 15\\nNa 20 25 20\\nNa 20 30 0\\nNa 20 30 5\\nNa 20 30 10\\nNa 20 30 15\\nNa 20 30 20\\nNa 20 35 0\\nNa 20 35 5\\nNa 20 35 10\\nNa 20 35 15\\nNa 20 35 20\\nNa 20 40 0\\nNa 20 40 5\\nNa 20 40 10\\nNa 20 40 15\\nNa 20 40 20\\nCl 2.5 2.5 2.5\\nCl 2.5 2.5 7.5\\nCl 2.5 2.5 12.5\\nCl 2.5 2.5 17.5\\nCl 2.5 2.5 22.5\\nCl 2.5 7.5 2.5\\nCl 2.5 7.5 7.5\\nCl 2.5 7.5 12.5\\nCl 2.5 7.5 17.5\\nCl 2.5 7.5 22.5\\nCl 2.5 12.5 2.5\\nCl 2.5 12.5 7.5\\nCl 2.5 12.5 12.5\\nCl 2.5 12.5 17.5\\nCl 2.5 12.5 22.5\\nCl 2.5 17.5 2.5\\nCl 2.5 17.5 7.5\\nCl 2.5 17.5 12.5\\nCl 2.5 17.5 17.5\\nCl 2.5 17.5 22.5\\nCl 2.5 22.5 2.5\\nCl 2.5 22.5 7.5\\nCl 2.5 22.5 12.5\\nCl 2.5 22.5 17.5\\nCl 2.5 22.5 22.5\\nCl 7.5 7.5 2.5\\nCl 7.5 7.5 7.5\\nCl 7.5 7.5 12.5\\nCl 7.5 7.5 17.5\\nCl 7.5 7.5 22.5\\nCl 7.5 12.5 2.5\\nCl 7.5 12.5 7.5\\nCl 7.5 12.5 12.5\\nCl 7.5 12.5 17.5\\nCl 7.5 12.5 22.5\\nCl 7.5 17.5 2.5\\nCl 7.5 17.5 7.5\\nCl 7.5 17.5 12.5\\nCl 7.5 17.5 17.5\\nCl 7.5 17.5 22.5\\nCl 7.5 22.5 2.5\\nCl 7.5 22.5 7.5\\nCl 7.5 22.5 12.5\\nCl 7.5 22.5 17.5\\nCl 7.5 22.5 22.5\\nCl 7.5 27.5 2.5\\nCl 7.5 27.5 7.5\\nCl 7.5 27.5 12.5\\nCl 7.5 27.5 17.5\\nCl 7.5 27.5 22.5\\nCl 12.5 12.5 2.5\\nCl 12.5 12.5 7.5\\nCl 12.5 12.5 12.5\\nCl 12.5 12.5 17.5\\nCl 12.5 12.5 22.5\\nCl 12.5 17.5 2.5\\nCl 12.5 17.5 7.5\\nCl 12.5 17.5 12.5\\nCl 12.5 17.5 17.5\\nCl 12.5 17.5 22.5\\nCl 12.5 22.5 2.5\\nCl 12.5 22.5 7.5\\nCl 12.5 22.5 12.5\\nCl 12.5 22.5 17.5\\nCl 12.5 22.5 22.5\\nCl 12.5 27.5 2.5\\nCl 12.5 27.5 7.5\\nCl 12.5 27.5 12.5\\nCl 12.5 27.5 17.5\\nCl 12.5 27.5 22.5\\nCl 12.5 32.5 2.5\\nCl 12.5 32.5 7.5\\nCl 12.5 32.5 12.5\\nCl 12.5 32.5 17.5\\nCl 12.5 32.5 22.5\\nCl 17.5 17.5 2.5\\nCl 17.5 17.5 7.5\\nCl 17.5 17.5 12.5\\nCl 17.5 17.5 17.5\\nCl 17.5 17.5 22.5\\nCl 17.5 22.5 2.5\\nCl 17.5 22.5 7.5\\nCl 17.5 22.5 12.5\\nCl 17.5 22.5 17.5\\nCl 17.5 22.5 22.5\\nCl 17.5 27.5 2.5\\nCl 17.5 27.5 7.5\\nCl 17.5 27.5 12.5\\nCl 17.5 27.5 17.5\\nCl 17.5 27.5 22.5\\nCl 17.5 32.5 2.5\\nCl 17.5 32.5 7.5\\nCl 17.5 32.5 12.5\\nCl 17.5 32.5 17.5\\nCl 17.5 32.5 22.5\\nCl 17.5 37.5 2.5\\nCl 17.5 37.5 7.5\\nCl 17.5 37.5 12.5\\nCl 17.5 37.5 17.5\\nCl 17.5 37.5 22.5\\nCl 22.5 22.5 2.5\\nCl 22.5 22.5 7.5\\nCl 22.5 22.5 12.5\\nCl 22.5 22.5 17.5\\nCl 22.5 22.5 22.5\\nCl 22.5 27.5 2.5\\nCl 22.5 27.5 7.5\\nCl 22.5 27.5 12.5\\nCl 22.5 27.5 17.5\\nCl 22.5 27.5 22.5\\nCl 22.5 32.5 2.5\\nCl 22.5 32.5 7.5\\nCl 22.5 32.5 12.5\\nCl 22.5 32.5 17.5\\nCl 22.5 32.5 22.5\\nCl 22.5 37.5 2.5\\nCl 22.5 37.5 7.5\\nCl 22.5 37.5 12.5\\nCl 22.5 37.5 17.5\\nCl 22.5 37.5 22.5\\nCl 22.5 42.5 2.5\\nCl 22.5 42.5 7.5\\nCl 22.5 42.5 12.5\\nCl 22.5 42.5 17.5\\nCl 22.5 42.5 22.5\\n\",\"xyz\",{\"vibrate\": {\"frames\": 10, \"amplitude\": 1.0}});\n",
       "\tviewer_16222542292735817.setStyle({\"sphere\": {\"colorscheme\": \"Jmol\"}});\n",
       "viewer_16222542292735817.render();\n",
       "});\n",
       "</script>"
      ]
     },
     "metadata": {},
     "output_type": "display_data"
    }
   ],
   "source": [
    "xyz = syst1.get_xyz(0, \"abc\", 0)\n",
    "view = py3Dmol.view(width=800,height=400)  # linked=False,viewergrid=(3,2)\n",
    "view.setBackgroundColor('0xeeeeee')\n",
    "view.zoomTo()\n",
    "view.addModel(xyz,'xyz',{'vibrate': {'frames':10,'amplitude':1.0}})\n",
    "view.setStyle({'sphere':{'colorscheme':'Jmol'}})\n",
    "view.show()"
   ]
  },
  {
   "cell_type": "markdown",
   "metadata": {},
   "source": [
    "### 2.4. All atoms together - using crystal coordinates\n",
    "<a name=\"2.4.\"></a>[Back to TOC](#TOC)\n",
    "\n",
    "Alternatively, to create a supercell of a crystal, we can read a file in the xyz format, create replicas, and add them to the `System` object.\n",
    "\n",
    "Here, we are going to read a file containing unit cell of the MAPI system in crystal coordinates system. \n",
    "\n",
    "To do this, we use:\n",
    "<a name=\"read_xyz_crystal-1\"></a>"
   ]
  },
  {
   "cell_type": "code",
   "execution_count": 12,
   "metadata": {
    "scrolled": false
   },
   "outputs": [
    {
     "name": "stdout",
     "output_type": "stream",
     "text": [
      "Help on function read_xyz_crystal in module libra_py.build:\n",
      "\n",
      "read_xyz_crystal(filename, a, b, c, inp_units=0, out_units=0)\n",
      "    Read an xyz file with atomic coordinates given in fractional lattice vector units\n",
      "    \n",
      "    Args:\n",
      "        filename ( string ): the name of the xyz file to read\n",
      "        a ( VECTOR ): the unit cell vector in the direction a [units defined by inp_units]\n",
      "        b ( VECTOR ): the unit cell vector in the direction b [units defined by inp_units]\n",
      "        c ( VECTOR ): the unit cell vector in the direction c [units defined by inp_units]\n",
      "        inp_units ( int ): defines the units of a,b,c:\n",
      "    \n",
      "            * 0 - Bohr ( default )\n",
      "            * 1 - Angstrom \n",
      "    \n",
      "        out_units ( int ): defines the units of the coordinates in the ourput variable:\n",
      "    \n",
      "            * 0 - Bohr ( default )\n",
      "            * 1 - Angstrom \n",
      "    \n",
      "    Returns: \n",
      "        tuple: (L, coords), where:\n",
      "    \n",
      "            * L ( list of N strings ): the labels of N atoms read\n",
      "            * coords ( list of N VECTORs ): the coordinates of N atoms read [defined by out_units]\n",
      "\n"
     ]
    }
   ],
   "source": [
    "help(build.read_xyz_crystal)"
   ]
  },
  {
   "cell_type": "code",
   "execution_count": 13,
   "metadata": {
    "scrolled": true
   },
   "outputs": [
    {
     "name": "stdout",
     "output_type": "stream",
     "text": [
      "['C', 'C', 'C', 'C', 'C', 'C', 'C', 'C', 'N', 'N', 'N', 'N', 'N', 'N', 'N', 'N', 'H', 'H', 'H', 'H', 'H', 'H', 'H', 'H', 'H', 'H', 'H', 'H', 'H', 'H', 'H', 'H', 'H', 'H', 'H', 'H', 'H', 'H', 'H', 'H', 'H', 'H', 'H', 'H', 'H', 'H', 'H', 'H', 'H', 'H', 'H', 'H', 'H', 'H', 'H', 'H', 'H', 'H', 'H', 'H', 'H', 'H', 'H', 'H', 'Pb', 'Pb', 'Pb', 'Pb', 'Pb', 'Pb', 'Pb', 'Pb', 'I', 'I', 'I', 'I', 'I', 'I', 'I', 'I', 'I', 'I', 'I', 'I', 'I', 'I', 'I', 'I', 'I', 'I', 'I', 'I', 'I', 'I', 'I', 'I']\n",
      "6.487873926104878 7.943980795283024 7.445056766278085\n",
      "6.844447225710289 7.943046811195377 23.706608782335106\n",
      "6.491808855628773 23.83864396239548 7.445056766278085\n",
      "6.8483821552341855 23.83771318787515 23.706608782335106\n",
      "22.535710483591227 7.943980795283024 7.445056766278085\n",
      "22.89228378319664 7.943046811195377 23.706608782335106\n",
      "22.539645413115124 23.83864396239548 7.445056766278085\n",
      "22.896218712720533 23.83771318787515 23.706608782335106\n",
      "9.971608896484868 7.946917549373045 8.90758918921385\n",
      "10.32818219609028 7.945983565285398 25.169141205270872\n",
      "9.975543826008764 23.841580716485502 8.90758918921385\n",
      "10.332117125614175 23.840646732397854 25.169141205270872\n",
      "26.01944545397122 7.946917549373045 8.90758918921385\n",
      "26.37601875357663 7.945983565285398 25.169141205270872\n",
      "26.023380383495113 23.841580716485502 8.90758918921385\n",
      "26.379953683100528 23.840646732397854 25.169141205270872\n",
      "6.685888181387702 7.9413746266260885 4.647193492095816\n",
      "7.042461480993114 7.940443852105754 20.908777603825953\n",
      "6.689823110911597 23.836008907632742 4.647193492095816\n",
      "7.046399620084321 23.835074923545093 20.908777603825953\n",
      "22.733724738874056 7.9413746266260885 4.647193492095816\n",
      "23.090298038479464 7.940443852105754 20.908777603825953\n",
      "22.73765966839795 23.836008907632742 4.647193492095816\n",
      "23.094236177570668 23.835074923545093 20.908777603825953\n",
      "5.138340739504997 10.246867808253496 8.310173168120993\n",
      "5.49491403911041 10.24593382416585 24.5717219746107\n",
      "5.142275669028893 26.141530975365953 8.310173168120993\n",
      "5.498848968634305 26.140600200845615 24.5717219746107\n",
      "21.18617729699135 10.246867808253496 8.310173168120993\n",
      "21.54275059659676 10.24593382416585 24.5717219746107\n",
      "21.190112226515247 26.141530975365953 8.310173168120993\n",
      "21.546685526120655 26.140600200845615 24.5717219746107\n",
      "5.140664466238522 5.641376224235964 8.314563856203122\n",
      "5.497240975411245 5.640442240148318 24.576147967933256\n",
      "5.1446026053297285 21.536007295675304 8.314563856203122\n",
      "5.501175904935141 21.53507331158766 24.576147967933256\n",
      "21.18850102372487 5.641376224235964 8.314563856203122\n",
      "21.545077532897594 5.640442240148318 24.576147967933256\n",
      "21.19243916281608 21.536007295675304 8.314563856203122\n",
      "21.549012462421494 21.53507331158766 24.576147967933256\n",
      "11.354922779038256 10.104523497988593 8.155394994091349\n",
      "11.711499288210979 10.103592723468259 24.416979105821486\n",
      "11.358860918129464 25.99918987466836 8.155394994091349\n",
      "11.715434217734876 25.99825589058071 24.416979105821486\n",
      "27.402759336524607 10.104523497988593 8.155394994091349\n",
      "27.759335845697333 10.103592723468259 24.416979105821486\n",
      "27.406697475615815 25.99918987466836 8.155394994091349\n",
      "27.763270775221226 25.99825589058071 24.416979105821486\n",
      "11.356229072934035 5.788505999362311 8.159753586500363\n",
      "11.712805582106759 5.787572015274665 24.4213376982305\n",
      "11.360167212025242 21.68316916647477 8.159753586500363\n",
      "11.716740511630654 21.682235182387124 24.4213376982305\n",
      "27.404065630420387 5.788505999362311 8.159753586500363\n",
      "27.760642139593113 5.787572015274665 24.4213376982305\n",
      "27.408003769511595 21.68316916647477 8.159753586500363\n",
      "27.764577069117006 21.682235182387124 24.4213376982305\n",
      "9.98601664414618 7.949626424183948 11.56554100515333\n",
      "10.342589943751591 7.948692440096302 27.827121907316155\n",
      "9.989951573670075 23.844289591296402 11.56554100515333\n",
      "10.346528082842799 23.843355607208757 27.827121907316155\n",
      "26.033853201632528 7.949626424183948 11.56554100515333\n",
      "26.39042650123794 7.948692440096302 27.827121907316155\n",
      "26.037788131156425 23.844289591296402 11.56554100515333\n",
      "26.39436464032915 23.843355607208757 27.827121907316155\n",
      "15.515876452144171 15.893401807159035 15.897683369952572\n",
      "15.872449751749585 15.892471032638705 32.1592642721154\n",
      "15.519811381668065 31.788064974271492 15.897683369952572\n",
      "15.876384681273478 31.787134199751158 32.1592642721154\n",
      "31.563713009630526 15.893401807159035 15.897683369952572\n",
      "31.920286309235934 15.892471032638705 32.1592642721154\n",
      "31.567647939154416 31.788064974271492 15.897683369952572\n",
      "31.92422123875983 31.787134199751158 32.1592642721154\n",
      "14.76867634375836 15.893934595332746 7.72660963954456\n",
      "15.125249643363771 15.893003820812412 23.988193751274697\n",
      "14.772611273282257 31.788565666772087 7.72660963954456\n",
      "15.12918457288767 31.787634892251752 23.988193751274697\n",
      "30.816480805571594 15.893934595332746 7.72660963954456\n",
      "31.17305410517701 15.893003820812412 23.988193751274697\n",
      "30.82041573509549 31.788565666772087 7.72660963954456\n",
      "31.176989034700906 31.787634892251752 23.988193751274697\n",
      "14.441743398274625 7.946641526584256 0.3848142823792767\n",
      "14.798316697880038 7.945710752063921 16.6463951845421\n",
      "14.44568153736583 23.841275807590907 0.3848142823792767\n",
      "14.802254836971244 23.84034182350326 16.6463951845421\n",
      "30.489579955760977 7.946641526584256 0.3848142823792767\n",
      "30.846153255366392 7.945710752063921 16.6463951845421\n",
      "30.49351809485218 23.841275807590907 0.3848142823792767\n",
      "30.850091394457596 23.84034182350326 16.6463951845421\n",
      "7.271021188379457 15.893709925620941 15.000955939658727\n",
      "7.627597697552181 15.892775941533294 31.26254005138886\n",
      "7.274959327470665 31.78834099706028 15.000955939658727\n",
      "7.631532627076077 31.787407012972636 31.26254005138886\n",
      "23.31885774586581 15.893709925620941 15.000955939658727\n",
      "23.67543425503853 15.892775941533294 31.26254005138886\n",
      "23.322795884957017 31.78834099706028 15.000955939658727\n",
      "23.679369184562425 31.787407012972636 31.26254005138886\n"
     ]
    }
   ],
   "source": [
    "a = VECTOR(16.9843, 0.0, 0.0) # a.u.\n",
    "b = VECTOR(0.0, 16.9843, 0.0) # a.u.\n",
    "c = VECTOR(0.0, 0.0, 16.9843) # a.u.\n",
    "\n",
    "L0, R0raw = build.read_xyz_crystal(\"perov_madjet.xyz\", a, b, c, 1, 0)  # in Bohr\n",
    "\n",
    "print(L0)\n",
    "for r in R0raw:\n",
    "    print(r.x, r.y, r.z)"
   ]
  },
  {
   "cell_type": "markdown",
   "metadata": {},
   "source": [
    "Note that since we were reading the atomic coordiantes are fractional coordinates in teerms of unit cell lattice parameters, we had to defined the latter. \n",
    "\n",
    "The output Cartesian coordinates of the resulting atoms to in Bohrs (a.u.), wheres the lattice translational vectors are give in Angstroms. Thus we set the parameters to the above function as `inp_units=1` and `out_units=0`."
   ]
  },
  {
   "cell_type": "code",
   "execution_count": 14,
   "metadata": {
    "scrolled": true
   },
   "outputs": [
    {
     "name": "stdout",
     "output_type": "stream",
     "text": [
      "3.4332352753100004 4.20377390242 3.93975465735\n",
      "3.62192575302 4.20327965929 12.544998015760001\n",
      "3.43531755049 12.6148680291 3.93975465735\n",
      "3.6240080282000005 12.614375484400002 12.544998015760001\n",
      "11.925385275310001 4.20377390242 3.93975465735\n",
      "12.11407575302 4.20327965929 12.544998015760001\n",
      "11.92746755049 12.6148680291 3.93975465735\n",
      "12.1161580282 12.614375484400002 12.544998015760001\n",
      "5.276748562770001 4.2053279658700005 4.7136935413200005\n",
      "5.465439040480001 4.20483372274 13.318936899730001\n",
      "5.27883083795 12.616422092550001 4.7136935413200005\n",
      "5.46752131566 12.61592784942 13.318936899730001\n",
      "13.768898562770001 4.2053279658700005 4.7136935413200005\n",
      "13.95758904048 4.20483372274 13.318936899730001\n",
      "13.77098083795 12.616422092550001 4.7136935413200005\n",
      "13.959671315660001 12.61592784942 13.318936899730001\n",
      "3.5380199141600004 4.20239477726 2.45918906717\n",
      "3.72671039187 4.20190223256 11.064449409880002\n",
      "3.54010218934 12.613473618070001 2.45918906717\n",
      "3.72879436548 12.61297937494 11.064449409880002\n",
      "12.030169914160002 4.20239477726 2.45918906717\n",
      "12.21886039187 4.20190223256 11.064449409880002\n",
      "12.032252189340001 12.613473618070001 2.45918906717\n",
      "12.22094436548 12.61297937494 11.064449409880002\n",
      "2.71909301635 5.4224093164300005 4.39755457484\n",
      "2.9077834940600003 5.4219150733 13.00279623482\n",
      "2.7211752915300003 13.833503443110002 4.39755457484\n",
      "2.90986576924 13.83301089841 13.00279623482\n",
      "11.211243016350002 5.4224093164300005 4.39755457484\n",
      "11.39993349406 5.4219150733 13.00279623482\n",
      "11.213325291530001 13.833503443110002 4.39755457484\n",
      "11.40201576924 13.83301089841 13.00279623482\n",
      "2.72032267967 2.98528795025 4.399878027080001\n",
      "2.90901485581 2.98479370712 13.00513836979\n",
      "2.72240665328 11.39636509263 4.399878027080001\n",
      "2.9110971309900004 11.395870849500001 13.00513836979\n",
      "11.21247267967 2.98528795025 4.399878027080001\n",
      "11.40116485581 2.98479370712 13.00513836979\n",
      "11.21455665328 11.39636509263 4.399878027080001\n",
      "11.403247130990001 11.395870849500001 13.00513836979\n",
      "6.00876679748 5.347083945930001 4.31564948652\n",
      "6.19745897362 5.34659140123 12.920909829230002\n",
      "6.01085077109 13.758179771040002 4.31564948652\n",
      "6.1995412488 13.75768552791 12.920909829230002\n",
      "14.50091679748 5.347083945930001 4.31564948652\n",
      "14.689608973620002 5.34659140123 12.920909829230002\n",
      "14.50300077109 13.758179771040002 4.31564948652\n",
      "14.691691248800002 13.75768552791 12.920909829230002\n",
      "6.00945805849 3.0631456798800003 4.31795595446\n",
      "6.19815023463 3.06265143675 12.92321629717\n",
      "6.0115420321 11.474239806560002 4.31795595446\n",
      "6.20023250981 11.473745563430002 12.92321629717\n",
      "14.501608058490001 3.0631456798800003 4.31795595446\n",
      "14.690300234630001 3.06265143675 12.92321629717\n",
      "14.503692032100002 11.474239806560002 4.31795595446\n",
      "14.69238250981 11.473745563430002 12.92321629717\n",
      "5.28437281504 4.20676144079 6.12022117094\n",
      "5.47306329275 4.20626719766 14.725479815220002\n",
      "5.2864550902200005 12.61785556747 6.12022117094\n",
      "5.4751472663600005 12.617361324340001 14.725479815220002\n",
      "13.77652281504 4.20676144079 6.12022117094\n",
      "13.96521329275 4.20626719766 14.725479815220002\n",
      "13.778605090220001 12.61785556747 6.12022117094\n",
      "13.967297266360001 12.617361324340001 14.725479815220002\n",
      "8.21064881494 8.41042664369 8.41269234931\n",
      "8.399339292650001 8.409934098990002 17.017950993590002\n",
      "8.21273109012 16.82152077037 8.41269234931\n",
      "8.40142156783 16.821028225670002 17.017950993590002\n",
      "16.702798814940003 8.41042664369 8.41269234931\n",
      "16.89148929265 8.409934098990002 17.017950993590002\n",
      "16.70488109012 16.82152077037 8.41269234931\n",
      "16.89357156783 16.821028225670002 17.017950993590002\n",
      "7.81524751722 8.41070858307 4.08874603224\n",
      "8.00393799493 8.41021603837 12.694006374950002\n",
      "7.817329792400001 16.821785725450003 4.08874603224\n",
      "8.006020270110001 16.82129318075 12.694006374950002\n",
      "16.30738053292 8.41070858307 4.08874603224\n",
      "16.49607101063 8.41021603837 12.694006374950002\n",
      "16.3094628081 16.821785725450003 4.08874603224\n",
      "16.49815328581 16.82129318075 12.694006374950002\n",
      "7.64224204056 4.20518190089 0.20363496328\n",
      "7.830932518270001 4.20468935619 8.808893607560002\n",
      "7.64432601417 12.616260741700001 0.20363496328\n",
      "7.8330164918800005 12.61576649857 8.808893607560002\n",
      "16.13439204056 4.20518190089 0.20363496328\n",
      "16.323082518270002 4.20468935619 8.808893607560002\n",
      "16.13647601417 12.616260741700001 0.20363496328\n",
      "16.32516649188 12.61576649857 8.808893607560002\n",
      "3.84765898903 8.410589692970001 7.93816459475\n",
      "4.03635116517 8.41009544984 16.54342493746\n",
      "3.84974296264 16.82166683535 7.93816459475\n",
      "4.03843344035 16.82117259222 16.54342493746\n",
      "12.33980898903 8.410589692970001 7.93816459475\n",
      "12.52850116517 8.41009544984 16.54342493746\n",
      "12.341892962640001 16.82166683535 7.93816459475\n",
      "12.53058344035 16.82117259222 16.54342493746\n"
     ]
    }
   ],
   "source": [
    "L0, R0raw = build.read_xyz_crystal(\"perov_madjet.xyz\", a, b, c)  # in Bohr\n",
    "\n",
    "R0 = []\n",
    "for r in R0raw:\n",
    "    R0.append( r )   # coordinates in a.u.\n",
    "    print( r.x, r.y, r.z)"
   ]
  },
  {
   "cell_type": "markdown",
   "metadata": {},
   "source": [
    "As before, we first create the needed number of replicas of the unit cell, then we define the required \"masses\" \n",
    "variales for all atoms, and finally we add them all to the `System` object. Note, we use the `add_atoms_to_system`, instead of the `add_atom_to_system` function considered above:\n",
    "<a name=\"add_atoms_to_system-1\"></a>"
   ]
  },
  {
   "cell_type": "code",
   "execution_count": 15,
   "metadata": {
    "scrolled": true
   },
   "outputs": [
    {
     "name": "stdout",
     "output_type": "stream",
     "text": [
      "Help on function add_atoms_to_system in module libra_py.build:\n",
      "\n",
      "add_atoms_to_system(syst, L, R, scl, mass, univ_file)\n",
      "    Args:    \n",
      "        syst ( System object ): the chemical system to which we are going to add the atoms\n",
      "        L ( list of strings ): element names    \n",
      "        R ( list of VECTOR objects ): coordinates of the particles [ Bohrs ]\n",
      "        scl ( VECTOR ): momentum rescaling factors along each direction [a.u. of momentum]\n",
      "        mass ( list of doubles ): atomic masses [a.u. of mass]\n",
      "        univ_file ( string ): name of the file that contains the Universe properties\n",
      "    \n",
      "    Returns:\n",
      "        None: but adds new atoms to the System object, modifies the syst variable\n",
      "\n"
     ]
    }
   ],
   "source": [
    "help(build.add_atoms_to_system)"
   ]
  },
  {
   "cell_type": "markdown",
   "metadata": {},
   "source": [
    "<a name=\"init_box-1\"></a>\n",
    "To setup the supercell properties of the created `System` object, we use the `init_box` member function.\n",
    "\n",
    "    // This function automatically determines the size of the box\n",
    "    // based on the system size. The box will be cubical or parallelepiped\n",
    "    void System::init_box()\n",
    "    \n",
    "    void System::init_box(VECTOR tv1,VECTOR tv2,VECTOR tv3){\n",
    "    /**\n",
    "      tv1 The vector defining the \"a\" unit cell direction\n",
    "      tv2 The vector defining the \"b\" unit cell direction\n",
    "      tv3 The vector defining the \"c\" unit cell direction\n",
    "\n",
    "     This function creats the box based on argument vectors\n",
    "    */\n",
    "       \n",
    "    void System::init_box(double maxx,double maxy,double maxz){\n",
    "    /**\n",
    "      maxx The length of the \"a\" (Cartesian X) unit cell dimension\n",
    "      maxy The length of the \"b\" (Cartesian Y) unit cell dimension\n",
    "      maxz The length of the \"c\" (Cartesian Z) unit cell dimension\n",
    "\n",
    "     This function creates the parralelepiped box with dimensions\n",
    "     given by the arguments     \n",
    "    */\n",
    "    \n",
    "<a name=\"generate_replicas_xyz2-2\"></a><a name=\"add_atoms_to_system-2\"></a>    "
   ]
  },
  {
   "cell_type": "code",
   "execution_count": 16,
   "metadata": {},
   "outputs": [],
   "source": [
    "Nx, Ny, Nz = 1, 1, 1\n",
    "L1, R1 = build.generate_replicas_xyz2(L0, R0, a, b, c, Nx, Ny, Nz)\n",
    "\n",
    "masses = []\n",
    "for i in range(len(L1)):\n",
    "    masses.append(1.0)\n",
    "\n",
    "# Create the system\n",
    "syst2 = System()\n",
    "build.add_atoms_to_system(syst2, L1, R1, VECTOR(1.0, 1.0, 1.0), masses, \"elements.dat\")\n",
    "syst2.init_box(a*Nx, b*Ny, c*Nz)"
   ]
  },
  {
   "cell_type": "markdown",
   "metadata": {},
   "source": [
    "<a name=\"print_ent-1\"></a>\n",
    "Finally, we can print out the coordinates of atoms and the supercell translation vectors into the .ent format file recognized by packages such as VMD using the `print_ent` function, which prints the state of the system into a file in Brookhaven PDB format (ENT). The `print_ent` comese with the following signatures:\n",
    "\n",
    "    void System::print_ent(std::string filename)\n",
    "    \n",
    "    void System::print_ent(std::string filename,int fold,std::string pbc_type)\n",
    "    \n",
    "    void System::print_ent(std::string filename,boost::python::list atoms_list)\n",
    "\n",
    "    void System::print_ent(std::string filename,boost::python::list atoms_list,int fold,std::string pbc_type)\n",
    "    \n",
    "Here:\n",
    "\n",
    "\n",
    "* **filename** is the name of the file where the info will be printed out\n",
    "* **fold** controlls the folding of the coordinates into the unit-cell  \n",
    "  if fold==1 is will output coordinates folded into simulation box, if 0 - periodicity is not accounted for\n",
    "* **pbc_type** the parameter controlling the periodicity (if `fold==1`) of the unit cell\n",
    "  Can take values: \"a\", \"b\", \"c\", \"ab\", \"ac\", \"bc\", and \"abc\"\n",
    "* **atoms_list** is the list of the atom IDs for the atoms to be printed out (atom IDs start from 0)\n",
    "\n",
    "The versions that don't check for `fold` and `pbc_type` options, it is assumes that `fold==1` and `pbc_type==\"abc\"`. The versions that don't check for `atoms_list` assume the operation is done for the entire system.\n",
    "\n",
    "We will test all 4 version to potentially see some difference:"
   ]
  },
  {
   "cell_type": "code",
   "execution_count": 17,
   "metadata": {},
   "outputs": [],
   "source": [
    "# And print it out in the .ent format. Note, this will only print out the coordinates, and not the connectivities\n",
    "# The entire system with the 3D folding\n",
    "syst2.print_ent(\"perov_madjet-1.ent\") \n",
    "\n",
    "# The entire system folded only in a and b directions\n",
    "syst2.print_ent(\"perov_madjet-2.ent\", 1, \"ab\") \n",
    "\n",
    "# Print only methylammonium molecules, fold in 3 dimentions\n",
    "syst2.print_ent(\"perov_madjet-3.ent\", list(range(0, 64)) ) \n",
    "\n",
    "# Print only methylammonium molecules, but fold only in c direction\n",
    "syst2.print_ent(\"perov_madjet-4.ent\", list(range(0, 64)), 1, \"c\") "
   ]
  },
  {
   "cell_type": "markdown",
   "metadata": {},
   "source": [
    "Having the periodicity information in this files is important for visualizing the periodic images of the supercell in the VMD program\n",
    "\n",
    "The visualized structures are as follows (this was done outside of this tutorial file):\n",
    "\n",
    "|     |  Case 1 |  Case 3 | \n",
    "|-----|---------|---------|\n",
    "| Original | ![](pm-1-orig.png)   |   ![](pm-3-orig.png) |\n",
    "| VMD replicas | ![](pm-1-xyz.png)  | ![](pm-3-xyz.png)  |\n"
   ]
  },
  {
   "cell_type": "markdown",
   "metadata": {},
   "source": [
    "Alternatively, we can obtain the geometries in the xyz format using the `get_xyz` funtion, as before\n",
    "<a name=\"get_xyz-2\"></a>"
   ]
  },
  {
   "cell_type": "code",
   "execution_count": 18,
   "metadata": {},
   "outputs": [
    {
     "data": {
      "application/3dmoljs_load.v0": "<div id=\"3dmolviewer_1622254230653986\"  style=\"position: relative; width: 800px; height: 400px\">\n        <p id=\"3dmolwarning_1622254230653986\" style=\"background-color:#ffcccc;color:black\">You appear to be running in JupyterLab (or JavaScript failed to load for some other reason).  You need to install the 3dmol extension: <br>\n        <tt>jupyter labextension install jupyterlab_3dmol</tt></p>\n        </div>\n<script>\n\nvar loadScriptAsync = function(uri){\n  return new Promise((resolve, reject) => {\n    var tag = document.createElement('script');\n    tag.src = uri;\n    tag.async = true;\n    tag.onload = () => {\n      resolve();\n    };\n  var firstScriptTag = document.getElementsByTagName('script')[0];\n  firstScriptTag.parentNode.insertBefore(tag, firstScriptTag);\n});\n};\n\nif(typeof $3Dmolpromise === 'undefined') {\n$3Dmolpromise = null;\n  $3Dmolpromise = loadScriptAsync('https://3dmol.csb.pitt.edu/build/3Dmol.js');\n}\n\nvar viewer_1622254230653986 = null;\nvar warn = document.getElementById(\"3dmolwarning_1622254230653986\");\nif(warn) {\n    warn.parentNode.removeChild(warn);\n}\n$3Dmolpromise.then(function() {\nviewer_1622254230653986 = $3Dmol.createViewer($(\"#3dmolviewer_1622254230653986\"),{backgroundColor:\"white\"});\n\tviewer_1622254230653986.setBackgroundColor(\"0xeeeeee\");\n\tviewer_1622254230653986.zoomTo();\n\tviewer_1622254230653986.addModel(\"96\\nMolecule frame= 0 8.9877 8.9877 8.9877 90 90 90\\nC 1.81679 2.22454 2.08483\\nC 1.91664 2.22428 6.63853\\nC 1.81789 6.6755 2.08483\\nC 1.91774 6.67524 6.63853\\nC 6.31064 2.22454 2.08483\\nC 6.41049 2.22428 6.63853\\nC 6.31174 6.6755 2.08483\\nC 6.41159 6.67524 6.63853\\nN 2.79234 2.22536 2.49438\\nN 2.89219 2.2251 7.04808\\nN 2.79344 6.67632 2.49438\\nN 2.89329 6.67606 7.04808\\nN 7.28619 2.22536 2.49438\\nN 7.38604 2.2251 7.04808\\nN 7.28729 6.67632 2.49438\\nN 7.38714 6.67606 7.04808\\nH 1.87224 2.22381 1.30135\\nH 1.97209 2.22355 5.85505\\nH 1.87334 6.67476 1.30135\\nH 1.97319 6.6745 5.85505\\nH 6.36609 2.22381 1.30135\\nH 6.46594 2.22355 5.85505\\nH 6.36719 6.67476 1.30135\\nH 6.46705 6.6745 5.85505\\nH 1.43888 2.86942 2.32709\\nH 1.53873 2.86915 6.88078\\nH 1.43998 7.32037 2.32709\\nH 1.53983 7.32011 6.88078\\nH 5.93273 2.86942 2.32709\\nH 6.03258 2.86915 6.88078\\nH 5.93384 7.32037 2.32709\\nH 6.03369 7.32011 6.88078\\nH 1.43953 1.57975 2.32832\\nH 1.53938 1.57948 6.88202\\nH 1.44064 6.0307 2.32832\\nH 1.54049 6.03044 6.88202\\nH 5.93338 1.57975 2.32832\\nH 6.03324 1.57948 6.88202\\nH 5.93449 6.0307 2.32832\\nH 6.03434 6.03044 6.88202\\nH 3.1797 2.82955 2.28374\\nH 3.27955 2.82929 6.83745\\nH 3.18081 7.28052 2.28374\\nH 3.28066 7.28025 6.83745\\nH 7.67355 2.82955 2.28374\\nH 7.77341 2.82929 6.83745\\nH 7.67466 7.28052 2.28374\\nH 7.77451 7.28025 6.83745\\nH 3.18007 1.62095 2.28496\\nH 3.27992 1.62069 6.83867\\nH 3.18117 6.07191 2.28496\\nH 3.28102 6.07164 6.83867\\nH 7.67392 1.62095 2.28496\\nH 7.77377 1.62069 6.83867\\nH 7.67502 6.07191 2.28496\\nH 7.77487 6.07164 6.83867\\nH 2.79637 2.22612 3.23868\\nH 2.89622 2.22586 7.79239\\nH 2.79747 6.67708 3.23868\\nH 2.89732 6.67682 7.79239\\nH 7.29022 2.22612 3.23868\\nH 7.39007 2.22586 7.79239\\nH 7.29132 6.67708 3.23868\\nH 7.39118 6.67682 7.79239\\nPb 4.34489 4.45061 4.45181\\nPb 4.44474 4.45035 9.00551\\nPb 4.34599 8.90157 4.45181\\nPb 4.44584 8.9013 9.00551\\nPb 8.83874 4.45061 4.45181\\nPb 8.93859 4.45035 9.00551\\nPb 8.83984 8.90157 4.45181\\nPb 8.93969 8.9013 9.00551\\nI 4.13565 4.45076 2.16367\\nI 4.2355 4.45049 6.71738\\nI 4.13675 8.90171 2.16367\\nI 4.2366 8.90144 6.71738\\nI 8.62949 4.45076 2.16367\\nI 8.72934 4.45049 6.71738\\nI 8.6306 8.90171 2.16367\\nI 8.73045 8.90144 6.71738\\nI 4.0441 2.22529 0.107759\\nI 4.14395 2.22503 4.66147\\nI 4.0452 6.67624 0.107759\\nI 4.14505 6.67598 4.66147\\nI 8.53795 2.22529 0.107759\\nI 8.6378 2.22503 4.66147\\nI 8.53906 6.67624 0.107759\\nI 8.63891 6.67598 4.66147\\nI 2.03609 4.45069 4.2007\\nI 2.13595 4.45043 8.7544\\nI 2.0372 8.90164 4.2007\\nI 2.13705 8.90138 8.7544\\nI 6.52995 4.45069 4.2007\\nI 6.6298 4.45043 8.7544\\nI 6.53105 8.90164 4.2007\\nI 6.6309 8.90138 8.7544\\n\",\"xyz\",{\"vibrate\": {\"frames\": 10, \"amplitude\": 1.0}});\n\tviewer_1622254230653986.setStyle({\"sphere\": {\"colorscheme\": \"Jmol\"}});\nviewer_1622254230653986.render();\n});\n</script>",
      "text/html": [
       "<div id=\"3dmolviewer_1622254230653986\"  style=\"position: relative; width: 800px; height: 400px\">\n",
       "        <p id=\"3dmolwarning_1622254230653986\" style=\"background-color:#ffcccc;color:black\">You appear to be running in JupyterLab (or JavaScript failed to load for some other reason).  You need to install the 3dmol extension: <br>\n",
       "        <tt>jupyter labextension install jupyterlab_3dmol</tt></p>\n",
       "        </div>\n",
       "<script>\n",
       "\n",
       "var loadScriptAsync = function(uri){\n",
       "  return new Promise((resolve, reject) => {\n",
       "    var tag = document.createElement('script');\n",
       "    tag.src = uri;\n",
       "    tag.async = true;\n",
       "    tag.onload = () => {\n",
       "      resolve();\n",
       "    };\n",
       "  var firstScriptTag = document.getElementsByTagName('script')[0];\n",
       "  firstScriptTag.parentNode.insertBefore(tag, firstScriptTag);\n",
       "});\n",
       "};\n",
       "\n",
       "if(typeof $3Dmolpromise === 'undefined') {\n",
       "$3Dmolpromise = null;\n",
       "  $3Dmolpromise = loadScriptAsync('https://3dmol.csb.pitt.edu/build/3Dmol.js');\n",
       "}\n",
       "\n",
       "var viewer_1622254230653986 = null;\n",
       "var warn = document.getElementById(\"3dmolwarning_1622254230653986\");\n",
       "if(warn) {\n",
       "    warn.parentNode.removeChild(warn);\n",
       "}\n",
       "$3Dmolpromise.then(function() {\n",
       "viewer_1622254230653986 = $3Dmol.createViewer($(\"#3dmolviewer_1622254230653986\"),{backgroundColor:\"white\"});\n",
       "\tviewer_1622254230653986.setBackgroundColor(\"0xeeeeee\");\n",
       "\tviewer_1622254230653986.zoomTo();\n",
       "\tviewer_1622254230653986.addModel(\"96\\nMolecule frame= 0 8.9877 8.9877 8.9877 90 90 90\\nC 1.81679 2.22454 2.08483\\nC 1.91664 2.22428 6.63853\\nC 1.81789 6.6755 2.08483\\nC 1.91774 6.67524 6.63853\\nC 6.31064 2.22454 2.08483\\nC 6.41049 2.22428 6.63853\\nC 6.31174 6.6755 2.08483\\nC 6.41159 6.67524 6.63853\\nN 2.79234 2.22536 2.49438\\nN 2.89219 2.2251 7.04808\\nN 2.79344 6.67632 2.49438\\nN 2.89329 6.67606 7.04808\\nN 7.28619 2.22536 2.49438\\nN 7.38604 2.2251 7.04808\\nN 7.28729 6.67632 2.49438\\nN 7.38714 6.67606 7.04808\\nH 1.87224 2.22381 1.30135\\nH 1.97209 2.22355 5.85505\\nH 1.87334 6.67476 1.30135\\nH 1.97319 6.6745 5.85505\\nH 6.36609 2.22381 1.30135\\nH 6.46594 2.22355 5.85505\\nH 6.36719 6.67476 1.30135\\nH 6.46705 6.6745 5.85505\\nH 1.43888 2.86942 2.32709\\nH 1.53873 2.86915 6.88078\\nH 1.43998 7.32037 2.32709\\nH 1.53983 7.32011 6.88078\\nH 5.93273 2.86942 2.32709\\nH 6.03258 2.86915 6.88078\\nH 5.93384 7.32037 2.32709\\nH 6.03369 7.32011 6.88078\\nH 1.43953 1.57975 2.32832\\nH 1.53938 1.57948 6.88202\\nH 1.44064 6.0307 2.32832\\nH 1.54049 6.03044 6.88202\\nH 5.93338 1.57975 2.32832\\nH 6.03324 1.57948 6.88202\\nH 5.93449 6.0307 2.32832\\nH 6.03434 6.03044 6.88202\\nH 3.1797 2.82955 2.28374\\nH 3.27955 2.82929 6.83745\\nH 3.18081 7.28052 2.28374\\nH 3.28066 7.28025 6.83745\\nH 7.67355 2.82955 2.28374\\nH 7.77341 2.82929 6.83745\\nH 7.67466 7.28052 2.28374\\nH 7.77451 7.28025 6.83745\\nH 3.18007 1.62095 2.28496\\nH 3.27992 1.62069 6.83867\\nH 3.18117 6.07191 2.28496\\nH 3.28102 6.07164 6.83867\\nH 7.67392 1.62095 2.28496\\nH 7.77377 1.62069 6.83867\\nH 7.67502 6.07191 2.28496\\nH 7.77487 6.07164 6.83867\\nH 2.79637 2.22612 3.23868\\nH 2.89622 2.22586 7.79239\\nH 2.79747 6.67708 3.23868\\nH 2.89732 6.67682 7.79239\\nH 7.29022 2.22612 3.23868\\nH 7.39007 2.22586 7.79239\\nH 7.29132 6.67708 3.23868\\nH 7.39118 6.67682 7.79239\\nPb 4.34489 4.45061 4.45181\\nPb 4.44474 4.45035 9.00551\\nPb 4.34599 8.90157 4.45181\\nPb 4.44584 8.9013 9.00551\\nPb 8.83874 4.45061 4.45181\\nPb 8.93859 4.45035 9.00551\\nPb 8.83984 8.90157 4.45181\\nPb 8.93969 8.9013 9.00551\\nI 4.13565 4.45076 2.16367\\nI 4.2355 4.45049 6.71738\\nI 4.13675 8.90171 2.16367\\nI 4.2366 8.90144 6.71738\\nI 8.62949 4.45076 2.16367\\nI 8.72934 4.45049 6.71738\\nI 8.6306 8.90171 2.16367\\nI 8.73045 8.90144 6.71738\\nI 4.0441 2.22529 0.107759\\nI 4.14395 2.22503 4.66147\\nI 4.0452 6.67624 0.107759\\nI 4.14505 6.67598 4.66147\\nI 8.53795 2.22529 0.107759\\nI 8.6378 2.22503 4.66147\\nI 8.53906 6.67624 0.107759\\nI 8.63891 6.67598 4.66147\\nI 2.03609 4.45069 4.2007\\nI 2.13595 4.45043 8.7544\\nI 2.0372 8.90164 4.2007\\nI 2.13705 8.90138 8.7544\\nI 6.52995 4.45069 4.2007\\nI 6.6298 4.45043 8.7544\\nI 6.53105 8.90164 4.2007\\nI 6.6309 8.90138 8.7544\\n\",\"xyz\",{\"vibrate\": {\"frames\": 10, \"amplitude\": 1.0}});\n",
       "\tviewer_1622254230653986.setStyle({\"sphere\": {\"colorscheme\": \"Jmol\"}});\n",
       "viewer_1622254230653986.render();\n",
       "});\n",
       "</script>"
      ]
     },
     "metadata": {},
     "output_type": "display_data"
    }
   ],
   "source": [
    "xyz = syst2.get_xyz(0, \"abc\", 0)\n",
    "view = py3Dmol.view(width=800,height=400)  # linked=False,viewergrid=(3,2)\n",
    "view.setBackgroundColor('0xeeeeee')\n",
    "view.zoomTo()\n",
    "view.addModel(xyz,'xyz',{'vibrate': {'frames':10,'amplitude':1.0}})\n",
    "view.setStyle({'sphere':{'colorscheme':'Jmol'}})\n",
    "view.show()"
   ]
  },
  {
   "cell_type": "markdown",
   "metadata": {},
   "source": [
    "### 2.5. All atoms together - using Cartesian coordinates\n",
    "<a name=\"2.5.\"></a>[Back to TOC](#TOC)\n",
    "\n",
    "Here, we use the `read_xyz` function we already encountered. We use it to read in the atomic coordinates of the unit cell (in Angstrom)\n",
    "\n",
    "We then set the unit cell vectors (also in Angstrom)\n",
    "\n",
    "Then, we generate a 2x1x1 supercell, add atoms to `System` object, setup the supercell box, and print the coordinates in the .ent file format.\n",
    "<a name=\"add_atoms_to_system-3\"></a><a name=\"print_ent-2\"></a>"
   ]
  },
  {
   "cell_type": "code",
   "execution_count": 19,
   "metadata": {
    "scrolled": true
   },
   "outputs": [],
   "source": [
    "L0, R0raw = build.read_xyz(\"perov_weili.xyz\")  # in Bohr\n",
    "\n",
    "a = VECTOR(8.8009, 0.0,      0.0)*units.Angst     # conversion to a.u.\n",
    "b = VECTOR(0.0,    8.009,    0.0)*units.Angst     # conversion to a.u.\n",
    "c = VECTOR(0.0,    0.0,  12.6857)*units.Angst     # conversion to a.u.\n",
    "\n",
    "R0 = []\n",
    "for r in R0raw:\n",
    "    R0.append( r )   # coordinates in a.u.\n",
    "    #print(r.x, r.y, r.z)\n",
    "    \n",
    "\n",
    "Nx, Ny, Nz = 1, 1, 1\n",
    "L1, R1 = build.generate_replicas_xyz2(L0, R0, a, b, c, Nx, Ny, Nz, inp_units=0, out_units=0)\n",
    "\n",
    "\n",
    "masses = []\n",
    "for i in range(len(L1)):\n",
    "    masses.append(1.0)\n",
    "\n",
    "# Create the system\n",
    "syst3 = System()\n",
    "build.add_atoms_to_system(syst3, L1, R1, VECTOR(1.0, 1.0, 1.0), masses, \"elements.dat\")\n",
    "syst3.init_box(a*Nx,b*Ny,c*Nz)\n",
    "\n",
    "# And print it out in the .ent format. Note, this will only print out the coordinates, and not the connectivities\n",
    "syst3.print_ent(\"perov_weili-0.ent\", 0, \"abc\")     \n",
    "syst3.print_ent(\"perov_weili-1.ent\", 1, \"abc\")     "
   ]
  },
  {
   "cell_type": "markdown",
   "metadata": {},
   "source": [
    "Note that in this case we demonstrated the difference between doing and not doing the folding. \n",
    "\n",
    "It makes the original pictures different (because of the way VMD draws the bonds is affected by the atomic coordination), but the physical meaning of files is the same. The visual differences become negligible when periodic images are shown.\n",
    "\n",
    "After VMD visualization, we obtain:\n",
    "\n",
    "|              |   No folding        |   With folding      |\n",
    "|--------------|---------------------|---------------------|\n",
    "| Original     | ![](pwl-0-orig.png) | ![](pwl-1-orig.png) |\n",
    "| VMD replicas | ![](pwl-0-xyz.png)  | ![](pwl-1-xyz.png)  |\n"
   ]
  },
  {
   "cell_type": "code",
   "execution_count": 20,
   "metadata": {},
   "outputs": [
    {
     "data": {
      "application/3dmoljs_load.v0": "<div id=\"3dmolviewer_16222542309284325\"  style=\"position: relative; width: 800px; height: 400px\">\n        <p id=\"3dmolwarning_16222542309284325\" style=\"background-color:#ffcccc;color:black\">You appear to be running in JupyterLab (or JavaScript failed to load for some other reason).  You need to install the 3dmol extension: <br>\n        <tt>jupyter labextension install jupyterlab_3dmol</tt></p>\n        </div>\n<script>\n\nvar loadScriptAsync = function(uri){\n  return new Promise((resolve, reject) => {\n    var tag = document.createElement('script');\n    tag.src = uri;\n    tag.async = true;\n    tag.onload = () => {\n      resolve();\n    };\n  var firstScriptTag = document.getElementsByTagName('script')[0];\n  firstScriptTag.parentNode.insertBefore(tag, firstScriptTag);\n});\n};\n\nif(typeof $3Dmolpromise === 'undefined') {\n$3Dmolpromise = null;\n  $3Dmolpromise = loadScriptAsync('https://3dmol.csb.pitt.edu/build/3Dmol.js');\n}\n\nvar viewer_16222542309284325 = null;\nvar warn = document.getElementById(\"3dmolwarning_16222542309284325\");\nif(warn) {\n    warn.parentNode.removeChild(warn);\n}\n$3Dmolpromise.then(function() {\nviewer_16222542309284325 = $3Dmol.createViewer($(\"#3dmolviewer_16222542309284325\"),{backgroundColor:\"white\"});\n\tviewer_16222542309284325.setBackgroundColor(\"0xeeeeee\");\n\tviewer_16222542309284325.zoomTo();\n\tviewer_16222542309284325.addModel(\"48\\nMolecule frame= 0 8.8009 8.009 12.6857 90 90 90\\nH 4.67445 7.98143 10.2947\\nH 4.83107 0.93777 10.4781\\nH 5.83087 0.06246 9.28618\\nH 2.97277 8.44903 8.94455\\nH 3.4249 1.26162 8.67095\\nH 4.13243 8.79925 7.77375\\nH 0.88917 5.47267 9.38048\\nH 7.94411 5.13786 9.41211\\nH 8.79131 5.4201 7.83917\\nH 0.80521 3.31274 7.83617\\nH 0.98209 3.20692 9.50467\\nH 8.28708 2.97087 8.80661\\nH 2.68029 8.2762 3.15639\\nH 3.9503 0.3443 4.04843\\nH 3.8757 7.34943 4.13625\\nH 5.56558 7.81125 2.59105\\nH 4.26952 7.5128 1.60945\\nH 4.83434 0.27471 1.84689\\nH 7.73909 3.80583 3.00207\\nH 8.622 4.62973 4.3263\\nH 0.52607 3.15744 3.53993\\nH 0.46204 4.48009 1.43304\\nH 0.1819 5.86407 2.37267\\nH 1.58572 5.01247 2.52088\\nPb 8.72684 8.4925 12.6194\\nPb 4.54783 4.27738 12.4628\\nPb 0.30953 8.78796 6.31037\\nPb 4.89057 4.36774 6.13877\\nC 3.72976 8.23915 3.50557\\nC 4.83838 0.12123 9.76332\\nC 8.73036 4.07009 3.4056\\nC 0.07906 4.99164 8.83944\\nI 1.41262 2.59584 12.5814\\nI 6.07079 1.91928 0.6546\\nI 2.58042 6.97925 12.3531\\nI 6.9471 6.1867 12.1277\\nI 2.17604 2.32306 6.04311\\nI 2.42153 6.5852 6.39067\\nI 6.99007 2.19913 6.33952\\nI 6.45976 6.99202 6.42532\\nI 8.34769 8.33441 3.04834\\nI 4.5147 4.50206 2.95534\\nI 0.12653 0.2309 9.45652\\nI 3.98305 4.15584 9.13841\\nN 4.65115 8.15467 2.32575\\nN 3.78935 0.27519 8.73203\\nN 0.58497 4.90774 2.36029\\nN 0.33408 3.55281 8.75411\\n\",\"xyz\",{\"vibrate\": {\"frames\": 10, \"amplitude\": 1.0}});\n\tviewer_16222542309284325.setStyle({\"sphere\": {\"colorscheme\": \"Jmol\"}});\nviewer_16222542309284325.render();\n});\n</script>",
      "text/html": [
       "<div id=\"3dmolviewer_16222542309284325\"  style=\"position: relative; width: 800px; height: 400px\">\n",
       "        <p id=\"3dmolwarning_16222542309284325\" style=\"background-color:#ffcccc;color:black\">You appear to be running in JupyterLab (or JavaScript failed to load for some other reason).  You need to install the 3dmol extension: <br>\n",
       "        <tt>jupyter labextension install jupyterlab_3dmol</tt></p>\n",
       "        </div>\n",
       "<script>\n",
       "\n",
       "var loadScriptAsync = function(uri){\n",
       "  return new Promise((resolve, reject) => {\n",
       "    var tag = document.createElement('script');\n",
       "    tag.src = uri;\n",
       "    tag.async = true;\n",
       "    tag.onload = () => {\n",
       "      resolve();\n",
       "    };\n",
       "  var firstScriptTag = document.getElementsByTagName('script')[0];\n",
       "  firstScriptTag.parentNode.insertBefore(tag, firstScriptTag);\n",
       "});\n",
       "};\n",
       "\n",
       "if(typeof $3Dmolpromise === 'undefined') {\n",
       "$3Dmolpromise = null;\n",
       "  $3Dmolpromise = loadScriptAsync('https://3dmol.csb.pitt.edu/build/3Dmol.js');\n",
       "}\n",
       "\n",
       "var viewer_16222542309284325 = null;\n",
       "var warn = document.getElementById(\"3dmolwarning_16222542309284325\");\n",
       "if(warn) {\n",
       "    warn.parentNode.removeChild(warn);\n",
       "}\n",
       "$3Dmolpromise.then(function() {\n",
       "viewer_16222542309284325 = $3Dmol.createViewer($(\"#3dmolviewer_16222542309284325\"),{backgroundColor:\"white\"});\n",
       "\tviewer_16222542309284325.setBackgroundColor(\"0xeeeeee\");\n",
       "\tviewer_16222542309284325.zoomTo();\n",
       "\tviewer_16222542309284325.addModel(\"48\\nMolecule frame= 0 8.8009 8.009 12.6857 90 90 90\\nH 4.67445 7.98143 10.2947\\nH 4.83107 0.93777 10.4781\\nH 5.83087 0.06246 9.28618\\nH 2.97277 8.44903 8.94455\\nH 3.4249 1.26162 8.67095\\nH 4.13243 8.79925 7.77375\\nH 0.88917 5.47267 9.38048\\nH 7.94411 5.13786 9.41211\\nH 8.79131 5.4201 7.83917\\nH 0.80521 3.31274 7.83617\\nH 0.98209 3.20692 9.50467\\nH 8.28708 2.97087 8.80661\\nH 2.68029 8.2762 3.15639\\nH 3.9503 0.3443 4.04843\\nH 3.8757 7.34943 4.13625\\nH 5.56558 7.81125 2.59105\\nH 4.26952 7.5128 1.60945\\nH 4.83434 0.27471 1.84689\\nH 7.73909 3.80583 3.00207\\nH 8.622 4.62973 4.3263\\nH 0.52607 3.15744 3.53993\\nH 0.46204 4.48009 1.43304\\nH 0.1819 5.86407 2.37267\\nH 1.58572 5.01247 2.52088\\nPb 8.72684 8.4925 12.6194\\nPb 4.54783 4.27738 12.4628\\nPb 0.30953 8.78796 6.31037\\nPb 4.89057 4.36774 6.13877\\nC 3.72976 8.23915 3.50557\\nC 4.83838 0.12123 9.76332\\nC 8.73036 4.07009 3.4056\\nC 0.07906 4.99164 8.83944\\nI 1.41262 2.59584 12.5814\\nI 6.07079 1.91928 0.6546\\nI 2.58042 6.97925 12.3531\\nI 6.9471 6.1867 12.1277\\nI 2.17604 2.32306 6.04311\\nI 2.42153 6.5852 6.39067\\nI 6.99007 2.19913 6.33952\\nI 6.45976 6.99202 6.42532\\nI 8.34769 8.33441 3.04834\\nI 4.5147 4.50206 2.95534\\nI 0.12653 0.2309 9.45652\\nI 3.98305 4.15584 9.13841\\nN 4.65115 8.15467 2.32575\\nN 3.78935 0.27519 8.73203\\nN 0.58497 4.90774 2.36029\\nN 0.33408 3.55281 8.75411\\n\",\"xyz\",{\"vibrate\": {\"frames\": 10, \"amplitude\": 1.0}});\n",
       "\tviewer_16222542309284325.setStyle({\"sphere\": {\"colorscheme\": \"Jmol\"}});\n",
       "viewer_16222542309284325.render();\n",
       "});\n",
       "</script>"
      ]
     },
     "metadata": {},
     "output_type": "display_data"
    }
   ],
   "source": [
    "xyz = syst3.get_xyz(0, \"abc\", 0)\n",
    "view = py3Dmol.view(width=800,height=400)  # linked=False,viewergrid=(3,2)\n",
    "view.setBackgroundColor('0xeeeeee')\n",
    "view.zoomTo()\n",
    "view.addModel(xyz,'xyz',{'vibrate': {'frames':10,'amplitude':1.0}})\n",
    "view.setStyle({'sphere':{'colorscheme':'Jmol'}})\n",
    "view.show()"
   ]
  },
  {
   "cell_type": "markdown",
   "metadata": {},
   "source": [
    "## 3. Determining connectivities\n",
    "<a name=\"3.\"></a>[Back to TOC](#TOC)\n",
    "\n",
    "In this section, we demonstrate the utilities for finding the connectivities between atoms, which is important when it comes to quantum dot building and atom replacements discussed below. \n",
    "\n",
    "The connectivities are also important for setting up the classical force field calculations, because the declaration that two atoms are connected together makes the interaction to be of the \"bonded\" type as opposed to the \"non-bonded\"\n",
    "\n",
    "We consider than simple case of Si. Let's load the xyz file"
   ]
  },
  {
   "cell_type": "code",
   "execution_count": 21,
   "metadata": {},
   "outputs": [
    {
     "name": "stdout",
     "output_type": "stream",
     "text": [
      "['Si', 'Si', 'Si', 'Si'] [<liblibra_core.VECTOR object at 0x7f5a57e95850>, <liblibra_core.VECTOR object at 0x7f5a57e95920>, <liblibra_core.VECTOR object at 0x7f5a57e95a58>, <liblibra_core.VECTOR object at 0x7f5a57e95ac0>]\n"
     ]
    }
   ],
   "source": [
    "L, R = build.read_xyz(\"Si.xyz\")\n",
    "print( L, R)"
   ]
  },
  {
   "cell_type": "code",
   "execution_count": 22,
   "metadata": {},
   "outputs": [
    {
     "data": {
      "application/3dmoljs_load.v0": "<div id=\"3dmolviewer_16222542311420095\"  style=\"position: relative; width: 800px; height: 400px\">\n        <p id=\"3dmolwarning_16222542311420095\" style=\"background-color:#ffcccc;color:black\">You appear to be running in JupyterLab (or JavaScript failed to load for some other reason).  You need to install the 3dmol extension: <br>\n        <tt>jupyter labextension install jupyterlab_3dmol</tt></p>\n        </div>\n<script>\n\nvar loadScriptAsync = function(uri){\n  return new Promise((resolve, reject) => {\n    var tag = document.createElement('script');\n    tag.src = uri;\n    tag.async = true;\n    tag.onload = () => {\n      resolve();\n    };\n  var firstScriptTag = document.getElementsByTagName('script')[0];\n  firstScriptTag.parentNode.insertBefore(tag, firstScriptTag);\n});\n};\n\nif(typeof $3Dmolpromise === 'undefined') {\n$3Dmolpromise = null;\n  $3Dmolpromise = loadScriptAsync('https://3dmol.csb.pitt.edu/build/3Dmol.js');\n}\n\nvar viewer_16222542311420095 = null;\nvar warn = document.getElementById(\"3dmolwarning_16222542311420095\");\nif(warn) {\n    warn.parentNode.removeChild(warn);\n}\n$3Dmolpromise.then(function() {\nviewer_16222542311420095 = $3Dmol.createViewer($(\"#3dmolviewer_16222542311420095\"),{backgroundColor:\"white\"});\n\tviewer_16222542311420095.setBackgroundColor(\"0xeeeeee\");\n\tviewer_16222542311420095.zoomTo();\n\tviewer_16222542311420095.addModel(\"4\\n\\nSi     0.00000000    0.00000000    0.00000000 \\nSi     2.91650000    2.91650000    0.00000000 \\nSi     2.91650000    0.00000000    2.91650000 \\nSi     0.00000000    2.91650000    2.91650000 \\n\",\"xyz\",{\"vibrate\": {\"frames\": 10, \"amplitude\": 1.0}});\n\tviewer_16222542311420095.setStyle({\"sphere\": {\"colorscheme\": \"Jmol\"}});\nviewer_16222542311420095.render();\n});\n</script>",
      "text/html": [
       "<div id=\"3dmolviewer_16222542311420095\"  style=\"position: relative; width: 800px; height: 400px\">\n",
       "        <p id=\"3dmolwarning_16222542311420095\" style=\"background-color:#ffcccc;color:black\">You appear to be running in JupyterLab (or JavaScript failed to load for some other reason).  You need to install the 3dmol extension: <br>\n",
       "        <tt>jupyter labextension install jupyterlab_3dmol</tt></p>\n",
       "        </div>\n",
       "<script>\n",
       "\n",
       "var loadScriptAsync = function(uri){\n",
       "  return new Promise((resolve, reject) => {\n",
       "    var tag = document.createElement('script');\n",
       "    tag.src = uri;\n",
       "    tag.async = true;\n",
       "    tag.onload = () => {\n",
       "      resolve();\n",
       "    };\n",
       "  var firstScriptTag = document.getElementsByTagName('script')[0];\n",
       "  firstScriptTag.parentNode.insertBefore(tag, firstScriptTag);\n",
       "});\n",
       "};\n",
       "\n",
       "if(typeof $3Dmolpromise === 'undefined') {\n",
       "$3Dmolpromise = null;\n",
       "  $3Dmolpromise = loadScriptAsync('https://3dmol.csb.pitt.edu/build/3Dmol.js');\n",
       "}\n",
       "\n",
       "var viewer_16222542311420095 = null;\n",
       "var warn = document.getElementById(\"3dmolwarning_16222542311420095\");\n",
       "if(warn) {\n",
       "    warn.parentNode.removeChild(warn);\n",
       "}\n",
       "$3Dmolpromise.then(function() {\n",
       "viewer_16222542311420095 = $3Dmol.createViewer($(\"#3dmolviewer_16222542311420095\"),{backgroundColor:\"white\"});\n",
       "\tviewer_16222542311420095.setBackgroundColor(\"0xeeeeee\");\n",
       "\tviewer_16222542311420095.zoomTo();\n",
       "\tviewer_16222542311420095.addModel(\"4\\n\\nSi     0.00000000    0.00000000    0.00000000 \\nSi     2.91650000    2.91650000    0.00000000 \\nSi     2.91650000    0.00000000    2.91650000 \\nSi     0.00000000    2.91650000    2.91650000 \\n\",\"xyz\",{\"vibrate\": {\"frames\": 10, \"amplitude\": 1.0}});\n",
       "\tviewer_16222542311420095.setStyle({\"sphere\": {\"colorscheme\": \"Jmol\"}});\n",
       "viewer_16222542311420095.render();\n",
       "});\n",
       "</script>"
      ]
     },
     "metadata": {},
     "output_type": "display_data"
    },
    {
     "name": "stdout",
     "output_type": "stream",
     "text": [
      "4\n",
      "\n",
      "Si     0.00000000    0.00000000    0.00000000 \n",
      "Si     2.91650000    2.91650000    0.00000000 \n",
      "Si     2.91650000    0.00000000    2.91650000 \n",
      "Si     0.00000000    2.91650000    2.91650000 \n",
      "\n"
     ]
    }
   ],
   "source": [
    "xyz = build.make_xyz(L, R)\n",
    "view = py3Dmol.view(width=800,height=400)  # linked=False,viewergrid=(3,2)\n",
    "view.setBackgroundColor('0xeeeeee')\n",
    "view.zoomTo()\n",
    "view.addModel(xyz,'xyz',{'vibrate': {'frames':10,'amplitude':1.0}})\n",
    "view.setStyle({'sphere':{'colorscheme':'Jmol'}})\n",
    "view.show()\n",
    "\n",
    "print( xyz)"
   ]
  },
  {
   "cell_type": "markdown",
   "metadata": {},
   "source": [
    "Next, we define the coordination number for all atom types (elements).\n",
    "\n",
    "The `PT_coord` dictionary defines the maximal coordinations for each element and the following loop uses this info to setup the maximal coordination numbers for all atoms"
   ]
  },
  {
   "cell_type": "code",
   "execution_count": 23,
   "metadata": {},
   "outputs": [],
   "source": [
    "PT_coord = { \"Si\": 4 }\n",
    "MaxCoord = []\n",
    "for i in L:\n",
    "    MaxCoord.append(PT_coord[i])    # maximal coordination number of each atom in super-cell       "
   ]
  },
  {
   "cell_type": "markdown",
   "metadata": {},
   "source": [
    "Next, we use the `autoconnect` function to determine the connectivities\n",
    "<a name=\"autoconnect-1\"></a>"
   ]
  },
  {
   "cell_type": "code",
   "execution_count": 24,
   "metadata": {},
   "outputs": [
    {
     "name": "stdout",
     "output_type": "stream",
     "text": [
      "Help on function autoconnect in module libra_py.autoconnect:\n",
      "\n",
      "autoconnect(R, MaxCoord, params)\n",
      "    Args:\n",
      "        R ( list of VECTOR objects ): The atomic coordinates of the system [ units: arbitrary ]\n",
      "        MaxCoord ( list of ints ): Maximal coorination numbers of each atom \n",
      "        params ( dictionary ): Parameters controlling the execution of this function\n",
      "    \n",
      "            * **params[\"Rcut\"]** ( double ): The maximal radius of connectivity [ units: same as R, default: 0.0 ]\n",
      "            * **params[\"tv1\"]** ( VECTOR ): unit cell translation vector a [ units: same as R ]\n",
      "            * **params[\"tv2\"]** ( VECTOR ): unit cell translation vector b [ units: same as R ]\n",
      "            * **params[\"tv3\"]** ( VECTOR ): unit cell translation vector c [ units: same as R ]\n",
      "            * **params[\"pbc_opt\"]** ( string ): what type of periodicity to assume. \n",
      "                Options: \"a\", \"b\", \"c\", \"ab\", \"ac\", \"bc\", \"abc\", \"none\" [ default: None ]\n",
      "            * **params[\"opt\"]** ( int ): Option to obey maximal coordination number: \n",
      "                - 0: the connected atoms in a pair have to obey both the coordination numbers\n",
      "                   Some of the atoms may stay undercoordinated. This is the consistent scheme in\n",
      "                   the sense that if A is connected to B, then B is necessarily connected to A [default]\n",
      "                - 1: treat the MaxCoord as the minimal coordination number each atom should attain.\n",
      "                   Some atoms may be overcoordinated. \n",
      "            * **params[\"verbosity\"]** ( int ): Flag to control the amount of the printout [ default: 0 ]\n",
      "    \n",
      "    Returns:\n",
      "        tuple: ( res, line, unsorted_pairs_out ), where:\n",
      "    \n",
      "            * res ( list of lists [ res[i][0], res[0][1] ] ), where \n",
      "                * res[i][0] ( int ): index of the atom\n",
      "                * res[i][1] ( list of ints ): indices of the atoms that are connected to res[i][0]\n",
      "    \n",
      "            * line ( string ): the connectivity information in the .ent format\n",
      "    \n",
      "            * unsorted_pairs_out ( same type as ```res```): same as ```res```, but not sorted\n",
      "\n"
     ]
    }
   ],
   "source": [
    "help(autoconnect.autoconnect)"
   ]
  },
  {
   "cell_type": "markdown",
   "metadata": {},
   "source": [
    "### 3.1. Non-periodic case\n",
    "<a name=\"3.1.\"></a>[Back to TOC](#TOC)"
   ]
  },
  {
   "cell_type": "code",
   "execution_count": 25,
   "metadata": {},
   "outputs": [],
   "source": [
    "params = {\"Rcut\":5.001 * units.Angst, \"pbc_opt\":\"none\", \"opt\":0, \"verbosity\":0  }\n",
    "\n",
    "res, line, pairs = autoconnect.autoconnect(R, MaxCoord, params)"
   ]
  },
  {
   "cell_type": "markdown",
   "metadata": {},
   "source": [
    "Here we looked for all pairs of atoms that are closer to each other that 5.001 Angstrom.\n",
    "\n",
    "We treat the loaded structure as non-periodic, so the atoms do not \"see\" the periodic images which they may be connected to. \n",
    "\n",
    "Also, the atoms are not connected if the connections would disobey the maximal coordination number specified.\n",
    "\n",
    "The first returned result shows the connectivity of each atom "
   ]
  },
  {
   "cell_type": "code",
   "execution_count": 26,
   "metadata": {},
   "outputs": [
    {
     "name": "stdout",
     "output_type": "stream",
     "text": [
      "[[0, [1, 2, 3]], [1, [0, 2, 3]], [2, [0, 1, 3]], [3, [0, 1, 2]]]\n"
     ]
    }
   ],
   "source": [
    "print(res)"
   ]
  },
  {
   "cell_type": "markdown",
   "metadata": {},
   "source": [
    "The second one shows the connectivities in a special format that can be added to the .ent file and understandable by Libra's force field setups. This format follows to the one produced by the HyperChem software"
   ]
  },
  {
   "cell_type": "code",
   "execution_count": 27,
   "metadata": {},
   "outputs": [
    {
     "name": "stdout",
     "output_type": "stream",
     "text": [
      "CONECT     1      2      3      4 \n",
      "CONECT     2      1      3      4 \n",
      "CONECT     3      1      2      4 \n",
      "CONECT     4      1      2      3 \n",
      "\n"
     ]
    }
   ],
   "source": [
    "print(line)"
   ]
  },
  {
   "cell_type": "markdown",
   "metadata": {},
   "source": [
    "Finally, the 2 last returned variables shows the periodic translation of first and second atoms in the pair needed for the connectivity to take place:"
   ]
  },
  {
   "cell_type": "code",
   "execution_count": 28,
   "metadata": {},
   "outputs": [
    {
     "name": "stdout",
     "output_type": "stream",
     "text": [
      "0 1 0.0 0.0 0.0 0.0 0.0 0.0\n",
      "0 2 0.0 0.0 0.0 0.0 0.0 0.0\n",
      "0 3 0.0 0.0 0.0 0.0 0.0 0.0\n",
      "1 2 0.0 0.0 0.0 0.0 0.0 0.0\n",
      "1 3 0.0 0.0 0.0 0.0 0.0 0.0\n",
      "2 3 0.0 0.0 0.0 0.0 0.0 0.0\n"
     ]
    }
   ],
   "source": [
    "for pair in pairs:\n",
    "    t0, t1 = pair[2], pair[3]\n",
    "    print(pair[0], pair[1], t0.x, t0.y, t0.z,  t1.x, t1.y, t1.z)"
   ]
  },
  {
   "cell_type": "markdown",
   "metadata": {},
   "source": [
    "Together with the information on the maximal coordination allowed for all atoms, the `pairs` result can be used to determine the undercoordinated atoms, using the `find_undercoordinated_atoms` function.\n",
    "<a name=\"find_undercoordinated_atoms-1\"></a>"
   ]
  },
  {
   "cell_type": "code",
   "execution_count": 29,
   "metadata": {},
   "outputs": [
    {
     "name": "stdout",
     "output_type": "stream",
     "text": [
      "Help on function find_undercoordinated_atoms in module libra_py.autoconnect:\n",
      "\n",
      "find_undercoordinated_atoms(res, MaxCoord)\n",
      "    Args:\n",
      "        res ( list of lists [ res[i][0], res[0][1] ] ), where \n",
      "            * res[i][0] ( int ): index of the atom\n",
      "            * res[i][1] ( list of ints ): indices of the atoms that are connected to res[i][0]\n",
      "    \n",
      "            This would typically be the first output of the ```autoconnect``` function\n",
      "    \n",
      "        MaxCoord ( list of ints ): Maximal coorination numbers of each atom \n",
      "    \n",
      "    Returns: \n",
      "        (list):  out, such that:\n",
      "    \n",
      "            out[i][0] - is the index of the i-th undercoordinated atom\n",
      "            out[i][1] - is the number of dangling bonds on the i-th atom\n",
      "\n"
     ]
    }
   ],
   "source": [
    "help(autoconnect.find_undercoordinated_atoms)"
   ]
  },
  {
   "cell_type": "code",
   "execution_count": 30,
   "metadata": {},
   "outputs": [
    {
     "name": "stdout",
     "output_type": "stream",
     "text": [
      "[[0, 1], [1, 1], [2, 1], [3, 1]]\n"
     ]
    }
   ],
   "source": [
    "out = autoconnect.find_undercoordinated_atoms(res, MaxCoord)\n",
    "\n",
    "print(out)"
   ]
  },
  {
   "cell_type": "markdown",
   "metadata": {},
   "source": [
    "Here, we see that there are in total 4 undercoodinated atoms (indiced 0 through 3). Each of them is within 5.001 Angstrom to 3 other atoms (each other here). As a result, each atom has 1 unsaturated valency (dangling bond)."
   ]
  },
  {
   "cell_type": "markdown",
   "metadata": {},
   "source": [
    "### 3.2. Periodic case (Warning: a bit buggy for now)\n",
    "<a name=\"3.2.\"></a>[Back to TOC](#TOC)\n",
    "\n",
    "Let's now consider what happens when we allow connections with the periodic images.\n",
    "\n",
    "In this case, we also need to provide information about the unit cell (or supercell) translation vectors."
   ]
  },
  {
   "cell_type": "code",
   "execution_count": 31,
   "metadata": {},
   "outputs": [
    {
     "name": "stdout",
     "output_type": "stream",
     "text": [
      "[[0, [1, 2, 3, 3]], [1, [0, 2, 2, 3]], [2, [0, 1, 1, 3]], [3, [0, 0, 1, 2]]]\n"
     ]
    }
   ],
   "source": [
    "a = VECTOR( 5.4307100000000000,    0.0000000000000000,    0.0000000000000000 ) * units.Angst\n",
    "b = VECTOR( 0.0000000000000000,    5.4307100000000000,    0.0000000000000000 ) * units.Angst\n",
    "c = VECTOR( 0.0000000000000000,    0.0000000000000000,    5.4307100000000000 ) * units.Angst\n",
    "\n",
    "params = {\"Rcut\":5.001 * units.Angst,\n",
    "          \"pbc_opt\":\"abc\", \"tv1\":a, \"tv2\":b, \"tv3\":c,\n",
    "          \"opt\":0, \"verbosity\":0  }\n",
    "\n",
    "res, line, pairs = autoconnect.autoconnect(R, MaxCoord, params)\n",
    "\n",
    "print(res)"
   ]
  },
  {
   "cell_type": "code",
   "execution_count": 32,
   "metadata": {},
   "outputs": [
    {
     "name": "stdout",
     "output_type": "stream",
     "text": [
      "0 1 0.0 0.0 0.0 -10.262553825722192 -10.262553825722192 0.0\n",
      "0 2 0.0 0.0 0.0 -10.262553825722192 0.0 -10.262553825722192\n",
      "0 1 0.0 0.0 0.0 -10.262553825722192 0.0 0.0\n",
      "0 2 0.0 0.0 0.0 -10.262553825722192 0.0 0.0\n",
      "3 1 0.0 0.0 0.0 -10.262553825722192 0.0 0.0\n",
      "3 2 0.0 0.0 0.0 -10.262553825722192 0.0 0.0\n",
      "3 1 0.0 0.0 0.0 -10.262553825722192 0.0 10.262553825722192\n",
      "3 2 0.0 0.0 0.0 -10.262553825722192 10.262553825722192 0.0\n",
      "0 3 0.0 0.0 0.0 0.0 -10.262553825722192 -10.262553825722192\n",
      "0 1 0.0 0.0 0.0 0.0 -10.262553825722192 0.0\n",
      "0 3 0.0 0.0 0.0 0.0 -10.262553825722192 0.0\n",
      "2 1 0.0 0.0 0.0 0.0 -10.262553825722192 0.0\n",
      "2 3 0.0 0.0 0.0 0.0 -10.262553825722192 0.0\n",
      "2 1 0.0 0.0 0.0 0.0 -10.262553825722192 10.262553825722192\n",
      "0 2 0.0 0.0 0.0 0.0 0.0 -10.262553825722192\n",
      "0 3 0.0 0.0 0.0 0.0 0.0 -10.262553825722192\n",
      "1 2 0.0 0.0 0.0 0.0 0.0 -10.262553825722192\n",
      "1 3 0.0 0.0 0.0 0.0 0.0 -10.262553825722192\n",
      "0 1 0.0 0.0 0.0 0.0 0.0 0.0\n",
      "0 2 0.0 0.0 0.0 0.0 0.0 0.0\n",
      "0 3 0.0 0.0 0.0 0.0 0.0 0.0\n",
      "1 2 0.0 0.0 0.0 0.0 0.0 0.0\n",
      "1 3 0.0 0.0 0.0 0.0 0.0 0.0\n",
      "2 3 0.0 0.0 0.0 0.0 0.0 0.0\n",
      "2 0 0.0 0.0 0.0 0.0 0.0 10.262553825722192\n",
      "2 1 0.0 0.0 0.0 0.0 0.0 10.262553825722192\n",
      "3 0 0.0 0.0 0.0 0.0 0.0 10.262553825722192\n",
      "3 1 0.0 0.0 0.0 0.0 0.0 10.262553825722192\n",
      "1 2 0.0 0.0 0.0 0.0 10.262553825722192 -10.262553825722192\n",
      "1 0 0.0 0.0 0.0 0.0 10.262553825722192 0.0\n",
      "1 2 0.0 0.0 0.0 0.0 10.262553825722192 0.0\n",
      "3 0 0.0 0.0 0.0 0.0 10.262553825722192 0.0\n",
      "3 2 0.0 0.0 0.0 0.0 10.262553825722192 0.0\n",
      "3 0 0.0 0.0 0.0 0.0 10.262553825722192 10.262553825722192\n",
      "2 3 0.0 0.0 0.0 10.262553825722192 -10.262553825722192 0.0\n",
      "1 3 0.0 0.0 0.0 10.262553825722192 0.0 -10.262553825722192\n",
      "1 0 0.0 0.0 0.0 10.262553825722192 0.0 0.0\n",
      "1 3 0.0 0.0 0.0 10.262553825722192 0.0 0.0\n",
      "2 0 0.0 0.0 0.0 10.262553825722192 0.0 0.0\n",
      "2 3 0.0 0.0 0.0 10.262553825722192 0.0 0.0\n",
      "2 0 0.0 0.0 0.0 10.262553825722192 0.0 10.262553825722192\n",
      "1 0 0.0 0.0 0.0 10.262553825722192 10.262553825722192 0.0\n"
     ]
    }
   ],
   "source": [
    "for pair in pairs:\n",
    "    t0, t1 = pair[2], pair[3]\n",
    "    print(pair[0], pair[1], t0.x, t0.y, t0.z,  t1.x, t1.y, t1.z)"
   ]
  },
  {
   "cell_type": "code",
   "execution_count": 33,
   "metadata": {},
   "outputs": [
    {
     "name": "stdout",
     "output_type": "stream",
     "text": [
      "[]\n"
     ]
    }
   ],
   "source": [
    "out = autoconnect.find_undercoordinated_atoms(res, MaxCoord)\n",
    "\n",
    "print(out)"
   ]
  },
  {
   "cell_type": "markdown",
   "metadata": {},
   "source": [
    "In this case, we find not undercoordinated atoms. However, the connectivity is yet to be fixed!"
   ]
  },
  {
   "cell_type": "markdown",
   "metadata": {},
   "source": [
    "## 4. Quantum Dot building\n",
    "<a name=\"4.\"></a>[Back to TOC](#TOC)\n",
    "\n",
    "In this section, we will construct quantum dots. We will start by making the supercells and then cropping the created slabs to spheres of needed radii, then optionally replace some of the atoms on the QD surface, while cropping.\n",
    "\n",
    "### 4.1. With capping\n",
    "<a name=\"4.1.\"></a>[Back to TOC](#TOC)\n",
    "\n",
    "We start by creating a supercell, as we did in the [section 2](#2.).\n",
    "<a name=\"read_xyz-2\"></a>"
   ]
  },
  {
   "cell_type": "code",
   "execution_count": 34,
   "metadata": {},
   "outputs": [],
   "source": [
    "a = VECTOR(5.833, 0.0, 0.0) * units.Angst\n",
    "b = VECTOR(0.0, 5.833, 0.0) * units.Angst\n",
    "c = VECTOR(0.0, 0.0, 5.833) * units.Angst\n",
    "\n",
    "L0, R0 = build.read_xyz(\"CdSe.xyz\")\n",
    "L1, R1 = build.generate_replicas_xyz2(L0, R0, a, b, c, 6, 6, 6)"
   ]
  },
  {
   "cell_type": "markdown",
   "metadata": {},
   "source": [
    "Next, we'll be connecting atoms in the super-cell to each other, based on their separation distances\n",
    "and the maximal coordination numbers accepted\n",
    "\n",
    "At this point, we are going to define the maximal coordination number of each atom type present in the \n",
    "system (here, Cd and Se), as well as for each additional elements - e.g. those which we are going to cap\n",
    "the QD with (here, H)"
   ]
  },
  {
   "cell_type": "code",
   "execution_count": 35,
   "metadata": {},
   "outputs": [],
   "source": [
    "PT_coord = { \"Cd\": 4, \"Se\": 4, \"H\":1 }\n",
    "MaxCoord1 = []\n",
    "masses = []\n",
    "for i in L1:\n",
    "    MaxCoord1.append(PT_coord[i])    # maximal coordination number of each atom in super-cell\n",
    "    masses.append(1.0)               # masses of each atom in the super-cell, do not matter here"
   ]
  },
  {
   "cell_type": "markdown",
   "metadata": {},
   "source": [
    "The parameter that defines the atomic connectivities: if the atoms are separated\n",
    "the the distance shorter than this, and if their actual coordination number has not\n",
    "reached the maximal one yet, we will assume they are covelently bonded (in FF there will\n",
    "be a harmonic potential term for instance)"
   ]
  },
  {
   "cell_type": "code",
   "execution_count": 36,
   "metadata": {},
   "outputs": [],
   "source": [
    "Rbond = 3.001 * units.Angst"
   ]
  },
  {
   "cell_type": "markdown",
   "metadata": {},
   "source": [
    "Now connect all atoms in the supercell. \n",
    "The \"none\" indicates that there is no periodic boundary conditions to check when doing such connections"
   ]
  },
  {
   "cell_type": "code",
   "execution_count": 37,
   "metadata": {},
   "outputs": [],
   "source": [
    "params = {\"Rcut\":Rbond, \n",
    "          \"tv1\":Nx*a, \"tv2\":Ny*b, \"tv3\":Nz*c,\n",
    "          \"pbc_opt\":\"none\", \"opt\":0, \"verbosity\":0\n",
    "         }\n",
    "res, line, pairs = autoconnect.autoconnect(R1, MaxCoord1, params)"
   ]
  },
  {
   "cell_type": "markdown",
   "metadata": {},
   "source": [
    "The radius of the QD "
   ]
  },
  {
   "cell_type": "code",
   "execution_count": 38,
   "metadata": {},
   "outputs": [],
   "source": [
    "Rdot = 7.0 * units.Angst"
   ]
  },
  {
   "cell_type": "markdown",
   "metadata": {},
   "source": [
    "Finally, we can carve a QD out of the super-cell, using `crop_sphere_xyz3` function\n",
    "<a name=\"crop_sphere_xyz3-1\"></a>"
   ]
  },
  {
   "cell_type": "code",
   "execution_count": 39,
   "metadata": {},
   "outputs": [
    {
     "name": "stdout",
     "output_type": "stream",
     "text": [
      "Help on function crop_sphere_xyz3 in module libra_py.build:\n",
      "\n",
      "crop_sphere_xyz3(L, R, Rcut, pairs, new_L)\n",
      "    This function removes all atoms that are outside of a sphere of \n",
      "    Rcut radius. The sphere is centered on GEOMETRIC center of the \n",
      "    system\n",
      "    \n",
      "    Args: \n",
      "        L ( list of strings ): element names, this list will be trimmed accordingly\n",
      "        R ( VECTORList or list of VECTOR objects): coordinates of the particles [ Bohr ]\n",
      "        Rcut ( double ): the radius of the sphere from the center of the QD [ Bohrs ]\n",
      "        pairs ( list of [int, int, VECTOR, VECTOR] lists ): integers describe the indices for \n",
      "            the connected atoms, the VECTORs describe the translation vector by which the atoms\n",
      "            should be translated before considering connected (e.g. for periodic boundary conditions)\n",
      "            these VECTOR objects are not used in the present function, but the format\n",
      "            is kept such that the output of other functions could be used in this function.\n",
      "    \n",
      "        new_L ( dictionary(string:string) ): a map containing the key-value pairs, where \n",
      "            the key string corresponds to the label of the atom that is inside the cropped sphere.\n",
      "            The value string corresponds to the new label of the atom outside the sphere. The function\n",
      "            will use the original connectivity information to decide how to cap the dangling bonds\n",
      "            formed at cropping. So, if the atom A is connected to atom B, atom A is inside of the \n",
      "            sphere and B is outside the sphere. The vaule element will become a new label for atom\n",
      "            B, if the key element corresponds to atom type A.\n",
      "    \n",
      "    Returns:\n",
      "        tuple: (lab, coords), where:\n",
      "    \n",
      "            * lab ( list of N strings ): the labels of all remaining atoms\n",
      "            * coords ( list of N VECTORs ): the coordinates of all remaining atoms\n",
      "\n"
     ]
    }
   ],
   "source": [
    "help(build.crop_sphere_xyz3)"
   ]
  },
  {
   "cell_type": "markdown",
   "metadata": {},
   "source": [
    "All the atoms that are outside the shepre of Rdot radius\n",
    "are removed, except for the atoms that are bound (as encoded in the \"pairs\" argument) to the atoms inside\n",
    "the sphere. The bound outside atoms' identities will be switched according to which atoms there are connected.\n",
    "This is encoded in the last (dictionary) argument. Here, it means that all the atoms outside the sphere that\n",
    "are connected to the Cd inside will become H, all the outside atoms that are connected to the inside Se will\n",
    "be converted to Cd.In other words, all Se atoms will be capped by Cd and all Cd atoms will be capped with H.\n",
    "The L and R variables will contain the labels and coordinates of the final (QD) atoms.\n",
    "<a name=\"make_xyz-2\"></a><a name=\"crop_sphere_xyz3-2\"></a>"
   ]
  },
  {
   "cell_type": "code",
   "execution_count": 40,
   "metadata": {},
   "outputs": [
    {
     "data": {
      "application/3dmoljs_load.v0": "<div id=\"3dmolviewer_16222542374244921\"  style=\"position: relative; width: 800px; height: 400px\">\n        <p id=\"3dmolwarning_16222542374244921\" style=\"background-color:#ffcccc;color:black\">You appear to be running in JupyterLab (or JavaScript failed to load for some other reason).  You need to install the 3dmol extension: <br>\n        <tt>jupyter labextension install jupyterlab_3dmol</tt></p>\n        </div>\n<script>\n\nvar loadScriptAsync = function(uri){\n  return new Promise((resolve, reject) => {\n    var tag = document.createElement('script');\n    tag.src = uri;\n    tag.async = true;\n    tag.onload = () => {\n      resolve();\n    };\n  var firstScriptTag = document.getElementsByTagName('script')[0];\n  firstScriptTag.parentNode.insertBefore(tag, firstScriptTag);\n});\n};\n\nif(typeof $3Dmolpromise === 'undefined') {\n$3Dmolpromise = null;\n  $3Dmolpromise = loadScriptAsync('https://3dmol.csb.pitt.edu/build/3Dmol.js');\n}\n\nvar viewer_16222542374244921 = null;\nvar warn = document.getElementById(\"3dmolwarning_16222542374244921\");\nif(warn) {\n    warn.parentNode.removeChild(warn);\n}\n$3Dmolpromise.then(function() {\nviewer_16222542374244921 = $3Dmol.createViewer($(\"#3dmolviewer_16222542374244921\"),{backgroundColor:\"white\"});\n\tviewer_16222542374244921.setBackgroundColor(\"0xeeeeee\");\n\tviewer_16222542374244921.zoomTo();\n\tviewer_16222542374244921.addModel(\"115\\n\\nCd    11.66600000   17.49900000   17.49900000 \\nCd    17.49900000   11.66600000   17.49900000 \\nCd    17.49900000   17.49900000   11.66600000 \\nCd    17.49900000   17.49900000   17.49900000 \\nCd    17.49900000   17.49900000   23.33200000 \\nCd    17.49900000   23.33200000   17.49900000 \\nCd    23.33200000   17.49900000   17.49900000 \\nCd    14.58250000   14.58250000   11.66600000 \\nCd    14.58250000   14.58250000   17.49900000 \\nCd    14.58250000   20.41550000   11.66600000 \\nCd    14.58250000   20.41550000   17.49900000 \\nCd    20.41550000   14.58250000   11.66600000 \\nCd    20.41550000   14.58250000   17.49900000 \\nCd    20.41550000   20.41550000   17.49900000 \\nCd    14.58250000   11.66600000   14.58250000 \\nCd    14.58250000   11.66600000   20.41550000 \\nCd    14.58250000   17.49900000   14.58250000 \\nCd    14.58250000   17.49900000   20.41550000 \\nCd    20.41550000   11.66600000   14.58250000 \\nCd    20.41550000   17.49900000   14.58250000 \\nCd    20.41550000   17.49900000   20.41550000 \\nCd    11.66600000   14.58250000   14.58250000 \\nCd    11.66600000   14.58250000   20.41550000 \\nCd    11.66600000   20.41550000   14.58250000 \\nCd    17.49900000   14.58250000   14.58250000 \\nCd    17.49900000   14.58250000   20.41550000 \\nCd    17.49900000   20.41550000   14.58250000 \\nCd    17.49900000   20.41550000   20.41550000 \\nSe    13.12425000   13.12425000   13.12425000 \\nSe    13.12425000   13.12425000   18.95725000 \\nSe    13.12425000   18.95725000   13.12425000 \\nSe    13.12425000   18.95725000   18.95725000 \\nSe    18.95725000   13.12425000   13.12425000 \\nSe    18.95725000   13.12425000   18.95725000 \\nSe    18.95725000   18.95725000   13.12425000 \\nSe    18.95725000   18.95725000   18.95725000 \\nSe    13.12425000   16.04075000   16.04075000 \\nSe    13.12425000   16.04075000   21.87375000 \\nSe    13.12425000   21.87375000   16.04075000 \\nSe    18.95725000   10.20775000   16.04075000 \\nSe    18.95725000   16.04075000   10.20775000 \\nSe    18.95725000   16.04075000   16.04075000 \\nSe    18.95725000   16.04075000   21.87375000 \\nSe    18.95725000   21.87375000   16.04075000 \\nSe    10.20775000   18.95725000   16.04075000 \\nSe    16.04075000   13.12425000   16.04075000 \\nSe    16.04075000   13.12425000   21.87375000 \\nSe    16.04075000   18.95725000   10.20775000 \\nSe    16.04075000   18.95725000   16.04075000 \\nSe    16.04075000   18.95725000   21.87375000 \\nSe    21.87375000   13.12425000   16.04075000 \\nSe    21.87375000   18.95725000   16.04075000 \\nSe    10.20775000   16.04075000   18.95725000 \\nSe    16.04075000   10.20775000   18.95725000 \\nSe    16.04075000   16.04075000   13.12425000 \\nSe    16.04075000   16.04075000   18.95725000 \\nSe    16.04075000   21.87375000   13.12425000 \\nSe    16.04075000   21.87375000   18.95725000 \\nSe    21.87375000   16.04075000   13.12425000 \\nSe    21.87375000   16.04075000   18.95725000 \\nCd    11.66600000   11.66600000   11.66600000 \\nCd    11.66600000   11.66600000   17.49900000 \\nCd    11.66600000   17.49900000   11.66600000 \\nCd    11.66600000   17.49900000   23.33200000 \\nCd    11.66600000   23.33200000   17.49900000 \\nCd    17.49900000   11.66600000   11.66600000 \\nCd    17.49900000   11.66600000   23.33200000 \\nH    18.95725000   18.95725000   24.79025000 \\nH    16.04075000   16.04075000   24.79025000 \\nCd    17.49900000   23.33200000   11.66600000 \\nH    18.95725000   24.79025000   18.95725000 \\nH    16.04075000   24.79025000   16.04075000 \\nCd    23.33200000   11.66600000   17.49900000 \\nCd    23.33200000   17.49900000   11.66600000 \\nH    24.79025000   18.95725000   18.95725000 \\nH    24.79025000   16.04075000   16.04075000 \\nCd     8.74950000   14.58250000   17.49900000 \\nCd     8.74950000   20.41550000   17.49900000 \\nCd    14.58250000    8.74950000   17.49900000 \\nH    13.12425000   16.04075000   10.20775000 \\nH    16.04075000   13.12425000   10.20775000 \\nCd    14.58250000   14.58250000   23.33200000 \\nH    13.12425000   21.87375000   10.20775000 \\nCd    14.58250000   20.41550000   23.33200000 \\nCd    20.41550000    8.74950000   17.49900000 \\nH    21.87375000   13.12425000   10.20775000 \\nCd    20.41550000   14.58250000   23.33200000 \\nCd    20.41550000   20.41550000   11.66600000 \\nH    21.87375000   21.87375000   18.95725000 \\nCd     8.74950000   17.49900000   14.58250000 \\nCd     8.74950000   17.49900000   20.41550000 \\nH    13.12425000   10.20775000   16.04075000 \\nH    16.04075000   10.20775000   13.12425000 \\nH    13.12425000   10.20775000   21.87375000 \\nCd    14.58250000   17.49900000    8.74950000 \\nCd    14.58250000   23.33200000   14.58250000 \\nCd    14.58250000   23.33200000   20.41550000 \\nH    21.87375000   10.20775000   13.12425000 \\nCd    20.41550000   11.66600000   20.41550000 \\nCd    20.41550000   17.49900000    8.74950000 \\nH    21.87375000   18.95725000   21.87375000 \\nCd    20.41550000   23.33200000   14.58250000 \\nH    10.20775000   13.12425000   16.04075000 \\nH    10.20775000   16.04075000   13.12425000 \\nH    10.20775000   13.12425000   21.87375000 \\nH    10.20775000   21.87375000   13.12425000 \\nCd    11.66600000   20.41550000   20.41550000 \\nCd    17.49900000    8.74950000   14.58250000 \\nCd    17.49900000    8.74950000   20.41550000 \\nCd    17.49900000   14.58250000    8.74950000 \\nCd    17.49900000   20.41550000    8.74950000 \\nH    18.95725000   21.87375000   21.87375000 \\nCd    23.33200000   14.58250000   14.58250000 \\nCd    23.33200000   14.58250000   20.41550000 \\nCd    23.33200000   20.41550000   14.58250000 \\n\",\"xyz\",{\"vibrate\": {\"frames\": 10, \"amplitude\": 1.0}});\n\tviewer_16222542374244921.setStyle({\"sphere\": {\"colorscheme\": \"Jmol\"}});\nviewer_16222542374244921.render();\n});\n</script>",
      "text/html": [
       "<div id=\"3dmolviewer_16222542374244921\"  style=\"position: relative; width: 800px; height: 400px\">\n",
       "        <p id=\"3dmolwarning_16222542374244921\" style=\"background-color:#ffcccc;color:black\">You appear to be running in JupyterLab (or JavaScript failed to load for some other reason).  You need to install the 3dmol extension: <br>\n",
       "        <tt>jupyter labextension install jupyterlab_3dmol</tt></p>\n",
       "        </div>\n",
       "<script>\n",
       "\n",
       "var loadScriptAsync = function(uri){\n",
       "  return new Promise((resolve, reject) => {\n",
       "    var tag = document.createElement('script');\n",
       "    tag.src = uri;\n",
       "    tag.async = true;\n",
       "    tag.onload = () => {\n",
       "      resolve();\n",
       "    };\n",
       "  var firstScriptTag = document.getElementsByTagName('script')[0];\n",
       "  firstScriptTag.parentNode.insertBefore(tag, firstScriptTag);\n",
       "});\n",
       "};\n",
       "\n",
       "if(typeof $3Dmolpromise === 'undefined') {\n",
       "$3Dmolpromise = null;\n",
       "  $3Dmolpromise = loadScriptAsync('https://3dmol.csb.pitt.edu/build/3Dmol.js');\n",
       "}\n",
       "\n",
       "var viewer_16222542374244921 = null;\n",
       "var warn = document.getElementById(\"3dmolwarning_16222542374244921\");\n",
       "if(warn) {\n",
       "    warn.parentNode.removeChild(warn);\n",
       "}\n",
       "$3Dmolpromise.then(function() {\n",
       "viewer_16222542374244921 = $3Dmol.createViewer($(\"#3dmolviewer_16222542374244921\"),{backgroundColor:\"white\"});\n",
       "\tviewer_16222542374244921.setBackgroundColor(\"0xeeeeee\");\n",
       "\tviewer_16222542374244921.zoomTo();\n",
       "\tviewer_16222542374244921.addModel(\"115\\n\\nCd    11.66600000   17.49900000   17.49900000 \\nCd    17.49900000   11.66600000   17.49900000 \\nCd    17.49900000   17.49900000   11.66600000 \\nCd    17.49900000   17.49900000   17.49900000 \\nCd    17.49900000   17.49900000   23.33200000 \\nCd    17.49900000   23.33200000   17.49900000 \\nCd    23.33200000   17.49900000   17.49900000 \\nCd    14.58250000   14.58250000   11.66600000 \\nCd    14.58250000   14.58250000   17.49900000 \\nCd    14.58250000   20.41550000   11.66600000 \\nCd    14.58250000   20.41550000   17.49900000 \\nCd    20.41550000   14.58250000   11.66600000 \\nCd    20.41550000   14.58250000   17.49900000 \\nCd    20.41550000   20.41550000   17.49900000 \\nCd    14.58250000   11.66600000   14.58250000 \\nCd    14.58250000   11.66600000   20.41550000 \\nCd    14.58250000   17.49900000   14.58250000 \\nCd    14.58250000   17.49900000   20.41550000 \\nCd    20.41550000   11.66600000   14.58250000 \\nCd    20.41550000   17.49900000   14.58250000 \\nCd    20.41550000   17.49900000   20.41550000 \\nCd    11.66600000   14.58250000   14.58250000 \\nCd    11.66600000   14.58250000   20.41550000 \\nCd    11.66600000   20.41550000   14.58250000 \\nCd    17.49900000   14.58250000   14.58250000 \\nCd    17.49900000   14.58250000   20.41550000 \\nCd    17.49900000   20.41550000   14.58250000 \\nCd    17.49900000   20.41550000   20.41550000 \\nSe    13.12425000   13.12425000   13.12425000 \\nSe    13.12425000   13.12425000   18.95725000 \\nSe    13.12425000   18.95725000   13.12425000 \\nSe    13.12425000   18.95725000   18.95725000 \\nSe    18.95725000   13.12425000   13.12425000 \\nSe    18.95725000   13.12425000   18.95725000 \\nSe    18.95725000   18.95725000   13.12425000 \\nSe    18.95725000   18.95725000   18.95725000 \\nSe    13.12425000   16.04075000   16.04075000 \\nSe    13.12425000   16.04075000   21.87375000 \\nSe    13.12425000   21.87375000   16.04075000 \\nSe    18.95725000   10.20775000   16.04075000 \\nSe    18.95725000   16.04075000   10.20775000 \\nSe    18.95725000   16.04075000   16.04075000 \\nSe    18.95725000   16.04075000   21.87375000 \\nSe    18.95725000   21.87375000   16.04075000 \\nSe    10.20775000   18.95725000   16.04075000 \\nSe    16.04075000   13.12425000   16.04075000 \\nSe    16.04075000   13.12425000   21.87375000 \\nSe    16.04075000   18.95725000   10.20775000 \\nSe    16.04075000   18.95725000   16.04075000 \\nSe    16.04075000   18.95725000   21.87375000 \\nSe    21.87375000   13.12425000   16.04075000 \\nSe    21.87375000   18.95725000   16.04075000 \\nSe    10.20775000   16.04075000   18.95725000 \\nSe    16.04075000   10.20775000   18.95725000 \\nSe    16.04075000   16.04075000   13.12425000 \\nSe    16.04075000   16.04075000   18.95725000 \\nSe    16.04075000   21.87375000   13.12425000 \\nSe    16.04075000   21.87375000   18.95725000 \\nSe    21.87375000   16.04075000   13.12425000 \\nSe    21.87375000   16.04075000   18.95725000 \\nCd    11.66600000   11.66600000   11.66600000 \\nCd    11.66600000   11.66600000   17.49900000 \\nCd    11.66600000   17.49900000   11.66600000 \\nCd    11.66600000   17.49900000   23.33200000 \\nCd    11.66600000   23.33200000   17.49900000 \\nCd    17.49900000   11.66600000   11.66600000 \\nCd    17.49900000   11.66600000   23.33200000 \\nH    18.95725000   18.95725000   24.79025000 \\nH    16.04075000   16.04075000   24.79025000 \\nCd    17.49900000   23.33200000   11.66600000 \\nH    18.95725000   24.79025000   18.95725000 \\nH    16.04075000   24.79025000   16.04075000 \\nCd    23.33200000   11.66600000   17.49900000 \\nCd    23.33200000   17.49900000   11.66600000 \\nH    24.79025000   18.95725000   18.95725000 \\nH    24.79025000   16.04075000   16.04075000 \\nCd     8.74950000   14.58250000   17.49900000 \\nCd     8.74950000   20.41550000   17.49900000 \\nCd    14.58250000    8.74950000   17.49900000 \\nH    13.12425000   16.04075000   10.20775000 \\nH    16.04075000   13.12425000   10.20775000 \\nCd    14.58250000   14.58250000   23.33200000 \\nH    13.12425000   21.87375000   10.20775000 \\nCd    14.58250000   20.41550000   23.33200000 \\nCd    20.41550000    8.74950000   17.49900000 \\nH    21.87375000   13.12425000   10.20775000 \\nCd    20.41550000   14.58250000   23.33200000 \\nCd    20.41550000   20.41550000   11.66600000 \\nH    21.87375000   21.87375000   18.95725000 \\nCd     8.74950000   17.49900000   14.58250000 \\nCd     8.74950000   17.49900000   20.41550000 \\nH    13.12425000   10.20775000   16.04075000 \\nH    16.04075000   10.20775000   13.12425000 \\nH    13.12425000   10.20775000   21.87375000 \\nCd    14.58250000   17.49900000    8.74950000 \\nCd    14.58250000   23.33200000   14.58250000 \\nCd    14.58250000   23.33200000   20.41550000 \\nH    21.87375000   10.20775000   13.12425000 \\nCd    20.41550000   11.66600000   20.41550000 \\nCd    20.41550000   17.49900000    8.74950000 \\nH    21.87375000   18.95725000   21.87375000 \\nCd    20.41550000   23.33200000   14.58250000 \\nH    10.20775000   13.12425000   16.04075000 \\nH    10.20775000   16.04075000   13.12425000 \\nH    10.20775000   13.12425000   21.87375000 \\nH    10.20775000   21.87375000   13.12425000 \\nCd    11.66600000   20.41550000   20.41550000 \\nCd    17.49900000    8.74950000   14.58250000 \\nCd    17.49900000    8.74950000   20.41550000 \\nCd    17.49900000   14.58250000    8.74950000 \\nCd    17.49900000   20.41550000    8.74950000 \\nH    18.95725000   21.87375000   21.87375000 \\nCd    23.33200000   14.58250000   14.58250000 \\nCd    23.33200000   14.58250000   20.41550000 \\nCd    23.33200000   20.41550000   14.58250000 \\n\",\"xyz\",{\"vibrate\": {\"frames\": 10, \"amplitude\": 1.0}});\n",
       "\tviewer_16222542374244921.setStyle({\"sphere\": {\"colorscheme\": \"Jmol\"}});\n",
       "viewer_16222542374244921.render();\n",
       "});\n",
       "</script>"
      ]
     },
     "metadata": {},
     "output_type": "display_data"
    }
   ],
   "source": [
    "L, R = build.crop_sphere_xyz3(L1, R1, Rdot, pairs, {\"Cd\":\"H\", \"Se\":\"Cd\"})\n",
    "\n",
    "xyz = build.make_xyz(L, R)\n",
    "view = py3Dmol.view(width=800,height=400)  # linked=False,viewergrid=(3,2)\n",
    "view.setBackgroundColor('0xeeeeee')\n",
    "view.zoomTo()\n",
    "view.addModel(xyz,'xyz',{'vibrate': {'frames':10,'amplitude':1.0}})\n",
    "view.setStyle({'sphere':{'colorscheme':'Jmol'}})\n",
    "view.show()"
   ]
  },
  {
   "cell_type": "markdown",
   "metadata": {},
   "source": [
    "Now, we are going to auto-connect all the atoms in the final QD\n",
    "\n",
    "Define the maximal coordination for the atoms "
   ]
  },
  {
   "cell_type": "code",
   "execution_count": 41,
   "metadata": {},
   "outputs": [],
   "source": [
    "MaxCoord2 = []\n",
    "for i in L:\n",
    "    MaxCoord2.append(PT_coord[i])   # maximal coordination number of each atom in the resulting QD"
   ]
  },
  {
   "cell_type": "markdown",
   "metadata": {},
   "source": [
    "Determine the connectivities of the new set of atoms"
   ]
  },
  {
   "cell_type": "code",
   "execution_count": 42,
   "metadata": {
    "scrolled": true
   },
   "outputs": [
    {
     "name": "stdout",
     "output_type": "stream",
     "text": [
      "Autodetermined connections: \n",
      "CONECT     1     32     37     45     53 \n",
      "CONECT     2     34     40     46     54 \n",
      "CONECT     3     35     41     48     55 \n",
      "CONECT     4     36     42     49     56 \n",
      "CONECT     5     43     50     68     69 \n",
      "CONECT     6     44     58     71     72 \n",
      "CONECT     7     52     60     75     76 \n",
      "CONECT     8     29     55     80     81 \n",
      "CONECT     9     30     37     46     56 \n",
      "CONECT    10     31     48     57     83 \n",
      "CONECT    11     32     39     49     58 \n",
      "CONECT    12     33     41     59     86 \n",
      "CONECT    13     34     42     51     60 \n",
      "CONECT    14     36     44     52     89 \n",
      "CONECT    15     29     46     92     93 \n",
      "CONECT    16     30     47     54     94 \n",
      "CONECT    17     31     37     49     55 \n",
      "CONECT    18     32     38     50     56 \n",
      "CONECT    19     33     40     51     98 \n",
      "CONECT    20     35     42     52     59 \n",
      "CONECT    21     36     43     60    101 \n",
      "CONECT    22     29     37    103    104 \n",
      "CONECT    23     30     38     53    105 \n",
      "CONECT    24     31     39     45    106 \n",
      "CONECT    25     33     42     46     55 \n",
      "CONECT    26     34     43     47     56 \n",
      "CONECT    27     35     44     49     57 \n",
      "CONECT    28     36     50     58    112 \n",
      "CONECT    29      8     15     22     61 \n",
      "CONECT    30      9     16     23     62 \n",
      "CONECT    31     10     17     24     63 \n",
      "CONECT    32      1     11     18    107 \n",
      "CONECT    33     12     19     25     66 \n",
      "CONECT    34      2     13     26     99 \n",
      "CONECT    35      3     20     27     88 \n",
      "CONECT    36      4     14     21     28 \n",
      "CONECT    37      1      9     17     22 \n",
      "CONECT    38     18     23     64     82 \n",
      "CONECT    39     11     24     65     96 \n",
      "CONECT    40      2     19     85    108 \n",
      "CONECT    41      3     12    100    110 \n",
      "CONECT    42      4     13     20     25 \n",
      "CONECT    43      5     21     26     87 \n",
      "CONECT    44      6     14     27    102 \n",
      "CONECT    45      1     24     78     90 \n",
      "CONECT    46      2      9     15     25 \n",
      "CONECT    47     16     26     67     82 \n",
      "CONECT    48      3     10     95    111 \n",
      "CONECT    49      4     11     17     27 \n",
      "CONECT    50      5     18     28     84 \n",
      "CONECT    51     13     19     73    113 \n",
      "CONECT    52      7     14     20    115 \n",
      "CONECT    53      1     23     77     91 \n",
      "CONECT    54      2     16     79    109 \n",
      "CONECT    55      3      8     17     25 \n",
      "CONECT    56      4      9     18     26 \n",
      "CONECT    57     10     27     70     96 \n",
      "CONECT    58      6     11     28     97 \n",
      "CONECT    59     12     20     74    113 \n",
      "CONECT    60      7     13     21    114 \n",
      "CONECT    61     29 \n",
      "CONECT    62     30 \n",
      "CONECT    63     31 \n",
      "CONECT    64     38 \n",
      "CONECT    65     39 \n",
      "CONECT    66     33 \n",
      "CONECT    67     47 \n",
      "CONECT    68      5 \n",
      "CONECT    69      5 \n",
      "CONECT    70     57 \n",
      "CONECT    71      6 \n",
      "CONECT    72      6 \n",
      "CONECT    73     51 \n",
      "CONECT    74     59 \n",
      "CONECT    75      7 \n",
      "CONECT    76      7 \n",
      "CONECT    77     53 \n",
      "CONECT    78     45 \n",
      "CONECT    79     54 \n",
      "CONECT    80      8 \n",
      "CONECT    81      8 \n",
      "CONECT    82     38     47 \n",
      "CONECT    83     10 \n",
      "CONECT    84     50 \n",
      "CONECT    85     40 \n",
      "CONECT    86     12 \n",
      "CONECT    87     43 \n",
      "CONECT    88     35 \n",
      "CONECT    89     14 \n",
      "CONECT    90     45 \n",
      "CONECT    91     53 \n",
      "CONECT    92     15 \n",
      "CONECT    93     15 \n",
      "CONECT    94     16 \n",
      "CONECT    95     48 \n",
      "CONECT    96     39     57 \n",
      "CONECT    97     58 \n",
      "CONECT    98     19 \n",
      "CONECT    99     34 \n",
      "CONECT   100     41 \n",
      "CONECT   101     21 \n",
      "CONECT   102     44 \n",
      "CONECT   103     22 \n",
      "CONECT   104     22 \n",
      "CONECT   105     23 \n",
      "CONECT   106     24 \n",
      "CONECT   107     32 \n",
      "CONECT   108     40 \n",
      "CONECT   109     54 \n",
      "CONECT   110     41 \n",
      "CONECT   111     48 \n",
      "CONECT   112     28 \n",
      "CONECT   113     51     59 \n",
      "CONECT   114     60 \n",
      "CONECT   115     52 \n",
      "\n"
     ]
    }
   ],
   "source": [
    "params = {\"Rcut\":Rbond, \n",
    "          \"tv1\":Nx*a, \"tv2\":Ny*b, \"tv3\":Nz*c,\n",
    "          \"pbc_opt\":\"none\", \"opt\":0, \"verbosity\":0\n",
    "         }\n",
    "res, line, pairs = autoconnect.autoconnect(R, MaxCoord2, params)\n",
    "\n",
    "print(\"Autodetermined connections: \")\n",
    "print(line)"
   ]
  },
  {
   "cell_type": "markdown",
   "metadata": {},
   "source": [
    "Create the chemical system object and save it in the .ent form suitable for force field calculations"
   ]
  },
  {
   "cell_type": "code",
   "execution_count": 43,
   "metadata": {},
   "outputs": [],
   "source": [
    "# Create an empty chemical system object\n",
    "syst = System()\n",
    "\n",
    "# Add all the atoms of the final QD to the chemical system object\n",
    "build.add_atoms_to_system(syst, L, R, VECTOR(1.0, 1.0, 1.0), masses, \"elements.dat\")\n",
    "\n",
    "# And print it out in the .ent format. Note, this will only print out the coordinates, and not the connectivities\n",
    "syst.print_ent(\"CdSe-qd-capped.ent\") \n",
    "\n",
    "# We print out the connectivities afterwards manually\n",
    "f = open(\"CdSe-qd-capped.ent\", \"a\")\n",
    "f.write(\"END\\n\")\n",
    "f.write(line)\n",
    "f.write(\"END\\n\")\n",
    "f.close()\n"
   ]
  },
  {
   "cell_type": "markdown",
   "metadata": {},
   "source": [
    "Here, we visualize the VMD picture of the created QD\n",
    "\n",
    "![](CdSe-qd-capped.png)"
   ]
  },
  {
   "cell_type": "markdown",
   "metadata": {},
   "source": [
    "### 4.2. Without capping\n",
    "<a name=\"4.2.\"></a>[Back to TOC](#TOC)\n",
    "\n",
    "This example shows how to build a CdSe quantum dot (QD) of a given size.\n",
    "\n",
    "Here, we don't cap the surface atoms, but still generate the connectivity map \n",
    "for the final QD to save the file in the .ent format for futher use in MD simulations\n",
    "\n",
    "First, let's repeat many steps of the workflow above:\n",
    "<a name=\"crop_sphere_xyz2-1\"></a>"
   ]
  },
  {
   "cell_type": "code",
   "execution_count": 44,
   "metadata": {},
   "outputs": [],
   "source": [
    "a = VECTOR(5.833, 0.0, 0.0) * units.Angst\n",
    "b = VECTOR(0.0, 5.833, 0.0) * units.Angst\n",
    "c = VECTOR(0.0, 0.0, 5.833) * units.Angst\n",
    "\n",
    "L0, R0 = build.read_xyz(\"CdSe.xyz\")\n",
    "L1, R1 = build.generate_replicas_xyz2(L0, R0, a, b, c, 6, 6, 6)\n",
    "\n",
    "PT_coord = { \"Cd\": 4, \"Se\": 4, \"H\":1 }\n",
    "MaxCoord1 = []\n",
    "masses = []\n",
    "for i in L1:\n",
    "    MaxCoord1.append(PT_coord[i])    # maximal coordination number of each atom in super-cell\n",
    "    masses.append(1.0)      \n",
    "    \n",
    "Rbond = 3.001 * units.Angst\n",
    "Rdot = 7.0 * units.Angst\n",
    "\n",
    "# Finally, we can carve a QD out of the super-cell. All the atoms that are outside the shepre of Rdot radius\n",
    "# are removed. The L and R variables will contain the labels and coordinates of the final (QD) atoms.\n",
    "L, R = build.crop_sphere_xyz2(L1, R1, Rdot)\n"
   ]
  },
  {
   "cell_type": "markdown",
   "metadata": {},
   "source": [
    "Note that we simply skipped the step of determining the connectivities and atom substitutions before we do the cropping.\n",
    "\n",
    "For this reason, we use the version `2` of the cropping, instead of the version `3`. It does not need any information about the connectivities and the atom replacement rules.\n",
    "<a name=\"crop_sphere_xyz2-2\"></a>"
   ]
  },
  {
   "cell_type": "code",
   "execution_count": 45,
   "metadata": {},
   "outputs": [
    {
     "name": "stdout",
     "output_type": "stream",
     "text": [
      "Help on function crop_sphere_xyz2 in module libra_py.build:\n",
      "\n",
      "crop_sphere_xyz2(L, R, Rcut)\n",
      "    This function removes all atoms that are outside of a sphere of \n",
      "    Rcut radius. The sphere is centered on GEOMETRIC center of the \n",
      "    system\n",
      "    \n",
      "    Args: \n",
      "        L ( list of strings ): element names, this list will be trimmed accordingly\n",
      "        R ( VECTORList or list of VECTOR objects): coordinates of the particles [ Bohr ]\n",
      "        Rcut ( double ): the radius of the sphere from the center of the QD [ Bohrs ]\n",
      "    \n",
      "    Returns:\n",
      "        tuple: (lab, coords), where:\n",
      "    \n",
      "            * lab ( list of N strings ): the labels of all remaining atoms\n",
      "            * coords ( list of N VECTORs ): the coordinates of all remaining atoms\n",
      "\n"
     ]
    }
   ],
   "source": [
    "help(build.crop_sphere_xyz2)"
   ]
  },
  {
   "cell_type": "markdown",
   "metadata": {},
   "source": [
    "The rest of the workflow is as before"
   ]
  },
  {
   "cell_type": "code",
   "execution_count": 46,
   "metadata": {
    "scrolled": true
   },
   "outputs": [
    {
     "name": "stdout",
     "output_type": "stream",
     "text": [
      "Autodetermined connections: \n",
      "CONECT     1     32     37     45     53 \n",
      "CONECT     2     34     40     46     54 \n",
      "CONECT     3     35     41     48     55 \n",
      "CONECT     4     36     42     49     56 \n",
      "CONECT     5     43     50 \n",
      "CONECT     6     44     58 \n",
      "CONECT     7     52     60 \n",
      "CONECT     8     29     55 \n",
      "CONECT     9     30     37     46     56 \n",
      "CONECT    10     31     48     57 \n",
      "CONECT    11     32     39     49     58 \n",
      "CONECT    12     33     41     59 \n",
      "CONECT    13     34     42     51     60 \n",
      "CONECT    14     36     44     52 \n",
      "CONECT    15     29     46 \n",
      "CONECT    16     30     47     54 \n",
      "CONECT    17     31     37     49     55 \n",
      "CONECT    18     32     38     50     56 \n",
      "CONECT    19     33     40     51 \n",
      "CONECT    20     35     42     52     59 \n",
      "CONECT    21     36     43     60 \n",
      "CONECT    22     29     37 \n",
      "CONECT    23     30     38     53 \n",
      "CONECT    24     31     39     45 \n",
      "CONECT    25     33     42     46     55 \n",
      "CONECT    26     34     43     47     56 \n",
      "CONECT    27     35     44     49     57 \n",
      "CONECT    28     36     50     58 \n",
      "CONECT    29      8     15     22 \n",
      "CONECT    30      9     16     23 \n",
      "CONECT    31     10     17     24 \n",
      "CONECT    32      1     11     18 \n",
      "CONECT    33     12     19     25 \n",
      "CONECT    34      2     13     26 \n",
      "CONECT    35      3     20     27 \n",
      "CONECT    36      4     14     21     28 \n",
      "CONECT    37      1      9     17     22 \n",
      "CONECT    38     18     23 \n",
      "CONECT    39     11     24 \n",
      "CONECT    40      2     19 \n",
      "CONECT    41      3     12 \n",
      "CONECT    42      4     13     20     25 \n",
      "CONECT    43      5     21     26 \n",
      "CONECT    44      6     14     27 \n",
      "CONECT    45      1     24 \n",
      "CONECT    46      2      9     15     25 \n",
      "CONECT    47     16     26 \n",
      "CONECT    48      3     10 \n",
      "CONECT    49      4     11     17     27 \n",
      "CONECT    50      5     18     28 \n",
      "CONECT    51     13     19 \n",
      "CONECT    52      7     14     20 \n",
      "CONECT    53      1     23 \n",
      "CONECT    54      2     16 \n",
      "CONECT    55      3      8     17     25 \n",
      "CONECT    56      4      9     18     26 \n",
      "CONECT    57     10     27 \n",
      "CONECT    58      6     11     28 \n",
      "CONECT    59     12     20 \n",
      "CONECT    60      7     13     21 \n",
      "\n"
     ]
    }
   ],
   "source": [
    "# Now, we are going to auto-connect all the atoms in the final QD\n",
    "# Define the maximal coordination for the atoms \n",
    "MaxCoord2 = []\n",
    "for i in L:\n",
    "    MaxCoord2.append(PT_coord[i])   # maximal coordination number of each atom in the resulting QD\n",
    "\n",
    "    \n",
    "params = {\"Rcut\":Rbond, \n",
    "          \"tv1\":Nx*a, \"tv2\":Ny*b, \"tv3\":Nz*c,\n",
    "          \"pbc_opt\":\"none\", \"opt\":0, \"verbosity\":0\n",
    "         }\n",
    "\n",
    "# Determine the connectivities of the new set of atoms\n",
    "res, line, pairs = autoconnect.autoconnect(R, MaxCoord2, params)\n",
    "print(\"Autodetermined connections: \")\n",
    "print(line)\n",
    "\n",
    "\n",
    "syst = System()\n",
    "build.add_atoms_to_system(syst, L, R, VECTOR(1.0, 1.0, 1.0), masses, \"elements.dat\")\n",
    "syst.print_ent(\"CdSe-qd-uncapped.ent\") \n",
    "f = open(\"CdSe-qd-uncapped.ent\", \"a\")\n",
    "f.write(\"END\\n\")\n",
    "f.write(line)\n",
    "f.write(\"END\\n\")\n",
    "f.close()\n"
   ]
  },
  {
   "cell_type": "markdown",
   "metadata": {},
   "source": [
    "Visualize the produced QD\n",
    "\n",
    "![](CdSe-qd-uncapped.png)"
   ]
  },
  {
   "cell_type": "markdown",
   "metadata": {},
   "source": [
    "### 4.3. Streamlined building of QDs\n",
    "<a name=\"4.3.\"></a>[Back to TOC](#TOC)\n",
    "\n",
    "This example demonstrates how to build a quantum dot (QD) of a given radius.\n",
    "\n",
    "Here, we first generate the xyz with the supercell, using `generate_replicas_xyz`\n",
    "\n",
    "<a name=\"generate_replicas_xyz-1\"></a>"
   ]
  },
  {
   "cell_type": "code",
   "execution_count": 47,
   "metadata": {},
   "outputs": [
    {
     "name": "stdout",
     "output_type": "stream",
     "text": [
      "Help on function generate_replicas_xyz in module libra_py.build:\n",
      "\n",
      "generate_replicas_xyz(tv1, tv2, tv3, rep1, rep2, rep3, filename, outfile, inp_units=0, out_units=0)\n",
      "    This function generates a lattice of coordinates and an array of \n",
      "    corresponding atomic labels by replicating a given set of labeled\n",
      "    atoms periodically in up to 3 dimensions (with a variable number of \n",
      "    replicas in each direction). This function first reads in the \n",
      "    atomic coordinates (supplied in an .xyz format) and then writes \n",
      "    the resulting data into another file (.xyz format)\n",
      "    \n",
      "    Args:\n",
      "        tv1 ( VECTOR ): translation vector in direction 1 [defined by inp_units] \n",
      "        tv2 ( VECTOR ): translation vector in direction 2 [defined by inp_units] \n",
      "        tv3 ( VECTOR ): translation vector in direction 3 [defined by inp_units] \n",
      "        rep1 ( int ): the number of replications along the vector tv1, not counting the original cell\n",
      "        rep2 ( int ): the number of replications along the vector tv2, not counting the original cell\n",
      "        rep3 ( int ): the number of replications along the vector tv3, not counting the original cell\n",
      "        filename ( string ): the name of the file containing input coordinates (original unit cell)\n",
      "        outfile ( string ): the name of the file where the resulting lattice atoms will be written\n",
      "        inp_units ( int ): defines the units of variables in filename, tv1, tv2, and tv3:\n",
      "    \n",
      "            * 0 - Bohr ( default )\n",
      "            * 1 - Angstrom \n",
      "    \n",
      "        out_units ( int ): defines the units of the coordinates written to outfile\n",
      "    \n",
      "            * 0 - Bohr ( default )\n",
      "            * 1 - Angstrom \n",
      "    \n",
      "    Returns:\n",
      "        None: but a new .xyz file will be printed out\n",
      "    \n",
      "    Example:\n",
      "        The example below read in a unit cell of Si (8 atoms), replicates in 5 times \n",
      "        in x, y, and z directions (so we get a 6 x 6 x 6 supercell). The resulting \n",
      "        structure is written to the \"cube10.xyz\" file\n",
      "    \n",
      "        >>> a = [     5.4307100000000000,    0.0000000000000000,    0.0000000000000000 ]\n",
      "        >>> b = [     0.0000000000000000,    5.4307100000000000,    0.0000000000000000 ]\n",
      "        >>> c = [     0.0000000000000000,    0.0000000000000000,    5.4307100000000000 ]\n",
      "        >>> generate_replicas_xyz(a, b, c, 5, 5, 5 , \"Si.xyz\", \"cube10.xyz\")\n",
      "\n"
     ]
    }
   ],
   "source": [
    "help(build.generate_replicas_xyz)"
   ]
  },
  {
   "cell_type": "markdown",
   "metadata": {},
   "source": [
    "And then use even simpler than before cropping function `crop_sphere_xyz`\n",
    "<a name=\"crop_sphere_xyz-1\"></a>"
   ]
  },
  {
   "cell_type": "code",
   "execution_count": 48,
   "metadata": {},
   "outputs": [
    {
     "name": "stdout",
     "output_type": "stream",
     "text": [
      "Help on function crop_sphere_xyz in module libra_py.build:\n",
      "\n",
      "crop_sphere_xyz(infile, outfile, Rcut)\n",
      "    This function reads an .xyz file with the geometry, cuts the atoms that are outside\n",
      "    of a sphere of given radius and then prints out the remaining atoms to a new file\n",
      "    in .xyz format\n",
      "    \n",
      "    Args: \n",
      "        infile ( string ): the name of the .xyz file that contains the original coordinates\n",
      "        outfile ( string ): the name of the new .xyz file to create (with the cropped geometry)\n",
      "        Rcut ( double ): the radius of the sphere from the center of the QD [ same units as used in infile ]\n",
      "    \n",
      "    Returns:\n",
      "        tuple: (lab, coords), where:\n",
      "    \n",
      "            * lab ( list of N strings ): the labels of all remaining atoms\n",
      "            * coords ( list of N VECTORs ): the coordinates of all remaining atoms\n",
      "    \n",
      "    Example:\n",
      "        The example below read in a unit cell of Si (8 atoms), replicates in 5 times \n",
      "        in x, y, and z directions (so we get a 6 x 6 x 6 supercell). The resulting \n",
      "        structure is written to the \"cube10.xyz\" file. Then the file cube10.xyz\n",
      "        is read and cropped to make a sphere of 5 Angstrom. The resulting system\n",
      "        is then printed out to the \"qd_5.xyz\" file.\n",
      "    \n",
      "        >>> a = [     5.4307100000000000,    0.0000000000000000,    0.0000000000000000 ]\n",
      "        >>> b = [     0.0000000000000000,    5.4307100000000000,    0.0000000000000000 ]\n",
      "        >>> c = [     0.0000000000000000,    0.0000000000000000,    5.4307100000000000 ]\n",
      "        >>> generate_replicas_xyz(a, b, c, 5, 5, 5 , \"Si.xyz\", \"cube10.xyz\")\n",
      "        >>> crop_sphere_xyz(\"cube10.xyz\", \"qd_5.xyz\", 5.0)\n",
      "\n"
     ]
    }
   ],
   "source": [
    "help(build.crop_sphere_xyz)"
   ]
  },
  {
   "cell_type": "code",
   "execution_count": 49,
   "metadata": {},
   "outputs": [
    {
     "name": "stdout",
     "output_type": "stream",
     "text": [
      " Molecule \n"
     ]
    },
    {
     "data": {
      "text/plain": [
       "(['Si',\n",
       "  'Si',\n",
       "  'Si',\n",
       "  'Si',\n",
       "  'Si',\n",
       "  'Si',\n",
       "  'Si',\n",
       "  'Si',\n",
       "  'Si',\n",
       "  'Si',\n",
       "  'Si',\n",
       "  'Si',\n",
       "  'Si',\n",
       "  'Si',\n",
       "  'Si',\n",
       "  'Si'],\n",
       " [<liblibra_core.VECTOR at 0x7f5a57dcc8f0>,\n",
       "  <liblibra_core.VECTOR at 0x7f5a57dcc928>,\n",
       "  <liblibra_core.VECTOR at 0x7f5a57dcc960>,\n",
       "  <liblibra_core.VECTOR at 0x7f5a57dcc998>,\n",
       "  <liblibra_core.VECTOR at 0x7f5a57dcc9d0>,\n",
       "  <liblibra_core.VECTOR at 0x7f5a57dcca08>,\n",
       "  <liblibra_core.VECTOR at 0x7f5a57dcca40>,\n",
       "  <liblibra_core.VECTOR at 0x7f5a57dcca78>,\n",
       "  <liblibra_core.VECTOR at 0x7f5a57dccab0>,\n",
       "  <liblibra_core.VECTOR at 0x7f5a57dccae8>,\n",
       "  <liblibra_core.VECTOR at 0x7f5a57dccb20>,\n",
       "  <liblibra_core.VECTOR at 0x7f5a57dccb58>,\n",
       "  <liblibra_core.VECTOR at 0x7f5a57dccb90>,\n",
       "  <liblibra_core.VECTOR at 0x7f5a57dccbc8>,\n",
       "  <liblibra_core.VECTOR at 0x7f5a57dccc00>,\n",
       "  <liblibra_core.VECTOR at 0x7f5a57dccc38>])"
      ]
     },
     "execution_count": 49,
     "metadata": {},
     "output_type": "execute_result"
    }
   ],
   "source": [
    "## Si QD\n",
    "a = [     5.4307100000000000,    0.0000000000000000,    0.0000000000000000 ]\n",
    "b = [     0.0000000000000000,    5.4307100000000000,    0.0000000000000000 ]\n",
    "c = [     0.0000000000000000,    0.0000000000000000,    5.4307100000000000 ]\n",
    "build.generate_replicas_xyz(a, b, c, 5, 5, 5 , \"Si.xyz\", \"si-5.xyz\")\n",
    "build.crop_sphere_xyz(\"si-5.xyz\", \"si_5.xyz\", 5.0)"
   ]
  },
  {
   "cell_type": "markdown",
   "metadata": {},
   "source": [
    "Visualizing in VMD:\n",
    "\n",
    "|  The cubic supercell   |   The carved out sphere |\n",
    "|------------------------|-------------------------|\n",
    "| ![](si-5.png)          | ![](si-5-qd.png)        |"
   ]
  },
  {
   "cell_type": "code",
   "execution_count": 50,
   "metadata": {},
   "outputs": [
    {
     "name": "stdout",
     "output_type": "stream",
     "text": [
      " Molecule \n",
      " Molecule \n",
      " Molecule \n"
     ]
    }
   ],
   "source": [
    "## CdSe QD\n",
    "a = [5.833, 0.0, 0.0]\n",
    "b = [0.0, 5.833, 0.0]\n",
    "c = [0.0, 0.0, 5.833]\n",
    "build.generate_replicas_xyz(a, b, c, 20, 20, 20 , \"CdSe.xyz\", \"cdse-20.xyz\")\n",
    "label, R = build.crop_sphere_xyz(\"cdse-20.xyz\", \"cdse_15.xyz\", 15.0)\n",
    "\n",
    "label, R = build.crop_sphere_xyz(\"cdse-20.xyz\", \"cdse_25.xyz\", 25.0)\n",
    "\n",
    "label, R = build.crop_sphere_xyz(\"cdse-20.xyz\", \"cdse_35.xyz\", 35.0)\n"
   ]
  },
  {
   "cell_type": "markdown",
   "metadata": {},
   "source": [
    "\n",
    "|  Supercell  |    QD (R = 1.5 nm)  |   QD (R = 2.5 nm)  |  QD (R = 3.5 nm)  |\n",
    "|-------------|---------------------|--------------------|-------------------|\n",
    "| ![](cdse-20.png)  |  ![](cdse_15.png)  |  ![](cdse_25.png)  |  ![](cdse_35.png) |\n"
   ]
  }
 ],
 "metadata": {
  "kernelspec": {
   "display_name": "Python 3",
   "language": "python",
   "name": "python3"
  },
  "language_info": {
   "codemirror_mode": {
    "name": "ipython",
    "version": 3
   },
   "file_extension": ".py",
   "mimetype": "text/x-python",
   "name": "python",
   "nbconvert_exporter": "python",
   "pygments_lexer": "ipython3",
   "version": "3.6.13"
  }
 },
 "nbformat": 4,
 "nbformat_minor": 2
}
