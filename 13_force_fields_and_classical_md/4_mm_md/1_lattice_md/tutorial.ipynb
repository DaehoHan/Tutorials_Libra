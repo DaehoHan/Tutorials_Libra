{
 "cells": [
  {
   "cell_type": "markdown",
   "metadata": {},
   "source": [
    "This tutorial demonstrates runing Molecular Dynamics (MD) simulations on lattice systems.\n",
    "First, import all the stuff we'll need"
   ]
  },
  {
   "cell_type": "code",
   "execution_count": 1,
   "metadata": {},
   "outputs": [
    {
     "name": "stdout",
     "output_type": "stream",
     "text": [
      "The history saving thread hit an unexpected error (DatabaseError('database disk image is malformed',)).History will not be written to the database.\n"
     ]
    },
    {
     "name": "stderr",
     "output_type": "stream",
     "text": [
      "/home/alexey/Conda/Miniconda3/envs/libra/lib/python3.6/importlib/_bootstrap.py:219: RuntimeWarning: to-Python converter for std::vector<std::vector<int, std::allocator<int> >, std::allocator<std::vector<int, std::allocator<int> > > > already registered; second conversion method ignored.\n",
      "  return f(*args, **kwds)\n",
      "/home/alexey/Conda/Miniconda3/envs/libra/lib/python3.6/importlib/_bootstrap.py:219: RuntimeWarning: to-Python converter for boost::python::detail::container_element<std::vector<std::vector<int, std::allocator<int> >, std::allocator<std::vector<int, std::allocator<int> > > >, unsigned long, boost::python::detail::final_vector_derived_policies<std::vector<std::vector<int, std::allocator<int> >, std::allocator<std::vector<int, std::allocator<int> > > >, false> > already registered; second conversion method ignored.\n",
      "  return f(*args, **kwds)\n",
      "/home/alexey/Conda/Miniconda3/envs/libra/lib/python3.6/importlib/_bootstrap.py:219: RuntimeWarning: to-Python converter for std::vector<std::vector<float, std::allocator<float> >, std::allocator<std::vector<float, std::allocator<float> > > > already registered; second conversion method ignored.\n",
      "  return f(*args, **kwds)\n",
      "/home/alexey/Conda/Miniconda3/envs/libra/lib/python3.6/importlib/_bootstrap.py:219: RuntimeWarning: to-Python converter for boost::python::detail::container_element<std::vector<std::vector<float, std::allocator<float> >, std::allocator<std::vector<float, std::allocator<float> > > >, unsigned long, boost::python::detail::final_vector_derived_policies<std::vector<std::vector<float, std::allocator<float> >, std::allocator<std::vector<float, std::allocator<float> > > >, false> > already registered; second conversion method ignored.\n",
      "  return f(*args, **kwds)\n",
      "/home/alexey/Conda/Miniconda3/envs/libra/lib/python3.6/importlib/_bootstrap.py:219: RuntimeWarning: to-Python converter for std::vector<std::vector<double, std::allocator<double> >, std::allocator<std::vector<double, std::allocator<double> > > > already registered; second conversion method ignored.\n",
      "  return f(*args, **kwds)\n",
      "/home/alexey/Conda/Miniconda3/envs/libra/lib/python3.6/importlib/_bootstrap.py:219: RuntimeWarning: to-Python converter for boost::python::detail::container_element<std::vector<std::vector<double, std::allocator<double> >, std::allocator<std::vector<double, std::allocator<double> > > >, unsigned long, boost::python::detail::final_vector_derived_policies<std::vector<std::vector<double, std::allocator<double> >, std::allocator<std::vector<double, std::allocator<double> > > >, false> > already registered; second conversion method ignored.\n",
      "  return f(*args, **kwds)\n",
      "/home/alexey/Conda/Miniconda3/envs/libra/lib/python3.6/importlib/_bootstrap.py:219: RuntimeWarning: to-Python converter for std::vector<std::vector<std::complex<double>, std::allocator<std::complex<double> > >, std::allocator<std::vector<std::complex<double>, std::allocator<std::complex<double> > > > > already registered; second conversion method ignored.\n",
      "  return f(*args, **kwds)\n",
      "/home/alexey/Conda/Miniconda3/envs/libra/lib/python3.6/importlib/_bootstrap.py:219: RuntimeWarning: to-Python converter for boost::python::detail::container_element<std::vector<std::vector<std::complex<double>, std::allocator<std::complex<double> > >, std::allocator<std::vector<std::complex<double>, std::allocator<std::complex<double> > > > >, unsigned long, boost::python::detail::final_vector_derived_policies<std::vector<std::vector<std::complex<double>, std::allocator<std::complex<double> > >, std::allocator<std::vector<std::complex<double>, std::allocator<std::complex<double> > > > >, false> > already registered; second conversion method ignored.\n",
      "  return f(*args, **kwds)\n"
     ]
    }
   ],
   "source": [
    "import os\n",
    "import sys\n",
    "import math\n",
    "import copy\n",
    "\n",
    "if sys.platform==\"cygwin\":\n",
    "    from cyglibra_core import *\n",
    "elif sys.platform==\"linux\" or sys.platform==\"linux2\":\n",
    "    from liblibra_core import *\n",
    "from libra_py import *\n",
    "\n",
    "import py3Dmol   # molecular visualization\n",
    "import matplotlib.pyplot as plt   # plots\n",
    "%matplotlib inline "
   ]
  },
  {
   "cell_type": "markdown",
   "metadata": {},
   "source": [
    "Define a function that initializes interactions - that is it zeroes forces on all atoms (and the Hessian), as well as does the same for all of the interactions one have defined"
   ]
  },
  {
   "cell_type": "code",
   "execution_count": 2,
   "metadata": {},
   "outputs": [],
   "source": [
    "def init_interactions(interactions, syst, Hess):\n",
    "    \"\"\"\n",
    "    interactions - (list of Interaction_N_Body or derived objects). Represents interactions\n",
    "    syst - (System) - Chemical system object\n",
    "    Hess - (MATRIX) - A Hessian matrix\n",
    "\n",
    "    This function sets energy, atomic stress, all forces and Hessian matrix to zero\n",
    "    \"\"\"\n",
    "\n",
    "    for inter in interactions:\n",
    "        inter.energy = 0.0\n",
    "        inter.stress_at *= 0.0\n",
    "\n",
    "    syst.zero_atom_forces()\n",
    "\n",
    "    Hess *= 0.0"
   ]
  },
  {
   "cell_type": "markdown",
   "metadata": {},
   "source": [
    "Once all the pairs (connections) are somehow defined for the system, one can initialize the interaction objects. So far, we can have only 2-body (2B) interactions. In particular, one of them is a harmoninc potential, which can also exist for atoms connected periodiacally - for this reason, we need to define the translation vectors. "
   ]
  },
  {
   "cell_type": "code",
   "execution_count": 3,
   "metadata": {},
   "outputs": [],
   "source": [
    "def set_interactions_2B(syst, Hess, pairs, K, dist):\n",
    "    \"\"\"\n",
    "    This is a general setter of the 2-body interactions\n",
    "\n",
    "    syst - (System) - Chemical system object\n",
    "    Hess - (MATRIX) - Hessian \n",
    "    pairs - ([int, int, VECTOR, VECTOR]) - defines the interacting pair, the two integers are the\n",
    "         indices of the atoms, the two vectors are their periodic translations\n",
    "    K - (double) - force constant for the Harmonic potential of the type U = k*(r-r_0)^2\n",
    "    dist - (double) - r_0 in the above equation\n",
    "\n",
    "    Define interactions in the system. \n",
    "    Once the variables are set, the all the calculations are also run.\n",
    "\n",
    "    \"\"\"\n",
    "\n",
    "    N_int = len(pairs)\n",
    "\n",
    "    inter = []\n",
    "        \n",
    "    for i in range(N_int):\n",
    "        I, J = pairs[i][0], pairs[i][1]\n",
    "        inter.append( Bond_Interaction() )\n",
    "        inter[i].set_functional(\"Harmonic\")\n",
    "        inter[i].set_params({\"K\":K, \"r0\":dist })\n",
    "        inter[i].set_coords(syst.Atoms[I].Atom_RB.rb_cm, syst.Atoms[J].Atom_RB.rb_cm)\n",
    "        inter[i].set_transl(pairs[i][2], pairs[i][3])\n",
    "        inter[i].set_forces(syst.Atoms[I].Atom_RB.rb_force, syst.Atoms[J].Atom_RB.rb_force)\n",
    "        inter[i].set_hessian(Hess, Py2Cpp_int([3*I, 3*I+1, 3*I+2, 3*J, 3*J+1, 3*J+2]))\n",
    "\n",
    "    return inter"
   ]
  },
  {
   "cell_type": "markdown",
   "metadata": {},
   "source": [
    "The function below will zero-out all the interactions and re-comute them again, updating the forces of the molecular system"
   ]
  },
  {
   "cell_type": "code",
   "execution_count": 4,
   "metadata": {},
   "outputs": [],
   "source": [
    "def potential(interactions, syst, Hess):\n",
    "    \"\"\"\n",
    "    interactions - (list of Interaction_N_Body or derived objects). Represents interactions\n",
    "    syst - (System) - Chemical system object\n",
    "    Hess - (MATRIX) - A Hessian matrix\n",
    "\n",
    "    Compute potential energy and all related variables. This function also\n",
    "    takes care of zeroing all the forces, stress, and Hessian before all the\n",
    "    interactions are computed.\n",
    "    \"\"\"\n",
    "\n",
    "    init_interactions(interactions, syst, Hess)\n",
    "\n",
    "    energy = 0.0\n",
    "\n",
    "    N = len(interactions)\n",
    "    for i in range(N):\n",
    "        interactions[i].compute()        \n",
    "\n",
    "        energy = energy + interactions[i].energy\n",
    "    return energy    "
   ]
  },
  {
   "cell_type": "markdown",
   "metadata": {},
   "source": [
    "A function to compute kinetic energy of molecular system"
   ]
  },
  {
   "cell_type": "code",
   "execution_count": 5,
   "metadata": {},
   "outputs": [],
   "source": [
    "def kinetic(syst):\n",
    "    \"\"\"\n",
    "    syst - (System) - Chemical system object\n",
    "\n",
    "    Compute the kinetic energy    \n",
    "    \"\"\"\n",
    "\n",
    "    res = syst.ekin_tr_atom()\n",
    "\n",
    "    return res\n"
   ]
  },
  {
   "cell_type": "markdown",
   "metadata": {},
   "source": [
    "Finally, we are in position to define a MD procedure, which implements a simplest velocity Verlet algorithm for\n",
    "MD and collects all the necessary information along the trajectory"
   ]
  },
  {
   "cell_type": "code",
   "execution_count": 6,
   "metadata": {},
   "outputs": [],
   "source": [
    "def md(syst, R, MaxCoord, params):\n",
    "    \"\"\"\n",
    "    params - a dictionary of the control parameters\n",
    "\n",
    "    Run an MD simulation of the chain of N particles\n",
    "    \"\"\"\n",
    "\n",
    "    Nx, Ny, Nz = params[\"Nx\"], params[\"Ny\"], params[\"Nz\"]\n",
    "    a, b, c = params[\"a\"], params[\"b\"], params[\"c\"]\n",
    "    Rcut = params[\"Rcut\"]\n",
    "    pbc_opt = params[\"pbc_opt\"]\n",
    "\n",
    "    K = params[\"K\"]\n",
    "    dist_eq = params[\"dist_eq\"]\n",
    "    is_periodic = params[\"is_periodic\"]\n",
    "\n",
    "    dt = params[\"dt\"]\n",
    "    Nsteps = params[\"Nsteps\"]\n",
    "\n",
    "    \n",
    "    prms = {\"Rcut\":Rcut, \"tv1\":Nx*a, \"tv2\":Ny*b, \"tv3\":Nz*c, \"pbc_opt\":pbc_opt, \"opt\":0, \"verbosity\":0 }\n",
    "    \n",
    "    res, line, pairs = autoconnect.autoconnect(R, MaxCoord, prms) \n",
    "    print( len(pairs), \" pairwise interactions exist in this system\")\n",
    "    Nat = len(R)  # number of atoms\n",
    "   \n",
    "    # \"Charges\"\n",
    "    q = [0.0]*Nat\n",
    "\n",
    "    # Hessian\n",
    "    Hess = MATRIX(3*Nat,3*Nat)\n",
    "\n",
    "    # Initialize the interactions\n",
    "    inter = set_interactions_2B(syst, Hess, pairs, params[\"K\"], dist_eq)\n",
    "\n",
    "    # Compute all the energies\n",
    "    epot = potential(inter, syst, Hess)\n",
    "    ekin = kinetic(syst)\n",
    "    etot = ekin + epot\n",
    "    tim = 0.0\n",
    "\n",
    "    \n",
    "    res = [[], [], [], [], []]    \n",
    "    allxyz = \"\" \n",
    "\n",
    "    ##============ MD ==============================\n",
    "    mu = []\n",
    "\n",
    "    for j in range(Nsteps):\n",
    "\n",
    "        #====== MD: Verlet propagation ==========\n",
    "        for i in range(Nat):\n",
    "            syst.Atoms[i].Atom_RB.apply_force(0.5*dt)\n",
    "\n",
    "            iM = syst.Atoms[i].Atom_RB.rb_iM\n",
    "            Pi = syst.Atoms[i].Atom_RB.rb_p\n",
    "            syst.Atoms[i].Atom_RB.shift_position(dt*iM*Pi)\n",
    "\n",
    "        epot = potential(inter, syst, Hess)\n",
    "\n",
    "        for i in range(Nat):\n",
    "            syst.Atoms[i].Atom_RB.apply_force(0.5*dt)\n",
    "\n",
    "\n",
    "        ekin = kinetic(syst)\n",
    "        etot = ekin + epot\n",
    "        tim = tim + dt\n",
    "\n",
    "        res[0].append(tim)\n",
    "        res[1].append(ekin)\n",
    "        res[2].append(epot)\n",
    "        res[3].append(etot)        \n",
    "        allxyz = allxyz + syst.get_xyz(0, \"abc\", 0) #+\"\\n\"\n",
    "\n",
    "    return res, allxyz"
   ]
  },
  {
   "cell_type": "markdown",
   "metadata": {},
   "source": [
    "Define a lattice of certain atom types and initialize these atoms' momenta randomly"
   ]
  },
  {
   "cell_type": "code",
   "execution_count": 7,
   "metadata": {},
   "outputs": [],
   "source": [
    "rnd = Random()\n",
    "\n",
    "# Unit cell parameters\n",
    "a = VECTOR(2.0, 0.0, 0.0)\n",
    "b = VECTOR(0.0, 2.0, 0.0)\n",
    "c = VECTOR(0.0, 0.0, 2.0)\n",
    "\n",
    "# Create a Chemical system\n",
    "Nx, Ny, Nz = 10, 10, 1  # \n",
    "\n",
    "syst, R, MaxCoord = System(), [], []\n",
    "build.add_atom_to_system(syst, R, MaxCoord, Nx,Ny,Nz, a, b, c, VECTOR(0.0, 0.0, 0.0), \"H\", 2000.0, VECTOR(1.0, 0.0, 0.0), 6, rnd)"
   ]
  },
  {
   "cell_type": "markdown",
   "metadata": {},
   "source": [
    "Define the MD simulation parameters and perform the calculations"
   ]
  },
  {
   "cell_type": "code",
   "execution_count": 8,
   "metadata": {},
   "outputs": [
    {
     "name": "stdout",
     "output_type": "stream",
     "text": [
      "420  pairwise interactions exist in this system\n"
     ]
    }
   ],
   "source": [
    "params = {\"Nx\":Nx, \"Ny\":Ny, \"Nz\":Nz,\n",
    "          \"a\":a, \"b\":b, \"c\":c, \"Rcut\":2.001, \"pbc_opt\":\"abc\",\n",
    "          \"K\":0.1, \"dist_eq\":2.0, \"is_periodic\":1, \"dt\":20.0, \"Nsteps\":500 \n",
    "         }\n",
    "\n",
    "res, allxyz = md(syst, R, MaxCoord, params)"
   ]
  },
  {
   "cell_type": "markdown",
   "metadata": {},
   "source": [
    "Visualize the nuclear dynamics"
   ]
  },
  {
   "cell_type": "code",
   "execution_count": 10,
   "metadata": {},
   "outputs": [],
   "source": [
    "#view = py3Dmol.view(width=800,height=400)  # linked=False,viewergrid=(3,2)\\n\n",
    "#view.setBackgroundColor('0xeeeeee')                                     \n",
    "#view.zoomTo()                                                           \n",
    "#view.addModelsAsFrames(allxyz, 'xyz')\n",
    "#view.setStyle({'sphere':{'colorscheme':'Jmol', }})                        \n",
    "#view.animate({'reps':0, 'loop':'forward', 'step':5})\n",
    "#view.show()                 "
   ]
  },
  {
   "cell_type": "markdown",
   "metadata": {},
   "source": [
    "Plot the variables computed along the trajectory - e.g. total and kinetic energies. Note the magnitue of the \n",
    "total and kinetic energies' fluctuations"
   ]
  },
  {
   "cell_type": "code",
   "execution_count": 9,
   "metadata": {},
   "outputs": [
    {
     "data": {
      "text/plain": [
       "[<matplotlib.lines.Line2D at 0x7fe9f3c89f60>]"
      ]
     },
     "execution_count": 9,
     "metadata": {},
     "output_type": "execute_result"
    },
    {
     "data": {
      "image/png": "[encoded data removed]",
      "text/plain": [
       "<Figure size 720x288 with 2 Axes>"
      ]
     },
     "metadata": {
      "needs_background": "light"
     },
     "output_type": "display_data"
    }
   ],
   "source": [
    "plt.figure(1, figsize=(10, 4)) # dpi=300, frameon=False)\n",
    "plt.subplot(1,2,1)\n",
    "plt.title(\"Total energy\")\n",
    "plt.xlabel('Time, a.u.')\n",
    "plt.ylabel('Energy, a.u.')\n",
    "plt.plot(res[0], res[3], label='Total energy', linewidth=2, color = \"#8b1a0e\")\n",
    "\n",
    "plt.subplot(1,2,2)\n",
    "plt.title(\"Kinetic energy\")\n",
    "plt.xlabel('Time, a.u.')\n",
    "plt.ylabel('Energy, a.u.')\n",
    "plt.plot(res[0], res[1], label='Kinetic', linewidth=2, color = \"#5e9c36\")"
   ]
  },
  {
   "cell_type": "code",
   "execution_count": null,
   "metadata": {},
   "outputs": [],
   "source": []
  }
 ],
 "metadata": {
  "kernelspec": {
   "display_name": "Python 3",
   "language": "python",
   "name": "python3"
  },
  "language_info": {
   "codemirror_mode": {
    "name": "ipython",
    "version": 3
   },
   "file_extension": ".py",
   "mimetype": "text/x-python",
   "name": "python",
   "nbconvert_exporter": "python",
   "pygments_lexer": "ipython3",
   "version": "3.6.13"
  }
 },
 "nbformat": 4,
 "nbformat_minor": 2
}
