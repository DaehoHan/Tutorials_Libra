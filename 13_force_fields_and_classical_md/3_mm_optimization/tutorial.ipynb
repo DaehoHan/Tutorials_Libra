{
 "cells": [
  {
   "cell_type": "markdown",
   "metadata": {},
   "source": [
    "# Molecular Mechanics Optimization of Molecular Systems"
   ]
  },
  {
   "cell_type": "markdown",
   "metadata": {},
   "source": [
    "## Table of Content <a name=\"TOC\"></a>\n",
    "\n",
    "1. [General setups](#setups)\n",
    "\n",
    "\n",
    "2. [Regular optimization example](#2.) \n",
    "\n",
    "\n",
    "3. [Capping example](#3.)   \n"
   ]
  },
  {
   "cell_type": "markdown",
   "metadata": {},
   "source": [
    "### A. Learning objectives\n",
    "\n",
    "- to optimize the structure of a random molecule using classical MM in Libra\n",
    "- to construct a new molecule by adding new atoms to the existins molecule and linking atoms\n",
    "- to optimize the guessed structure of the new molecule\n",
    "\n",
    "\n",
    "### B. Use cases\n",
    "\n",
    "- molecular mechanics calculations (energy & forces)\n",
    "- structure optimization\n",
    "- simulated annealing\n",
    "- building molecular structure\n",
    "\n",
    "\n",
    "### C. Functions\n",
    "\n",
    "- `libra_py`  \n",
    "  - `nve_md`\n",
    "    - [`optimize_syst`](#optimize_syst-1) | [`optimize_syst`](#optimize_syst-2)\n",
    "    - [`syst2xyz`](#syst2xyz-1)\n",
    "          \n",
    "\n",
    "### D. Classes and class members\n",
    "\n",
    "- `liblibra::libchemobjects`\n",
    "  - `libchemsys`\n",
    "    - `System`\n",
    "      - [`CREATE_ATOM`](#CREATE_ATOM-1)        \n",
    "      - [`LINK_ATOMS`](#LINK_ATOMS-1)\n",
    "      "
   ]
  },
  {
   "cell_type": "markdown",
   "metadata": {},
   "source": [
    "## 1. General setups\n",
    "<a name=\"setups\"></a>[Back to TOC](#TOC)\n",
    "\n",
    "Let's import all the needed libraries, including the `py3Dmol` library for visualizing the structures we generate."
   ]
  },
  {
   "cell_type": "code",
   "execution_count": 1,
   "metadata": {},
   "outputs": [
    {
     "name": "stdout",
     "output_type": "stream",
     "text": [
      "The history saving thread hit an unexpected error (DatabaseError('database disk image is malformed',)).History will not be written to the database.\n"
     ]
    },
    {
     "name": "stderr",
     "output_type": "stream",
     "text": [
      "/home/alexey/Conda/Miniconda3/envs/libra/lib/python3.6/importlib/_bootstrap.py:219: RuntimeWarning: to-Python converter for std::vector<std::vector<int, std::allocator<int> >, std::allocator<std::vector<int, std::allocator<int> > > > already registered; second conversion method ignored.\n",
      "  return f(*args, **kwds)\n",
      "/home/alexey/Conda/Miniconda3/envs/libra/lib/python3.6/importlib/_bootstrap.py:219: RuntimeWarning: to-Python converter for boost::python::detail::container_element<std::vector<std::vector<int, std::allocator<int> >, std::allocator<std::vector<int, std::allocator<int> > > >, unsigned long, boost::python::detail::final_vector_derived_policies<std::vector<std::vector<int, std::allocator<int> >, std::allocator<std::vector<int, std::allocator<int> > > >, false> > already registered; second conversion method ignored.\n",
      "  return f(*args, **kwds)\n",
      "/home/alexey/Conda/Miniconda3/envs/libra/lib/python3.6/importlib/_bootstrap.py:219: RuntimeWarning: to-Python converter for std::vector<std::vector<float, std::allocator<float> >, std::allocator<std::vector<float, std::allocator<float> > > > already registered; second conversion method ignored.\n",
      "  return f(*args, **kwds)\n",
      "/home/alexey/Conda/Miniconda3/envs/libra/lib/python3.6/importlib/_bootstrap.py:219: RuntimeWarning: to-Python converter for boost::python::detail::container_element<std::vector<std::vector<float, std::allocator<float> >, std::allocator<std::vector<float, std::allocator<float> > > >, unsigned long, boost::python::detail::final_vector_derived_policies<std::vector<std::vector<float, std::allocator<float> >, std::allocator<std::vector<float, std::allocator<float> > > >, false> > already registered; second conversion method ignored.\n",
      "  return f(*args, **kwds)\n",
      "/home/alexey/Conda/Miniconda3/envs/libra/lib/python3.6/importlib/_bootstrap.py:219: RuntimeWarning: to-Python converter for std::vector<std::vector<double, std::allocator<double> >, std::allocator<std::vector<double, std::allocator<double> > > > already registered; second conversion method ignored.\n",
      "  return f(*args, **kwds)\n",
      "/home/alexey/Conda/Miniconda3/envs/libra/lib/python3.6/importlib/_bootstrap.py:219: RuntimeWarning: to-Python converter for boost::python::detail::container_element<std::vector<std::vector<double, std::allocator<double> >, std::allocator<std::vector<double, std::allocator<double> > > >, unsigned long, boost::python::detail::final_vector_derived_policies<std::vector<std::vector<double, std::allocator<double> >, std::allocator<std::vector<double, std::allocator<double> > > >, false> > already registered; second conversion method ignored.\n",
      "  return f(*args, **kwds)\n",
      "/home/alexey/Conda/Miniconda3/envs/libra/lib/python3.6/importlib/_bootstrap.py:219: RuntimeWarning: to-Python converter for std::vector<std::vector<std::complex<double>, std::allocator<std::complex<double> > >, std::allocator<std::vector<std::complex<double>, std::allocator<std::complex<double> > > > > already registered; second conversion method ignored.\n",
      "  return f(*args, **kwds)\n",
      "/home/alexey/Conda/Miniconda3/envs/libra/lib/python3.6/importlib/_bootstrap.py:219: RuntimeWarning: to-Python converter for boost::python::detail::container_element<std::vector<std::vector<std::complex<double>, std::allocator<std::complex<double> > >, std::allocator<std::vector<std::complex<double>, std::allocator<std::complex<double> > > > >, unsigned long, boost::python::detail::final_vector_derived_policies<std::vector<std::vector<std::complex<double>, std::allocator<std::complex<double> > >, std::allocator<std::vector<std::complex<double>, std::allocator<std::complex<double> > > > >, false> > already registered; second conversion method ignored.\n",
      "  return f(*args, **kwds)\n"
     ]
    }
   ],
   "source": [
    "import sys\n",
    "if sys.platform==\"cygwin\":\n",
    "    from cyglibra_core import *\n",
    "elif sys.platform==\"linux\" or sys.platform==\"linux2\":\n",
    "    from liblibra_core import *\n",
    "\n",
    "from libra_py import LoadPT\n",
    "from libra_py import LoadMolecule\n",
    "from libra_py import nve_md\n",
    "from libra_py import units\n",
    "\n",
    "import py3Dmol   # molecular visualization\n"
   ]
  },
  {
   "cell_type": "markdown",
   "metadata": {},
   "source": [
    "## 2. Regular optimization example\n",
    "<a name=\"2.\"></a>[Back to TOC](#TOC)\n",
    "\n",
    "Let's load the system from the file and save it as the first snapshot. \n",
    "\n",
    "Once a chemical system object is created it can always be saved as an xyz string (and written to the corresponding file) using the `syst2xyz` function.\n",
    "<a name=\"syst2xyz-1\"></a>"
   ]
  },
  {
   "cell_type": "code",
   "execution_count": 2,
   "metadata": {},
   "outputs": [
    {
     "name": "stdout",
     "output_type": "stream",
     "text": [
      "24\n",
      " 11 \n",
      "\n",
      "C  2.409 0.661 0.000\n",
      "H  3.084 1.614 1.652\n",
      "H  3.084 1.614 -1.652\n",
      "H  0.387 0.661 0.000\n",
      "C  3.379 -2.082 0.000\n",
      "H  2.706 -3.035 -1.652\n",
      "H  5.401 -2.082 -0.000\n",
      "C  2.409 -3.454 2.375\n",
      "H  3.086 -2.504 4.027\n",
      "H  0.387 -3.451 2.377\n",
      "F  3.256 -5.860 2.373\n",
      "\n"
     ]
    }
   ],
   "source": [
    "U = Universe()\n",
    "LoadPT.Load_PT(U, \"elements.dat\", 0)\n",
    "\n",
    "syst = System()    \n",
    "LoadMolecule.Load_Molecule(U, syst, \"test1a.pdb\", \"pdb_1\")    \n",
    "\n",
    "xyz = nve_md.syst2xyz(syst)\n",
    "print(xyz)"
   ]
  },
  {
   "cell_type": "markdown",
   "metadata": {},
   "source": [
    "Let's run the optimization recipe on this molecule and save the final snapshot.\n",
    "\n",
    "Under the hood, what the `optimize_syst` function is doing - is running the short MD trajectories followed by the cooling (resetting momenta to zero, hence taking away the excess kinetic energy). During the MD part, the system naturally converts its potential energy to the kinetic one, thus moving down on the PES. The cooling step takes away the produced heat (kinetic energy), hence making the process unidirectional in general.\n",
    "\n",
    "Here, the calculations are run with the default parameters as signified by the empty dictionary used as the second parameter.\n",
    "<a name=\"optimize_syst-1\"></a>"
   ]
  },
  {
   "cell_type": "code",
   "execution_count": 3,
   "metadata": {},
   "outputs": [
    {
     "name": "stdout",
     "output_type": "stream",
     "text": [
      " 11 \n",
      "\n",
      "C  2.423 0.670 -0.026\n",
      "H  3.121 1.714 1.657\n",
      "H  3.144 1.620 -1.752\n",
      "H  0.324 0.727 -0.056\n",
      "C  3.350 -2.059 0.033\n",
      "H  2.667 -3.057 -1.684\n",
      "H  5.450 -2.075 0.019\n",
      "C  2.399 -3.438 2.381\n",
      "H  3.095 -2.480 4.115\n",
      "H  0.300 -3.464 2.406\n",
      "F  3.274 -5.900 2.368\n",
      "\n"
     ]
    }
   ],
   "source": [
    "nve_md.optimize_syst(syst, {})\n",
    "\n",
    "xyz2 = nve_md.syst2xyz(syst)\n",
    "print(xyz2)"
   ]
  },
  {
   "cell_type": "markdown",
   "metadata": {},
   "source": [
    "We could have supplied non-default parameters, according to the expectations:"
   ]
  },
  {
   "cell_type": "code",
   "execution_count": 4,
   "metadata": {},
   "outputs": [
    {
     "name": "stdout",
     "output_type": "stream",
     "text": [
      "Help on function optimize_syst in module libra_py.nve_md:\n",
      "\n",
      "optimize_syst(syst, params)\n",
      "    A function to optimize the geometry of the system \n",
      "    \n",
      "    Args:\n",
      "        syst ( System object ): represents the chemical object\n",
      "        params ( dictionary ): control parameters:\n",
      "    \n",
      "            * **params[\"anneal_schedule\"]** ( list ): the annealing schedule. Each element of the list\n",
      "                consist of 3 elements: dt, ncycles, nsteps, where:\n",
      "                dt - the timestep for integration [ units: a.u. ]\n",
      "                ncycles - the number of cycles of annealing with dt \n",
      "                Each annealing cycle consists of ```nsteps```  steps of NVE MD steps followed by the cooling\n",
      "                Cooling just resets all the momenta and angular momenta to zero\n",
      "                Example:\n",
      "                    params[\"anneal_schedule\"] = [ [1.0, 100, 10], [20.0, 100, 100] ] means:\n",
      "                    First do 100 cycles of annealing: 10 MD steps with dt = 1 a.u. each followed by cooling\n",
      "                    Second do 100 cycles of annealing: 100 MD steps with dt = 20 a.u. each followed by cooling                \n",
      "    \n",
      "            * **params[\"elements_file\"]** ( string ): The file that contains properties of the elements \n",
      "                it is needed for construction of the Universe [ default: \"elements.dat\" ]\n",
      "            * **params[\"cooling_out1\"]** ( Boolean ): Whether to print out the energies along the simulated\n",
      "                cooling protocol. If selected, the info is printed out to the file \"_en_cooling.txt\" [ default: False ]\n",
      "            * **params[\"cooling_out2\"]** ( Boolean ): Whether to print out the coordinates in the xyz format.\n",
      "                If selected, the info is printed out to the \"_mol_cooling.xyz\" file [ default: False]\n",
      "            [ default: False ]\n",
      "    \n",
      "    \n",
      "            SeeAlso: is ```nve_md_step``` \n",
      "            * **params[\"dt\"]** ( double ): integration timestep [ units: a.u., default: 20.0 ]\n",
      "            * **params[\"integrator\"]** ( string ): The rigid-body MD integrator [ default: \"DLML\" ]\n",
      "            * **params[\"fixed_fragment_translation\"]** ( list of ints ): the indices (starting from 0)\n",
      "                of the fragments whose translational DOFs are frozen [ default: empty ]\n",
      "            * **params[\"fixed_fragment_rotation\"]** ( list of ints ): the indices (starting from 0)\n",
      "                of the fragments whose rotational DOFs are frozen [ default: empty ]\n",
      "\n"
     ]
    }
   ],
   "source": [
    "help(nve_md.optimize_syst)"
   ]
  },
  {
   "cell_type": "markdown",
   "metadata": {},
   "source": [
    "So an example would be:\n",
    "<a name=\"optimize_syst-2\"></a>"
   ]
  },
  {
   "cell_type": "code",
   "execution_count": 5,
   "metadata": {},
   "outputs": [
    {
     "name": "stdout",
     "output_type": "stream",
     "text": [
      " 11 \n",
      "\n",
      "C  2.423 0.671 -0.025\n",
      "H  3.122 1.714 1.657\n",
      "H  3.145 1.620 -1.752\n",
      "H  0.325 0.728 -0.055\n",
      "C  3.350 -2.059 0.033\n",
      "H  2.666 -3.057 -1.684\n",
      "H  5.450 -2.076 0.019\n",
      "C  2.399 -3.438 2.381\n",
      "H  3.094 -2.480 4.115\n",
      "H  0.300 -3.465 2.406\n",
      "F  3.275 -5.900 2.368\n",
      "\n"
     ]
    }
   ],
   "source": [
    "ann_schedule = [  [20.0, 100, 10],\n",
    "                  [40.0, 100, 10],\n",
    "                  [40.0, 100, 100]\n",
    "]\n",
    "\n",
    "nve_md.optimize_syst(syst, { \"anneal_schedule\":ann_schedule })\n",
    "\n",
    "xyz2 = nve_md.syst2xyz(syst)\n",
    "print(xyz2)"
   ]
  },
  {
   "cell_type": "markdown",
   "metadata": {},
   "source": [
    "Using the initial and final snapshots, lets animate the transition between the two structures"
   ]
  },
  {
   "cell_type": "code",
   "execution_count": 6,
   "metadata": {},
   "outputs": [
    {
     "data": {
      "application/3dmoljs_load.v0": "<div id=\"3dmolviewer_16413485659802988\"  style=\"position: relative; width: 800px; height: 400px\">\n        <p id=\"3dmolwarning_16413485659802988\" style=\"background-color:#ffcccc;color:black\">You appear to be running in JupyterLab (or JavaScript failed to load for some other reason).  You need to install the 3dmol extension: <br>\n        <tt>jupyter labextension install jupyterlab_3dmol</tt></p>\n        </div>\n<script>\n\nvar loadScriptAsync = function(uri){\n  return new Promise((resolve, reject) => {\n    var tag = document.createElement('script');\n    tag.src = uri;\n    tag.async = true;\n    tag.onload = () => {\n      resolve();\n    };\n  var firstScriptTag = document.getElementsByTagName('script')[0];\n  firstScriptTag.parentNode.insertBefore(tag, firstScriptTag);\n});\n};\n\nif(typeof $3Dmolpromise === 'undefined') {\n$3Dmolpromise = null;\n  $3Dmolpromise = loadScriptAsync('https://3dmol.org/build/3Dmol.js');\n}\n\nvar viewer_16413485659802988 = null;\nvar warn = document.getElementById(\"3dmolwarning_16413485659802988\");\nif(warn) {\n    warn.parentNode.removeChild(warn);\n}\n$3Dmolpromise.then(function() {\nviewer_16413485659802988 = $3Dmol.createViewer($(\"#3dmolviewer_16413485659802988\"),{backgroundColor:\"white\"});\nviewer_16413485659802988.zoomTo();\n\tviewer_16413485659802988.setBackgroundColor(\"0xeeeeee\");\n\tviewer_16413485659802988.zoomTo();\n\tviewer_16413485659802988.addModelsAsFrames(\" 11 \\n\\nC  2.409 0.661 0.000\\nH  3.084 1.614 1.652\\nH  3.084 1.614 -1.652\\nH  0.387 0.661 0.000\\nC  3.379 -2.082 0.000\\nH  2.706 -3.035 -1.652\\nH  5.401 -2.082 -0.000\\nC  2.409 -3.454 2.375\\nH  3.086 -2.504 4.027\\nH  0.387 -3.451 2.377\\nF  3.256 -5.860 2.373\\n 11 \\n\\nC  2.423 0.671 -0.025\\nH  3.122 1.714 1.657\\nH  3.145 1.620 -1.752\\nH  0.325 0.728 -0.055\\nC  3.350 -2.059 0.033\\nH  2.666 -3.057 -1.684\\nH  5.450 -2.076 0.019\\nC  2.399 -3.438 2.381\\nH  3.094 -2.480 4.115\\nH  0.300 -3.465 2.406\\nF  3.275 -5.900 2.368\\n\",\"xyz\");\n\tviewer_16413485659802988.setStyle({\"sphere\": {\"colorscheme\": \"Jmol\"}});\n\tviewer_16413485659802988.animate({\"reps\": 0, \"loop\": \"backandforward\", \"step\": 1});\nviewer_16413485659802988.render();\n});\n</script>",
      "text/html": [
       "<div id=\"3dmolviewer_16413485659802988\"  style=\"position: relative; width: 800px; height: 400px\">\n",
       "        <p id=\"3dmolwarning_16413485659802988\" style=\"background-color:#ffcccc;color:black\">You appear to be running in JupyterLab (or JavaScript failed to load for some other reason).  You need to install the 3dmol extension: <br>\n",
       "        <tt>jupyter labextension install jupyterlab_3dmol</tt></p>\n",
       "        </div>\n",
       "<script>\n",
       "\n",
       "var loadScriptAsync = function(uri){\n",
       "  return new Promise((resolve, reject) => {\n",
       "    var tag = document.createElement('script');\n",
       "    tag.src = uri;\n",
       "    tag.async = true;\n",
       "    tag.onload = () => {\n",
       "      resolve();\n",
       "    };\n",
       "  var firstScriptTag = document.getElementsByTagName('script')[0];\n",
       "  firstScriptTag.parentNode.insertBefore(tag, firstScriptTag);\n",
       "});\n",
       "};\n",
       "\n",
       "if(typeof $3Dmolpromise === 'undefined') {\n",
       "$3Dmolpromise = null;\n",
       "  $3Dmolpromise = loadScriptAsync('https://3dmol.org/build/3Dmol.js');\n",
       "}\n",
       "\n",
       "var viewer_16413485659802988 = null;\n",
       "var warn = document.getElementById(\"3dmolwarning_16413485659802988\");\n",
       "if(warn) {\n",
       "    warn.parentNode.removeChild(warn);\n",
       "}\n",
       "$3Dmolpromise.then(function() {\n",
       "viewer_16413485659802988 = $3Dmol.createViewer($(\"#3dmolviewer_16413485659802988\"),{backgroundColor:\"white\"});\n",
       "viewer_16413485659802988.zoomTo();\n",
       "\tviewer_16413485659802988.setBackgroundColor(\"0xeeeeee\");\n",
       "\tviewer_16413485659802988.zoomTo();\n",
       "\tviewer_16413485659802988.addModelsAsFrames(\" 11 \\n\\nC  2.409 0.661 0.000\\nH  3.084 1.614 1.652\\nH  3.084 1.614 -1.652\\nH  0.387 0.661 0.000\\nC  3.379 -2.082 0.000\\nH  2.706 -3.035 -1.652\\nH  5.401 -2.082 -0.000\\nC  2.409 -3.454 2.375\\nH  3.086 -2.504 4.027\\nH  0.387 -3.451 2.377\\nF  3.256 -5.860 2.373\\n 11 \\n\\nC  2.423 0.671 -0.025\\nH  3.122 1.714 1.657\\nH  3.145 1.620 -1.752\\nH  0.325 0.728 -0.055\\nC  3.350 -2.059 0.033\\nH  2.666 -3.057 -1.684\\nH  5.450 -2.076 0.019\\nC  2.399 -3.438 2.381\\nH  3.094 -2.480 4.115\\nH  0.300 -3.465 2.406\\nF  3.275 -5.900 2.368\\n\",\"xyz\");\n",
       "\tviewer_16413485659802988.setStyle({\"sphere\": {\"colorscheme\": \"Jmol\"}});\n",
       "\tviewer_16413485659802988.animate({\"reps\": 0, \"loop\": \"backandforward\", \"step\": 1});\n",
       "viewer_16413485659802988.render();\n",
       "});\n",
       "</script>"
      ]
     },
     "metadata": {},
     "output_type": "display_data"
    }
   ],
   "source": [
    "do_show = 1\n",
    "if do_show:\n",
    "    xyzall = xyz+xyz2\n",
    "\n",
    "    view = py3Dmol.view(width=800,height=400)  # linked=False,viewergrid=(3,2)\\n\n",
    "    view.setBackgroundColor('0xeeeeee')                                     \n",
    "    view.zoomTo()                                                           \n",
    "    view.addModelsAsFrames(xyzall, 'xyz')\n",
    "    view.setStyle({'sphere':{'colorscheme':'Jmol', }})                        \n",
    "    view.animate({'reps':0, 'loop':'backandforward', 'step':1})\n",
    "    view.show() "
   ]
  },
  {
   "cell_type": "markdown",
   "metadata": {},
   "source": [
    "## 3. Capping example\n",
    "<a name=\"3.\"></a>[Back to TOC](#TOC)\n",
    "\n",
    "Let's do all the same, but for the system with the fluorine \"F\" atom removed"
   ]
  },
  {
   "cell_type": "code",
   "execution_count": 7,
   "metadata": {},
   "outputs": [
    {
     "name": "stdout",
     "output_type": "stream",
     "text": [
      "22\n",
      " 10 \n",
      "\n",
      "C  2.409 0.661 0.000\n",
      "H  3.084 1.614 1.652\n",
      "H  3.084 1.614 -1.652\n",
      "H  0.387 0.661 0.000\n",
      "C  3.379 -2.082 0.000\n",
      "H  2.706 -3.035 -1.652\n",
      "H  5.401 -2.082 -0.000\n",
      "C  2.409 -3.454 2.375\n",
      "H  3.086 -2.504 4.027\n",
      "H  0.387 -3.451 2.377\n",
      "\n"
     ]
    }
   ],
   "source": [
    "syst = System()    \n",
    "LoadMolecule.Load_Molecule(U, syst, \"test1b.pdb\", \"pdb_1\")    \n",
    "xyz = nve_md.syst2xyz(syst)\n",
    "print(xyz)"
   ]
  },
  {
   "cell_type": "markdown",
   "metadata": {},
   "source": [
    "Now, lets try to attach a new atom and optimize the resulting structure\n",
    "\n",
    "Beware: if one optimizes the original structure and then adds new atoms and optimize again - this doesn't work correctly.\n",
    "So, for now, we need to first guess the location of the capping atom first, then add it to the system and only then - optimize.\n",
    "<a name=\"CREATE_ATOM-1\"></a><a name=\"LINK_ATOMS-1\"></a>"
   ]
  },
  {
   "cell_type": "code",
   "execution_count": 8,
   "metadata": {},
   "outputs": [
    {
     "name": "stdout",
     "output_type": "stream",
     "text": [
      " 11 \n",
      "\n",
      "C  2.409 0.661 0.000\n",
      "H  3.084 1.614 1.652\n",
      "H  3.084 1.614 -1.652\n",
      "H  0.387 0.661 0.000\n",
      "C  3.379 -2.082 0.000\n",
      "H  2.706 -3.035 -1.652\n",
      "H  5.401 -2.082 -0.000\n",
      "C  2.409 -3.454 2.375\n",
      "H  3.086 -2.504 4.027\n",
      "H  0.387 -3.451 2.377\n",
      "F  0.387 -3.451 -1.402\n",
      "\n"
     ]
    }
   ],
   "source": [
    "rnd = Random()\n",
    "d = 2.0 * units.Angst\n",
    "\n",
    "x, y, z = 0.205* units.Angst,  -1.826* units.Angst,   1.258* units.Angst - d\n",
    "syst.CREATE_ATOM( Atom(U, {\"Atom_element\":\"F\", \"Atom_cm_x\":x, \"Atom_cm_y\":y, \"Atom_cm_z\":z }  )  )\n",
    "syst.LINK_ATOMS(8, 11)\n",
    "\n",
    "xyz0 = nve_md.syst2xyz(syst)\n",
    "print(xyz0)"
   ]
  },
  {
   "cell_type": "markdown",
   "metadata": {},
   "source": [
    "Let's finally optimize the guessed structure.\n",
    "\n",
    "The option `fixed_fragment_translation` is used to not move all the atoms other than the newly added one"
   ]
  },
  {
   "cell_type": "code",
   "execution_count": 9,
   "metadata": {},
   "outputs": [
    {
     "name": "stdout",
     "output_type": "stream",
     "text": [
      " 11 \n",
      "\n",
      "C  2.409 0.661 0.000\n",
      "H  3.084 1.614 1.652\n",
      "H  3.084 1.614 -1.652\n",
      "H  0.387 0.661 0.000\n",
      "C  3.379 -2.082 0.000\n",
      "H  2.706 -3.035 -1.652\n",
      "H  5.401 -2.082 0.000\n",
      "C  2.409 -3.454 2.375\n",
      "H  3.086 -2.504 4.027\n",
      "H  0.387 -3.451 2.377\n",
      "F  3.345 -6.178 2.385\n",
      "\n"
     ]
    }
   ],
   "source": [
    "nve_md.optimize_syst(syst, {\"anneal_schedule\":[ [1.0, 10, 100], [10.0, 10, 100] ], \n",
    "                            \"fixed_fragment_translation\":range(0,10) })\n",
    "xyz3 = nve_md.syst2xyz(syst)\n",
    "print( xyz3)"
   ]
  },
  {
   "cell_type": "markdown",
   "metadata": {},
   "source": [
    "Visualize the result"
   ]
  },
  {
   "cell_type": "code",
   "execution_count": 10,
   "metadata": {},
   "outputs": [
    {
     "data": {
      "application/3dmoljs_load.v0": "<div id=\"3dmolviewer_16413485664454572\"  style=\"position: relative; width: 800px; height: 400px\">\n        <p id=\"3dmolwarning_16413485664454572\" style=\"background-color:#ffcccc;color:black\">You appear to be running in JupyterLab (or JavaScript failed to load for some other reason).  You need to install the 3dmol extension: <br>\n        <tt>jupyter labextension install jupyterlab_3dmol</tt></p>\n        </div>\n<script>\n\nvar loadScriptAsync = function(uri){\n  return new Promise((resolve, reject) => {\n    var tag = document.createElement('script');\n    tag.src = uri;\n    tag.async = true;\n    tag.onload = () => {\n      resolve();\n    };\n  var firstScriptTag = document.getElementsByTagName('script')[0];\n  firstScriptTag.parentNode.insertBefore(tag, firstScriptTag);\n});\n};\n\nif(typeof $3Dmolpromise === 'undefined') {\n$3Dmolpromise = null;\n  $3Dmolpromise = loadScriptAsync('https://3dmol.org/build/3Dmol.js');\n}\n\nvar viewer_16413485664454572 = null;\nvar warn = document.getElementById(\"3dmolwarning_16413485664454572\");\nif(warn) {\n    warn.parentNode.removeChild(warn);\n}\n$3Dmolpromise.then(function() {\nvar viewergrid_16413485664454572 = null;\nviewergrid_16413485664454572 = $3Dmol.createViewerGrid($(\"#3dmolviewer_16413485664454572\"),{rows: 1, cols: 3, control_all: false},{backgroundColor:\"white\"});\nviewer_16413485664454572 = viewergrid_16413485664454572[0][0];\nviewergrid_16413485664454572[0][0].zoomTo();viewergrid_16413485664454572[0][1].zoomTo();viewergrid_16413485664454572[0][2].zoomTo();\tviewergrid_16413485664454572[0][0].setBackgroundColor(\"0xeeeeee\");\n\tviewergrid_16413485664454572[0][1].setBackgroundColor(\"0xeeeeee\");\n\tviewergrid_16413485664454572[0][2].setBackgroundColor(\"0xeeeeee\");\n\tviewergrid_16413485664454572[0][0].zoomTo();\n\tviewergrid_16413485664454572[0][1].zoomTo();\n\tviewergrid_16413485664454572[0][2].zoomTo();\n\tviewergrid_16413485664454572[0][0].addModelsAsFrames(\" 11 \\n\\nC  2.409 0.661 0.000\\nH  3.084 1.614 1.652\\nH  3.084 1.614 -1.652\\nH  0.387 0.661 0.000\\nC  3.379 -2.082 0.000\\nH  2.706 -3.035 -1.652\\nH  5.401 -2.082 -0.000\\nC  2.409 -3.454 2.375\\nH  3.086 -2.504 4.027\\nH  0.387 -3.451 2.377\\nF  0.387 -3.451 -1.402\\n 11 \\n\\nC  2.409 0.661 0.000\\nH  3.084 1.614 1.652\\nH  3.084 1.614 -1.652\\nH  0.387 0.661 0.000\\nC  3.379 -2.082 0.000\\nH  2.706 -3.035 -1.652\\nH  5.401 -2.082 0.000\\nC  2.409 -3.454 2.375\\nH  3.086 -2.504 4.027\\nH  0.387 -3.451 2.377\\nF  3.345 -6.178 2.385\\n\",\"xyz\");\n\tviewergrid_16413485664454572[0][1].addModel(\" 11 \\n\\nC  2.409 0.661 0.000\\nH  3.084 1.614 1.652\\nH  3.084 1.614 -1.652\\nH  0.387 0.661 0.000\\nC  3.379 -2.082 0.000\\nH  2.706 -3.035 -1.652\\nH  5.401 -2.082 -0.000\\nC  2.409 -3.454 2.375\\nH  3.086 -2.504 4.027\\nH  0.387 -3.451 2.377\\nF  0.387 -3.451 -1.402\\n\",\"xyz\",{\"vibrate\": {\"frames\": 10, \"amplitude\": 1.0}});\n\tviewergrid_16413485664454572[0][2].addModel(\" 11 \\n\\nC  2.409 0.661 0.000\\nH  3.084 1.614 1.652\\nH  3.084 1.614 -1.652\\nH  0.387 0.661 0.000\\nC  3.379 -2.082 0.000\\nH  2.706 -3.035 -1.652\\nH  5.401 -2.082 0.000\\nC  2.409 -3.454 2.375\\nH  3.086 -2.504 4.027\\nH  0.387 -3.451 2.377\\nF  3.345 -6.178 2.385\\n\",\"xyz\",{\"vibrate\": {\"frames\": 10, \"amplitude\": 1.0}});\n\tviewergrid_16413485664454572[0][0].setStyle({\"sphere\": {\"colorscheme\": \"Jmol\"}});\n\tviewergrid_16413485664454572[0][1].setStyle({\"sphere\": {\"colorscheme\": \"Jmol\"}});\n\tviewergrid_16413485664454572[0][2].setStyle({\"sphere\": {\"colorscheme\": \"Jmol\"}});\n\tviewergrid_16413485664454572[0][0].animate({\"reps\": 0, \"loop\": \"backandforth\", \"step\": 1});\n\tviewergrid_16413485664454572[0][1].animate({\"reps\": 0, \"loop\": \"backandforth\", \"step\": 1});\n\tviewergrid_16413485664454572[0][2].animate({\"reps\": 0, \"loop\": \"backandforth\", \"step\": 1});\nviewergrid_16413485664454572[0][2].render();\nviewergrid_16413485664454572[0][1].render();\nviewergrid_16413485664454572[0][0].render();\n});\n</script>",
      "text/html": [
       "<div id=\"3dmolviewer_16413485664454572\"  style=\"position: relative; width: 800px; height: 400px\">\n",
       "        <p id=\"3dmolwarning_16413485664454572\" style=\"background-color:#ffcccc;color:black\">You appear to be running in JupyterLab (or JavaScript failed to load for some other reason).  You need to install the 3dmol extension: <br>\n",
       "        <tt>jupyter labextension install jupyterlab_3dmol</tt></p>\n",
       "        </div>\n",
       "<script>\n",
       "\n",
       "var loadScriptAsync = function(uri){\n",
       "  return new Promise((resolve, reject) => {\n",
       "    var tag = document.createElement('script');\n",
       "    tag.src = uri;\n",
       "    tag.async = true;\n",
       "    tag.onload = () => {\n",
       "      resolve();\n",
       "    };\n",
       "  var firstScriptTag = document.getElementsByTagName('script')[0];\n",
       "  firstScriptTag.parentNode.insertBefore(tag, firstScriptTag);\n",
       "});\n",
       "};\n",
       "\n",
       "if(typeof $3Dmolpromise === 'undefined') {\n",
       "$3Dmolpromise = null;\n",
       "  $3Dmolpromise = loadScriptAsync('https://3dmol.org/build/3Dmol.js');\n",
       "}\n",
       "\n",
       "var viewer_16413485664454572 = null;\n",
       "var warn = document.getElementById(\"3dmolwarning_16413485664454572\");\n",
       "if(warn) {\n",
       "    warn.parentNode.removeChild(warn);\n",
       "}\n",
       "$3Dmolpromise.then(function() {\n",
       "var viewergrid_16413485664454572 = null;\n",
       "viewergrid_16413485664454572 = $3Dmol.createViewerGrid($(\"#3dmolviewer_16413485664454572\"),{rows: 1, cols: 3, control_all: false},{backgroundColor:\"white\"});\n",
       "viewer_16413485664454572 = viewergrid_16413485664454572[0][0];\n",
       "viewergrid_16413485664454572[0][0].zoomTo();viewergrid_16413485664454572[0][1].zoomTo();viewergrid_16413485664454572[0][2].zoomTo();\tviewergrid_16413485664454572[0][0].setBackgroundColor(\"0xeeeeee\");\n",
       "\tviewergrid_16413485664454572[0][1].setBackgroundColor(\"0xeeeeee\");\n",
       "\tviewergrid_16413485664454572[0][2].setBackgroundColor(\"0xeeeeee\");\n",
       "\tviewergrid_16413485664454572[0][0].zoomTo();\n",
       "\tviewergrid_16413485664454572[0][1].zoomTo();\n",
       "\tviewergrid_16413485664454572[0][2].zoomTo();\n",
       "\tviewergrid_16413485664454572[0][0].addModelsAsFrames(\" 11 \\n\\nC  2.409 0.661 0.000\\nH  3.084 1.614 1.652\\nH  3.084 1.614 -1.652\\nH  0.387 0.661 0.000\\nC  3.379 -2.082 0.000\\nH  2.706 -3.035 -1.652\\nH  5.401 -2.082 -0.000\\nC  2.409 -3.454 2.375\\nH  3.086 -2.504 4.027\\nH  0.387 -3.451 2.377\\nF  0.387 -3.451 -1.402\\n 11 \\n\\nC  2.409 0.661 0.000\\nH  3.084 1.614 1.652\\nH  3.084 1.614 -1.652\\nH  0.387 0.661 0.000\\nC  3.379 -2.082 0.000\\nH  2.706 -3.035 -1.652\\nH  5.401 -2.082 0.000\\nC  2.409 -3.454 2.375\\nH  3.086 -2.504 4.027\\nH  0.387 -3.451 2.377\\nF  3.345 -6.178 2.385\\n\",\"xyz\");\n",
       "\tviewergrid_16413485664454572[0][1].addModel(\" 11 \\n\\nC  2.409 0.661 0.000\\nH  3.084 1.614 1.652\\nH  3.084 1.614 -1.652\\nH  0.387 0.661 0.000\\nC  3.379 -2.082 0.000\\nH  2.706 -3.035 -1.652\\nH  5.401 -2.082 -0.000\\nC  2.409 -3.454 2.375\\nH  3.086 -2.504 4.027\\nH  0.387 -3.451 2.377\\nF  0.387 -3.451 -1.402\\n\",\"xyz\",{\"vibrate\": {\"frames\": 10, \"amplitude\": 1.0}});\n",
       "\tviewergrid_16413485664454572[0][2].addModel(\" 11 \\n\\nC  2.409 0.661 0.000\\nH  3.084 1.614 1.652\\nH  3.084 1.614 -1.652\\nH  0.387 0.661 0.000\\nC  3.379 -2.082 0.000\\nH  2.706 -3.035 -1.652\\nH  5.401 -2.082 0.000\\nC  2.409 -3.454 2.375\\nH  3.086 -2.504 4.027\\nH  0.387 -3.451 2.377\\nF  3.345 -6.178 2.385\\n\",\"xyz\",{\"vibrate\": {\"frames\": 10, \"amplitude\": 1.0}});\n",
       "\tviewergrid_16413485664454572[0][0].setStyle({\"sphere\": {\"colorscheme\": \"Jmol\"}});\n",
       "\tviewergrid_16413485664454572[0][1].setStyle({\"sphere\": {\"colorscheme\": \"Jmol\"}});\n",
       "\tviewergrid_16413485664454572[0][2].setStyle({\"sphere\": {\"colorscheme\": \"Jmol\"}});\n",
       "\tviewergrid_16413485664454572[0][0].animate({\"reps\": 0, \"loop\": \"backandforth\", \"step\": 1});\n",
       "\tviewergrid_16413485664454572[0][1].animate({\"reps\": 0, \"loop\": \"backandforth\", \"step\": 1});\n",
       "\tviewergrid_16413485664454572[0][2].animate({\"reps\": 0, \"loop\": \"backandforth\", \"step\": 1});\n",
       "viewergrid_16413485664454572[0][2].render();\n",
       "viewergrid_16413485664454572[0][1].render();\n",
       "viewergrid_16413485664454572[0][0].render();\n",
       "});\n",
       "</script>"
      ]
     },
     "metadata": {},
     "output_type": "display_data"
    }
   ],
   "source": [
    "do_show = 1\n",
    "\n",
    "if do_show:    \n",
    "    xyzall2 = xyz0+xyz3\n",
    "\n",
    "    view = py3Dmol.view(width=800,height=400, linked=False,viewergrid=(1,3)) \n",
    "    view.setBackgroundColor('0xeeeeee')                                     \n",
    "    view.zoomTo()                                                           \n",
    "    view.addModelsAsFrames(xyzall2, 'xyz', viewer=(0,0))\n",
    "    view.addModel(xyz0,'xyz',{'vibrate': {'frames':10,'amplitude':1.0}}, viewer=(0,1))\n",
    "    view.addModel(xyz3,'xyz',{'vibrate': {'frames':10,'amplitude':1.0}}, viewer=(0,2))\n",
    "    view.setStyle({'sphere':{'colorscheme':'Jmol', }})                        \n",
    "    view.animate({'reps':0, 'loop':'backandforth', 'step':1})\n",
    "    view.show() "
   ]
  }
 ],
 "metadata": {
  "kernelspec": {
   "display_name": "Python 3",
   "language": "python",
   "name": "python3"
  },
  "language_info": {
   "codemirror_mode": {
    "name": "ipython",
    "version": 3
   },
   "file_extension": ".py",
   "mimetype": "text/x-python",
   "name": "python",
   "nbconvert_exporter": "python",
   "pygments_lexer": "ipython3",
   "version": "3.6.13"
  }
 },
 "nbformat": 4,
 "nbformat_minor": 2
}
